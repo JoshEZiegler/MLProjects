{
 "cells": [
  {
   "cell_type": "code",
   "execution_count": 3,
   "metadata": {
    "collapsed": true
   },
   "outputs": [],
   "source": [
    "import seaborn as sns\n",
    "import pandas as pd\n",
    "import pylab as plt\n",
    "import numpy as np\n",
    "import steam.api\n",
    "import time\n",
    "import os\n",
    "steam.api.key.set('9D3E7E9815B466DACB9B11D45C4E7E50')"
   ]
  },
  {
   "cell_type": "code",
   "execution_count": 6,
   "metadata": {
    "collapsed": true
   },
   "outputs": [],
   "source": [
    "#declare interface urls\n",
    "#dota2_beta should be used for testing in order to not aggressively make API requests\n",
    "dota2_id = '570'\n",
    "dota2_beta_id = '205790'"
   ]
  },
  {
   "cell_type": "markdown",
   "metadata": {},
   "source": [
    "# Get 500 last matches to get approximate hero ratios\n",
    "Need to be careful here so that validation dataset doesn't have crossover with training data. My strategy to eliminate overlap was to start collecting match data for the training set for matches after the oldest match in the validation set"
   ]
  },
  {
   "cell_type": "code",
   "execution_count": 20,
   "metadata": {
    "collapsed": true
   },
   "outputs": [],
   "source": [
    "#get matches data from dota2 API and put IDs into a dataframe\n",
    "num_matches_to_request = 501\n",
    "\n",
    "match_list = []\n",
    "matches = interface('IDOTA2Match_' + dota2_id).GetMatchHistory(game_mode = 1, skill_level = 3, min_players = 10, matches_requested = 100)\n",
    "\n",
    "#@TODO: check if lobby_type is public/ranked matching (0 or 7) before appending\n",
    "[match_list.append(match['match_id']) for match in matches['result']['matches']]\n",
    "\n",
    "current_num = 100\n",
    "\n",
    "while current_num <= num_matches_to_request:\n",
    "    #sleep so we don't overload the servers\n",
    "    time.sleep(1)\n",
    "\n",
    "    current_num += 100\n",
    "    matches = interface('IDOTA2Match_' + dota2_id).GetMatchHistory(start_at_match_id = match_list[-1]-1, game_mode = 1,\n",
    "                                                              skill_level = 3, min_players = 10, matches_requested = 100)\n",
    "\n",
    "    #@TODO: check if lobby_type is public/ranked matching (0 or 7) before appending\n",
    "    [match_list.append(match['match_id']) for match in matches['result']['matches']]\n",
    "\n",
    "    \n",
    "dota2_validation_df = pd.DataFrame()\n",
    "dota2_validation_df['match_id'] = match_list"
   ]
  },
  {
   "cell_type": "code",
   "execution_count": 22,
   "metadata": {
    "collapsed": true
   },
   "outputs": [],
   "source": [
    "#get match details from match_ids obtained\n",
    "#add radiant_win column\n",
    "#add heroes split between dire and radiant\n",
    "\n",
    "radiant_win_column = []\n",
    "radiant_hero_column = []\n",
    "dire_hero_column = []\n",
    "for match_id in dota2_validation_df['match_id']:\n",
    "    time.sleep(1)\n",
    "    match_details = interface('IDOTA2Match_' + dota2_id).GetMatchDetails(match_id = str(match_id))\n",
    "    \n",
    "    radiant_win_column.append(match_details['result']['radiant_win'])\n",
    "    \n",
    "    radiant_hero_row = []\n",
    "    dire_hero_row = []\n",
    "    for player in match_details['result']['players']:\n",
    "        #First bit of 8-bit integer player_slot is 1 if the player was on dire\n",
    "        #so if player was on dire then player_slot > 128\n",
    "        if player['player_slot']/128<1:\n",
    "            radiant_hero_row.append(player['hero_id'])\n",
    "        else:\n",
    "            dire_hero_row.append(player['hero_id'])\n",
    "    \n",
    "    radiant_hero_column.append(radiant_hero_row)\n",
    "    dire_hero_column.append(dire_hero_row)"
   ]
  },
  {
   "cell_type": "code",
   "execution_count": 23,
   "metadata": {
    "collapsed": true
   },
   "outputs": [],
   "source": [
    "#Add radiant_win column to Dataframe\n",
    "dota2_validation_df['radiant_win'] = 1*np.array(radiant_win_column)\n",
    "\n",
    "#Add dire and radiant heroes to DataFrame under their own columns\n",
    "for i in range(len(np.array(radiant_hero_column)[0])):\n",
    "    dota2_validation_df['radiant_heroes'+str(i)] = np.array(radiant_hero_column)[:,i]\n",
    "    dota2_validation_df['dire_heroes'+str(i)] = np.array(dire_hero_column)[:,i]"
   ]
  },
  {
   "cell_type": "code",
   "execution_count": 9,
   "metadata": {},
   "outputs": [],
   "source": [
    "#purge 0 values from hero_id\n",
    "dota2_validation_df = dota2_validation_df_from_file[dota2_validation_df_from_file.radiant_heroes0 != 0]"
   ]
  },
  {
   "cell_type": "code",
   "execution_count": 10,
   "metadata": {
    "collapsed": true
   },
   "outputs": [],
   "source": [
    "#save data to csv file so that we have it on disk\n",
    "dota2_validation_df.to_csv(os.path.join('Dota2Project','dota2_validation_data.csv'))"
   ]
  },
  {
   "cell_type": "code",
   "execution_count": 11,
   "metadata": {},
   "outputs": [
    {
     "name": "stdout",
     "output_type": "stream",
     "text": [
      "     Unnamed: 0    match_id  radiant_win  radiant_heroes0  dire_heroes0  \\\n",
      "0             1  4254709984            0               19            92   \n",
      "1             2  4254708010            1              108            98   \n",
      "2             3  4254707932            0               42             9   \n",
      "3             5  4254706705            1               11            75   \n",
      "4             6  4254706342            0              106            35   \n",
      "5             7  4254705896            1               90            73   \n",
      "6             8  4254705653            1               49            48   \n",
      "7             9  4254705652            0              104            84   \n",
      "8            10  4254705320            1               41            42   \n",
      "9            11  4254705006            1               55            68   \n",
      "10           12  4254704697            1                1            86   \n",
      "11           13  4254704486            1               12            62   \n",
      "12           15  4254704043            1               91           109   \n",
      "13           16  4254703710            1               61            29   \n",
      "14           18  4254703663            1               50             2   \n",
      "15           19  4254702847            0               95             8   \n",
      "16           20  4254702522            0               57            13   \n",
      "17           21  4254702465            1               38            62   \n",
      "18           22  4254702390            1               93            50   \n",
      "19           23  4254702192            1               18            35   \n",
      "20           24  4254702148            0               36            53   \n",
      "21           25  4254702085            1               50           104   \n",
      "22           26  4254701850            0               52            45   \n",
      "23           27  4254701576            1               49             9   \n",
      "24           28  4254701501            1               35            33   \n",
      "25           29  4254701372            1               57            93   \n",
      "26           30  4254701169            1               58            50   \n",
      "27           31  4254701141            1              100            59   \n",
      "28           32  4254701059            0               87           107   \n",
      "29           33  4254701032            0               88            74   \n",
      "..          ...         ...          ...              ...           ...   \n",
      "465         470  4254687597            1              121            25   \n",
      "466         471  4254687585            1               95            86   \n",
      "467         472  4254687573            0               20            50   \n",
      "468         473  4254687565            1               64            48   \n",
      "469         474  4254687515            1               50            17   \n",
      "470         475  4254687507            0               35             8   \n",
      "471         476  4254687497            0                6            10   \n",
      "472         477  4254687495            1               31            11   \n",
      "473         478  4254687489            0               57            93   \n",
      "474         479  4254687487            1               45            41   \n",
      "475         480  4254687437            1               27            26   \n",
      "476         481  4254687419            0               56            44   \n",
      "477         482  4254687416            1               95             8   \n",
      "478         483  4254687408            1               95            14   \n",
      "479         484  4254687397            0               71            27   \n",
      "480         485  4254687396            0                1            92   \n",
      "481         486  4254687381            0              104           101   \n",
      "482         487  4254687361            0               99            93   \n",
      "483         488  4254687357            1               56            28   \n",
      "484         489  4254687342            1               97             1   \n",
      "485         490  4254687314            1               59            14   \n",
      "486         491  4254687297            1               99            64   \n",
      "487         492  4254687296            1                8            31   \n",
      "488         493  4254687287            1                4           107   \n",
      "489         494  4254687259            0               54            16   \n",
      "490         495  4254687258            1               47           112   \n",
      "491         496  4254687241            1               94            46   \n",
      "492         497  4254687240            1               21            15   \n",
      "493         498  4254687229            1               36            41   \n",
      "494         499  4254687217            0               45            47   \n",
      "\n",
      "     radiant_heroes1  dire_heroes1  radiant_heroes2  dire_heroes2  \\\n",
      "0                 22            36               95            42   \n",
      "1                113            19               77           110   \n",
      "2                103            82              102            37   \n",
      "3                 57             3              114             6   \n",
      "4                 26            53                8            14   \n",
      "5                 41            84               14            47   \n",
      "6                 51            72               77            50   \n",
      "7                 49            14               70            39   \n",
      "8                  3           107               37           108   \n",
      "9                 86           120               14            60   \n",
      "10                34            97               23            91   \n",
      "11                71            35               59           100   \n",
      "12                66             1              106            97   \n",
      "13                31            50               63            83   \n",
      "14                47             5               75             6   \n",
      "15                34            30              121            44   \n",
      "16                31            50               10            39   \n",
      "17                72             9              107            90   \n",
      "18                26            74               28            72   \n",
      "19                44            76               34            56   \n",
      "20                62            61                1            23   \n",
      "21                14            59               23            41   \n",
      "22                32            62               74            86   \n",
      "23                72           119               25            74   \n",
      "24                 6           101               53            97   \n",
      "25                15           104               16            98   \n",
      "26                 5            67              114            36   \n",
      "27                21           101               50            10   \n",
      "28                84           104                8             1   \n",
      "29                94            99               98            16   \n",
      "..               ...           ...              ...           ...   \n",
      "465              104            37               74            34   \n",
      "466               39            83               67            47   \n",
      "467               19            44               93            45   \n",
      "468               16            20               44            93   \n",
      "469               22            93               95            42   \n",
      "470              121           113               26            44   \n",
      "471               14            26                2            19   \n",
      "472               28             6               44            26   \n",
      "473               81           104                6           109   \n",
      "474               44            64              114             7   \n",
      "475                1            60               21            36   \n",
      "476               84             1               94            35   \n",
      "477               81            59               64            17   \n",
      "478               35            44               32            26   \n",
      "479                1             6               15            35   \n",
      "480              105            86               36            14   \n",
      "481                6            14               32            86   \n",
      "482              104            42               88            30   \n",
      "483               44            71               32            21   \n",
      "484              101           102               19             7   \n",
      "485               70            91               45            51   \n",
      "486               26            41               95            36   \n",
      "487               39            86               71            35   \n",
      "488               11           103               14            98   \n",
      "489               35            84               18            81   \n",
      "490                7            73               81           109   \n",
      "491                6            35              120            14   \n",
      "492              114            28               22             9   \n",
      "493               20            26               44             7   \n",
      "494               15           114               74             1   \n",
      "\n",
      "     radiant_heroes3  dire_heroes3  radiant_heroes4  dire_heroes4  \n",
      "0                 45            59               88            70  \n",
      "1                 85            52               68            11  \n",
      "2                111           104               99            71  \n",
      "3                 77            69               98            56  \n",
      "4                  5           114               74            98  \n",
      "5                 74           113               62           110  \n",
      "6                 15            79                1            67  \n",
      "7                 62           112               95           114  \n",
      "8                 63            35               93            95  \n",
      "9                 36            89               47           111  \n",
      "10                16           112               26           109  \n",
      "11                95            74               23            67  \n",
      "12                56            46               10           103  \n",
      "13                53           108               41            82  \n",
      "14                97            92               93            44  \n",
      "15                74            35               71            22  \n",
      "16                 2            14               21            93  \n",
      "17                92            13               82            21  \n",
      "18               121            84               44            97  \n",
      "19                17           114                8           100  \n",
      "20               120             2               21            32  \n",
      "21                 5            62                8            85  \n",
      "22                79             7               87            93  \n",
      "23               101            78                8            69  \n",
      "24                43             1               58             8  \n",
      "25                86            94               82             7  \n",
      "26               120            70               93            63  \n",
      "27                35            75               44            93  \n",
      "28                90            25               63            26  \n",
      "29                14            44                8            22  \n",
      "..               ...           ...              ...           ...  \n",
      "465               26            93               67            31  \n",
      "466               25            32               81             3  \n",
      "467               97           111               61            59  \n",
      "468               41            26                5             7  \n",
      "469               14            68                7            84  \n",
      "470               81            86               59            74  \n",
      "471               34            63               50           101  \n",
      "472               85            74               59            81  \n",
      "473               35            99              103            68  \n",
      "474               82            35               61            67  \n",
      "475               78            16               94            61  \n",
      "476              114           101               74            53  \n",
      "477               22             5               48            69  \n",
      "478               70            25                5           106  \n",
      "479                8            39               81            21  \n",
      "480               29            48               30            68  \n",
      "481               84            49               35           109  \n",
      "482               35            89               63             8  \n",
      "483              101             9               14            58  \n",
      "484               59            31               41            61  \n",
      "485               17           104               84           101  \n",
      "486                5            56              100            21  \n",
      "487               36            34               97             2  \n",
      "488               64           113               32            21  \n",
      "489                7            14                2            70  \n",
      "490              106            98                3            21  \n",
      "491               71            21               88            97  \n",
      "492               10           101               32            93  \n",
      "493               82            22               83            71  \n",
      "494               12            41              112            85  \n",
      "\n",
      "[495 rows x 13 columns]\n"
     ]
    }
   ],
   "source": [
    "#Run this if the validation data is needed to allow for proper test_data collection\n",
    "dota2_validation_df_from_file = pd.read_csv(os.path.join('Dota2Project','dota2_validation_data.csv'))\n",
    "print(dota2_validation_df_from_file)"
   ]
  },
  {
   "cell_type": "markdown",
   "metadata": {},
   "source": [
    "# Get 200 matches of each hero id (and trim duplicates)"
   ]
  },
  {
   "cell_type": "code",
   "execution_count": 299,
   "metadata": {
    "collapsed": true
   },
   "outputs": [],
   "source": [
    "hero_list = interface('IEconDOTA2_'+dota2_id).GetHeroes(itemizedonly = True)"
   ]
  },
  {
   "cell_type": "code",
   "execution_count": 306,
   "metadata": {
    "collapsed": true
   },
   "outputs": [],
   "source": [
    "#get matches data from dota2 API and put IDs into a dataframe\n",
    "num_matches_to_request = 200\n",
    "\n",
    "#Loop through all hero_id values\n",
    "#There are 116 heroes, but ids 105, 116-118 are not occupied\n",
    "for i in range(1,hero_list['result']['count']+1):\n",
    "    \n",
    "    #better option is to build a vocabulary\n",
    "    if i == 105:\n",
    "        j = 121\n",
    "    elif i == 115:\n",
    "        j = 120\n",
    "    elif i == 116:\n",
    "        j = 119\n",
    "    else:\n",
    "        j = i\n",
    "\n",
    "    #Get first match for each hero out of loop so that we can pull more than 100 games per hero\n",
    "    #by utilizing start_at_match_id option\n",
    "    matches = interface('IDOTA2Match_' + dota2_id).GetMatchHistory(start_at_match_id = dota2_validation_df_from_file['match_id'][-1], \n",
    "                                                    hero_id = j, game_mode = 1, skill_level = 3, min_players = 10, matches_requested = 1)\n",
    "    \n",
    "    #@TODO: check if lobby_type is public/ranked matching (0 or 7) before appending\n",
    "    [match_list.append(match['match_id']) for match in matches['result']['matches']]\n",
    "    current_num = 1\n",
    "    \n",
    "    while current_num <= num_matches_to_request:\n",
    "        #sleep so we don't overload the servers\n",
    "        time.sleep(1)\n",
    "\n",
    "        current_num += 100\n",
    "        matches = interface('IDOTA2Match_' + dota2_id).GetMatchHistory(hero_id = j,\n",
    "                                                    start_at_match_id = match_list[-1]-1,game_mode = 1,\n",
    "                                                    skill_level = 3, min_players = 10, matches_requested = 100)\n",
    "        \n",
    "        #@TODO: check if lobby_type is public/ranked matching (0 or 7) before appending\n",
    "        [match_list.append(match['match_id']) for match in matches['result']['matches']]"
   ]
  },
  {
   "cell_type": "code",
   "execution_count": 320,
   "metadata": {
    "collapsed": true
   },
   "outputs": [],
   "source": [
    "#Make dataframe of match_id values using dict.fromkeys(list) to remove duplicates\n",
    "dota2_training_df = pd.DataFrame()\n",
    "dota2_training_df['match_id'] = list(dict.fromkeys(match_list))"
   ]
  },
  {
   "cell_type": "code",
   "execution_count": 333,
   "metadata": {
    "collapsed": true
   },
   "outputs": [],
   "source": [
    "#get match details from match_ids obtained\n",
    "#add radiant_win column\n",
    "#add heroes split between dire and radiant\n",
    "\n",
    "#radiant_win_column = []\n",
    "#radiant_hero_column = []\n",
    "#dire_hero_column = []\n",
    "\n",
    "for i,match_id in enumerate(dota2_training_df['match_id'][266:]):\n",
    "    time.sleep(1)\n",
    "    match_details = interface('IDOTA2Match_' + dota2_id).GetMatchDetails(match_id = str(match_id))\n",
    "    \n",
    "    try:\n",
    "        radiant_win_column.append(match_details['result']['radiant_win'])\n",
    "    except:\n",
    "        print('server error at match_id:' + str(match_id))\n",
    "        print('element:' + str(i))\n",
    "        break\n",
    "    \n",
    "    radiant_hero_row = []\n",
    "    dire_hero_row = []\n",
    "    for player in match_details['result']['players']:\n",
    "        #First bit of 8-bit integer player_slot is 1 if the player was on dire\n",
    "        #so if player was on dire then player_slot > 128\n",
    "        if player['player_slot']/128<1:\n",
    "            radiant_hero_row.append(player['hero_id'])\n",
    "        else:\n",
    "            dire_hero_row.append(player['hero_id'])\n",
    "    \n",
    "    radiant_hero_column.append(radiant_hero_row)\n",
    "    dire_hero_column.append(dire_hero_row)"
   ]
  },
  {
   "cell_type": "code",
   "execution_count": 367,
   "metadata": {},
   "outputs": [
    {
     "name": "stdout",
     "output_type": "stream",
     "text": [
      "0\n",
      "1\n",
      "2\n",
      "3\n",
      "4\n"
     ]
    }
   ],
   "source": [
    "#Add radiant_win column to Dataframe\n",
    "dota2_training_df['radiant_win'] = 1*np.array(radiant_win_column)\n",
    "\n",
    "#Add dire and radiant heroes to DataFrame under their own columns\n",
    "for i in range(len(np.array(radiant_hero_column)[1])):\n",
    "    print(i)\n",
    "    dota2_training_df['radiant_heroes'+str(i)] = np.array(radiant_hero_column)[:,i]\n",
    "    dota2_training_df['dire_heroes'+str(i)] = np.array(dire_hero_column)[:,i]"
   ]
  },
  {
   "cell_type": "code",
   "execution_count": 5,
   "metadata": {
    "collapsed": true
   },
   "outputs": [],
   "source": [
    "#purge 0 values from hero_id\n",
    "dota2_training_df = dota2_training_df[dota2_training_df.radiant_heroes0 != 0]"
   ]
  },
  {
   "cell_type": "code",
   "execution_count": 6,
   "metadata": {},
   "outputs": [],
   "source": [
    "#save data to csv file so we have it on disk\n",
    "dota2_training_df.to_csv(os.path.join('Dota2Project','dota2_training_data.csv'))"
   ]
  },
  {
   "cell_type": "code",
   "execution_count": 4,
   "metadata": {},
   "outputs": [],
   "source": [
    "dota2_training_df = pd.read_csv(os.path.join('Dota2Project','dota2_training_data.csv'))"
   ]
  },
  {
   "cell_type": "code",
   "execution_count": null,
   "metadata": {
    "collapsed": true
   },
   "outputs": [],
   "source": []
  }
 ],
 "metadata": {
  "kernelspec": {
   "display_name": "Python 3",
   "language": "python",
   "name": "python3"
  },
  "language_info": {
   "codemirror_mode": {
    "name": "ipython",
    "version": 3
   },
   "file_extension": ".py",
   "mimetype": "text/x-python",
   "name": "python",
   "nbconvert_exporter": "python",
   "pygments_lexer": "ipython3",
   "version": "3.6.7"
  }
 },
 "nbformat": 4,
 "nbformat_minor": 2
}
