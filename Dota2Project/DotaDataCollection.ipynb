{
 "cells": [
  {
   "cell_type": "code",
   "execution_count": 30,
   "metadata": {
    "ExecuteTime": {
     "end_time": "2018-12-06T02:04:00.349530Z",
     "start_time": "2018-12-06T02:04:00.342945Z"
    }
   },
   "outputs": [],
   "source": [
    "import seaborn as sns\n",
    "import pandas as pd\n",
    "import pylab as plt\n",
    "import numpy as np\n",
    "import steam.api\n",
    "from steam.api import interface\n",
    "import time\n",
    "import os\n",
    "import glob\n",
    "import json\n",
    "steam.api.key.set('9D3E7E9815B466DACB9B11D45C4E7E50')"
   ]
  },
  {
   "cell_type": "code",
   "execution_count": 3,
   "metadata": {
    "ExecuteTime": {
     "end_time": "2018-12-05T19:52:10.259992Z",
     "start_time": "2018-12-05T19:52:10.255971Z"
    },
    "collapsed": true
   },
   "outputs": [],
   "source": [
    "#declare interface urls\n",
    "#dota2_beta should be used for testing in order to not aggressively make API requests\n",
    "dota2_id = '570'\n",
    "dota2_beta_id = '205790'"
   ]
  },
  {
   "cell_type": "markdown",
   "metadata": {},
   "source": [
    "# Get 500 last matches to get approximate hero ratios\n",
    "Need to be careful here so that test dataset doesn't have crossover with training data. My strategy to eliminate overlap was to start collecting match data for the training set for matches after the oldest match in the test set. To get around the 500 match retrieval limit I save 500 at a time to a .csv with a filename that has the start and end match_id. This means I can get 500, wait a bit, then get 500 more that are guarenteed to not have overlap. \n",
    "\n",
    "How long do I have to wait to get 500 more?? Unclear and was unable to find documentation. Thanks Valve."
   ]
  },
  {
   "cell_type": "code",
   "execution_count": 46,
   "metadata": {
    "ExecuteTime": {
     "end_time": "2018-12-06T02:24:00.989592Z",
     "start_time": "2018-12-06T02:23:54.612418Z"
    }
   },
   "outputs": [
    {
     "name": "stdout",
     "output_type": "stream",
     "text": [
      "46\n"
     ]
    },
    {
     "ename": "KeyboardInterrupt",
     "evalue": "",
     "output_type": "error",
     "traceback": [
      "\u001b[0;31m---------------------------------------------------------------------------\u001b[0m",
      "\u001b[0;31mKeyboardInterrupt\u001b[0m                         Traceback (most recent call last)",
      "\u001b[0;32m<ipython-input-46-9359ad3c96b6>\u001b[0m in \u001b[0;36m<module>\u001b[0;34m()\u001b[0m\n\u001b[1;32m     19\u001b[0m \u001b[0;32mwhile\u001b[0m \u001b[0mcurrent_num\u001b[0m \u001b[0;34m<=\u001b[0m \u001b[0mnum_matches_to_request\u001b[0m\u001b[0;34m:\u001b[0m\u001b[0;34m\u001b[0m\u001b[0m\n\u001b[1;32m     20\u001b[0m     \u001b[0;31m#sleep so we don't overload the servers\u001b[0m\u001b[0;34m\u001b[0m\u001b[0;34m\u001b[0m\u001b[0m\n\u001b[0;32m---> 21\u001b[0;31m     \u001b[0mtime\u001b[0m\u001b[0;34m.\u001b[0m\u001b[0msleep\u001b[0m\u001b[0;34m(\u001b[0m\u001b[0;36m1\u001b[0m\u001b[0;34m)\u001b[0m\u001b[0;34m\u001b[0m\u001b[0m\n\u001b[0m\u001b[1;32m     22\u001b[0m \u001b[0;34m\u001b[0m\u001b[0m\n\u001b[1;32m     23\u001b[0m     \u001b[0mcurrent_num\u001b[0m \u001b[0;34m+=\u001b[0m \u001b[0;36m100\u001b[0m\u001b[0;34m\u001b[0m\u001b[0m\n",
      "\u001b[0;31mKeyboardInterrupt\u001b[0m: "
     ]
    }
   ],
   "source": [
    "#get matches data from dota2 API and put IDs into a dataframe\n",
    "num_matches_to_request = 500\n",
    "\n",
    "match_list = []\n",
    "\n",
    "#put a start match_id if I'm trying to get more matches after getting 500\n",
    "#if trying to load starting from a match_id previously obtained and saved\n",
    "use arg: start_at_match_id = old_match_list[-1]-1\n",
    "matches = interface('IDOTA2Match_' + dota2_id).GetMatchHistory(game_mode = 1,\n",
    "                                                               skill_level = 3,\n",
    "                                                               min_players = 10,\n",
    "                                                               matches_requested = 100)\n",
    "\n",
    "#@TODO: check if lobby_type is public/ranked matching (0 or 7) before appending\n",
    "[match_list.append(match['match_id']) for match in matches['result']['matches']]\n",
    "print(len(match_list))\n",
    "\n",
    "current_num = 100\n",
    "\n",
    "while current_num <= num_matches_to_request:\n",
    "    #sleep so we don't overload the servers\n",
    "    time.sleep(1)\n",
    "                \n",
    "    current_num += 100\n",
    "    matches = interface('IDOTA2Match_' + dota2_id).GetMatchHistory(start_at_match_id = match_list[-1]-1,\n",
    "                                                                   game_mode = 1,\n",
    "                                                                   skill_level = 3,\n",
    "                                                                   min_players = 10,\n",
    "                                                                   matches_requested = 100)\n",
    "\n",
    "    #@TODO: check if lobby_type is public/ranked matching (0 or 7) before appending\n",
    "    [match_list.append(match['match_id']) for match in matches['result']['matches']]\n",
    "\n",
    "    \n",
    "dota2_test_df = pd.DataFrame()\n",
    "dota2_test_df['match_id'] = match_list"
   ]
  },
  {
   "cell_type": "code",
   "execution_count": 12,
   "metadata": {
    "ExecuteTime": {
     "end_time": "2018-12-06T01:55:03.676734Z",
     "start_time": "2018-12-06T01:44:20.626364Z"
    },
    "collapsed": true
   },
   "outputs": [],
   "source": [
    "#get match details from match_ids obtained\n",
    "#add radiant_win column\n",
    "#add heroes split between dire and radiant\n",
    "\n",
    "radiant_win_column = []\n",
    "radiant_hero_column = []\n",
    "dire_hero_column = []\n",
    "for match_id in dota2_test_df['match_id']:\n",
    "    time.sleep(1)\n",
    "    match_details = interface('IDOTA2Match_' + dota2_id).GetMatchDetails(match_id = str(match_id))\n",
    "    \n",
    "    radiant_win_column.append(match_details['result']['radiant_win'])\n",
    "    \n",
    "    radiant_hero_row = []\n",
    "    dire_hero_row = []\n",
    "    for player in match_details['result']['players']:\n",
    "        #First bit of 8-bit integer player_slot is 1 if the player was on dire\n",
    "        #so if player was on dire then player_slot > 128\n",
    "        if player['player_slot']/128<1:\n",
    "            radiant_hero_row.append(player['hero_id'])\n",
    "        else:\n",
    "            dire_hero_row.append(player['hero_id'])\n",
    "    \n",
    "    radiant_hero_column.append(radiant_hero_row)\n",
    "    dire_hero_column.append(dire_hero_row)"
   ]
  },
  {
   "cell_type": "code",
   "execution_count": 13,
   "metadata": {
    "ExecuteTime": {
     "end_time": "2018-12-06T01:55:03.696326Z",
     "start_time": "2018-12-06T01:55:03.679081Z"
    },
    "collapsed": true
   },
   "outputs": [],
   "source": [
    "#Add radiant_win column to Dataframe\n",
    "dota2_test_df['radiant_win'] = 1*np.array(radiant_win_column)\n",
    "\n",
    "#Add dire and radiant heroes to DataFrame under their own columns\n",
    "for i in range(len(np.array(radiant_hero_column)[0])):\n",
    "    dota2_test_df['radiant_heroes'+str(i)] = np.array(radiant_hero_column)[:,i]\n",
    "    dota2_test_df['dire_heroes'+str(i)] = np.array(dire_hero_column)[:,i]"
   ]
  },
  {
   "cell_type": "code",
   "execution_count": 28,
   "metadata": {
    "ExecuteTime": {
     "end_time": "2018-12-06T02:01:12.153273Z",
     "start_time": "2018-12-06T02:01:12.134217Z"
    }
   },
   "outputs": [],
   "source": [
    "#save data to csv file so that we have it on disk\n",
    "dota2_test_df.to_csv(os.path.join('dota2_test_data',\n",
    "                                        str(dota2_test_df['match_id'][0])+\n",
    "                                        '-'+\n",
    "                                        str(dota2_test_df['match_id'][499])+'.csv'))"
   ]
  },
  {
   "cell_type": "markdown",
   "metadata": {},
   "source": [
    "# Load test data that is newest for match_id checking"
   ]
  },
  {
   "cell_type": "code",
   "execution_count": 127,
   "metadata": {
    "ExecuteTime": {
     "end_time": "2018-12-06T07:01:03.272713Z",
     "start_time": "2018-12-06T07:01:03.256113Z"
    }
   },
   "outputs": [],
   "source": [
    "#Run this if the test data is needed to allow for proper test_data collection\n",
    "#load newest file so that last_match_id is accurate? Unclear if this is the best strategy... \n",
    "#maybe should look at loading all then looking at match_id\n",
    "dota2_data_files = glob.glob(os.path.join('dota2_test_data','*.csv'))\n",
    "dota2_data_files.sort(key=os.path.getmtime)\n",
    "\n",
    "dota2_test_df_from_file = pd.read_csv(dota2_data_files[0], usecols=range(1,13))\n",
    "dota2_test_df_from_file.style\n",
    "\n",
    "#purge 0 values from hero_id\n",
    "dota2_test_df_from_file = dota2_test_df_from_file[dota2_test_df_from_file.radiant_heroes0 != 0]\n",
    "\n",
    "#make old_match_list for easy checking of match_id\n",
    "old_match_list = list(dota2_test_df_from_file['match_id'])"
   ]
  },
  {
   "cell_type": "markdown",
   "metadata": {},
   "source": [
    "# Get 500 matches of each hero id (and trim duplicates)"
   ]
  },
  {
   "cell_type": "code",
   "execution_count": 128,
   "metadata": {
    "ExecuteTime": {
     "end_time": "2018-12-06T07:01:19.890120Z",
     "start_time": "2018-12-06T07:01:19.885904Z"
    },
    "collapsed": true
   },
   "outputs": [],
   "source": [
    "hero_list = interface('IEconDOTA2_'+dota2_id).GetHeroes(itemizedonly = True)"
   ]
  },
  {
   "cell_type": "code",
   "execution_count": 140,
   "metadata": {
    "ExecuteTime": {
     "end_time": "2018-12-06T07:12:27.220798Z",
     "start_time": "2018-12-06T07:12:27.195420Z"
    }
   },
   "outputs": [
    {
     "name": "stdout",
     "output_type": "stream",
     "text": [
      "No matches returned\n",
      "Wait a bit and retry\n",
      "\n",
      "    GabeN Bless\n"
     ]
    }
   ],
   "source": [
    "#get matches data from dota2 API and put IDs into a dataframe\n",
    "num_matches_to_request = 500\n",
    "\n",
    "match_list = []\n",
    "#Loop through all hero_id values\n",
    "#There are 116 heroes, but ids 105, 116-118 are not occupied\n",
    "for i in range(1,hero_list['result']['count']+1):\n",
    "    \n",
    "    #better option is to build a vocabulary\n",
    "    if i == 105:\n",
    "        j = 121\n",
    "    elif i == 115:\n",
    "        j = 120\n",
    "    elif i == 116:\n",
    "        j = 119\n",
    "    else:\n",
    "        j = i\n",
    "\n",
    "    #Get first match for each hero out of loop so that we can pull more than 100 games per hero\n",
    "    #by utilizing start_at_match_id option\n",
    "    matches = interface('IDOTA2Match_' + dota2_id).GetMatchHistory(start_at_match_id = old_match_list[-1], \n",
    "                                                    hero_id = j, game_mode = 1, skill_level = 3, min_players = 10, matches_requested = 1)\n",
    "    \n",
    "    if len(match_list)==0:\n",
    "        print('No matches returned\\nWait a bit and retry\\n\\n    GabeN Bless')\n",
    "        break\n",
    "    #@TODO: check if lobby_type is public/ranked matching (0 or 7) before appending\n",
    "    [match_list.append(match['match_id']) for match in matches['result']['matches']]\n",
    "    current_num = 1\n",
    "    \n",
    "    print('hero '+str(i))\n",
    "    print('matches '+str(len(match_list)))\n",
    "    \n",
    "    while current_num <= num_matches_to_request:\n",
    "        #sleep so we don't overload the servers\n",
    "        time.sleep(1)\n",
    "\n",
    "        current_num += 100\n",
    "        matches = interface('IDOTA2Match_' + dota2_id).GetMatchHistory(hero_id = j,\n",
    "                                                    start_at_match_id = match_list[-1]-1,game_mode = 1,\n",
    "                                                    skill_level = 3, min_players = 10, matches_requested = 100)\n",
    "        \n",
    "        #@TODO: check if lobby_type is public/ranked matching (0 or 7) before appending\n",
    "        [match_list.append(match['match_id']) for match in matches[i]['result']['matches']]"
   ]
  },
  {
   "cell_type": "code",
   "execution_count": null,
   "metadata": {
    "collapsed": true
   },
   "outputs": [],
   "source": []
  },
  {
   "cell_type": "code",
   "execution_count": 51,
   "metadata": {
    "ExecuteTime": {
     "end_time": "2018-12-06T02:50:55.587757Z",
     "start_time": "2018-12-06T02:50:55.580822Z"
    },
    "collapsed": true
   },
   "outputs": [],
   "source": [
    "#Make dataframe of match_id values using dict.fromkeys(list) to remove duplicates\n",
    "dota2_training_df = pd.DataFrame()\n",
    "dota2_training_df['match_id'] = list(dict.fromkeys(match_list))\n",
    "len(dota2_training_df)"
   ]
  },
  {
   "cell_type": "code",
   "execution_count": 98,
   "metadata": {
    "ExecuteTime": {
     "end_time": "2018-12-06T06:11:35.613757Z",
     "start_time": "2018-12-06T05:41:18.744462Z"
    }
   },
   "outputs": [],
   "source": [
    "#get match details from match_ids obtained\n",
    "#add radiant_win column\n",
    "#add heroes split between dire and radiant\n",
    "\n",
    "radiant_win_column = []\n",
    "radiant_hero_column = []\n",
    "dire_hero_column = []\n",
    "match_details = []\n",
    "\n",
    "for i,match_id in enumerate(dota2_training_df['match_id']):\n",
    "    time.sleep(1)\n",
    "    match_details.append(interface('IDOTA2Match_' + dota2_id).GetMatchDetails(match_id = str(match_id)))\n",
    "    \n",
    "    try:\n",
    "        radiant_win_column.append(match_details[i]['result']['radiant_win'])\n",
    "    except:\n",
    "        print('server error at match_id: ' + str(match_id))\n",
    "        print('element:' + str(i))\n",
    "        break\n",
    "    \n",
    "    radiant_hero_row = []\n",
    "    dire_hero_row = []\n",
    "    for player in match_details[i]['result']['players']:\n",
    "        #First bit of 8-bit integer player_slot is 1 if the player was on dire\n",
    "        #so if player was on dire then player_slot > 128\n",
    "        if player['player_slot']/128<1:\n",
    "            radiant_hero_row.append(player['hero_id'])\n",
    "        else:\n",
    "            dire_hero_row.append(player['hero_id'])\n",
    "    \n",
    "    radiant_hero_column.append(radiant_hero_row)\n",
    "    dire_hero_column.append(dire_hero_row)"
   ]
  },
  {
   "cell_type": "code",
   "execution_count": 113,
   "metadata": {
    "ExecuteTime": {
     "end_time": "2018-12-06T06:46:03.338708Z",
     "start_time": "2018-12-06T06:46:03.331591Z"
    }
   },
   "outputs": [],
   "source": [
    "match_details = match_details[-len(dota2_training_df['match_id'])-1:-1]\n",
    "radiant_win_column = radiant_win_column[-len(dota2_training_df['match_id'])-1:-1]\n",
    "radiant_hero_column = radiant_hero_column[-len(dota2_training_df['match_id'])-1:-1]\n",
    "dire_hero_column = dire_hero_column[-len(dota2_training_df['match_id'])-1:-1]"
   ]
  },
  {
   "cell_type": "code",
   "execution_count": 114,
   "metadata": {
    "ExecuteTime": {
     "end_time": "2018-12-06T06:46:07.608430Z",
     "start_time": "2018-12-06T06:46:07.581631Z"
    }
   },
   "outputs": [
    {
     "name": "stdout",
     "output_type": "stream",
     "text": [
      "0\n",
      "1\n",
      "2\n",
      "3\n",
      "4\n"
     ]
    }
   ],
   "source": [
    "#Add radiant_win column to Dataframe\n",
    "dota2_training_df['radiant_win'] = 1*np.array(radiant_win_column)\n",
    "\n",
    "#Add dire and radiant heroes to DataFrame under their own columns\n",
    "for i in range(len(np.array(radiant_hero_column)[1])):\n",
    "    print(i)\n",
    "    dota2_training_df['radiant_heroes'+str(i)] = np.array(radiant_hero_column)[:,i]\n",
    "    dota2_training_df['dire_heroes'+str(i)] = np.array(dire_hero_column)[:,i]"
   ]
  },
  {
   "cell_type": "code",
   "execution_count": 115,
   "metadata": {
    "ExecuteTime": {
     "end_time": "2018-12-06T06:46:14.320971Z",
     "start_time": "2018-12-06T06:46:14.314082Z"
    },
    "collapsed": true
   },
   "outputs": [],
   "source": [
    "#purge 0 values from hero_id\n",
    "dota2_training_df = dota2_training_df[dota2_training_df.radiant_heroes0 != 0]"
   ]
  },
  {
   "cell_type": "code",
   "execution_count": 116,
   "metadata": {
    "ExecuteTime": {
     "end_time": "2018-12-06T06:46:17.820203Z",
     "start_time": "2018-12-06T06:46:17.778169Z"
    },
    "collapsed": true
   },
   "outputs": [],
   "source": [
    "#save data to csv file so we have it on disk\n",
    "dota2_training_df.to_csv(os.path.join('dota2_training_data',\n",
    "                                        str(dota2_training_df['match_id'][0])+\n",
    "                                        '-'+\n",
    "                                        str(dota2_training_df['match_id'][499])+'.csv'))"
   ]
  },
  {
   "cell_type": "code",
   "execution_count": 4,
   "metadata": {
    "collapsed": true
   },
   "outputs": [],
   "source": [
    "dota2_training_df = pd.read_csv(os.path.join('Dota2Project','dota2_training_data.csv'))"
   ]
  },
  {
   "cell_type": "code",
   "execution_count": 126,
   "metadata": {
    "ExecuteTime": {
     "end_time": "2018-12-06T07:00:06.999551Z",
     "start_time": "2018-12-06T07:00:06.957702Z"
    }
   },
   "outputs": [],
   "source": [
    "outfile = os.path.join('dota2_training_data',\n",
    "                                        'match_id'+\n",
    "                                        str(dota2_training_df['match_id'][0])+\n",
    "                                        '-'+\n",
    "                                        str(dota2_training_df['match_id'][499])+\n",
    "                                        '.json'\n",
    "                      )\n",
    "\n",
    "match_details_dict_list = [dict(match_detail) for match_detail in match_details]\n",
    "import json\n",
    "with open(outfile, 'w') as fout:\n",
    "    json.dump(match_details_dict_list, fout)"
   ]
  }
 ],
 "metadata": {
  "kernelspec": {
   "display_name": "Python 3",
   "language": "python",
   "name": "python3"
  },
  "language_info": {
   "codemirror_mode": {
    "name": "ipython",
    "version": 3
   },
   "file_extension": ".py",
   "mimetype": "text/x-python",
   "name": "python",
   "nbconvert_exporter": "python",
   "pygments_lexer": "ipython3",
   "version": "3.6.1"
  }
 },
 "nbformat": 4,
 "nbformat_minor": 2
}
