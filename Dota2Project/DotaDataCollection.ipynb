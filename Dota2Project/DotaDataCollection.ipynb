{
 "cells": [
  {
   "cell_type": "code",
   "execution_count": 1,
   "metadata": {
    "ExecuteTime": {
     "end_time": "2018-12-07T03:22:46.027726Z",
     "start_time": "2018-12-07T03:22:44.201783Z"
    },
    "collapsed": true
   },
   "outputs": [],
   "source": [
    "import seaborn as sns\n",
    "import pandas as pd\n",
    "import pylab as plt\n",
    "import numpy as np\n",
    "import steam.api\n",
    "from steam.api import interface\n",
    "import time\n",
    "import os\n",
    "import glob\n",
    "import json\n",
    "\n",
    "#dont keep api key in github!!!\n",
    "api_path = os.path.join('..','steam_api','steam_api_key.txt')\n",
    "with open(api_file, 'r') as fin:\n",
    "    steam.api.key.set(api_file.readline())"
   ]
  },
  {
   "cell_type": "code",
   "execution_count": 2,
   "metadata": {
    "ExecuteTime": {
     "end_time": "2018-12-07T03:22:46.476418Z",
     "start_time": "2018-12-07T03:22:46.472951Z"
    },
    "collapsed": true
   },
   "outputs": [],
   "source": [
    "#declare interface urls\n",
    "#dota2_beta should be used for testing in order to not aggressively make API requests\n",
    "dota2_id = '570'\n",
    "dota2_beta_id = '205790'"
   ]
  },
  {
   "cell_type": "markdown",
   "metadata": {},
   "source": [
    "# Get 500 last matches to get approximate hero ratios\n",
    "Need to be careful here so that test dataset doesn't have crossover with training data. My strategy to eliminate overlap was to start collecting match data for the training set for matches after the oldest match in the test set. To get around the 500 match retrieval limit I save 500 at a time to a .csv with a filename that has the start and end match_id. This means I can get 500, wait a bit, then get 500 more that are guarenteed to not have overlap. \n",
    "\n",
    "How long do I have to wait to get 500 more?? Unclear and was unable to find documentation. Thanks Valve."
   ]
  },
  {
   "cell_type": "code",
   "execution_count": 22,
   "metadata": {
    "ExecuteTime": {
     "end_time": "2018-12-07T03:30:22.275349Z",
     "start_time": "2018-12-07T03:30:15.104940Z"
    }
   },
   "outputs": [],
   "source": [
    "#get matches data from dota2 API and put IDs into a dataframe\n",
    "num_matches_to_request = 500\n",
    "\n",
    "match_list = []\n",
    "\n",
    "#put a start match_id if I'm trying to get more matches after getting 500\n",
    "#if trying to load starting from a match_id previously obtained and saved\n",
    "#use arg: start_at_match_id = old_match_list[-1]-1\n",
    "matches = interface('IDOTA2Match_' + dota2_id).GetMatchHistory(hero_id = 121,\n",
    "                                                               game_mode = 1,\n",
    "                                                               skill_level = 3,\n",
    "                                                               min_players = 10,\n",
    "                                                               matches_requested = 100)\n",
    "\n",
    "\n",
    "\n",
    "\n",
    "#@TODO: check if lobby_type is public/ranked matching (0 or 7) before appending\n",
    "[match_list.append(match['match_id']) for match in matches['result']['matches']]\n",
    "\n",
    "current_num = 100\n",
    "\n",
    "while current_num <= num_matches_to_request:\n",
    "    \n",
    "    #check that match request returned any matches before trying to get more\n",
    "    if len(match_list)==0:\n",
    "        print('No matches returned\\nWait a bit and retry\\n\\n    GabeN Bless')\n",
    "    \n",
    "    #sleep so we don't overload the servers\n",
    "    time.sleep(1)\n",
    "                \n",
    "    current_num += 100\n",
    "    matches = interface('IDOTA2Match_' + dota2_id).GetMatchHistory(start_at_match_id = match_list[-1]-1,\n",
    "                                                                   game_mode = 1,\n",
    "                                                                   skill_level = 3,\n",
    "                                                                   min_players = 10,\n",
    "                                                                   matches_requested = 100)\n",
    "\n",
    "    #@TODO: check if lobby_type is public/ranked matching (0 or 7) before appending\n",
    "    [match_list.append(match['match_id']) for match in matches['result']['matches']]\n",
    "\n",
    "    \n",
    "dota2_test_df = pd.DataFrame()\n",
    "dota2_test_df['match_id'] = match_list"
   ]
  },
  {
   "cell_type": "code",
   "execution_count": 12,
   "metadata": {
    "ExecuteTime": {
     "end_time": "2018-12-06T01:55:03.676734Z",
     "start_time": "2018-12-06T01:44:20.626364Z"
    },
    "collapsed": true
   },
   "outputs": [],
   "source": [
    "#get match details from match_ids obtained\n",
    "#add radiant_win column\n",
    "#add heroes split between dire and radiant\n",
    "\n",
    "radiant_win_column = []\n",
    "radiant_hero_column = []\n",
    "dire_hero_column = []\n",
    "match_details = []\n",
    "\n",
    "for match_id in dota2_test_df['match_id']:\n",
    "    time.sleep(1)\n",
    "    match_details.append(interface('IDOTA2Match_' + dota2_id).GetMatchDetails(match_id = str(match_id)))\n",
    "    \n",
    "    radiant_win_column.append(match_details['result']['radiant_win'])\n",
    "    \n",
    "    radiant_hero_row = []\n",
    "    dire_hero_row = []\n",
    "    for player in match_details['result']['players']:\n",
    "        #First bit of 8-bit integer player_slot is 1 if the player was on dire\n",
    "        #so if player was on dire then player_slot > 128\n",
    "        if player['player_slot']/128<1:\n",
    "            radiant_hero_row.append(player['hero_id'])\n",
    "        else:\n",
    "            dire_hero_row.append(player['hero_id'])\n",
    "    \n",
    "    radiant_hero_column.append(radiant_hero_row)\n",
    "    dire_hero_column.append(dire_hero_row)"
   ]
  },
  {
   "cell_type": "code",
   "execution_count": 13,
   "metadata": {
    "ExecuteTime": {
     "end_time": "2018-12-06T01:55:03.696326Z",
     "start_time": "2018-12-06T01:55:03.679081Z"
    },
    "collapsed": true
   },
   "outputs": [],
   "source": [
    "#Add radiant_win column to Dataframe\n",
    "dota2_test_df['radiant_win'] = 1*np.array(radiant_win_column)\n",
    "\n",
    "#Add dire and radiant heroes to DataFrame under their own columns\n",
    "for i in range(len(np.array(radiant_hero_column)[0])):\n",
    "    dota2_test_df['radiant_heroes'+str(i)] = np.array(radiant_hero_column)[:,i]\n",
    "    dota2_test_df['dire_heroes'+str(i)] = np.array(dire_hero_column)[:,i]"
   ]
  },
  {
   "cell_type": "code",
   "execution_count": 28,
   "metadata": {
    "ExecuteTime": {
     "end_time": "2018-12-06T02:01:12.153273Z",
     "start_time": "2018-12-06T02:01:12.134217Z"
    },
    "collapsed": true
   },
   "outputs": [],
   "source": [
    "#save data to csv file so that we have it on disk\n",
    "dota2_test_df.to_csv(os.path.join('dota2_test_data',\n",
    "                                        str(dota2_test_df['match_id'][0])+\n",
    "                                        '-'+\n",
    "                                        str(dota2_test_df['match_id'][499])+'.csv'))"
   ]
  },
  {
   "cell_type": "markdown",
   "metadata": {},
   "source": [
    "# Load test data that is newest for match_id checking"
   ]
  },
  {
   "cell_type": "code",
   "execution_count": 127,
   "metadata": {
    "ExecuteTime": {
     "end_time": "2018-12-06T07:01:03.272713Z",
     "start_time": "2018-12-06T07:01:03.256113Z"
    },
    "collapsed": true
   },
   "outputs": [],
   "source": [
    "#Run this if the test data is needed to allow for proper test_data collection\n",
    "#load newest file so that last_match_id is accurate? Unclear if this is the best strategy... \n",
    "#maybe should look at loading all then looking at match_id\n",
    "dota2_data_files = glob.glob(os.path.join('dota2_test_data','*.csv'))\n",
    "dota2_data_files.sort(key=os.path.getmtime)\n",
    "\n",
    "dota2_test_df_from_file = pd.read_csv(dota2_data_files[0], usecols=range(1,13))\n",
    "dota2_test_df_from_file.style\n",
    "\n",
    "#purge 0 values from hero_id\n",
    "dota2_test_df_from_file = dota2_test_df_from_file[dota2_test_df_from_file.radiant_heroes0 != 0]\n",
    "\n",
    "#make old_match_list for easy checking of match_id\n",
    "old_match_list = list(dota2_test_df_from_file['match_id'])"
   ]
  },
  {
   "cell_type": "markdown",
   "metadata": {},
   "source": [
    "# Get 500 matches of each hero id (and trim duplicates)"
   ]
  },
  {
   "cell_type": "code",
   "execution_count": 21,
   "metadata": {
    "ExecuteTime": {
     "end_time": "2018-12-07T03:29:35.903867Z",
     "start_time": "2018-12-07T03:29:35.507616Z"
    },
    "collapsed": true
   },
   "outputs": [
    {
     "name": "stdout",
     "output_type": "stream",
     "text": [
      "{'result': {'heroes': [{'name': 'npc_dota_hero_antimage', 'id': 1}, {'name': 'npc_dota_hero_axe', 'id': 2}, {'name': 'npc_dota_hero_bane', 'id': 3}, {'name': 'npc_dota_hero_bloodseeker', 'id': 4}, {'name': 'npc_dota_hero_crystal_maiden', 'id': 5}, {'name': 'npc_dota_hero_drow_ranger', 'id': 6}, {'name': 'npc_dota_hero_earthshaker', 'id': 7}, {'name': 'npc_dota_hero_juggernaut', 'id': 8}, {'name': 'npc_dota_hero_mirana', 'id': 9}, {'name': 'npc_dota_hero_nevermore', 'id': 11}, {'name': 'npc_dota_hero_morphling', 'id': 10}, {'name': 'npc_dota_hero_phantom_lancer', 'id': 12}, {'name': 'npc_dota_hero_puck', 'id': 13}, {'name': 'npc_dota_hero_pudge', 'id': 14}, {'name': 'npc_dota_hero_razor', 'id': 15}, {'name': 'npc_dota_hero_sand_king', 'id': 16}, {'name': 'npc_dota_hero_storm_spirit', 'id': 17}, {'name': 'npc_dota_hero_sven', 'id': 18}, {'name': 'npc_dota_hero_tiny', 'id': 19}, {'name': 'npc_dota_hero_vengefulspirit', 'id': 20}, {'name': 'npc_dota_hero_windrunner', 'id': 21}, {'name': 'npc_dota_hero_zuus', 'id': 22}, {'name': 'npc_dota_hero_kunkka', 'id': 23}, {'name': 'npc_dota_hero_lina', 'id': 25}, {'name': 'npc_dota_hero_lich', 'id': 31}, {'name': 'npc_dota_hero_lion', 'id': 26}, {'name': 'npc_dota_hero_shadow_shaman', 'id': 27}, {'name': 'npc_dota_hero_slardar', 'id': 28}, {'name': 'npc_dota_hero_tidehunter', 'id': 29}, {'name': 'npc_dota_hero_witch_doctor', 'id': 30}, {'name': 'npc_dota_hero_riki', 'id': 32}, {'name': 'npc_dota_hero_enigma', 'id': 33}, {'name': 'npc_dota_hero_tinker', 'id': 34}, {'name': 'npc_dota_hero_sniper', 'id': 35}, {'name': 'npc_dota_hero_necrolyte', 'id': 36}, {'name': 'npc_dota_hero_warlock', 'id': 37}, {'name': 'npc_dota_hero_beastmaster', 'id': 38}, {'name': 'npc_dota_hero_queenofpain', 'id': 39}, {'name': 'npc_dota_hero_venomancer', 'id': 40}, {'name': 'npc_dota_hero_faceless_void', 'id': 41}, {'name': 'npc_dota_hero_skeleton_king', 'id': 42}, {'name': 'npc_dota_hero_death_prophet', 'id': 43}, {'name': 'npc_dota_hero_phantom_assassin', 'id': 44}, {'name': 'npc_dota_hero_pugna', 'id': 45}, {'name': 'npc_dota_hero_templar_assassin', 'id': 46}, {'name': 'npc_dota_hero_viper', 'id': 47}, {'name': 'npc_dota_hero_luna', 'id': 48}, {'name': 'npc_dota_hero_dragon_knight', 'id': 49}, {'name': 'npc_dota_hero_dazzle', 'id': 50}, {'name': 'npc_dota_hero_rattletrap', 'id': 51}, {'name': 'npc_dota_hero_leshrac', 'id': 52}, {'name': 'npc_dota_hero_furion', 'id': 53}, {'name': 'npc_dota_hero_life_stealer', 'id': 54}, {'name': 'npc_dota_hero_dark_seer', 'id': 55}, {'name': 'npc_dota_hero_clinkz', 'id': 56}, {'name': 'npc_dota_hero_omniknight', 'id': 57}, {'name': 'npc_dota_hero_enchantress', 'id': 58}, {'name': 'npc_dota_hero_huskar', 'id': 59}, {'name': 'npc_dota_hero_night_stalker', 'id': 60}, {'name': 'npc_dota_hero_broodmother', 'id': 61}, {'name': 'npc_dota_hero_bounty_hunter', 'id': 62}, {'name': 'npc_dota_hero_weaver', 'id': 63}, {'name': 'npc_dota_hero_jakiro', 'id': 64}, {'name': 'npc_dota_hero_batrider', 'id': 65}, {'name': 'npc_dota_hero_chen', 'id': 66}, {'name': 'npc_dota_hero_spectre', 'id': 67}, {'name': 'npc_dota_hero_doom_bringer', 'id': 69}, {'name': 'npc_dota_hero_ancient_apparition', 'id': 68}, {'name': 'npc_dota_hero_ursa', 'id': 70}, {'name': 'npc_dota_hero_spirit_breaker', 'id': 71}, {'name': 'npc_dota_hero_gyrocopter', 'id': 72}, {'name': 'npc_dota_hero_alchemist', 'id': 73}, {'name': 'npc_dota_hero_invoker', 'id': 74}, {'name': 'npc_dota_hero_silencer', 'id': 75}, {'name': 'npc_dota_hero_obsidian_destroyer', 'id': 76}, {'name': 'npc_dota_hero_lycan', 'id': 77}, {'name': 'npc_dota_hero_brewmaster', 'id': 78}, {'name': 'npc_dota_hero_shadow_demon', 'id': 79}, {'name': 'npc_dota_hero_lone_druid', 'id': 80}, {'name': 'npc_dota_hero_chaos_knight', 'id': 81}, {'name': 'npc_dota_hero_meepo', 'id': 82}, {'name': 'npc_dota_hero_treant', 'id': 83}, {'name': 'npc_dota_hero_ogre_magi', 'id': 84}, {'name': 'npc_dota_hero_undying', 'id': 85}, {'name': 'npc_dota_hero_rubick', 'id': 86}, {'name': 'npc_dota_hero_disruptor', 'id': 87}, {'name': 'npc_dota_hero_nyx_assassin', 'id': 88}, {'name': 'npc_dota_hero_naga_siren', 'id': 89}, {'name': 'npc_dota_hero_keeper_of_the_light', 'id': 90}, {'name': 'npc_dota_hero_wisp', 'id': 91}, {'name': 'npc_dota_hero_visage', 'id': 92}, {'name': 'npc_dota_hero_slark', 'id': 93}, {'name': 'npc_dota_hero_medusa', 'id': 94}, {'name': 'npc_dota_hero_troll_warlord', 'id': 95}, {'name': 'npc_dota_hero_centaur', 'id': 96}, {'name': 'npc_dota_hero_magnataur', 'id': 97}, {'name': 'npc_dota_hero_shredder', 'id': 98}, {'name': 'npc_dota_hero_bristleback', 'id': 99}, {'name': 'npc_dota_hero_tusk', 'id': 100}, {'name': 'npc_dota_hero_skywrath_mage', 'id': 101}, {'name': 'npc_dota_hero_abaddon', 'id': 102}, {'name': 'npc_dota_hero_elder_titan', 'id': 103}, {'name': 'npc_dota_hero_legion_commander', 'id': 104}, {'name': 'npc_dota_hero_ember_spirit', 'id': 106}, {'name': 'npc_dota_hero_earth_spirit', 'id': 107}, {'name': 'npc_dota_hero_terrorblade', 'id': 109}, {'name': 'npc_dota_hero_phoenix', 'id': 110}, {'name': 'npc_dota_hero_oracle', 'id': 111}, {'name': 'npc_dota_hero_techies', 'id': 105}, {'name': 'npc_dota_hero_winter_wyvern', 'id': 112}, {'name': 'npc_dota_hero_arc_warden', 'id': 113}, {'name': 'npc_dota_hero_abyssal_underlord', 'id': 108}, {'name': 'npc_dota_hero_monkey_king', 'id': 114}, {'name': 'npc_dota_hero_pangolier', 'id': 120}, {'name': 'npc_dota_hero_dark_willow', 'id': 119}, {'name': 'npc_dota_hero_grimstroke', 'id': 121}], 'status': 200, 'count': 116}}\n"
     ]
    }
   ],
   "source": [
    "hero_list = interface('IEconDOTA2_'+dota2_id).GetHeroes(itemizedonly = True)\n",
    "print(hero_list)"
   ]
  },
  {
   "cell_type": "code",
   "execution_count": 29,
   "metadata": {
    "ExecuteTime": {
     "end_time": "2018-12-07T03:50:21.267790Z",
     "start_time": "2018-12-07T03:36:25.609991Z"
    }
   },
   "outputs": [
    {
     "name": "stdout",
     "output_type": "stream",
     "text": [
      "hero 1\n",
      "matches 100\n",
      "hero 2\n",
      "matches 600\n",
      "hero 3\n",
      "matches 1100\n",
      "hero 4\n",
      "matches 1600\n",
      "hero 5\n",
      "matches 2100\n",
      "hero 6\n",
      "matches 2600\n",
      "hero 7\n",
      "matches 3101\n",
      "hero 8\n",
      "matches 3601\n",
      "hero 9\n",
      "matches 4101\n",
      "hero 10\n",
      "matches 4599\n",
      "hero 11\n",
      "matches 5096\n",
      "hero 12\n",
      "matches 5596\n",
      "hero 13\n",
      "matches 6096\n",
      "hero 14\n",
      "matches 6596\n",
      "hero 15\n",
      "matches 7096\n",
      "hero 16\n",
      "matches 7596\n",
      "hero 17\n",
      "matches 8096\n",
      "hero 18\n",
      "matches 8596\n",
      "hero 19\n",
      "matches 9096\n",
      "hero 20\n",
      "matches 9596\n",
      "hero 21\n",
      "matches 10097\n",
      "hero 22\n",
      "matches 10597\n",
      "hero 23\n",
      "matches 11097\n",
      "hero 24\n",
      "matches 11597\n",
      "hero 25\n",
      "matches 11997\n",
      "hero 26\n",
      "matches 12498\n",
      "hero 27\n",
      "matches 12998\n",
      "hero 28\n",
      "matches 13500\n",
      "hero 29\n",
      "matches 14000\n",
      "hero 30\n",
      "matches 14500\n",
      "hero 31\n",
      "matches 15000\n",
      "hero 32\n",
      "matches 15500\n",
      "hero 33\n",
      "matches 16001\n",
      "hero 34\n",
      "matches 16501\n",
      "hero 35\n",
      "matches 17002\n",
      "hero 36\n",
      "matches 17502\n",
      "hero 37\n",
      "matches 18002\n",
      "hero 38\n",
      "matches 18502\n",
      "hero 39\n",
      "matches 19002\n",
      "hero 40\n",
      "matches 19501\n",
      "hero 41\n",
      "matches 20001\n",
      "hero 42\n",
      "matches 20501\n",
      "hero 43\n",
      "matches 21001\n",
      "hero 44\n",
      "matches 21501\n",
      "hero 45\n",
      "matches 22000\n",
      "hero 46\n",
      "matches 22500\n",
      "hero 47\n",
      "matches 23000\n",
      "hero 48\n",
      "matches 23500\n",
      "hero 49\n",
      "matches 23999\n",
      "hero 50\n",
      "matches 24499\n",
      "hero 51\n",
      "matches 24995\n",
      "hero 52\n",
      "matches 25495\n",
      "hero 53\n",
      "matches 25995\n",
      "hero 54\n",
      "matches 26495\n",
      "hero 55\n",
      "matches 26995\n",
      "hero 56\n",
      "matches 27495\n",
      "hero 57\n",
      "matches 27995\n",
      "hero 58\n",
      "matches 28495\n",
      "hero 59\n",
      "matches 28995\n",
      "hero 60\n",
      "matches 29496\n",
      "hero 61\n",
      "matches 29996\n",
      "hero 62\n",
      "matches 30496\n",
      "hero 63\n",
      "matches 30998\n",
      "hero 64\n",
      "matches 31498\n",
      "hero 65\n",
      "matches 31998\n",
      "hero 66\n",
      "matches 32498\n",
      "hero 67\n",
      "matches 32998\n",
      "hero 68\n",
      "matches 33498\n",
      "hero 69\n",
      "matches 33998\n",
      "hero 70\n",
      "matches 34498\n",
      "hero 71\n",
      "matches 34998\n",
      "hero 72\n",
      "matches 35498\n",
      "hero 73\n",
      "matches 35998\n",
      "hero 74\n",
      "matches 36498\n",
      "hero 75\n",
      "matches 36998\n",
      "hero 76\n",
      "matches 37498\n",
      "hero 77\n",
      "matches 37998\n",
      "hero 78\n",
      "matches 38498\n",
      "hero 79\n",
      "matches 38998\n",
      "hero 80\n",
      "matches 39498\n",
      "hero 81\n",
      "matches 39998\n",
      "hero 82\n",
      "matches 40498\n",
      "hero 83\n",
      "matches 40998\n",
      "hero 84\n",
      "matches 41498\n",
      "hero 85\n",
      "matches 41999\n",
      "hero 86\n",
      "matches 42500\n",
      "hero 87\n",
      "matches 42999\n",
      "hero 88\n",
      "matches 43499\n",
      "hero 89\n",
      "matches 43999\n",
      "hero 90\n",
      "matches 44499\n",
      "hero 91\n",
      "matches 44999\n",
      "hero 92\n",
      "matches 45499\n",
      "hero 93\n",
      "matches 45999\n",
      "hero 94\n",
      "matches 46499\n",
      "hero 95\n",
      "matches 46999\n",
      "hero 96\n",
      "matches 47499\n",
      "hero 97\n",
      "matches 47999\n",
      "hero 98\n",
      "matches 48500\n",
      "hero 99\n",
      "matches 49000\n",
      "hero 100\n",
      "matches 49500\n",
      "hero 101\n",
      "matches 49997\n",
      "hero 102\n",
      "matches 50497\n",
      "hero 103\n",
      "matches 50997\n",
      "hero 104\n",
      "matches 51497\n",
      "hero 121\n",
      "matches 51997\n",
      "hero 106\n",
      "matches 52497\n",
      "hero 107\n",
      "matches 52997\n",
      "hero 108\n",
      "matches 53497\n",
      "hero 109\n",
      "matches 53997\n",
      "hero 110\n",
      "matches 54497\n",
      "hero 111\n",
      "matches 54998\n",
      "hero 112\n",
      "matches 55498\n",
      "hero 113\n",
      "matches 55998\n",
      "hero 114\n",
      "matches 56498\n",
      "hero 120\n",
      "matches 56998\n",
      "hero 119\n",
      "matches 57498\n"
     ]
    }
   ],
   "source": [
    "#get matches data from dota2 API and put IDs into a dataframe\n",
    "num_matches_to_request = 500\n",
    "\n",
    "match_list = []\n",
    "#Loop through all hero_id values\n",
    "#There are 116 heroes, but ids 105, 116-118 are not occupied\n",
    "for i in range(1,hero_list['result']['count']+1):\n",
    "    \n",
    "    #better option is to build a vocabulary\n",
    "    if i == 105:\n",
    "        j = 121\n",
    "    elif i == 115:\n",
    "        j = 120\n",
    "    elif i == 116:\n",
    "        j = 119\n",
    "    else:\n",
    "        j = i\n",
    "    \n",
    "    #Get first match for each hero out of loop so that we can pull more than 100 games per hero\n",
    "    #by utilizing start_at_match_id option\n",
    "    matches = interface('IDOTA2Match_' + dota2_id).GetMatchHistory(hero_id = j,\n",
    "                                                                   game_mode = 1,\n",
    "                                                                   skill_level = 3,\n",
    "                                                                   min_players = 10,\n",
    "                                                                   matches_requested = 100)\n",
    "    \n",
    "    #@TODO: check if lobby_type is public/ranked matching (0 or 7) before appending\n",
    "    [match_list.append(match['match_id']) for match in matches['result']['matches']]\n",
    "    current_num = 1\n",
    "    \n",
    "    if len(match_list)==0:\n",
    "        print('No matches returned\\nWait a bit and retry\\n\\n    GabeN Bless')\n",
    "        break\n",
    "    \n",
    "    while current_num <= num_matches_to_request:\n",
    "        #sleep so we don't overload the servers\n",
    "        time.sleep(1)\n",
    "\n",
    "        current_num += 100\n",
    "        matches = interface('IDOTA2Match_' + dota2_id).GetMatchHistory(hero_id = j,\n",
    "                                                                       start_at_match_id = match_list[-1]-1,\n",
    "                                                                       game_mode = 1,\n",
    "                                                                       skill_level = 3,\n",
    "                                                                       min_players = 10,\n",
    "                                                                       matches_requested = 100)\n",
    "        \n",
    "        #@TODO: check if lobby_type is public/ranked matching (0 or 7) before appending\n",
    "        [match_list.append(match['match_id']) for match in matches['result']['matches']]"
   ]
  },
  {
   "cell_type": "code",
   "execution_count": 30,
   "metadata": {
    "ExecuteTime": {
     "end_time": "2018-12-07T04:08:38.783976Z",
     "start_time": "2018-12-07T04:08:38.755965Z"
    }
   },
   "outputs": [
    {
     "data": {
      "text/plain": [
       "17335"
      ]
     },
     "execution_count": 30,
     "metadata": {},
     "output_type": "execute_result"
    }
   ],
   "source": [
    "#Make dataframe of match_id values using dict.fromkeys(list) to remove duplicates\n",
    "dota2_training_df = pd.DataFrame()\n",
    "dota2_training_df['match_id'] = list(dict.fromkeys(match_list))\n",
    "len(dota2_training_df)"
   ]
  },
  {
   "cell_type": "code",
   "execution_count": null,
   "metadata": {
    "collapsed": true
   },
   "outputs": [],
   "source": [
    "#initialize data columns if you're starting a match_detail getting batch\n",
    "#if trying to finish one that broke unexpectedly then don't!\n",
    "radiant_win_column = []\n",
    "radiant_hero_column = []\n",
    "dire_hero_column = []\n",
    "match_details = []"
   ]
  },
  {
   "cell_type": "code",
   "execution_count": 35,
   "metadata": {
    "ExecuteTime": {
     "end_time": "2018-12-07T11:59:13.996859Z",
     "start_time": "2018-12-07T05:50:31.227026Z"
    },
    "scrolled": true
   },
   "outputs": [],
   "source": [
    "#get match details from match_ids obtained\n",
    "#add radiant_win column\n",
    "#add heroes split between dire and radiant\n",
    "\n",
    "for i,match_id in enumerate(dota2_training_df['match_id']):\n",
    "    time.sleep(1)\n",
    "    match_details.append(interface('IDOTA2Match_' + dota2_id).GetMatchDetails(match_id = str(match_id)))\n",
    "    \n",
    "    try:\n",
    "        radiant_win_column.append(match_details[i]['result']['radiant_win'])\n",
    "    except:\n",
    "        print('server error at match_id: ' + str(match_id))\n",
    "        print('element:' + str(i))\n",
    "        break\n",
    "    \n",
    "    radiant_hero_row = []\n",
    "    dire_hero_row = []\n",
    "    for player in match_details[i]['result']['players']:\n",
    "        #First bit of 8-bit integer player_slot is 1 if the player was on dire\n",
    "        #so if player was on dire then player_slot > 128\n",
    "        if player['player_slot']/128<1:\n",
    "            radiant_hero_row.append(player['hero_id'])\n",
    "        else:\n",
    "            dire_hero_row.append(player['hero_id'])\n",
    "    \n",
    "    radiant_hero_column.append(radiant_hero_row)\n",
    "    dire_hero_column.append(dire_hero_row)"
   ]
  },
  {
   "cell_type": "code",
   "execution_count": 38,
   "metadata": {
    "ExecuteTime": {
     "end_time": "2018-12-08T00:53:55.527672Z",
     "start_time": "2018-12-08T00:53:55.522781Z"
    }
   },
   "outputs": [
    {
     "name": "stdout",
     "output_type": "stream",
     "text": [
      "17335\n"
     ]
    }
   ],
   "source": [
    "print(len(dota2_training_df['match_id']))"
   ]
  },
  {
   "cell_type": "code",
   "execution_count": 113,
   "metadata": {
    "ExecuteTime": {
     "end_time": "2018-12-06T06:46:03.338708Z",
     "start_time": "2018-12-06T06:46:03.331591Z"
    },
    "collapsed": true
   },
   "outputs": [],
   "source": [
    "match_details = match_details[-len(dota2_training_df['match_id'])-1:-1]\n",
    "radiant_win_column = radiant_win_column[-len(dota2_training_df['match_id'])-1:-1]\n",
    "radiant_hero_column = radiant_hero_column[-len(dota2_training_df['match_id'])-1:-1]\n",
    "dire_hero_column = dire_hero_column[-len(dota2_training_df['match_id'])-1:-1]"
   ]
  },
  {
   "cell_type": "code",
   "execution_count": 39,
   "metadata": {
    "ExecuteTime": {
     "end_time": "2018-12-08T00:54:29.667719Z",
     "start_time": "2018-12-08T00:54:29.430955Z"
    }
   },
   "outputs": [
    {
     "name": "stdout",
     "output_type": "stream",
     "text": [
      "0\n",
      "1\n",
      "2\n",
      "3\n",
      "4\n"
     ]
    }
   ],
   "source": [
    "#Add radiant_win column to Dataframe\n",
    "dota2_training_df['radiant_win'] = 1*np.array(radiant_win_column)\n",
    "\n",
    "#Add dire and radiant heroes to DataFrame under their own columns\n",
    "for i in range(len(np.array(radiant_hero_column)[1])):\n",
    "    print(i)\n",
    "    dota2_training_df['radiant_heroes'+str(i)] = np.array(radiant_hero_column)[:,i]\n",
    "    dota2_training_df['dire_heroes'+str(i)] = np.array(dire_hero_column)[:,i]"
   ]
  },
  {
   "cell_type": "code",
   "execution_count": 40,
   "metadata": {
    "ExecuteTime": {
     "end_time": "2018-12-08T00:54:44.878841Z",
     "start_time": "2018-12-08T00:54:44.870111Z"
    },
    "collapsed": true
   },
   "outputs": [],
   "source": [
    "#purge 0 values from hero_id\n",
    "dota2_training_df = dota2_training_df[dota2_training_df.radiant_heroes0 != 0]"
   ]
  },
  {
   "cell_type": "code",
   "execution_count": 41,
   "metadata": {
    "ExecuteTime": {
     "end_time": "2018-12-08T00:55:15.847778Z",
     "start_time": "2018-12-08T00:55:15.508530Z"
    },
    "collapsed": true
   },
   "outputs": [],
   "source": [
    "#save data to csv file so we have it on disk\n",
    "dota2_training_df.to_csv(os.path.join('dota2_training_data',\n",
    "                                        str(dota2_training_df['match_id'][0])+\n",
    "                                        '-'+\n",
    "                                        str(list(dota2_training_df['match_id'])[-1])+\n",
    "                                        '.csv'))"
   ]
  },
  {
   "cell_type": "code",
   "execution_count": 4,
   "metadata": {
    "collapsed": true
   },
   "outputs": [],
   "source": [
    "dota2_training_df = pd.read_csv(os.path.join('Dota2Project','dota2_training_data.csv'))"
   ]
  },
  {
   "cell_type": "code",
   "execution_count": 42,
   "metadata": {
    "ExecuteTime": {
     "end_time": "2018-12-08T00:56:42.645897Z",
     "start_time": "2018-12-08T00:55:30.123378Z"
    },
    "collapsed": true
   },
   "outputs": [],
   "source": [
    "outfile = os.path.join('dota2_training_data',\n",
    "                                        'match_id'+\n",
    "                                        str(dota2_training_df['match_id'][0])+\n",
    "                                        '-'+\n",
    "                                        str(list(dota2_training_df['match_id'])[-1])+\n",
    "                                        '.json')\n",
    "\n",
    "match_details_dict_list = [dict(match_detail) for match_detail in match_details]\n",
    "import json\n",
    "with open(outfile, 'w') as fout:\n",
    "    json.dump(match_details_dict_list, fout)"
   ]
  }
 ],
 "metadata": {
  "kernelspec": {
   "display_name": "Python 3",
   "language": "python",
   "name": "python3"
  },
  "language_info": {
   "codemirror_mode": {
    "name": "ipython",
    "version": 3
   },
   "file_extension": ".py",
   "mimetype": "text/x-python",
   "name": "python",
   "nbconvert_exporter": "python",
   "pygments_lexer": "ipython3",
   "version": "3.6.1"
  }
 },
 "nbformat": 4,
 "nbformat_minor": 2
}
