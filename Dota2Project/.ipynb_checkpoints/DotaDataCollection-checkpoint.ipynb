{
 "cells": [
  {
   "cell_type": "code",
   "execution_count": 35,
   "metadata": {
    "ExecuteTime": {
     "end_time": "2018-12-08T18:02:43.886119Z",
     "start_time": "2018-12-08T18:02:43.876777Z"
    },
    "code_folding": []
   },
   "outputs": [],
   "source": [
    "import seaborn as sns\n",
    "import pandas as pd\n",
    "import pylab as plt\n",
    "import numpy as np\n",
    "import steam.api\n",
    "from steam.api import interface\n",
    "import time\n",
    "import os\n",
    "import glob\n",
    "import json\n",
    "import tensorflow as tf\n",
    "import sys\n",
    "\n",
    "#dont keep api key in github!!!\n",
    "api_file = os.path.join('..','..','steamapi','steam_api_key.txt')\n",
    "with open(api_file, 'r') as fin:\n",
    "    steam.api.key.set(fin.readline())"
   ]
  },
  {
   "cell_type": "code",
   "execution_count": 10,
   "metadata": {
    "ExecuteTime": {
     "end_time": "2018-12-08T02:22:58.221048Z",
     "start_time": "2018-12-08T02:22:58.216950Z"
    },
    "code_folding": [],
    "collapsed": true
   },
   "outputs": [],
   "source": [
    "#declare interface urls\n",
    "#dota2_beta should be used for testing in order to not aggressively make API requests\n",
    "dota2_id = '570'\n",
    "dota2_beta_id = '205790'"
   ]
  },
  {
   "cell_type": "markdown",
   "metadata": {
    "heading_collapsed": true
   },
   "source": [
    "# Get 500 last matches to get approximate hero ratios\n",
    "Need to be careful here so that test dataset doesn't have crossover with training data. My strategy to eliminate overlap was to start collecting match data for the training set for matches after the oldest match in the test set. To get around the 500 match retrieval limit I save 500 at a time to a .csv with a filename that has the start and end match_id. This means I can get 500, wait a bit, then get 500 more that are guarenteed to not have overlap. \n",
    "\n",
    "How long do I have to wait to get 500 more?? Unclear and was unable to find documentation. Thanks Valve."
   ]
  },
  {
   "cell_type": "code",
   "execution_count": 22,
   "metadata": {
    "ExecuteTime": {
     "end_time": "2018-12-07T03:30:22.275349Z",
     "start_time": "2018-12-07T03:30:15.104940Z"
    },
    "collapsed": true,
    "hidden": true
   },
   "outputs": [],
   "source": [
    "#get matches data from dota2 API and put IDs into a dataframe\n",
    "num_matches_to_request = 500\n",
    "\n",
    "match_list = []\n",
    "\n",
    "#put a start match_id if I'm trying to get more matches after getting 500\n",
    "#if trying to load starting from a match_id previously obtained and saved\n",
    "#use arg: start_at_match_id = old_match_list[-1]-1\n",
    "matches = interface('IDOTA2Match_' + dota2_id).GetMatchHistory(hero_id = 121,\n",
    "                                                               game_mode = 1,\n",
    "                                                               skill_level = 3,\n",
    "                                                               min_players = 10,\n",
    "                                                               matches_requested = 100)\n",
    "\n",
    "\n",
    "\n",
    "\n",
    "#@TODO: check if lobby_type is public/ranked matching (0 or 7) before appending\n",
    "[match_list.append(match['match_id']) for match in matches['result']['matches']]\n",
    "\n",
    "current_num = 100\n",
    "\n",
    "while current_num <= num_matches_to_request:\n",
    "    \n",
    "    #check that match request returned any matches before trying to get more\n",
    "    if len(match_list)==0:\n",
    "        print('No matches returned\\nWait a bit and retry\\n\\n    GabeN Bless')\n",
    "    \n",
    "    #sleep so we don't overload the servers\n",
    "    time.sleep(1)\n",
    "                \n",
    "    current_num += 100\n",
    "    matches = interface('IDOTA2Match_' + dota2_id).GetMatchHistory(start_at_match_id = match_list[-1]-1,\n",
    "                                                                   game_mode = 1,\n",
    "                                                                   skill_level = 3,\n",
    "                                                                   min_players = 10,\n",
    "                                                                   matches_requested = 100)\n",
    "\n",
    "    #@TODO: check if lobby_type is public/ranked matching (0 or 7) before appending\n",
    "    [match_list.append(match['match_id']) for match in matches['result']['matches']]\n",
    "\n",
    "    \n",
    "dota2_test_df = pd.DataFrame()\n",
    "dota2_test_df['match_id'] = match_list"
   ]
  },
  {
   "cell_type": "code",
   "execution_count": 12,
   "metadata": {
    "ExecuteTime": {
     "end_time": "2018-12-06T01:55:03.676734Z",
     "start_time": "2018-12-06T01:44:20.626364Z"
    },
    "collapsed": true,
    "hidden": true
   },
   "outputs": [],
   "source": [
    "#get match details from match_ids obtained\n",
    "#add radiant_win column\n",
    "#add heroes split between dire and radiant\n",
    "\n",
    "radiant_win_column = []\n",
    "radiant_hero_column = []\n",
    "dire_hero_column = []\n",
    "match_details = []\n",
    "\n",
    "for match_id in dota2_test_df['match_id']:\n",
    "    time.sleep(1)\n",
    "    match_details.append(interface('IDOTA2Match_' + dota2_id).GetMatchDetails(match_id = str(match_id)))\n",
    "    \n",
    "    radiant_win_column.append(match_details['result']['radiant_win'])\n",
    "    \n",
    "    radiant_hero_row = []\n",
    "    dire_hero_row = []\n",
    "    for player in match_details['result']['players']:\n",
    "        #First bit of 8-bit integer player_slot is 1 if the player was on dire\n",
    "        #so if player was on dire then player_slot > 128\n",
    "        if player['player_slot']/128<1:\n",
    "            radiant_hero_row.append(player['hero_id'])\n",
    "        else:\n",
    "            dire_hero_row.append(player['hero_id'])\n",
    "    \n",
    "    radiant_hero_column.append(radiant_hero_row)\n",
    "    dire_hero_column.append(dire_hero_row)"
   ]
  },
  {
   "cell_type": "code",
   "execution_count": 13,
   "metadata": {
    "ExecuteTime": {
     "end_time": "2018-12-06T01:55:03.696326Z",
     "start_time": "2018-12-06T01:55:03.679081Z"
    },
    "collapsed": true,
    "hidden": true
   },
   "outputs": [],
   "source": [
    "#Add radiant_win column to Dataframe\n",
    "dota2_test_df['radiant_win'] = 1*np.array(radiant_win_column)\n",
    "\n",
    "#Add dire and radiant heroes to DataFrame under their own columns\n",
    "for i in range(len(np.array(radiant_hero_column)[0])):\n",
    "    dota2_test_df['radiant_heroes'+str(i)] = np.array(radiant_hero_column)[:,i]\n",
    "    dota2_test_df['dire_heroes'+str(i)] = np.array(dire_hero_column)[:,i]"
   ]
  },
  {
   "cell_type": "code",
   "execution_count": 28,
   "metadata": {
    "ExecuteTime": {
     "end_time": "2018-12-06T02:01:12.153273Z",
     "start_time": "2018-12-06T02:01:12.134217Z"
    },
    "collapsed": true,
    "hidden": true
   },
   "outputs": [],
   "source": [
    "#save data to csv file so that we have it on disk\n",
    "dota2_test_df.to_csv(os.path.join('dota2_test_data',\n",
    "                                        str(dota2_test_df['match_id'][0])+\n",
    "                                        '-'+\n",
    "                                        str(dota2_test_df['match_id'][499])+'.csv'))"
   ]
  },
  {
   "cell_type": "markdown",
   "metadata": {
    "heading_collapsed": true
   },
   "source": [
    "# Load test data that is newest for match_id checking"
   ]
  },
  {
   "cell_type": "code",
   "execution_count": 127,
   "metadata": {
    "ExecuteTime": {
     "end_time": "2018-12-06T07:01:03.272713Z",
     "start_time": "2018-12-06T07:01:03.256113Z"
    },
    "collapsed": true,
    "hidden": true
   },
   "outputs": [],
   "source": [
    "#Run this if the test data is needed to allow for proper test_data collection\n",
    "#load newest file so that last_match_id is accurate? Unclear if this is the best strategy... \n",
    "#maybe should look at loading all then looking at match_id\n",
    "dota2_data_files = glob.glob(os.path.join('dota2_test_data','*.csv'))\n",
    "dota2_data_files.sort(key=os.path.getmtime)\n",
    "\n",
    "dota2_test_df_from_file = pd.read_csv(dota2_data_files[0], usecols=range(1,13))\n",
    "dota2_test_df_from_file.style\n",
    "\n",
    "#purge 0 values from hero_id\n",
    "dota2_test_df_from_file = dota2_test_df_from_file[dota2_test_df_from_file.radiant_heroes0 != 0]\n",
    "\n",
    "#make old_match_list for easy checking of match_id\n",
    "old_match_list = list(dota2_test_df_from_file['match_id'])"
   ]
  },
  {
   "cell_type": "markdown",
   "metadata": {},
   "source": [
    "# Get 500 matches of each hero id (and trim duplicates)"
   ]
  },
  {
   "cell_type": "code",
   "execution_count": 12,
   "metadata": {
    "ExecuteTime": {
     "end_time": "2018-12-08T02:31:43.580409Z",
     "start_time": "2018-12-08T02:31:43.576871Z"
    }
   },
   "outputs": [],
   "source": [
    "hero_list = interface('IEconDOTA2_'+dota2_id).GetHeroes(itemizedonly = True)\n",
    "#print(hero_list)"
   ]
  },
  {
   "cell_type": "markdown",
   "metadata": {
    "heading_collapsed": true
   },
   "source": [
    "## Get match_id of all the matches"
   ]
  },
  {
   "cell_type": "code",
   "execution_count": 13,
   "metadata": {
    "ExecuteTime": {
     "end_time": "2018-12-08T02:46:02.273448Z",
     "start_time": "2018-12-08T02:31:54.817172Z"
    },
    "code_folding": [],
    "hidden": true
   },
   "outputs": [],
   "source": [
    "#get matches data from dota2 API and put IDs into a dataframe\n",
    "num_matches_to_request = 500\n",
    "\n",
    "match_list = []\n",
    "#Loop through all hero_id values\n",
    "#There are 116 heroes, but ids 105, 116-118 are not occupied\n",
    "for i in range(1,hero_list['result']['count']+1):\n",
    "    \n",
    "    #better option is to build a vocabulary\n",
    "    if i == 105:\n",
    "        j = 121\n",
    "    elif i == 115:\n",
    "        j = 120\n",
    "    elif i == 116:\n",
    "        j = 119\n",
    "    else:\n",
    "        j = i\n",
    "    \n",
    "    #Get first match for each hero out of loop so that we can pull more than 100 games per hero\n",
    "    #by utilizing start_at_match_id option\n",
    "    matches = interface('IDOTA2Match_' + dota2_id).GetMatchHistory(hero_id = j,\n",
    "                                                                   game_mode = 1,\n",
    "                                                                   skill_level = 3,\n",
    "                                                                   min_players = 10,\n",
    "                                                                   matches_requested = 100)\n",
    "    \n",
    "    #@TODO: check if lobby_type is public/ranked matching (0 or 7) before appending\n",
    "    [match_list.append(match['match_id']) for match in matches['result']['matches']]\n",
    "    current_num = 1\n",
    "    \n",
    "    if len(match_list)==0:\n",
    "        print('No matches returned\\nWait a bit and retry\\n\\n    GabeN Bless')\n",
    "        break\n",
    "    \n",
    "    while current_num <= num_matches_to_request:\n",
    "        #sleep so we don't overload the servers\n",
    "        time.sleep(1)\n",
    "\n",
    "        current_num += 100\n",
    "        matches = interface('IDOTA2Match_' + dota2_id).GetMatchHistory(hero_id = j,\n",
    "                                                                       start_at_match_id = match_list[-1]-1,\n",
    "                                                                       game_mode = 1,\n",
    "                                                                       skill_level = 3,\n",
    "                                                                       min_players = 10,\n",
    "                                                                       matches_requested = 100)\n",
    "        \n",
    "        #@TODO: check if lobby_type is public/ranked matching (0 or 7) before appending\n",
    "        [match_list.append(match['match_id']) for match in matches['result']['matches']]"
   ]
  },
  {
   "cell_type": "markdown",
   "metadata": {
    "heading_collapsed": true
   },
   "source": [
    "## Purge duplicates"
   ]
  },
  {
   "cell_type": "code",
   "execution_count": 18,
   "metadata": {
    "ExecuteTime": {
     "end_time": "2018-12-08T02:55:50.348558Z",
     "start_time": "2018-12-08T02:55:50.309815Z"
    },
    "hidden": true
   },
   "outputs": [
    {
     "data": {
      "text/html": [
       "<div>\n",
       "<style>\n",
       "    .dataframe thead tr:only-child th {\n",
       "        text-align: right;\n",
       "    }\n",
       "\n",
       "    .dataframe thead th {\n",
       "        text-align: left;\n",
       "    }\n",
       "\n",
       "    .dataframe tbody tr th {\n",
       "        vertical-align: top;\n",
       "    }\n",
       "</style>\n",
       "<table border=\"1\" class=\"dataframe\">\n",
       "  <thead>\n",
       "    <tr style=\"text-align: right;\">\n",
       "      <th></th>\n",
       "      <th>match_id</th>\n",
       "    </tr>\n",
       "  </thead>\n",
       "  <tbody>\n",
       "    <tr>\n",
       "      <th>count</th>\n",
       "      <td>1.690100e+04</td>\n",
       "    </tr>\n",
       "    <tr>\n",
       "      <th>mean</th>\n",
       "      <td>4.259853e+09</td>\n",
       "    </tr>\n",
       "    <tr>\n",
       "      <th>std</th>\n",
       "      <td>1.496171e+04</td>\n",
       "    </tr>\n",
       "    <tr>\n",
       "      <th>min</th>\n",
       "      <td>4.259789e+09</td>\n",
       "    </tr>\n",
       "    <tr>\n",
       "      <th>25%</th>\n",
       "      <td>4.259845e+09</td>\n",
       "    </tr>\n",
       "    <tr>\n",
       "      <th>50%</th>\n",
       "      <td>4.259855e+09</td>\n",
       "    </tr>\n",
       "    <tr>\n",
       "      <th>75%</th>\n",
       "      <td>4.259863e+09</td>\n",
       "    </tr>\n",
       "    <tr>\n",
       "      <th>max</th>\n",
       "      <td>4.259895e+09</td>\n",
       "    </tr>\n",
       "  </tbody>\n",
       "</table>\n",
       "</div>"
      ],
      "text/plain": [
       "           match_id\n",
       "count  1.690100e+04\n",
       "mean   4.259853e+09\n",
       "std    1.496171e+04\n",
       "min    4.259789e+09\n",
       "25%    4.259845e+09\n",
       "50%    4.259855e+09\n",
       "75%    4.259863e+09\n",
       "max    4.259895e+09"
      ]
     },
     "execution_count": 18,
     "metadata": {},
     "output_type": "execute_result"
    }
   ],
   "source": [
    "#Make dataframe of match_id values using dict.fromkeys(list) to remove duplicates\n",
    "dota2_training_df = pd.DataFrame()\n",
    "dota2_training_df['match_id'] = list(dict.fromkeys(match_list))\n",
    "\n",
    "dota2_training_df.describe()"
   ]
  },
  {
   "cell_type": "markdown",
   "metadata": {},
   "source": [
    "## Get match details for matches"
   ]
  },
  {
   "cell_type": "code",
   "execution_count": 19,
   "metadata": {
    "ExecuteTime": {
     "end_time": "2018-12-08T02:56:00.121561Z",
     "start_time": "2018-12-08T02:56:00.116459Z"
    },
    "collapsed": true
   },
   "outputs": [],
   "source": [
    "#initialize data columns if you're starting a match_detail getting batch\n",
    "#if trying to finish one that broke unexpectedly then don't!\n",
    "radiant_win_column = []\n",
    "radiant_hero_column = []\n",
    "dire_hero_column = []\n",
    "match_details = []"
   ]
  },
  {
   "cell_type": "code",
   "execution_count": 20,
   "metadata": {
    "ExecuteTime": {
     "end_time": "2018-12-08T08:54:30.049703Z",
     "start_time": "2018-12-08T02:56:04.043011Z"
    },
    "collapsed": true,
    "scrolled": true
   },
   "outputs": [],
   "source": [
    "#get match details from match_ids obtained\n",
    "#add radiant_win column\n",
    "#add heroes split between dire and radiant\n",
    "\n",
    "for i,match_id in enumerate(dota2_training_df['match_id']):\n",
    "    time.sleep(1)\n",
    "    match_details.append(interface('IDOTA2Match_' + dota2_id).GetMatchDetails(match_id = str(match_id)))\n",
    "    \n",
    "    try:\n",
    "        radiant_win_column.append(match_details[i]['result']['radiant_win'])\n",
    "    except:\n",
    "        print('server error at match_id: ' + str(match_id))\n",
    "        print('element:' + str(i))\n",
    "        break\n",
    "    \n",
    "    radiant_hero_row = []\n",
    "    dire_hero_row = []\n",
    "    for player in match_details[i]['result']['players']:\n",
    "        #First bit of 8-bit integer player_slot is 1 if the player was on dire\n",
    "        #so if player was on dire then player_slot > 128\n",
    "        if player['player_slot']/128<1:\n",
    "            radiant_hero_row.append(player['hero_id'])\n",
    "        else:\n",
    "            dire_hero_row.append(player['hero_id'])\n",
    "    \n",
    "    radiant_hero_column.append(radiant_hero_row)\n",
    "    dire_hero_column.append(dire_hero_row)"
   ]
  },
  {
   "cell_type": "code",
   "execution_count": 21,
   "metadata": {
    "ExecuteTime": {
     "end_time": "2018-12-08T17:58:11.469427Z",
     "start_time": "2018-12-08T17:58:11.464620Z"
    }
   },
   "outputs": [
    {
     "name": "stdout",
     "output_type": "stream",
     "text": [
      "16901\n"
     ]
    }
   ],
   "source": [
    "print(len(dota2_training_df['match_id']))"
   ]
  },
  {
   "cell_type": "markdown",
   "metadata": {
    "heading_collapsed": true
   },
   "source": [
    "## Process and save data"
   ]
  },
  {
   "cell_type": "code",
   "execution_count": 22,
   "metadata": {
    "ExecuteTime": {
     "end_time": "2018-12-08T17:58:17.099253Z",
     "start_time": "2018-12-08T17:58:16.880328Z"
    },
    "hidden": true
   },
   "outputs": [
    {
     "name": "stdout",
     "output_type": "stream",
     "text": [
      "0\n",
      "1\n",
      "2\n",
      "3\n",
      "4\n"
     ]
    }
   ],
   "source": [
    "#Add radiant_win column to Dataframe\n",
    "dota2_training_df['radiant_win'] = 1*np.array(radiant_win_column)\n",
    "\n",
    "#Add dire and radiant heroes to DataFrame under their own columns\n",
    "for i in range(len(np.array(radiant_hero_column)[1])):\n",
    "    print(i)\n",
    "    dota2_training_df['radiant_heroes'+str(i)] = np.array(radiant_hero_column)[:,i]\n",
    "    dota2_training_df['dire_heroes'+str(i)] = np.array(dire_hero_column)[:,i]"
   ]
  },
  {
   "cell_type": "code",
   "execution_count": 23,
   "metadata": {
    "ExecuteTime": {
     "end_time": "2018-12-08T17:58:19.456246Z",
     "start_time": "2018-12-08T17:58:19.447310Z"
    },
    "collapsed": true,
    "hidden": true
   },
   "outputs": [],
   "source": [
    "#purge 0 values from hero_id\n",
    "dota2_training_df = dota2_training_df[dota2_training_df.radiant_heroes0 != 0]"
   ]
  },
  {
   "cell_type": "code",
   "execution_count": 24,
   "metadata": {
    "ExecuteTime": {
     "end_time": "2018-12-08T17:58:26.114552Z",
     "start_time": "2018-12-08T17:58:25.798953Z"
    },
    "collapsed": true,
    "hidden": true
   },
   "outputs": [],
   "source": [
    "#save data to csv file so we have it on disk\n",
    "dota2_training_df.to_csv(os.path.join('dota2_training_data',\n",
    "                                        str(dota2_training_df['match_id'][0])+\n",
    "                                        '-'+\n",
    "                                        str(list(dota2_training_df['match_id'])[-1])+\n",
    "                                        '.csv'))"
   ]
  },
  {
   "cell_type": "markdown",
   "metadata": {
    "heading_collapsed": true
   },
   "source": [
    "## Export data as json"
   ]
  },
  {
   "cell_type": "code",
   "execution_count": 25,
   "metadata": {
    "ExecuteTime": {
     "end_time": "2018-12-08T17:59:40.758937Z",
     "start_time": "2018-12-08T17:58:31.527799Z"
    },
    "collapsed": true,
    "hidden": true
   },
   "outputs": [],
   "source": [
    "outfile = os.path.join('dota2_training_data',\n",
    "                                        'match_id'+\n",
    "                                        str(dota2_training_df['match_id'][0])+\n",
    "                                        '-'+\n",
    "                                        str(list(dota2_training_df['match_id'])[-1])+\n",
    "                                        '.json')\n",
    "\n",
    "match_details_dict_list = [dict(match_detail) for match_detail in match_details]\n",
    "import json\n",
    "with open(outfile, 'w') as fout:\n",
    "    json.dump(match_details_dict_list, fout)"
   ]
  },
  {
   "cell_type": "markdown",
   "metadata": {
    "heading_collapsed": true
   },
   "source": [
    "# Build TFRecords file\n",
    "Puts all training data in the training_data folder into one TFRecords file\n",
    "Do this to nicely handle the features that is a numpy array (radiant_heroes and dire_heroes)"
   ]
  },
  {
   "cell_type": "code",
   "execution_count": 26,
   "metadata": {
    "ExecuteTime": {
     "end_time": "2018-12-08T18:00:45.490730Z",
     "start_time": "2018-12-08T18:00:45.311017Z"
    },
    "code_folding": [
     1
    ],
    "hidden": true
   },
   "outputs": [
    {
     "data": {
      "text/html": [
       "<div>\n",
       "<style>\n",
       "    .dataframe thead tr:only-child th {\n",
       "        text-align: right;\n",
       "    }\n",
       "\n",
       "    .dataframe thead th {\n",
       "        text-align: left;\n",
       "    }\n",
       "\n",
       "    .dataframe tbody tr th {\n",
       "        vertical-align: top;\n",
       "    }\n",
       "</style>\n",
       "<table border=\"1\" class=\"dataframe\">\n",
       "  <thead>\n",
       "    <tr style=\"text-align: right;\">\n",
       "      <th></th>\n",
       "      <th>match_id</th>\n",
       "      <th>radiant_win</th>\n",
       "      <th>radiant_heroes0</th>\n",
       "      <th>dire_heroes0</th>\n",
       "      <th>radiant_heroes1</th>\n",
       "      <th>dire_heroes1</th>\n",
       "      <th>radiant_heroes2</th>\n",
       "      <th>dire_heroes2</th>\n",
       "      <th>radiant_heroes3</th>\n",
       "      <th>dire_heroes3</th>\n",
       "      <th>radiant_heroes4</th>\n",
       "      <th>dire_heroes4</th>\n",
       "    </tr>\n",
       "  </thead>\n",
       "  <tbody>\n",
       "    <tr>\n",
       "      <th>count</th>\n",
       "      <td>4.303100e+04</td>\n",
       "      <td>43031.000000</td>\n",
       "      <td>43031.000000</td>\n",
       "      <td>43031.000000</td>\n",
       "      <td>43031.000000</td>\n",
       "      <td>43031.000000</td>\n",
       "      <td>43031.000000</td>\n",
       "      <td>43031.000000</td>\n",
       "      <td>43031.000000</td>\n",
       "      <td>43031.000000</td>\n",
       "      <td>43031.000000</td>\n",
       "      <td>43031.000000</td>\n",
       "    </tr>\n",
       "    <tr>\n",
       "      <th>mean</th>\n",
       "      <td>4.257821e+09</td>\n",
       "      <td>0.550394</td>\n",
       "      <td>50.944412</td>\n",
       "      <td>51.307104</td>\n",
       "      <td>51.610885</td>\n",
       "      <td>51.351235</td>\n",
       "      <td>51.121819</td>\n",
       "      <td>51.459692</td>\n",
       "      <td>51.306500</td>\n",
       "      <td>51.440798</td>\n",
       "      <td>50.961911</td>\n",
       "      <td>51.092817</td>\n",
       "    </tr>\n",
       "    <tr>\n",
       "      <th>std</th>\n",
       "      <td>2.660839e+06</td>\n",
       "      <td>0.497460</td>\n",
       "      <td>34.766818</td>\n",
       "      <td>34.724615</td>\n",
       "      <td>34.778497</td>\n",
       "      <td>34.733521</td>\n",
       "      <td>34.758653</td>\n",
       "      <td>34.756512</td>\n",
       "      <td>34.753597</td>\n",
       "      <td>34.826556</td>\n",
       "      <td>34.817146</td>\n",
       "      <td>34.660759</td>\n",
       "    </tr>\n",
       "    <tr>\n",
       "      <th>min</th>\n",
       "      <td>4.252092e+09</td>\n",
       "      <td>0.000000</td>\n",
       "      <td>1.000000</td>\n",
       "      <td>1.000000</td>\n",
       "      <td>1.000000</td>\n",
       "      <td>1.000000</td>\n",
       "      <td>1.000000</td>\n",
       "      <td>1.000000</td>\n",
       "      <td>1.000000</td>\n",
       "      <td>1.000000</td>\n",
       "      <td>1.000000</td>\n",
       "      <td>1.000000</td>\n",
       "    </tr>\n",
       "    <tr>\n",
       "      <th>25%</th>\n",
       "      <td>4.258257e+09</td>\n",
       "      <td>0.000000</td>\n",
       "      <td>21.000000</td>\n",
       "      <td>21.000000</td>\n",
       "      <td>21.000000</td>\n",
       "      <td>21.000000</td>\n",
       "      <td>21.000000</td>\n",
       "      <td>21.000000</td>\n",
       "      <td>21.000000</td>\n",
       "      <td>21.000000</td>\n",
       "      <td>21.000000</td>\n",
       "      <td>21.000000</td>\n",
       "    </tr>\n",
       "    <tr>\n",
       "      <th>50%</th>\n",
       "      <td>4.258288e+09</td>\n",
       "      <td>1.000000</td>\n",
       "      <td>44.000000</td>\n",
       "      <td>44.000000</td>\n",
       "      <td>44.000000</td>\n",
       "      <td>44.000000</td>\n",
       "      <td>44.000000</td>\n",
       "      <td>44.000000</td>\n",
       "      <td>44.000000</td>\n",
       "      <td>44.000000</td>\n",
       "      <td>44.000000</td>\n",
       "      <td>44.000000</td>\n",
       "    </tr>\n",
       "    <tr>\n",
       "      <th>75%</th>\n",
       "      <td>4.259850e+09</td>\n",
       "      <td>1.000000</td>\n",
       "      <td>82.000000</td>\n",
       "      <td>83.000000</td>\n",
       "      <td>83.000000</td>\n",
       "      <td>83.000000</td>\n",
       "      <td>82.000000</td>\n",
       "      <td>83.000000</td>\n",
       "      <td>83.000000</td>\n",
       "      <td>83.000000</td>\n",
       "      <td>82.000000</td>\n",
       "      <td>82.000000</td>\n",
       "    </tr>\n",
       "    <tr>\n",
       "      <th>max</th>\n",
       "      <td>4.259895e+09</td>\n",
       "      <td>1.000000</td>\n",
       "      <td>121.000000</td>\n",
       "      <td>121.000000</td>\n",
       "      <td>121.000000</td>\n",
       "      <td>121.000000</td>\n",
       "      <td>121.000000</td>\n",
       "      <td>121.000000</td>\n",
       "      <td>121.000000</td>\n",
       "      <td>121.000000</td>\n",
       "      <td>121.000000</td>\n",
       "      <td>121.000000</td>\n",
       "    </tr>\n",
       "  </tbody>\n",
       "</table>\n",
       "</div>"
      ],
      "text/plain": [
       "           match_id   radiant_win  radiant_heroes0  dire_heroes0  \\\n",
       "count  4.303100e+04  43031.000000     43031.000000  43031.000000   \n",
       "mean   4.257821e+09      0.550394        50.944412     51.307104   \n",
       "std    2.660839e+06      0.497460        34.766818     34.724615   \n",
       "min    4.252092e+09      0.000000         1.000000      1.000000   \n",
       "25%    4.258257e+09      0.000000        21.000000     21.000000   \n",
       "50%    4.258288e+09      1.000000        44.000000     44.000000   \n",
       "75%    4.259850e+09      1.000000        82.000000     83.000000   \n",
       "max    4.259895e+09      1.000000       121.000000    121.000000   \n",
       "\n",
       "       radiant_heroes1  dire_heroes1  radiant_heroes2  dire_heroes2  \\\n",
       "count     43031.000000  43031.000000     43031.000000  43031.000000   \n",
       "mean         51.610885     51.351235        51.121819     51.459692   \n",
       "std          34.778497     34.733521        34.758653     34.756512   \n",
       "min           1.000000      1.000000         1.000000      1.000000   \n",
       "25%          21.000000     21.000000        21.000000     21.000000   \n",
       "50%          44.000000     44.000000        44.000000     44.000000   \n",
       "75%          83.000000     83.000000        82.000000     83.000000   \n",
       "max         121.000000    121.000000       121.000000    121.000000   \n",
       "\n",
       "       radiant_heroes3  dire_heroes3  radiant_heroes4  dire_heroes4  \n",
       "count     43031.000000  43031.000000     43031.000000  43031.000000  \n",
       "mean         51.306500     51.440798        50.961911     51.092817  \n",
       "std          34.753597     34.826556        34.817146     34.660759  \n",
       "min           1.000000      1.000000         1.000000      1.000000  \n",
       "25%          21.000000     21.000000        21.000000     21.000000  \n",
       "50%          44.000000     44.000000        44.000000     44.000000  \n",
       "75%          83.000000     83.000000        82.000000     82.000000  \n",
       "max         121.000000    121.000000       121.000000    121.000000  "
      ]
     },
     "execution_count": 26,
     "metadata": {},
     "output_type": "execute_result"
    }
   ],
   "source": [
    "dota2_df = None\n",
    "for filename in glob.glob(os.path.join('dota2_training_data','*.csv')):\n",
    "    if type(dota2_df)==None:\n",
    "        dota2_df = pd.read_csv(filename, usecols=range(1,13))\n",
    "    else:\n",
    "        dota2_df = pd.concat([dota2_df, pd.read_csv(filename, usecols=range(1,13))],ignore_index=True)\n",
    "\n",
    "dota2_df = dota2_df.reindex(np.random.permutation(dota2_df.index))\n",
    "dota2_df.describe()"
   ]
  },
  {
   "cell_type": "code",
   "execution_count": 27,
   "metadata": {
    "ExecuteTime": {
     "end_time": "2018-12-08T18:00:49.810627Z",
     "start_time": "2018-12-08T18:00:49.805753Z"
    },
    "collapsed": true,
    "hidden": true
   },
   "outputs": [],
   "source": [
    "def _int64_feature(value):\n",
    "    return tf.train.Feature(int64_list=tf.train.Int64List(value=[value]))\n",
    "def _bytes_feature(value):\n",
    "    return tf.train.Feature(bytes_list=tf.train.BytesList(value=[value]))"
   ]
  },
  {
   "cell_type": "code",
   "execution_count": 28,
   "metadata": {
    "ExecuteTime": {
     "end_time": "2018-12-08T18:00:53.585840Z",
     "start_time": "2018-12-08T18:00:53.565917Z"
    },
    "code_folding": [],
    "collapsed": true,
    "hidden": true
   },
   "outputs": [],
   "source": [
    "def convert_to_tfrecords(filename, examples, targets):\n",
    "    # open the TFRecords file\n",
    "    writer = tf.python_io.TFRecordWriter(filename)\n",
    "    \n",
    "    radiant_hero_array = np.array(examples['radiant_heroes'])\n",
    "    dire_hero_array = np.array(examples['dire_heroes'])\n",
    "    target_array = np.array(targets['radiant_win'])\n",
    "    \n",
    "    for i in range(len(radiant_hero_array[:])):\n",
    "        # print how many images are saved every 1000 images\n",
    "        if not i % 5000:\n",
    "            print('Train data: %d/%d' % (i, len(examples)))\n",
    "            sys.stdout.flush()\n",
    "            \n",
    "        # Load the image\n",
    "        radiant_heroes = radiant_hero_array[:][i].tostring()\n",
    "        dire_heroes = dire_hero_array[:][i].tostring()\n",
    "        target = target_array[i]\n",
    "        \n",
    "        # Create a feature\n",
    "        feature = {'train/radiant_heroes': _bytes_feature(tf.compat.as_bytes(radiant_heroes)),\n",
    "                   'train/dire_heroes': _bytes_feature(tf.compat.as_bytes(dire_heroes)),\n",
    "                   'train/targets': _int64_feature(target)}\n",
    "        # Create an example protocol buffer\n",
    "        example = tf.train.Example(features=tf.train.Features(feature=feature))\n",
    "    \n",
    "        # Serialize to string and write on the file\n",
    "        writer.write(example.SerializeToString())\n",
    "    \n",
    "    writer.close()\n",
    "    sys.stdout.flush()"
   ]
  },
  {
   "cell_type": "code",
   "execution_count": 30,
   "metadata": {
    "ExecuteTime": {
     "end_time": "2018-12-08T18:01:53.338793Z",
     "start_time": "2018-12-08T18:01:53.321608Z"
    },
    "code_folding": [
     0,
     33
    ],
    "collapsed": true,
    "hidden": true
   },
   "outputs": [],
   "source": [
    "def preprocess_features(dota2_df):\n",
    "    \"\"\"Take dota2_df and create a dataframe containing only the features for our model\n",
    "            Args: \n",
    "                dota2_df: Dataframe containing dota2 training and test data\n",
    "            returns: \n",
    "                processed_df: pandas DataFrame containing only feature columns\n",
    "    \"\"\"\n",
    "    \n",
    "    #Use arrays of heroes for each team as features rather than each hero\n",
    "    #individually to help model fit?\n",
    "    #This is an attempt to make the model more similar to the movie review\n",
    "    #text analysis example in the Google ML Crash Course\n",
    "    processed_df = pd.DataFrame()\n",
    "    \n",
    "    processed_df['radiant_heroes'] = list(np.array(dota2_df.loc[:,['radiant_heroes0',\n",
    "                                                'radiant_heroes1','radiant_heroes2',\n",
    "                                                'radiant_heroes3','radiant_heroes4']]))\n",
    "    processed_df['dire_heroes'] = list(np.array(dota2_df.loc[:,['dire_heroes0',\n",
    "                                    'dire_heroes1','dire_heroes2',\n",
    "                                    'dire_heroes3','dire_heroes4']]))\n",
    "    \n",
    "    ##only features (to start with) are the heroes in the game\n",
    "    #processed_df = dota2_df[['radiant_heroes0', 'radiant_heroes1',\n",
    "    #                   'radiant_heroes2', 'radiant_heroes3', 'radiant_heroes4',\n",
    "    #                    'dire_heroes0', 'dire_heroes1', 'dire_heroes2',\n",
    "    #                    'dire_heroes3', 'dire_heroes4']]\n",
    "    \n",
    "    ##create two synthetic features that is the product of all heroes for each team\n",
    "    #processed_df['radiant_hero_product'] = dota2_df['radiant_heroes0']*dota2_df['radiant_heroes1']*dota2_df['radiant_heroes2']dota2_df['radiant_heroes3']*dota2_df['radiant_heroes4']\n",
    "    #processed_df['dire_hero_product'] = dota2_df['dire_heroes0']*dota2_df['dire_heroes1']*dota2_df['dire_heroes2']dota2_df['dire_heroes3']*dota2_df['dire_heroes4']\n",
    "    \n",
    "    return processed_df\n",
    "    \n",
    "def preprocess_targets(dota2_df):\n",
    "    \"\"\"Take dota2_df and create a dataframe containing only the targets for our model\n",
    "            Args: \n",
    "                dota2_df: Dataframe containing dota2 training and test data\n",
    "            returns: \n",
    "                target_df: pandas DataFrame containing only the target column\n",
    "    \"\"\"\n",
    "    target_df = pd.DataFrame()\n",
    "    target_df['radiant_win'] = dota2_df['radiant_win']\n",
    "    \n",
    "    return target_df"
   ]
  },
  {
   "cell_type": "code",
   "execution_count": 36,
   "metadata": {
    "ExecuteTime": {
     "end_time": "2018-12-08T18:02:53.392147Z",
     "start_time": "2018-12-08T18:02:48.854005Z"
    },
    "hidden": true
   },
   "outputs": [
    {
     "name": "stdout",
     "output_type": "stream",
     "text": [
      "Train data: 0/43031\n",
      "Train data: 1000/43031\n",
      "Train data: 2000/43031\n",
      "Train data: 3000/43031\n",
      "Train data: 4000/43031\n",
      "Train data: 5000/43031\n",
      "Train data: 6000/43031\n",
      "Train data: 7000/43031\n",
      "Train data: 8000/43031\n",
      "Train data: 9000/43031\n",
      "Train data: 10000/43031\n",
      "Train data: 11000/43031\n",
      "Train data: 12000/43031\n",
      "Train data: 13000/43031\n",
      "Train data: 14000/43031\n",
      "Train data: 15000/43031\n",
      "Train data: 16000/43031\n",
      "Train data: 17000/43031\n",
      "Train data: 18000/43031\n",
      "Train data: 19000/43031\n",
      "Train data: 20000/43031\n",
      "Train data: 21000/43031\n",
      "Train data: 22000/43031\n",
      "Train data: 23000/43031\n",
      "Train data: 24000/43031\n",
      "Train data: 25000/43031\n",
      "Train data: 26000/43031\n",
      "Train data: 27000/43031\n",
      "Train data: 28000/43031\n",
      "Train data: 29000/43031\n",
      "Train data: 30000/43031\n",
      "Train data: 31000/43031\n",
      "Train data: 32000/43031\n",
      "Train data: 33000/43031\n",
      "Train data: 34000/43031\n",
      "Train data: 35000/43031\n",
      "Train data: 36000/43031\n",
      "Train data: 37000/43031\n",
      "Train data: 38000/43031\n",
      "Train data: 39000/43031\n",
      "Train data: 40000/43031\n",
      "Train data: 41000/43031\n",
      "Train data: 42000/43031\n",
      "Train data: 43000/43031\n"
     ]
    }
   ],
   "source": [
    "convert_to_tfrecords(os.path.join('dota2_training_data', 'dota2_training_data.tfrecords'),\n",
    "                     preprocess_features(dota2_df),\n",
    "                     preprocess_targets(dota2_df))"
   ]
  }
 ],
 "metadata": {
  "kernelspec": {
   "display_name": "Python 3",
   "language": "python",
   "name": "python3"
  },
  "language_info": {
   "codemirror_mode": {
    "name": "ipython",
    "version": 3
   },
   "file_extension": ".py",
   "mimetype": "text/x-python",
   "name": "python",
   "nbconvert_exporter": "python",
   "pygments_lexer": "ipython3",
   "version": "3.6.1"
  }
 },
 "nbformat": 4,
 "nbformat_minor": 2
}
