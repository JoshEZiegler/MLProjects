{
 "cells": [
  {
   "cell_type": "code",
   "execution_count": 1,
   "metadata": {
    "ExecuteTime": {
     "end_time": "2019-03-28T01:54:07.831416Z",
     "start_time": "2019-03-28T01:54:04.930128Z"
    },
    "scrolled": true
   },
   "outputs": [
    {
     "name": "stderr",
     "output_type": "stream",
     "text": [
      "/Users/bailey/anaconda/lib/python3.6/site-packages/h5py/__init__.py:34: FutureWarning: Conversion of the second argument of issubdtype from `float` to `np.floating` is deprecated. In future, it will be treated as `np.float64 == np.dtype(float).type`.\n",
      "  from ._conv import register_converters as _register_converters\n"
     ]
    }
   ],
   "source": [
    "import seaborn as sns\n",
    "import pandas as pd\n",
    "import pylab as plt\n",
    "import numpy as np\n",
    "import os\n",
    "import tensorflow as tf\n",
    "from IPython import display\n",
    "from sklearn import metrics\n",
    "import glob\n",
    "import sys\n",
    "from steam.api import interface\n",
    "from steam.api import key\n",
    "tf.logging.set_verbosity(tf.logging.ERROR)\n",
    "\n",
    "#dont keep api key in github!!!\n",
    "api_file = os.path.join('..','..','apikeys','steam_api_key.txt')\n",
    "with open(api_file, 'r') as fin:\n",
    "    key.set(fin.readline())"
   ]
  },
  {
   "cell_type": "markdown",
   "metadata": {
    "heading_collapsed": true
   },
   "source": [
    "# Import training data and preprocess \n",
    "(good to check data, but not needed for TFrecord usage"
   ]
  },
  {
   "cell_type": "code",
   "execution_count": 2,
   "metadata": {
    "ExecuteTime": {
     "end_time": "2018-12-10T02:11:18.750646Z",
     "start_time": "2018-12-10T02:11:18.507348Z"
    },
    "hidden": true
   },
   "outputs": [
    {
     "data": {
      "text/html": [
       "<div>\n",
       "<style>\n",
       "    .dataframe thead tr:only-child th {\n",
       "        text-align: right;\n",
       "    }\n",
       "\n",
       "    .dataframe thead th {\n",
       "        text-align: left;\n",
       "    }\n",
       "\n",
       "    .dataframe tbody tr th {\n",
       "        vertical-align: top;\n",
       "    }\n",
       "</style>\n",
       "<table border=\"1\" class=\"dataframe\">\n",
       "  <thead>\n",
       "    <tr style=\"text-align: right;\">\n",
       "      <th></th>\n",
       "      <th>match_id</th>\n",
       "      <th>radiant_win</th>\n",
       "      <th>radiant_heroes0</th>\n",
       "      <th>dire_heroes0</th>\n",
       "      <th>radiant_heroes1</th>\n",
       "      <th>dire_heroes1</th>\n",
       "      <th>radiant_heroes2</th>\n",
       "      <th>dire_heroes2</th>\n",
       "      <th>radiant_heroes3</th>\n",
       "      <th>dire_heroes3</th>\n",
       "      <th>radiant_heroes4</th>\n",
       "      <th>dire_heroes4</th>\n",
       "    </tr>\n",
       "  </thead>\n",
       "  <tbody>\n",
       "    <tr>\n",
       "      <th>count</th>\n",
       "      <td>6.114600e+04</td>\n",
       "      <td>61146.000000</td>\n",
       "      <td>61146.000000</td>\n",
       "      <td>61146.000000</td>\n",
       "      <td>61146.000000</td>\n",
       "      <td>61146.000000</td>\n",
       "      <td>61146.000000</td>\n",
       "      <td>61146.000000</td>\n",
       "      <td>61146.000000</td>\n",
       "      <td>61146.000000</td>\n",
       "      <td>61146.000000</td>\n",
       "      <td>61146.000000</td>\n",
       "    </tr>\n",
       "    <tr>\n",
       "      <th>mean</th>\n",
       "      <td>4.259078e+09</td>\n",
       "      <td>0.553675</td>\n",
       "      <td>51.178556</td>\n",
       "      <td>51.344945</td>\n",
       "      <td>51.587021</td>\n",
       "      <td>51.482893</td>\n",
       "      <td>51.189121</td>\n",
       "      <td>51.706588</td>\n",
       "      <td>51.485788</td>\n",
       "      <td>51.481618</td>\n",
       "      <td>51.025349</td>\n",
       "      <td>51.388382</td>\n",
       "    </tr>\n",
       "    <tr>\n",
       "      <th>std</th>\n",
       "      <td>2.955791e+06</td>\n",
       "      <td>0.497115</td>\n",
       "      <td>34.813854</td>\n",
       "      <td>34.721908</td>\n",
       "      <td>34.760733</td>\n",
       "      <td>34.732313</td>\n",
       "      <td>34.737444</td>\n",
       "      <td>34.766772</td>\n",
       "      <td>34.748095</td>\n",
       "      <td>34.792105</td>\n",
       "      <td>34.803357</td>\n",
       "      <td>34.679337</td>\n",
       "    </tr>\n",
       "    <tr>\n",
       "      <th>min</th>\n",
       "      <td>4.252092e+09</td>\n",
       "      <td>0.000000</td>\n",
       "      <td>1.000000</td>\n",
       "      <td>1.000000</td>\n",
       "      <td>1.000000</td>\n",
       "      <td>1.000000</td>\n",
       "      <td>1.000000</td>\n",
       "      <td>1.000000</td>\n",
       "      <td>1.000000</td>\n",
       "      <td>1.000000</td>\n",
       "      <td>1.000000</td>\n",
       "      <td>1.000000</td>\n",
       "    </tr>\n",
       "    <tr>\n",
       "      <th>25%</th>\n",
       "      <td>4.258275e+09</td>\n",
       "      <td>0.000000</td>\n",
       "      <td>21.000000</td>\n",
       "      <td>21.000000</td>\n",
       "      <td>21.000000</td>\n",
       "      <td>21.000000</td>\n",
       "      <td>21.000000</td>\n",
       "      <td>21.000000</td>\n",
       "      <td>21.000000</td>\n",
       "      <td>21.000000</td>\n",
       "      <td>21.000000</td>\n",
       "      <td>21.000000</td>\n",
       "    </tr>\n",
       "    <tr>\n",
       "      <th>50%</th>\n",
       "      <td>4.259845e+09</td>\n",
       "      <td>1.000000</td>\n",
       "      <td>44.000000</td>\n",
       "      <td>44.000000</td>\n",
       "      <td>44.000000</td>\n",
       "      <td>44.000000</td>\n",
       "      <td>44.000000</td>\n",
       "      <td>45.000000</td>\n",
       "      <td>44.000000</td>\n",
       "      <td>44.000000</td>\n",
       "      <td>44.000000</td>\n",
       "      <td>44.000000</td>\n",
       "    </tr>\n",
       "    <tr>\n",
       "      <th>75%</th>\n",
       "      <td>4.262044e+09</td>\n",
       "      <td>1.000000</td>\n",
       "      <td>83.000000</td>\n",
       "      <td>83.000000</td>\n",
       "      <td>84.000000</td>\n",
       "      <td>83.000000</td>\n",
       "      <td>83.000000</td>\n",
       "      <td>84.000000</td>\n",
       "      <td>83.000000</td>\n",
       "      <td>84.000000</td>\n",
       "      <td>83.000000</td>\n",
       "      <td>83.000000</td>\n",
       "    </tr>\n",
       "    <tr>\n",
       "      <th>max</th>\n",
       "      <td>4.262137e+09</td>\n",
       "      <td>1.000000</td>\n",
       "      <td>121.000000</td>\n",
       "      <td>121.000000</td>\n",
       "      <td>121.000000</td>\n",
       "      <td>121.000000</td>\n",
       "      <td>121.000000</td>\n",
       "      <td>121.000000</td>\n",
       "      <td>121.000000</td>\n",
       "      <td>121.000000</td>\n",
       "      <td>121.000000</td>\n",
       "      <td>121.000000</td>\n",
       "    </tr>\n",
       "  </tbody>\n",
       "</table>\n",
       "</div>"
      ],
      "text/plain": [
       "           match_id   radiant_win  radiant_heroes0  dire_heroes0  \\\n",
       "count  6.114600e+04  61146.000000     61146.000000  61146.000000   \n",
       "mean   4.259078e+09      0.553675        51.178556     51.344945   \n",
       "std    2.955791e+06      0.497115        34.813854     34.721908   \n",
       "min    4.252092e+09      0.000000         1.000000      1.000000   \n",
       "25%    4.258275e+09      0.000000        21.000000     21.000000   \n",
       "50%    4.259845e+09      1.000000        44.000000     44.000000   \n",
       "75%    4.262044e+09      1.000000        83.000000     83.000000   \n",
       "max    4.262137e+09      1.000000       121.000000    121.000000   \n",
       "\n",
       "       radiant_heroes1  dire_heroes1  radiant_heroes2  dire_heroes2  \\\n",
       "count     61146.000000  61146.000000     61146.000000  61146.000000   \n",
       "mean         51.587021     51.482893        51.189121     51.706588   \n",
       "std          34.760733     34.732313        34.737444     34.766772   \n",
       "min           1.000000      1.000000         1.000000      1.000000   \n",
       "25%          21.000000     21.000000        21.000000     21.000000   \n",
       "50%          44.000000     44.000000        44.000000     45.000000   \n",
       "75%          84.000000     83.000000        83.000000     84.000000   \n",
       "max         121.000000    121.000000       121.000000    121.000000   \n",
       "\n",
       "       radiant_heroes3  dire_heroes3  radiant_heroes4  dire_heroes4  \n",
       "count     61146.000000  61146.000000     61146.000000  61146.000000  \n",
       "mean         51.485788     51.481618        51.025349     51.388382  \n",
       "std          34.748095     34.792105        34.803357     34.679337  \n",
       "min           1.000000      1.000000         1.000000      1.000000  \n",
       "25%          21.000000     21.000000        21.000000     21.000000  \n",
       "50%          44.000000     44.000000        44.000000     44.000000  \n",
       "75%          83.000000     84.000000        83.000000     83.000000  \n",
       "max         121.000000    121.000000       121.000000    121.000000  "
      ]
     },
     "execution_count": 2,
     "metadata": {},
     "output_type": "execute_result"
    }
   ],
   "source": [
    "dota2_df = None\n",
    "for filename in glob.glob(os.path.join('dota2_training_data','*.csv')):\n",
    "    if type(dota2_df)==None:\n",
    "        dota2_df = pd.read_csv(filename, usecols=range(1,13))\n",
    "    else:\n",
    "        dota2_df = pd.concat([dota2_df, pd.read_csv(filename, usecols=range(1,13))],ignore_index=True)\n",
    "\n",
    "dota2_df = dota2_df.reindex(np.random.permutation(dota2_df.index))\n",
    "dota2_df.describe()\n"
   ]
  },
  {
   "cell_type": "markdown",
   "metadata": {},
   "source": [
    "# Modeling using a TFRecord dataformat"
   ]
  },
  {
   "cell_type": "markdown",
   "metadata": {},
   "source": [
    "## Build TFRecord input pipeline"
   ]
  },
  {
   "cell_type": "code",
   "execution_count": 2,
   "metadata": {
    "ExecuteTime": {
     "end_time": "2019-03-28T01:54:09.325018Z",
     "start_time": "2019-03-28T01:54:09.313943Z"
    },
    "collapsed": true
   },
   "outputs": [],
   "source": [
    "def _parse_function(record):\n",
    "    \"\"\"Extracts features and labels.\n",
    "  \n",
    "    Args:\n",
    "        record: File path to a TFRecord file    \n",
    "      Returns:\n",
    "    A `tuple` `(labels, features)`:\n",
    "      features: A dict of tensors representing the features\n",
    "      labels: A tensor with the corresponding labels.\n",
    "    \"\"\"\n",
    "    features = {\n",
    "        \"radiant_heroes\": tf.FixedLenFeature([], dtype=tf.string), #array of five 8 bit ints for heroes\n",
    "        \"dire_heroes\": tf.FixedLenFeature([], dtype=tf.string), #array of five 8-bit ints for heroes\n",
    "        \"targets\": tf.FixedLenFeature(shape=[1], dtype=tf.int64)\n",
    "                }\n",
    "  \n",
    "    parsed_features = tf.parse_single_example(record, features)\n",
    "  \n",
    "    radiant_heroes = tf.decode_raw(parsed_features['radiant_heroes'], tf.int64)\n",
    "    dire_heroes = tf.decode_raw(parsed_features['dire_heroes'], tf.int64)\n",
    "    radiant_win = parsed_features['targets']\n",
    "\n",
    "    return  {'radiant_heroes':radiant_heroes, 'dire_heroes':dire_heroes}, radiant_win"
   ]
  },
  {
   "cell_type": "markdown",
   "metadata": {
    "heading_collapsed": true
   },
   "source": [
    "#### Check the parse function worked"
   ]
  },
  {
   "cell_type": "code",
   "execution_count": 3,
   "metadata": {
    "ExecuteTime": {
     "end_time": "2019-02-25T01:02:13.789308Z",
     "start_time": "2019-02-25T01:02:13.729431Z"
    },
    "hidden": true
   },
   "outputs": [
    {
     "data": {
      "text/plain": [
       "<MapDataset shapes: ({radiant_heroes: (?,), dire_heroes: (?,)}, (1,)), types: ({radiant_heroes: tf.int64, dire_heroes: tf.int64}, tf.int64)>"
      ]
     },
     "execution_count": 3,
     "metadata": {},
     "output_type": "execute_result"
    }
   ],
   "source": [
    "# Create the Dataset object.\n",
    "ds = tf.data.TFRecordDataset(os.path.join('dota2_training_data','dota2_training_data.tfrecords'))\n",
    "# Map features and labels with the parse function.\n",
    "ds = ds.map(_parse_function)\n",
    "\n",
    "ds"
   ]
  },
  {
   "cell_type": "code",
   "execution_count": 4,
   "metadata": {
    "ExecuteTime": {
     "end_time": "2019-02-25T01:02:14.408120Z",
     "start_time": "2019-02-25T01:02:14.353545Z"
    },
    "hidden": true,
    "scrolled": true
   },
   "outputs": [
    {
     "data": {
      "text/plain": [
       "({'dire_heroes': array([54, 93, 85, 88, 34]),\n",
       "  'radiant_heroes': array([99,  2, 81, 49,  1])},\n",
       " array([0]))"
      ]
     },
     "execution_count": 4,
     "metadata": {},
     "output_type": "execute_result"
    }
   ],
   "source": [
    "n = ds.make_one_shot_iterator().get_next()\n",
    "sess = tf.Session()\n",
    "sess.run(n)"
   ]
  },
  {
   "cell_type": "markdown",
   "metadata": {},
   "source": [
    "## Model Functions"
   ]
  },
  {
   "cell_type": "code",
   "execution_count": 3,
   "metadata": {
    "ExecuteTime": {
     "end_time": "2019-03-28T01:54:11.492404Z",
     "start_time": "2019-03-28T01:54:11.481786Z"
    },
    "collapsed": true
   },
   "outputs": [],
   "source": [
    "# Create an input_fn that parses the tf.Examples from the given files,\n",
    "# and split them into features and targets.\n",
    "def _input_fn(input_filenames, num_epochs=None, shuffle=True, batch_size=50):\n",
    "   \n",
    "  # Same code as above; create a dataset and map features and labels.\n",
    "    ds = tf.data.TFRecordDataset(input_filenames)\n",
    "    ds = ds.map(_parse_function)\n",
    "\n",
    "    if shuffle:\n",
    "        ds = ds.shuffle(10000)\n",
    "\n",
    "    # Our feature data is variable-length, so we pad and batch\n",
    "    # each field of the dataset structure to whatever size is necessary.\n",
    "    ds = ds.padded_batch(batch_size, ds.output_shapes)\n",
    "  \n",
    "    ds = ds.repeat(num_epochs)\n",
    "  \n",
    "    # Return the next batch of data.\n",
    "    features, labels = ds.make_one_shot_iterator().get_next()\n",
    "    return features, labels"
   ]
  },
  {
   "cell_type": "markdown",
   "metadata": {},
   "source": [
    "## Linear model with explicit vocabulary (all heroes)"
   ]
  },
  {
   "cell_type": "code",
   "execution_count": 4,
   "metadata": {
    "ExecuteTime": {
     "end_time": "2019-03-28T01:54:14.008849Z",
     "start_time": "2019-03-28T01:54:14.002154Z"
    },
    "code_folding": [],
    "collapsed": true
   },
   "outputs": [],
   "source": [
    "def construct_hero_categorical_columns(keys):\n",
    "    \"\"\"Construct categorical features for all features\n",
    "        Args: \n",
    "            input_features: names of input feature columns to use\n",
    "        returns:\n",
    "            a set of categorical columns\n",
    "    \"\"\"\n",
    "    vocab = list(range(105))+list(range(106,114))+list(range(119,121))\n",
    "    return set([tf.feature_column.categorical_column_with_vocabulary_list(key,\n",
    "                                                                     vocabulary_list = vocab,\n",
    "                                                                     num_oov_buckets =0)\n",
    "                                    for key in keys])\n",
    "                                                               "
   ]
  },
  {
   "cell_type": "markdown",
   "metadata": {
    "heading_collapsed": true
   },
   "source": [
    "## Define and train the linear model"
   ]
  },
  {
   "cell_type": "code",
   "execution_count": 5,
   "metadata": {
    "ExecuteTime": {
     "end_time": "2019-02-02T04:50:42.839025Z",
     "start_time": "2019-02-02T04:50:42.798142Z"
    },
    "code_folding": [],
    "collapsed": true,
    "hidden": true
   },
   "outputs": [],
   "source": [
    "def train_linear_model(\n",
    "    learning_rate,\n",
    "    steps,\n",
    "    batch_size,\n",
    "    feature_columns,\n",
    "    training_file,\n",
    "    test_file):\n",
    "    \"\"\"Trains a linear regression model.\n",
    "  \n",
    "    In addition to training, this function also prints training progress information,\n",
    "    as well as a plot of the training and validation loss over time.\n",
    "      \n",
    "    Args:\n",
    "        learning_rate: A `float`, the learning rate.\n",
    "        steps: A non-zero `int`, the total number of training steps. A training step\n",
    "          consists of a forward and backward pass using a single batch.\n",
    "        feature_columns: A `set` specifying the input feature columns to use.\n",
    "        training_examples: A `DataFrame` containing one or more columns from\n",
    "          `dota2_df` to use as input features for training.\n",
    "        training_targets: A `DataFrame` containing exactly one column from\n",
    "          `dota2_df` to use as target for training.\n",
    "      \n",
    "    Returns:\n",
    "        A `LinearClassifier` object trained on the training data.\n",
    "    \"\"\"\n",
    "\n",
    "    periods = 20\n",
    "    steps_per_period = steps / periods\n",
    "\n",
    "    # Create a linear regressor object.\n",
    "    my_optimizer = tf.train.AdagradOptimizer(learning_rate=learning_rate)\n",
    "    my_optimizer = tf.contrib.estimator.clip_gradients_by_norm(my_optimizer, 5.0)\n",
    "    linear_classifier = tf.estimator.LinearClassifier(\n",
    "      feature_columns=feature_columns,\n",
    "      optimizer=my_optimizer,\n",
    "      config=tf.estimator.RunConfig(keep_checkpoint_max=1)\n",
    "      )\n",
    "  \n",
    "    training_input_fn =lambda: _input_fn([training_file])\n",
    "    test_input_fn =lambda: _input_fn([test_file])\n",
    "\n",
    "    # Train the model, but do so inside a loop so that we can periodically assess\n",
    "    # loss metrics.\n",
    "    print(\"Training model...\")\n",
    "    \n",
    "    \n",
    "    training_acc = []\n",
    "    test_acc = []\n",
    "    for i in range(periods):\n",
    "        # Train the model, starting from the prior state.\n",
    "        linear_classifier.train(\n",
    "            input_fn=training_input_fn,\n",
    "            steps=steps_per_period)\n",
    "        \n",
    "        # Take a break and compute predictions.\n",
    "        evaluation_metrics = linear_classifier.evaluate(\n",
    "            input_fn=training_input_fn,\n",
    "            steps=steps_per_period)\n",
    "        training_acc.append(1-evaluation_metrics['accuracy'])\n",
    "                            \n",
    "        evaluation_metrics = linear_classifier.evaluate(\n",
    "            input_fn=test_input_fn,\n",
    "            steps=steps_per_period)    \n",
    "        test_acc.append(1-evaluation_metrics['accuracy'])\n",
    "        \n",
    "        print('test inaccuracy', 1-evaluation_metrics['accuracy'])\n",
    "\n",
    "    print(\"Test set metrics:\")\n",
    "    for m in evaluation_metrics:\n",
    "        print(m, evaluation_metrics[m])\n",
    "    print(\"---\")\n",
    "    \n",
    "    plt.plot(training_acc,label='Training inaccuracy')\n",
    "    plt.plot(test_acc,label='Test inaccuracy')\n",
    "    plt.plot(1-evaluation_metrics['accuracy_baseline']*np.ones(periods),label='Inaccuracy_baseline')\n",
    "    plt.legend()\n",
    "    plt.show()\n",
    "    \n",
    "    return linear_classifier\n"
   ]
  },
  {
   "cell_type": "code",
   "execution_count": 15,
   "metadata": {
    "ExecuteTime": {
     "end_time": "2019-02-03T00:10:03.880614Z",
     "start_time": "2019-02-02T20:16:54.407887Z"
    },
    "hidden": true,
    "scrolled": true
   },
   "outputs": [
    {
     "name": "stdout",
     "output_type": "stream",
     "text": [
      "Training model...\n",
      "test inaccuracy 0.4239489436149597\n",
      "test inaccuracy 0.41861969232559204\n",
      "test inaccuracy 0.41734129190444946\n",
      "test inaccuracy 0.41662925481796265\n",
      "test inaccuracy 0.41609007120132446\n",
      "test inaccuracy 0.41603803634643555\n",
      "test inaccuracy 0.415382444858551\n",
      "test inaccuracy 0.414808452129364\n",
      "test inaccuracy 0.4144744277000427\n",
      "test inaccuracy 0.41412240266799927\n",
      "test inaccuracy 0.4142332077026367\n",
      "test inaccuracy 0.4141892194747925\n",
      "test inaccuracy 0.41393840312957764\n",
      "test inaccuracy 0.41386085748672485\n",
      "test inaccuracy 0.41397160291671753\n",
      "test inaccuracy 0.4137360453605652\n",
      "test inaccuracy 0.4137071967124939\n",
      "test inaccuracy 0.4139120578765869\n",
      "test inaccuracy 0.4138656258583069\n",
      "test inaccuracy 0.4137784242630005\n",
      "Test set metrics:\n",
      "accuracy 0.5862216\n",
      "accuracy_baseline 0.5452214\n",
      "auc 0.6078432\n",
      "auc_precision_recall 0.6372294\n",
      "average_loss 0.67102975\n",
      "label/mean 0.5452214\n",
      "loss 33.55103\n",
      "precision 0.59496564\n",
      "prediction/mean 0.54470664\n",
      "recall 0.75519633\n",
      "global_step 1000000\n",
      "---\n"
     ]
    },
    {
     "data": {
      "image/png": "[encoded data removed]",
      "text/plain": [
       "<matplotlib.figure.Figure at 0x13bbb6240>"
      ]
     },
     "metadata": {},
     "output_type": "display_data"
    }
   ],
   "source": [
    "training_file = os.path.join('dota2_training_data','dota2_training_data.tfrecords')\n",
    "test_file = os.path.join('dota2_test_data', 'dota2_test_data.tfrecords')\n",
    "\n",
    "trained_linear_model = train_linear_model(\n",
    "    learning_rate=0.002,\n",
    "    steps=1e6,\n",
    "    batch_size=5000,\n",
    "    feature_columns=construct_hero_categorical_columns(['radiant_heroes','dire_heroes']),\n",
    "    training_file=training_file,\n",
    "    test_file=test_file)"
   ]
  },
  {
   "cell_type": "markdown",
   "metadata": {
    "hidden": true
   },
   "source": [
    "### Validate model\n",
    "only do this if you're done training!!"
   ]
  },
  {
   "cell_type": "code",
   "execution_count": 17,
   "metadata": {
    "ExecuteTime": {
     "end_time": "2019-02-03T00:27:52.173293Z",
     "start_time": "2019-02-03T00:27:49.447673Z"
    },
    "hidden": true
   },
   "outputs": [
    {
     "name": "stdout",
     "output_type": "stream",
     "text": [
      "accuracy 0.5852\n",
      "accuracy_baseline 0.5486\n",
      "auc 0.6071559\n",
      "auc_precision_recall 0.6377059\n",
      "average_loss 0.67106634\n",
      "label/mean 0.5486\n",
      "loss 33.553318\n",
      "precision 0.59609306\n",
      "prediction/mean 0.5435795\n",
      "recall 0.75647104\n",
      "global_step 1000000\n"
     ]
    }
   ],
   "source": [
    "validation_file = os.path.join('dota2_validation_data', 'dota2_validation_data.tfrecords')\n",
    "validation_input_fn =lambda: _input_fn([validation_file])\n",
    "evaluation_metrics = trained_linear_model.evaluate(\n",
    "            input_fn=validation_input_fn,\n",
    "            steps=100)\n",
    "for m in evaluation_metrics:\n",
    "    print(m, evaluation_metrics[m])"
   ]
  },
  {
   "cell_type": "markdown",
   "metadata": {},
   "source": [
    "## Define and train a DNN model"
   ]
  },
  {
   "cell_type": "markdown",
   "metadata": {},
   "source": [
    "### Define feature column constructor functions"
   ]
  },
  {
   "cell_type": "code",
   "execution_count": 5,
   "metadata": {
    "ExecuteTime": {
     "end_time": "2019-03-28T01:54:19.920456Z",
     "start_time": "2019-03-28T01:54:19.914124Z"
    },
    "collapsed": true
   },
   "outputs": [],
   "source": [
    "def construct_indicator_columns(feature_columns):\n",
    "    \"\"\"Construct indicator columns for all features\n",
    "            from categorical columns\n",
    "        Args: \n",
    "            feature_columns: Set of 'tf.feature_column.categorical_column'\n",
    "                to convert to indicator columns\n",
    "        returns:\n",
    "            a list of indicator columns\n",
    "    \"\"\"\n",
    "    indicator_columns = []\n",
    "    for column in list(feature_columns):\n",
    "        indicator_columns.append(tf.feature_column.indicator_column(column))\n",
    "        \n",
    "    return indicator_columns\n",
    "        "
   ]
  },
  {
   "cell_type": "code",
   "execution_count": 6,
   "metadata": {
    "ExecuteTime": {
     "end_time": "2019-03-28T01:54:21.583850Z",
     "start_time": "2019-03-28T01:54:21.576946Z"
    },
    "collapsed": true
   },
   "outputs": [],
   "source": [
    "def construct_embedding_columns(feature_columns, dimension):\n",
    "    \"\"\"Construct embedding columns for all features\n",
    "            from categorical columns\n",
    "        Args:\n",
    "            feature_columns: `Set` of 'tf.feature_column.categorical_column'\n",
    "                to convert to embedding columns\n",
    "            dimension: `int` that shows the \n",
    "        returns:\n",
    "            a list of embedding columns\n",
    "    \"\"\"\n",
    "            \n",
    "    embedding_columns = []\n",
    "    for column in list(feature_columns):\n",
    "        embedding_columns.append(tf.feature_column.embedding_column(column,dimension=dimension))\n",
    "        \n",
    "    return embedding_columns"
   ]
  },
  {
   "cell_type": "markdown",
   "metadata": {},
   "source": [
    "### Define model training function"
   ]
  },
  {
   "cell_type": "code",
   "execution_count": 7,
   "metadata": {
    "ExecuteTime": {
     "end_time": "2019-03-28T01:54:23.650192Z",
     "start_time": "2019-03-28T01:54:23.609277Z"
    },
    "collapsed": true
   },
   "outputs": [],
   "source": [
    "def train_dnn_model(\n",
    "    my_optimizer,\n",
    "    hidden_units,\n",
    "    steps,\n",
    "    batch_size,\n",
    "    feature_columns,\n",
    "    training_file,\n",
    "    test_file):\n",
    "    \"\"\"Trains a deep neural network regression model.\n",
    "  \n",
    "    In addition to training, this function also prints training progress information,\n",
    "    as well as a plot of the training and validation loss over time.\n",
    "      \n",
    "    Args:\n",
    "        learning_rate: A `float`, the learning rate.\n",
    "        hidden_units: A `list` of `ints` specifying the number of layers and number \n",
    "            of nodes per layer.\n",
    "        steps: A non-zero `int`, the total number of training steps. A training step\n",
    "          consists of a forward and backward pass using a single batch.\n",
    "        feature_columns: A `set` specifying the input feature columns to use.\n",
    "        training_examples: A `DataFrame` containing one or more columns from\n",
    "          `dota2_df` to use as input features for training.\n",
    "        training_targets: A `DataFrame` containing exactly one column from\n",
    "          `dota2_df` to use as target for training.\n",
    "      \n",
    "    Returns:\n",
    "        A `DNNClassifer` object trained on the training data.\n",
    "    \"\"\"\n",
    "\n",
    "    periods = 20\n",
    "    steps_per_period = steps / periods\n",
    "\n",
    "    # Create a dnn regressor object.\n",
    "    dnn_classifier = tf.estimator.DNNClassifier(\n",
    "      feature_columns=feature_columns,\n",
    "      hidden_units=hidden_units,\n",
    "      optimizer=my_optimizer\n",
    "        )\n",
    "  \n",
    "    training_input_fn =lambda: _input_fn([training_file],batch_size=batch_size)\n",
    "    test_input_fn =lambda: _input_fn([test_file],batch_size=batch_size)\n",
    "\n",
    "    # Train the model, but do so inside a loop so that we can periodically assess\n",
    "    # loss metrics.\n",
    "    print(\"Training model...\")\n",
    "    \n",
    "    \n",
    "    training_acc = []\n",
    "    test_acc = []\n",
    "    for i in range(periods):\n",
    "        # Train the model, starting from the prior state.\n",
    "        dnn_classifier.train(\n",
    "            input_fn=training_input_fn,\n",
    "            steps=steps_per_period)\n",
    "        \n",
    "        # Take a break and compute predictions.\n",
    "        evaluation_metrics = dnn_classifier.evaluate(\n",
    "            input_fn=training_input_fn,\n",
    "            steps=steps_per_period)\n",
    "        training_acc.append(evaluation_metrics['accuracy'])\n",
    "        #print('training accuracy %f' %(evaluation_metrics['accuracy'])) \n",
    "        \n",
    "        evaluation_metrics = dnn_classifier.evaluate(\n",
    "            input_fn=test_input_fn,\n",
    "            steps=steps_per_period)    \n",
    "        test_acc.append(evaluation_metrics['accuracy'])\n",
    "        \n",
    "        print('test accuracy %f' %(evaluation_metrics['accuracy']))\n",
    "\n",
    "    print(\"Test set metrics:\")\n",
    "    for m in evaluation_metrics:\n",
    "        print(m, evaluation_metrics[m])\n",
    "    print(\"---\")\n",
    "    \n",
    "    plt.plot(training_acc,label='Training accuracy')\n",
    "    plt.plot(test_acc,label='Test accuracy')\n",
    "    plt.plot(evaluation_metrics['accuracy_baseline']*np.ones(periods),label='Baseline accuracy')\n",
    "    plt.legend()\n",
    "    plt.show()\n",
    "    \n",
    "    return dnn_classifier\n"
   ]
  },
  {
   "cell_type": "markdown",
   "metadata": {},
   "source": [
    "### Specify path to tfrecord files and construct feature colums"
   ]
  },
  {
   "cell_type": "code",
   "execution_count": 11,
   "metadata": {
    "ExecuteTime": {
     "end_time": "2019-03-28T02:39:37.533231Z",
     "start_time": "2019-03-28T02:39:37.527547Z"
    },
    "collapsed": true
   },
   "outputs": [],
   "source": [
    "training_file = os.path.join('dota2_training_data','dota2_training_data.tfrecords')\n",
    "test_file = os.path.join('dota2_test_data', 'dota2_test_data.tfrecords')\n",
    "\n",
    "categorical_feature_columns = construct_hero_categorical_columns(['radiant_heroes','dire_heroes'])\n",
    "indicator_feature_columns = construct_indicator_columns(categorical_feature_columns)\n",
    "embedding_feature_columns = construct_embedding_columns(categorical_feature_columns,dimension=4)"
   ]
  },
  {
   "cell_type": "markdown",
   "metadata": {},
   "source": [
    "### Train model"
   ]
  },
  {
   "cell_type": "code",
   "execution_count": 16,
   "metadata": {
    "ExecuteTime": {
     "end_time": "2019-03-29T05:48:12.940046Z",
     "start_time": "2019-03-29T02:41:16.958702Z"
    }
   },
   "outputs": [
    {
     "name": "stdout",
     "output_type": "stream",
     "text": [
      "Training model...\n",
      "test accuracy 0.584936\n",
      "test accuracy 0.586324\n",
      "test accuracy 0.585973\n",
      "test accuracy 0.586271\n",
      "test accuracy 0.587115\n",
      "test accuracy 0.588717\n",
      "test accuracy 0.589019\n",
      "test accuracy 0.589923\n",
      "test accuracy 0.590316\n",
      "test accuracy 0.590041\n",
      "test accuracy 0.590235\n",
      "test accuracy 0.589763\n",
      "test accuracy 0.590312\n",
      "test accuracy 0.590221\n",
      "test accuracy 0.590629\n",
      "test accuracy 0.590294\n",
      "test accuracy 0.590878\n",
      "test accuracy 0.590566\n",
      "test accuracy 0.590870\n",
      "test accuracy 0.590835\n",
      "Test set metrics:\n",
      "accuracy 0.590835\n",
      "accuracy_baseline 0.5452236\n",
      "auc 0.61599827\n",
      "auc_precision_recall 0.64547336\n",
      "average_loss 0.66797173\n",
      "label/mean 0.5452236\n",
      "loss 1993.201\n",
      "precision 0.6038007\n",
      "prediction/mean 0.5422954\n",
      "recall 0.72579604\n",
      "global_step 15000\n",
      "---\n"
     ]
    },
    {
     "data": {
      "image/png": "[encoded data removed]",
      "text/plain": [
       "<matplotlib.figure.Figure at 0x14ce2add8>"
      ]
     },
     "metadata": {},
     "output_type": "display_data"
    }
   ],
   "source": [
    "my_optimizer = tf.contrib.opt.AdamWOptimizer(weight_decay=0.0004, learning_rate=0.003)\n",
    "#my_optimizer = tf.contrib.estimator.clip_gradients_by_norm(my_optimizer, 5.0)\n",
    "\n",
    "trained_dnn_model = train_dnn_model(\n",
    "    my_optimizer = my_optimizer,\n",
    "    hidden_units = [10,10],\n",
    "    steps=1.5e4,\n",
    "    batch_size=3000,\n",
    "    feature_columns=embedding_feature_columns,\n",
    "    training_file=training_file,\n",
    "    test_file=test_file)"
   ]
  },
  {
   "cell_type": "markdown",
   "metadata": {
    "heading_collapsed": true
   },
   "source": [
    "### Validate model\n",
    "only do this if you're done training!!"
   ]
  },
  {
   "cell_type": "code",
   "execution_count": 82,
   "metadata": {
    "ExecuteTime": {
     "end_time": "2019-03-23T16:13:03.237637Z",
     "start_time": "2019-03-23T16:09:10.322353Z"
    },
    "hidden": true,
    "scrolled": true
   },
   "outputs": [
    {
     "name": "stdout",
     "output_type": "stream",
     "text": [
      "accuracy 0.5869868\n",
      "accuracy_baseline 0.5434724\n",
      "auc 0.61382484\n",
      "auc_precision_recall 0.6421689\n",
      "average_loss 0.66916025\n",
      "label/mean 0.5434724\n",
      "loss 33.45801\n",
      "precision 0.60038733\n",
      "prediction/mean 0.5420707\n",
      "recall 0.7178271\n",
      "global_step 50000\n"
     ]
    }
   ],
   "source": [
    "validation_file = os.path.join('dota2_validation_data', 'dota2_validation_data.tfrecords')\n",
    "validation_input_fn =lambda: _input_fn([validation_file])\n",
    "evaluation_metrics = trained_dnn_model.evaluate(\n",
    "            input_fn=validation_input_fn,\n",
    "            steps=50000)\n",
    "for m in evaluation_metrics:\n",
    "    print(m, evaluation_metrics[m])"
   ]
  },
  {
   "cell_type": "markdown",
   "metadata": {},
   "source": [
    "### Investigate embeding layer"
   ]
  },
  {
   "cell_type": "code",
   "execution_count": 79,
   "metadata": {
    "ExecuteTime": {
     "end_time": "2018-12-10T08:16:07.422456Z",
     "start_time": "2018-12-10T08:16:07.199606Z"
    },
    "collapsed": true
   },
   "outputs": [],
   "source": [
    "hero_list = interface('IEconDOTA2_570').GetHeroes(itemizedonly = True)['result']['heroes']"
   ]
  },
  {
   "cell_type": "code",
   "execution_count": 85,
   "metadata": {
    "ExecuteTime": {
     "end_time": "2018-12-10T08:19:37.785231Z",
     "start_time": "2018-12-10T08:19:36.875868Z"
    }
   },
   "outputs": [
    {
     "data": {
      "image/png": "[encoded data removed]",
      "text/plain": [
       "<matplotlib.figure.Figure at 0x1391cb7b8>"
      ]
     },
     "metadata": {},
     "output_type": "display_data"
    }
   ],
   "source": [
    "vocab = list(range(105))+list(range(106,114))+list(range(119,121))\n",
    "dire_embedding_matrix = trained_dnn_model.get_variable_value(\n",
    "    'dnn/input_from_feature_columns/input_layer/dire_heroes_embedding/embedding_weights')\n",
    "\n",
    "radiant_embedding_matrix = trained_dnn_model.get_variable_value(\n",
    "    'dnn/input_from_feature_columns/input_layer/radiant_heroes_embedding/embedding_weights')\n",
    "\n",
    "for hero_index in range(len(vocab)):\n",
    "    # Create a one-hot encoding for our term. It has 0s everywhere, except for\n",
    "    # a single 1 in the coordinate that corresponds to that term.\n",
    "    dire_vector = np.zeros(len(vocab))\n",
    "    dire_vector[hero_index] = 1\n",
    "    radiant_vector = np.zeros(len(vocab))\n",
    "    radiant_vector[hero_index] = 1\n",
    "    # We'll now project that one-hot vector into the embedding space.\n",
    "    dire_embedding_xy = np.matmul(dire_vector, dire_embedding_matrix)\n",
    "    radiant_embedding_xy = np.matmul(dire_vector,dire_embedding_matrix)\n",
    "    #plt.text(dire_embedding_xy[0],\n",
    "    #       dire_embedding_xy[1],\n",
    "    #       hero_list[hero_index]['name'][14:],fontsize=8)\n",
    "    plt.text(radiant_embedding_xy[0],\n",
    "           radiant_embedding_xy[3],\n",
    "           hero_list[hero_index]['name'][14:],fontsize=8,)\n",
    "\n",
    "# Do a little setup to make sure the plot displays nicely.\n",
    "plt.rcParams[\"figure.figsize\"] = (15, 15)\n",
    "plt.xlim(1.2 * dire_embedding_matrix.min(), 1.2 * dire_embedding_matrix.max())\n",
    "plt.ylim(1.2 * dire_embedding_matrix.min(), 1.2 * dire_embedding_matrix.max())\n",
    "plt.show() "
   ]
  },
  {
   "cell_type": "markdown",
   "metadata": {
    "heading_collapsed": true
   },
   "source": [
    "# Preprocessing, input functions, and linear training for DataFrame data format"
   ]
  },
  {
   "cell_type": "markdown",
   "metadata": {
    "hidden": true
   },
   "source": [
    "## Preprocess functions for input without TFRecords format"
   ]
  },
  {
   "cell_type": "code",
   "execution_count": 46,
   "metadata": {
    "ExecuteTime": {
     "end_time": "2018-12-06T07:06:11.844506Z",
     "start_time": "2018-12-06T07:06:11.781414Z"
    },
    "code_folding": [],
    "hidden": true,
    "scrolled": false
   },
   "outputs": [
    {
     "name": "stdout",
     "output_type": "stream",
     "text": [
      "\n",
      "Training targets summary\n"
     ]
    },
    {
     "data": {
      "text/html": [
       "<div>\n",
       "<style>\n",
       "    .dataframe thead tr:only-child th {\n",
       "        text-align: right;\n",
       "    }\n",
       "\n",
       "    .dataframe thead th {\n",
       "        text-align: left;\n",
       "    }\n",
       "\n",
       "    .dataframe tbody tr th {\n",
       "        vertical-align: top;\n",
       "    }\n",
       "</style>\n",
       "<table border=\"1\" class=\"dataframe\">\n",
       "  <thead>\n",
       "    <tr style=\"text-align: right;\">\n",
       "      <th></th>\n",
       "      <th>radiant_win</th>\n",
       "    </tr>\n",
       "  </thead>\n",
       "  <tbody>\n",
       "    <tr>\n",
       "      <th>count</th>\n",
       "      <td>6157.000000</td>\n",
       "    </tr>\n",
       "    <tr>\n",
       "      <th>mean</th>\n",
       "      <td>0.549943</td>\n",
       "    </tr>\n",
       "    <tr>\n",
       "      <th>std</th>\n",
       "      <td>0.497540</td>\n",
       "    </tr>\n",
       "    <tr>\n",
       "      <th>min</th>\n",
       "      <td>0.000000</td>\n",
       "    </tr>\n",
       "    <tr>\n",
       "      <th>25%</th>\n",
       "      <td>0.000000</td>\n",
       "    </tr>\n",
       "    <tr>\n",
       "      <th>50%</th>\n",
       "      <td>1.000000</td>\n",
       "    </tr>\n",
       "    <tr>\n",
       "      <th>75%</th>\n",
       "      <td>1.000000</td>\n",
       "    </tr>\n",
       "    <tr>\n",
       "      <th>max</th>\n",
       "      <td>1.000000</td>\n",
       "    </tr>\n",
       "  </tbody>\n",
       "</table>\n",
       "</div>"
      ],
      "text/plain": [
       "       radiant_win\n",
       "count  6157.000000\n",
       "mean      0.549943\n",
       "std       0.497540\n",
       "min       0.000000\n",
       "25%       0.000000\n",
       "50%       1.000000\n",
       "75%       1.000000\n",
       "max       1.000000"
      ]
     },
     "metadata": {},
     "output_type": "display_data"
    },
    {
     "name": "stdout",
     "output_type": "stream",
     "text": [
      "\n",
      "validation target summary\n"
     ]
    },
    {
     "data": {
      "text/html": [
       "<div>\n",
       "<style>\n",
       "    .dataframe thead tr:only-child th {\n",
       "        text-align: right;\n",
       "    }\n",
       "\n",
       "    .dataframe thead th {\n",
       "        text-align: left;\n",
       "    }\n",
       "\n",
       "    .dataframe tbody tr th {\n",
       "        vertical-align: top;\n",
       "    }\n",
       "</style>\n",
       "<table border=\"1\" class=\"dataframe\">\n",
       "  <thead>\n",
       "    <tr style=\"text-align: right;\">\n",
       "      <th></th>\n",
       "      <th>radiant_win</th>\n",
       "    </tr>\n",
       "  </thead>\n",
       "  <tbody>\n",
       "    <tr>\n",
       "      <th>count</th>\n",
       "      <td>2640.000000</td>\n",
       "    </tr>\n",
       "    <tr>\n",
       "      <th>mean</th>\n",
       "      <td>0.549242</td>\n",
       "    </tr>\n",
       "    <tr>\n",
       "      <th>std</th>\n",
       "      <td>0.497664</td>\n",
       "    </tr>\n",
       "    <tr>\n",
       "      <th>min</th>\n",
       "      <td>0.000000</td>\n",
       "    </tr>\n",
       "    <tr>\n",
       "      <th>25%</th>\n",
       "      <td>0.000000</td>\n",
       "    </tr>\n",
       "    <tr>\n",
       "      <th>50%</th>\n",
       "      <td>1.000000</td>\n",
       "    </tr>\n",
       "    <tr>\n",
       "      <th>75%</th>\n",
       "      <td>1.000000</td>\n",
       "    </tr>\n",
       "    <tr>\n",
       "      <th>max</th>\n",
       "      <td>1.000000</td>\n",
       "    </tr>\n",
       "  </tbody>\n",
       "</table>\n",
       "</div>"
      ],
      "text/plain": [
       "       radiant_win\n",
       "count  2640.000000\n",
       "mean      0.549242\n",
       "std       0.497664\n",
       "min       0.000000\n",
       "25%       0.000000\n",
       "50%       1.000000\n",
       "75%       1.000000\n",
       "max       1.000000"
      ]
     },
     "metadata": {},
     "output_type": "display_data"
    }
   ],
   "source": [
    "#Split training and validation datasets with a given training fraction. \n",
    "\n",
    "#to begin with we have a sample of 7050 matches to validation the model with.\n",
    "#This may not be enough games to accurately determine win probability but probably good enough for first validations\n",
    "\n",
    "training_fraction = 0.7\n",
    "head_num = int(training_fraction * len(dota2_df))\n",
    "tail_num = len(dota2_df)-head_num\n",
    "\n",
    "training_examples = preprocess_features(dota2_df.head(head_num))\n",
    "training_targets = preprocess_targets(dota2_df.head(head_num))\n",
    "\n",
    "validation_examples = preprocess_features(dota2_df.tail(tail_num))\n",
    "validation_targets = preprocess_targets(dota2_df.tail(tail_num))\n",
    "\n",
    "#print(\"Training features summary\")\n",
    "#training_examples.style\n",
    "print(\"\\nTraining targets summary\")\n",
    "display.display(training_targets.describe())\n",
    "\n",
    "#print(\"\\nvalidation feature summary\")\n",
    "#validation_examples.style\n",
    "print(\"\\nvalidation target summary\")\n",
    "display.display(validation_targets.describe())"
   ]
  },
  {
   "cell_type": "code",
   "execution_count": 3,
   "metadata": {
    "ExecuteTime": {
     "end_time": "2018-12-08T02:32:38.986118Z",
     "start_time": "2018-12-08T02:32:38.969398Z"
    },
    "code_folding": [],
    "collapsed": true,
    "hidden": true
   },
   "outputs": [],
   "source": [
    "def preprocess_features(dota2_df):\n",
    "    \"\"\"Take dota2_df and create a dataframe containing only the features for our model\n",
    "            Args: \n",
    "                dota2_df: Dataframe containing dota2 training and test data\n",
    "            returns: \n",
    "                processed_df: pandas DataFrame containing only feature columns\n",
    "    \"\"\"\n",
    "    \n",
    "    #Use arrays of heroes for each team as features rather than each hero\n",
    "    #individually to help model fit?\n",
    "    #This is an attempt to make the model more similar to the movie review\n",
    "    #text analysis example in the Google ML Crash Course\n",
    "    processed_df = pd.DataFrame()\n",
    "    \n",
    "    processed_df['radiant_heroes'] = list(np.array(dota2_df.loc[:,['radiant_heroes0',\n",
    "                                                'radiant_heroes1','radiant_heroes2',\n",
    "                                                'radiant_heroes3','radiant_heroes4']]))\n",
    "    processed_df['dire_heroes'] = list(np.array(dota2_df.loc[:,['dire_heroes0',\n",
    "                                    'dire_heroes1','dire_heroes2',\n",
    "                                    'dire_heroes3','dire_heroes4']]))\n",
    "    \n",
    "    ##only features (to start with) are the heroes in the game\n",
    "    #processed_df = dota2_df[['radiant_heroes0', 'radiant_heroes1',\n",
    "    #                   'radiant_heroes2', 'radiant_heroes3', 'radiant_heroes4',\n",
    "    #                    'dire_heroes0', 'dire_heroes1', 'dire_heroes2',\n",
    "    #                    'dire_heroes3', 'dire_heroes4']]\n",
    "    \n",
    "    ##create two synthetic features that is the product of all heroes for each team\n",
    "    #processed_df['radiant_hero_product'] = dota2_df['radiant_heroes0']*dota2_df['radiant_heroes1']*dota2_df['radiant_heroes2']dota2_df['radiant_heroes3']*dota2_df['radiant_heroes4']\n",
    "    #processed_df['dire_hero_product'] = dota2_df['dire_heroes0']*dota2_df['dire_heroes1']*dota2_df['dire_heroes2']dota2_df['dire_heroes3']*dota2_df['dire_heroes4']\n",
    "    \n",
    "    return processed_df\n",
    "    \n",
    "def preprocess_targets(dota2_df):\n",
    "    \"\"\"Take dota2_df and create a dataframe containing only the targets for our model\n",
    "            Args: \n",
    "                dota2_df: Dataframe containing dota2 training and test data\n",
    "            returns: \n",
    "                target_df: pandas DataFrame containing only the target column\n",
    "    \"\"\"\n",
    "    target_df = pd.DataFrame()\n",
    "    target_df['radiant_win'] = dota2_df['radiant_win']\n",
    "    \n",
    "    return target_df"
   ]
  },
  {
   "cell_type": "markdown",
   "metadata": {
    "hidden": true
   },
   "source": [
    "## Build Functions for doing linear classifier modelling without TFRecords"
   ]
  },
  {
   "cell_type": "code",
   "execution_count": 77,
   "metadata": {
    "ExecuteTime": {
     "end_time": "2018-12-05T05:52:09.516609Z",
     "start_time": "2018-12-05T05:52:09.505248Z"
    },
    "collapsed": true,
    "hidden": true,
    "scrolled": true
   },
   "outputs": [],
   "source": [
    "def my_input_fn(features, targets, batch_size=1, shuffle=True, num_epochs=None):\n",
    "    \"\"\"Trains a logistic regression model.\n",
    "  \n",
    "    Args:\n",
    "      features: pandas DataFrame of features\n",
    "      targets: pandas DataFrame of targets\n",
    "      batch_size: Size of batches to be passed to the model\n",
    "      shuffle: True or False. Whether to shuffle the data.\n",
    "      num_epochs: Number of epochs for which data should be repeated. None = repeat indefinitely\n",
    "    Returns:\n",
    "      Tuple of (features, labels) for next data batch\n",
    "    \"\"\"\n",
    "    \n",
    "    # Convert pandas data into a dict of np arrays.\n",
    "    features = {key:np.array(value) for key,value in dict(features).items()}                                           \n",
    " \n",
    "    # Construct a dataset, and configure batching/repeating.\n",
    "    ds = tf.data.Dataset.from_tensor_slices((features,targets)) # warning: 2GB limit\n",
    "    ds = ds.batch(batch_size).repeat(num_epochs)\n",
    "    \n",
    "    # Shuffle the data, if specified.\n",
    "    if shuffle:\n",
    "        ds = ds.shuffle(10000)\n",
    "    \n",
    "    # Return the next batch of data.\n",
    "    features, labels = ds.make_one_shot_iterator().get_next()\n",
    "    return features, labels"
   ]
  },
  {
   "cell_type": "markdown",
   "metadata": {
    "hidden": true
   },
   "source": [
    "### DNN model training "
   ]
  },
  {
   "cell_type": "code",
   "execution_count": 86,
   "metadata": {
    "collapsed": true,
    "hidden": true
   },
   "outputs": [],
   "source": [
    "def train_dnn_model(\n",
    "    learning_rate,\n",
    "    regularization,\n",
    "    hidden_units,\n",
    "    steps,\n",
    "    batch_size,\n",
    "    feature_columns,\n",
    "    training_examples,\n",
    "    training_targets):\n",
    "    \"\"\"Trains a deep neural network regression model.\n",
    "  \n",
    "    In addition to training, this function also prints training progress information,\n",
    "    as well as a plot of the training and validation loss over time.\n",
    "      \n",
    "    Args:\n",
    "        learning_rate: A `float`, the learning rate.\n",
    "        l1_regularization: A `float`, the L1 regularization rate. This regularizatin \n",
    "          penalizes non-zero weights in the model to prevent overfitting as well as\n",
    "          save memory.\n",
    "        l2_regularization: A `float`, the L2 regularization rate. This regularization\n",
    "          penalizes large weights in the model to prevent overfitting.\n",
    "        hidden_units: A list of `ints`, the number of nodes in each layer for the DNN\n",
    "          model.\n",
    "        steps: A non-zero `int`, the total number of training steps. A training step\n",
    "          consists of a forward and backward pass using a single batch.\n",
    "        feature_columns: A `set` specifying the input feature columns to use.\n",
    "        training_examples: A `DataFrame` containing one or more columns from\n",
    "          `dota2_df` to use as input features for training.\n",
    "        training_targets: A `DataFrame` containing exactly one column from\n",
    "          `dota2_df` to use as target for training.\n",
    "      \n",
    "    Returns:\n",
    "        A `DNNClassifer` object trained on the training data.\n",
    "    \"\"\"\n",
    "\n",
    "    periods = 10\n",
    "    steps_per_period = steps / periods\n",
    "\n",
    "    # Create a linear regressor object.\n",
    "    my_optimizer = tf.train.AdagradOptimizer(learning_rate=learning_rate)\n",
    "    my_optimizer = tf.contrib.estimator.clip_gradients_by_norm(my_optimizer, 5.0)\n",
    "    dnn_classifier = tf.estimator.DNNClassifier(\n",
    "      feature_columns=feature_columns,\n",
    "      hidden_units=hidden_units,\n",
    "      optimizer=my_optimizer\n",
    "      )\n",
    "  \n",
    "    training_input_fn = lambda: my_input_fn(training_examples, \n",
    "                                          training_targets[\"radiant_win\"], \n",
    "                                          batch_size=batch_size)\n",
    "    predict_training_input_fn = lambda: my_input_fn(training_examples, \n",
    "                                                  training_targets[\"radiant_win\"], \n",
    "                                                  num_epochs=1, \n",
    "                                                  shuffle=False)\n",
    "\n",
    "    # Train the model, but do so inside a loop so that we can periodically assess\n",
    "    # loss metrics.\n",
    "    print(\"Training model...\")\n",
    "    print(\"RMSE (on training data):\")\n",
    "    training_rmse = []\n",
    "    for period in range (0, periods):\n",
    "        # Train the model, starting from the prior state.\n",
    "        dnn_classifier.train(\n",
    "            input_fn=training_input_fn,\n",
    "            steps=steps_per_period\n",
    "            )\n",
    "        # Take a break and compute predictions.\n",
    "        training_predictions = dnn_classifier.predict(input_fn=predict_training_input_fn)\n",
    "    \n",
    "    print(\"Model training finished.\")\n",
    "\n",
    "\n",
    "    return dnn_classifier"
   ]
  },
  {
   "cell_type": "code",
   "execution_count": null,
   "metadata": {
    "collapsed": true,
    "hidden": true
   },
   "outputs": [],
   "source": [
    "trained_linear_model = train_dnn_model(\n",
    "    learning_rate=0.07,\n",
    "    regularization=0.01\n",
    "    steps=1000,\n",
    "    batch_size=100,\n",
    "    feature_columns=construct_hero_categorical_columns(training_examples),\n",
    "    training_examples=training_examples,\n",
    "    training_targets=training_targets)"
   ]
  }
 ],
 "metadata": {
  "kernelspec": {
   "display_name": "Python 3",
   "language": "python",
   "name": "python3"
  },
  "language_info": {
   "codemirror_mode": {
    "name": "ipython",
    "version": 3
   },
   "file_extension": ".py",
   "mimetype": "text/x-python",
   "name": "python",
   "nbconvert_exporter": "python",
   "pygments_lexer": "ipython3",
   "version": "3.6.1"
  },
  "notify_time": "30"
 },
 "nbformat": 4,
 "nbformat_minor": 2
}
