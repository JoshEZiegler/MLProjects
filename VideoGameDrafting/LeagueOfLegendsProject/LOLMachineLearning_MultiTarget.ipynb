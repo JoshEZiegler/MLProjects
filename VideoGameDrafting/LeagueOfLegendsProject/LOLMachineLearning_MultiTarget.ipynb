{
 "cells": [
  {
   "cell_type": "code",
   "execution_count": 20,
   "metadata": {
    "ExecuteTime": {
     "end_time": "2019-07-21T04:23:57.982828Z",
     "start_time": "2019-07-21T04:23:57.972050Z"
    },
    "scrolled": false
   },
   "outputs": [],
   "source": [
    "import seaborn as sns\n",
    "import pandas as pd\n",
    "import pylab as plt\n",
    "import numpy as np\n",
    "import os\n",
    "import tensorflow as tf\n",
    "from IPython import display\n",
    "from sklearn import metrics\n",
    "import glob\n",
    "import sys\n",
    "from riotwatcher import RiotWatcher\n",
    "import requests\n",
    "import json\n",
    "\n",
    "api_file = os.path.join('..','..','..','apikeys','LOL_api_key.txt')\n",
    "with open(api_file, 'r') as fin:\n",
    "    watcher = RiotWatcher(fin.readline())\n",
    "\n",
    "tf.logging.set_verbosity(tf.logging.ERROR)"
   ]
  },
  {
   "cell_type": "markdown",
   "metadata": {},
   "source": [
    "### Get all champs in game from static data file (.json)"
   ]
  },
  {
   "cell_type": "code",
   "execution_count": 18,
   "metadata": {
    "ExecuteTime": {
     "end_time": "2019-07-21T04:23:51.271390Z",
     "start_time": "2019-07-21T04:23:51.260372Z"
    },
    "code_folding": []
   },
   "outputs": [],
   "source": [
    "champfile=os.path.join('lol_data','version6.24.1_champion.json')\n",
    "with open(champfile,'r') as fin:\n",
    "    champdata=json.load(fin)"
   ]
  },
  {
   "cell_type": "code",
   "execution_count": 19,
   "metadata": {
    "ExecuteTime": {
     "end_time": "2019-07-21T04:23:52.696859Z",
     "start_time": "2019-07-21T04:23:52.691747Z"
    },
    "code_folding": []
   },
   "outputs": [],
   "source": [
    "champ_vocab=[]\n",
    "for name,data in champdata['data'].items():\n",
    "    champ_vocab.append(data['key'])\n",
    "champ_vocab = [int(i) for i in champ_vocab]"
   ]
  },
  {
   "cell_type": "markdown",
   "metadata": {},
   "source": [
    "## Input pipeline for tfrecord data"
   ]
  },
  {
   "cell_type": "code",
   "execution_count": 5,
   "metadata": {
    "ExecuteTime": {
     "end_time": "2019-07-21T04:23:12.976303Z",
     "start_time": "2019-07-21T04:23:12.965987Z"
    }
   },
   "outputs": [],
   "source": [
    "def _parse_function(record):\n",
    "    \"\"\"Extracts features and labels.\n",
    "  \n",
    "    Args:\n",
    "        record: File path to a TFRecord file    \n",
    "      Returns:\n",
    "    A `tuple` `(labels, features)`:\n",
    "      features: A dict of tensors representing the features\n",
    "      labels: A dict of tensors with the corresponding labels.\n",
    "    \"\"\"\n",
    "    features = {\n",
    "        \"blue_champs\": tf.FixedLenFeature([], dtype=tf.string), #array of five 8 bit ints for heroes\n",
    "        \"red_champs\": tf.FixedLenFeature([], dtype=tf.string), #array of five 8-bit ints for heroes\n",
    "        \"blue_win\" :tf.FixedLenFeature([], dtype=tf.int64),\n",
    "        \"gold_diff\": tf.FixedLenFeature([], dtype=tf.float32)\n",
    "                }\n",
    "  \n",
    "    parsed_features = tf.parse_single_example(record, features)\n",
    "  \n",
    "    blue_champs = tf.decode_raw(parsed_features['blue_champs'], tf.int64)\n",
    "    red_champs = tf.decode_raw(parsed_features['red_champs'], tf.int64)\n",
    "    blue_win = parsed_features['blue_win']\n",
    "    gold_diff = parsed_features['gold_diff']\n",
    "    \n",
    "\n",
    "    return  {'blue_champs':blue_champs, 'red_champs':red_champs},\\\n",
    "            {'blue_win':blue_win, 'gold_diff':gold_diff}"
   ]
  },
  {
   "cell_type": "code",
   "execution_count": 7,
   "metadata": {
    "ExecuteTime": {
     "end_time": "2019-07-21T04:23:17.947610Z",
     "start_time": "2019-07-21T04:23:17.941435Z"
    }
   },
   "outputs": [],
   "source": [
    "# Create an input_fn that parses the tf.Examples from the given files,\n",
    "# and split them into features and targets.\n",
    "def _input_fn(input_filenames, num_epochs=None, shuffle=True, batch_size=50):\n",
    "   \n",
    "    #create a dataset and map features and labels.\n",
    "    ds = tf.data.TFRecordDataset(input_filenames)\n",
    "    ds = ds.map(_parse_function)\n",
    "\n",
    "    if shuffle:\n",
    "        ds = ds.shuffle(10000)\n",
    "\n",
    "    # Our feature data is variable-length, so we pad and batch\n",
    "    # each field of the dataset structure to whatever size is necessary.\n",
    "    ds = ds.padded_batch(batch_size, ds.output_shapes)\n",
    "    ds = ds.repeat(num_epochs)\n",
    "    \n",
    "    # Return the next batch of data.\n",
    "    features, labels = ds.make_one_shot_iterator().get_next()\n",
    "    return features, labels"
   ]
  },
  {
   "cell_type": "code",
   "execution_count": 6,
   "metadata": {
    "ExecuteTime": {
     "end_time": "2019-07-21T04:23:15.362673Z",
     "start_time": "2019-07-21T04:23:15.334156Z"
    }
   },
   "outputs": [
    {
     "data": {
      "text/plain": [
       "<DatasetV1Adapter shapes: ({blue_champs: (?,), red_champs: (?,)}, {blue_win: (), gold_diff: ()}), types: ({blue_champs: tf.int64, red_champs: tf.int64}, {blue_win: tf.int64, gold_diff: tf.float32})>"
      ]
     },
     "execution_count": 6,
     "metadata": {},
     "output_type": "execute_result"
    }
   ],
   "source": [
    "# Create the Dataset object.\n",
    "ds = tf.data.TFRecordDataset(os.path.join('LOL_data','mix_tier',\n",
    "                                          'lol_training_data',\n",
    "                                          'dual_gold_win_lol_training_data.tfrecords'))\n",
    "# Map features and labels with the parse function.\n",
    "ds = ds.map(_parse_function)\n",
    "ds = ds.shuffle(10000)\n",
    "ds"
   ]
  },
  {
   "cell_type": "code",
   "execution_count": 8,
   "metadata": {
    "ExecuteTime": {
     "end_time": "2019-07-21T04:23:22.127862Z",
     "start_time": "2019-07-21T04:23:20.477346Z"
    },
    "scrolled": false
   },
   "outputs": [
    {
     "data": {
      "text/plain": [
       "({'blue_champs': array([ 74,  81,  76,   8, 516]),\n",
       "  'red_champs': array([145, 115,  59,  26, 517])},\n",
       " {'blue_win': 0, 'gold_diff': -1.2618726})"
      ]
     },
     "execution_count": 8,
     "metadata": {},
     "output_type": "execute_result"
    }
   ],
   "source": [
    "n = ds.make_one_shot_iterator().get_next()\n",
    "sess = tf.Session()\n",
    "sess.run(n)"
   ]
  },
  {
   "cell_type": "markdown",
   "metadata": {},
   "source": [
    "# Define and train dual head linear (or dnn) model"
   ]
  },
  {
   "cell_type": "markdown",
   "metadata": {},
   "source": [
    "### Define feature column constructor functions"
   ]
  },
  {
   "cell_type": "code",
   "execution_count": 9,
   "metadata": {
    "ExecuteTime": {
     "end_time": "2019-07-21T04:23:27.342423Z",
     "start_time": "2019-07-21T04:23:27.337036Z"
    },
    "code_folding": [
     0,
     2
    ]
   },
   "outputs": [],
   "source": [
    "def construct_hero_categorical_columns(keys,vocab):\n",
    "    \"\"\"Construct categorical features for all features\n",
    "        Args: \n",
    "            input_features: names of input feature columns to use\n",
    "        returns:\n",
    "            a set of categorical columns\n",
    "    \"\"\"\n",
    "    return set([tf.feature_column.categorical_column_with_vocabulary_list(key,\n",
    "                                                                     vocabulary_list = vocab,\n",
    "                                                                     num_oov_buckets =0)\n",
    "                                    for key in keys])                                                               "
   ]
  },
  {
   "cell_type": "code",
   "execution_count": 10,
   "metadata": {
    "ExecuteTime": {
     "end_time": "2019-07-21T04:23:28.250457Z",
     "start_time": "2019-07-21T04:23:28.245294Z"
    },
    "code_folding": [
     0
    ]
   },
   "outputs": [],
   "source": [
    "def construct_indicator_columns(feature_columns):\n",
    "    \"\"\"Construct indicator columns for all features\n",
    "            from categorical columns\n",
    "        Args: \n",
    "            feature_columns: Set of 'tf.feature_column.categorical_column'\n",
    "                to convert to indicator columns\n",
    "        returns:\n",
    "            a list of indicator columns\n",
    "    \"\"\"\n",
    "    indicator_columns = []\n",
    "    for column in list(feature_columns):\n",
    "        indicator_columns.append(tf.feature_column.indicator_column(column))\n",
    "        \n",
    "    return indicator_columns      "
   ]
  },
  {
   "cell_type": "code",
   "execution_count": 11,
   "metadata": {
    "ExecuteTime": {
     "end_time": "2019-07-21T04:23:28.842099Z",
     "start_time": "2019-07-21T04:23:28.836841Z"
    },
    "code_folding": [
     0
    ]
   },
   "outputs": [],
   "source": [
    "def construct_embedding_columns(feature_columns, dimension):\n",
    "    \"\"\"Construct embedding columns for all features\n",
    "            from categorical columns\n",
    "        Args:\n",
    "            feature_columns: `Set` of 'tf.feature_column.categorical_column'\n",
    "                to convert to embedding columns\n",
    "            dimension: `int` that shows the \n",
    "        returns:\n",
    "            a list of embedding columns\n",
    "    \"\"\"\n",
    "            \n",
    "    embedding_columns = []\n",
    "    for column in list(feature_columns):\n",
    "        embedding_columns.append(tf.feature_column.embedding_column(column,dimension=dimension))\n",
    "        \n",
    "    return embedding_columns"
   ]
  },
  {
   "cell_type": "markdown",
   "metadata": {},
   "source": [
    "## Define model function"
   ]
  },
  {
   "cell_type": "markdown",
   "metadata": {},
   "source": [
    "### Define model function for soft parameter sharing"
   ]
  },
  {
   "cell_type": "code",
   "execution_count": 12,
   "metadata": {
    "ExecuteTime": {
     "end_time": "2019-07-21T04:23:30.661595Z",
     "start_time": "2019-07-21T04:23:30.629234Z"
    },
    "code_folding": []
   },
   "outputs": [],
   "source": [
    "# In `dual_head_model`, specify logits as a dict keyed by head name:\n",
    "def dual_head_model(features, labels, mode, params):\n",
    "    \"\"\"Estimator for a dual binary classifier and regressor. \n",
    "    The loss is a linear combination of the softmax cross entropy\n",
    "    of the classifier and the huber loss of the regressor.\n",
    "    \n",
    "    Args:\n",
    "        features: `dict` batch_features from an input_fn.\n",
    "        labels: `dict` of batch_labels for win from an input_fn.\n",
    "        mode: `str` specifying tf.Estimator mode (e.g. Train, Eval, Predict).\n",
    "        params: `dict` of params with elements: feature_columns, hidden_units_gold,\n",
    "                    hidden_units_win, win_loss_weight.\n",
    "            feature_columns: A `set` specifying the input feature columns to use.\n",
    "            optimizer: A `tf.train.Optimizer` to use\n",
    "            hidden_units_gold: A `list` of `int`s for layer sizes for gold dnn. \n",
    "                    An empty list makes a linear model.\n",
    "            hidden_units_win: A `list` of `int` for the win dnn.\n",
    "            win_loss_weight: `float` Weight from [0,1] for the win_loss \n",
    "                    relative to the gold_loss (weighted as 1-win_loss_weight).\n",
    "    returns: \n",
    "        A tf.estimator object\n",
    "    \"\"\"\n",
    "\n",
    "    #initialize net_gold and net_win as the input_layer\n",
    "    net_gold = tf.feature_column.input_layer(features, params['feature_columns'])\n",
    "    net_win = tf.feature_column.input_layer(features, params['feature_columns'])\n",
    "\n",
    "    # Build the hidden layers, sized according to the 'hidden_units' param.\n",
    "    # if hidden units is empty then no dense layers (and it is just linear regression)\n",
    "    layer_list_gold =[]\n",
    "    layer_list_win=[]\n",
    "    for units in params['hidden_units']:\n",
    "        layer_list.append(tf.layers.Dense(units=units, activation=tf.nn.relu))\n",
    "        net_gold = layer_list_gold[-1](net_gold)\n",
    "        layer_list_win.append(tf.layers.Dense(units=units, activation=tf.nn.relu))\n",
    "        net_win = layer_list_win[-1](net_win)  \n",
    "     # Compute logits gold (1 because it is just the predicted diff).\n",
    "    logits_gold = tf.layers.dense(net_gold, 1, activation=None,\n",
    "                                  trainable=True, name='output_gold')\n",
    "    # Compute logits win (win or lose).\n",
    "    logits_win = tf.layers.dense(net_win, 2, activation=None, \n",
    "                                 trainable=True, name='output_win')\n",
    "\n",
    "    #collect logits into a single dict\n",
    "    logits = {'gold_head':logits_gold, 'win_head':logits_win}\n",
    "    \n",
    "    # Compute predictions.\n",
    "    predicted_win = tf.argmax(logits['win_head'], 1)\n",
    "    if mode == tf.estimator.ModeKeys.PREDICT:\n",
    "        predictions = {\n",
    "            'classes': predicted_things[:, tf.newaxis],\n",
    "            'probabilities': tf.nn.softmax(logits['win_head']),\n",
    "            'logits_win': logits['win_head'],\n",
    "            'gold': logits['gold_head']\n",
    "            }\n",
    "        return tf.estimator.EstimatorSpec(mode, predictions=predictions)\n",
    "    \n",
    "    # Compute loss.\n",
    "    labels['blue_win'] = tf.one_hot(labels['blue_win'],2)\n",
    "    win_loss = tf.losses.softmax_cross_entropy(onehot_labels=labels['blue_win'],\n",
    "                                               logits=logits['win_head'])\n",
    "    gold_loss = tf.losses.huber_loss(labels=labels['gold_diff'],\n",
    "                                     predictions=tf.reshape(logits['gold_head'],[-1]))\n",
    "    \n",
    "    #Scale loss_win to weight it more heavily or equal to loss_gold\n",
    "    #loss_gold starts at 1 because of the z_score normalization we did\n",
    "    loss_weight=params['win_loss_weight']\n",
    "    loss = tf.losses.compute_weighted_loss([win_loss,gold_loss],\n",
    "                                                 weights=[loss_weight,1-loss_weight])\n",
    "    \n",
    "    # Compute evaluation metrics.\n",
    "    accuracy = tf.metrics.accuracy(tf.gather(labels['blue_win'],1,axis=1),\n",
    "                                   predicted_win,\n",
    "                                   name='acc_op')\n",
    "    auc = tf.metrics.auc(tf.gather(labels['blue_win'],1,axis=1),\n",
    "                        predicted_win)\n",
    "    baseline_accuracy = tf.metrics.mean(values=labels['blue_win'])\n",
    "    metrics = {'accuracy': accuracy,\n",
    "               'auc': auc,\n",
    "               'baseline_accuracy': baseline_accuracy}\n",
    "\n",
    "    tf.summary.scalar('accuracy', accuracy[1])\n",
    "    tf.summary.scalar('auc', auc[1])\n",
    "    tf.summary.scalar('loss_win', win_loss)\n",
    "    tf.summary.scalar('loss_gold', gold_loss)\n",
    "    tf.summary.scalar('loss', loss)\n",
    "\n",
    "    if mode == tf.estimator.ModeKeys.EVAL:\n",
    "        return tf.estimator.EstimatorSpec(\n",
    "            mode, loss=loss, eval_metric_ops=metrics)\n",
    "\n",
    "    # Create training op.\n",
    "    assert mode == tf.estimator.ModeKeys.TRAIN\n",
    "\n",
    "    optimizer = params['optimizer']\n",
    "    train_op = optimizer.minimize(loss, global_step=tf.train.get_global_step())\n",
    "    return tf.estimator.EstimatorSpec(mode, loss=loss, train_op=train_op)"
   ]
  },
  {
   "cell_type": "markdown",
   "metadata": {},
   "source": [
    "### Define model function for hard parameter sharing"
   ]
  },
  {
   "cell_type": "code",
   "execution_count": 23,
   "metadata": {
    "ExecuteTime": {
     "end_time": "2019-07-21T04:24:17.336321Z",
     "start_time": "2019-07-21T04:24:17.307985Z"
    }
   },
   "outputs": [],
   "source": [
    "# In `dual_head_model`, specify logits as a dict keyed by head name:\n",
    "def dual_head_model_hardsharing(features, labels, mode, params):\n",
    "    \"\"\"Estimator for a dual binary classifier and regressor. \n",
    "    The loss is a linear combination of the softmax cross entropy\n",
    "    of the classifier and the huber loss of the regressor.\n",
    "    \n",
    "    Args:\n",
    "        features: `dict` batch_features from an input_fn.\n",
    "        labels: `dict` of batch_labels for win from an input_fn.\n",
    "        mode: `str` specifying tf.Estimator mode (e.g. Train, Eval, Predict).\n",
    "        params: `dict` of params with elements: feature_columns, hidden_units_gold,\n",
    "                    hidden_units_win, win_loss_weight.\n",
    "            feature_columns: A `set` specifying the input feature columns to use.\n",
    "            optimizer: A `tf.train.Optimizer` to use\n",
    "            hidden_units_gold: A `list` of `int`s for layer sizes for gold dnn. \n",
    "                    An empty list makes a linear model.\n",
    "            hidden_units_win: A `list` of `int` for the win dnn.\n",
    "            win_loss_weight: `float` Weight from [0,1] for the win_loss \n",
    "                    relative to the gold_loss (weighted as 1-win_loss_weight).\n",
    "    returns: \n",
    "        A tf.estimator object\n",
    "    \"\"\"\n",
    "\n",
    "    #initialize net_gold and net_win as the input_layer\n",
    "    net = tf.feature_column.input_layer(features, params['feature_columns'])\n",
    "\n",
    "    # Build the hidden layers, sized according to the 'hidden_units' param.\n",
    "    # if hidden units is empty then no dense layers (and it is just linear regression)\n",
    "    layer_list =[]\n",
    "    for units in params['hidden_units']:\n",
    "        layer_list.append(tf.layers.Dense(units=units, activation=tf.nn.relu))\n",
    "        net = layer_list[-1](net)\n",
    "     # Compute logits gold (1 because it is just the predicted diff).\n",
    "    logits_gold = tf.layers.dense(net, 1, activation=None,\n",
    "                                  trainable=True, name='output_gold')\n",
    "    # Compute logits win (win or lose).\n",
    "    logits_win = tf.layers.dense(net, 2, activation=None, \n",
    "                                 trainable=True, name='output_win')\n",
    "\n",
    "    #collect logits into a single dict\n",
    "    logits = {'gold_head':logits_gold, 'win_head':logits_win}\n",
    "    \n",
    "    # Compute predictions.\n",
    "    predicted_win = tf.argmax(logits['win_head'], 1)\n",
    "    if mode == tf.estimator.ModeKeys.PREDICT:\n",
    "        predictions = {\n",
    "            'classes': predicted_things[:, tf.newaxis],\n",
    "            'probabilities': tf.nn.softmax(logits['win_head']),\n",
    "            'logits_win': logits['win_head'],\n",
    "            'gold': logits['gold_head']\n",
    "            }\n",
    "        return tf.estimator.EstimatorSpec(mode, predictions=predictions)\n",
    "    \n",
    "    # Compute loss.\n",
    "    labels['blue_win'] = tf.one_hot(labels['blue_win'],2)\n",
    "    win_loss = tf.losses.softmax_cross_entropy(onehot_labels=labels['blue_win'],\n",
    "                                               logits=logits['win_head'])\n",
    "    gold_loss = tf.losses.huber_loss(labels=labels['gold_diff'],\n",
    "                                     predictions=tf.reshape(logits['gold_head'],[-1]))\n",
    "    \n",
    "    #Scale loss_win to weight it more heavily or equal to loss_gold\n",
    "    #loss_gold starts at 1 because of the z_score normalization we did\n",
    "    loss_weight=params['win_loss_weight']\n",
    "    loss = tf.losses.compute_weighted_loss([win_loss,gold_loss],\n",
    "                                                 weights=[loss_weight,1-loss_weight])\n",
    "    \n",
    "    # Compute evaluation metrics.\n",
    "    accuracy = tf.metrics.accuracy(tf.gather(labels['blue_win'],1,axis=1),\n",
    "                                   predicted_win,\n",
    "                                   name='acc_op')\n",
    "    auc = tf.metrics.auc(tf.gather(labels['blue_win'],1,axis=1),\n",
    "                        predicted_win)\n",
    "    baseline_accuracy = tf.metrics.mean(values=labels['blue_win'])\n",
    "    metrics = {'accuracy': accuracy,\n",
    "               'auc': auc,\n",
    "               'baseline_accuracy': baseline_accuracy}\n",
    "\n",
    "    tf.summary.scalar('accuracy', accuracy[1])\n",
    "    tf.summary.scalar('auc', auc[1])\n",
    "    tf.summary.scalar('loss_win', win_loss)\n",
    "    tf.summary.scalar('loss_gold', gold_loss)\n",
    "    tf.summary.scalar('loss', loss)\n",
    "\n",
    "    if mode == tf.estimator.ModeKeys.EVAL:\n",
    "        return tf.estimator.EstimatorSpec(\n",
    "            mode, loss=loss, eval_metric_ops=metrics)\n",
    "\n",
    "    # Create training op.\n",
    "    assert mode == tf.estimator.ModeKeys.TRAIN\n",
    "\n",
    "    optimizer = params['optimizer']\n",
    "    train_op = optimizer.minimize(loss, global_step=tf.train.get_global_step())\n",
    "    return tf.estimator.EstimatorSpec(mode, loss=loss, train_op=train_op)"
   ]
  },
  {
   "cell_type": "markdown",
   "metadata": {
    "ExecuteTime": {
     "end_time": "2019-06-18T05:44:30.730628Z",
     "start_time": "2019-06-18T05:44:30.727800Z"
    }
   },
   "source": [
    "### train function"
   ]
  },
  {
   "cell_type": "code",
   "execution_count": 22,
   "metadata": {
    "ExecuteTime": {
     "end_time": "2019-07-21T04:24:13.389042Z",
     "start_time": "2019-07-21T04:24:13.374108Z"
    },
    "code_folding": []
   },
   "outputs": [],
   "source": [
    "def train_dual_classifier_regressor(\n",
    "    steps,\n",
    "    batch_size,\n",
    "    params,\n",
    "    training_file,\n",
    "    test_file):\n",
    "    \"\"\"Trains a linear regression model.\n",
    "  \n",
    "    In addition to training, this function also prints training progress information,\n",
    "    as well as a plot of the training and validation loss over time.\n",
    "      \n",
    "    Args:\n",
    "        target: Target to use for the model (determines whether float and classifier\n",
    "          vs regressor)\n",
    "        learning_rate: A `float`, the learning rate.\n",
    "        steps: A non-zero `int`, the total number of training steps. A training step\n",
    "          consists of a forward and backward pass using a single batch.\n",
    "        batch_size: A non-zero `int` specifying the size of each training batch\n",
    "        params: A dict containing kwargs\n",
    "            optimizer: A `tf.train.Optimizer` to use\n",
    "            hidden_units_gold: A `list` of `int`s for layer sizes for gold dnn. \n",
    "                    An empty list makes a linear model.\n",
    "            hidden_units_win: A `list` of `int` for the win dnn.\n",
    "        training_file: A `string` path to the tfrecord training file\n",
    "        test_file: A `string` path to the tfrecord test file\n",
    "\n",
    "        \n",
    "      \n",
    "    Returns:\n",
    "        A `LinearEstimator` object trained on the training data.\n",
    "    \"\"\"\n",
    "\n",
    "    periods = 20\n",
    "    steps_per_period = steps / periods\n",
    "    \n",
    "    # Create a linear regressor object.\n",
    "    dual_model = tf.estimator.Estimator(\n",
    "        model_fn=dual_head_model_hardsharing,\n",
    "        params= params\n",
    "        )\n",
    "      \n",
    "  \n",
    "    training_input_fn =lambda: _input_fn([training_file])\n",
    "    test_input_fn =lambda: _input_fn([test_file])\n",
    "\n",
    "    # Train the model, but do so inside a loop so that we can periodically assess\n",
    "    # loss metrics.\n",
    "    print(\"Training model...\")\n",
    "    \n",
    "    \n",
    "    training_acc = []\n",
    "    test_acc = []\n",
    "    for i in range(periods):\n",
    "        # Train the model, starting from the prior state.\n",
    "        dual_model.train(\n",
    "            input_fn=training_input_fn,\n",
    "            steps=steps_per_period)\n",
    "        \n",
    "        # Take a break and compute predictions.\n",
    "        evaluation_metrics = dual_model.evaluate(\n",
    "            input_fn=training_input_fn,\n",
    "            steps=steps_per_period)\n",
    "        training_acc.append(evaluation_metrics['loss'])\n",
    "                            \n",
    "        evaluation_metrics = dual_model.evaluate(\n",
    "            input_fn=test_input_fn,\n",
    "            steps=steps_per_period)    \n",
    "        test_acc.append(evaluation_metrics['loss'])\n",
    "        \n",
    "        print('test loss', evaluation_metrics['loss'])\n",
    "\n",
    "    print(\"Test set metrics:\")\n",
    "    for m in evaluation_metrics:\n",
    "        print(m, evaluation_metrics[m])\n",
    "    print(\"---\")\n",
    "    \n",
    "    plt.plot(training_acc,label='Training loss')\n",
    "    plt.plot(test_acc,label='Test loss')\n",
    "    plt.legend()\n",
    "    plt.show()\n",
    "    \n",
    "    return dual_model\n"
   ]
  },
  {
   "cell_type": "markdown",
   "metadata": {},
   "source": [
    "### Train a dual head linear classifier and regressor"
   ]
  },
  {
   "cell_type": "code",
   "execution_count": 21,
   "metadata": {
    "ExecuteTime": {
     "end_time": "2019-07-21T04:24:11.210069Z",
     "start_time": "2019-07-21T04:24:11.203609Z"
    }
   },
   "outputs": [],
   "source": [
    "training_file = os.path.join('LOL_data','mix_tier',\n",
    "                             'lol_training_data','dual_gold_win_lol_training_data.tfrecords')\n",
    "test_file = os.path.join('LOL_data','mix_tier',\n",
    "                         'lol_test_data', 'dual_gold_win_lol_test_data.tfrecords')\n",
    "\n",
    "categorical_feature_columns = construct_hero_categorical_columns(['blue_champs','red_champs']\n",
    "                                                                 ,champ_vocab)\n",
    "indicator_feature_columns = construct_indicator_columns(categorical_feature_columns)\n",
    "embedding_feature_columns = construct_embedding_columns(categorical_feature_columns,dimension=5)"
   ]
  },
  {
   "cell_type": "markdown",
   "metadata": {},
   "source": [
    "#### Test of blue_win modelling with linear model"
   ]
  },
  {
   "cell_type": "code",
   "execution_count": 287,
   "metadata": {
    "ExecuteTime": {
     "end_time": "2019-06-18T04:03:26.678598Z",
     "start_time": "2019-06-18T03:52:22.541620Z"
    },
    "scrolled": true
   },
   "outputs": [
    {
     "name": "stdout",
     "output_type": "stream",
     "text": [
      "Training model...\n",
      "test loss 0.7049345\n",
      "test loss 0.7019191\n",
      "test loss 0.6999529\n",
      "test loss 0.6984669\n",
      "test loss 0.6968627\n",
      "test loss 0.6967381\n",
      "test loss 0.6957295\n",
      "test loss 0.69471455\n",
      "test loss 0.6944741\n",
      "test loss 0.6936355\n",
      "test loss 0.69368386\n",
      "test loss 0.6933016\n",
      "test loss 0.6924498\n",
      "test loss 0.69311744\n",
      "test loss 0.6929666\n",
      "test loss 0.69258046\n",
      "test loss 0.693385\n",
      "test loss 0.69239265\n",
      "test loss 0.69254667\n",
      "test loss 0.6917928\n",
      "Test set metrics:\n",
      "accuracy 0.5282\n",
      "auc 0.5264262\n",
      "baseline_accuracy 0.5\n",
      "loss 0.6917928\n",
      "global_step 10000\n",
      "---\n"
     ]
    },
    {
     "data": {
      "image/png": "[encoded data removed]",
      "text/plain": [
       "<Figure size 432x288 with 1 Axes>"
      ]
     },
     "metadata": {
      "needs_background": "light"
     },
     "output_type": "display_data"
    }
   ],
   "source": [
    "optimizer = tf.train.GradientDescentOptimizer(learning_rate=0.01)\n",
    "\n",
    "trained_dualhead_linear_model = train_dual_classifier_regressor(\n",
    "    steps=1e4,\n",
    "    batch_size=1000,\n",
    "    params={'hidden_units':[],\n",
    "            'optimizer':optimizer,\n",
    "            'feature_columns':indicator_feature_columns,\n",
    "            'win_loss_weight':1\n",
    "           },\n",
    "    training_file=training_file,\n",
    "    test_file=test_file)"
   ]
  },
  {
   "cell_type": "code",
   "execution_count": 288,
   "metadata": {
    "ExecuteTime": {
     "end_time": "2019-06-18T04:47:05.097068Z",
     "start_time": "2019-06-18T04:03:26.681020Z"
    },
    "scrolled": true
   },
   "outputs": [
    {
     "name": "stdout",
     "output_type": "stream",
     "text": [
      "Training model...\n",
      "test loss 0.7004074\n",
      "test loss 0.6966147\n",
      "test loss 0.69402105\n",
      "test loss 0.6925746\n",
      "test loss 0.69181097\n",
      "test loss 0.690936\n",
      "test loss 0.6905646\n",
      "test loss 0.6902783\n",
      "test loss 0.6899253\n",
      "test loss 0.6897242\n",
      "test loss 0.6897868\n",
      "test loss 0.6896737\n",
      "test loss 0.6895516\n",
      "test loss 0.68966305\n",
      "test loss 0.6892915\n",
      "test loss 0.6894003\n",
      "test loss 0.6893538\n",
      "test loss 0.6894538\n",
      "test loss 0.6893224\n",
      "test loss 0.6893968\n",
      "Test set metrics:\n",
      "accuracy 0.5340598\n",
      "auc 0.5334689\n",
      "baseline_accuracy 0.5\n",
      "loss 0.6893968\n",
      "global_step 50000\n",
      "---\n"
     ]
    },
    {
     "data": {
      "image/png": "[encoded data removed]",
      "text/plain": [
       "<Figure size 432x288 with 1 Axes>"
      ]
     },
     "metadata": {
      "needs_background": "light"
     },
     "output_type": "display_data"
    }
   ],
   "source": [
    "optimizer = tf.train.GradientDescentOptimizer(learning_rate=0.005)\n",
    "\n",
    "trained_dualhead_linear_model = train_dual_classifier_regressor(\n",
    "    steps=5e4,\n",
    "    batch_size=1000,\n",
    "    params={'hidden_units':[],\n",
    "            'optimizer':optimizer,\n",
    "            'feature_columns':indicator_feature_columns,\n",
    "            'win_loss_weight':1\n",
    "           },\n",
    "    training_file=training_file,\n",
    "    test_file=test_file)"
   ]
  },
  {
   "cell_type": "code",
   "execution_count": 289,
   "metadata": {
    "ExecuteTime": {
     "end_time": "2019-06-18T05:06:28.675894Z",
     "start_time": "2019-06-18T04:47:05.099536Z"
    },
    "scrolled": true
   },
   "outputs": [
    {
     "name": "stdout",
     "output_type": "stream",
     "text": [
      "Training model...\n",
      "test loss 0.70105743\n",
      "test loss 0.6988847\n",
      "test loss 0.6966899\n",
      "test loss 0.695897\n",
      "test loss 0.6946457\n",
      "test loss 0.6938793\n",
      "test loss 0.69330657\n",
      "test loss 0.69287944\n",
      "test loss 0.69236815\n",
      "test loss 0.6924736\n",
      "test loss 0.69177496\n",
      "test loss 0.6913449\n",
      "test loss 0.6914746\n",
      "test loss 0.6910391\n",
      "test loss 0.69131744\n",
      "test loss 0.6909679\n",
      "test loss 0.69099605\n",
      "test loss 0.69096667\n",
      "test loss 0.69098824\n",
      "test loss 0.69118017\n",
      "Test set metrics:\n",
      "accuracy 0.52786\n",
      "auc 0.5271634\n",
      "baseline_accuracy 0.5\n",
      "loss 0.69118017\n",
      "global_step 20000\n",
      "---\n"
     ]
    },
    {
     "data": {
      "image/png": "[encoded data removed]",
      "text/plain": [
       "<Figure size 432x288 with 1 Axes>"
      ]
     },
     "metadata": {
      "needs_background": "light"
     },
     "output_type": "display_data"
    }
   ],
   "source": [
    "optimizer = tf.train.GradientDescentOptimizer(learning_rate=0.007)\n",
    "\n",
    "trained_dualhead_linear_model = train_dual_classifier_regressor(\n",
    "    steps=2e4,\n",
    "    batch_size=1000,\n",
    "    params={'hidden_units':[],\n",
    "            'optimizer':optimizer,\n",
    "            'feature_columns':indicator_feature_columns,\n",
    "            'win_loss_weight':1\n",
    "           },\n",
    "    training_file=training_file,\n",
    "    test_file=test_file)"
   ]
  },
  {
   "cell_type": "markdown",
   "metadata": {
    "ExecuteTime": {
     "end_time": "2019-06-18T05:39:44.561100Z",
     "start_time": "2019-06-18T05:39:44.558271Z"
    },
    "heading_collapsed": true
   },
   "source": [
    "#### Train multi-head dnn"
   ]
  },
  {
   "cell_type": "code",
   "execution_count": 22,
   "metadata": {
    "ExecuteTime": {
     "end_time": "2019-06-23T11:44:47.683588Z",
     "start_time": "2019-06-23T03:53:47.768550Z"
    },
    "hidden": true,
    "scrolled": true
   },
   "outputs": [
    {
     "name": "stdout",
     "output_type": "stream",
     "text": [
      "Training model...\n",
      "test loss 0.31004852\n",
      "test loss 0.31001812\n",
      "test loss 0.31001607\n",
      "test loss 0.31000954\n",
      "test loss 0.30998874\n",
      "test loss 0.30994233\n",
      "test loss 0.30984464\n",
      "test loss 0.30968538\n",
      "test loss 0.3095118\n",
      "test loss 0.3093531\n",
      "test loss 0.30922517\n",
      "test loss 0.30912456\n",
      "test loss 0.3090593\n",
      "test loss 0.30900282\n",
      "test loss 0.30895966\n",
      "test loss 0.30893037\n",
      "test loss 0.3089068\n",
      "test loss 0.30888826\n",
      "test loss 0.30887708\n",
      "test loss 0.30886853\n",
      "Test set metrics:\n",
      "accuracy 0.53365046\n",
      "auc 0.5324331\n",
      "baseline_accuracy 0.5\n",
      "loss 0.30886853\n",
      "global_step 1000000\n",
      "---\n"
     ]
    },
    {
     "data": {
      "image/png": "[encoded data removed]",
      "text/plain": [
       "<Figure size 432x288 with 1 Axes>"
      ]
     },
     "metadata": {
      "needs_background": "light"
     },
     "output_type": "display_data"
    }
   ],
   "source": [
    "optimizer = tf.contrib.opt.AdamWOptimizer(learning_rate=6e-6,\n",
    "                                          weight_decay = 6e-6)\n",
    "\n",
    "trained_dualhead_linear_model = train_dual_classifier_regressor(\n",
    "    steps=100e4,\n",
    "    batch_size=1000,\n",
    "    params={'hidden_units':[8,8],\n",
    "            'optimizer':optimizer,\n",
    "            'feature_columns':embedding_feature_columns,\n",
    "            'win_loss_weight':0.7\n",
    "           },\n",
    "    training_file=training_file,\n",
    "    test_file=test_file)"
   ]
  },
  {
   "cell_type": "code",
   "execution_count": 26,
   "metadata": {
    "ExecuteTime": {
     "end_time": "2019-07-01T00:50:01.751110Z",
     "start_time": "2019-06-30T20:36:36.050750Z"
    },
    "hidden": true
   },
   "outputs": [
    {
     "name": "stdout",
     "output_type": "stream",
     "text": [
      "Training model...\n",
      "test loss 0.3098893\n",
      "test loss 0.30948755\n",
      "test loss 0.30903837\n",
      "test loss 0.30867448\n",
      "test loss 0.30841136\n",
      "test loss 0.3082348\n",
      "test loss 0.30815256\n",
      "test loss 0.30814043\n",
      "test loss 0.30808777\n",
      "test loss 0.3081023\n",
      "test loss 0.30805093\n",
      "test loss 0.3080638\n",
      "test loss 0.30806175\n",
      "test loss 0.30806363\n",
      "test loss 0.30804527\n",
      "test loss 0.30807003\n",
      "test loss 0.30805564\n",
      "test loss 0.30802956\n",
      "test loss 0.30804005\n",
      "test loss 0.3080223\n",
      "Test set metrics:\n",
      "accuracy 0.5351463\n",
      "auc 0.53375804\n",
      "baseline_accuracy 0.5\n",
      "loss 0.3080223\n",
      "global_step 500000\n",
      "---\n"
     ]
    },
    {
     "data": {
      "image/png": "[encoded data removed]",
      "text/plain": [
       "<Figure size 432x288 with 1 Axes>"
      ]
     },
     "metadata": {
      "needs_background": "light"
     },
     "output_type": "display_data"
    }
   ],
   "source": [
    "optimizer = tf.contrib.opt.AdamWOptimizer(learning_rate=60e-6,\n",
    "                                          weight_decay =6e-6)\n",
    "\n",
    "trained_dualhead_linear_model = train_dual_classifier_regressor(\n",
    "    steps=50e4,\n",
    "    batch_size=1000,\n",
    "    params={'hidden_units':[8,8],\n",
    "            'optimizer':optimizer,\n",
    "            'feature_columns':embedding_feature_columns,\n",
    "            'win_loss_weight':0.7\n",
    "           },\n",
    "    training_file=training_file,\n",
    "    test_file=test_file)"
   ]
  },
  {
   "cell_type": "code",
   "execution_count": null,
   "metadata": {
    "ExecuteTime": {
     "start_time": "2019-07-01T04:36:19.346Z"
    },
    "hidden": true
   },
   "outputs": [
    {
     "name": "stdout",
     "output_type": "stream",
     "text": [
      "Training model...\n",
      "test loss 0.30806243\n",
      "test loss 0.3080538\n",
      "test loss 0.3080593\n",
      "test loss 0.30807436\n",
      "test loss 0.30805248\n",
      "test loss 0.30804235\n",
      "test loss 0.30806974\n",
      "test loss 0.30807418\n",
      "test loss 0.30803972\n",
      "test loss 0.30809334\n",
      "test loss 0.3080608\n",
      "test loss 0.30806017\n",
      "test loss 0.30805534\n",
      "test loss 0.3080702\n",
      "test loss 0.30811805\n",
      "test loss 0.30808052\n"
     ]
    }
   ],
   "source": [
    "optimizer = tf.contrib.opt.AdamWOptimizer(learning_rate=60e-6,\n",
    "                                          weight_decay =6e-6)\n",
    "\n",
    "trained_dualhead_linear_model = train_dual_classifier_regressor(\n",
    "    steps=00e4,\n",
    "    batch_size=2000,\n",
    "    params={'hidden_units':[8,8],\n",
    "            'optimizer':optimizer,\n",
    "            'feature_columns':embedding_feature_columns,\n",
    "            'win_loss_weight':0.7\n",
    "           },\n",
    "    training_file=training_file,\n",
    "    test_file=test_file)"
   ]
  },
  {
   "cell_type": "markdown",
   "metadata": {},
   "source": [
    "### Validate model\n",
    "only do this if you're done training!!"
   ]
  },
  {
   "cell_type": "code",
   "execution_count": 295,
   "metadata": {
    "ExecuteTime": {
     "end_time": "2019-06-18T05:46:10.395508Z",
     "start_time": "2019-06-18T05:45:59.704131Z"
    },
    "scrolled": true
   },
   "outputs": [
    {
     "ename": "KeyboardInterrupt",
     "evalue": "",
     "output_type": "error",
     "traceback": [
      "\u001b[0;31m---------------------------------------------------------------------------\u001b[0m",
      "\u001b[0;31mKeyboardInterrupt\u001b[0m                         Traceback (most recent call last)",
      "\u001b[0;32m<ipython-input-295-cf068d0d2386>\u001b[0m in \u001b[0;36m<module>\u001b[0;34m\u001b[0m\n\u001b[1;32m      5\u001b[0m evaluation_metrics = trained_dualhead_linear_model.evaluate(\n\u001b[1;32m      6\u001b[0m             \u001b[0minput_fn\u001b[0m\u001b[0;34m=\u001b[0m\u001b[0mvalidation_input_fn\u001b[0m\u001b[0;34m,\u001b[0m\u001b[0;34m\u001b[0m\u001b[0;34m\u001b[0m\u001b[0m\n\u001b[0;32m----> 7\u001b[0;31m             steps=3e3)\n\u001b[0m\u001b[1;32m      8\u001b[0m \u001b[0;32mfor\u001b[0m \u001b[0mm\u001b[0m \u001b[0;32min\u001b[0m \u001b[0mevaluation_metrics\u001b[0m\u001b[0;34m:\u001b[0m\u001b[0;34m\u001b[0m\u001b[0;34m\u001b[0m\u001b[0m\n\u001b[1;32m      9\u001b[0m     \u001b[0mprint\u001b[0m\u001b[0;34m(\u001b[0m\u001b[0mm\u001b[0m\u001b[0;34m,\u001b[0m \u001b[0mevaluation_metrics\u001b[0m\u001b[0;34m[\u001b[0m\u001b[0mm\u001b[0m\u001b[0;34m]\u001b[0m\u001b[0;34m)\u001b[0m\u001b[0;34m\u001b[0m\u001b[0;34m\u001b[0m\u001b[0m\n",
      "\u001b[0;32m~/anaconda3/lib/python3.7/site-packages/tensorflow_estimator/python/estimator/estimator.py\u001b[0m in \u001b[0;36mevaluate\u001b[0;34m(self, input_fn, steps, hooks, checkpoint_path, name)\u001b[0m\n\u001b[1;32m    467\u001b[0m           \u001b[0mhooks\u001b[0m\u001b[0;34m=\u001b[0m\u001b[0mhooks\u001b[0m\u001b[0;34m,\u001b[0m\u001b[0;34m\u001b[0m\u001b[0;34m\u001b[0m\u001b[0m\n\u001b[1;32m    468\u001b[0m           \u001b[0mcheckpoint_path\u001b[0m\u001b[0;34m=\u001b[0m\u001b[0mcheckpoint_path\u001b[0m\u001b[0;34m,\u001b[0m\u001b[0;34m\u001b[0m\u001b[0;34m\u001b[0m\u001b[0m\n\u001b[0;32m--> 469\u001b[0;31m           name=name)\n\u001b[0m\u001b[1;32m    470\u001b[0m \u001b[0;34m\u001b[0m\u001b[0m\n\u001b[1;32m    471\u001b[0m   def _actual_eval(self,\n",
      "\u001b[0;32m~/anaconda3/lib/python3.7/site-packages/tensorflow_estimator/python/estimator/estimator.py\u001b[0m in \u001b[0;36m_actual_eval\u001b[0;34m(self, input_fn, strategy, steps, hooks, checkpoint_path, name)\u001b[0m\n\u001b[1;32m    509\u001b[0m             \u001b[0;32mreturn\u001b[0m \u001b[0m_evaluate\u001b[0m\u001b[0;34m(\u001b[0m\u001b[0;34m)\u001b[0m\u001b[0;34m\u001b[0m\u001b[0;34m\u001b[0m\u001b[0m\n\u001b[1;32m    510\u001b[0m         \u001b[0;32melse\u001b[0m\u001b[0;34m:\u001b[0m\u001b[0;34m\u001b[0m\u001b[0;34m\u001b[0m\u001b[0m\n\u001b[0;32m--> 511\u001b[0;31m           \u001b[0;32mreturn\u001b[0m \u001b[0m_evaluate\u001b[0m\u001b[0;34m(\u001b[0m\u001b[0;34m)\u001b[0m\u001b[0;34m\u001b[0m\u001b[0;34m\u001b[0m\u001b[0m\n\u001b[0m\u001b[1;32m    512\u001b[0m \u001b[0;34m\u001b[0m\u001b[0m\n\u001b[1;32m    513\u001b[0m   \u001b[0;32mdef\u001b[0m \u001b[0m_convert_eval_steps_to_hooks\u001b[0m\u001b[0;34m(\u001b[0m\u001b[0mself\u001b[0m\u001b[0;34m,\u001b[0m \u001b[0msteps\u001b[0m\u001b[0;34m)\u001b[0m\u001b[0;34m:\u001b[0m\u001b[0;34m\u001b[0m\u001b[0;34m\u001b[0m\u001b[0m\n",
      "\u001b[0;32m~/anaconda3/lib/python3.7/site-packages/tensorflow_estimator/python/estimator/estimator.py\u001b[0m in \u001b[0;36m_evaluate\u001b[0;34m()\u001b[0m\n\u001b[1;32m    498\u001b[0m             \u001b[0meval_dict\u001b[0m\u001b[0;34m=\u001b[0m\u001b[0meval_dict\u001b[0m\u001b[0;34m,\u001b[0m\u001b[0;34m\u001b[0m\u001b[0;34m\u001b[0m\u001b[0m\n\u001b[1;32m    499\u001b[0m             \u001b[0mall_hooks\u001b[0m\u001b[0;34m=\u001b[0m\u001b[0mall_hooks\u001b[0m\u001b[0;34m,\u001b[0m\u001b[0;34m\u001b[0m\u001b[0;34m\u001b[0m\u001b[0m\n\u001b[0;32m--> 500\u001b[0;31m             output_dir=self.eval_dir(name))\n\u001b[0m\u001b[1;32m    501\u001b[0m \u001b[0;34m\u001b[0m\u001b[0m\n\u001b[1;32m    502\u001b[0m       \u001b[0;32mwith\u001b[0m \u001b[0mops\u001b[0m\u001b[0;34m.\u001b[0m\u001b[0mGraph\u001b[0m\u001b[0;34m(\u001b[0m\u001b[0;34m)\u001b[0m\u001b[0;34m.\u001b[0m\u001b[0mas_default\u001b[0m\u001b[0;34m(\u001b[0m\u001b[0;34m)\u001b[0m\u001b[0;34m:\u001b[0m\u001b[0;34m\u001b[0m\u001b[0;34m\u001b[0m\u001b[0m\n",
      "\u001b[0;32m~/anaconda3/lib/python3.7/site-packages/tensorflow_estimator/python/estimator/estimator.py\u001b[0m in \u001b[0;36m_evaluate_run\u001b[0;34m(self, checkpoint_path, scaffold, update_op, eval_dict, all_hooks, output_dir)\u001b[0m\n\u001b[1;32m   1535\u001b[0m         \u001b[0mfinal_ops\u001b[0m\u001b[0;34m=\u001b[0m\u001b[0meval_dict\u001b[0m\u001b[0;34m,\u001b[0m\u001b[0;34m\u001b[0m\u001b[0;34m\u001b[0m\u001b[0m\n\u001b[1;32m   1536\u001b[0m         \u001b[0mhooks\u001b[0m\u001b[0;34m=\u001b[0m\u001b[0mall_hooks\u001b[0m\u001b[0;34m,\u001b[0m\u001b[0;34m\u001b[0m\u001b[0;34m\u001b[0m\u001b[0m\n\u001b[0;32m-> 1537\u001b[0;31m         config=self._session_config)\n\u001b[0m\u001b[1;32m   1538\u001b[0m \u001b[0;34m\u001b[0m\u001b[0m\n\u001b[1;32m   1539\u001b[0m     \u001b[0mcurrent_global_step\u001b[0m \u001b[0;34m=\u001b[0m \u001b[0meval_results\u001b[0m\u001b[0;34m[\u001b[0m\u001b[0mops\u001b[0m\u001b[0;34m.\u001b[0m\u001b[0mGraphKeys\u001b[0m\u001b[0;34m.\u001b[0m\u001b[0mGLOBAL_STEP\u001b[0m\u001b[0;34m]\u001b[0m\u001b[0;34m\u001b[0m\u001b[0;34m\u001b[0m\u001b[0m\n",
      "\u001b[0;32m~/anaconda3/lib/python3.7/site-packages/tensorflow/python/training/evaluation.py\u001b[0m in \u001b[0;36m_evaluate_once\u001b[0;34m(checkpoint_path, master, scaffold, eval_ops, feed_dict, final_ops, final_ops_feed_dict, hooks, config)\u001b[0m\n\u001b[1;32m    272\u001b[0m     \u001b[0;32mif\u001b[0m \u001b[0meval_ops\u001b[0m \u001b[0;32mis\u001b[0m \u001b[0;32mnot\u001b[0m \u001b[0;32mNone\u001b[0m\u001b[0;34m:\u001b[0m\u001b[0;34m\u001b[0m\u001b[0;34m\u001b[0m\u001b[0m\n\u001b[1;32m    273\u001b[0m       \u001b[0;32mwhile\u001b[0m \u001b[0;32mnot\u001b[0m \u001b[0msession\u001b[0m\u001b[0;34m.\u001b[0m\u001b[0mshould_stop\u001b[0m\u001b[0;34m(\u001b[0m\u001b[0;34m)\u001b[0m\u001b[0;34m:\u001b[0m\u001b[0;34m\u001b[0m\u001b[0;34m\u001b[0m\u001b[0m\n\u001b[0;32m--> 274\u001b[0;31m         \u001b[0msession\u001b[0m\u001b[0;34m.\u001b[0m\u001b[0mrun\u001b[0m\u001b[0;34m(\u001b[0m\u001b[0meval_ops\u001b[0m\u001b[0;34m,\u001b[0m \u001b[0mfeed_dict\u001b[0m\u001b[0;34m)\u001b[0m\u001b[0;34m\u001b[0m\u001b[0;34m\u001b[0m\u001b[0m\n\u001b[0m\u001b[1;32m    275\u001b[0m \u001b[0;34m\u001b[0m\u001b[0m\n\u001b[1;32m    276\u001b[0m   logging.info('Finished evaluation at ' + time.strftime('%Y-%m-%d-%H:%M:%S',\n",
      "\u001b[0;32m~/anaconda3/lib/python3.7/site-packages/tensorflow/python/training/monitored_session.py\u001b[0m in \u001b[0;36mrun\u001b[0;34m(self, fetches, feed_dict, options, run_metadata)\u001b[0m\n\u001b[1;32m    674\u001b[0m                           \u001b[0mfeed_dict\u001b[0m\u001b[0;34m=\u001b[0m\u001b[0mfeed_dict\u001b[0m\u001b[0;34m,\u001b[0m\u001b[0;34m\u001b[0m\u001b[0;34m\u001b[0m\u001b[0m\n\u001b[1;32m    675\u001b[0m                           \u001b[0moptions\u001b[0m\u001b[0;34m=\u001b[0m\u001b[0moptions\u001b[0m\u001b[0;34m,\u001b[0m\u001b[0;34m\u001b[0m\u001b[0;34m\u001b[0m\u001b[0m\n\u001b[0;32m--> 676\u001b[0;31m                           run_metadata=run_metadata)\n\u001b[0m\u001b[1;32m    677\u001b[0m \u001b[0;34m\u001b[0m\u001b[0m\n\u001b[1;32m    678\u001b[0m   \u001b[0;32mdef\u001b[0m \u001b[0mrun_step_fn\u001b[0m\u001b[0;34m(\u001b[0m\u001b[0mself\u001b[0m\u001b[0;34m,\u001b[0m \u001b[0mstep_fn\u001b[0m\u001b[0;34m)\u001b[0m\u001b[0;34m:\u001b[0m\u001b[0;34m\u001b[0m\u001b[0;34m\u001b[0m\u001b[0m\n",
      "\u001b[0;32m~/anaconda3/lib/python3.7/site-packages/tensorflow/python/training/monitored_session.py\u001b[0m in \u001b[0;36mrun\u001b[0;34m(self, fetches, feed_dict, options, run_metadata)\u001b[0m\n\u001b[1;32m   1169\u001b[0m                               \u001b[0mfeed_dict\u001b[0m\u001b[0;34m=\u001b[0m\u001b[0mfeed_dict\u001b[0m\u001b[0;34m,\u001b[0m\u001b[0;34m\u001b[0m\u001b[0;34m\u001b[0m\u001b[0m\n\u001b[1;32m   1170\u001b[0m                               \u001b[0moptions\u001b[0m\u001b[0;34m=\u001b[0m\u001b[0moptions\u001b[0m\u001b[0;34m,\u001b[0m\u001b[0;34m\u001b[0m\u001b[0;34m\u001b[0m\u001b[0m\n\u001b[0;32m-> 1171\u001b[0;31m                               run_metadata=run_metadata)\n\u001b[0m\u001b[1;32m   1172\u001b[0m       \u001b[0;32mexcept\u001b[0m \u001b[0m_PREEMPTION_ERRORS\u001b[0m \u001b[0;32mas\u001b[0m \u001b[0me\u001b[0m\u001b[0;34m:\u001b[0m\u001b[0;34m\u001b[0m\u001b[0;34m\u001b[0m\u001b[0m\n\u001b[1;32m   1173\u001b[0m         logging.info('An error was raised. This may be due to a preemption in '\n",
      "\u001b[0;32m~/anaconda3/lib/python3.7/site-packages/tensorflow/python/training/monitored_session.py\u001b[0m in \u001b[0;36mrun\u001b[0;34m(self, *args, **kwargs)\u001b[0m\n\u001b[1;32m   1253\u001b[0m   \u001b[0;32mdef\u001b[0m \u001b[0mrun\u001b[0m\u001b[0;34m(\u001b[0m\u001b[0mself\u001b[0m\u001b[0;34m,\u001b[0m \u001b[0;34m*\u001b[0m\u001b[0margs\u001b[0m\u001b[0;34m,\u001b[0m \u001b[0;34m**\u001b[0m\u001b[0mkwargs\u001b[0m\u001b[0;34m)\u001b[0m\u001b[0;34m:\u001b[0m\u001b[0;34m\u001b[0m\u001b[0;34m\u001b[0m\u001b[0m\n\u001b[1;32m   1254\u001b[0m     \u001b[0;32mtry\u001b[0m\u001b[0;34m:\u001b[0m\u001b[0;34m\u001b[0m\u001b[0;34m\u001b[0m\u001b[0m\n\u001b[0;32m-> 1255\u001b[0;31m       \u001b[0;32mreturn\u001b[0m \u001b[0mself\u001b[0m\u001b[0;34m.\u001b[0m\u001b[0m_sess\u001b[0m\u001b[0;34m.\u001b[0m\u001b[0mrun\u001b[0m\u001b[0;34m(\u001b[0m\u001b[0;34m*\u001b[0m\u001b[0margs\u001b[0m\u001b[0;34m,\u001b[0m \u001b[0;34m**\u001b[0m\u001b[0mkwargs\u001b[0m\u001b[0;34m)\u001b[0m\u001b[0;34m\u001b[0m\u001b[0;34m\u001b[0m\u001b[0m\n\u001b[0m\u001b[1;32m   1256\u001b[0m     \u001b[0;32mexcept\u001b[0m \u001b[0m_PREEMPTION_ERRORS\u001b[0m\u001b[0;34m:\u001b[0m\u001b[0;34m\u001b[0m\u001b[0;34m\u001b[0m\u001b[0m\n\u001b[1;32m   1257\u001b[0m       \u001b[0;32mraise\u001b[0m\u001b[0;34m\u001b[0m\u001b[0;34m\u001b[0m\u001b[0m\n",
      "\u001b[0;32m~/anaconda3/lib/python3.7/site-packages/tensorflow/python/training/monitored_session.py\u001b[0m in \u001b[0;36mrun\u001b[0;34m(self, fetches, feed_dict, options, run_metadata)\u001b[0m\n\u001b[1;32m   1325\u001b[0m                                   \u001b[0mfeed_dict\u001b[0m\u001b[0;34m=\u001b[0m\u001b[0mfeed_dict\u001b[0m\u001b[0;34m,\u001b[0m\u001b[0;34m\u001b[0m\u001b[0;34m\u001b[0m\u001b[0m\n\u001b[1;32m   1326\u001b[0m                                   \u001b[0moptions\u001b[0m\u001b[0;34m=\u001b[0m\u001b[0moptions\u001b[0m\u001b[0;34m,\u001b[0m\u001b[0;34m\u001b[0m\u001b[0;34m\u001b[0m\u001b[0m\n\u001b[0;32m-> 1327\u001b[0;31m                                   run_metadata=run_metadata)\n\u001b[0m\u001b[1;32m   1328\u001b[0m \u001b[0;34m\u001b[0m\u001b[0m\n\u001b[1;32m   1329\u001b[0m     \u001b[0;32mfor\u001b[0m \u001b[0mhook\u001b[0m \u001b[0;32min\u001b[0m \u001b[0mself\u001b[0m\u001b[0;34m.\u001b[0m\u001b[0m_hooks\u001b[0m\u001b[0;34m:\u001b[0m\u001b[0;34m\u001b[0m\u001b[0;34m\u001b[0m\u001b[0m\n",
      "\u001b[0;32m~/anaconda3/lib/python3.7/site-packages/tensorflow/python/training/monitored_session.py\u001b[0m in \u001b[0;36mrun\u001b[0;34m(self, *args, **kwargs)\u001b[0m\n\u001b[1;32m   1089\u001b[0m \u001b[0;34m\u001b[0m\u001b[0m\n\u001b[1;32m   1090\u001b[0m   \u001b[0;32mdef\u001b[0m \u001b[0mrun\u001b[0m\u001b[0;34m(\u001b[0m\u001b[0mself\u001b[0m\u001b[0;34m,\u001b[0m \u001b[0;34m*\u001b[0m\u001b[0margs\u001b[0m\u001b[0;34m,\u001b[0m \u001b[0;34m**\u001b[0m\u001b[0mkwargs\u001b[0m\u001b[0;34m)\u001b[0m\u001b[0;34m:\u001b[0m\u001b[0;34m\u001b[0m\u001b[0;34m\u001b[0m\u001b[0m\n\u001b[0;32m-> 1091\u001b[0;31m     \u001b[0;32mreturn\u001b[0m \u001b[0mself\u001b[0m\u001b[0;34m.\u001b[0m\u001b[0m_sess\u001b[0m\u001b[0;34m.\u001b[0m\u001b[0mrun\u001b[0m\u001b[0;34m(\u001b[0m\u001b[0;34m*\u001b[0m\u001b[0margs\u001b[0m\u001b[0;34m,\u001b[0m \u001b[0;34m**\u001b[0m\u001b[0mkwargs\u001b[0m\u001b[0;34m)\u001b[0m\u001b[0;34m\u001b[0m\u001b[0;34m\u001b[0m\u001b[0m\n\u001b[0m\u001b[1;32m   1092\u001b[0m \u001b[0;34m\u001b[0m\u001b[0m\n\u001b[1;32m   1093\u001b[0m   \u001b[0;32mdef\u001b[0m \u001b[0mrun_step_fn\u001b[0m\u001b[0;34m(\u001b[0m\u001b[0mself\u001b[0m\u001b[0;34m,\u001b[0m \u001b[0mstep_fn\u001b[0m\u001b[0;34m,\u001b[0m \u001b[0mraw_session\u001b[0m\u001b[0;34m,\u001b[0m \u001b[0mrun_with_hooks\u001b[0m\u001b[0;34m)\u001b[0m\u001b[0;34m:\u001b[0m\u001b[0;34m\u001b[0m\u001b[0;34m\u001b[0m\u001b[0m\n",
      "\u001b[0;32m~/anaconda3/lib/python3.7/site-packages/tensorflow/python/client/session.py\u001b[0m in \u001b[0;36mrun\u001b[0;34m(self, fetches, feed_dict, options, run_metadata)\u001b[0m\n\u001b[1;32m    927\u001b[0m     \u001b[0;32mtry\u001b[0m\u001b[0;34m:\u001b[0m\u001b[0;34m\u001b[0m\u001b[0;34m\u001b[0m\u001b[0m\n\u001b[1;32m    928\u001b[0m       result = self._run(None, fetches, feed_dict, options_ptr,\n\u001b[0;32m--> 929\u001b[0;31m                          run_metadata_ptr)\n\u001b[0m\u001b[1;32m    930\u001b[0m       \u001b[0;32mif\u001b[0m \u001b[0mrun_metadata\u001b[0m\u001b[0;34m:\u001b[0m\u001b[0;34m\u001b[0m\u001b[0;34m\u001b[0m\u001b[0m\n\u001b[1;32m    931\u001b[0m         \u001b[0mproto_data\u001b[0m \u001b[0;34m=\u001b[0m \u001b[0mtf_session\u001b[0m\u001b[0;34m.\u001b[0m\u001b[0mTF_GetBuffer\u001b[0m\u001b[0;34m(\u001b[0m\u001b[0mrun_metadata_ptr\u001b[0m\u001b[0;34m)\u001b[0m\u001b[0;34m\u001b[0m\u001b[0;34m\u001b[0m\u001b[0m\n",
      "\u001b[0;32m~/anaconda3/lib/python3.7/site-packages/tensorflow/python/client/session.py\u001b[0m in \u001b[0;36m_run\u001b[0;34m(self, handle, fetches, feed_dict, options, run_metadata)\u001b[0m\n\u001b[1;32m   1150\u001b[0m     \u001b[0;32mif\u001b[0m \u001b[0mfinal_fetches\u001b[0m \u001b[0;32mor\u001b[0m \u001b[0mfinal_targets\u001b[0m \u001b[0;32mor\u001b[0m \u001b[0;34m(\u001b[0m\u001b[0mhandle\u001b[0m \u001b[0;32mand\u001b[0m \u001b[0mfeed_dict_tensor\u001b[0m\u001b[0;34m)\u001b[0m\u001b[0;34m:\u001b[0m\u001b[0;34m\u001b[0m\u001b[0;34m\u001b[0m\u001b[0m\n\u001b[1;32m   1151\u001b[0m       results = self._do_run(handle, final_targets, final_fetches,\n\u001b[0;32m-> 1152\u001b[0;31m                              feed_dict_tensor, options, run_metadata)\n\u001b[0m\u001b[1;32m   1153\u001b[0m     \u001b[0;32melse\u001b[0m\u001b[0;34m:\u001b[0m\u001b[0;34m\u001b[0m\u001b[0;34m\u001b[0m\u001b[0m\n\u001b[1;32m   1154\u001b[0m       \u001b[0mresults\u001b[0m \u001b[0;34m=\u001b[0m \u001b[0;34m[\u001b[0m\u001b[0;34m]\u001b[0m\u001b[0;34m\u001b[0m\u001b[0;34m\u001b[0m\u001b[0m\n",
      "\u001b[0;32m~/anaconda3/lib/python3.7/site-packages/tensorflow/python/client/session.py\u001b[0m in \u001b[0;36m_do_run\u001b[0;34m(self, handle, target_list, fetch_list, feed_dict, options, run_metadata)\u001b[0m\n\u001b[1;32m   1326\u001b[0m     \u001b[0;32mif\u001b[0m \u001b[0mhandle\u001b[0m \u001b[0;32mis\u001b[0m \u001b[0;32mNone\u001b[0m\u001b[0;34m:\u001b[0m\u001b[0;34m\u001b[0m\u001b[0;34m\u001b[0m\u001b[0m\n\u001b[1;32m   1327\u001b[0m       return self._do_call(_run_fn, feeds, fetches, targets, options,\n\u001b[0;32m-> 1328\u001b[0;31m                            run_metadata)\n\u001b[0m\u001b[1;32m   1329\u001b[0m     \u001b[0;32melse\u001b[0m\u001b[0;34m:\u001b[0m\u001b[0;34m\u001b[0m\u001b[0;34m\u001b[0m\u001b[0m\n\u001b[1;32m   1330\u001b[0m       \u001b[0;32mreturn\u001b[0m \u001b[0mself\u001b[0m\u001b[0;34m.\u001b[0m\u001b[0m_do_call\u001b[0m\u001b[0;34m(\u001b[0m\u001b[0m_prun_fn\u001b[0m\u001b[0;34m,\u001b[0m \u001b[0mhandle\u001b[0m\u001b[0;34m,\u001b[0m \u001b[0mfeeds\u001b[0m\u001b[0;34m,\u001b[0m \u001b[0mfetches\u001b[0m\u001b[0;34m)\u001b[0m\u001b[0;34m\u001b[0m\u001b[0;34m\u001b[0m\u001b[0m\n",
      "\u001b[0;32m~/anaconda3/lib/python3.7/site-packages/tensorflow/python/client/session.py\u001b[0m in \u001b[0;36m_do_call\u001b[0;34m(self, fn, *args)\u001b[0m\n\u001b[1;32m   1332\u001b[0m   \u001b[0;32mdef\u001b[0m \u001b[0m_do_call\u001b[0m\u001b[0;34m(\u001b[0m\u001b[0mself\u001b[0m\u001b[0;34m,\u001b[0m \u001b[0mfn\u001b[0m\u001b[0;34m,\u001b[0m \u001b[0;34m*\u001b[0m\u001b[0margs\u001b[0m\u001b[0;34m)\u001b[0m\u001b[0;34m:\u001b[0m\u001b[0;34m\u001b[0m\u001b[0;34m\u001b[0m\u001b[0m\n\u001b[1;32m   1333\u001b[0m     \u001b[0;32mtry\u001b[0m\u001b[0;34m:\u001b[0m\u001b[0;34m\u001b[0m\u001b[0;34m\u001b[0m\u001b[0m\n\u001b[0;32m-> 1334\u001b[0;31m       \u001b[0;32mreturn\u001b[0m \u001b[0mfn\u001b[0m\u001b[0;34m(\u001b[0m\u001b[0;34m*\u001b[0m\u001b[0margs\u001b[0m\u001b[0;34m)\u001b[0m\u001b[0;34m\u001b[0m\u001b[0;34m\u001b[0m\u001b[0m\n\u001b[0m\u001b[1;32m   1335\u001b[0m     \u001b[0;32mexcept\u001b[0m \u001b[0merrors\u001b[0m\u001b[0;34m.\u001b[0m\u001b[0mOpError\u001b[0m \u001b[0;32mas\u001b[0m \u001b[0me\u001b[0m\u001b[0;34m:\u001b[0m\u001b[0;34m\u001b[0m\u001b[0;34m\u001b[0m\u001b[0m\n\u001b[1;32m   1336\u001b[0m       \u001b[0mmessage\u001b[0m \u001b[0;34m=\u001b[0m \u001b[0mcompat\u001b[0m\u001b[0;34m.\u001b[0m\u001b[0mas_text\u001b[0m\u001b[0;34m(\u001b[0m\u001b[0me\u001b[0m\u001b[0;34m.\u001b[0m\u001b[0mmessage\u001b[0m\u001b[0;34m)\u001b[0m\u001b[0;34m\u001b[0m\u001b[0;34m\u001b[0m\u001b[0m\n",
      "\u001b[0;32m~/anaconda3/lib/python3.7/site-packages/tensorflow/python/client/session.py\u001b[0m in \u001b[0;36m_run_fn\u001b[0;34m(feed_dict, fetch_list, target_list, options, run_metadata)\u001b[0m\n\u001b[1;32m   1317\u001b[0m       \u001b[0mself\u001b[0m\u001b[0;34m.\u001b[0m\u001b[0m_extend_graph\u001b[0m\u001b[0;34m(\u001b[0m\u001b[0;34m)\u001b[0m\u001b[0;34m\u001b[0m\u001b[0;34m\u001b[0m\u001b[0m\n\u001b[1;32m   1318\u001b[0m       return self._call_tf_sessionrun(\n\u001b[0;32m-> 1319\u001b[0;31m           options, feed_dict, fetch_list, target_list, run_metadata)\n\u001b[0m\u001b[1;32m   1320\u001b[0m \u001b[0;34m\u001b[0m\u001b[0m\n\u001b[1;32m   1321\u001b[0m     \u001b[0;32mdef\u001b[0m \u001b[0m_prun_fn\u001b[0m\u001b[0;34m(\u001b[0m\u001b[0mhandle\u001b[0m\u001b[0;34m,\u001b[0m \u001b[0mfeed_dict\u001b[0m\u001b[0;34m,\u001b[0m \u001b[0mfetch_list\u001b[0m\u001b[0;34m)\u001b[0m\u001b[0;34m:\u001b[0m\u001b[0;34m\u001b[0m\u001b[0;34m\u001b[0m\u001b[0m\n",
      "\u001b[0;32m~/anaconda3/lib/python3.7/site-packages/tensorflow/python/client/session.py\u001b[0m in \u001b[0;36m_call_tf_sessionrun\u001b[0;34m(self, options, feed_dict, fetch_list, target_list, run_metadata)\u001b[0m\n\u001b[1;32m   1405\u001b[0m     return tf_session.TF_SessionRun_wrapper(\n\u001b[1;32m   1406\u001b[0m         \u001b[0mself\u001b[0m\u001b[0;34m.\u001b[0m\u001b[0m_session\u001b[0m\u001b[0;34m,\u001b[0m \u001b[0moptions\u001b[0m\u001b[0;34m,\u001b[0m \u001b[0mfeed_dict\u001b[0m\u001b[0;34m,\u001b[0m \u001b[0mfetch_list\u001b[0m\u001b[0;34m,\u001b[0m \u001b[0mtarget_list\u001b[0m\u001b[0;34m,\u001b[0m\u001b[0;34m\u001b[0m\u001b[0;34m\u001b[0m\u001b[0m\n\u001b[0;32m-> 1407\u001b[0;31m         run_metadata)\n\u001b[0m\u001b[1;32m   1408\u001b[0m \u001b[0;34m\u001b[0m\u001b[0m\n\u001b[1;32m   1409\u001b[0m   \u001b[0;32mdef\u001b[0m \u001b[0m_call_tf_sessionprun\u001b[0m\u001b[0;34m(\u001b[0m\u001b[0mself\u001b[0m\u001b[0;34m,\u001b[0m \u001b[0mhandle\u001b[0m\u001b[0;34m,\u001b[0m \u001b[0mfeed_dict\u001b[0m\u001b[0;34m,\u001b[0m \u001b[0mfetch_list\u001b[0m\u001b[0;34m)\u001b[0m\u001b[0;34m:\u001b[0m\u001b[0;34m\u001b[0m\u001b[0;34m\u001b[0m\u001b[0m\n",
      "\u001b[0;31mKeyboardInterrupt\u001b[0m: "
     ]
    }
   ],
   "source": [
    "validation_file = os.path.join('LOL_data','mix_tier',\n",
    "                               'lol_validation_data', \n",
    "                               'dual_gold_win_lol_validation_data.tfrecords')\n",
    "validation_input_fn =lambda: _input_fn([validation_file])\n",
    "evaluation_metrics = trained_dualhead_linear_model.evaluate(\n",
    "            input_fn=validation_input_fn,\n",
    "            steps=3e3)\n",
    "for m in evaluation_metrics:\n",
    "    print(m, evaluation_metrics[m])"
   ]
  },
  {
   "cell_type": "markdown",
   "metadata": {},
   "source": [
    "### Investigate embeding layer"
   ]
  },
  {
   "cell_type": "code",
   "execution_count": 79,
   "metadata": {
    "ExecuteTime": {
     "end_time": "2018-12-10T08:16:07.422456Z",
     "start_time": "2018-12-10T08:16:07.199606Z"
    },
    "collapsed": true
   },
   "outputs": [],
   "source": [
    "champ_list = interface('IEconDOTA2_570').GetHeroes(itemizedonly = True)['result']['heroes']"
   ]
  },
  {
   "cell_type": "code",
   "execution_count": 85,
   "metadata": {
    "ExecuteTime": {
     "end_time": "2018-12-10T08:19:37.785231Z",
     "start_time": "2018-12-10T08:19:36.875868Z"
    }
   },
   "outputs": [
    {
     "data": {
      "image/png": "[encoded data removed]",
      "text/plain": [
       "<matplotlib.figure.Figure at 0x1391cb7b8>"
      ]
     },
     "metadata": {},
     "output_type": "display_data"
    }
   ],
   "source": [
    "vocab = list(range(105))+list(range(106,114))+list(range(119,121))\n",
    "red_embedding_matrix = trained_dnn_model.get_variable_value(\n",
    "    'dnn/input_from_feature_columns/input_layer/red_champs_embedding/embedding_weights')\n",
    "\n",
    "blue_embedding_matrix = trained_dnn_model.get_variable_value(\n",
    "    'dnn/input_from_feature_columns/input_layer/blue_heroes_embedding/embedding_weights')\n",
    "\n",
    "for champ_index in range(len(vocab)):\n",
    "    # Create a one-hot encoding for our term. It has 0s everywhere, except for\n",
    "    # a single 1 in the coordinate that corresponds to that term.\n",
    "    red_vector = np.zeros(len(vocab))\n",
    "    red_vector[champ_index] = 1\n",
    "    blue_vector = np.zeros(len(vocab))\n",
    "    blue_vector[champ_index] = 1\n",
    "    # We'll now project that one-hot vector into the embedding space.\n",
    "    red_embedding_xy = np.matmul(dire_vector, dire_embedding_matrix)\n",
    "    blue_embedding_xy = np.matmul(dire_vector,dire_embedding_matrix)\n",
    "    #plt.text(dire_embedding_xy[0],\n",
    "    #       dire_embedding_xy[1],\n",
    "    #       hero_list[hero_index]['name'][14:],fontsize=8)\n",
    "    plt.text(blue_embedding_xy[0],\n",
    "           blue_embedding_xy[3],\n",
    "           champ_list[champ_index]['name'][14:],fontsize=8,)\n",
    "\n",
    "# Do a little setup to make sure the plot displays nicely.\n",
    "plt.rcParams[\"figure.figsize\"] = (15, 15)\n",
    "plt.xlim(1.2 * red_embedding_matrix.min(), 1.2 * red_embedding_matrix.max())\n",
    "plt.ylim(1.2 * red_embedding_matrix.min(), 1.2 * red_embedding_matrix.max())\n",
    "plt.show() "
   ]
  },
  {
   "cell_type": "markdown",
   "metadata": {},
   "source": [
    "### Save a trained model later exploration, or for on-demand prediction of test cases"
   ]
  },
  {
   "cell_type": "code",
   "execution_count": 20,
   "metadata": {
    "ExecuteTime": {
     "end_time": "2019-04-09T05:52:03.285167Z",
     "start_time": "2019-04-09T05:52:03.274646Z"
    },
    "collapsed": true
   },
   "outputs": [],
   "source": [
    "def serving_input_receiver_fn():\n",
    "    \"\"\"An input receiver that expects a serialized tf.Example.\"\"\"\n",
    "    feature_spec = {\n",
    "        \"blue_champs\": tf.FixedLenFeature([], dtype=tf.string), #array of five 8 bit ints for heroes\n",
    "        \"red_champs\": tf.FixedLenFeature([], dtype=tf.string) #array of five 8-bit ints for heroes\n",
    "                }\n",
    "    serialized_tf_example = tf.placeholder(dtype=tf.string,\n",
    "                                         shape=[1],\n",
    "                                         name='input_example_tensor')\n",
    "    receiver_tensors = {'examples': serialized_tf_example}\n",
    "    parsed_features = tf.parse_example(serialized_tf_example, feature_spec)\n",
    "    \n",
    "    radiant_heroes = tf.decode_raw(parsed_features['blue_champs'], tf.int64)\n",
    "    dire_heroes = tf.decode_raw(parsed_features['red_champs'], tf.int64)\n",
    "    \n",
    "    features = {'blue_champs':radiant_heroes, 'red_champs': dire_heroes}\n",
    "    return tf.estimator.export.ServingInputReceiver(features, receiver_tensors)"
   ]
  },
  {
   "cell_type": "code",
   "execution_count": 21,
   "metadata": {
    "ExecuteTime": {
     "end_time": "2019-04-09T05:52:04.748787Z",
     "start_time": "2019-04-09T05:52:04.307611Z"
    }
   },
   "outputs": [
    {
     "data": {
      "text/plain": [
       "b'trained_models/dnn_models/1554789124'"
      ]
     },
     "execution_count": 21,
     "metadata": {},
     "output_type": "execute_result"
    }
   ],
   "source": [
    "export_dir = os.path.join('trained_models','dnn_models')\n",
    "trained_dnn_model.export_savedmodel(\n",
    "                                export_dir_base = export_dir,\n",
    "                                serving_input_receiver_fn = serving_input_receiver_fn)"
   ]
  }
 ],
 "metadata": {
  "kernelspec": {
   "display_name": "Python 3",
   "language": "python",
   "name": "python3"
  },
  "language_info": {
   "codemirror_mode": {
    "name": "ipython",
    "version": 3
   },
   "file_extension": ".py",
   "mimetype": "text/x-python",
   "name": "python",
   "nbconvert_exporter": "python",
   "pygments_lexer": "ipython3",
   "version": "3.7.3"
  },
  "notify_time": "30",
  "toc": {
   "base_numbering": 1,
   "nav_menu": {},
   "number_sections": true,
   "sideBar": true,
   "skip_h1_title": false,
   "title_cell": "Table of Contents",
   "title_sidebar": "Contents",
   "toc_cell": false,
   "toc_position": {},
   "toc_section_display": true,
   "toc_window_display": false
  }
 },
 "nbformat": 4,
 "nbformat_minor": 2
}
