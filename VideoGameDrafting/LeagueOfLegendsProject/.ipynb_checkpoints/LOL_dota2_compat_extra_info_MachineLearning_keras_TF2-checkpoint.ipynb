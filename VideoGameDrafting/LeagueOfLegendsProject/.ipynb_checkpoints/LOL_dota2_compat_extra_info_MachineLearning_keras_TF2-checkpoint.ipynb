{
 "cells": [
  {
   "cell_type": "code",
   "execution_count": 1,
   "metadata": {
    "ExecuteTime": {
     "end_time": "2020-03-06T22:30:42.673706Z",
     "start_time": "2020-03-06T22:30:39.086455Z"
    },
    "scrolled": true
   },
   "outputs": [
    {
     "name": "stdout",
     "output_type": "stream",
     "text": [
      "2.2.0-dev20200306\n"
     ]
    }
   ],
   "source": [
    "import seaborn as sns\n",
    "import pandas as pd\n",
    "import pylab as plt\n",
    "import numpy as np\n",
    "from steam import WebAPI\n",
    "from datetime import datetime\n",
    "import os\n",
    "import glob\n",
    "import json\n",
    "import tensorflow as tf\n",
    "import sys\n",
    "from IPython import display\n",
    "import requests\n",
    "import tensorflow.keras.backend as K\n",
    "from sklearn import decomposition\n",
    "\n",
    "#import logging\n",
    "#logging.getLogger(\"tensorflow\").setLevel(logging.ERROR)\n",
    "\n",
    "#from tensorflow.python.framework.ops import disable_eager_execution\n",
    "#disable_eager_execution()\n",
    "\n",
    "print(tf.__version__)"
   ]
  },
  {
   "cell_type": "code",
   "execution_count": 2,
   "metadata": {
    "ExecuteTime": {
     "end_time": "2020-03-06T22:30:42.682824Z",
     "start_time": "2020-03-06T22:30:42.678013Z"
    }
   },
   "outputs": [],
   "source": [
    "sns.set_style('ticks')"
   ]
  },
  {
   "cell_type": "code",
   "execution_count": 3,
   "metadata": {
    "ExecuteTime": {
     "end_time": "2020-03-06T22:30:42.699053Z",
     "start_time": "2020-03-06T22:30:42.685537Z"
    }
   },
   "outputs": [
    {
     "name": "stdout",
     "output_type": "stream",
     "text": [
      "144\n"
     ]
    }
   ],
   "source": [
    "champfile=os.path.join('lol_data','version9.10.1_champion.json')\n",
    "with open(champfile,'r') as fin:\n",
    "    champdata=json.load(fin)\n",
    "champ_vocab=[]\n",
    "for name,data in champdata['data'].items():\n",
    "    champ_vocab.append(data['key'])\n",
    "champ_vocab = [int(i) for i in champ_vocab]\n",
    "print(len(champ_vocab))"
   ]
  },
  {
   "cell_type": "markdown",
   "metadata": {},
   "source": [
    "# Modeling using a TFRecord dataformat"
   ]
  },
  {
   "cell_type": "markdown",
   "metadata": {},
   "source": [
    "## Build TFRecord input pipeline"
   ]
  },
  {
   "cell_type": "code",
   "execution_count": 4,
   "metadata": {
    "ExecuteTime": {
     "end_time": "2020-03-06T22:30:42.718740Z",
     "start_time": "2020-03-06T22:30:42.702056Z"
    },
    "code_folding": []
   },
   "outputs": [],
   "source": [
    "def _parse_function_extra_info(example_proto):\n",
    "    \"\"\"Extracts features and labels.\n",
    "  \n",
    "    Args:\n",
    "        example_proto: tf.Example protocol (unsure what this is)    \n",
    "      Returns:\n",
    "    A `tuple` `(labels, features)`:\n",
    "      features: A dict of tensors representing the features\n",
    "      labels: A tensor with the corresponding labels.\n",
    "    \"\"\"\n",
    "    features = {}\n",
    "    \n",
    "    #loop through five times to capture each hero on each team\n",
    "    for i in range(5):\n",
    "        #64 bit int for hero\n",
    "        features[\"radiant_hero\"+str(i)] =tf.io.FixedLenFeature(1, dtype=tf.int64)\n",
    "        #there are 4 pieces of info for a hero in LOL\n",
    "        features[\"radiant_hero_info\"+str(i)] =tf.io.FixedLenFeature(4, dtype=tf.int64) \n",
    "        #there are 6 possible tags for a hero in LOL\n",
    "        features[\"radiant_hero_tags\"+str(i)] =tf.io.FixedLenFeature(6, dtype=tf.int64) \n",
    "        features[\"dire_hero\"+str(i)] =tf.io.FixedLenFeature(1, dtype=tf.int64) \n",
    "        features[\"dire_hero_info\"+str(i)] =tf.io.FixedLenFeature(4, dtype=tf.int64) \n",
    "        features[\"dire_hero_tags\"+str(i)] =tf.io.FixedLenFeature(6, dtype=tf.int64) \n",
    " \n",
    "    features[\"skill_level\"] = tf.io.FixedLenFeature(2, dtype=tf.int64)\n",
    "    features[\"targets\"] = tf.io.FixedLenFeature(1, dtype=tf.int64)\n",
    "                \n",
    "    parsed_features = tf.io.parse_single_example(example_proto, features)\n",
    "    \n",
    "    hero_dict={}\n",
    "    for i in range(5):\n",
    "        hero_dict['radiant_hero'+str(i)]=parsed_features['radiant_hero'+str(i)]\n",
    "        hero_dict['radiant_hero_info'+str(i)]=parsed_features['radiant_hero_info'+str(i)]\n",
    "        hero_dict['radiant_hero_tags'+str(i)]=parsed_features['radiant_hero_tags'+str(i)]\n",
    "        hero_dict['dire_hero'+str(i)]=parsed_features['dire_hero'+str(i)]\n",
    "        hero_dict['dire_hero_info'+str(i)]=parsed_features['dire_hero_info'+str(i)]\n",
    "        hero_dict['dire_hero_tags'+str(i)]=parsed_features['dire_hero_tags'+str(i)]\n",
    "\n",
    "    hero_dict['skill_level']= parsed_features['skill_level']\n",
    "    target = parsed_features['targets']\n",
    "    \n",
    "    return hero_dict, target"
   ]
  },
  {
   "cell_type": "markdown",
   "metadata": {},
   "source": [
    "#### Check the parse function worked"
   ]
  },
  {
   "cell_type": "code",
   "execution_count": 5,
   "metadata": {
    "ExecuteTime": {
     "end_time": "2020-03-06T22:30:43.446829Z",
     "start_time": "2020-03-06T22:30:42.720721Z"
    },
    "scrolled": true
   },
   "outputs": [],
   "source": [
    "# Create the Dataset object.\n",
    "ds = tf.data.TFRecordDataset(os.path.join('LOL_data',\n",
    "                                          'mix_tier',\n",
    "                                          'lol_training_data',\n",
    "                                          'blue_win_extra_info_dota2_compat_lol_training_data.tfrecords'),\n",
    "                                          compression_type=\"GZIP\")\n",
    "# Map features and labels with the parse function.\n",
    "ds = ds.map(_parse_function_extra_info)"
   ]
  },
  {
   "cell_type": "code",
   "execution_count": 6,
   "metadata": {
    "ExecuteTime": {
     "end_time": "2020-03-06T22:30:44.366831Z",
     "start_time": "2020-03-06T22:30:43.449218Z"
    },
    "scrolled": true
   },
   "outputs": [
    {
     "name": "stdout",
     "output_type": "stream",
     "text": [
      "({'radiant_hero0': <tf.Tensor: shape=(1,), dtype=int64, numpy=array([11])>, 'radiant_hero_info0': <tf.Tensor: shape=(4,), dtype=int64, numpy=array([6, 9, 5, 7])>, 'radiant_hero_tags0': <tf.Tensor: shape=(6,), dtype=int64, numpy=array([0, 0, 0, 0, 1, 1])>, 'dire_hero0': <tf.Tensor: shape=(1,), dtype=int64, numpy=array([139])>, 'dire_hero_info0': <tf.Tensor: shape=(4,), dtype=int64, numpy=array([10,  6,  1,  5])>, 'dire_hero_tags0': <tf.Tensor: shape=(6,), dtype=int64, numpy=array([0, 0, 0, 1, 0, 0])>, 'radiant_hero1': <tf.Tensor: shape=(1,), dtype=int64, numpy=array([127])>, 'radiant_hero_info1': <tf.Tensor: shape=(4,), dtype=int64, numpy=array([8, 5, 3, 4])>, 'radiant_hero_tags1': <tf.Tensor: shape=(6,), dtype=int64, numpy=array([1, 1, 0, 0, 0, 0])>, 'dire_hero1': <tf.Tensor: shape=(1,), dtype=int64, numpy=array([138])>, 'dire_hero_info1': <tf.Tensor: shape=(4,), dtype=int64, numpy=array([2, 4, 8, 5])>, 'dire_hero_tags1': <tf.Tensor: shape=(6,), dtype=int64, numpy=array([0, 0, 0, 0, 1, 0])>, 'radiant_hero2': <tf.Tensor: shape=(1,), dtype=int64, numpy=array([103])>, 'radiant_hero_info2': <tf.Tensor: shape=(4,), dtype=int64, numpy=array([2, 5, 8, 6])>, 'radiant_hero_tags2': <tf.Tensor: shape=(6,), dtype=int64, numpy=array([0, 0, 1, 0, 0, 0])>, 'dire_hero2': <tf.Tensor: shape=(1,), dtype=int64, numpy=array([141])>, 'dire_hero_info2': <tf.Tensor: shape=(4,), dtype=int64, numpy=array([3, 4, 8, 5])>, 'dire_hero_tags2': <tf.Tensor: shape=(6,), dtype=int64, numpy=array([1, 0, 1, 0, 0, 0])>, 'radiant_hero3': <tf.Tensor: shape=(1,), dtype=int64, numpy=array([60])>, 'radiant_hero_info3': <tf.Tensor: shape=(4,), dtype=int64, numpy=array([10,  1,  1,  8])>, 'radiant_hero_tags3': <tf.Tensor: shape=(6,), dtype=int64, numpy=array([1, 0, 0, 1, 0, 0])>, 'dire_hero3': <tf.Tensor: shape=(1,), dtype=int64, numpy=array([80])>, 'dire_hero_info3': <tf.Tensor: shape=(4,), dtype=int64, numpy=array([8, 5, 1, 8])>, 'dire_hero_tags3': <tf.Tensor: shape=(6,), dtype=int64, numpy=array([1, 1, 0, 0, 0, 0])>, 'radiant_hero4': <tf.Tensor: shape=(1,), dtype=int64, numpy=array([38])>, 'radiant_hero_info4': <tf.Tensor: shape=(4,), dtype=int64, numpy=array([7, 4, 5, 5])>, 'radiant_hero_tags4': <tf.Tensor: shape=(6,), dtype=int64, numpy=array([1, 1, 0, 0, 0, 0])>, 'dire_hero4': <tf.Tensor: shape=(1,), dtype=int64, numpy=array([55])>, 'dire_hero_info4': <tf.Tensor: shape=(4,), dtype=int64, numpy=array([6, 5, 7, 9])>, 'dire_hero_tags4': <tf.Tensor: shape=(6,), dtype=int64, numpy=array([0, 1, 1, 0, 0, 0])>, 'skill_level': <tf.Tensor: shape=(2,), dtype=int64, numpy=array([1, 0])>}, <tf.Tensor: shape=(1,), dtype=int64, numpy=array([0])>)\n"
     ]
    }
   ],
   "source": [
    "ds = ds.shuffle(10000)\n",
    "print(next(iter(ds)))"
   ]
  },
  {
   "cell_type": "markdown",
   "metadata": {},
   "source": [
    "## Model Functions"
   ]
  },
  {
   "cell_type": "code",
   "execution_count": 7,
   "metadata": {
    "ExecuteTime": {
     "end_time": "2020-03-06T22:30:44.376067Z",
     "start_time": "2020-03-06T22:30:44.369477Z"
    },
    "code_folding": []
   },
   "outputs": [],
   "source": [
    "# Create an input_fn that parses the tf.Examples from the given files,\n",
    "# and split them into features and targets.\n",
    "def _input_fn_extra_info(input_filenames, num_epochs=None, \n",
    "              shuffle=True, batch_size=50,compression_type=\"\"):\n",
    "   \n",
    "   # Same code as above; create a dataset and map features and labels.\n",
    "    ds = tf.data.TFRecordDataset(input_filenames,compression_type=compression_type)\n",
    "    ds = ds.map(_parse_function_extra_info)\n",
    "\n",
    "    if shuffle:\n",
    "        ds = ds.shuffle(10000)\n",
    "    ds = ds.batch(batch_size)\n",
    "    ds = ds.repeat()\n",
    "    \n",
    "    # Return the dataset.\n",
    "    return ds"
   ]
  },
  {
   "cell_type": "markdown",
   "metadata": {},
   "source": [
    "## Define and train the linear model"
   ]
  },
  {
   "cell_type": "markdown",
   "metadata": {},
   "source": [
    "### various iterations of linear models"
   ]
  },
  {
   "cell_type": "code",
   "execution_count": 14,
   "metadata": {
    "ExecuteTime": {
     "end_time": "2020-03-06T22:44:06.058828Z",
     "start_time": "2020-03-06T22:44:06.038996Z"
    }
   },
   "outputs": [],
   "source": [
    "#define the linear model with no feature columns\n",
    "def define_linear_model_extra_info(vocab_len, \n",
    "                                   embedding_dims):\n",
    "    '''Function to define simple keras linear model\n",
    "    \n",
    "    Args: \n",
    "        vocab_len: An `int` specifying the number of category of the categorical input\n",
    "        embedding_dims: An `int` specifying the number of dimensions in the embedding layer\n",
    "    Returns:\n",
    "        model: A uncompiled `tf.keras.model`\n",
    "    '''\n",
    "    \n",
    "    ##define hero processing layers\n",
    "    #embed hero\n",
    "    embed_hero = tf.keras.layers.Embedding(input_dim=vocab_len,\n",
    "                                           output_dim=embedding_dims)\n",
    "    #process tags into num of values specified by dense outputs value\n",
    "    dense_hero_tags = tf.keras.layers.Dense(1,activation='linear')\n",
    "    #process info into num of values specified by dense outputs value\n",
    "    dense_hero_info = tf.keras.layers.Dense(1,activation='linear')\n",
    "    ##process hero embed, dense_tags, and dense_info output into some num of outputs\n",
    "    #dense_hero_overall = tf.keras.Dense(embedding_dims+2,activation='linear')\n",
    "    \n",
    "    hero_input=[]\n",
    "    rad_hero_output=[]\n",
    "    dire_hero_output=[]\n",
    "    #process all heroes in same way\n",
    "    for i in range(5):\n",
    "        #add radiant hero to hero_input list and process with\n",
    "        #    embed_hero layer\n",
    "        hero_input.append(tf.keras.Input(shape=(1,),\n",
    "                                         name='radiant_hero'+str(i)))\n",
    "        x_rh = embed_hero(hero_input[-1])\n",
    "        x_rh = tf.keras.layers.Flatten()(x_rh)\n",
    "        #add radiant hero info to hero_input list and process with\n",
    "        #    dense_tags layer\n",
    "        hero_input.append(tf.keras.Input(shape=(4,), #4 info types\n",
    "                                         name='radiant_hero_info'+str(i)))\n",
    "        x_rhi = dense_hero_info(hero_input[-1])\n",
    "        #add radiant hero tags to hero_input list and process with\n",
    "        #    dense_info layer\n",
    "        hero_input.append(tf.keras.Input(shape=(6,), #6 tag types\n",
    "                                         name='radiant_hero_tags'+str(i)))\n",
    "        x_rht = dense_hero_tags(hero_input[-1])\n",
    "        #append output of hero layers to rad_out_layer for summing later\n",
    "        rad_hero_output.append(tf.keras.layers.concatenate([x_rh,x_rhi,x_rht]))\n",
    "        \n",
    "\n",
    "        #add dire hero to hero_input list and process with\n",
    "        #    embed_hero layer\n",
    "        hero_input.append(tf.keras.Input(shape=(1,),\n",
    "                                         name='dire_hero'+str(i)))\n",
    "        x_dh = embed_hero(hero_input[-1])\n",
    "        x_dh = tf.keras.layers.Flatten()(x_dh)\n",
    "        #add dire hero info to hero_input list and process with\n",
    "        #    dense_info layer       \n",
    "        hero_input.append(tf.keras.Input(shape=(4,),#4 info types\n",
    "                                         name='dire_hero_info'+str(i)))\n",
    "        x_dhi = dense_hero_info(hero_input[-1])\n",
    "        #add dire hero tags to hero_input list and process with\n",
    "        #    dense_tags layer\n",
    "        hero_input.append(tf.keras.Input(shape=(6,),#6 tag types\n",
    "                                         name='dire_hero_tags'+str(i)))\n",
    "        x_dht = dense_hero_tags(hero_input[-1])\n",
    "        #append output of hero layers to dire_out layer for summing later\n",
    "        dire_hero_output.append(tf.keras.layers.concatenate([x_dh,x_dhi,x_dht]))\n",
    "    \n",
    "    #sum hero outputs to erase ordering information and get ave team vector\n",
    "    rad_hero_sum = tf.keras.layers.Add()(rad_hero_output)\n",
    "    dire_hero_sum = tf.keras.layers.Add()(dire_hero_output)    \n",
    "    \n",
    "    # Add a linear layer to map the average of the embedded vectors of each team\n",
    "    #   to a single vector for each team\n",
    "    x = tf.keras.layers.concatenate([rad_hero_sum,dire_hero_sum])\n",
    "    x = tf.keras.layers.Dense(1, activation='linear')(x)\n",
    "\n",
    "    #define skill input layer\n",
    "    skill = tf.keras.Input(shape=(2,),name='skill_level')\n",
    "    #concat skill input with output of hero layers\n",
    "    x = tf.keras.layers.concatenate([x, skill])\n",
    "    \n",
    "    #Adds output layer with sigmoid activation for prediction\n",
    "    win_predict = tf.keras.layers.Dense(1,activation='sigmoid')(x)\n",
    "    model = tf.keras.Model(inputs=[hero_input,skill],\n",
    "                           outputs=win_predict,name=\"radiant_win\")\n",
    "    #tf.keras.utils.plot_model(model, 'multi_input_model.png', show_shapes=True)\n",
    "    model.summary()\n",
    "    return model"
   ]
  },
  {
   "cell_type": "code",
   "execution_count": 9,
   "metadata": {
    "ExecuteTime": {
     "end_time": "2020-03-06T22:30:44.426678Z",
     "start_time": "2020-03-06T22:30:44.408710Z"
    },
    "code_folding": []
   },
   "outputs": [],
   "source": [
    "#define the linear model with no feature columns\n",
    "def train_linear_model_extra_info(optimizer, \n",
    "                                  vocab_len, \n",
    "                                  embedding_dims,\n",
    "                                  batch_size,\n",
    "                                  epochs,\n",
    "                                  training_path,\n",
    "                                  validation_path,\n",
    "                                  compression_type='',\n",
    "                                  temp_log_flag=True):\n",
    "    '''Function to train simple keras linear model\n",
    "    \n",
    "    Args: \n",
    "        optimizer: A `tf.keras.optimizer` object to use for the model\n",
    "        vocab_len: An `int` specifying the number of category of the categorical input\n",
    "        embedding_dims: An `int` specifying the number of dimensions in the embedding layer\n",
    "        batch_size: An `int` specifying batch size for each train step\n",
    "        epochs: An `int` number of epochs to train for\n",
    "        training_path: A `string` specifying training file\n",
    "        validation_path: A `string` specifying validatoin file\n",
    "        compression_type: A `string` specifying compression type\n",
    "        temp_log_flag: A `bool` specifying whether to save logs in temp folder\n",
    "    Returns:\n",
    "        history: A `tf.keras.history` object that has loss and other metrics\n",
    "    '''\n",
    "    \n",
    "    model = define_linear_model_extra_info(vocab_len,embedding_dims)\n",
    "    model.compile(optimizer = optimizer,\n",
    "                  loss = 'binary_crossentropy',\n",
    "                  metrics = ['accuracy'])\n",
    "\n",
    "    ##get embedding weights for returning and saving\n",
    "    #embedding_weights = model.layers[1].get_weights()[0]\n",
    "    \n",
    "    #get datasets from tfrecords and according to input_fn\n",
    "    train_ds = _input_fn_extra_info(training_path,\n",
    "                               batch_size=batch_size,\n",
    "                               compression_type=compression_type)\n",
    "\n",
    "    validation_ds= _input_fn_extra_info(validation_path,\n",
    "                                   batch_size=batch_size,\n",
    "                                   compression_type=compression_type)\n",
    "\n",
    "    #allow logging in temp directory or directory to be included in git\n",
    "    #  useful if tuning hyperparams or testing\n",
    "    if temp_log_flag:\n",
    "        logdir = os.path.join('..','..','..','tmp_log_dir',\n",
    "                          datetime.now().strftime(\"lol_%Y%m%d-%H%M%S\"))\n",
    "    else:\n",
    "        logdir = os.path.join('log_dir',\n",
    "                          datetime.now().strftime(\"%Y%m%d-%H%M%S\"))\n",
    "        \n",
    "    tensorboard_callback = tf.keras.callbacks.TensorBoard(log_dir=logdir)\n",
    "    steps_per_epoch=50\n",
    "    history = model.fit(train_ds, \n",
    "                        epochs = epochs,\n",
    "                        steps_per_epoch=steps_per_epoch,\n",
    "                        validation_steps=steps_per_epoch,\n",
    "                        verbose=1,\n",
    "                        validation_data=validation_ds,\n",
    "                        callbacks=[tensorboard_callback]\n",
    "                       )\n",
    "    \n",
    "    #save trained model. This can be used to retrain, predict, \n",
    "    #  or reloaded as a keras model to do more model things.\n",
    "    #Use TF `SavedModel` format so that it can be used in serving\n",
    "    model.save(os.path.join(logdir,'saved_model'),\n",
    "                      save_format='tf')\n",
    "    \n",
    "    #save params for this training to a json in the logdir\n",
    "    hyper = optimizer._hyper\n",
    "    hyper_dict={}\n",
    "    for key,value in hyper.items():\n",
    "        hyper_dict[key]=value.numpy().item()\n",
    "    training_params = dict({'model_type':'single_target_linear_with_embedding',\n",
    "                            'steps':steps_per_epoch*epochs,\n",
    "                            'embedding_dims':embedding_dims,\n",
    "                            'batch_size':batch_size,\n",
    "                            'optimizer':optimizer._name,\n",
    "                            'hyper_parameters':hyper_dict})\n",
    "    with open(os.path.join(logdir,'training_params.json'),'w') as fp:\n",
    "        json.dump(training_params,fp)\n",
    "    \n",
    "    ##save embedding in numpy format for later use\n",
    "    ##  no hero_vocab, but that should be ok\n",
    "    #np.save(os.path.join(logdir,'embedding.npy'),embedding_weights)\n",
    "    \n",
    "    fig,ax = plt.subplots(1,1,figsize=(1.6*3,3))\n",
    "    plt.plot(history.history['accuracy'])\n",
    "    plt.xlabel('epochs (50 steps per)')\n",
    "    plt.ylabel('accuracy')\n",
    "    plt.show()\n",
    "    \n",
    "    return history"
   ]
  },
  {
   "cell_type": "markdown",
   "metadata": {},
   "source": [
    "### train no feature column win model"
   ]
  },
  {
   "cell_type": "code",
   "execution_count": 10,
   "metadata": {
    "ExecuteTime": {
     "end_time": "2020-03-06T22:30:44.434789Z",
     "start_time": "2020-03-06T22:30:44.430177Z"
    }
   },
   "outputs": [],
   "source": [
    "training_file_novocab = os.path.join('LOL_data',\n",
    "                             'mix_tier',\n",
    "                             'lol_training_data',\n",
    "                             'blue_win_extra_info_dota2_compat_lol_training_data.tfrecords')\n",
    "validation_file_novocab = os.path.join('LOL_data',\n",
    "                             'mix_tier',\n",
    "                             'lol_validation_data',\n",
    "                             'blue_win_extra_info_dota2_compat_lol_validation_data.tfrecords')"
   ]
  },
  {
   "cell_type": "code",
   "execution_count": 16,
   "metadata": {
    "ExecuteTime": {
     "end_time": "2020-03-06T22:51:54.316926Z",
     "start_time": "2020-03-06T22:51:54.312604Z"
    }
   },
   "outputs": [
    {
     "name": "stdout",
     "output_type": "stream",
     "text": [
      "3\n"
     ]
    }
   ],
   "source": []
  },
  {
   "cell_type": "code",
   "execution_count": 15,
   "metadata": {
    "ExecuteTime": {
     "end_time": "2020-03-06T22:44:09.571029Z",
     "start_time": "2020-03-06T22:44:08.885090Z"
    },
    "code_folding": [],
    "scrolled": true
   },
   "outputs": [
    {
     "name": "stdout",
     "output_type": "stream",
     "text": [
      "Model: \"radiant_win\"\n",
      "__________________________________________________________________________________________________\n",
      "Layer (type)                    Output Shape         Param #     Connected to                     \n",
      "==================================================================================================\n",
      "radiant_hero0 (InputLayer)      [(None, 1)]          0                                            \n",
      "__________________________________________________________________________________________________\n",
      "radiant_hero1 (InputLayer)      [(None, 1)]          0                                            \n",
      "__________________________________________________________________________________________________\n",
      "radiant_hero2 (InputLayer)      [(None, 1)]          0                                            \n",
      "__________________________________________________________________________________________________\n",
      "radiant_hero3 (InputLayer)      [(None, 1)]          0                                            \n",
      "__________________________________________________________________________________________________\n",
      "radiant_hero4 (InputLayer)      [(None, 1)]          0                                            \n",
      "__________________________________________________________________________________________________\n",
      "dire_hero0 (InputLayer)         [(None, 1)]          0                                            \n",
      "__________________________________________________________________________________________________\n",
      "dire_hero1 (InputLayer)         [(None, 1)]          0                                            \n",
      "__________________________________________________________________________________________________\n",
      "dire_hero2 (InputLayer)         [(None, 1)]          0                                            \n",
      "__________________________________________________________________________________________________\n",
      "dire_hero3 (InputLayer)         [(None, 1)]          0                                            \n",
      "__________________________________________________________________________________________________\n",
      "dire_hero4 (InputLayer)         [(None, 1)]          0                                            \n",
      "__________________________________________________________________________________________________\n",
      "embedding_2 (Embedding)         (None, 1, 1)         144         radiant_hero0[0][0]              \n",
      "                                                                 dire_hero0[0][0]                 \n",
      "                                                                 radiant_hero1[0][0]              \n",
      "                                                                 dire_hero1[0][0]                 \n",
      "                                                                 radiant_hero2[0][0]              \n",
      "                                                                 dire_hero2[0][0]                 \n",
      "                                                                 radiant_hero3[0][0]              \n",
      "                                                                 dire_hero3[0][0]                 \n",
      "                                                                 radiant_hero4[0][0]              \n",
      "                                                                 dire_hero4[0][0]                 \n",
      "__________________________________________________________________________________________________\n",
      "radiant_hero_info0 (InputLayer) [(None, 4)]          0                                            \n",
      "__________________________________________________________________________________________________\n",
      "radiant_hero_tags0 (InputLayer) [(None, 6)]          0                                            \n",
      "__________________________________________________________________________________________________\n",
      "radiant_hero_info1 (InputLayer) [(None, 4)]          0                                            \n",
      "__________________________________________________________________________________________________\n",
      "radiant_hero_tags1 (InputLayer) [(None, 6)]          0                                            \n",
      "__________________________________________________________________________________________________\n",
      "radiant_hero_info2 (InputLayer) [(None, 4)]          0                                            \n",
      "__________________________________________________________________________________________________\n",
      "radiant_hero_tags2 (InputLayer) [(None, 6)]          0                                            \n",
      "__________________________________________________________________________________________________\n",
      "radiant_hero_info3 (InputLayer) [(None, 4)]          0                                            \n",
      "__________________________________________________________________________________________________\n",
      "radiant_hero_tags3 (InputLayer) [(None, 6)]          0                                            \n",
      "__________________________________________________________________________________________________\n",
      "radiant_hero_info4 (InputLayer) [(None, 4)]          0                                            \n",
      "__________________________________________________________________________________________________\n",
      "radiant_hero_tags4 (InputLayer) [(None, 6)]          0                                            \n",
      "__________________________________________________________________________________________________\n",
      "dire_hero_info0 (InputLayer)    [(None, 4)]          0                                            \n",
      "__________________________________________________________________________________________________\n",
      "dire_hero_tags0 (InputLayer)    [(None, 6)]          0                                            \n",
      "__________________________________________________________________________________________________\n",
      "dire_hero_info1 (InputLayer)    [(None, 4)]          0                                            \n",
      "__________________________________________________________________________________________________\n",
      "dire_hero_tags1 (InputLayer)    [(None, 6)]          0                                            \n",
      "__________________________________________________________________________________________________\n",
      "dire_hero_info2 (InputLayer)    [(None, 4)]          0                                            \n",
      "__________________________________________________________________________________________________\n",
      "dire_hero_tags2 (InputLayer)    [(None, 6)]          0                                            \n",
      "__________________________________________________________________________________________________\n",
      "dire_hero_info3 (InputLayer)    [(None, 4)]          0                                            \n",
      "__________________________________________________________________________________________________\n",
      "dire_hero_tags3 (InputLayer)    [(None, 6)]          0                                            \n",
      "__________________________________________________________________________________________________\n",
      "dire_hero_info4 (InputLayer)    [(None, 4)]          0                                            \n",
      "__________________________________________________________________________________________________\n",
      "dire_hero_tags4 (InputLayer)    [(None, 6)]          0                                            \n",
      "__________________________________________________________________________________________________\n",
      "flatten_20 (Flatten)            (None, 1)            0           embedding_2[0][0]                \n",
      "__________________________________________________________________________________________________\n",
      "dense_9 (Dense)                 (None, 1)            5           radiant_hero_info0[0][0]         \n",
      "                                                                 dire_hero_info0[0][0]            \n",
      "                                                                 radiant_hero_info1[0][0]         \n",
      "                                                                 dire_hero_info1[0][0]            \n",
      "                                                                 radiant_hero_info2[0][0]         \n",
      "                                                                 dire_hero_info2[0][0]            \n",
      "                                                                 radiant_hero_info3[0][0]         \n",
      "                                                                 dire_hero_info3[0][0]            \n",
      "                                                                 radiant_hero_info4[0][0]         \n",
      "                                                                 dire_hero_info4[0][0]            \n",
      "__________________________________________________________________________________________________\n",
      "dense_8 (Dense)                 (None, 1)            7           radiant_hero_tags0[0][0]         \n",
      "                                                                 dire_hero_tags0[0][0]            \n",
      "                                                                 radiant_hero_tags1[0][0]         \n",
      "                                                                 dire_hero_tags1[0][0]            \n",
      "                                                                 radiant_hero_tags2[0][0]         \n",
      "                                                                 dire_hero_tags2[0][0]            \n",
      "                                                                 radiant_hero_tags3[0][0]         \n",
      "                                                                 dire_hero_tags3[0][0]            \n",
      "                                                                 radiant_hero_tags4[0][0]         \n",
      "                                                                 dire_hero_tags4[0][0]            \n",
      "__________________________________________________________________________________________________\n",
      "flatten_22 (Flatten)            (None, 1)            0           embedding_2[2][0]                \n",
      "__________________________________________________________________________________________________\n",
      "flatten_24 (Flatten)            (None, 1)            0           embedding_2[4][0]                \n",
      "__________________________________________________________________________________________________\n",
      "flatten_26 (Flatten)            (None, 1)            0           embedding_2[6][0]                \n",
      "__________________________________________________________________________________________________\n",
      "flatten_28 (Flatten)            (None, 1)            0           embedding_2[8][0]                \n",
      "__________________________________________________________________________________________________\n",
      "flatten_21 (Flatten)            (None, 1)            0           embedding_2[1][0]                \n",
      "__________________________________________________________________________________________________\n",
      "flatten_23 (Flatten)            (None, 1)            0           embedding_2[3][0]                \n",
      "__________________________________________________________________________________________________\n",
      "flatten_25 (Flatten)            (None, 1)            0           embedding_2[5][0]                \n",
      "__________________________________________________________________________________________________\n",
      "flatten_27 (Flatten)            (None, 1)            0           embedding_2[7][0]                \n",
      "__________________________________________________________________________________________________\n",
      "flatten_29 (Flatten)            (None, 1)            0           embedding_2[9][0]                \n",
      "__________________________________________________________________________________________________\n",
      "concatenate_24 (Concatenate)    (None, 3)            0           flatten_20[0][0]                 \n",
      "                                                                 dense_9[0][0]                    \n",
      "                                                                 dense_8[0][0]                    \n",
      "__________________________________________________________________________________________________\n",
      "concatenate_26 (Concatenate)    (None, 3)            0           flatten_22[0][0]                 \n",
      "                                                                 dense_9[2][0]                    \n",
      "                                                                 dense_8[2][0]                    \n",
      "__________________________________________________________________________________________________\n",
      "concatenate_28 (Concatenate)    (None, 3)            0           flatten_24[0][0]                 \n",
      "                                                                 dense_9[4][0]                    \n",
      "                                                                 dense_8[4][0]                    \n",
      "__________________________________________________________________________________________________\n",
      "concatenate_30 (Concatenate)    (None, 3)            0           flatten_26[0][0]                 \n",
      "                                                                 dense_9[6][0]                    \n",
      "                                                                 dense_8[6][0]                    \n",
      "__________________________________________________________________________________________________\n",
      "concatenate_32 (Concatenate)    (None, 3)            0           flatten_28[0][0]                 \n",
      "                                                                 dense_9[8][0]                    \n",
      "                                                                 dense_8[8][0]                    \n",
      "__________________________________________________________________________________________________\n",
      "concatenate_25 (Concatenate)    (None, 3)            0           flatten_21[0][0]                 \n",
      "                                                                 dense_9[1][0]                    \n",
      "                                                                 dense_8[1][0]                    \n",
      "__________________________________________________________________________________________________\n",
      "concatenate_27 (Concatenate)    (None, 3)            0           flatten_23[0][0]                 \n",
      "                                                                 dense_9[3][0]                    \n",
      "                                                                 dense_8[3][0]                    \n",
      "__________________________________________________________________________________________________\n",
      "concatenate_29 (Concatenate)    (None, 3)            0           flatten_25[0][0]                 \n",
      "                                                                 dense_9[5][0]                    \n",
      "                                                                 dense_8[5][0]                    \n",
      "__________________________________________________________________________________________________\n",
      "concatenate_31 (Concatenate)    (None, 3)            0           flatten_27[0][0]                 \n",
      "                                                                 dense_9[7][0]                    \n",
      "                                                                 dense_8[7][0]                    \n",
      "__________________________________________________________________________________________________\n",
      "concatenate_33 (Concatenate)    (None, 3)            0           flatten_29[0][0]                 \n",
      "                                                                 dense_9[9][0]                    \n",
      "                                                                 dense_8[9][0]                    \n",
      "__________________________________________________________________________________________________\n",
      "add_4 (Add)                     (None, 3)            0           concatenate_24[0][0]             \n",
      "                                                                 concatenate_26[0][0]             \n",
      "                                                                 concatenate_28[0][0]             \n",
      "                                                                 concatenate_30[0][0]             \n",
      "                                                                 concatenate_32[0][0]             \n",
      "__________________________________________________________________________________________________\n",
      "add_5 (Add)                     (None, 3)            0           concatenate_25[0][0]             \n",
      "                                                                 concatenate_27[0][0]             \n",
      "                                                                 concatenate_29[0][0]             \n",
      "                                                                 concatenate_31[0][0]             \n",
      "                                                                 concatenate_33[0][0]             \n",
      "__________________________________________________________________________________________________\n",
      "concatenate_34 (Concatenate)    (None, 6)            0           add_4[0][0]                      \n",
      "                                                                 add_5[0][0]                      \n",
      "__________________________________________________________________________________________________\n",
      "dense_10 (Dense)                (None, 1)            7           concatenate_34[0][0]             \n",
      "__________________________________________________________________________________________________\n",
      "skill_level (InputLayer)        [(None, 2)]          0                                            \n",
      "__________________________________________________________________________________________________\n",
      "concatenate_35 (Concatenate)    (None, 3)            0           dense_10[0][0]                   \n",
      "                                                                 skill_level[0][0]                \n",
      "__________________________________________________________________________________________________\n",
      "dense_11 (Dense)                (None, 1)            4           concatenate_35[0][0]             \n",
      "==================================================================================================\n",
      "Total params: 167\n",
      "Trainable params: 167\n",
      "Non-trainable params: 0\n",
      "__________________________________________________________________________________________________\n"
     ]
    },
    {
     "name": "stdout",
     "output_type": "stream",
     "text": [
      "Epoch 1/50\n",
      "WARNING:tensorflow:Model was constructed with shape (None, 4) for input Tensor(\"radiant_hero_info0_2:0\", shape=(None, 4), dtype=float32), but it was called on an input with incompatible shape (None, 1).\n",
      "WARNING:tensorflow:Model was constructed with shape (None, 6) for input Tensor(\"radiant_hero_tags0_2:0\", shape=(None, 6), dtype=float32), but it was called on an input with incompatible shape (None, 1).\n",
      "WARNING:tensorflow:Model was constructed with shape (None, 4) for input Tensor(\"dire_hero_info0_2:0\", shape=(None, 4), dtype=float32), but it was called on an input with incompatible shape (None, 1).\n",
      "WARNING:tensorflow:Model was constructed with shape (None, 6) for input Tensor(\"dire_hero_tags0_2:0\", shape=(None, 6), dtype=float32), but it was called on an input with incompatible shape (None, 4).\n",
      "WARNING:tensorflow:Model was constructed with shape (None, 1) for input Tensor(\"radiant_hero1_2:0\", shape=(None, 1), dtype=float32), but it was called on an input with incompatible shape (None, 4).\n",
      "WARNING:tensorflow:Model was constructed with shape (None, 6) for input Tensor(\"radiant_hero_tags1_2:0\", shape=(None, 6), dtype=float32), but it was called on an input with incompatible shape (None, 4).\n",
      "WARNING:tensorflow:Model was constructed with shape (None, 1) for input Tensor(\"dire_hero1_2:0\", shape=(None, 1), dtype=float32), but it was called on an input with incompatible shape (None, 4).\n",
      "WARNING:tensorflow:Model was constructed with shape (None, 4) for input Tensor(\"dire_hero_info1_2:0\", shape=(None, 4), dtype=float32), but it was called on an input with incompatible shape (None, 6).\n",
      "WARNING:tensorflow:Model was constructed with shape (None, 1) for input Tensor(\"radiant_hero2_2:0\", shape=(None, 1), dtype=float32), but it was called on an input with incompatible shape (None, 6).\n",
      "WARNING:tensorflow:Model was constructed with shape (None, 4) for input Tensor(\"radiant_hero_info2_2:0\", shape=(None, 4), dtype=float32), but it was called on an input with incompatible shape (None, 6).\n",
      "WARNING:tensorflow:Model was constructed with shape (None, 4) for input Tensor(\"dire_hero_info2_2:0\", shape=(None, 4), dtype=float32), but it was called on an input with incompatible shape (None, 1).\n",
      "WARNING:tensorflow:Model was constructed with shape (None, 6) for input Tensor(\"dire_hero_tags2_2:0\", shape=(None, 6), dtype=float32), but it was called on an input with incompatible shape (None, 1).\n",
      "WARNING:tensorflow:Model was constructed with shape (None, 4) for input Tensor(\"radiant_hero_info3_2:0\", shape=(None, 4), dtype=float32), but it was called on an input with incompatible shape (None, 1).\n",
      "WARNING:tensorflow:Model was constructed with shape (None, 6) for input Tensor(\"radiant_hero_tags3_2:0\", shape=(None, 6), dtype=float32), but it was called on an input with incompatible shape (None, 4).\n",
      "WARNING:tensorflow:Model was constructed with shape (None, 1) for input Tensor(\"dire_hero3_2:0\", shape=(None, 1), dtype=float32), but it was called on an input with incompatible shape (None, 4).\n",
      "WARNING:tensorflow:Model was constructed with shape (None, 6) for input Tensor(\"dire_hero_tags3_2:0\", shape=(None, 6), dtype=float32), but it was called on an input with incompatible shape (None, 4).\n",
      "WARNING:tensorflow:Model was constructed with shape (None, 1) for input Tensor(\"radiant_hero4_2:0\", shape=(None, 1), dtype=float32), but it was called on an input with incompatible shape (None, 4).\n",
      "WARNING:tensorflow:Model was constructed with shape (None, 4) for input Tensor(\"radiant_hero_info4_2:0\", shape=(None, 4), dtype=float32), but it was called on an input with incompatible shape (None, 6).\n",
      "WARNING:tensorflow:Model was constructed with shape (None, 1) for input Tensor(\"dire_hero4_2:0\", shape=(None, 1), dtype=float32), but it was called on an input with incompatible shape (None, 6).\n",
      "WARNING:tensorflow:Model was constructed with shape (None, 4) for input Tensor(\"dire_hero_info4_2:0\", shape=(None, 4), dtype=float32), but it was called on an input with incompatible shape (None, 6).\n"
     ]
    },
    {
     "ename": "ValueError",
     "evalue": "in user code:\n\n    /Users/bailey/anaconda3/lib/python3.7/site-packages/tensorflow/python/keras/engine/training.py:503 train_function  *\n        outputs = self.distribute_strategy.experimental_run_v2(\n    /Users/bailey/anaconda3/lib/python3.7/site-packages/tensorflow/python/distribute/distribute_lib.py:920 experimental_run_v2  **\n        return self._extended.call_for_each_replica(fn, args=args, kwargs=kwargs)\n    /Users/bailey/anaconda3/lib/python3.7/site-packages/tensorflow/python/distribute/distribute_lib.py:2254 call_for_each_replica\n        return self._call_for_each_replica(fn, args, kwargs)\n    /Users/bailey/anaconda3/lib/python3.7/site-packages/tensorflow/python/distribute/distribute_lib.py:2615 _call_for_each_replica\n        return fn(*args, **kwargs)\n    /Users/bailey/anaconda3/lib/python3.7/site-packages/tensorflow/python/keras/engine/training.py:464 train_step  **\n        y_pred = self(x, training=True)\n    /Users/bailey/anaconda3/lib/python3.7/site-packages/tensorflow/python/keras/engine/base_layer.py:926 __call__\n        outputs = call_fn(cast_inputs, *args, **kwargs)\n    /Users/bailey/anaconda3/lib/python3.7/site-packages/tensorflow/python/keras/engine/network.py:714 call\n        convert_kwargs_to_constants=base_layer_utils.call_context().saving)\n    /Users/bailey/anaconda3/lib/python3.7/site-packages/tensorflow/python/keras/engine/network.py:883 _run_internal_graph\n        output_tensors = layer(computed_tensors, **kwargs)\n    /Users/bailey/anaconda3/lib/python3.7/site-packages/tensorflow/python/keras/engine/base_layer.py:885 __call__\n        self.name)\n    /Users/bailey/anaconda3/lib/python3.7/site-packages/tensorflow/python/keras/engine/input_spec.py:216 assert_input_compatibility\n        ' but received input with shape ' + str(shape))\n\n    ValueError: Input 0 of layer dense_9 is incompatible with the layer: expected axis -1 of input shape to have value 4 but received input with shape [None, 6]\n",
     "output_type": "error",
     "traceback": [
      "\u001b[0;31m---------------------------------------------------------------------------\u001b[0m",
      "\u001b[0;31mValueError\u001b[0m                                Traceback (most recent call last)",
      "\u001b[0;32m<ipython-input-15-e33ab2af6e32>\u001b[0m in \u001b[0;36m<module>\u001b[0;34m\u001b[0m\n\u001b[1;32m      8\u001b[0m             \u001b[0mtraining_path\u001b[0m\u001b[0;34m=\u001b[0m\u001b[0mtraining_file_novocab\u001b[0m\u001b[0;34m,\u001b[0m\u001b[0;34m\u001b[0m\u001b[0;34m\u001b[0m\u001b[0m\n\u001b[1;32m      9\u001b[0m             \u001b[0mvalidation_path\u001b[0m\u001b[0;34m=\u001b[0m\u001b[0mvalidation_file_novocab\u001b[0m\u001b[0;34m,\u001b[0m\u001b[0;34m\u001b[0m\u001b[0;34m\u001b[0m\u001b[0m\n\u001b[0;32m---> 10\u001b[0;31m             compression_type='GZIP')\n\u001b[0m",
      "\u001b[0;32m<ipython-input-9-04734977b09e>\u001b[0m in \u001b[0;36mtrain_linear_model_extra_info\u001b[0;34m(optimizer, vocab_len, embedding_dims, batch_size, epochs, training_path, validation_path, compression_type, temp_log_flag)\u001b[0m\n\u001b[1;32m     59\u001b[0m                         \u001b[0mverbose\u001b[0m\u001b[0;34m=\u001b[0m\u001b[0;36m1\u001b[0m\u001b[0;34m,\u001b[0m\u001b[0;34m\u001b[0m\u001b[0;34m\u001b[0m\u001b[0m\n\u001b[1;32m     60\u001b[0m                         \u001b[0mvalidation_data\u001b[0m\u001b[0;34m=\u001b[0m\u001b[0mvalidation_ds\u001b[0m\u001b[0;34m,\u001b[0m\u001b[0;34m\u001b[0m\u001b[0;34m\u001b[0m\u001b[0m\n\u001b[0;32m---> 61\u001b[0;31m                         \u001b[0mcallbacks\u001b[0m\u001b[0;34m=\u001b[0m\u001b[0;34m[\u001b[0m\u001b[0mtensorboard_callback\u001b[0m\u001b[0;34m]\u001b[0m\u001b[0;34m\u001b[0m\u001b[0;34m\u001b[0m\u001b[0m\n\u001b[0m\u001b[1;32m     62\u001b[0m                        )\n\u001b[1;32m     63\u001b[0m \u001b[0;34m\u001b[0m\u001b[0m\n",
      "\u001b[0;32m~/anaconda3/lib/python3.7/site-packages/tensorflow/python/keras/engine/training.py\u001b[0m in \u001b[0;36m_method_wrapper\u001b[0;34m(self, *args, **kwargs)\u001b[0m\n\u001b[1;32m     63\u001b[0m   \u001b[0;32mdef\u001b[0m \u001b[0m_method_wrapper\u001b[0m\u001b[0;34m(\u001b[0m\u001b[0mself\u001b[0m\u001b[0;34m,\u001b[0m \u001b[0;34m*\u001b[0m\u001b[0margs\u001b[0m\u001b[0;34m,\u001b[0m \u001b[0;34m**\u001b[0m\u001b[0mkwargs\u001b[0m\u001b[0;34m)\u001b[0m\u001b[0;34m:\u001b[0m\u001b[0;34m\u001b[0m\u001b[0;34m\u001b[0m\u001b[0m\n\u001b[1;32m     64\u001b[0m     \u001b[0;32mif\u001b[0m \u001b[0;32mnot\u001b[0m \u001b[0mself\u001b[0m\u001b[0;34m.\u001b[0m\u001b[0m_in_multi_worker_mode\u001b[0m\u001b[0;34m(\u001b[0m\u001b[0;34m)\u001b[0m\u001b[0;34m:\u001b[0m  \u001b[0;31m# pylint: disable=protected-access\u001b[0m\u001b[0;34m\u001b[0m\u001b[0;34m\u001b[0m\u001b[0m\n\u001b[0;32m---> 65\u001b[0;31m       \u001b[0;32mreturn\u001b[0m \u001b[0mmethod\u001b[0m\u001b[0;34m(\u001b[0m\u001b[0mself\u001b[0m\u001b[0;34m,\u001b[0m \u001b[0;34m*\u001b[0m\u001b[0margs\u001b[0m\u001b[0;34m,\u001b[0m \u001b[0;34m**\u001b[0m\u001b[0mkwargs\u001b[0m\u001b[0;34m)\u001b[0m\u001b[0;34m\u001b[0m\u001b[0;34m\u001b[0m\u001b[0m\n\u001b[0m\u001b[1;32m     66\u001b[0m \u001b[0;34m\u001b[0m\u001b[0m\n\u001b[1;32m     67\u001b[0m     \u001b[0;31m# Running inside `run_distribute_coordinator` already.\u001b[0m\u001b[0;34m\u001b[0m\u001b[0;34m\u001b[0m\u001b[0;34m\u001b[0m\u001b[0m\n",
      "\u001b[0;32m~/anaconda3/lib/python3.7/site-packages/tensorflow/python/keras/engine/training.py\u001b[0m in \u001b[0;36mfit\u001b[0;34m(self, x, y, batch_size, epochs, verbose, callbacks, validation_split, validation_data, shuffle, class_weight, sample_weight, initial_epoch, steps_per_epoch, validation_steps, validation_batch_size, validation_freq, max_queue_size, workers, use_multiprocessing, **kwargs)\u001b[0m\n\u001b[1;32m    781\u001b[0m                 batch_size=batch_size):\n\u001b[1;32m    782\u001b[0m               \u001b[0mcallbacks\u001b[0m\u001b[0;34m.\u001b[0m\u001b[0mon_train_batch_begin\u001b[0m\u001b[0;34m(\u001b[0m\u001b[0mstep\u001b[0m\u001b[0;34m)\u001b[0m\u001b[0;34m\u001b[0m\u001b[0;34m\u001b[0m\u001b[0m\n\u001b[0;32m--> 783\u001b[0;31m               \u001b[0mtmp_logs\u001b[0m \u001b[0;34m=\u001b[0m \u001b[0mtrain_function\u001b[0m\u001b[0;34m(\u001b[0m\u001b[0miterator\u001b[0m\u001b[0;34m)\u001b[0m\u001b[0;34m\u001b[0m\u001b[0;34m\u001b[0m\u001b[0m\n\u001b[0m\u001b[1;32m    784\u001b[0m               \u001b[0;31m# Catch OutOfRangeError for Datasets of unknown size.\u001b[0m\u001b[0;34m\u001b[0m\u001b[0;34m\u001b[0m\u001b[0;34m\u001b[0m\u001b[0m\n\u001b[1;32m    785\u001b[0m               \u001b[0;31m# This blocks until the batch has finished executing.\u001b[0m\u001b[0;34m\u001b[0m\u001b[0;34m\u001b[0m\u001b[0;34m\u001b[0m\u001b[0m\n",
      "\u001b[0;32m~/anaconda3/lib/python3.7/site-packages/tensorflow/python/eager/def_function.py\u001b[0m in \u001b[0;36m__call__\u001b[0;34m(self, *args, **kwds)\u001b[0m\n\u001b[1;32m    577\u001b[0m         \u001b[0mxla_context\u001b[0m\u001b[0;34m.\u001b[0m\u001b[0mExit\u001b[0m\u001b[0;34m(\u001b[0m\u001b[0;34m)\u001b[0m\u001b[0;34m\u001b[0m\u001b[0;34m\u001b[0m\u001b[0m\n\u001b[1;32m    578\u001b[0m     \u001b[0;32melse\u001b[0m\u001b[0;34m:\u001b[0m\u001b[0;34m\u001b[0m\u001b[0;34m\u001b[0m\u001b[0m\n\u001b[0;32m--> 579\u001b[0;31m       \u001b[0mresult\u001b[0m \u001b[0;34m=\u001b[0m \u001b[0mself\u001b[0m\u001b[0;34m.\u001b[0m\u001b[0m_call\u001b[0m\u001b[0;34m(\u001b[0m\u001b[0;34m*\u001b[0m\u001b[0margs\u001b[0m\u001b[0;34m,\u001b[0m \u001b[0;34m**\u001b[0m\u001b[0mkwds\u001b[0m\u001b[0;34m)\u001b[0m\u001b[0;34m\u001b[0m\u001b[0;34m\u001b[0m\u001b[0m\n\u001b[0m\u001b[1;32m    580\u001b[0m \u001b[0;34m\u001b[0m\u001b[0m\n\u001b[1;32m    581\u001b[0m     \u001b[0;32mif\u001b[0m \u001b[0mtracing_count\u001b[0m \u001b[0;34m==\u001b[0m \u001b[0mself\u001b[0m\u001b[0;34m.\u001b[0m\u001b[0m_get_tracing_count\u001b[0m\u001b[0;34m(\u001b[0m\u001b[0;34m)\u001b[0m\u001b[0;34m:\u001b[0m\u001b[0;34m\u001b[0m\u001b[0;34m\u001b[0m\u001b[0m\n",
      "\u001b[0;32m~/anaconda3/lib/python3.7/site-packages/tensorflow/python/eager/def_function.py\u001b[0m in \u001b[0;36m_call\u001b[0;34m(self, *args, **kwds)\u001b[0m\n\u001b[1;32m    624\u001b[0m       \u001b[0;31m# This is the first call of __call__, so we have to initialize.\u001b[0m\u001b[0;34m\u001b[0m\u001b[0;34m\u001b[0m\u001b[0;34m\u001b[0m\u001b[0m\n\u001b[1;32m    625\u001b[0m       \u001b[0minitializers\u001b[0m \u001b[0;34m=\u001b[0m \u001b[0;34m[\u001b[0m\u001b[0;34m]\u001b[0m\u001b[0;34m\u001b[0m\u001b[0;34m\u001b[0m\u001b[0m\n\u001b[0;32m--> 626\u001b[0;31m       \u001b[0mself\u001b[0m\u001b[0;34m.\u001b[0m\u001b[0m_initialize\u001b[0m\u001b[0;34m(\u001b[0m\u001b[0margs\u001b[0m\u001b[0;34m,\u001b[0m \u001b[0mkwds\u001b[0m\u001b[0;34m,\u001b[0m \u001b[0madd_initializers_to\u001b[0m\u001b[0;34m=\u001b[0m\u001b[0minitializers\u001b[0m\u001b[0;34m)\u001b[0m\u001b[0;34m\u001b[0m\u001b[0;34m\u001b[0m\u001b[0m\n\u001b[0m\u001b[1;32m    627\u001b[0m     \u001b[0;32mfinally\u001b[0m\u001b[0;34m:\u001b[0m\u001b[0;34m\u001b[0m\u001b[0;34m\u001b[0m\u001b[0m\n\u001b[1;32m    628\u001b[0m       \u001b[0;31m# At this point we know that the initialization is complete (or less\u001b[0m\u001b[0;34m\u001b[0m\u001b[0;34m\u001b[0m\u001b[0;34m\u001b[0m\u001b[0m\n",
      "\u001b[0;32m~/anaconda3/lib/python3.7/site-packages/tensorflow/python/eager/def_function.py\u001b[0m in \u001b[0;36m_initialize\u001b[0;34m(self, args, kwds, add_initializers_to)\u001b[0m\n\u001b[1;32m    504\u001b[0m     self._concrete_stateful_fn = (\n\u001b[1;32m    505\u001b[0m         self._stateful_fn._get_concrete_function_internal_garbage_collected(  # pylint: disable=protected-access\n\u001b[0;32m--> 506\u001b[0;31m             *args, **kwds))\n\u001b[0m\u001b[1;32m    507\u001b[0m \u001b[0;34m\u001b[0m\u001b[0m\n\u001b[1;32m    508\u001b[0m     \u001b[0;32mdef\u001b[0m \u001b[0minvalid_creator_scope\u001b[0m\u001b[0;34m(\u001b[0m\u001b[0;34m*\u001b[0m\u001b[0munused_args\u001b[0m\u001b[0;34m,\u001b[0m \u001b[0;34m**\u001b[0m\u001b[0munused_kwds\u001b[0m\u001b[0;34m)\u001b[0m\u001b[0;34m:\u001b[0m\u001b[0;34m\u001b[0m\u001b[0;34m\u001b[0m\u001b[0m\n",
      "\u001b[0;32m~/anaconda3/lib/python3.7/site-packages/tensorflow/python/eager/function.py\u001b[0m in \u001b[0;36m_get_concrete_function_internal_garbage_collected\u001b[0;34m(self, *args, **kwargs)\u001b[0m\n\u001b[1;32m   2444\u001b[0m       \u001b[0margs\u001b[0m\u001b[0;34m,\u001b[0m \u001b[0mkwargs\u001b[0m \u001b[0;34m=\u001b[0m \u001b[0;32mNone\u001b[0m\u001b[0;34m,\u001b[0m \u001b[0;32mNone\u001b[0m\u001b[0;34m\u001b[0m\u001b[0;34m\u001b[0m\u001b[0m\n\u001b[1;32m   2445\u001b[0m     \u001b[0;32mwith\u001b[0m \u001b[0mself\u001b[0m\u001b[0;34m.\u001b[0m\u001b[0m_lock\u001b[0m\u001b[0;34m:\u001b[0m\u001b[0;34m\u001b[0m\u001b[0;34m\u001b[0m\u001b[0m\n\u001b[0;32m-> 2446\u001b[0;31m       \u001b[0mgraph_function\u001b[0m\u001b[0;34m,\u001b[0m \u001b[0m_\u001b[0m\u001b[0;34m,\u001b[0m \u001b[0m_\u001b[0m \u001b[0;34m=\u001b[0m \u001b[0mself\u001b[0m\u001b[0;34m.\u001b[0m\u001b[0m_maybe_define_function\u001b[0m\u001b[0;34m(\u001b[0m\u001b[0margs\u001b[0m\u001b[0;34m,\u001b[0m \u001b[0mkwargs\u001b[0m\u001b[0;34m)\u001b[0m\u001b[0;34m\u001b[0m\u001b[0;34m\u001b[0m\u001b[0m\n\u001b[0m\u001b[1;32m   2447\u001b[0m     \u001b[0;32mreturn\u001b[0m \u001b[0mgraph_function\u001b[0m\u001b[0;34m\u001b[0m\u001b[0;34m\u001b[0m\u001b[0m\n\u001b[1;32m   2448\u001b[0m \u001b[0;34m\u001b[0m\u001b[0m\n",
      "\u001b[0;32m~/anaconda3/lib/python3.7/site-packages/tensorflow/python/eager/function.py\u001b[0m in \u001b[0;36m_maybe_define_function\u001b[0;34m(self, args, kwargs)\u001b[0m\n\u001b[1;32m   2775\u001b[0m \u001b[0;34m\u001b[0m\u001b[0m\n\u001b[1;32m   2776\u001b[0m       \u001b[0mself\u001b[0m\u001b[0;34m.\u001b[0m\u001b[0m_function_cache\u001b[0m\u001b[0;34m.\u001b[0m\u001b[0mmissed\u001b[0m\u001b[0;34m.\u001b[0m\u001b[0madd\u001b[0m\u001b[0;34m(\u001b[0m\u001b[0mcall_context_key\u001b[0m\u001b[0;34m)\u001b[0m\u001b[0;34m\u001b[0m\u001b[0;34m\u001b[0m\u001b[0m\n\u001b[0;32m-> 2777\u001b[0;31m       \u001b[0mgraph_function\u001b[0m \u001b[0;34m=\u001b[0m \u001b[0mself\u001b[0m\u001b[0;34m.\u001b[0m\u001b[0m_create_graph_function\u001b[0m\u001b[0;34m(\u001b[0m\u001b[0margs\u001b[0m\u001b[0;34m,\u001b[0m \u001b[0mkwargs\u001b[0m\u001b[0;34m)\u001b[0m\u001b[0;34m\u001b[0m\u001b[0;34m\u001b[0m\u001b[0m\n\u001b[0m\u001b[1;32m   2778\u001b[0m       \u001b[0mself\u001b[0m\u001b[0;34m.\u001b[0m\u001b[0m_function_cache\u001b[0m\u001b[0;34m.\u001b[0m\u001b[0mprimary\u001b[0m\u001b[0;34m[\u001b[0m\u001b[0mcache_key\u001b[0m\u001b[0;34m]\u001b[0m \u001b[0;34m=\u001b[0m \u001b[0mgraph_function\u001b[0m\u001b[0;34m\u001b[0m\u001b[0;34m\u001b[0m\u001b[0m\n\u001b[1;32m   2779\u001b[0m       \u001b[0;32mreturn\u001b[0m \u001b[0mgraph_function\u001b[0m\u001b[0;34m,\u001b[0m \u001b[0margs\u001b[0m\u001b[0;34m,\u001b[0m \u001b[0mkwargs\u001b[0m\u001b[0;34m\u001b[0m\u001b[0;34m\u001b[0m\u001b[0m\n",
      "\u001b[0;32m~/anaconda3/lib/python3.7/site-packages/tensorflow/python/eager/function.py\u001b[0m in \u001b[0;36m_create_graph_function\u001b[0;34m(self, args, kwargs, override_flat_arg_shapes)\u001b[0m\n\u001b[1;32m   2665\u001b[0m             \u001b[0marg_names\u001b[0m\u001b[0;34m=\u001b[0m\u001b[0marg_names\u001b[0m\u001b[0;34m,\u001b[0m\u001b[0;34m\u001b[0m\u001b[0;34m\u001b[0m\u001b[0m\n\u001b[1;32m   2666\u001b[0m             \u001b[0moverride_flat_arg_shapes\u001b[0m\u001b[0;34m=\u001b[0m\u001b[0moverride_flat_arg_shapes\u001b[0m\u001b[0;34m,\u001b[0m\u001b[0;34m\u001b[0m\u001b[0;34m\u001b[0m\u001b[0m\n\u001b[0;32m-> 2667\u001b[0;31m             capture_by_value=self._capture_by_value),\n\u001b[0m\u001b[1;32m   2668\u001b[0m         \u001b[0mself\u001b[0m\u001b[0;34m.\u001b[0m\u001b[0m_function_attributes\u001b[0m\u001b[0;34m,\u001b[0m\u001b[0;34m\u001b[0m\u001b[0;34m\u001b[0m\u001b[0m\n\u001b[1;32m   2669\u001b[0m         \u001b[0;31m# Tell the ConcreteFunction to clean up its graph once it goes out of\u001b[0m\u001b[0;34m\u001b[0m\u001b[0;34m\u001b[0m\u001b[0;34m\u001b[0m\u001b[0m\n",
      "\u001b[0;32m~/anaconda3/lib/python3.7/site-packages/tensorflow/python/framework/func_graph.py\u001b[0m in \u001b[0;36mfunc_graph_from_py_func\u001b[0;34m(name, python_func, args, kwargs, signature, func_graph, autograph, autograph_options, add_control_dependencies, arg_names, op_return_value, collections, capture_by_value, override_flat_arg_shapes)\u001b[0m\n\u001b[1;32m    979\u001b[0m         \u001b[0m_\u001b[0m\u001b[0;34m,\u001b[0m \u001b[0moriginal_func\u001b[0m \u001b[0;34m=\u001b[0m \u001b[0mtf_decorator\u001b[0m\u001b[0;34m.\u001b[0m\u001b[0munwrap\u001b[0m\u001b[0;34m(\u001b[0m\u001b[0mpython_func\u001b[0m\u001b[0;34m)\u001b[0m\u001b[0;34m\u001b[0m\u001b[0;34m\u001b[0m\u001b[0m\n\u001b[1;32m    980\u001b[0m \u001b[0;34m\u001b[0m\u001b[0m\n\u001b[0;32m--> 981\u001b[0;31m       \u001b[0mfunc_outputs\u001b[0m \u001b[0;34m=\u001b[0m \u001b[0mpython_func\u001b[0m\u001b[0;34m(\u001b[0m\u001b[0;34m*\u001b[0m\u001b[0mfunc_args\u001b[0m\u001b[0;34m,\u001b[0m \u001b[0;34m**\u001b[0m\u001b[0mfunc_kwargs\u001b[0m\u001b[0;34m)\u001b[0m\u001b[0;34m\u001b[0m\u001b[0;34m\u001b[0m\u001b[0m\n\u001b[0m\u001b[1;32m    982\u001b[0m \u001b[0;34m\u001b[0m\u001b[0m\n\u001b[1;32m    983\u001b[0m       \u001b[0;31m# invariant: `func_outputs` contains only Tensors, CompositeTensors,\u001b[0m\u001b[0;34m\u001b[0m\u001b[0;34m\u001b[0m\u001b[0;34m\u001b[0m\u001b[0m\n",
      "\u001b[0;32m~/anaconda3/lib/python3.7/site-packages/tensorflow/python/eager/def_function.py\u001b[0m in \u001b[0;36mwrapped_fn\u001b[0;34m(*args, **kwds)\u001b[0m\n\u001b[1;32m    439\u001b[0m         \u001b[0;31m# __wrapped__ allows AutoGraph to swap in a converted function. We give\u001b[0m\u001b[0;34m\u001b[0m\u001b[0;34m\u001b[0m\u001b[0;34m\u001b[0m\u001b[0m\n\u001b[1;32m    440\u001b[0m         \u001b[0;31m# the function a weak reference to itself to avoid a reference cycle.\u001b[0m\u001b[0;34m\u001b[0m\u001b[0;34m\u001b[0m\u001b[0;34m\u001b[0m\u001b[0m\n\u001b[0;32m--> 441\u001b[0;31m         \u001b[0;32mreturn\u001b[0m \u001b[0mweak_wrapped_fn\u001b[0m\u001b[0;34m(\u001b[0m\u001b[0;34m)\u001b[0m\u001b[0;34m.\u001b[0m\u001b[0m__wrapped__\u001b[0m\u001b[0;34m(\u001b[0m\u001b[0;34m*\u001b[0m\u001b[0margs\u001b[0m\u001b[0;34m,\u001b[0m \u001b[0;34m**\u001b[0m\u001b[0mkwds\u001b[0m\u001b[0;34m)\u001b[0m\u001b[0;34m\u001b[0m\u001b[0;34m\u001b[0m\u001b[0m\n\u001b[0m\u001b[1;32m    442\u001b[0m     \u001b[0mweak_wrapped_fn\u001b[0m \u001b[0;34m=\u001b[0m \u001b[0mweakref\u001b[0m\u001b[0;34m.\u001b[0m\u001b[0mref\u001b[0m\u001b[0;34m(\u001b[0m\u001b[0mwrapped_fn\u001b[0m\u001b[0;34m)\u001b[0m\u001b[0;34m\u001b[0m\u001b[0;34m\u001b[0m\u001b[0m\n\u001b[1;32m    443\u001b[0m \u001b[0;34m\u001b[0m\u001b[0m\n",
      "\u001b[0;32m~/anaconda3/lib/python3.7/site-packages/tensorflow/python/framework/func_graph.py\u001b[0m in \u001b[0;36mwrapper\u001b[0;34m(*args, **kwargs)\u001b[0m\n\u001b[1;32m    966\u001b[0m           \u001b[0;32mexcept\u001b[0m \u001b[0mException\u001b[0m \u001b[0;32mas\u001b[0m \u001b[0me\u001b[0m\u001b[0;34m:\u001b[0m  \u001b[0;31m# pylint:disable=broad-except\u001b[0m\u001b[0;34m\u001b[0m\u001b[0;34m\u001b[0m\u001b[0m\n\u001b[1;32m    967\u001b[0m             \u001b[0;32mif\u001b[0m \u001b[0mhasattr\u001b[0m\u001b[0;34m(\u001b[0m\u001b[0me\u001b[0m\u001b[0;34m,\u001b[0m \u001b[0;34m\"ag_error_metadata\"\u001b[0m\u001b[0;34m)\u001b[0m\u001b[0;34m:\u001b[0m\u001b[0;34m\u001b[0m\u001b[0;34m\u001b[0m\u001b[0m\n\u001b[0;32m--> 968\u001b[0;31m               \u001b[0;32mraise\u001b[0m \u001b[0me\u001b[0m\u001b[0;34m.\u001b[0m\u001b[0mag_error_metadata\u001b[0m\u001b[0;34m.\u001b[0m\u001b[0mto_exception\u001b[0m\u001b[0;34m(\u001b[0m\u001b[0me\u001b[0m\u001b[0;34m)\u001b[0m\u001b[0;34m\u001b[0m\u001b[0;34m\u001b[0m\u001b[0m\n\u001b[0m\u001b[1;32m    969\u001b[0m             \u001b[0;32melse\u001b[0m\u001b[0;34m:\u001b[0m\u001b[0;34m\u001b[0m\u001b[0;34m\u001b[0m\u001b[0m\n\u001b[1;32m    970\u001b[0m               \u001b[0;32mraise\u001b[0m\u001b[0;34m\u001b[0m\u001b[0;34m\u001b[0m\u001b[0m\n",
      "\u001b[0;31mValueError\u001b[0m: in user code:\n\n    /Users/bailey/anaconda3/lib/python3.7/site-packages/tensorflow/python/keras/engine/training.py:503 train_function  *\n        outputs = self.distribute_strategy.experimental_run_v2(\n    /Users/bailey/anaconda3/lib/python3.7/site-packages/tensorflow/python/distribute/distribute_lib.py:920 experimental_run_v2  **\n        return self._extended.call_for_each_replica(fn, args=args, kwargs=kwargs)\n    /Users/bailey/anaconda3/lib/python3.7/site-packages/tensorflow/python/distribute/distribute_lib.py:2254 call_for_each_replica\n        return self._call_for_each_replica(fn, args, kwargs)\n    /Users/bailey/anaconda3/lib/python3.7/site-packages/tensorflow/python/distribute/distribute_lib.py:2615 _call_for_each_replica\n        return fn(*args, **kwargs)\n    /Users/bailey/anaconda3/lib/python3.7/site-packages/tensorflow/python/keras/engine/training.py:464 train_step  **\n        y_pred = self(x, training=True)\n    /Users/bailey/anaconda3/lib/python3.7/site-packages/tensorflow/python/keras/engine/base_layer.py:926 __call__\n        outputs = call_fn(cast_inputs, *args, **kwargs)\n    /Users/bailey/anaconda3/lib/python3.7/site-packages/tensorflow/python/keras/engine/network.py:714 call\n        convert_kwargs_to_constants=base_layer_utils.call_context().saving)\n    /Users/bailey/anaconda3/lib/python3.7/site-packages/tensorflow/python/keras/engine/network.py:883 _run_internal_graph\n        output_tensors = layer(computed_tensors, **kwargs)\n    /Users/bailey/anaconda3/lib/python3.7/site-packages/tensorflow/python/keras/engine/base_layer.py:885 __call__\n        self.name)\n    /Users/bailey/anaconda3/lib/python3.7/site-packages/tensorflow/python/keras/engine/input_spec.py:216 assert_input_compatibility\n        ' but received input with shape ' + str(shape))\n\n    ValueError: Input 0 of layer dense_9 is incompatible with the layer: expected axis -1 of input shape to have value 4 but received input with shape [None, 6]\n"
     ]
    }
   ],
   "source": [
    "optimizer = tf.keras.optimizers.Adam(learning_rate=0.0005)\n",
    "history = train_linear_model_extra_info(\n",
    "            optimizer,\n",
    "            vocab_len=len(champ_vocab),\n",
    "            embedding_dims=1,\n",
    "            batch_size=500, \n",
    "            epochs=50, \n",
    "            training_path=training_file_novocab, \n",
    "            validation_path=validation_file_novocab,\n",
    "            compression_type='GZIP')"
   ]
  },
  {
   "cell_type": "code",
   "execution_count": null,
   "metadata": {},
   "outputs": [],
   "source": []
  }
 ],
 "metadata": {
  "kernelspec": {
   "display_name": "Python 3",
   "language": "python",
   "name": "python3"
  },
  "language_info": {
   "codemirror_mode": {
    "name": "ipython",
    "version": 3
   },
   "file_extension": ".py",
   "mimetype": "text/x-python",
   "name": "python",
   "nbconvert_exporter": "python",
   "pygments_lexer": "ipython3",
   "version": "3.7.3"
  },
  "notify_time": "30",
  "toc": {
   "base_numbering": 1,
   "nav_menu": {},
   "number_sections": true,
   "sideBar": true,
   "skip_h1_title": false,
   "title_cell": "Table of Contents",
   "title_sidebar": "Contents",
   "toc_cell": false,
   "toc_position": {},
   "toc_section_display": true,
   "toc_window_display": false
  }
 },
 "nbformat": 4,
 "nbformat_minor": 2
}
