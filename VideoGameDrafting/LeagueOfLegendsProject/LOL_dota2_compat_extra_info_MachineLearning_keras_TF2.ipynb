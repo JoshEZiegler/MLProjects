{
 "cells": [
  {
   "cell_type": "code",
   "execution_count": 197,
   "metadata": {
    "ExecuteTime": {
     "end_time": "2020-03-07T07:04:53.091873Z",
     "start_time": "2020-03-07T07:04:53.084880Z"
    },
    "scrolled": true
   },
   "outputs": [
    {
     "name": "stdout",
     "output_type": "stream",
     "text": [
      "2.1.0\n"
     ]
    }
   ],
   "source": [
    "import seaborn as sns\n",
    "import pandas as pd\n",
    "import pylab as plt\n",
    "import numpy as np\n",
    "from steam import WebAPI\n",
    "from datetime import datetime\n",
    "import os\n",
    "import glob\n",
    "import json\n",
    "import tensorflow as tf\n",
    "import sys\n",
    "from IPython import display\n",
    "import requests\n",
    "import tensorflow.keras.backend as K\n",
    "from sklearn import decomposition\n",
    "\n",
    "#import logging\n",
    "#logging.getLogger(\"tensorflow\").setLevel(logging.ERROR)\n",
    "\n",
    "#from tensorflow.python.framework.ops import disable_eager_execution\n",
    "#disable_eager_execution()\n",
    "\n",
    "print(tf.__version__)"
   ]
  },
  {
   "cell_type": "code",
   "execution_count": 2,
   "metadata": {
    "ExecuteTime": {
     "end_time": "2020-03-07T02:04:15.582094Z",
     "start_time": "2020-03-07T02:04:15.578186Z"
    }
   },
   "outputs": [],
   "source": [
    "sns.set_style('ticks')"
   ]
  },
  {
   "cell_type": "code",
   "execution_count": 265,
   "metadata": {
    "ExecuteTime": {
     "end_time": "2020-03-07T23:04:46.014866Z",
     "start_time": "2020-03-07T23:04:45.999879Z"
    }
   },
   "outputs": [
    {
     "name": "stdout",
     "output_type": "stream",
     "text": [
      "144\n"
     ]
    }
   ],
   "source": [
    "champfile=os.path.join('lol_data','version9.10.1_champion.json')\n",
    "with open(champfile,'r') as fin:\n",
    "    champdata=json.load(fin)\n",
    "champ_vocab=[]\n",
    "for name,data in champdata['data'].items():\n",
    "    champ_vocab.append(data['key'])\n",
    "hero_vocab = [int(i) for i in champ_vocab]\n",
    "print(len(hero_vocab))"
   ]
  },
  {
   "cell_type": "markdown",
   "metadata": {},
   "source": [
    "# Modeling using a TFRecord dataformat"
   ]
  },
  {
   "cell_type": "markdown",
   "metadata": {},
   "source": [
    "## Build TFRecord input pipeline"
   ]
  },
  {
   "cell_type": "code",
   "execution_count": 266,
   "metadata": {
    "ExecuteTime": {
     "end_time": "2020-03-07T23:04:51.743262Z",
     "start_time": "2020-03-07T23:04:51.726078Z"
    },
    "code_folding": []
   },
   "outputs": [],
   "source": [
    "def _parse_function_extra_info(example_proto):\n",
    "    \"\"\"Extracts features and labels.\n",
    "  \n",
    "    Args:\n",
    "        example_proto: tf.Example protocol (unsure what this is)    \n",
    "      Returns:\n",
    "    A `tuple` `(labels, features)`:\n",
    "      features: A dict of tensors representing the features\n",
    "      labels: A tensor with the corresponding labels.\n",
    "    \"\"\"\n",
    "    features = {}\n",
    "    \n",
    "    #loop through five times to capture each hero on each team\n",
    "    for i in range(5):\n",
    "        #64 bit int for hero\n",
    "        features[\"radiant_hero\"+str(i)]=tf.io.FixedLenFeature(1, dtype=tf.int64)\n",
    "        #there are 4 pieces of info for a hero in LOL\n",
    "        features[\"radiant_hero_info\"+str(i)]=tf.io.FixedLenFeature(4, dtype=tf.int64) \n",
    "        #there are 6 possible tags for a hero in LOL\n",
    "        features[\"radiant_hero_tags\"+str(i)] =tf.io.FixedLenFeature(6, dtype=tf.int64) \n",
    "        features[\"dire_hero\"+str(i)] =tf.io.FixedLenFeature(1, dtype=tf.int64) \n",
    "        features[\"dire_hero_info\"+str(i)] =tf.io.FixedLenFeature(4, dtype=tf.int64) \n",
    "        features[\"dire_hero_tags\"+str(i)] =tf.io.FixedLenFeature(6, dtype=tf.int64) \n",
    " \n",
    "    features[\"skill_level\"] = tf.io.FixedLenFeature(2, dtype=tf.int64)\n",
    "    features[\"targets\"] = tf.io.FixedLenFeature(1, dtype=tf.int64)\n",
    "                \n",
    "    parsed_features = tf.io.parse_single_example(example_proto, features)\n",
    "    num_heroes=len(hero_vocab)\n",
    "    hero_dict={}\n",
    "    for i in range(5):\n",
    "        hero_dict['radiant_hero'+str(i)]=tf.one_hot(parsed_features['radiant_hero'+str(i)],\n",
    "                                                    num_heroes)\n",
    "        hero_dict['radiant_hero_info'+str(i)]=parsed_features['radiant_hero_info'+str(i)]\n",
    "        hero_dict['radiant_hero_tags'+str(i)]=parsed_features['radiant_hero_tags'+str(i)]\n",
    "        hero_dict['dire_hero'+str(i)]=tf.one_hot(parsed_features['dire_hero'+str(i)],\n",
    "                                                 num_heroes)\n",
    "        hero_dict['dire_hero_info'+str(i)]=parsed_features['dire_hero_info'+str(i)]\n",
    "        hero_dict['dire_hero_tags'+str(i)]=parsed_features['dire_hero_tags'+str(i)]\n",
    "\n",
    "    hero_dict['skill_level']= parsed_features['skill_level']\n",
    "    target = parsed_features['targets']\n",
    "    \n",
    "    return hero_dict, target"
   ]
  },
  {
   "cell_type": "markdown",
   "metadata": {},
   "source": [
    "#### Check the parse function worked"
   ]
  },
  {
   "cell_type": "code",
   "execution_count": 254,
   "metadata": {
    "ExecuteTime": {
     "end_time": "2020-03-07T23:00:01.098557Z",
     "start_time": "2020-03-07T22:59:59.791329Z"
    },
    "scrolled": true
   },
   "outputs": [],
   "source": [
    "# Create the Dataset object.\n",
    "ds = tf.data.TFRecordDataset(os.path.join('LOL_data',\n",
    "                                          'mix_tier',\n",
    "                                          'lol_training_data',\n",
    "                                          'blue_win_extra_info_dota2_compat_lol_training_data.tfrecords'),\n",
    "                                          compression_type=\"GZIP\")\n",
    "# Map features and labels with the parse function.\n",
    "ds = ds.map(_parse_function_extra_info)"
   ]
  },
  {
   "cell_type": "code",
   "execution_count": 255,
   "metadata": {
    "ExecuteTime": {
     "end_time": "2020-03-07T23:00:03.030830Z",
     "start_time": "2020-03-07T23:00:01.101748Z"
    },
    "scrolled": true
   },
   "outputs": [
    {
     "name": "stdout",
     "output_type": "stream",
     "text": [
      "({'radiant_hero0': <tf.Tensor: shape=(1, 144), dtype=float32, numpy=\n",
      "array([[0., 0., 0., 0., 0., 0., 0., 0., 0., 0., 0., 0., 0., 0., 0., 0.,\n",
      "        0., 0., 0., 0., 0., 0., 0., 0., 1., 0., 0., 0., 0., 0., 0., 0.,\n",
      "        0., 0., 0., 0., 0., 0., 0., 0., 0., 0., 0., 0., 0., 0., 0., 0.,\n",
      "        0., 0., 0., 0., 0., 0., 0., 0., 0., 0., 0., 0., 0., 0., 0., 0.,\n",
      "        0., 0., 0., 0., 0., 0., 0., 0., 0., 0., 0., 0., 0., 0., 0., 0.,\n",
      "        0., 0., 0., 0., 0., 0., 0., 0., 0., 0., 0., 0., 0., 0., 0., 0.,\n",
      "        0., 0., 0., 0., 0., 0., 0., 0., 0., 0., 0., 0., 0., 0., 0., 0.,\n",
      "        0., 0., 0., 0., 0., 0., 0., 0., 0., 0., 0., 0., 0., 0., 0., 0.,\n",
      "        0., 0., 0., 0., 0., 0., 0., 0., 0., 0., 0., 0., 0., 0., 0., 0.]],\n",
      "      dtype=float32)>, 'radiant_hero_info0': <tf.Tensor: shape=(4,), dtype=int64, numpy=array([1, 6, 8, 1])>, 'radiant_hero_tags0': <tf.Tensor: shape=(6,), dtype=int64, numpy=array([0, 0, 1, 0, 1, 0])>, 'dire_hero0': <tf.Tensor: shape=(1, 144), dtype=float32, numpy=\n",
      "array([[0., 0., 0., 0., 0., 0., 0., 0., 0., 0., 0., 0., 0., 0., 0., 0.,\n",
      "        0., 0., 0., 0., 0., 0., 0., 0., 0., 0., 0., 0., 0., 1., 0., 0.,\n",
      "        0., 0., 0., 0., 0., 0., 0., 0., 0., 0., 0., 0., 0., 0., 0., 0.,\n",
      "        0., 0., 0., 0., 0., 0., 0., 0., 0., 0., 0., 0., 0., 0., 0., 0.,\n",
      "        0., 0., 0., 0., 0., 0., 0., 0., 0., 0., 0., 0., 0., 0., 0., 0.,\n",
      "        0., 0., 0., 0., 0., 0., 0., 0., 0., 0., 0., 0., 0., 0., 0., 0.,\n",
      "        0., 0., 0., 0., 0., 0., 0., 0., 0., 0., 0., 0., 0., 0., 0., 0.,\n",
      "        0., 0., 0., 0., 0., 0., 0., 0., 0., 0., 0., 0., 0., 0., 0., 0.,\n",
      "        0., 0., 0., 0., 0., 0., 0., 0., 0., 0., 0., 0., 0., 0., 0., 0.]],\n",
      "      dtype=float32)>, 'dire_hero_info0': <tf.Tensor: shape=(4,), dtype=int64, numpy=array([ 2,  2, 10,  7])>, 'dire_hero_tags0': <tf.Tensor: shape=(6,), dtype=int64, numpy=array([0, 0, 1, 0, 0, 0])>, 'radiant_hero1': <tf.Tensor: shape=(1, 144), dtype=float32, numpy=\n",
      "array([[0., 0., 0., 0., 0., 0., 0., 0., 0., 0., 0., 0., 0., 0., 0., 0.,\n",
      "        0., 0., 0., 0., 0., 0., 0., 0., 0., 0., 0., 0., 1., 0., 0., 0.,\n",
      "        0., 0., 0., 0., 0., 0., 0., 0., 0., 0., 0., 0., 0., 0., 0., 0.,\n",
      "        0., 0., 0., 0., 0., 0., 0., 0., 0., 0., 0., 0., 0., 0., 0., 0.,\n",
      "        0., 0., 0., 0., 0., 0., 0., 0., 0., 0., 0., 0., 0., 0., 0., 0.,\n",
      "        0., 0., 0., 0., 0., 0., 0., 0., 0., 0., 0., 0., 0., 0., 0., 0.,\n",
      "        0., 0., 0., 0., 0., 0., 0., 0., 0., 0., 0., 0., 0., 0., 0., 0.,\n",
      "        0., 0., 0., 0., 0., 0., 0., 0., 0., 0., 0., 0., 0., 0., 0., 0.,\n",
      "        0., 0., 0., 0., 0., 0., 0., 0., 0., 0., 0., 0., 0., 0., 0., 0.]],\n",
      "      dtype=float32)>, 'radiant_hero_info1': <tf.Tensor: shape=(4,), dtype=int64, numpy=array([9, 2, 3, 6])>, 'radiant_hero_tags1': <tf.Tensor: shape=(6,), dtype=int64, numpy=array([1, 0, 0, 1, 0, 0])>, 'dire_hero1': <tf.Tensor: shape=(1, 144), dtype=float32, numpy=\n",
      "array([[0., 0., 0., 0., 0., 0., 0., 0., 0., 0., 0., 0., 0., 0., 0., 0.,\n",
      "        0., 0., 0., 0., 0., 0., 0., 0., 0., 0., 0., 0., 0., 0., 0., 0.,\n",
      "        0., 0., 0., 0., 0., 0., 0., 0., 1., 0., 0., 0., 0., 0., 0., 0.,\n",
      "        0., 0., 0., 0., 0., 0., 0., 0., 0., 0., 0., 0., 0., 0., 0., 0.,\n",
      "        0., 0., 0., 0., 0., 0., 0., 0., 0., 0., 0., 0., 0., 0., 0., 0.,\n",
      "        0., 0., 0., 0., 0., 0., 0., 0., 0., 0., 0., 0., 0., 0., 0., 0.,\n",
      "        0., 0., 0., 0., 0., 0., 0., 0., 0., 0., 0., 0., 0., 0., 0., 0.,\n",
      "        0., 0., 0., 0., 0., 0., 0., 0., 0., 0., 0., 0., 0., 0., 0., 0.,\n",
      "        0., 0., 0., 0., 0., 0., 0., 0., 0., 0., 0., 0., 0., 0., 0., 0.]],\n",
      "      dtype=float32)>, 'dire_hero_info1': <tf.Tensor: shape=(4,), dtype=int64, numpy=array([7, 6, 4, 9])>, 'dire_hero_tags1': <tf.Tensor: shape=(6,), dtype=int64, numpy=array([0, 1, 0, 0, 0, 0])>, 'radiant_hero2': <tf.Tensor: shape=(1, 144), dtype=float32, numpy=\n",
      "array([[0., 0., 0., 0., 0., 0., 0., 0., 0., 0., 0., 0., 0., 0., 0., 0.,\n",
      "        0., 0., 0., 0., 0., 0., 0., 0., 0., 0., 1., 0., 0., 0., 0., 0.,\n",
      "        0., 0., 0., 0., 0., 0., 0., 0., 0., 0., 0., 0., 0., 0., 0., 0.,\n",
      "        0., 0., 0., 0., 0., 0., 0., 0., 0., 0., 0., 0., 0., 0., 0., 0.,\n",
      "        0., 0., 0., 0., 0., 0., 0., 0., 0., 0., 0., 0., 0., 0., 0., 0.,\n",
      "        0., 0., 0., 0., 0., 0., 0., 0., 0., 0., 0., 0., 0., 0., 0., 0.,\n",
      "        0., 0., 0., 0., 0., 0., 0., 0., 0., 0., 0., 0., 0., 0., 0., 0.,\n",
      "        0., 0., 0., 0., 0., 0., 0., 0., 0., 0., 0., 0., 0., 0., 0., 0.,\n",
      "        0., 0., 0., 0., 0., 0., 0., 0., 0., 0., 0., 0., 0., 0., 0., 0.]],\n",
      "      dtype=float32)>, 'radiant_hero_info2': <tf.Tensor: shape=(4,), dtype=int64, numpy=array([4, 8, 7, 5])>, 'radiant_hero_tags2': <tf.Tensor: shape=(6,), dtype=int64, numpy=array([0, 1, 0, 0, 0, 1])>, 'dire_hero2': <tf.Tensor: shape=(1, 144), dtype=float32, numpy=\n",
      "array([[0., 0., 0., 0., 0., 0., 0., 0., 0., 0., 0., 0., 0., 0., 0., 0.,\n",
      "        0., 1., 0., 0., 0., 0., 0., 0., 0., 0., 0., 0., 0., 0., 0., 0.,\n",
      "        0., 0., 0., 0., 0., 0., 0., 0., 0., 0., 0., 0., 0., 0., 0., 0.,\n",
      "        0., 0., 0., 0., 0., 0., 0., 0., 0., 0., 0., 0., 0., 0., 0., 0.,\n",
      "        0., 0., 0., 0., 0., 0., 0., 0., 0., 0., 0., 0., 0., 0., 0., 0.,\n",
      "        0., 0., 0., 0., 0., 0., 0., 0., 0., 0., 0., 0., 0., 0., 0., 0.,\n",
      "        0., 0., 0., 0., 0., 0., 0., 0., 0., 0., 0., 0., 0., 0., 0., 0.,\n",
      "        0., 0., 0., 0., 0., 0., 0., 0., 0., 0., 0., 0., 0., 0., 0., 0.,\n",
      "        0., 0., 0., 0., 0., 0., 0., 0., 0., 0., 0., 0., 0., 0., 0., 0.]],\n",
      "      dtype=float32)>, 'dire_hero_info2': <tf.Tensor: shape=(4,), dtype=int64, numpy=array([9, 3, 5, 4])>, 'dire_hero_tags2': <tf.Tensor: shape=(6,), dtype=int64, numpy=array([1, 0, 0, 1, 0, 0])>, 'radiant_hero3': <tf.Tensor: shape=(1, 144), dtype=float32, numpy=\n",
      "array([[0., 0., 0., 0., 0., 0., 0., 0., 0., 0., 0., 0., 0., 0., 0., 0.,\n",
      "        0., 0., 0., 0., 0., 0., 0., 0., 0., 0., 0., 0., 0., 0., 0., 0.,\n",
      "        0., 0., 0., 0., 0., 0., 0., 0., 0., 0., 0., 0., 0., 0., 0., 0.,\n",
      "        0., 0., 0., 0., 0., 0., 0., 0., 0., 0., 0., 0., 0., 0., 0., 0.,\n",
      "        0., 0., 0., 0., 0., 0., 0., 0., 0., 0., 0., 0., 0., 0., 0., 0.,\n",
      "        0., 0., 0., 0., 0., 0., 1., 0., 0., 0., 0., 0., 0., 0., 0., 0.,\n",
      "        0., 0., 0., 0., 0., 0., 0., 0., 0., 0., 0., 0., 0., 0., 0., 0.,\n",
      "        0., 0., 0., 0., 0., 0., 0., 0., 0., 0., 0., 0., 0., 0., 0., 0.,\n",
      "        0., 0., 0., 0., 0., 0., 0., 0., 0., 0., 0., 0., 0., 0., 0., 0.]],\n",
      "      dtype=float32)>, 'radiant_hero_info3': <tf.Tensor: shape=(4,), dtype=int64, numpy=array([3, 4, 8, 5])>, 'radiant_hero_tags3': <tf.Tensor: shape=(6,), dtype=int64, numpy=array([1, 0, 1, 0, 0, 0])>, 'dire_hero3': <tf.Tensor: shape=(1, 144), dtype=float32, numpy=\n",
      "array([[0., 0., 0., 0., 0., 0., 0., 0., 0., 0., 0., 0., 0., 1., 0., 0.,\n",
      "        0., 0., 0., 0., 0., 0., 0., 0., 0., 0., 0., 0., 0., 0., 0., 0.,\n",
      "        0., 0., 0., 0., 0., 0., 0., 0., 0., 0., 0., 0., 0., 0., 0., 0.,\n",
      "        0., 0., 0., 0., 0., 0., 0., 0., 0., 0., 0., 0., 0., 0., 0., 0.,\n",
      "        0., 0., 0., 0., 0., 0., 0., 0., 0., 0., 0., 0., 0., 0., 0., 0.,\n",
      "        0., 0., 0., 0., 0., 0., 0., 0., 0., 0., 0., 0., 0., 0., 0., 0.,\n",
      "        0., 0., 0., 0., 0., 0., 0., 0., 0., 0., 0., 0., 0., 0., 0., 0.,\n",
      "        0., 0., 0., 0., 0., 0., 0., 0., 0., 0., 0., 0., 0., 0., 0., 0.,\n",
      "        0., 0., 0., 0., 0., 0., 0., 0., 0., 0., 0., 0., 0., 0., 0., 0.]],\n",
      "      dtype=float32)>, 'dire_hero_info3': <tf.Tensor: shape=(4,), dtype=int64, numpy=array([5, 9, 3, 5])>, 'dire_hero_tags3': <tf.Tensor: shape=(6,), dtype=int64, numpy=array([0, 1, 0, 0, 0, 1])>, 'radiant_hero4': <tf.Tensor: shape=(1, 144), dtype=float32, numpy=\n",
      "array([[0., 0., 0., 0., 0., 0., 0., 0., 0., 0., 0., 0., 0., 0., 0., 0.,\n",
      "        0., 0., 0., 0., 0., 0., 0., 0., 0., 0., 0., 0., 0., 0., 0., 0.,\n",
      "        0., 0., 0., 0., 0., 0., 0., 0., 0., 0., 0., 0., 0., 0., 0., 0.,\n",
      "        0., 0., 0., 0., 0., 0., 0., 0., 0., 0., 0., 0., 0., 0., 0., 0.,\n",
      "        0., 0., 0., 0., 0., 0., 0., 0., 0., 0., 0., 0., 0., 0., 0., 0.,\n",
      "        0., 0., 0., 0., 0., 0., 0., 0., 0., 0., 0., 0., 0., 0., 0., 0.,\n",
      "        0., 0., 0., 0., 0., 0., 0., 0., 0., 0., 0., 0., 0., 0., 0., 0.,\n",
      "        0., 0., 0., 0., 0., 0., 0., 0., 0., 0., 0., 0., 0., 0., 0., 0.,\n",
      "        0., 0., 0., 0., 0., 0., 1., 0., 0., 0., 0., 0., 0., 0., 0., 0.]],\n",
      "      dtype=float32)>, 'radiant_hero_info4': <tf.Tensor: shape=(4,), dtype=int64, numpy=array([8, 5, 2, 3])>, 'radiant_hero_tags4': <tf.Tensor: shape=(6,), dtype=int64, numpy=array([0, 1, 0, 0, 0, 0])>, 'dire_hero4': <tf.Tensor: shape=(1, 144), dtype=float32, numpy=\n",
      "array([[0., 0., 0., 0., 0., 0., 0., 0., 0., 0., 0., 0., 0., 0., 0., 0.,\n",
      "        0., 0., 0., 0., 0., 0., 0., 0., 0., 0., 0., 0., 0., 0., 0., 0.,\n",
      "        0., 0., 0., 0., 0., 0., 0., 0., 0., 0., 0., 0., 0., 0., 0., 0.,\n",
      "        0., 0., 0., 0., 0., 0., 0., 0., 0., 0., 0., 0., 0., 0., 0., 0.,\n",
      "        0., 0., 0., 1., 0., 0., 0., 0., 0., 0., 0., 0., 0., 0., 0., 0.,\n",
      "        0., 0., 0., 0., 0., 0., 0., 0., 0., 0., 0., 0., 0., 0., 0., 0.,\n",
      "        0., 0., 0., 0., 0., 0., 0., 0., 0., 0., 0., 0., 0., 0., 0., 0.,\n",
      "        0., 0., 0., 0., 0., 0., 0., 0., 0., 0., 0., 0., 0., 0., 0., 0.,\n",
      "        0., 0., 0., 0., 0., 0., 0., 0., 0., 0., 0., 0., 0., 0., 0., 0.]],\n",
      "      dtype=float32)>, 'dire_hero_info4': <tf.Tensor: shape=(4,), dtype=int64, numpy=array([8, 7, 4, 7])>, 'dire_hero_tags4': <tf.Tensor: shape=(6,), dtype=int64, numpy=array([0, 1, 0, 0, 0, 1])>, 'skill_level': <tf.Tensor: shape=(2,), dtype=int64, numpy=array([0, 1])>}, <tf.Tensor: shape=(1,), dtype=int64, numpy=array([1])>)\n"
     ]
    }
   ],
   "source": [
    "ds = ds.shuffle(10000)\n",
    "print(next(iter(ds)))"
   ]
  },
  {
   "cell_type": "markdown",
   "metadata": {},
   "source": [
    "## Model Functions"
   ]
  },
  {
   "cell_type": "code",
   "execution_count": 256,
   "metadata": {
    "ExecuteTime": {
     "end_time": "2020-03-07T23:00:26.270952Z",
     "start_time": "2020-03-07T23:00:26.264600Z"
    },
    "code_folding": []
   },
   "outputs": [],
   "source": [
    "# Create an input_fn that parses the tf.Examples from the given files,\n",
    "# and split them into features and targets.\n",
    "def _input_fn_extra_info(input_filenames, num_epochs=None, \n",
    "              shuffle=True, batch_size=50,compression_type=\"\"):\n",
    "   \n",
    "   # Same code as above; create a dataset and map features and labels.\n",
    "    ds = tf.data.TFRecordDataset(input_filenames,compression_type=compression_type)\n",
    "    ds = ds.map(_parse_function_extra_info)\n",
    "\n",
    "    if shuffle:\n",
    "        ds = ds.shuffle(10000)\n",
    "    ds = ds.batch(batch_size)\n",
    "    ds = ds.repeat()\n",
    "    \n",
    "    # Return the dataset.\n",
    "    return ds"
   ]
  },
  {
   "cell_type": "markdown",
   "metadata": {},
   "source": [
    "## Define and train the linear model"
   ]
  },
  {
   "cell_type": "markdown",
   "metadata": {},
   "source": [
    "### various iterations of linear models"
   ]
  },
  {
   "cell_type": "code",
   "execution_count": 282,
   "metadata": {
    "ExecuteTime": {
     "end_time": "2020-03-07T23:11:24.640791Z",
     "start_time": "2020-03-07T23:11:24.624755Z"
    },
    "code_folding": []
   },
   "outputs": [],
   "source": [
    "#define the linear model with no feature columns\n",
    "def define_linear_model_hero_only(vocab_len,\n",
    "                                   embedding_dims):\n",
    "    '''Function to define simple keras linear model\n",
    "    \n",
    "    Args: \n",
    "        vocab_len: An `int` specifying the number of category of the categorical input\n",
    "        embedding_dims: An `int` specifying the number of dimensions in the embedding layer\n",
    "    Returns:\n",
    "        model: A uncompiled `tf.keras.model`\n",
    "    '''\n",
    "    \n",
    "    ##define hero processing layers\n",
    "    #embed hero with dense because shared embedding layers are broken\n",
    "    dense_hero = tf.keras.layers.Dense(embedding_dims,activation='linear')\n",
    "    #process tags into num of values specified by dense outputs value\n",
    "    dense_hero_tags = tf.keras.layers.Dense(1,activation='linear')\n",
    "    #process info into num of values specified by dense outputs value\n",
    "    dense_hero_info = tf.keras.layers.Dense(1,activation='linear')\n",
    "    ##process hero embed, dense_tags, and dense_info output into some num of outputs\n",
    "    #dense_hero_overall = tf.keras.Dense(embedding_dims+2,activation='linear')\n",
    "    \n",
    "    hero_input=[]\n",
    "    rad_hero_output=[]\n",
    "    dire_hero_output=[]\n",
    "    #process all heroes in same way\n",
    "    for i in range(5):\n",
    "        #add radiant hero to hero_input list and process with\n",
    "        #    embed_hero layer\n",
    "        hero_input.append(tf.keras.Input(shape=(1,len(hero_vocab),),\n",
    "                                         name='radiant_hero'+str(i)))\n",
    "        x_rh = dense_hero(hero_input[-1])        \n",
    "        x_rh = tf.keras.layers.Flatten()(x_rh)\n",
    "        #append radiant outputs for summing\n",
    "        rad_hero_output.append(x_rh)\n",
    "        \n",
    "        #add dire hero to hero_input list and process with\n",
    "        #    embed_hero layer\n",
    "        hero_input.append(tf.keras.Input(shape=(1,len(hero_vocab),),\n",
    "                                         name='dire_hero'+str(i)))\n",
    "        x_dh = dense_hero(hero_input[-1])\n",
    "        x_dh = tf.keras.layers.Flatten()(x_dh)\n",
    "        #append dire outputs for summing\n",
    "        dire_hero_output.append(x_dh)\n",
    "    #sum hero outputs to erase ordering information and get ave team vector\n",
    "    rad_hero_sum = tf.keras.layers.Add()(rad_hero_output)\n",
    "    dire_hero_sum = tf.keras.layers.Add()(dire_hero_output)\n",
    "    \n",
    "    # Add a linear layer to map the average of the embedded vectors of each team\n",
    "    #   to a single vector for each team\n",
    "    x = tf.keras.layers.Concatenate()([rad_hero_sum,dire_hero_sum])\n",
    "    x = tf.keras.layers.Dense(1, activation='linear')(x)\n",
    "    x = tf.keras.layers.Flatten()(x)\n",
    "    #define skill input layer\n",
    "    skill = tf.keras.Input(shape=(2,),name='skill_level')\n",
    "    #concat skill input with output of hero layers\n",
    "    x = tf.keras.layers.concatenate([x, skill])\n",
    "    \n",
    "    #Adds output layer with sigmoid activation for prediction\n",
    "    win_predict = tf.keras.layers.Dense(1,activation='sigmoid')(x)\n",
    "    model = tf.keras.Model(inputs=[hero_input,skill],\n",
    "                           outputs=win_predict,name=\"radiant_win\")\n",
    "    #tf.keras.utils.plot_model(model, show_shapes=False)\n",
    "    #model.summary()\n",
    "    return model"
   ]
  },
  {
   "cell_type": "code",
   "execution_count": 288,
   "metadata": {
    "ExecuteTime": {
     "end_time": "2020-03-07T23:45:39.927269Z",
     "start_time": "2020-03-07T23:45:39.905597Z"
    },
    "code_folding": []
   },
   "outputs": [],
   "source": [
    "#define the linear model with no feature columns\n",
    "def define_linear_model_extra_info(vocab_len,\n",
    "                                   embedding_dims):\n",
    "    '''Function to define simple keras linear model\n",
    "    \n",
    "    Args: \n",
    "        vocab_len: An `int` specifying the number of category of the categorical input\n",
    "        embedding_dims: An `int` specifying the number of dimensions in the embedding layer\n",
    "    Returns:\n",
    "        model: A uncompiled `tf.keras.model`\n",
    "    '''\n",
    "    \n",
    "    ##define hero processing layers\n",
    "    #embed hero with dense because shared embedding layers are broken\n",
    "    dense_hero = tf.keras.layers.Dense(embedding_dims,activation='linear')\n",
    "    #process tags into num of values specified by dense outputs value\n",
    "    dense_hero_tags = tf.keras.layers.Dense(1,activation='linear')\n",
    "    #process info into num of values specified by dense outputs value\n",
    "    dense_hero_info = tf.keras.layers.Dense(1,activation='linear')\n",
    "    ##process hero embed, dense_tags, and dense_info output into some num of outputs\n",
    "    #dense_hero_overall = tf.keras.Dense(embedding_dims+2,activation='linear')\n",
    "    \n",
    "    hero_input=[]\n",
    "    rad_hero_output=[]\n",
    "    dire_hero_output=[]\n",
    "    #process all heroes in same way\n",
    "    for i in range(5):\n",
    "        #add radiant hero to hero_input list and process with\n",
    "        #    embed_hero layer\n",
    "        hero_input.append(tf.keras.Input(shape=(1,len(hero_vocab),),\n",
    "                                         name='radiant_hero'+str(i)))\n",
    "        x_rh = dense_hero(hero_input[-1])        \n",
    "        x_rh = tf.keras.layers.Flatten()(x_rh)\n",
    "        #add radiant hero info to hero_input list and process with\n",
    "        #    dense_tags layer\n",
    "        hero_input.append(tf.keras.Input(shape=(4,), #4 info types\n",
    "                                         name='radiant_hero_info'+str(i)))\n",
    "        x_rhi = dense_hero_info(hero_input[-1])\n",
    "        #add radiant hero tags to hero_input list and process with\n",
    "        #    dense_info layer\n",
    "        hero_input.append(tf.keras.Input(shape=(6,), #6 tag types\n",
    "                                         name='radiant_hero_tags'+str(i)))\n",
    "        x_rht = dense_hero_tags(hero_input[-1])\n",
    "        #append output of hero layers to rad_out_layer for summing later\n",
    "        rad_hero_output.append(tf.keras.layers.concatenate([x_rh,x_rhi,x_rht]))\n",
    "\n",
    "        #add dire hero to hero_input list and process with\n",
    "        #    embed_hero layer\n",
    "        hero_input.append(tf.keras.Input(shape=(1,len(hero_vocab),),\n",
    "                                         name='dire_hero'+str(i)))\n",
    "        x_dh = dense_hero(hero_input[-1])\n",
    "        x_dh = tf.keras.layers.Flatten(data_format='channels_last')(x_dh)\n",
    "        #add dire hero info to hero_input list and process with\n",
    "        #    dense_info layer       \n",
    "        hero_input.append(tf.keras.Input(shape=(4,),#4 info types\n",
    "                                         name='dire_hero_info'+str(i)))\n",
    "        x_dhi = dense_hero_info(hero_input[-1])\n",
    "        #add dire hero tags to hero_input list and process with\n",
    "        #    dense_tags layer\n",
    "        hero_input.append(tf.keras.Input(shape=(6,),#6 tag types\n",
    "                                         name='dire_hero_tags'+str(i)))\n",
    "        x_dht = dense_hero_tags(hero_input[-1])\n",
    "        #append output of hero layers to dire_out layer for summing later\n",
    "        dire_hero_output.append(tf.keras.layers.concatenate([x_dh,x_dhi,x_dht]))\n",
    "    \n",
    "    #sum hero outputs to erase ordering information and get ave team vector\n",
    "    rad_hero_sum = tf.keras.layers.Add()(rad_hero_output)\n",
    "    dire_hero_sum = tf.keras.layers.Add()(dire_hero_output)    \n",
    "    \n",
    "    # Add a linear layer to map the average of the embedded vectors of each team\n",
    "    #   to a single vector for each team\n",
    "    x = tf.keras.layers.concatenate([rad_hero_sum,dire_hero_sum])\n",
    "    x = tf.keras.layers.Dense(1, activation='linear')(x)\n",
    "    x = tf.keras.layers.Flatten()(x)\n",
    "    #define skill input layer\n",
    "    skill = tf.keras.Input(shape=(2,),name='skill_level')\n",
    "    #concat skill input with output of hero layers\n",
    "    x = tf.keras.layers.concatenate([x, skill])\n",
    "    \n",
    "    #Adds output layer with sigmoid activation for prediction\n",
    "    win_predict = tf.keras.layers.Dense(1,activation='sigmoid')(x)\n",
    "    model = tf.keras.Model(inputs=[hero_input,skill],\n",
    "                           outputs=win_predict,name=\"radiant_win\")\n",
    "    #tf.keras.utils.plot_model(model, show_shapes=False)\n",
    "    #model.summary()\n",
    "    return model"
   ]
  },
  {
   "cell_type": "code",
   "execution_count": 295,
   "metadata": {
    "ExecuteTime": {
     "end_time": "2020-03-07T23:53:37.552386Z",
     "start_time": "2020-03-07T23:53:37.535274Z"
    },
    "code_folding": []
   },
   "outputs": [],
   "source": [
    "#define the linear model with no feature columns\n",
    "def train_linear_model(optimizer,\n",
    "                       model_type,\n",
    "                       vocab_len,\n",
    "                       embedding_dims,\n",
    "                       batch_size,\n",
    "                       epochs,\n",
    "                       training_path,\n",
    "                       validation_path,\n",
    "                       compression_type='',\n",
    "                       temp_log_flag=True):\n",
    "    '''Function to train simple keras linear model\n",
    "    \n",
    "    Args: \n",
    "        optimizer: A `tf.keras.optimizer` object to use for the model\n",
    "        vocab_len: An `int` specifying the number of category of the categorical input\n",
    "        embedding_dims: An `int` specifying the number of dimensions in the embedding layer\n",
    "        batch_size: An `int` specifying batch size for each train step\n",
    "        epochs: An `int` number of epochs to train for\n",
    "        training_path: A `string` specifying training file\n",
    "        validation_path: A `string` specifying validatoin file\n",
    "        compression_type: A `string` specifying compression type\n",
    "        temp_log_flag: A `bool` specifying whether to save logs in temp folder\n",
    "    Returns:\n",
    "        history: A `tf.keras.history` object that has loss and other metrics\n",
    "    '''\n",
    "    if model_type=='extra_info':\n",
    "        model = define_linear_model_extra_info(vocab_len,embedding_dims)\n",
    "    elif model_type=='hero_only':\n",
    "        model = define_linear_model_hero_only(vocab_len,embedding_dims)\n",
    "    else:\n",
    "        raise KeyError('model_type not found')\n",
    "    model.compile(optimizer = optimizer,\n",
    "                  loss = 'binary_crossentropy',\n",
    "                  metrics = ['binary_accuracy'])\n",
    "\n",
    "    ##get embedding weights for returning and saving\n",
    "    #embedding_weights = model.layers[1].get_weights()[0]\n",
    "    \n",
    "    #get datasets from tfrecords and according to input_fn\n",
    "    train_ds = _input_fn_extra_info(training_path,\n",
    "                               batch_size=batch_size,\n",
    "                               compression_type=compression_type,\n",
    "                               shuffle=False)\n",
    "\n",
    "    validation_ds= _input_fn_extra_info(validation_path,\n",
    "                                   batch_size=batch_size,\n",
    "                                   compression_type=compression_type,\n",
    "                                   shuffle=False)\n",
    "\n",
    "    #allow logging in temp directory or directory to be included in git\n",
    "    #  useful if tuning hyperparams or testing\n",
    "    if temp_log_flag:\n",
    "        logdir = os.path.join('..','..','..','tmp_log_dir',\n",
    "                          datetime.now().strftime(\"lol_%Y%m%d-%H%M%S\"))\n",
    "    else:\n",
    "        logdir = os.path.join('log_dir',\n",
    "                          datetime.now().strftime(\"%Y%m%d-%H%M%S\"))\n",
    "        \n",
    "    tensorboard_callback = tf.keras.callbacks.TensorBoard(log_dir=logdir)\n",
    "    steps_per_epoch=50\n",
    "\n",
    "    history = model.fit(train_ds, \n",
    "                        epochs = epochs,\n",
    "                        steps_per_epoch=steps_per_epoch,\n",
    "                        validation_steps=steps_per_epoch,\n",
    "                        verbose=0,\n",
    "                        validation_data=validation_ds,\n",
    "                        callbacks=[tensorboard_callback]\n",
    "                       )\n",
    "    \n",
    "    #save trained model. This can be used to retrain, predict, \n",
    "    #  or reloaded as a keras model to do more model things.\n",
    "    #Use TF `SavedModel` format so that it can be used in serving\n",
    "    model.save(os.path.join(logdir,'saved_model'),\n",
    "                      save_format='tf')\n",
    "    \n",
    "    #save params for this training to a json in the logdir\n",
    "    hyper = optimizer._hyper\n",
    "    hyper_dict={}\n",
    "    for key,value in hyper.items():\n",
    "        hyper_dict[key]=value.numpy().item()\n",
    "    training_params = dict({'model_type':'single_target_linear_'+model_type,\n",
    "                            'steps':steps_per_epoch*epochs,\n",
    "                            'batch_size':batch_size,\n",
    "                            'optimizer':optimizer._name,\n",
    "                            'hyper_parameters':hyper_dict})\n",
    "    with open(os.path.join(logdir,'training_params.json'),'w') as fp:\n",
    "        json.dump(training_params,fp)\n",
    "    \n",
    "    ##save embedding in numpy format for later use\n",
    "    ##  no hero_vocab, but that should be ok\n",
    "    #np.save(os.path.join(logdir,'embedding.npy'),embedding_weights)\n",
    "    \n",
    "    fig,ax = plt.subplots(1,1,figsize=(1.6*3,3))\n",
    "    plt.plot(history.history['binary_accuracy'])\n",
    "    plt.xlabel('epochs (50 steps per)')\n",
    "    plt.ylabel('binary_accuracy')\n",
    "    plt.show()\n",
    "    \n",
    "    return history"
   ]
  },
  {
   "cell_type": "markdown",
   "metadata": {},
   "source": [
    "### train no feature column win model"
   ]
  },
  {
   "cell_type": "code",
   "execution_count": 296,
   "metadata": {
    "ExecuteTime": {
     "end_time": "2020-03-07T23:53:42.250886Z",
     "start_time": "2020-03-07T23:53:42.246404Z"
    }
   },
   "outputs": [],
   "source": [
    "training_file_novocab = os.path.join('LOL_data',\n",
    "                             'mix_tier',\n",
    "                             'lol_training_data',\n",
    "                             'blue_win_extra_info_dota2_compat_lol_training_data.tfrecords')\n",
    "validation_file_novocab = os.path.join('LOL_data',\n",
    "                             'mix_tier',\n",
    "                             'lol_validation_data',\n",
    "                             'blue_win_extra_info_dota2_compat_lol_validation_data.tfrecords')"
   ]
  },
  {
   "cell_type": "code",
   "execution_count": 298,
   "metadata": {
    "ExecuteTime": {
     "end_time": "2020-03-08T00:01:12.201651Z",
     "start_time": "2020-03-07T23:54:16.328075Z"
    }
   },
   "outputs": [
    {
     "name": "stdout",
     "output_type": "stream",
     "text": [
      "INFO:tensorflow:Assets written to: ../../../tmp_log_dir/lol_20200307-155416/saved_model/assets\n"
     ]
    },
    {
     "data": {
      "image/png": "[encoded data removed]",
      "text/plain": [
       "<Figure size 345.6x216 with 1 Axes>"
      ]
     },
     "metadata": {},
     "output_type": "display_data"
    }
   ],
   "source": [
    "optimizer = tf.keras.optimizers.Adam(learning_rate=0.001)\n",
    "history = train_linear_model(\n",
    "            optimizer,\n",
    "            model_type='hero_only',\n",
    "            vocab_len=len(champ_vocab),\n",
    "            embedding_dims=2,\n",
    "            batch_size=500, \n",
    "            epochs=50, \n",
    "            training_path=training_file_novocab, \n",
    "            validation_path=validation_file_novocab,\n",
    "            compression_type='GZIP')"
   ]
  },
  {
   "cell_type": "code",
   "execution_count": null,
   "metadata": {
    "ExecuteTime": {
     "end_time": "2020-03-08T00:01:12.227895Z",
     "start_time": "2020-03-07T23:58:33.450Z"
    },
    "code_folding": [],
    "scrolled": false
   },
   "outputs": [],
   "source": [
    "optimizer = tf.keras.optimizers.Adam(learning_rate=0.001)\n",
    "history = train_linear_model(\n",
    "            optimizer,\n",
    "            model_type='extra_info',\n",
    "            vocab_len=len(champ_vocab),\n",
    "            embedding_dims=2,\n",
    "            batch_size=500, \n",
    "            epochs=50, \n",
    "            training_path=training_file_novocab, \n",
    "            validation_path=validation_file_novocab,\n",
    "            compression_type='GZIP')"
   ]
  },
  {
   "cell_type": "code",
   "execution_count": null,
   "metadata": {},
   "outputs": [],
   "source": [
    " "
   ]
  }
 ],
 "metadata": {
  "kernelspec": {
   "display_name": "Python 3",
   "language": "python",
   "name": "python3"
  },
  "language_info": {
   "codemirror_mode": {
    "name": "ipython",
    "version": 3
   },
   "file_extension": ".py",
   "mimetype": "text/x-python",
   "name": "python",
   "nbconvert_exporter": "python",
   "pygments_lexer": "ipython3",
   "version": "3.7.3"
  },
  "notify_time": "30",
  "toc": {
   "base_numbering": 1,
   "nav_menu": {},
   "number_sections": true,
   "sideBar": true,
   "skip_h1_title": false,
   "title_cell": "Table of Contents",
   "title_sidebar": "Contents",
   "toc_cell": false,
   "toc_position": {},
   "toc_section_display": true,
   "toc_window_display": false
  }
 },
 "nbformat": 4,
 "nbformat_minor": 2
}
