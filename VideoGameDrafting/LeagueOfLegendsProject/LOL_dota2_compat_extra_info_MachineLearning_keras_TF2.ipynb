{
 "cells": [
  {
   "cell_type": "code",
   "execution_count": 1,
   "metadata": {
    "ExecuteTime": {
     "end_time": "2020-03-14T23:16:50.988764Z",
     "start_time": "2020-03-14T23:16:46.576278Z"
    },
    "scrolled": true
   },
   "outputs": [
    {
     "name": "stdout",
     "output_type": "stream",
     "text": [
      "2.1.0\n"
     ]
    }
   ],
   "source": [
    "import seaborn as sns\n",
    "import pandas as pd\n",
    "import pylab as plt\n",
    "import numpy as np\n",
    "from steam import WebAPI\n",
    "from datetime import datetime\n",
    "import os\n",
    "import glob\n",
    "import json\n",
    "import tensorflow as tf\n",
    "import sys\n",
    "from IPython import display\n",
    "import requests\n",
    "import tensorflow.keras.backend as K\n",
    "from sklearn import decomposition\n",
    "\n",
    "#import logging\n",
    "#logging.getLogger(\"tensorflow\").setLevel(logging.ERROR)\n",
    "\n",
    "#from tensorflow.python.framework.ops import disable_eager_execution\n",
    "#disable_eager_execution()\n",
    "\n",
    "print(tf.__version__)"
   ]
  },
  {
   "cell_type": "code",
   "execution_count": 2,
   "metadata": {
    "ExecuteTime": {
     "end_time": "2020-03-14T23:16:50.996206Z",
     "start_time": "2020-03-14T23:16:50.992061Z"
    }
   },
   "outputs": [],
   "source": [
    "sns.set_style('ticks')"
   ]
  },
  {
   "cell_type": "code",
   "execution_count": 3,
   "metadata": {
    "ExecuteTime": {
     "end_time": "2020-03-14T23:16:51.010026Z",
     "start_time": "2020-03-14T23:16:50.998836Z"
    }
   },
   "outputs": [
    {
     "name": "stdout",
     "output_type": "stream",
     "text": [
      "144\n"
     ]
    }
   ],
   "source": [
    "champfile=os.path.join('lol_data','version9.10.1_champion.json')\n",
    "with open(champfile,'r') as fin:\n",
    "    champdata=json.load(fin)\n",
    "champ_vocab=[]\n",
    "for name,data in champdata['data'].items():\n",
    "    champ_vocab.append(data['key'])\n",
    "hero_vocab = [int(i) for i in champ_vocab]\n",
    "print(len(hero_vocab))"
   ]
  },
  {
   "cell_type": "markdown",
   "metadata": {},
   "source": [
    "# Build TFRecord input pipeline"
   ]
  },
  {
   "cell_type": "code",
   "execution_count": 62,
   "metadata": {
    "ExecuteTime": {
     "end_time": "2020-03-15T18:03:42.091847Z",
     "start_time": "2020-03-15T18:03:42.068962Z"
    },
    "code_folding": []
   },
   "outputs": [],
   "source": [
    "def _parse_function_extra_info(example_proto):\n",
    "    \"\"\"Extracts features and labels.\n",
    "  \n",
    "    Args:\n",
    "        example_proto: tf.Example protocol (unsure what this is)    \n",
    "      Returns:\n",
    "    A `tuple` `(labels, features)`:\n",
    "      features: A dict of tensors representing the features\n",
    "      labels: A tensor with the corresponding labels.\n",
    "    \"\"\"\n",
    "    features = {}\n",
    "    #there are 5 heroes per team \n",
    "    heroes_per_team=5\n",
    "    #there are 4 pieces of info for a hero in LOL\n",
    "    num_info_fields=4\n",
    "    num_tags=6 #6 tags\n",
    "    num_valid_stats=14 #14 valid stats (after removing mana and crit)\n",
    "    #loop through five times to capture each hero on each team\n",
    "    for i in range(heroes_per_team):\n",
    "        #64 bit int for hero\n",
    "        features[\"radiant_hero\"+str(i)]=tf.io.FixedLenFeature(1, dtype=tf.int64)\n",
    "\n",
    "        features[\"radiant_hero_info\"+str(i)]=tf.io.FixedLenFeature(num_info_fields,\n",
    "                                                                   dtype=tf.float32) \n",
    "        features[\"radiant_hero_tags\"+str(i)] =tf.io.FixedLenFeature(num_tags,\n",
    "                                                                    dtype=tf.int64) \n",
    "        features[\"radiant_hero_stats\"+str(i)] =tf.io.FixedLenFeature(num_valid_stats,\n",
    "                                                                     dtype=tf.float32) \n",
    "        \n",
    "        features[\"dire_hero\"+str(i)] =tf.io.FixedLenFeature(1, dtype=tf.int64) \n",
    "        features[\"dire_hero_info\"+str(i)] =tf.io.FixedLenFeature(num_info_fields,\n",
    "                                                                 dtype=tf.float32) \n",
    "        features[\"dire_hero_tags\"+str(i)] =tf.io.FixedLenFeature(num_tags,\n",
    "                                                                 dtype=tf.int64) \n",
    "        features[\"dire_hero_stats\"+str(i)] =tf.io.FixedLenFeature(num_valid_stats,\n",
    "                                                                  dtype=tf.float32) \n",
    " \n",
    "    #there are 11 different regions (at least in my most current dataset)\n",
    "    num_regions=11\n",
    "    #two skill levels in the lol api\n",
    "    num_skill_levels=2\n",
    "    #get num_heroes from hero_vocab\n",
    "    num_heroes=len(hero_vocab)\n",
    "\n",
    "    features[\"region\"] = tf.io.FixedLenFeature(num_regions, dtype=tf.int64)\n",
    "    features[\"skill_level\"] = tf.io.FixedLenFeature(1, dtype=tf.int64)\n",
    "    \n",
    "    features[\"targets\"] = tf.io.FixedLenFeature(1, dtype=tf.int64)\n",
    "    \n",
    "    #parse features\n",
    "    parsed_features = tf.io.parse_single_example(example_proto, features)\n",
    "    \n",
    "    #load parsed features into dict of features and targets\n",
    "    feature_dict={}\n",
    "    for i in range(heroes_per_team):\n",
    "        feature_dict['radiant_hero'+str(i)]=tf.one_hot(parsed_features['radiant_hero'+str(i)],\n",
    "                                                    num_heroes)\n",
    "        feature_dict['radiant_hero_info'+str(i)]=parsed_features['radiant_hero_info'+str(i)]\n",
    "        feature_dict['radiant_hero_tags'+str(i)]=parsed_features['radiant_hero_tags'+str(i)]\n",
    "        feature_dict['radiant_hero_stats'+str(i)]=parsed_features['radiant_hero_stats'+str(i)]\n",
    "        feature_dict['dire_hero'+str(i)]=tf.one_hot(parsed_features['dire_hero'+str(i)],\n",
    "                                                 num_heroes)\n",
    "        feature_dict['dire_hero_info'+str(i)]=parsed_features['dire_hero_info'+str(i)]\n",
    "        feature_dict['dire_hero_tags'+str(i)]=parsed_features['dire_hero_tags'+str(i)]\n",
    "        feature_dict['dire_hero_stats'+str(i)]=parsed_features['dire_hero_stats'+str(i)]\n",
    "\n",
    "    feature_dict['region'] = parsed_features['region']\n",
    "    feature_dict['skill_level']= tf.one_hot(parsed_features['skill_level'],\n",
    "                                            num_skill_levels)\n",
    "    target = parsed_features['targets']\n",
    "    \n",
    "    return feature_dict, target"
   ]
  },
  {
   "cell_type": "markdown",
   "metadata": {},
   "source": [
    "#### Check the parse function worked"
   ]
  },
  {
   "cell_type": "code",
   "execution_count": 43,
   "metadata": {
    "ExecuteTime": {
     "end_time": "2020-03-15T03:01:28.160563Z",
     "start_time": "2020-03-15T03:01:27.313403Z"
    },
    "scrolled": true
   },
   "outputs": [],
   "source": [
    "# Create the Dataset object.\n",
    "ds = tf.data.TFRecordDataset(os.path.join('LOL_data',\n",
    "                                          'mix_tier',\n",
    "                                          'lol_training_data',\n",
    "                                          'blue_win_extra_info_dota2_compat_lol_training_data.tfrecords'),\n",
    "                                          compression_type=\"GZIP\")\n",
    "# Map features and labels with the parse function.\n",
    "ds = ds.map(_parse_function_extra_info)"
   ]
  },
  {
   "cell_type": "code",
   "execution_count": 44,
   "metadata": {
    "ExecuteTime": {
     "end_time": "2020-03-15T03:01:30.925335Z",
     "start_time": "2020-03-15T03:01:29.093655Z"
    },
    "scrolled": true
   },
   "outputs": [
    {
     "name": "stdout",
     "output_type": "stream",
     "text": [
      "({'radiant_hero0': <tf.Tensor: shape=(1, 144), dtype=float32, numpy=\n",
      "array([[0., 0., 0., 0., 0., 0., 0., 0., 0., 0., 0., 0., 0., 0., 0., 0.,\n",
      "        0., 0., 0., 0., 0., 0., 0., 0., 0., 0., 0., 0., 0., 0., 0., 0.,\n",
      "        0., 0., 0., 0., 0., 0., 0., 0., 0., 0., 0., 0., 0., 0., 0., 0.,\n",
      "        0., 0., 0., 0., 0., 0., 0., 0., 0., 0., 0., 0., 0., 0., 0., 0.,\n",
      "        0., 0., 0., 0., 0., 0., 0., 0., 0., 0., 0., 0., 0., 0., 0., 0.,\n",
      "        0., 0., 0., 0., 0., 0., 0., 0., 0., 0., 0., 0., 0., 0., 0., 0.,\n",
      "        0., 0., 0., 0., 0., 0., 0., 0., 0., 0., 0., 0., 0., 0., 0., 0.,\n",
      "        0., 0., 0., 0., 0., 0., 0., 0., 1., 0., 0., 0., 0., 0., 0., 0.,\n",
      "        0., 0., 0., 0., 0., 0., 0., 0., 0., 0., 0., 0., 0., 0., 0., 0.]],\n",
      "      dtype=float32)>, 'radiant_hero_info0': <tf.Tensor: shape=(4,), dtype=float32, numpy=array([ 0.910366  , -1.32853   , -1.2637465 , -0.83660585], dtype=float32)>, 'radiant_hero_tags0': <tf.Tensor: shape=(6,), dtype=int64, numpy=array([0, 0, 0, 1, 0, 0])>, 'radiant_hero_stats0': <tf.Tensor: shape=(14,), dtype=float32, numpy=\n",
      "array([-0.35642076, -0.5028035 , -1.4883279 , -0.15382558,  0.04125398,\n",
      "       -0.75920886, -1.0451494 ,  0.91074836,  0.23798215, -0.68045336,\n",
      "        0.94249284, -1.6583558 ,  1.2804064 , -0.64119685], dtype=float32)>, 'dire_hero0': <tf.Tensor: shape=(1, 144), dtype=float32, numpy=\n",
      "array([[0., 0., 0., 0., 0., 0., 0., 0., 0., 0., 0., 0., 0., 0., 0., 0.,\n",
      "        0., 0., 0., 0., 0., 0., 0., 0., 0., 0., 0., 0., 0., 0., 0., 0.,\n",
      "        0., 0., 0., 0., 0., 0., 0., 0., 0., 0., 0., 0., 0., 0., 0., 0.,\n",
      "        0., 0., 0., 0., 0., 0., 0., 0., 0., 0., 0., 0., 0., 0., 0., 0.,\n",
      "        0., 0., 0., 0., 0., 0., 0., 0., 0., 0., 0., 0., 0., 0., 0., 0.,\n",
      "        0., 0., 0., 0., 0., 0., 0., 0., 0., 0., 0., 0., 0., 0., 0., 0.,\n",
      "        0., 0., 0., 0., 0., 0., 0., 0., 0., 0., 0., 0., 0., 0., 0., 0.,\n",
      "        0., 0., 0., 0., 0., 0., 0., 0., 0., 0., 0., 0., 0., 1., 0., 0.,\n",
      "        0., 0., 0., 0., 0., 0., 0., 0., 0., 0., 0., 0., 0., 0., 0., 0.]],\n",
      "      dtype=float32)>, 'dire_hero_info0': <tf.Tensor: shape=(4,), dtype=float32, numpy=array([ 0.910366  , -1.32853   , -1.2637465 ,  0.62660766], dtype=float32)>, 'dire_hero_tags0': <tf.Tensor: shape=(6,), dtype=int64, numpy=array([0, 1, 0, 0, 0, 1])>, 'dire_hero_stats0': <tf.Tensor: shape=(14,), dtype=float32, numpy=\n",
      "array([-5.57244   , -2.7502024 ,  1.1205487 ,  0.7405092 ,  1.1020707 ,\n",
      "        0.67033505,  0.9421065 , -1.0051228 , -0.3453273 ,  0.55595404,\n",
      "        0.94249284,  0.41069847,  1.2804064 , -0.64119685], dtype=float32)>, 'radiant_hero1': <tf.Tensor: shape=(1, 144), dtype=float32, numpy=\n",
      "array([[0., 0., 0., 0., 0., 0., 0., 0., 0., 0., 0., 0., 0., 0., 0., 0.,\n",
      "        0., 0., 0., 0., 0., 0., 0., 0., 0., 0., 0., 0., 0., 0., 0., 0.,\n",
      "        0., 0., 0., 0., 0., 0., 0., 0., 0., 0., 0., 0., 0., 0., 0., 0.,\n",
      "        0., 0., 0., 0., 0., 0., 0., 0., 0., 0., 0., 0., 0., 0., 0., 0.,\n",
      "        0., 0., 0., 0., 0., 0., 0., 0., 0., 0., 0., 0., 0., 0., 0., 0.,\n",
      "        0., 0., 0., 0., 0., 0., 0., 0., 0., 0., 0., 0., 0., 0., 0., 1.,\n",
      "        0., 0., 0., 0., 0., 0., 0., 0., 0., 0., 0., 0., 0., 0., 0., 0.,\n",
      "        0., 0., 0., 0., 0., 0., 0., 0., 0., 0., 0., 0., 0., 0., 0., 0.,\n",
      "        0., 0., 0., 0., 0., 0., 0., 0., 0., 0., 0., 0., 0., 0., 0., 0.]],\n",
      "      dtype=float32)>, 'radiant_hero_info1': <tf.Tensor: shape=(4,), dtype=float32, numpy=array([ 1.6366414 , -0.36232635, -1.2637465 , -1.3243437 ], dtype=float32)>, 'radiant_hero_tags1': <tf.Tensor: shape=(6,), dtype=int64, numpy=array([1, 1, 0, 0, 0, 0])>, 'radiant_hero_stats1': <tf.Tensor: shape=(14,), dtype=float32, numpy=\n",
      "array([-0.09561978, -0.5028035 ,  1.1205487 ,  0.4423976 ,  0.04125398,\n",
      "        0.67033505,  0.9421065 , -0.877398  ,  1.1129464 , -0.68045336,\n",
      "        1.4419172 ,  0.07698004,  0.91106576,  1.1632537 ], dtype=float32)>, 'dire_hero1': <tf.Tensor: shape=(1, 144), dtype=float32, numpy=\n",
      "array([[0., 0., 0., 0., 0., 0., 0., 0., 0., 0., 0., 0., 0., 0., 0., 0.,\n",
      "        0., 0., 0., 0., 0., 0., 0., 0., 0., 0., 0., 0., 0., 0., 0., 0.,\n",
      "        0., 0., 0., 0., 0., 0., 0., 0., 0., 0., 0., 0., 0., 0., 0., 0.,\n",
      "        0., 0., 0., 0., 0., 0., 0., 0., 0., 0., 0., 0., 0., 0., 0., 0.,\n",
      "        0., 0., 0., 0., 0., 0., 0., 0., 0., 0., 0., 0., 0., 0., 0., 0.,\n",
      "        0., 0., 0., 0., 0., 0., 0., 0., 0., 0., 0., 0., 0., 0., 0., 0.,\n",
      "        0., 0., 0., 0., 0., 0., 0., 0., 0., 0., 0., 0., 0., 0., 0., 0.,\n",
      "        0., 0., 0., 0., 0., 0., 0., 0., 0., 0., 0., 1., 0., 0., 0., 0.,\n",
      "        0., 0., 0., 0., 0., 0., 0., 0., 0., 0., 0., 0., 0., 0., 0., 0.]],\n",
      "      dtype=float32)>, 'dire_hero_info1': <tf.Tensor: shape=(4,), dtype=float32, numpy=array([ 0.910366  ,  0.12077545, -0.89611113,  0.13886979], dtype=float32)>, 'dire_hero_tags1': <tf.Tensor: shape=(6,), dtype=int64, numpy=array([0, 0, 0, 1, 0, 0])>, 'dire_hero_stats1': <tf.Tensor: shape=(14,), dtype=float32, numpy=\n",
      "array([ 0.45206228, -0.35297692, -0.18388957, -0.3028814 , -1.0195627 ,\n",
      "       -0.75920886, -1.0451494 ,  0.91074836, -1.6577736 , -0.06224968,\n",
      "        0.27659377, -0.8407457 ,  1.0341793 , -0.28030673], dtype=float32)>, 'radiant_hero2': <tf.Tensor: shape=(1, 144), dtype=float32, numpy=\n",
      "array([[0., 0., 0., 0., 0., 0., 0., 0., 0., 0., 0., 0., 0., 0., 0., 0.,\n",
      "        0., 0., 0., 0., 0., 0., 0., 0., 0., 0., 0., 0., 0., 0., 0., 0.,\n",
      "        0., 0., 0., 0., 0., 0., 0., 0., 0., 0., 0., 0., 0., 0., 0., 0.,\n",
      "        0., 0., 0., 0., 0., 0., 0., 0., 0., 0., 0., 0., 0., 0., 0., 0.,\n",
      "        0., 0., 0., 0., 0., 0., 0., 0., 0., 0., 0., 0., 0., 0., 0., 0.,\n",
      "        0., 0., 0., 0., 0., 0., 0., 0., 0., 0., 0., 0., 0., 0., 0., 0.,\n",
      "        0., 0., 0., 0., 0., 0., 0., 0., 0., 0., 0., 0., 0., 0., 0., 1.,\n",
      "        0., 0., 0., 0., 0., 0., 0., 0., 0., 0., 0., 0., 0., 0., 0., 0.,\n",
      "        0., 0., 0., 0., 0., 0., 0., 0., 0., 0., 0., 0., 0., 0., 0., 0.]],\n",
      "      dtype=float32)>, 'radiant_hero_info2': <tf.Tensor: shape=(4,), dtype=float32, numpy=array([ 0.910366  ,  0.12077545, -0.89611113,  0.13886979], dtype=float32)>, 'radiant_hero_tags2': <tf.Tensor: shape=(6,), dtype=int64, numpy=array([0, 0, 0, 1, 0, 0])>, 'radiant_hero_stats2': <tf.Tensor: shape=(14,), dtype=float32, numpy=\n",
      "array([ 0.45206228, -0.35297692, -0.18388957, -0.3028814 , -1.0195627 ,\n",
      "       -0.75920886, -1.0451494 ,  1.0384731 , -1.8036009 , -0.68045336,\n",
      "       -0.05635576, -2.5927675 , -0.81252366, -0.11374208], dtype=float32)>, 'dire_hero2': <tf.Tensor: shape=(1, 144), dtype=float32, numpy=\n",
      "array([[0., 0., 0., 0., 0., 0., 0., 0., 0., 0., 0., 0., 0., 0., 0., 0.,\n",
      "        0., 0., 0., 0., 0., 0., 0., 0., 0., 0., 0., 0., 0., 0., 0., 0.,\n",
      "        0., 0., 0., 0., 0., 0., 0., 0., 0., 0., 0., 0., 0., 0., 0., 0.,\n",
      "        0., 0., 0., 0., 0., 0., 0., 0., 0., 0., 0., 0., 0., 0., 0., 0.,\n",
      "        0., 0., 0., 0., 0., 0., 0., 0., 0., 0., 0., 0., 0., 0., 0., 0.,\n",
      "        0., 0., 0., 0., 0., 0., 0., 0., 0., 0., 0., 0., 0., 0., 0., 0.,\n",
      "        0., 0., 0., 0., 0., 0., 0., 0., 0., 0., 0., 0., 0., 0., 0., 0.,\n",
      "        0., 0., 0., 0., 0., 0., 0., 0., 0., 0., 0., 0., 0., 0., 0., 0.,\n",
      "        0., 0., 0., 0., 0., 0., 0., 0., 1., 0., 0., 0., 0., 0., 0., 0.]],\n",
      "      dtype=float32)>, 'dire_hero_info2': <tf.Tensor: shape=(4,), dtype=float32, numpy=array([ 0.910366  , -1.32853   , -0.5284758 ,  0.62660766], dtype=float32)>, 'dire_hero_tags2': <tf.Tensor: shape=(6,), dtype=int64, numpy=array([0, 0, 0, 1, 0, 0])>, 'dire_hero_stats2': <tf.Tensor: shape=(14,), dtype=float32, numpy=\n",
      "array([-0.5129013 ,  0.0965029 , -1.4883279 , -1.0481603 ,  0.04125398,\n",
      "       -0.75920886, -1.0451494 ,  1.0384731 , -1.6577736 , -0.68045336,\n",
      "        1.2754424 ,  1.2449945 ,  1.895974  ,  1.2742968 ], dtype=float32)>, 'radiant_hero3': <tf.Tensor: shape=(1, 144), dtype=float32, numpy=\n",
      "array([[0., 0., 0., 0., 0., 0., 0., 0., 0., 0., 0., 0., 0., 0., 0., 0.,\n",
      "        0., 0., 0., 0., 0., 0., 0., 0., 0., 0., 0., 0., 0., 0., 0., 0.,\n",
      "        0., 0., 0., 0., 0., 0., 0., 0., 0., 0., 0., 0., 0., 0., 0., 0.,\n",
      "        0., 0., 0., 0., 0., 0., 0., 0., 0., 0., 0., 0., 0., 0., 0., 0.,\n",
      "        0., 0., 0., 0., 0., 0., 0., 0., 0., 0., 0., 0., 0., 0., 0., 0.,\n",
      "        0., 0., 0., 0., 0., 0., 0., 0., 0., 0., 0., 0., 0., 0., 0., 0.,\n",
      "        0., 0., 0., 0., 0., 0., 0., 0., 0., 0., 0., 0., 0., 0., 0., 0.,\n",
      "        0., 0., 0., 0., 0., 0., 0., 0., 0., 0., 0., 0., 0., 0., 0., 0.,\n",
      "        0., 0., 0., 0., 0., 0., 0., 0., 0., 1., 0., 0., 0., 0., 0., 0.]],\n",
      "      dtype=float32)>, 'radiant_hero_info3': <tf.Tensor: shape=(4,), dtype=float32, numpy=array([-0.5421847 , -0.36232635, -0.16084047,  1.6020833 ], dtype=float32)>, 'radiant_hero_tags3': <tf.Tensor: shape=(6,), dtype=int64, numpy=array([0, 0, 1, 0, 1, 0])>, 'radiant_hero_stats3': <tf.Tensor: shape=(14,), dtype=float32, numpy=\n",
      "array([-0.48682123,  0.0965029 , -0.8361087 ,  0.5914534 ,  1.1020707 ,\n",
      "       -0.75920886, -1.0451494 ,  0.91074836,  0.52963686, -0.68045336,\n",
      "       -1.2216791 , -0.42359763, -0.5662966 , -0.64119685], dtype=float32)>, 'dire_hero3': <tf.Tensor: shape=(1, 144), dtype=float32, numpy=\n",
      "array([[0., 0., 1., 0., 0., 0., 0., 0., 0., 0., 0., 0., 0., 0., 0., 0.,\n",
      "        0., 0., 0., 0., 0., 0., 0., 0., 0., 0., 0., 0., 0., 0., 0., 0.,\n",
      "        0., 0., 0., 0., 0., 0., 0., 0., 0., 0., 0., 0., 0., 0., 0., 0.,\n",
      "        0., 0., 0., 0., 0., 0., 0., 0., 0., 0., 0., 0., 0., 0., 0., 0.,\n",
      "        0., 0., 0., 0., 0., 0., 0., 0., 0., 0., 0., 0., 0., 0., 0., 0.,\n",
      "        0., 0., 0., 0., 0., 0., 0., 0., 0., 0., 0., 0., 0., 0., 0., 0.,\n",
      "        0., 0., 0., 0., 0., 0., 0., 0., 0., 0., 0., 0., 0., 0., 0., 0.,\n",
      "        0., 0., 0., 0., 0., 0., 0., 0., 0., 0., 0., 0., 0., 0., 0., 0.,\n",
      "        0., 0., 0., 0., 0., 0., 0., 0., 0., 0., 0., 0., 0., 0., 0., 0.]],\n",
      "      dtype=float32)>, 'dire_hero_info3': <tf.Tensor: shape=(4,), dtype=float32, numpy=array([-1.6315978 ,  2.5362844 ,  0.20679489, -0.34886804], dtype=float32)>, 'dire_hero_tags3': <tf.Tensor: shape=(6,), dtype=int64, numpy=array([0, 0, 1, 0, 0, 1])>, 'dire_hero_stats3': <tf.Tensor: shape=(14,), dtype=float32, numpy=\n",
      "array([ 0.2173414 ,  3.5425148 , -0.18388957, -0.8991046 ,  0.04125398,\n",
      "        0.60226154,  0.9421065 , -0.877398  ,  0.8212916 ,  0.86505586,\n",
      "       -0.05635576,  0.41069847, -1.1818643 , -0.64119685], dtype=float32)>, 'radiant_hero4': <tf.Tensor: shape=(1, 144), dtype=float32, numpy=\n",
      "array([[0., 0., 0., 0., 0., 0., 0., 0., 0., 0., 0., 0., 0., 0., 0., 0.,\n",
      "        0., 0., 0., 0., 0., 0., 0., 0., 0., 0., 0., 0., 0., 0., 0., 0.,\n",
      "        0., 0., 0., 0., 0., 0., 0., 0., 0., 0., 0., 0., 0., 0., 0., 0.,\n",
      "        0., 0., 0., 0., 0., 0., 0., 0., 0., 0., 0., 0., 0., 0., 0., 0.,\n",
      "        0., 0., 0., 0., 0., 0., 0., 0., 0., 0., 0., 0., 0., 0., 0., 0.,\n",
      "        0., 0., 0., 0., 0., 0., 0., 0., 0., 0., 0., 0., 0., 0., 0., 0.,\n",
      "        0., 0., 0., 0., 0., 0., 0., 0., 0., 0., 0., 0., 0., 0., 0., 0.,\n",
      "        0., 0., 0., 0., 0., 0., 0., 0., 0., 0., 0., 0., 0., 0., 0., 0.,\n",
      "        0., 0., 0., 0., 0., 0., 0., 0., 0., 0., 0., 0., 0., 1., 0., 0.]],\n",
      "      dtype=float32)>, 'radiant_hero_info4': <tf.Tensor: shape=(4,), dtype=float32, numpy=array([-0.9053224 , -0.36232635,  0.9420656 , -0.34886804], dtype=float32)>, 'radiant_hero_tags4': <tf.Tensor: shape=(6,), dtype=int64, numpy=array([1, 0, 1, 0, 0, 0])>, 'radiant_hero_stats4': <tf.Tensor: shape=(14,), dtype=float32, numpy=\n",
      "array([ 0.8171836 , -0.5028035 ,  0.46832958,  0.29334182, -1.0195627 ,\n",
      "        3.3932757 ,  0.9421065 , -0.7496733 ,  0.52963686,  2.1014633 ,\n",
      "       -0.22283052, -0.42359763,  1.2804064 , -0.08598129], dtype=float32)>, 'dire_hero4': <tf.Tensor: shape=(1, 144), dtype=float32, numpy=\n",
      "array([[0., 0., 0., 0., 0., 0., 0., 0., 0., 0., 0., 0., 0., 0., 0., 0.,\n",
      "        0., 0., 0., 0., 0., 0., 0., 0., 0., 0., 0., 0., 0., 0., 0., 0.,\n",
      "        0., 0., 0., 0., 0., 0., 0., 0., 0., 0., 0., 0., 0., 0., 0., 0.,\n",
      "        0., 0., 0., 0., 0., 0., 0., 0., 0., 0., 0., 0., 0., 0., 0., 0.,\n",
      "        0., 0., 1., 0., 0., 0., 0., 0., 0., 0., 0., 0., 0., 0., 0., 0.,\n",
      "        0., 0., 0., 0., 0., 0., 0., 0., 0., 0., 0., 0., 0., 0., 0., 0.,\n",
      "        0., 0., 0., 0., 0., 0., 0., 0., 0., 0., 0., 0., 0., 0., 0., 0.,\n",
      "        0., 0., 0., 0., 0., 0., 0., 0., 0., 0., 0., 0., 0., 0., 0., 0.,\n",
      "        0., 0., 0., 0., 0., 0., 0., 0., 0., 0., 0., 0., 0., 0., 0., 0.]],\n",
      "      dtype=float32)>, 'dire_hero_info4': <tf.Tensor: shape=(4,), dtype=float32, numpy=array([-0.17904705, -0.36232635,  0.5744302 ,  1.1143454 ], dtype=float32)>, 'dire_hero_tags4': <tf.Tensor: shape=(6,), dtype=int64, numpy=array([1, 0, 1, 0, 0, 0])>, 'dire_hero_stats4': <tf.Tensor: shape=(14,), dtype=float32, numpy=\n",
      "array([-0.22602026, -0.5028035 , -0.18388957, -0.3028814 ,  0.04125398,\n",
      "       -0.75920886, -1.0451494 ,  1.0384731 , -0.3453273 , -0.37135154,\n",
      "        0.27659377,  0.41069847,  0.93568844, -0.28030673], dtype=float32)>, 'region': <tf.Tensor: shape=(11,), dtype=int64, numpy=array([0, 0, 1, 0, 0, 0, 0, 0, 0, 0, 0])>, 'skill_level': <tf.Tensor: shape=(1, 2), dtype=float32, numpy=array([[0., 1.]], dtype=float32)>}, <tf.Tensor: shape=(1,), dtype=int64, numpy=array([0])>)\n"
     ]
    }
   ],
   "source": [
    "ds = ds.shuffle(10000)\n",
    "print(next(iter(ds)))"
   ]
  },
  {
   "cell_type": "markdown",
   "metadata": {
    "heading_collapsed": true
   },
   "source": [
    "## Input functions"
   ]
  },
  {
   "cell_type": "code",
   "execution_count": 5,
   "metadata": {
    "ExecuteTime": {
     "end_time": "2020-03-14T23:16:55.793938Z",
     "start_time": "2020-03-14T23:16:55.787934Z"
    },
    "code_folding": [],
    "hidden": true
   },
   "outputs": [],
   "source": [
    "# Create an input_fn that parses the tf.Examples from the given files,\n",
    "# and split them into features and targets.\n",
    "def _input_fn_extra_info(input_filenames, num_epochs=None, \n",
    "              shuffle=True, batch_size=50,compression_type=\"\"):\n",
    "   \n",
    "   # Same code as above; create a dataset and map features and labels.\n",
    "    ds = tf.data.TFRecordDataset(input_filenames,compression_type=compression_type)\n",
    "    ds = ds.map(_parse_function_extra_info)\n",
    "\n",
    "    if shuffle:\n",
    "        ds = ds.shuffle(10000)\n",
    "    ds = ds.batch(batch_size)\n",
    "    ds = ds.repeat()\n",
    "    \n",
    "    # Return the dataset.\n",
    "    return ds"
   ]
  },
  {
   "cell_type": "markdown",
   "metadata": {},
   "source": [
    "# Define and train the models"
   ]
  },
  {
   "cell_type": "markdown",
   "metadata": {},
   "source": [
    "## various iterations of linear models"
   ]
  },
  {
   "cell_type": "markdown",
   "metadata": {},
   "source": [
    "### linear models (with and without extra info)"
   ]
  },
  {
   "cell_type": "code",
   "execution_count": 53,
   "metadata": {
    "ExecuteTime": {
     "end_time": "2020-03-15T03:06:04.544289Z",
     "start_time": "2020-03-15T03:06:04.528611Z"
    },
    "code_folding": [
     1
    ]
   },
   "outputs": [],
   "source": [
    "#define the linear model with no feature columns\n",
    "def define_linear_model_hero_only(vocab_len,\n",
    "                                   embedding_dims):\n",
    "    '''Function to define simple keras linear model\n",
    "    \n",
    "    Args: \n",
    "        vocab_len: An `int` specifying the number of category of the categorical input\n",
    "        embedding_dims: An `list` of `int` specifying the number of dimensions in\n",
    "            the embedding layer\n",
    "    Returns:\n",
    "        model: A uncompiled `tf.keras.model`\n",
    "    '''\n",
    "    \n",
    "    ##define hero processing layers\n",
    "    #embed hero with dense because shared embedding layers are broken\n",
    "    dense_hero = tf.keras.layers.Dense(embedding_dims,activation='linear')\n",
    "    \n",
    "    hero_input=[]\n",
    "    rad_hero_output=[]\n",
    "    dire_hero_output=[]\n",
    "    #process all heroes in same way\n",
    "    for i in range(5):\n",
    "        #add radiant hero to hero_input list and process with\n",
    "        #    embed_hero layer\n",
    "        hero_input.append(tf.keras.Input(shape=(1,len(hero_vocab),),\n",
    "                                         name='radiant_hero'+str(i)))\n",
    "        x_rh = dense_hero(hero_input[-1])        \n",
    "        x_rh = tf.keras.layers.Flatten()(x_rh)\n",
    "        #append radiant outputs for summing\n",
    "        rad_hero_output.append(x_rh)\n",
    "        \n",
    "        #add dire hero to hero_input list and process with\n",
    "        #    embed_hero layer\n",
    "        hero_input.append(tf.keras.Input(shape=(1,len(hero_vocab),),\n",
    "                                         name='dire_hero'+str(i)))\n",
    "        x_dh = dense_hero(hero_input[-1])\n",
    "        x_dh = tf.keras.layers.Flatten()(x_dh)\n",
    "        #append dire outputs for summing\n",
    "        dire_hero_output.append(x_dh)\n",
    "    #sum hero outputs to erase ordering information and get ave team vector\n",
    "    rad_hero_sum = tf.keras.layers.Add()(rad_hero_output)\n",
    "    \n",
    "    dire_hero_sum = tf.keras.layers.Add()(dire_hero_output)\n",
    "    \n",
    "    #define skill input layer\n",
    "    skill = tf.keras.Input(shape=(1,2,),name='skill_level')\n",
    "    x_skill = tf.keras.layers.Flatten()(skill)\n",
    "    x_skill = tf.keras.layers.Dense(1,activation='linear')(skill)\n",
    "    \n",
    "    #define region input layer\n",
    "    region = tf.keras.Input(shape=(11,),name='region')\n",
    "    x_region = tf.keras.layers.Dense(1,activation='linear')(region)\n",
    "    \n",
    "    # Add a dnn layer to map the average of the embedded vectors of each team\n",
    "    #   to a single vector for each team\n",
    "    x = tf.keras.layers.concatenate([rad_hero_sum,dire_hero_sum,x_skill,x_region])\n",
    "    \n",
    "    #Adds output layer with sigmoid activation for prediction\n",
    "    win_predict = tf.keras.layers.Dense(1,activation='sigmoid')(x)\n",
    "    model = tf.keras.Model(inputs=[hero_input,skill,region],\n",
    "                           outputs=win_predict,name=\"radiant_win\")\n",
    "    #tf.keras.utils.plot_model(model, show_shapes=False)\n",
    "    #model.summary()\n",
    "    return model"
   ]
  },
  {
   "cell_type": "code",
   "execution_count": 52,
   "metadata": {
    "ExecuteTime": {
     "end_time": "2020-03-15T03:05:51.105515Z",
     "start_time": "2020-03-15T03:05:51.080016Z"
    },
    "code_folding": [
     1
    ]
   },
   "outputs": [],
   "source": [
    "#define the linear model with no feature columns\n",
    "def define_linear_model_extra_info(vocab_len,\n",
    "                                   embedding_dims):\n",
    "    '''Function to define simple keras linear model\n",
    "    \n",
    "    Args: \n",
    "        vocab_len: An `int` specifying the number of category of the categorical input\n",
    "        embedding_dims: An `list` of `int`s specifying the number of dimensions\n",
    "            in the input layers\n",
    "    Returns:\n",
    "        model: A uncompiled `tf.keras.model`\n",
    "    '''\n",
    "    \n",
    "    ##DEFINE HERO PROCESSING LAYERS\n",
    "    #embed hero with dense because shared embedding layers are broken\n",
    "    dense_hero = tf.keras.layers.Dense(embedding_dims[0],activation='linear')\n",
    "    #process info into num of values specified by dense outputs value\n",
    "    dense_hero_info = tf.keras.layers.Dense(embedding_dims[1],activation='linear')\n",
    "    #process tags into num of values specified by dense outputs value\n",
    "    dense_hero_tags = tf.keras.layers.Dense(embedding_dims[2],activation='linear')\n",
    "    #process stats into num of values specified by dense outputs value\n",
    "    dense_hero_stats = tf.keras.layers.Dense(embedding_dims[3],activation='linear')\n",
    "\n",
    "    #process hero embed, dense_tags, and dense_info output into num of outputs \n",
    "    #    half of total embedding dims\n",
    "    \n",
    "    dense_hero_total = tf.keras.layers.Dense(sum(embedding_dims)/2,activation='linear')\n",
    "    \n",
    "    hero_input=[]\n",
    "    rad_hero_output=[]\n",
    "    dire_hero_output=[]\n",
    "    #process all heroes in same way\n",
    "    for i in range(5):\n",
    "        #add radiant hero to hero_input list and process with\n",
    "        #    embed_hero layer\n",
    "        hero_input.append(tf.keras.Input(shape=(1,len(hero_vocab),),\n",
    "                                         name='radiant_hero'+str(i)))\n",
    "        x_rh = dense_hero(hero_input[-1])        \n",
    "        x_rh = tf.keras.layers.Flatten()(x_rh)\n",
    "        #add radiant hero info to hero_input list and process with\n",
    "        #    dense_info layer\n",
    "        hero_input.append(tf.keras.Input(shape=(4,), #4 info types\n",
    "                                         name='radiant_hero_info'+str(i)))\n",
    "        x_rhi = dense_hero_info(hero_input[-1])\n",
    "        #add radiant hero tags to hero_input list and process with\n",
    "        #    dense_tags layer\n",
    "        hero_input.append(tf.keras.Input(shape=(6,), #6 tag types\n",
    "                                         name='radiant_hero_tags'+str(i)))\n",
    "        x_rht = dense_hero_tags(hero_input[-1])        \n",
    "        #add radiant hero stats to hero_input list and process with\n",
    "        #    dense_stats layer\n",
    "        hero_input.append(tf.keras.Input(shape=(14,), #14 stat types\n",
    "                                         name='radiant_hero_stats'+str(i)))\n",
    "        x_rhs = dense_hero_stats(hero_input[-1])\n",
    "        #append output of hero layers to rad_out_layer for summing later\n",
    "        x_rhtot = tf.keras.layers.concatenate([x_rh,x_rhi,x_rht,x_rhs])\n",
    "        rad_hero_output.append(dense_hero_total(x_rhtot))\n",
    "        #add dire hero to hero_input list and process with\n",
    "        #    embed_hero layer\n",
    "        hero_input.append(tf.keras.Input(shape=(1,len(hero_vocab),),\n",
    "                                         name='dire_hero'+str(i)))\n",
    "        x_dh = dense_hero(hero_input[-1])\n",
    "        x_dh = tf.keras.layers.Flatten()(x_dh)\n",
    "        #add dire hero info to hero_input list and process with\n",
    "        #    dense_info layer       \n",
    "        hero_input.append(tf.keras.Input(shape=(4,),#4 info types\n",
    "                                         name='dire_hero_info'+str(i)))\n",
    "        x_dhi = dense_hero_info(hero_input[-1])\n",
    "        #add dire hero tags to hero_input list and process with\n",
    "        #    dense_tags layer\n",
    "        hero_input.append(tf.keras.Input(shape=(6,),#6 tag types\n",
    "                                         name='dire_hero_tags'+str(i)))\n",
    "        x_dht = dense_hero_tags(hero_input[-1])\n",
    "        #add dire hero stats to hero_input list and process with\n",
    "        #    dense_stats layer\n",
    "        hero_input.append(tf.keras.Input(shape=(14,), #14 stat types\n",
    "                                         name='dire_hero_stats'+str(i)))\n",
    "        x_dhs = dense_hero_stats(hero_input[-1])\n",
    "        #append output of hero layers to dire_out layer for summing later\n",
    "        x_dhtot = tf.keras.layers.concatenate([x_dh,x_dhi,x_dht,x_dhs])\n",
    "        dire_hero_output.append(dense_hero_total(x_dhtot))\n",
    "    #sum hero outputs to erase ordering information and get ave team vector\n",
    "    rad_hero_sum = tf.keras.layers.Add()(rad_hero_output)\n",
    "    dire_hero_sum = tf.keras.layers.Add()(dire_hero_output)    \n",
    "    \n",
    "    #define skill input layer\n",
    "    skill = tf.keras.Input(shape=(1,2,),name='skill_level')\n",
    "    x_skill = tf.keras.layers.Flatten()(skill)\n",
    "    x_skill = tf.keras.layers.Dense(1,activation='linear')(x_skill)\n",
    "    \n",
    "    #define region input layer\n",
    "    region = tf.keras.Input(shape=(11,),name='region')\n",
    "    x_region = tf.keras.layers.Dense(1,activation='linear')(region)\n",
    "    \n",
    "    # Add a dnn layer to map the average of the embedded vectors of each team\n",
    "    #   to a single vector for each team\n",
    "    x = tf.keras.layers.concatenate([rad_hero_sum,dire_hero_sum,x_skill,x_region])\n",
    "    \n",
    "    #Adds output layer with sigmoid activation for prediction\n",
    "    win_predict = tf.keras.layers.Dense(1,activation='sigmoid')(x)\n",
    "    model = tf.keras.Model(inputs=[hero_input,skill,region],\n",
    "                           outputs=win_predict,name=\"radiant_win\")\n",
    "    #tf.keras.utils.plot_model(model, show_shapes=True)\n",
    "    #model.summary()\n",
    "    return model"
   ]
  },
  {
   "cell_type": "markdown",
   "metadata": {},
   "source": [
    "### dnn models (with and without extra info)"
   ]
  },
  {
   "cell_type": "code",
   "execution_count": 54,
   "metadata": {
    "ExecuteTime": {
     "end_time": "2020-03-15T03:06:15.593443Z",
     "start_time": "2020-03-15T03:06:15.576365Z"
    },
    "code_folding": [
     1
    ]
   },
   "outputs": [],
   "source": [
    "#define the linear model with no feature columns\n",
    "def define_dnn_model_hero_only(vocab_len,\n",
    "                                embedding_dims,\n",
    "                                hidden_units_heroes,\n",
    "                                hidden_units_out):\n",
    "    '''Function to define simple keras linear model\n",
    "    \n",
    "    Args: \n",
    "        vocab_len: An `int` specifying the number of category of the \n",
    "            categorical input\n",
    "        embedding_dims: An `list` of `int` specifying the number of dimensions in \n",
    "            the embedding layer\n",
    "        hidden_units_heroes: A `list` specifying size and number of hidden \n",
    "            units in hero input layer\n",
    "        hidden_units_heroes: A `list` specifying size and number of hidden \n",
    "            units in output layer\n",
    "    Returns: \n",
    "        model: A uncompiled `tf.keras.model`\n",
    "    '''\n",
    "    \n",
    "    ##DEFINE HERO PROCESSING LAYER\n",
    "    #embed hero with dense because shared embedding layers are broken\n",
    "    dense_hero = tf.keras.layers.Dense(embedding_dims,activation='linear')\n",
    "    \n",
    "    #define hero output NN layers\n",
    "    dense_hero_out_list = []\n",
    "    for unit in hidden_units_heroes:\n",
    "        dense_hero_out_list.append(tf.keras.layers.Dense(unit,\n",
    "                                                         activation='relu'))\n",
    "    \n",
    "    hero_input=[]\n",
    "    rad_hero_output=[]\n",
    "    dire_hero_output=[]\n",
    "    #process all heroes in same way\n",
    "    for i in range(5):\n",
    "        #add radiant hero to hero_input list and process with\n",
    "        #    embed_hero layer\n",
    "        hero_input.append(tf.keras.Input(shape=(1,vocab_len,),\n",
    "                                         name='radiant_hero'+str(i)))\n",
    "        x_rh = dense_hero(hero_input[-1])        \n",
    "        x_rhtot = tf.keras.layers.Flatten()(x_rh)\n",
    "\n",
    "        #put total hero info into hidden layers\n",
    "        for layer in dense_hero_out_list:\n",
    "            x_rhtot=layer(x_rhtot)\n",
    "        #append to rad_hero_output list\n",
    "        rad_hero_output.append(x_rhtot)\n",
    "        \n",
    "        #add dire hero to hero_input list and process with\n",
    "        #    embed_hero layer\n",
    "        hero_input.append(tf.keras.Input(shape=(1,vocab_len,),\n",
    "                                         name='dire_hero'+str(i)))\n",
    "        x_dh = dense_hero(hero_input[-1])\n",
    "        x_dhtot = tf.keras.layers.Flatten()(x_dh)\n",
    "\n",
    "        #put total hero info into hidden layers\n",
    "        for layer in dense_hero_out_list:\n",
    "            x_dhtot=layer(x_dhtot)\n",
    "        dire_hero_output.append(x_dhtot)\n",
    "    \n",
    "    #sum hero outputs to erase ordering information and get ave team vector\n",
    "    rad_hero_sum = tf.keras.layers.Add()(rad_hero_output)\n",
    "    dire_hero_sum = tf.keras.layers.Add()(dire_hero_output)    \n",
    "    \n",
    "    #define skill input layer\n",
    "    skill = tf.keras.Input(shape=(1,2,),name='skill_level')\n",
    "    x_skill = tf.keras.layers.Flatten()(skill)\n",
    "    region = tf.keras.Input(shape=(11,),name='region')\n",
    "    \n",
    "    # Add a dnn layer to map the average of the embedded vectors of each team\n",
    "    #   to a single vector for each team\n",
    "    x = tf.keras.layers.concatenate([rad_hero_sum,dire_hero_sum,x_skill,region])\n",
    "    for unit in hidden_units_out:\n",
    "        x = tf.keras.layers.Dense(unit,activation='relu')(x)\n",
    "        \n",
    "    #Adds output layer with sigmoid activation for prediction\n",
    "    win_predict = tf.keras.layers.Dense(1,activation='sigmoid')(x)\n",
    "    model = tf.keras.Model(inputs=[hero_input,skill,region],\n",
    "                           outputs=win_predict,name=\"radiant_win\")\n",
    "    #tf.keras.utils.plot_model(model, show_shapes=False)\n",
    "    #model.summary()\n",
    "    return model"
   ]
  },
  {
   "cell_type": "code",
   "execution_count": 55,
   "metadata": {
    "ExecuteTime": {
     "end_time": "2020-03-15T03:07:25.018709Z",
     "start_time": "2020-03-15T03:07:24.993027Z"
    },
    "code_folding": [
     1
    ]
   },
   "outputs": [],
   "source": [
    "#define the linear model with no feature columns\n",
    "def define_dnn_model_info_tags(vocab_len,\n",
    "                                embedding_dims,\n",
    "                                hidden_units_heroes,\n",
    "                                hidden_units_out):\n",
    "    '''Function to define simple keras linear model\n",
    "    \n",
    "    Args: \n",
    "        vocab_len: An `int` specifying the number of category of the \n",
    "            categorical input\n",
    "        embedding_dims: An `list` of `int` specifying the number of dimensions in \n",
    "            the embedding layer\n",
    "        hidden_units_heroes: A `list` specifying size and number of hidden \n",
    "            units in hero input layer\n",
    "        hidden_units_heroes: A `list` specifying size and number of hidden \n",
    "            units in output layer\n",
    "    Returns: \n",
    "        model: A uncompiled `tf.keras.model`\n",
    "    '''\n",
    "    \n",
    "    ##DEFINE HERO PROCESSING LAYERS\n",
    "    #embed hero with dense because shared embedding layers are broken\n",
    "    dense_hero = tf.keras.layers.Dense(embedding_dims[0],activation='linear')\n",
    "    #process info into num of values specified by dense outputs value\n",
    "    dense_hero_info = tf.keras.layers.Dense(embedding_dims[1],activation='linear')\n",
    "    #process tags into num of values specified by dense outputs value\n",
    "    dense_hero_tags = tf.keras.layers.Dense(embedding_dims[2],activation='linear')\n",
    "    #process hero embed, dense_tags, and dense_info output into some num of outputs\n",
    "    dense_hero_out_list = []\n",
    "    for unit in hidden_units_heroes:\n",
    "        dense_hero_out_list.append(tf.keras.layers.Dense(unit,\n",
    "                                                         activation='relu'))\n",
    "    \n",
    "    hero_input=[]\n",
    "    rad_hero_output=[]\n",
    "    dire_hero_output=[]\n",
    "    #process all heroes in same way\n",
    "    for i in range(5):\n",
    "        #add radiant hero to hero_input list and process with\n",
    "        #    embed_hero layer\n",
    "        hero_input.append(tf.keras.Input(shape=(1,vocab_len,),\n",
    "                                         name='radiant_hero'+str(i)))\n",
    "        x_rh = dense_hero(hero_input[-1])        \n",
    "        x_rh = tf.keras.layers.Flatten()(x_rh)\n",
    "        #add radiant hero info to hero_input list and process with\n",
    "        #    dense_info layer\n",
    "        hero_input.append(tf.keras.Input(shape=(4,), #4 info types\n",
    "                                         name='radiant_hero_info'+str(i)))\n",
    "        x_rhi = dense_hero_info(hero_input[-1])\n",
    "        #add radiant hero tags to hero_input list and process with\n",
    "        #    dense_tags layer\n",
    "        hero_input.append(tf.keras.Input(shape=(6,), #6 tag types\n",
    "                                         name='radiant_hero_tags'+str(i)))\n",
    "        x_rht = dense_hero_tags(hero_input[-1])        \n",
    "        #append output of hero layers to rad_out_layer for summing later\n",
    "        x_rhtot = tf.keras.layers.concatenate([x_rh,x_rhi,x_rht])\n",
    "        #put total hero info into hidden layers\n",
    "        for layer in dense_hero_out_list:\n",
    "            x_rhtot=layer(x_rhtot)\n",
    "        #append to rad_hero_output list\n",
    "        rad_hero_output.append(x_rhtot)\n",
    "        \n",
    "        #add dire hero to hero_input list and process with\n",
    "        #    embed_hero layer\n",
    "        hero_input.append(tf.keras.Input(shape=(1,vocab_len,),\n",
    "                                         name='dire_hero'+str(i)))\n",
    "        x_dh = dense_hero(hero_input[-1])\n",
    "        x_dh = tf.keras.layers.Flatten()(x_dh)\n",
    "        #add dire hero info to hero_input list and process with\n",
    "        #    dense_info layer       \n",
    "        hero_input.append(tf.keras.Input(shape=(4,),#4 info types\n",
    "                                         name='dire_hero_info'+str(i)))\n",
    "        x_dhi = dense_hero_info(hero_input[-1])\n",
    "        #add dire hero tags to hero_input list and process with\n",
    "        #    dense_tags layer\n",
    "        hero_input.append(tf.keras.Input(shape=(6,),#6 tag types\n",
    "                                         name='dire_hero_tags'+str(i)))\n",
    "        x_dht = dense_hero_tags(hero_input[-1])\n",
    "        #append output of hero layers to dire_out layer for summing later\n",
    "        x_dhtot = tf.keras.layers.concatenate([x_dh,x_dhi,x_dht])\n",
    "        #put total hero info into hidden layers\n",
    "        for layer in dense_hero_out_list:\n",
    "            x_dhtot=layer(x_dhtot)\n",
    "        dire_hero_output.append(x_dhtot)\n",
    "    \n",
    "    #sum hero outputs to erase ordering information and get ave team vector\n",
    "    rad_hero_sum = tf.keras.layers.Add()(rad_hero_output)\n",
    "    dire_hero_sum = tf.keras.layers.Add()(dire_hero_output)    \n",
    "    \n",
    "    #define skill input layer\n",
    "    skill = tf.keras.Input(shape=(1,2,),name='skill_level')\n",
    "    x_skill = tf.keras.layers.Flatten()(skill)\n",
    "\n",
    "    region = tf.keras.Input(shape=(11,),name='region')\n",
    "    \n",
    "    # Add a dnn layer to map the average of the embedded vectors of each team\n",
    "    #   to a single vector for each team\n",
    "    x = tf.keras.layers.concatenate([rad_hero_sum,dire_hero_sum,x_skill,region])\n",
    "    for unit in hidden_units_out:\n",
    "        x = tf.keras.layers.Dense(unit,activation='relu')(x)\n",
    "        \n",
    "    #Adds output layer with sigmoid activation for prediction\n",
    "    win_predict = tf.keras.layers.Dense(1,activation='sigmoid')(x)\n",
    "    model = tf.keras.Model(inputs=[hero_input,skill,region],\n",
    "                           outputs=win_predict,name=\"radiant_win\")\n",
    "    #tf.keras.utils.plot_model(model, show_shapes=False)\n",
    "    #model.summary()\n",
    "    return model"
   ]
  },
  {
   "cell_type": "code",
   "execution_count": 56,
   "metadata": {
    "ExecuteTime": {
     "end_time": "2020-03-15T03:08:07.685090Z",
     "start_time": "2020-03-15T03:08:07.656072Z"
    },
    "code_folding": [
     1
    ]
   },
   "outputs": [],
   "source": [
    "#define the linear model with no feature columns\n",
    "def define_dnn_model_extra_info(vocab_len,\n",
    "                                embedding_dims,\n",
    "                                hidden_units_heroes,\n",
    "                                hidden_units_out):\n",
    "    '''Function to define simple keras linear model\n",
    "    \n",
    "    Args: \n",
    "        vocab_len: An `int` specifying the number of category of the \n",
    "            categorical input\n",
    "        embedding_dims: An `list` of `int` specifying the numbers of dimensions in \n",
    "            the embedding layers\n",
    "        hidden_units_heroes: A `list` specifying size and number of hidden \n",
    "            units in hero input layer\n",
    "        hidden_units_heroes: A `list` specifying size and number of hidden \n",
    "            units in output layer\n",
    "    Returns: \n",
    "        model: A uncompiled `tf.keras.model`\n",
    "    '''\n",
    "    \n",
    "    ##DEFINE HERO PROCESSING LAYERS\n",
    "    #embed hero with dense because shared embedding layers are broken\n",
    "    dense_hero = tf.keras.layers.Dense(embedding_dims[0],activation='linear')\n",
    "    #process info into num of values specified by dense outputs value\n",
    "    dense_hero_info = tf.keras.layers.Dense(embedding_dims[1],activation='linear')\n",
    "    #process tags into num of values specified by dense outputs value\n",
    "    dense_hero_tags = tf.keras.layers.Dense(embedding_dims[2],activation='linear')\n",
    "    #process stats into num of values specified by dense outputs value\n",
    "    dense_hero_stats = tf.keras.layers.Dense(embedding_dims[3],activation='linear')\n",
    "    \n",
    "    #process hero embed, dense_tags, and dense_info output into some num of outputs\n",
    "    dense_hero_out_list = []\n",
    "    for unit in hidden_units_heroes:\n",
    "        dense_hero_out_list.append(tf.keras.layers.Dense(unit,\n",
    "                                                         activation='relu'))\n",
    "    \n",
    "    hero_input=[]\n",
    "    rad_hero_output=[]\n",
    "    dire_hero_output=[]\n",
    "    #process all heroes in same way\n",
    "    for i in range(5):\n",
    "        #add radiant hero to hero_input list and process with\n",
    "        #    embed_hero layer\n",
    "        hero_input.append(tf.keras.Input(shape=(1,vocab_len,),\n",
    "                                         name='radiant_hero'+str(i)))\n",
    "        x_rh = dense_hero(hero_input[-1])        \n",
    "        x_rh = tf.keras.layers.Flatten()(x_rh)\n",
    "        #add radiant hero info to hero_input list and process with\n",
    "        #    dense_info layer\n",
    "        hero_input.append(tf.keras.Input(shape=(4,), #4 info types\n",
    "                                         name='radiant_hero_info'+str(i)))\n",
    "        x_rhi = dense_hero_info(hero_input[-1])\n",
    "        #add radiant hero tags to hero_input list and process with\n",
    "        #    dense_tags layer\n",
    "        hero_input.append(tf.keras.Input(shape=(6,), #6 tag types\n",
    "                                         name='radiant_hero_tags'+str(i)))\n",
    "        x_rht = dense_hero_tags(hero_input[-1])        \n",
    "        #add radiant hero stats to hero_input list and process with\n",
    "        #    dense_stats layer\n",
    "        hero_input.append(tf.keras.Input(shape=(14,), #14 stat types\n",
    "                                         name='radiant_hero_stats'+str(i)))\n",
    "        x_rhs = dense_hero_stats(hero_input[-1])\n",
    "        #append output of hero layers to rad_out_layer for summing later\n",
    "        x_rhtot = tf.keras.layers.concatenate([x_rh,x_rhi,x_rht,x_rhs])\n",
    "        #put total hero info into hidden layers\n",
    "        for layer in dense_hero_out_list:\n",
    "            x_rhtot=layer(x_rhtot)\n",
    "        #append to rad_hero_output list\n",
    "        rad_hero_output.append(x_rhtot)\n",
    "        \n",
    "        #add dire hero to hero_input list and process with\n",
    "        #    embed_hero layer\n",
    "        hero_input.append(tf.keras.Input(shape=(1,vocab_len,),\n",
    "                                         name='dire_hero'+str(i)))\n",
    "        x_dh = dense_hero(hero_input[-1])\n",
    "        x_dh = tf.keras.layers.Flatten()(x_dh)\n",
    "        #add dire hero info to hero_input list and process with\n",
    "        #    dense_info layer       \n",
    "        hero_input.append(tf.keras.Input(shape=(4,),#4 info types\n",
    "                                         name='dire_hero_info'+str(i)))\n",
    "        x_dhi = dense_hero_info(hero_input[-1])\n",
    "        #add dire hero tags to hero_input list and process with\n",
    "        #    dense_tags layer\n",
    "        hero_input.append(tf.keras.Input(shape=(6,),#6 tag types\n",
    "                                         name='dire_hero_tags'+str(i)))\n",
    "        x_dht = dense_hero_tags(hero_input[-1])\n",
    "        #add dire hero stats to hero_input list and process with\n",
    "        #    dense_stats layer\n",
    "        hero_input.append(tf.keras.Input(shape=(14,), #14 stat types\n",
    "                                         name='dire_hero_stats'+str(i)))\n",
    "        x_dhs = dense_hero_stats(hero_input[-1])\n",
    "        #append output of hero layers to dire_out layer for summing later\n",
    "        x_dhtot = tf.keras.layers.concatenate([x_dh,x_dhi,x_dht,x_dhs])\n",
    "        #put total hero info into hidden layers\n",
    "        for layer in dense_hero_out_list:\n",
    "            x_dhtot=layer(x_dhtot)\n",
    "        dire_hero_output.append(x_dhtot)\n",
    "    \n",
    "    #sum hero outputs to erase ordering information and get ave team vector\n",
    "    rad_hero_sum = tf.keras.layers.Add()(rad_hero_output)\n",
    "    dire_hero_sum = tf.keras.layers.Add()(dire_hero_output)    \n",
    "    \n",
    "    #define skill, region input layer\n",
    "    skill = tf.keras.Input(shape=(1,2,),name='skill_level')\n",
    "    x_skill = tf.keras.layers.Flatten()(skill)\n",
    "\n",
    "    region = tf.keras.Input(shape=(11,),name='region')\n",
    "\n",
    "    # Add a dnn layer to map the average of the embedded vectors of each team\n",
    "    #   to a single vector for each team\n",
    "    x = tf.keras.layers.concatenate([rad_hero_sum,dire_hero_sum,x_skill,region])\n",
    "    for unit in hidden_units_out:\n",
    "        x = tf.keras.layers.Dense(unit,activation='relu')(x)\n",
    "        \n",
    "    #Adds output layer with sigmoid activation for prediction\n",
    "    win_predict = tf.keras.layers.Dense(1,activation='sigmoid')(x)\n",
    "    model = tf.keras.Model(inputs=[hero_input,skill,region],\n",
    "                           outputs=win_predict,name=\"radiant_win\")\n",
    "    tf.keras.utils.plot_model(model, show_shapes=False)\n",
    "    #model.summary()\n",
    "    return model"
   ]
  },
  {
   "cell_type": "markdown",
   "metadata": {},
   "source": [
    "### Model training function"
   ]
  },
  {
   "cell_type": "code",
   "execution_count": 23,
   "metadata": {
    "ExecuteTime": {
     "end_time": "2020-03-15T00:23:47.339547Z",
     "start_time": "2020-03-15T00:23:47.318234Z"
    },
    "code_folding": []
   },
   "outputs": [],
   "source": [
    "#define the linear model with no feature columns\n",
    "def train_model(optimizer,\n",
    "                       model_type,\n",
    "                       vocab_len,\n",
    "                       embedding_dims,\n",
    "                       batch_size,\n",
    "                       epochs,\n",
    "                       training_path,\n",
    "                       validation_path,\n",
    "                       compression_type='',\n",
    "                       temp_log_flag=True,\n",
    "                       hidden_units_heroes=[],\n",
    "                       hidden_units_out=[]):\n",
    "    '''Function to train keras model\n",
    "    \n",
    "    Args: \n",
    "        optimizer: A `tf.keras.optimizer` object to use for the model\n",
    "        vocab_len: An `int` specifying the number of category of the categorical input\n",
    "        embedding_dims: An `int` specifying the number of dimensions in the embedding layer\n",
    "        batch_size: An `int` specifying batch size for each train step\n",
    "        epochs: An `int` number of epochs to train for\n",
    "        training_path: A `string` specifying training file\n",
    "        validation_path: A `string` specifying validatoin file\n",
    "        compression_type: A `string` specifying compression type\n",
    "        temp_log_flag: A `bool` specifying whether to save logs in temp folder\n",
    "    Returns:\n",
    "        history: A `tf.keras.history` object that has loss and other metrics\n",
    "    '''\n",
    "    if model_type=='linear_extra_info':\n",
    "        model = define_linear_model_extra_info(vocab_len,embedding_dims)\n",
    "    elif model_type=='linear_hero_only':\n",
    "        model = define_linear_model_hero_only(vocab_len,embedding_dims)\n",
    "    elif model_type=='dnn_extra_info':\n",
    "        model = define_dnn_model_extra_info(vocab_len,embedding_dims,\n",
    "                                            hidden_units_heroes,\n",
    "                                            hidden_units_out)\n",
    "    elif model_type=='dnn_info_tags':\n",
    "        model = define_dnn_model_info_tags(vocab_len,embedding_dims,\n",
    "                                            hidden_units_heroes,\n",
    "                                            hidden_units_out)\n",
    "    elif model_type=='dnn_hero_only':\n",
    "        model = define_dnn_model_hero_only(vocab_len,embedding_dims,\n",
    "                                            hidden_units_heroes,\n",
    "                                            hidden_units_out)        \n",
    "    else:\n",
    "        raise KeyError('model_type not found. Got: '+ model_type)\n",
    "        \n",
    "    model.compile(optimizer = optimizer,\n",
    "                  loss = 'binary_crossentropy',\n",
    "                  metrics = ['binary_accuracy'])\n",
    "\n",
    "    ##get embedding weights for returning and saving\n",
    "    #embedding_weights = model.layers[1].get_weights()[0]\n",
    "    \n",
    "    #get datasets from tfrecords and according to input_fn\n",
    "    train_ds = _input_fn_extra_info(training_path,\n",
    "                               batch_size=batch_size,\n",
    "                               compression_type=compression_type,\n",
    "                               shuffle=True)\n",
    "\n",
    "    validation_ds= _input_fn_extra_info(validation_path,\n",
    "                                   batch_size=batch_size,\n",
    "                                   compression_type=compression_type,\n",
    "                                   shuffle=True)\n",
    "\n",
    "    #allow logging in temp directory or directory to be included in git\n",
    "    #  useful if tuning hyperparams or testing\n",
    "    if temp_log_flag:\n",
    "        logdir = os.path.join('..','..','..','tmp_log_dir',\n",
    "                          datetime.now().strftime(\"lol_%Y%m%d-%H%M%S\"))\n",
    "    else:\n",
    "        logdir = os.path.join('log_dir',\n",
    "                          datetime.now().strftime(\"%Y%m%d-%H%M%S\"))\n",
    "        \n",
    "    tensorboard_callback = tf.keras.callbacks.TensorBoard(log_dir=logdir)\n",
    "    steps_per_epoch=50\n",
    "\n",
    "    history = model.fit(train_ds, \n",
    "                        epochs = epochs,\n",
    "                        steps_per_epoch=steps_per_epoch,\n",
    "                        validation_steps=steps_per_epoch,\n",
    "                        verbose=0,\n",
    "                        validation_data=validation_ds,\n",
    "                        callbacks=[tensorboard_callback]\n",
    "                       )\n",
    "    \n",
    "    #save trained model. This can be used to retrain, predict, \n",
    "    #  or reloaded as a keras model to do more model things.\n",
    "    #Use TF `SavedModel` format so that it can be used in serving\n",
    "    model.save(os.path.join(logdir,'saved_model'),\n",
    "                      save_format='tf')\n",
    "    \n",
    "    #save params for this training to a json in the logdir\n",
    "    hyper = optimizer._hyper\n",
    "    hyper_dict={}\n",
    "    for key,value in hyper.items():\n",
    "        hyper_dict[key]=value.numpy().item()\n",
    "    training_params = dict({'model_type':'single_target_'+model_type,\n",
    "                            'steps':steps_per_epoch*epochs,\n",
    "                            'batch_size':batch_size,\n",
    "                            'embedding_dims':embedding_dims,\n",
    "                            'optimizer':optimizer._name,\n",
    "                            'hyper_parameters':hyper_dict})\n",
    "    if len(hidden_units_heroes)>0 or len(hidden_units_out)>0:\n",
    "        training_params['hidden_units_heroes']=hidden_units_heroes\n",
    "        training_params['hidden_units_out']=hidden_units_out\n",
    "\n",
    "    with open(os.path.join(logdir,'training_params.json'),'w') as fp:\n",
    "        json.dump(training_params,fp)\n",
    "    \n",
    "    ##save embedding in numpy format for later use\n",
    "    ##  no hero_vocab, but that should be ok\n",
    "    #np.save(os.path.join(logdir,'embedding.npy'),embedding_weights)\n",
    "    fig,ax = plt.subplots(1,1,figsize=(1.6*3,3))\n",
    "    plt.plot(history.history['binary_accuracy'])\n",
    "    plt.xlabel('epochs (50 steps per)')\n",
    "    plt.ylabel('binary_accuracy')\n",
    "    plt.show()\n",
    "    \n",
    "    return history"
   ]
  },
  {
   "cell_type": "markdown",
   "metadata": {},
   "source": [
    "### train no feature column win model"
   ]
  },
  {
   "cell_type": "code",
   "execution_count": 11,
   "metadata": {
    "ExecuteTime": {
     "end_time": "2020-03-14T23:17:02.070170Z",
     "start_time": "2020-03-14T23:17:02.065672Z"
    }
   },
   "outputs": [],
   "source": [
    "training_file_novocab = os.path.join('LOL_data',\n",
    "                             'mix_tier',\n",
    "                             'lol_training_data',\n",
    "                             'blue_win_extra_info_dota2_compat_lol_training_data.tfrecords')\n",
    "validation_file_novocab = os.path.join('LOL_data',\n",
    "                             'mix_tier',\n",
    "                             'lol_validation_data',\n",
    "                             'blue_win_extra_info_dota2_compat_lol_validation_data.tfrecords')"
   ]
  },
  {
   "cell_type": "markdown",
   "metadata": {
    "heading_collapsed": true
   },
   "source": [
    "#### Linear test cases (both hero only and extra_info)"
   ]
  },
  {
   "cell_type": "code",
   "execution_count": 12,
   "metadata": {
    "ExecuteTime": {
     "end_time": "2020-03-14T23:26:10.368136Z",
     "start_time": "2020-03-14T23:17:02.427504Z"
    },
    "hidden": true,
    "scrolled": true
   },
   "outputs": [
    {
     "name": "stdout",
     "output_type": "stream",
     "text": [
      "WARNING:tensorflow:From /Users/bailey/anaconda3/lib/python3.7/site-packages/tensorflow_core/python/ops/resource_variable_ops.py:1786: calling BaseResourceVariable.__init__ (from tensorflow.python.ops.resource_variable_ops) with constraint is deprecated and will be removed in a future version.\n",
      "Instructions for updating:\n",
      "If using Keras pass *_constraint arguments to layers.\n",
      "INFO:tensorflow:Assets written to: ../../../tmp_log_dir/lol_20200314-161703/saved_model/assets\n"
     ]
    },
    {
     "data": {
      "image/png": "[encoded data removed]",
      "text/plain": [
       "<Figure size 345.6x216 with 1 Axes>"
      ]
     },
     "metadata": {},
     "output_type": "display_data"
    }
   ],
   "source": [
    "optimizer = tf.keras.optimizers.Adam(learning_rate=0.002)\n",
    "history = train_model(\n",
    "            optimizer,\n",
    "            model_type='linear_hero_only',\n",
    "            vocab_len=len(champ_vocab),\n",
    "            embedding_dims=2,\n",
    "            batch_size=500, \n",
    "            epochs=50, \n",
    "            training_path=training_file_novocab, \n",
    "            validation_path=validation_file_novocab,\n",
    "            compression_type='GZIP')"
   ]
  },
  {
   "cell_type": "code",
   "execution_count": 14,
   "metadata": {
    "ExecuteTime": {
     "end_time": "2020-03-14T23:53:22.979303Z",
     "start_time": "2020-03-14T23:45:32.888158Z"
    },
    "code_folding": [],
    "hidden": true,
    "scrolled": false
   },
   "outputs": [
    {
     "name": "stdout",
     "output_type": "stream",
     "text": [
      "INFO:tensorflow:Assets written to: ../../../tmp_log_dir/lol_20200314-164534/saved_model/assets\n"
     ]
    },
    {
     "data": {
      "image/png": "[encoded data removed]",
      "text/plain": [
       "<Figure size 345.6x216 with 1 Axes>"
      ]
     },
     "metadata": {},
     "output_type": "display_data"
    }
   ],
   "source": [
    "optimizer = tf.keras.optimizers.Adam(learning_rate=0.004)\n",
    "history = train_model(\n",
    "            optimizer,\n",
    "            model_type='linear_extra_info',\n",
    "            vocab_len=len(champ_vocab),\n",
    "            embedding_dims=[3,3,3,3],#hero,info,tags,stats\n",
    "            batch_size=500, \n",
    "            epochs=40, \n",
    "            training_path=training_file_novocab, \n",
    "            validation_path=validation_file_novocab,\n",
    "            compression_type='GZIP')"
   ]
  },
  {
   "cell_type": "code",
   "execution_count": 15,
   "metadata": {
    "ExecuteTime": {
     "end_time": "2020-03-15T00:04:11.442306Z",
     "start_time": "2020-03-14T23:54:45.304747Z"
    },
    "hidden": true
   },
   "outputs": [
    {
     "name": "stdout",
     "output_type": "stream",
     "text": [
      "INFO:tensorflow:Assets written to: ../../../tmp_log_dir/lol_20200314-165446/saved_model/assets\n"
     ]
    },
    {
     "data": {
      "image/png": "[encoded data removed]",
      "text/plain": [
       "<Figure size 345.6x216 with 1 Axes>"
      ]
     },
     "metadata": {},
     "output_type": "display_data"
    }
   ],
   "source": [
    "optimizer = tf.keras.optimizers.Adam(learning_rate=0.003)\n",
    "history = train_model(\n",
    "            optimizer,\n",
    "            model_type='linear_extra_info',\n",
    "            vocab_len=len(champ_vocab),\n",
    "            embedding_dims=[4,4,4,4],#hero,info,tags,stats\n",
    "            batch_size=500, \n",
    "            epochs=50, \n",
    "            training_path=training_file_novocab, \n",
    "            validation_path=validation_file_novocab,\n",
    "            compression_type='GZIP')"
   ]
  },
  {
   "cell_type": "markdown",
   "metadata": {},
   "source": [
    "#### DNN models"
   ]
  },
  {
   "cell_type": "code",
   "execution_count": 57,
   "metadata": {
    "ExecuteTime": {
     "end_time": "2020-03-15T03:44:42.177468Z",
     "start_time": "2020-03-15T03:08:21.058714Z"
    }
   },
   "outputs": [
    {
     "name": "stdout",
     "output_type": "stream",
     "text": [
      "INFO:tensorflow:Assets written to: ../../../tmp_log_dir/lol_20200314-200821/saved_model/assets\n"
     ]
    },
    {
     "data": {
      "image/png": "[encoded data removed]",
      "text/plain": [
       "<Figure size 345.6x216 with 1 Axes>"
      ]
     },
     "metadata": {},
     "output_type": "display_data"
    }
   ],
   "source": [
    "optimizer = tf.keras.optimizers.Adam(learning_rate=0.001)\n",
    "history = train_model(\n",
    "            optimizer,\n",
    "            model_type='dnn_hero_only',\n",
    "            vocab_len=len(champ_vocab),\n",
    "            embedding_dims=4,#hero\n",
    "            batch_size=500, \n",
    "            epochs=200, \n",
    "            training_path=training_file_novocab, \n",
    "            validation_path=validation_file_novocab,\n",
    "            compression_type='GZIP',\n",
    "            hidden_units_heroes=[4,4],\n",
    "            hidden_units_out=[8,4,4])"
   ]
  },
  {
   "cell_type": "code",
   "execution_count": 71,
   "metadata": {
    "ExecuteTime": {
     "end_time": "2020-03-16T03:23:16.533911Z",
     "start_time": "2020-03-16T01:16:53.384114Z"
    }
   },
   "outputs": [
    {
     "name": "stdout",
     "output_type": "stream",
     "text": [
      "INFO:tensorflow:Assets written to: ../../../tmp_log_dir/lol_20200315-181656/saved_model/assets\n"
     ]
    },
    {
     "data": {
      "image/png": "[encoded data removed]",
      "text/plain": [
       "<Figure size 345.6x216 with 1 Axes>"
      ]
     },
     "metadata": {},
     "output_type": "display_data"
    }
   ],
   "source": [
    "optimizer = tf.keras.optimizers.Adam(learning_rate=0.001,amsgrad=True)\n",
    "history = train_model(\n",
    "            optimizer,\n",
    "            model_type='dnn_info_tags',\n",
    "            vocab_len=len(champ_vocab),\n",
    "            embedding_dims=[3,3,3],#hero,info,tags\n",
    "            batch_size=500, \n",
    "            epochs=500, \n",
    "            training_path=training_file_novocab, \n",
    "            validation_path=validation_file_novocab,\n",
    "            compression_type='GZIP',\n",
    "            hidden_units_heroes=[8,4,4],\n",
    "            hidden_units_out=[8,4,4])"
   ]
  },
  {
   "cell_type": "code",
   "execution_count": null,
   "metadata": {},
   "outputs": [],
   "source": []
  }
 ],
 "metadata": {
  "kernelspec": {
   "display_name": "Python 3",
   "language": "python",
   "name": "python3"
  },
  "language_info": {
   "codemirror_mode": {
    "name": "ipython",
    "version": 3
   },
   "file_extension": ".py",
   "mimetype": "text/x-python",
   "name": "python",
   "nbconvert_exporter": "python",
   "pygments_lexer": "ipython3",
   "version": "3.7.3"
  },
  "notify_time": "30",
  "toc": {
   "base_numbering": 1,
   "nav_menu": {},
   "number_sections": true,
   "sideBar": true,
   "skip_h1_title": false,
   "title_cell": "Table of Contents",
   "title_sidebar": "Contents",
   "toc_cell": false,
   "toc_position": {},
   "toc_section_display": true,
   "toc_window_display": false
  }
 },
 "nbformat": 4,
 "nbformat_minor": 2
}
