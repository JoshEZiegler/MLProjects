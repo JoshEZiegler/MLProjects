{
 "cells": [
  {
   "cell_type": "code",
   "execution_count": 197,
   "metadata": {
    "ExecuteTime": {
     "end_time": "2020-03-07T07:04:53.091873Z",
     "start_time": "2020-03-07T07:04:53.084880Z"
    },
    "scrolled": true
   },
   "outputs": [
    {
     "name": "stdout",
     "output_type": "stream",
     "text": [
      "2.1.0\n"
     ]
    }
   ],
   "source": [
    "import seaborn as sns\n",
    "import pandas as pd\n",
    "import pylab as plt\n",
    "import numpy as np\n",
    "from steam import WebAPI\n",
    "from datetime import datetime\n",
    "import os\n",
    "import glob\n",
    "import json\n",
    "import tensorflow as tf\n",
    "import sys\n",
    "from IPython import display\n",
    "import requests\n",
    "import tensorflow.keras.backend as K\n",
    "from sklearn import decomposition\n",
    "\n",
    "#import logging\n",
    "#logging.getLogger(\"tensorflow\").setLevel(logging.ERROR)\n",
    "\n",
    "#from tensorflow.python.framework.ops import disable_eager_execution\n",
    "#disable_eager_execution()\n",
    "\n",
    "print(tf.__version__)"
   ]
  },
  {
   "cell_type": "code",
   "execution_count": 2,
   "metadata": {
    "ExecuteTime": {
     "end_time": "2020-03-07T02:04:15.582094Z",
     "start_time": "2020-03-07T02:04:15.578186Z"
    }
   },
   "outputs": [],
   "source": [
    "sns.set_style('ticks')"
   ]
  },
  {
   "cell_type": "code",
   "execution_count": 265,
   "metadata": {
    "ExecuteTime": {
     "end_time": "2020-03-07T23:04:46.014866Z",
     "start_time": "2020-03-07T23:04:45.999879Z"
    }
   },
   "outputs": [
    {
     "name": "stdout",
     "output_type": "stream",
     "text": [
      "144\n"
     ]
    }
   ],
   "source": [
    "champfile=os.path.join('lol_data','version9.10.1_champion.json')\n",
    "with open(champfile,'r') as fin:\n",
    "    champdata=json.load(fin)\n",
    "champ_vocab=[]\n",
    "for name,data in champdata['data'].items():\n",
    "    champ_vocab.append(data['key'])\n",
    "hero_vocab = [int(i) for i in champ_vocab]\n",
    "print(len(hero_vocab))"
   ]
  },
  {
   "cell_type": "markdown",
   "metadata": {},
   "source": [
    "# Modeling using a TFRecord dataformat"
   ]
  },
  {
   "cell_type": "markdown",
   "metadata": {},
   "source": [
    "## Build TFRecord input pipeline"
   ]
  },
  {
   "cell_type": "code",
   "execution_count": 324,
   "metadata": {
    "ExecuteTime": {
     "end_time": "2020-03-08T04:59:44.625823Z",
     "start_time": "2020-03-08T04:59:44.608081Z"
    },
    "code_folding": []
   },
   "outputs": [],
   "source": [
    "def _parse_function_extra_info(example_proto):\n",
    "    \"\"\"Extracts features and labels.\n",
    "  \n",
    "    Args:\n",
    "        example_proto: tf.Example protocol (unsure what this is)    \n",
    "      Returns:\n",
    "    A `tuple` `(labels, features)`:\n",
    "      features: A dict of tensors representing the features\n",
    "      labels: A tensor with the corresponding labels.\n",
    "    \"\"\"\n",
    "    features = {}\n",
    "    \n",
    "    #loop through five times to capture each hero on each team\n",
    "    for i in range(5):\n",
    "        #64 bit int for hero\n",
    "        features[\"radiant_hero\"+str(i)]=tf.io.FixedLenFeature(1, dtype=tf.int64)\n",
    "        #there are 4 pieces of info for a hero in LOL\n",
    "        features[\"radiant_hero_info\"+str(i)]=tf.io.FixedLenFeature(4, dtype=tf.float32) \n",
    "        #there are 6 possible tags for a hero in LOL\n",
    "        features[\"radiant_hero_tags\"+str(i)] =tf.io.FixedLenFeature(6, dtype=tf.int64) \n",
    "        #there are 14 stats after removing mana and crit(broken) in LOL\n",
    "        features[\"radiant_hero_stats\"+str(i)] =tf.io.FixedLenFeature(14, dtype=tf.float32) \n",
    "        \n",
    "        features[\"dire_hero\"+str(i)] =tf.io.FixedLenFeature(1, dtype=tf.int64) \n",
    "        features[\"dire_hero_info\"+str(i)] =tf.io.FixedLenFeature(4, dtype=tf.float32) \n",
    "        features[\"dire_hero_tags\"+str(i)] =tf.io.FixedLenFeature(6, dtype=tf.int64) \n",
    "        features[\"dire_hero_stats\"+str(i)] =tf.io.FixedLenFeature(14, dtype=tf.float32) \n",
    " \n",
    "    features[\"skill_level\"] = tf.io.FixedLenFeature(2, dtype=tf.int64)\n",
    "    features[\"targets\"] = tf.io.FixedLenFeature(1, dtype=tf.int64)\n",
    "                \n",
    "    parsed_features = tf.io.parse_single_example(example_proto, features)\n",
    "    num_heroes=len(hero_vocab)\n",
    "    hero_dict={}\n",
    "    for i in range(5):\n",
    "        hero_dict['radiant_hero'+str(i)]=tf.one_hot(parsed_features['radiant_hero'+str(i)],\n",
    "                                                    num_heroes)\n",
    "        hero_dict['radiant_hero_info'+str(i)]=parsed_features['radiant_hero_info'+str(i)]\n",
    "        hero_dict['radiant_hero_tags'+str(i)]=parsed_features['radiant_hero_tags'+str(i)]\n",
    "        hero_dict['radiant_hero_stats'+str(i)]=parsed_features['radiant_hero_stats'+str(i)]\n",
    "        hero_dict['dire_hero'+str(i)]=tf.one_hot(parsed_features['dire_hero'+str(i)],\n",
    "                                                 num_heroes)\n",
    "        hero_dict['dire_hero_info'+str(i)]=parsed_features['dire_hero_info'+str(i)]\n",
    "        hero_dict['dire_hero_tags'+str(i)]=parsed_features['dire_hero_tags'+str(i)]\n",
    "        hero_dict['dire_hero_stats'+str(i)]=parsed_features['dire_hero_stats'+str(i)]\n",
    "\n",
    "    hero_dict['skill_level']= parsed_features['skill_level']\n",
    "    target = parsed_features['targets']\n",
    "    \n",
    "    return hero_dict, target"
   ]
  },
  {
   "cell_type": "markdown",
   "metadata": {},
   "source": [
    "#### Check the parse function worked"
   ]
  },
  {
   "cell_type": "code",
   "execution_count": 329,
   "metadata": {
    "ExecuteTime": {
     "end_time": "2020-03-08T05:11:00.603916Z",
     "start_time": "2020-03-08T05:11:00.518965Z"
    },
    "scrolled": true
   },
   "outputs": [],
   "source": [
    "# Create the Dataset object.\n",
    "ds = tf.data.TFRecordDataset(os.path.join('LOL_data',\n",
    "                                          'mix_tier',\n",
    "                                          'lol_training_data',\n",
    "                                          'blue_win_extra_info_dota2_compat_lol_training_data.tfrecords'),\n",
    "                                          compression_type=\"GZIP\")\n",
    "# Map features and labels with the parse function.\n",
    "ds = ds.map(_parse_function_extra_info)"
   ]
  },
  {
   "cell_type": "code",
   "execution_count": 330,
   "metadata": {
    "ExecuteTime": {
     "end_time": "2020-03-08T05:11:02.401404Z",
     "start_time": "2020-03-08T05:11:00.766900Z"
    },
    "scrolled": true
   },
   "outputs": [
    {
     "name": "stdout",
     "output_type": "stream",
     "text": [
      "({'radiant_hero0': <tf.Tensor: shape=(1, 144), dtype=float32, numpy=\n",
      "array([[0., 0., 0., 0., 0., 0., 0., 0., 0., 0., 0., 0., 0., 0., 0., 0.,\n",
      "        0., 0., 0., 0., 0., 0., 0., 0., 0., 0., 0., 0., 0., 0., 0., 0.,\n",
      "        0., 0., 0., 0., 0., 0., 0., 0., 0., 0., 0., 0., 0., 0., 0., 0.,\n",
      "        0., 0., 0., 0., 0., 0., 0., 0., 0., 0., 0., 0., 0., 0., 0., 0.,\n",
      "        0., 0., 0., 0., 0., 0., 0., 0., 0., 0., 0., 0., 0., 0., 0., 0.,\n",
      "        0., 0., 0., 0., 0., 0., 0., 0., 0., 0., 0., 0., 0., 0., 0., 0.,\n",
      "        0., 0., 0., 0., 0., 0., 0., 0., 0., 0., 0., 0., 0., 0., 0., 0.,\n",
      "        0., 0., 0., 0., 0., 0., 0., 0., 0., 0., 0., 0., 0., 0., 1., 0.,\n",
      "        0., 0., 0., 0., 0., 0., 0., 0., 0., 0., 0., 0., 0., 0., 0., 0.]],\n",
      "      dtype=float32)>, 'radiant_hero_info0': <tf.Tensor: shape=(4,), dtype=float32, numpy=array([-0.17904705, -0.84542817,  0.5744302 ,  1.1143454 ], dtype=float32)>, 'radiant_hero_tags0': <tf.Tensor: shape=(6,), dtype=int64, numpy=array([1, 1, 0, 0, 0, 0])>, 'radiant_hero_stats0': <tf.Tensor: shape=(14,), dtype=float32, numpy=\n",
      "array([ 0.8171836 , -0.5028035 ,  0.46832958,  0.29334182, -1.0195627 ,\n",
      "        0.60226154,  0.9421065 , -1.0051228 ,  1.4046011 ,  1.4832596 ,\n",
      "       -0.22283052, -0.42359763,  1.0341793 ,  1.1077322 ], dtype=float32)>, 'dire_hero0': <tf.Tensor: shape=(1, 144), dtype=float32, numpy=\n",
      "array([[0., 0., 0., 0., 0., 0., 0., 0., 0., 0., 0., 0., 0., 0., 0., 0.,\n",
      "        0., 0., 0., 0., 0., 0., 0., 0., 0., 0., 0., 0., 0., 0., 0., 0.,\n",
      "        0., 0., 0., 0., 0., 0., 0., 0., 0., 0., 0., 0., 0., 0., 0., 0.,\n",
      "        0., 0., 0., 0., 0., 0., 0., 0., 0., 0., 0., 0., 0., 0., 0., 0.,\n",
      "        0., 0., 0., 0., 0., 0., 0., 0., 0., 0., 0., 0., 0., 0., 0., 0.,\n",
      "        0., 0., 0., 0., 0., 0., 0., 0., 0., 0., 0., 0., 0., 0., 0., 0.,\n",
      "        0., 1., 0., 0., 0., 0., 0., 0., 0., 0., 0., 0., 0., 0., 0., 0.,\n",
      "        0., 0., 0., 0., 0., 0., 0., 0., 0., 0., 0., 0., 0., 0., 0., 0.,\n",
      "        0., 0., 0., 0., 0., 0., 0., 0., 0., 0., 0., 0., 0., 0., 0., 0.]],\n",
      "      dtype=float32)>, 'dire_hero_info0': <tf.Tensor: shape=(4,), dtype=float32, numpy=array([-0.5421847 ,  0.12077545,  0.5744302 , -0.34886804], dtype=float32)>, 'dire_hero_tags0': <tf.Tensor: shape=(6,), dtype=int64, numpy=array([0, 0, 1, 0, 1, 0])>, 'dire_hero_stats0': <tf.Tensor: shape=(14,), dtype=float32, numpy=\n",
      "array([-0.7476222 , -2.150896  , -0.8361087 , -0.2700891 ,  0.46558067,\n",
      "       -0.75920886, -1.0451494 ,  1.1661979 , -0.3453273 , -0.37135154,\n",
      "       -2.159265  , -1.0910345 , -0.25851277, -0.64119685], dtype=float32)>, 'radiant_hero1': <tf.Tensor: shape=(1, 144), dtype=float32, numpy=\n",
      "array([[0., 0., 0., 0., 0., 0., 0., 0., 0., 0., 0., 0., 0., 0., 1., 0.,\n",
      "        0., 0., 0., 0., 0., 0., 0., 0., 0., 0., 0., 0., 0., 0., 0., 0.,\n",
      "        0., 0., 0., 0., 0., 0., 0., 0., 0., 0., 0., 0., 0., 0., 0., 0.,\n",
      "        0., 0., 0., 0., 0., 0., 0., 0., 0., 0., 0., 0., 0., 0., 0., 0.,\n",
      "        0., 0., 0., 0., 0., 0., 0., 0., 0., 0., 0., 0., 0., 0., 0., 0.,\n",
      "        0., 0., 0., 0., 0., 0., 0., 0., 0., 0., 0., 0., 0., 0., 0., 0.,\n",
      "        0., 0., 0., 0., 0., 0., 0., 0., 0., 0., 0., 0., 0., 0., 0., 0.,\n",
      "        0., 0., 0., 0., 0., 0., 0., 0., 0., 0., 0., 0., 0., 0., 0., 0.,\n",
      "        0., 0., 0., 0., 0., 0., 0., 0., 0., 0., 0., 0., 0., 0., 0., 0.]],\n",
      "      dtype=float32)>, 'radiant_hero_info1': <tf.Tensor: shape=(4,), dtype=float32, numpy=array([ 1.2735037 , -0.84542817, -1.6313819 , -0.83660585], dtype=float32)>, 'radiant_hero_tags1': <tf.Tensor: shape=(6,), dtype=int64, numpy=array([0, 0, 0, 1, 0, 0])>, 'radiant_hero_stats1': <tf.Tensor: shape=(14,), dtype=float32, numpy=\n",
      "array([-0.5650615 , -0.0533237 , -0.18388957, -0.600993  , -0.48915437,\n",
      "       -0.75920886, -1.0451494 ,  0.91074836, -1.9494283 , -0.68045336,\n",
      "        0.27659377, -0.24005248, -1.0587507 , -0.64119685], dtype=float32)>, 'dire_hero1': <tf.Tensor: shape=(1, 144), dtype=float32, numpy=\n",
      "array([[0., 0., 0., 0., 0., 0., 0., 0., 0., 0., 0., 0., 0., 0., 0., 0.,\n",
      "        0., 0., 0., 0., 0., 0., 0., 0., 0., 0., 0., 0., 0., 0., 0., 0.,\n",
      "        0., 0., 0., 0., 0., 0., 0., 0., 0., 0., 0., 0., 0., 0., 0., 0.,\n",
      "        0., 0., 0., 0., 0., 0., 0., 0., 0., 0., 0., 0., 0., 0., 0., 0.,\n",
      "        0., 0., 0., 0., 0., 0., 0., 0., 0., 0., 0., 0., 0., 0., 0., 0.,\n",
      "        0., 0., 0., 0., 0., 0., 0., 0., 0., 0., 0., 0., 0., 0., 0., 0.,\n",
      "        0., 0., 0., 0., 0., 0., 0., 0., 0., 0., 0., 0., 0., 0., 0., 0.,\n",
      "        0., 0., 0., 0., 0., 0., 0., 0., 0., 0., 0., 0., 0., 0., 0., 0.,\n",
      "        0., 0., 0., 0., 0., 0., 0., 0., 0., 0., 0., 0., 0., 1., 0., 0.]],\n",
      "      dtype=float32)>, 'dire_hero_info1': <tf.Tensor: shape=(4,), dtype=float32, numpy=array([-0.9053224 , -0.36232635,  0.9420656 , -0.34886804], dtype=float32)>, 'dire_hero_tags1': <tf.Tensor: shape=(6,), dtype=int64, numpy=array([1, 0, 1, 0, 0, 0])>, 'dire_hero_stats1': <tf.Tensor: shape=(14,), dtype=float32, numpy=\n",
      "array([ 0.8171836 , -0.5028035 ,  0.46832958,  0.29334182, -1.0195627 ,\n",
      "        3.3932757 ,  0.9421065 , -0.7496733 ,  0.52963686,  2.1014633 ,\n",
      "       -0.22283052, -0.42359763,  1.2804064 , -0.08598129], dtype=float32)>, 'radiant_hero2': <tf.Tensor: shape=(1, 144), dtype=float32, numpy=\n",
      "array([[0., 0., 0., 0., 0., 0., 0., 0., 0., 0., 0., 0., 0., 0., 0., 0.,\n",
      "        0., 0., 0., 0., 0., 0., 0., 0., 0., 0., 0., 0., 0., 0., 0., 0.,\n",
      "        0., 0., 0., 0., 0., 0., 0., 0., 0., 0., 0., 0., 0., 0., 0., 0.,\n",
      "        0., 0., 0., 0., 0., 0., 0., 0., 0., 0., 0., 0., 0., 0., 0., 0.,\n",
      "        0., 0., 0., 0., 0., 0., 0., 0., 0., 0., 0., 0., 0., 0., 0., 0.,\n",
      "        0., 0., 0., 0., 0., 0., 0., 0., 0., 0., 0., 0., 0., 0., 0., 0.,\n",
      "        0., 0., 0., 0., 0., 0., 0., 0., 0., 0., 0., 0., 0., 0., 0., 0.,\n",
      "        0., 0., 0., 0., 0., 0., 1., 0., 0., 0., 0., 0., 0., 0., 0., 0.,\n",
      "        0., 0., 0., 0., 0., 0., 0., 0., 0., 0., 0., 0., 0., 0., 0., 0.]],\n",
      "      dtype=float32)>, 'radiant_hero_info2': <tf.Tensor: shape=(4,), dtype=float32, numpy=array([-0.9053224,  2.0531826, -0.5284758, -1.3243437], dtype=float32)>, 'radiant_hero_tags2': <tf.Tensor: shape=(6,), dtype=int64, numpy=array([0, 0, 0, 0, 1, 1])>, 'radiant_hero_stats2': <tf.Tensor: shape=(14,), dtype=float32, numpy=\n",
      "array([-0.35642076, -0.2031503 , -0.18388957,  2.5291789 ,  1.1020707 ,\n",
      "        0.67033505,  0.9421065 , -1.0051228 ,  0.8212916 ,  2.1014633 ,\n",
      "       -0.6596603 , -0.08987918,  1.2804064 , -0.11374208], dtype=float32)>, 'dire_hero2': <tf.Tensor: shape=(1, 144), dtype=float32, numpy=\n",
      "array([[0., 0., 0., 0., 0., 0., 0., 0., 0., 0., 0., 0., 0., 0., 0., 0.,\n",
      "        0., 0., 0., 0., 0., 0., 0., 0., 0., 0., 0., 0., 0., 0., 0., 0.,\n",
      "        0., 0., 0., 0., 0., 0., 0., 0., 0., 0., 0., 0., 0., 0., 0., 0.,\n",
      "        0., 0., 0., 0., 0., 0., 1., 0., 0., 0., 0., 0., 0., 0., 0., 0.,\n",
      "        0., 0., 0., 0., 0., 0., 0., 0., 0., 0., 0., 0., 0., 0., 0., 0.,\n",
      "        0., 0., 0., 0., 0., 0., 0., 0., 0., 0., 0., 0., 0., 0., 0., 0.,\n",
      "        0., 0., 0., 0., 0., 0., 0., 0., 0., 0., 0., 0., 0., 0., 0., 0.,\n",
      "        0., 0., 0., 0., 0., 0., 0., 0., 0., 0., 0., 0., 0., 0., 0., 0.,\n",
      "        0., 0., 0., 0., 0., 0., 0., 0., 0., 0., 0., 0., 0., 0., 0., 0.]],\n",
      "      dtype=float32)>, 'dire_hero_info2': <tf.Tensor: shape=(4,), dtype=float32, numpy=array([ 0.18409063,  1.5700809 , -0.89611113, -0.34886804], dtype=float32)>, 'dire_hero_tags2': <tf.Tensor: shape=(6,), dtype=int64, numpy=array([0, 1, 0, 0, 0, 1])>, 'dire_hero_stats2': <tf.Tensor: shape=(14,), dtype=float32, numpy=\n",
      "array([ 0.42598218,  0.2463295 ,  0.46832958,  0.5914534 ,  0.25341734,\n",
      "        0.67033505,  0.9421065 , -0.7496733 ,  0.8212916 ,  0.24685217,\n",
      "        0.7760181 ,  0.24383926,  0.04927106,  0.2749088 ], dtype=float32)>, 'radiant_hero3': <tf.Tensor: shape=(1, 144), dtype=float32, numpy=\n",
      "array([[0., 0., 0., 0., 0., 0., 0., 0., 0., 0., 0., 0., 0., 0., 0., 0.,\n",
      "        0., 0., 0., 0., 0., 0., 0., 0., 0., 0., 0., 0., 0., 0., 0., 0.,\n",
      "        0., 0., 0., 0., 0., 0., 0., 0., 0., 0., 0., 0., 0., 0., 0., 0.,\n",
      "        0., 0., 0., 0., 0., 0., 0., 0., 0., 0., 0., 0., 0., 0., 0., 0.,\n",
      "        0., 0., 0., 0., 0., 0., 0., 0., 0., 0., 0., 0., 0., 0., 0., 0.,\n",
      "        0., 0., 0., 0., 0., 0., 0., 0., 0., 0., 0., 0., 0., 0., 0., 0.,\n",
      "        0., 0., 0., 0., 1., 0., 0., 0., 0., 0., 0., 0., 0., 0., 0., 0.,\n",
      "        0., 0., 0., 0., 0., 0., 0., 0., 0., 0., 0., 0., 0., 0., 0., 0.,\n",
      "        0., 0., 0., 0., 0., 0., 0., 0., 0., 0., 0., 0., 0., 0., 0., 0.]],\n",
      "      dtype=float32)>, 'radiant_hero_info3': <tf.Tensor: shape=(4,), dtype=float32, numpy=array([ 1.2735037 , -0.36232635, -0.89611113,  0.13886979], dtype=float32)>, 'radiant_hero_tags3': <tf.Tensor: shape=(6,), dtype=int64, numpy=array([1, 0, 0, 0, 0, 0])>, 'radiant_hero_stats3': <tf.Tensor: shape=(14,), dtype=float32, numpy=\n",
      "array([ 0.49900645, -0.5028035 ,  1.7727678 ,  0.889565  , -1.0195627 ,\n",
      "        0.67033505,  0.9421065 , -1.0051228 ,  0.52963686,  0.55595404,\n",
      "        0.6095433 , -0.2567384 ,  0.2954981 ,  0.5525166 ], dtype=float32)>, 'dire_hero3': <tf.Tensor: shape=(1, 144), dtype=float32, numpy=\n",
      "array([[0., 0., 0., 0., 0., 0., 0., 0., 0., 0., 0., 0., 0., 0., 0., 0.,\n",
      "        0., 0., 0., 0., 0., 0., 0., 0., 0., 0., 0., 0., 0., 0., 0., 0.,\n",
      "        0., 0., 0., 0., 0., 0., 0., 0., 0., 0., 0., 0., 0., 0., 0., 0.,\n",
      "        0., 0., 0., 0., 0., 0., 0., 0., 0., 0., 0., 0., 0., 0., 0., 0.,\n",
      "        0., 0., 0., 0., 0., 0., 0., 0., 0., 0., 0., 0., 0., 0., 0., 0.,\n",
      "        0., 0., 0., 0., 0., 0., 0., 0., 0., 0., 0., 0., 0., 0., 0., 0.,\n",
      "        0., 0., 0., 0., 0., 0., 0., 0., 0., 0., 0., 0., 0., 0., 0., 0.,\n",
      "        0., 0., 0., 0., 0., 0., 0., 0., 0., 0., 0., 1., 0., 0., 0., 0.,\n",
      "        0., 0., 0., 0., 0., 0., 0., 0., 0., 0., 0., 0., 0., 0., 0., 0.]],\n",
      "      dtype=float32)>, 'dire_hero_info3': <tf.Tensor: shape=(4,), dtype=float32, numpy=array([ 0.910366  ,  0.12077545, -0.89611113,  0.13886979], dtype=float32)>, 'dire_hero_tags3': <tf.Tensor: shape=(6,), dtype=int64, numpy=array([0, 0, 0, 1, 0, 0])>, 'dire_hero_stats3': <tf.Tensor: shape=(14,), dtype=float32, numpy=\n",
      "array([ 0.45206228, -0.35297692, -0.18388957, -0.3028814 , -1.0195627 ,\n",
      "       -0.75920886, -1.0451494 ,  0.91074836, -1.6577736 , -0.06224968,\n",
      "        0.27659377, -0.8407457 ,  1.0341793 , -0.28030673], dtype=float32)>, 'radiant_hero4': <tf.Tensor: shape=(1, 144), dtype=float32, numpy=\n",
      "array([[0., 0., 0., 0., 0., 0., 0., 0., 0., 0., 0., 0., 0., 1., 0., 0.,\n",
      "        0., 0., 0., 0., 0., 0., 0., 0., 0., 0., 0., 0., 0., 0., 0., 0.,\n",
      "        0., 0., 0., 0., 0., 0., 0., 0., 0., 0., 0., 0., 0., 0., 0., 0.,\n",
      "        0., 0., 0., 0., 0., 0., 0., 0., 0., 0., 0., 0., 0., 0., 0., 0.,\n",
      "        0., 0., 0., 0., 0., 0., 0., 0., 0., 0., 0., 0., 0., 0., 0., 0.,\n",
      "        0., 0., 0., 0., 0., 0., 0., 0., 0., 0., 0., 0., 0., 0., 0., 0.,\n",
      "        0., 0., 0., 0., 0., 0., 0., 0., 0., 0., 0., 0., 0., 0., 0., 0.,\n",
      "        0., 0., 0., 0., 0., 0., 0., 0., 0., 0., 0., 0., 0., 0., 0., 0.,\n",
      "        0., 0., 0., 0., 0., 0., 0., 0., 0., 0., 0., 0., 0., 0., 0., 0.]],\n",
      "      dtype=float32)>, 'radiant_hero_info4': <tf.Tensor: shape=(4,), dtype=float32, numpy=array([-0.17904705,  2.0531826 , -0.89611113, -0.34886804], dtype=float32)>, 'radiant_hero_tags4': <tf.Tensor: shape=(6,), dtype=int64, numpy=array([0, 1, 0, 0, 0, 1])>, 'radiant_hero_stats4': <tf.Tensor: shape=(14,), dtype=float32, numpy=\n",
      "array([-0.28756928, -2.3007226 ,  1.1205487 ,  0.29334182, -1.0195627 ,\n",
      "        0.67033505,  0.9421065 , -0.7496733 ,  0.52963686,  0.86505586,\n",
      "        1.4419172 ,  1.2449945 , -1.4280913 ,  0.8578851 ], dtype=float32)>, 'dire_hero4': <tf.Tensor: shape=(1, 144), dtype=float32, numpy=\n",
      "array([[0., 0., 0., 0., 0., 0., 0., 0., 0., 0., 0., 0., 0., 0., 0., 0.,\n",
      "        0., 1., 0., 0., 0., 0., 0., 0., 0., 0., 0., 0., 0., 0., 0., 0.,\n",
      "        0., 0., 0., 0., 0., 0., 0., 0., 0., 0., 0., 0., 0., 0., 0., 0.,\n",
      "        0., 0., 0., 0., 0., 0., 0., 0., 0., 0., 0., 0., 0., 0., 0., 0.,\n",
      "        0., 0., 0., 0., 0., 0., 0., 0., 0., 0., 0., 0., 0., 0., 0., 0.,\n",
      "        0., 0., 0., 0., 0., 0., 0., 0., 0., 0., 0., 0., 0., 0., 0., 0.,\n",
      "        0., 0., 0., 0., 0., 0., 0., 0., 0., 0., 0., 0., 0., 0., 0., 0.,\n",
      "        0., 0., 0., 0., 0., 0., 0., 0., 0., 0., 0., 0., 0., 0., 0., 0.,\n",
      "        0., 0., 0., 0., 0., 0., 0., 0., 0., 0., 0., 0., 0., 0., 0., 0.]],\n",
      "      dtype=float32)>, 'dire_hero_info4': <tf.Tensor: shape=(4,), dtype=float32, numpy=array([ 1.2735037 , -0.84542817, -0.16084047, -0.83660585], dtype=float32)>, 'dire_hero_tags4': <tf.Tensor: shape=(6,), dtype=int64, numpy=array([1, 0, 0, 1, 0, 0])>, 'dire_hero_stats4': <tf.Tensor: shape=(14,), dtype=float32, numpy=\n",
      "array([ 0.1391011 , -0.0533237 , -1.4883279 , -0.600993  , -1.0195627 ,\n",
      "       -0.75920886, -1.0451494 ,  1.0384731 , -1.6577736 , -0.06224968,\n",
      "        0.27659377, -0.24005248, -1.1818643 ,  0.21938726], dtype=float32)>, 'skill_level': <tf.Tensor: shape=(2,), dtype=int64, numpy=array([1, 0])>}, <tf.Tensor: shape=(1,), dtype=int64, numpy=array([0])>)\n"
     ]
    }
   ],
   "source": [
    "ds = ds.shuffle(10000)\n",
    "print(next(iter(ds)))"
   ]
  },
  {
   "cell_type": "markdown",
   "metadata": {
    "heading_collapsed": true
   },
   "source": [
    "### Input functions"
   ]
  },
  {
   "cell_type": "code",
   "execution_count": 256,
   "metadata": {
    "ExecuteTime": {
     "end_time": "2020-03-07T23:00:26.270952Z",
     "start_time": "2020-03-07T23:00:26.264600Z"
    },
    "code_folding": [],
    "hidden": true
   },
   "outputs": [],
   "source": [
    "# Create an input_fn that parses the tf.Examples from the given files,\n",
    "# and split them into features and targets.\n",
    "def _input_fn_extra_info(input_filenames, num_epochs=None, \n",
    "              shuffle=True, batch_size=50,compression_type=\"\"):\n",
    "   \n",
    "   # Same code as above; create a dataset and map features and labels.\n",
    "    ds = tf.data.TFRecordDataset(input_filenames,compression_type=compression_type)\n",
    "    ds = ds.map(_parse_function_extra_info)\n",
    "\n",
    "    if shuffle:\n",
    "        ds = ds.shuffle(10000)\n",
    "    ds = ds.batch(batch_size)\n",
    "    ds = ds.repeat()\n",
    "    \n",
    "    # Return the dataset.\n",
    "    return ds"
   ]
  },
  {
   "cell_type": "markdown",
   "metadata": {},
   "source": [
    "## Define and train the linear model"
   ]
  },
  {
   "cell_type": "markdown",
   "metadata": {},
   "source": [
    "### various iterations of linear models"
   ]
  },
  {
   "cell_type": "code",
   "execution_count": 359,
   "metadata": {
    "ExecuteTime": {
     "end_time": "2020-03-09T01:27:19.153187Z",
     "start_time": "2020-03-09T01:27:19.139120Z"
    },
    "code_folding": [
     1
    ]
   },
   "outputs": [],
   "source": [
    "#define the linear model with no feature columns\n",
    "def define_linear_model_hero_only(vocab_len,\n",
    "                                   embedding_dims):\n",
    "    '''Function to define simple keras linear model\n",
    "    \n",
    "    Args: \n",
    "        vocab_len: An `int` specifying the number of category of the categorical input\n",
    "        embedding_dims: An `int` specifying the number of dimensions in the embedding layer\n",
    "    Returns:\n",
    "        model: A uncompiled `tf.keras.model`\n",
    "    '''\n",
    "    \n",
    "    ##define hero processing layers\n",
    "    #embed hero with dense because shared embedding layers are broken\n",
    "    dense_hero = tf.keras.layers.Dense(embedding_dims,activation='linear')\n",
    "    #process tags into num of values specified by dense outputs value\n",
    "    dense_hero_tags = tf.keras.layers.Dense(1,activation='linear')\n",
    "    #process info into num of values specified by dense outputs value\n",
    "    dense_hero_info = tf.keras.layers.Dense(1,activation='linear')\n",
    "    ##process hero embed, dense_tags, and dense_info output into some num of outputs\n",
    "    #dense_hero_overall = tf.keras.Dense(embedding_dims+2,activation='linear')\n",
    "    \n",
    "    hero_input=[]\n",
    "    rad_hero_output=[]\n",
    "    dire_hero_output=[]\n",
    "    #process all heroes in same way\n",
    "    for i in range(5):\n",
    "        #add radiant hero to hero_input list and process with\n",
    "        #    embed_hero layer\n",
    "        hero_input.append(tf.keras.Input(shape=(1,len(hero_vocab),),\n",
    "                                         name='radiant_hero'+str(i)))\n",
    "        x_rh = dense_hero(hero_input[-1])        \n",
    "        x_rh = tf.keras.layers.Flatten()(x_rh)\n",
    "        #append radiant outputs for summing\n",
    "        rad_hero_output.append(x_rh)\n",
    "        \n",
    "        #add dire hero to hero_input list and process with\n",
    "        #    embed_hero layer\n",
    "        hero_input.append(tf.keras.Input(shape=(1,len(hero_vocab),),\n",
    "                                         name='dire_hero'+str(i)))\n",
    "        x_dh = dense_hero(hero_input[-1])\n",
    "        x_dh = tf.keras.layers.Flatten()(x_dh)\n",
    "        #append dire outputs for summing\n",
    "        dire_hero_output.append(x_dh)\n",
    "    #sum hero outputs to erase ordering information and get ave team vector\n",
    "    rad_hero_sum = tf.keras.layers.Add()(rad_hero_output)\n",
    "    dire_hero_sum = tf.keras.layers.Add()(dire_hero_output)\n",
    "    \n",
    "    #define skill input layer\n",
    "    skill = tf.keras.Input(shape=(2,),name='skill_level')\n",
    "    \n",
    "    # Add a dnn layer to map the average of the embedded vectors of each team\n",
    "    #   to a single vector for each team\n",
    "    x = tf.keras.layers.concatenate([rad_hero_sum,dire_hero_sum,skill])\n",
    "    \n",
    "    #Adds output layer with sigmoid activation for prediction\n",
    "    win_predict = tf.keras.layers.Dense(1,activation='sigmoid')(x)\n",
    "    model = tf.keras.Model(inputs=[hero_input,skill],\n",
    "                           outputs=win_predict,name=\"radiant_win\")\n",
    "    #tf.keras.utils.plot_model(model, show_shapes=False)\n",
    "    #model.summary()\n",
    "    return model"
   ]
  },
  {
   "cell_type": "code",
   "execution_count": 360,
   "metadata": {
    "ExecuteTime": {
     "end_time": "2020-03-09T01:27:27.068902Z",
     "start_time": "2020-03-09T01:27:27.041291Z"
    },
    "code_folding": [
     1
    ]
   },
   "outputs": [],
   "source": [
    "#define the linear model with no feature columns\n",
    "def define_linear_model_extra_info(vocab_len,\n",
    "                                   embedding_dims):\n",
    "    '''Function to define simple keras linear model\n",
    "    \n",
    "    Args: \n",
    "        vocab_len: An `int` specifying the number of category of the categorical input\n",
    "        embedding_dims: An `int` specifying the number of dimensions in the embedding layer\n",
    "    Returns:\n",
    "        model: A uncompiled `tf.keras.model`\n",
    "    '''\n",
    "    \n",
    "    ##DEFINE HERO PROCESSING LAYERS\n",
    "    #embed hero with dense because shared embedding layers are broken\n",
    "    dense_hero = tf.keras.layers.Dense(embedding_dims,activation='linear')\n",
    "    #process info into num of values specified by dense outputs value\n",
    "    dense_hero_info = tf.keras.layers.Dense(4,activation='linear')\n",
    "    #process tags into num of values specified by dense outputs value\n",
    "    dense_hero_tags = tf.keras.layers.Dense(4,activation='linear')\n",
    "    #process stats into num of values specified by dense outputs value\n",
    "    dense_hero_stats = tf.keras.layers.Dense(4,activation='linear')\n",
    "\n",
    "    #process hero embed, dense_tags, and dense_info output into some num of outputs\n",
    "    dense_hero_total = tf.keras.layers.Dense(embedding_dims+4,activation='linear')\n",
    "    \n",
    "    hero_input=[]\n",
    "    rad_hero_output=[]\n",
    "    dire_hero_output=[]\n",
    "    #process all heroes in same way\n",
    "    for i in range(5):\n",
    "        #add radiant hero to hero_input list and process with\n",
    "        #    embed_hero layer\n",
    "        hero_input.append(tf.keras.Input(shape=(1,len(hero_vocab),),\n",
    "                                         name='radiant_hero'+str(i)))\n",
    "        x_rh = dense_hero(hero_input[-1])        \n",
    "        x_rh = tf.keras.layers.Flatten()(x_rh)\n",
    "        #add radiant hero info to hero_input list and process with\n",
    "        #    dense_info layer\n",
    "        hero_input.append(tf.keras.Input(shape=(4,), #4 info types\n",
    "                                         name='radiant_hero_info'+str(i)))\n",
    "        x_rhi = dense_hero_info(hero_input[-1])\n",
    "        #add radiant hero tags to hero_input list and process with\n",
    "        #    dense_tags layer\n",
    "        hero_input.append(tf.keras.Input(shape=(6,), #6 tag types\n",
    "                                         name='radiant_hero_tags'+str(i)))\n",
    "        x_rht = dense_hero_tags(hero_input[-1])        \n",
    "        #add radiant hero stats to hero_input list and process with\n",
    "        #    dense_stats layer\n",
    "        hero_input.append(tf.keras.Input(shape=(14,), #14 stat types\n",
    "                                         name='radiant_hero_stats'+str(i)))\n",
    "        x_rhs = dense_hero_stats(hero_input[-1])\n",
    "        #append output of hero layers to rad_out_layer for summing later\n",
    "        x_rhtot = tf.keras.layers.concatenate([x_rh,x_rhi,x_rht,x_rhs])\n",
    "        rad_hero_output.append(dense_hero_total(x_rhtot))\n",
    "        #add dire hero to hero_input list and process with\n",
    "        #    embed_hero layer\n",
    "        hero_input.append(tf.keras.Input(shape=(1,len(hero_vocab),),\n",
    "                                         name='dire_hero'+str(i)))\n",
    "        x_dh = dense_hero(hero_input[-1])\n",
    "        x_dh = tf.keras.layers.Flatten()(x_dh)\n",
    "        #add dire hero info to hero_input list and process with\n",
    "        #    dense_info layer       \n",
    "        hero_input.append(tf.keras.Input(shape=(4,),#4 info types\n",
    "                                         name='dire_hero_info'+str(i)))\n",
    "        x_dhi = dense_hero_info(hero_input[-1])\n",
    "        #add dire hero tags to hero_input list and process with\n",
    "        #    dense_tags layer\n",
    "        hero_input.append(tf.keras.Input(shape=(6,),#6 tag types\n",
    "                                         name='dire_hero_tags'+str(i)))\n",
    "        x_dht = dense_hero_tags(hero_input[-1])\n",
    "        #add dire hero stats to hero_input list and process with\n",
    "        #    dense_stats layer\n",
    "        hero_input.append(tf.keras.Input(shape=(14,), #14 stat types\n",
    "                                         name='dire_hero_stats'+str(i)))\n",
    "        x_dhs = dense_hero_stats(hero_input[-1])\n",
    "        #append output of hero layers to dire_out layer for summing later\n",
    "        x_dhtot = tf.keras.layers.concatenate([x_dh,x_dhi,x_dht,x_dhs])\n",
    "        dire_hero_output.append(dense_hero_total(x_dhtot))\n",
    "    #sum hero outputs to erase ordering information and get ave team vector\n",
    "    rad_hero_sum = tf.keras.layers.Add()(rad_hero_output)\n",
    "    dire_hero_sum = tf.keras.layers.Add()(dire_hero_output)    \n",
    "    \n",
    "    #define skill input layer\n",
    "    skill = tf.keras.Input(shape=(2,),name='skill_level')\n",
    "    \n",
    "    # Add a linear layer to map the average of the embedded vectors of each team\n",
    "    #   to a single vector for each team\n",
    "    x = tf.keras.layers.concatenate([rad_hero_sum,dire_hero_sum,skill])\n",
    "    \n",
    "    #Adds output layer with sigmoid activation for prediction\n",
    "    win_predict = tf.keras.layers.Dense(1,activation='sigmoid')(x)\n",
    "    model = tf.keras.Model(inputs=[hero_input,skill],\n",
    "                           outputs=win_predict,name=\"radiant_win\")\n",
    "    tf.keras.utils.plot_model(model, show_shapes=True)\n",
    "    #model.summary()\n",
    "    return model"
   ]
  },
  {
   "cell_type": "code",
   "execution_count": 411,
   "metadata": {
    "ExecuteTime": {
     "end_time": "2020-03-10T21:41:03.987788Z",
     "start_time": "2020-03-10T21:41:03.956315Z"
    }
   },
   "outputs": [],
   "source": [
    "#define the linear model with no feature columns\n",
    "def define_dnn_model_info_tags(vocab_len,\n",
    "                                embedding_dims,\n",
    "                                hidden_units_heroes,\n",
    "                                hidden_units_out):\n",
    "    '''Function to define simple keras linear model\n",
    "    \n",
    "    Args: \n",
    "        vocab_len: An `int` specifying the number of category of the \n",
    "            categorical input\n",
    "        embedding_dims: An `int` specifying the number of dimensions in \n",
    "            the embedding layer\n",
    "        hidden_units_heroes: A `list` specifying size and number of hidden \n",
    "            units in hero input layer\n",
    "        hidden_units_heroes: A `list` specifying size and number of hidden \n",
    "            units in output layer\n",
    "    Returns: \n",
    "        model: A uncompiled `tf.keras.model`\n",
    "    '''\n",
    "    \n",
    "    ##DEFINE HERO PROCESSING LAYERS\n",
    "    #embed hero with dense because shared embedding layers are broken\n",
    "    dense_hero = tf.keras.layers.Dense(embedding_dims,activation='linear')\n",
    "    #process info into num of values specified by dense outputs value\n",
    "    dense_hero_info = tf.keras.layers.Dense(2,activation='linear')\n",
    "    #process tags into num of values specified by dense outputs value\n",
    "    dense_hero_tags = tf.keras.layers.Dense(4,activation='linear')\n",
    "    #process hero embed, dense_tags, and dense_info output into some num of outputs\n",
    "    dense_hero_out_list = []\n",
    "    for unit in hidden_units_heroes:\n",
    "        dense_hero_out_list.append(tf.keras.layers.Dense(unit,\n",
    "                                                         activation='relu'))\n",
    "    \n",
    "    hero_input=[]\n",
    "    rad_hero_output=[]\n",
    "    dire_hero_output=[]\n",
    "    #process all heroes in same way\n",
    "    for i in range(5):\n",
    "        #add radiant hero to hero_input list and process with\n",
    "        #    embed_hero layer\n",
    "        hero_input.append(tf.keras.Input(shape=(1,vocab_len,),\n",
    "                                         name='radiant_hero'+str(i)))\n",
    "        x_rh = dense_hero(hero_input[-1])        \n",
    "        x_rh = tf.keras.layers.Flatten()(x_rh)\n",
    "        #add radiant hero info to hero_input list and process with\n",
    "        #    dense_info layer\n",
    "        hero_input.append(tf.keras.Input(shape=(4,), #4 info types\n",
    "                                         name='radiant_hero_info'+str(i)))\n",
    "        x_rhi = dense_hero_info(hero_input[-1])\n",
    "        #add radiant hero tags to hero_input list and process with\n",
    "        #    dense_tags layer\n",
    "        hero_input.append(tf.keras.Input(shape=(6,), #6 tag types\n",
    "                                         name='radiant_hero_tags'+str(i)))\n",
    "        x_rht = dense_hero_tags(hero_input[-1])        \n",
    "        #append output of hero layers to rad_out_layer for summing later\n",
    "        x_rhtot = tf.keras.layers.concatenate([x_rh,x_rhi,x_rht])\n",
    "        #put total hero info into hidden layers\n",
    "        for layer in dense_hero_out_list:\n",
    "            x_rhtot=layer(x_rhtot)\n",
    "        #append to rad_hero_output list\n",
    "        rad_hero_output.append(x_rhtot)\n",
    "        \n",
    "        #add dire hero to hero_input list and process with\n",
    "        #    embed_hero layer\n",
    "        hero_input.append(tf.keras.Input(shape=(1,vocab_len,),\n",
    "                                         name='dire_hero'+str(i)))\n",
    "        x_dh = dense_hero(hero_input[-1])\n",
    "        x_dh = tf.keras.layers.Flatten()(x_dh)\n",
    "        #add dire hero info to hero_input list and process with\n",
    "        #    dense_info layer       \n",
    "        hero_input.append(tf.keras.Input(shape=(4,),#4 info types\n",
    "                                         name='dire_hero_info'+str(i)))\n",
    "        x_dhi = dense_hero_info(hero_input[-1])\n",
    "        #add dire hero tags to hero_input list and process with\n",
    "        #    dense_tags layer\n",
    "        hero_input.append(tf.keras.Input(shape=(6,),#6 tag types\n",
    "                                         name='dire_hero_tags'+str(i)))\n",
    "        x_dht = dense_hero_tags(hero_input[-1])\n",
    "        #append output of hero layers to dire_out layer for summing later\n",
    "        x_dhtot = tf.keras.layers.concatenate([x_dh,x_dhi,x_dht])\n",
    "        #put total hero info into hidden layers\n",
    "        for layer in dense_hero_out_list:\n",
    "            x_dhtot=layer(x_dhtot)\n",
    "        dire_hero_output.append(x_dhtot)\n",
    "    \n",
    "    #sum hero outputs to erase ordering information and get ave team vector\n",
    "    rad_hero_sum = tf.keras.layers.Add()(rad_hero_output)\n",
    "    dire_hero_sum = tf.keras.layers.Add()(dire_hero_output)    \n",
    "    \n",
    "    #define skill input layer\n",
    "    skill = tf.keras.Input(shape=(2,),name='skill_level')\n",
    "    \n",
    "    # Add a dnn layer to map the average of the embedded vectors of each team\n",
    "    #   to a single vector for each team\n",
    "    x = tf.keras.layers.concatenate([rad_hero_sum,dire_hero_sum,skill])\n",
    "    for unit in hidden_units_out:\n",
    "        x = tf.keras.layers.Dense(unit,activation='relu')(x)\n",
    "        \n",
    "    #Adds output layer with sigmoid activation for prediction\n",
    "    win_predict = tf.keras.layers.Dense(1,activation='sigmoid')(x)\n",
    "    model = tf.keras.Model(inputs=[hero_input,skill],\n",
    "                           outputs=win_predict,name=\"radiant_win\")\n",
    "    tf.keras.utils.plot_model(model, show_shapes=False)\n",
    "    #model.summary()\n",
    "    return model"
   ]
  },
  {
   "cell_type": "code",
   "execution_count": 412,
   "metadata": {
    "ExecuteTime": {
     "end_time": "2020-03-10T21:41:05.005109Z",
     "start_time": "2020-03-10T21:41:04.972264Z"
    },
    "code_folding": [
     1
    ]
   },
   "outputs": [],
   "source": [
    "#define the linear model with no feature columns\n",
    "def define_dnn_model_extra_info(vocab_len,\n",
    "                                embedding_dims,\n",
    "                                hidden_units_heroes,\n",
    "                                hidden_units_out):\n",
    "    '''Function to define simple keras linear model\n",
    "    \n",
    "    Args: \n",
    "        vocab_len: An `int` specifying the number of category of the \n",
    "            categorical input\n",
    "        embedding_dims: An `int` specifying the number of dimensions in \n",
    "            the embedding layer\n",
    "        hidden_units_heroes: A `list` specifying size and number of hidden \n",
    "            units in hero input layer\n",
    "        hidden_units_heroes: A `list` specifying size and number of hidden \n",
    "            units in output layer\n",
    "    Returns: \n",
    "        model: A uncompiled `tf.keras.model`\n",
    "    '''\n",
    "    \n",
    "    ##DEFINE HERO PROCESSING LAYERS\n",
    "    #embed hero with dense because shared embedding layers are broken\n",
    "    dense_hero = tf.keras.layers.Dense(embedding_dims,activation='linear')\n",
    "    #process info into num of values specified by dense outputs value\n",
    "    dense_hero_info = tf.keras.layers.Dense(2,activation='linear')\n",
    "    #process tags into num of values specified by dense outputs value\n",
    "    dense_hero_tags = tf.keras.layers.Dense(2,activation='linear')\n",
    "    #process stats into num of values specified by dense outputs value\n",
    "    dense_hero_stats = tf.keras.layers.Dense(14,activation='linear')\n",
    "    #process hero embed, dense_tags, and dense_info output into some num of outputs\n",
    "    dense_hero_out_list = []\n",
    "    for unit in hidden_units_heroes:\n",
    "        dense_hero_out_list.append(tf.keras.layers.Dense(unit,\n",
    "                                                         activation='relu'))\n",
    "    \n",
    "    hero_input=[]\n",
    "    rad_hero_output=[]\n",
    "    dire_hero_output=[]\n",
    "    #process all heroes in same way\n",
    "    for i in range(5):\n",
    "        #add radiant hero to hero_input list and process with\n",
    "        #    embed_hero layer\n",
    "        hero_input.append(tf.keras.Input(shape=(1,vocab_len,),\n",
    "                                         name='radiant_hero'+str(i)))\n",
    "        x_rh = dense_hero(hero_input[-1])        \n",
    "        x_rh = tf.keras.layers.Flatten()(x_rh)\n",
    "        #add radiant hero info to hero_input list and process with\n",
    "        #    dense_info layer\n",
    "        hero_input.append(tf.keras.Input(shape=(4,), #4 info types\n",
    "                                         name='radiant_hero_info'+str(i)))\n",
    "        x_rhi = dense_hero_info(hero_input[-1])\n",
    "        #add radiant hero tags to hero_input list and process with\n",
    "        #    dense_tags layer\n",
    "        hero_input.append(tf.keras.Input(shape=(6,), #6 tag types\n",
    "                                         name='radiant_hero_tags'+str(i)))\n",
    "        x_rht = dense_hero_tags(hero_input[-1])        \n",
    "        #add radiant hero stats to hero_input list and process with\n",
    "        #    dense_stats layer\n",
    "        hero_input.append(tf.keras.Input(shape=(14,), #14 stat types\n",
    "                                         name='radiant_hero_stats'+str(i)))\n",
    "        x_rhs = dense_hero_stats(hero_input[-1])\n",
    "        #append output of hero layers to rad_out_layer for summing later\n",
    "        x_rhtot = tf.keras.layers.concatenate([x_rh,x_rhi,x_rht,x_rhs])\n",
    "        #put total hero info into hidden layers\n",
    "        for layer in dense_hero_out_list:\n",
    "            x_rhtot=layer(x_rhtot)\n",
    "        #append to rad_hero_output list\n",
    "        rad_hero_output.append(x_rhtot)\n",
    "        \n",
    "        #add dire hero to hero_input list and process with\n",
    "        #    embed_hero layer\n",
    "        hero_input.append(tf.keras.Input(shape=(1,vocab_len,),\n",
    "                                         name='dire_hero'+str(i)))\n",
    "        x_dh = dense_hero(hero_input[-1])\n",
    "        x_dh = tf.keras.layers.Flatten()(x_dh)\n",
    "        #add dire hero info to hero_input list and process with\n",
    "        #    dense_info layer       \n",
    "        hero_input.append(tf.keras.Input(shape=(4,),#4 info types\n",
    "                                         name='dire_hero_info'+str(i)))\n",
    "        x_dhi = dense_hero_info(hero_input[-1])\n",
    "        #add dire hero tags to hero_input list and process with\n",
    "        #    dense_tags layer\n",
    "        hero_input.append(tf.keras.Input(shape=(6,),#6 tag types\n",
    "                                         name='dire_hero_tags'+str(i)))\n",
    "        x_dht = dense_hero_tags(hero_input[-1])\n",
    "        #add dire hero stats to hero_input list and process with\n",
    "        #    dense_stats layer\n",
    "        hero_input.append(tf.keras.Input(shape=(14,), #14 stat types\n",
    "                                         name='dire_hero_stats'+str(i)))\n",
    "        x_dhs = dense_hero_stats(hero_input[-1])\n",
    "        #append output of hero layers to dire_out layer for summing later\n",
    "        x_dhtot = tf.keras.layers.concatenate([x_dh,x_dhi,x_dht,x_dhs])\n",
    "        #put total hero info into hidden layers\n",
    "        for layer in dense_hero_out_list:\n",
    "            x_dhtot=layer(x_dhtot)\n",
    "        dire_hero_output.append(x_dhtot)\n",
    "    \n",
    "    #sum hero outputs to erase ordering information and get ave team vector\n",
    "    rad_hero_sum = tf.keras.layers.Add()(rad_hero_output)\n",
    "    dire_hero_sum = tf.keras.layers.Add()(dire_hero_output)    \n",
    "    \n",
    "    #define skill input layer\n",
    "    skill = tf.keras.Input(shape=(2,),name='skill_level')\n",
    "    \n",
    "    # Add a dnn layer to map the average of the embedded vectors of each team\n",
    "    #   to a single vector for each team\n",
    "    x = tf.keras.layers.concatenate([rad_hero_sum,dire_hero_sum,skill])\n",
    "    for unit in hidden_units_out:\n",
    "        x = tf.keras.layers.Dense(unit,activation='relu')(x)\n",
    "        \n",
    "    #Adds output layer with sigmoid activation for prediction\n",
    "    win_predict = tf.keras.layers.Dense(1,activation='sigmoid')(x)\n",
    "    model = tf.keras.Model(inputs=[hero_input,skill],\n",
    "                           outputs=win_predict,name=\"radiant_win\")\n",
    "    tf.keras.utils.plot_model(model, show_shapes=False)\n",
    "    #model.summary()\n",
    "    return model"
   ]
  },
  {
   "cell_type": "code",
   "execution_count": 413,
   "metadata": {
    "ExecuteTime": {
     "end_time": "2020-03-10T21:41:05.307186Z",
     "start_time": "2020-03-10T21:41:05.283793Z"
    },
    "code_folding": [
     1
    ]
   },
   "outputs": [],
   "source": [
    "#define the linear model with no feature columns\n",
    "def train_model(optimizer,\n",
    "                       model_type,\n",
    "                       vocab_len,\n",
    "                       embedding_dims,\n",
    "                       batch_size,\n",
    "                       epochs,\n",
    "                       training_path,\n",
    "                       validation_path,\n",
    "                       compression_type='',\n",
    "                       temp_log_flag=True,\n",
    "                       hidden_units_heroes=[],\n",
    "                       hidden_units_out=[]):\n",
    "    '''Function to train keras model\n",
    "    \n",
    "    Args: \n",
    "        optimizer: A `tf.keras.optimizer` object to use for the model\n",
    "        vocab_len: An `int` specifying the number of category of the categorical input\n",
    "        embedding_dims: An `int` specifying the number of dimensions in the embedding layer\n",
    "        batch_size: An `int` specifying batch size for each train step\n",
    "        epochs: An `int` number of epochs to train for\n",
    "        training_path: A `string` specifying training file\n",
    "        validation_path: A `string` specifying validatoin file\n",
    "        compression_type: A `string` specifying compression type\n",
    "        temp_log_flag: A `bool` specifying whether to save logs in temp folder\n",
    "    Returns:\n",
    "        history: A `tf.keras.history` object that has loss and other metrics\n",
    "    '''\n",
    "    if model_type=='linear_extra_info':\n",
    "        model = define_linear_model_extra_info(vocab_len,embedding_dims)\n",
    "    elif model_type=='linear_hero_only':\n",
    "        model = define_linear_model_hero_only(vocab_len,embedding_dims)\n",
    "    elif model_type=='dnn_extra_info':\n",
    "        model = define_dnn_model_extra_info(vocab_len,embedding_dims,\n",
    "                                            hidden_units_heroes,\n",
    "                                            hidden_units_out)\n",
    "    elif model_type=='dnn_info_tags':\n",
    "        model = define_dnn_model_info_tags(vocab_len,embedding_dims,\n",
    "                                            hidden_units_heroes,\n",
    "                                            hidden_units_out)\n",
    "    else:\n",
    "        raise KeyError('model_type not found. Got: '+ model_type)\n",
    "        \n",
    "    model.compile(optimizer = optimizer,\n",
    "                  loss = 'binary_crossentropy',\n",
    "                  metrics = ['binary_accuracy'])\n",
    "\n",
    "    ##get embedding weights for returning and saving\n",
    "    #embedding_weights = model.layers[1].get_weights()[0]\n",
    "    \n",
    "    #get datasets from tfrecords and according to input_fn\n",
    "    train_ds = _input_fn_extra_info(training_path,\n",
    "                               batch_size=batch_size,\n",
    "                               compression_type=compression_type,\n",
    "                               shuffle=True)\n",
    "\n",
    "    validation_ds= _input_fn_extra_info(validation_path,\n",
    "                                   batch_size=batch_size,\n",
    "                                   compression_type=compression_type,\n",
    "                                   shuffle=True)\n",
    "\n",
    "    #allow logging in temp directory or directory to be included in git\n",
    "    #  useful if tuning hyperparams or testing\n",
    "    if temp_log_flag:\n",
    "        logdir = os.path.join('..','..','..','tmp_log_dir',\n",
    "                          datetime.now().strftime(\"lol_%Y%m%d-%H%M%S\"))\n",
    "    else:\n",
    "        logdir = os.path.join('log_dir',\n",
    "                          datetime.now().strftime(\"%Y%m%d-%H%M%S\"))\n",
    "        \n",
    "    tensorboard_callback = tf.keras.callbacks.TensorBoard(log_dir=logdir)\n",
    "    steps_per_epoch=50\n",
    "\n",
    "    history = model.fit(train_ds, \n",
    "                        epochs = epochs,\n",
    "                        steps_per_epoch=steps_per_epoch,\n",
    "                        validation_steps=steps_per_epoch,\n",
    "                        verbose=0,\n",
    "                        validation_data=validation_ds,\n",
    "                        callbacks=[tensorboard_callback]\n",
    "                       )\n",
    "    \n",
    "    #save trained model. This can be used to retrain, predict, \n",
    "    #  or reloaded as a keras model to do more model things.\n",
    "    #Use TF `SavedModel` format so that it can be used in serving\n",
    "    model.save(os.path.join(logdir,'saved_model'),\n",
    "                      save_format='tf')\n",
    "    \n",
    "    #save params for this training to a json in the logdir\n",
    "    hyper = optimizer._hyper\n",
    "    hyper_dict={}\n",
    "    for key,value in hyper.items():\n",
    "        hyper_dict[key]=value.numpy().item()\n",
    "    training_params = dict({'model_type':'single_target_'+model_type,\n",
    "                            'steps':steps_per_epoch*epochs,\n",
    "                            'batch_size':batch_size,\n",
    "                            'optimizer':optimizer._name,\n",
    "                            'hyper_parameters':hyper_dict})\n",
    "    if len(hidden_units_heroes)>0 or len(hidden_units_out)>0:\n",
    "        training_params['hidden_units_heroes']=hidden_units_heroes\n",
    "        training_params['hidden_units_out']=hidden_units_out\n",
    "\n",
    "    with open(os.path.join(logdir,'training_params.json'),'w') as fp:\n",
    "        json.dump(training_params,fp)\n",
    "    \n",
    "    ##save embedding in numpy format for later use\n",
    "    ##  no hero_vocab, but that should be ok\n",
    "    #np.save(os.path.join(logdir,'embedding.npy'),embedding_weights)\n",
    "    fig,ax = plt.subplots(1,1,figsize=(1.6*3,3))\n",
    "    plt.plot(history.history['binary_accuracy'])\n",
    "    plt.xlabel('epochs (50 steps per)')\n",
    "    plt.ylabel('binary_accuracy')\n",
    "    plt.show()\n",
    "    \n",
    "    return history"
   ]
  },
  {
   "cell_type": "markdown",
   "metadata": {},
   "source": [
    "### train no feature column win model"
   ]
  },
  {
   "cell_type": "code",
   "execution_count": 414,
   "metadata": {
    "ExecuteTime": {
     "end_time": "2020-03-10T21:41:06.160797Z",
     "start_time": "2020-03-10T21:41:06.153735Z"
    }
   },
   "outputs": [],
   "source": [
    "training_file_novocab = os.path.join('LOL_data',\n",
    "                             'mix_tier',\n",
    "                             'lol_training_data',\n",
    "                             'blue_win_extra_info_dota2_compat_lol_training_data.tfrecords')\n",
    "validation_file_novocab = os.path.join('LOL_data',\n",
    "                             'mix_tier',\n",
    "                             'lol_validation_data',\n",
    "                             'blue_win_extra_info_dota2_compat_lol_validation_data.tfrecords')"
   ]
  },
  {
   "cell_type": "code",
   "execution_count": 415,
   "metadata": {
    "ExecuteTime": {
     "end_time": "2020-03-10T21:50:52.196682Z",
     "start_time": "2020-03-10T21:41:08.459041Z"
    }
   },
   "outputs": [
    {
     "name": "stdout",
     "output_type": "stream",
     "text": [
      "INFO:tensorflow:Assets written to: ../../../tmp_log_dir/lol_20200310-144110/saved_model/assets\n"
     ]
    },
    {
     "data": {
      "image/png": "[encoded data removed]",
      "text/plain": [
       "<Figure size 345.6x216 with 1 Axes>"
      ]
     },
     "metadata": {},
     "output_type": "display_data"
    }
   ],
   "source": [
    " optimizer = tf.keras.optimizers.Adam(learning_rate=0.001)\n",
    "history = train_model(\n",
    "            optimizer,\n",
    "            model_type='dnn_extra_info',\n",
    "            vocab_len=len(champ_vocab),\n",
    "            embedding_dims=2,\n",
    "            batch_size=500, \n",
    "            epochs=50, \n",
    "            training_path=training_file_novocab, \n",
    "            validation_path=validation_file_novocab,\n",
    "            compression_type='GZIP',\n",
    "            hidden_units_heroes=[16,8,8,4,4],\n",
    "            hidden_units_out=[8,8,8,4])"
   ]
  },
  {
   "cell_type": "code",
   "execution_count": 393,
   "metadata": {
    "ExecuteTime": {
     "end_time": "2020-03-09T05:43:57.304977Z",
     "start_time": "2020-03-09T04:07:36.497778Z"
    }
   },
   "outputs": [
    {
     "name": "stdout",
     "output_type": "stream",
     "text": [
      "INFO:tensorflow:Assets written to: ../../../tmp_log_dir/lol_20200308-210738/saved_model/assets\n"
     ]
    },
    {
     "data": {
      "image/png": "[encoded data removed]",
      "text/plain": [
       "<Figure size 345.6x216 with 1 Axes>"
      ]
     },
     "metadata": {},
     "output_type": "display_data"
    }
   ],
   "source": [
    " optimizer = tf.keras.optimizers.Adam(learning_rate=0.001)\n",
    "history = train_model(\n",
    "            optimizer,\n",
    "            model_type='dnn_extra_info',\n",
    "            vocab_len=len(champ_vocab),\n",
    "            embedding_dims=2,\n",
    "            batch_size=500, \n",
    "            epochs=500, \n",
    "            training_path=training_file_novocab, \n",
    "            validation_path=validation_file_novocab,\n",
    "            compression_type='GZIP',\n",
    "            hidden_units_heroes=[16,8,8,4,4],\n",
    "            hidden_units_out=[8,8,8,4])"
   ]
  },
  {
   "cell_type": "code",
   "execution_count": 405,
   "metadata": {
    "ExecuteTime": {
     "end_time": "2020-03-10T05:43:17.943931Z",
     "start_time": "2020-03-10T05:23:19.950900Z"
    }
   },
   "outputs": [
    {
     "name": "stdout",
     "output_type": "stream",
     "text": [
      "INFO:tensorflow:Assets written to: ../../../tmp_log_dir/lol_20200309-222321/saved_model/assets\n"
     ]
    },
    {
     "data": {
      "image/png": "[encoded data removed]",
      "text/plain": [
       "<Figure size 345.6x216 with 1 Axes>"
      ]
     },
     "metadata": {},
     "output_type": "display_data"
    }
   ],
   "source": [
    " optimizer = tf.keras.optimizers.Adam(learning_rate=0.001)\n",
    "history = train_model(\n",
    "            optimizer,\n",
    "            model_type='dnn_info_tags',\n",
    "            vocab_len=len(champ_vocab),\n",
    "            embedding_dims=2,\n",
    "            batch_size=500, \n",
    "            epochs=100, \n",
    "            training_path=training_file_novocab, \n",
    "            validation_path=validation_file_novocab,\n",
    "            compression_type='GZIP',\n",
    "            hidden_units_heroes=[8,4,4],\n",
    "            hidden_units_out=[4,4,4])"
   ]
  },
  {
   "cell_type": "code",
   "execution_count": null,
   "metadata": {
    "ExecuteTime": {
     "start_time": "2020-03-10T22:48:17.544Z"
    }
   },
   "outputs": [
    {
     "name": "stdout",
     "output_type": "stream",
     "text": [
      "INFO:tensorflow:Assets written to: ../../../tmp_log_dir/lol_20200310-154819/saved_model/assets\n"
     ]
    }
   ],
   "source": [
    " optimizer = tf.keras.optimizers.Adam(learning_rate=0.001)\n",
    "history = train_model(\n",
    "            optimizer,\n",
    "            model_type='dnn_info_tags',\n",
    "            vocab_len=len(champ_vocab),\n",
    "            embedding_dims=2,\n",
    "            batch_size=500, \n",
    "            epochs=100, \n",
    "            training_path=training_file_novocab, \n",
    "            validation_path=validation_file_novocab,\n",
    "            compression_type='GZIP',\n",
    "            hidden_units_heroes=[8,4,4,4],\n",
    "            hidden_units_out=[4,4,4])"
   ]
  },
  {
   "cell_type": "code",
   "execution_count": 334,
   "metadata": {
    "ExecuteTime": {
     "end_time": "2020-03-08T06:06:09.250833Z",
     "start_time": "2020-03-08T05:58:17.354819Z"
    }
   },
   "outputs": [
    {
     "name": "stdout",
     "output_type": "stream",
     "text": [
      "INFO:tensorflow:Assets written to: ../../../tmp_log_dir/lol_20200307-215818/saved_model/assets\n"
     ]
    },
    {
     "data": {
      "image/png": "[encoded data removed]",
      "text/plain": [
       "<Figure size 345.6x216 with 1 Axes>"
      ]
     },
     "metadata": {},
     "output_type": "display_data"
    }
   ],
   "source": [
    "optimizer = tf.keras.optimizers.Adam(learning_rate=0.002)\n",
    "history = train_model(\n",
    "            optimizer,\n",
    "            model_type='linear_hero_only',\n",
    "            vocab_len=len(champ_vocab),\n",
    "            embedding_dims=2,\n",
    "            batch_size=500, \n",
    "            epochs=50, \n",
    "            training_path=training_file_novocab, \n",
    "            validation_path=validation_file_novocab,\n",
    "            compression_type='GZIP')"
   ]
  },
  {
   "cell_type": "code",
   "execution_count": 351,
   "metadata": {
    "ExecuteTime": {
     "end_time": "2020-03-09T00:40:55.872082Z",
     "start_time": "2020-03-09T00:37:36.355722Z"
    },
    "code_folding": [],
    "scrolled": false
   },
   "outputs": [
    {
     "name": "stdout",
     "output_type": "stream",
     "text": [
      "INFO:tensorflow:Assets written to: ../../../tmp_log_dir/lol_20200308-173737/saved_model/assets\n"
     ]
    },
    {
     "data": {
      "image/png": "[encoded data removed]",
      "text/plain": [
       "<Figure size 345.6x216 with 1 Axes>"
      ]
     },
     "metadata": {},
     "output_type": "display_data"
    }
   ],
   "source": [
    "optimizer = tf.keras.optimizers.Adam(learning_rate=0.004)\n",
    "history = train_model(\n",
    "            optimizer,\n",
    "            model_type='linear_extra_info',\n",
    "            vocab_len=len(champ_vocab),\n",
    "            embedding_dims=3,\n",
    "            batch_size=500, \n",
    "            epochs=20, \n",
    "            training_path=training_file_novocab, \n",
    "            validation_path=validation_file_novocab,\n",
    "            compression_type='GZIP')"
   ]
  },
  {
   "cell_type": "code",
   "execution_count": 350,
   "metadata": {
    "ExecuteTime": {
     "end_time": "2020-03-09T00:37:36.353115Z",
     "start_time": "2020-03-09T00:29:30.472175Z"
    }
   },
   "outputs": [
    {
     "name": "stdout",
     "output_type": "stream",
     "text": [
      "INFO:tensorflow:Assets written to: ../../../tmp_log_dir/lol_20200308-172931/saved_model/assets\n"
     ]
    },
    {
     "data": {
      "image/png": "[encoded data removed]",
      "text/plain": [
       "<Figure size 345.6x216 with 1 Axes>"
      ]
     },
     "metadata": {},
     "output_type": "display_data"
    }
   ],
   "source": [
    " optimizer = tf.keras.optimizers.Adam(learning_rate=0.005)\n",
    "history = train_model(\n",
    "            optimizer,\n",
    "            model_type='linear_extra_info',\n",
    "            vocab_len=len(champ_vocab),\n",
    "            embedding_dims=5,\n",
    "            batch_size=500, \n",
    "            epochs=50, \n",
    "            training_path=training_file_novocab, \n",
    "            validation_path=validation_file_novocab,\n",
    "            compression_type='GZIP')"
   ]
  }
 ],
 "metadata": {
  "kernelspec": {
   "display_name": "Python 3",
   "language": "python",
   "name": "python3"
  },
  "language_info": {
   "codemirror_mode": {
    "name": "ipython",
    "version": 3
   },
   "file_extension": ".py",
   "mimetype": "text/x-python",
   "name": "python",
   "nbconvert_exporter": "python",
   "pygments_lexer": "ipython3",
   "version": "3.7.3"
  },
  "notify_time": "30",
  "toc": {
   "base_numbering": 1,
   "nav_menu": {},
   "number_sections": true,
   "sideBar": true,
   "skip_h1_title": false,
   "title_cell": "Table of Contents",
   "title_sidebar": "Contents",
   "toc_cell": false,
   "toc_position": {},
   "toc_section_display": true,
   "toc_window_display": false
  }
 },
 "nbformat": 4,
 "nbformat_minor": 2
}
