{
 "cells": [
  {
   "cell_type": "code",
   "execution_count": 6,
   "metadata": {
    "ExecuteTime": {
     "end_time": "2019-10-10T17:16:46.663045Z",
     "start_time": "2019-10-10T17:16:46.373219Z"
    },
    "scrolled": true
   },
   "outputs": [],
   "source": [
    "import seaborn as sns\n",
    "import pandas as pd\n",
    "import pylab as plt\n",
    "import numpy as np\n",
    "from steam import WebAPI\n",
    "import time\n",
    "import os\n",
    "import glob\n",
    "import json\n",
    "import tensorflow as tf\n",
    "import sys\n",
    "from IPython import display\n",
    "import requests\n",
    "\n",
    "#dont keep api key in github!!!\n",
    "api_file = os.path.join('..','..','..','apikeys','steam_api_key.txt')\n",
    "with open(api_file, 'r') as fin:\n",
    "    api = WebAPI(key=fin.readline())\n",
    "\n",
    "#tf.logging.set_verbosity(tf.logging.ERROR)"
   ]
  },
  {
   "cell_type": "code",
   "execution_count": 7,
   "metadata": {
    "ExecuteTime": {
     "end_time": "2019-10-10T17:16:47.542092Z",
     "start_time": "2019-10-10T17:16:47.196499Z"
    }
   },
   "outputs": [],
   "source": [
    "#declare interface urls\n",
    "#dota2_beta should be used for testing in order to not aggressively make API requests\n",
    "dota2_id = '570'\n",
    "dota2_beta_id = '205790'\n",
    "\n",
    "hero_list = api.call('IEconDOTA2_'+dota2_id+'.GetHeroes',itemizedonly = True)\n",
    "hero_vocab=[int(hero_id['id']) for hero_id in hero_list['result']['heroes']] "
   ]
  },
  {
   "cell_type": "markdown",
   "metadata": {
    "heading_collapsed": true
   },
   "source": [
    "# Import training data and preprocess \n",
    "(good to check data, but not needed for TFrecord usage"
   ]
  },
  {
   "cell_type": "code",
   "execution_count": null,
   "metadata": {
    "ExecuteTime": {
     "end_time": "2019-07-15T01:55:06.110002Z",
     "start_time": "2019-07-15T01:55:05.646343Z"
    },
    "hidden": true
   },
   "outputs": [],
   "source": [
    "dota2_df = None\n",
    "for filename in glob.glob(os.path.join('dota2_training_data','*.csv')):\n",
    "    if type(dota2_df)==None:\n",
    "        dota2_df = pd.read_csv(filename, usecols=range(1,13))\n",
    "    else:\n",
    "        dota2_df = pd.concat([dota2_df, pd.read_csv(filename, usecols=range(1,13))],ignore_index=True)\n",
    "\n",
    "dota2_df = dota2_df.reindex(np.random.permutation(dota2_df.index))\n",
    "dota2_df.describe()\n"
   ]
  },
  {
   "cell_type": "markdown",
   "metadata": {},
   "source": [
    "# Modeling using a TFRecord dataformat"
   ]
  },
  {
   "cell_type": "markdown",
   "metadata": {},
   "source": [
    "## Build TFRecord input pipeline"
   ]
  },
  {
   "cell_type": "code",
   "execution_count": 8,
   "metadata": {
    "ExecuteTime": {
     "end_time": "2019-10-10T17:16:49.364272Z",
     "start_time": "2019-10-10T17:16:49.357189Z"
    }
   },
   "outputs": [],
   "source": [
    "def _parse_function(record):\n",
    "    \"\"\"Extracts features and labels.\n",
    "  \n",
    "    Args:\n",
    "        record: File path to a TFRecord file    \n",
    "      Returns:\n",
    "    A `tuple` `(labels, features)`:\n",
    "      features: A dict of tensors representing the features\n",
    "      labels: A tensor with the corresponding labels.\n",
    "    \"\"\"\n",
    "    features = {\n",
    "        \"radiant_heroes\": tf.FixedLenFeature([], dtype=tf.string), #array of five 8 bit ints for heroes\n",
    "        \"dire_heroes\": tf.FixedLenFeature([], dtype=tf.string), #array of five 8-bit ints for heroes\n",
    "        \"targets\": tf.FixedLenFeature(shape=[1], dtype=tf.int64)\n",
    "                }\n",
    "  \n",
    "    parsed_features = tf.parse_single_example(record, features)\n",
    "  \n",
    "    radiant_heroes = tf.decode_raw(parsed_features['radiant_heroes'], tf.int64)\n",
    "    dire_heroes = tf.decode_raw(parsed_features['dire_heroes'], tf.int64)\n",
    "    radiant_win = parsed_features['targets']\n",
    "\n",
    "    return  {'radiant_heroes':radiant_heroes, 'dire_heroes':dire_heroes}, radiant_win"
   ]
  },
  {
   "cell_type": "markdown",
   "metadata": {},
   "source": [
    "#### Check the parse function worked"
   ]
  },
  {
   "cell_type": "code",
   "execution_count": 9,
   "metadata": {
    "ExecuteTime": {
     "end_time": "2019-10-10T17:16:50.530747Z",
     "start_time": "2019-10-10T17:16:50.274983Z"
    }
   },
   "outputs": [
    {
     "ename": "AttributeError",
     "evalue": "in converted code:\n\n    <ipython-input-8-becd7bc26350>:11 _parse_function  *\n        features = {\n\n    AttributeError: module 'tensorflow' has no attribute 'FixedLenFeature'\n",
     "output_type": "error",
     "traceback": [
      "\u001b[0;31m---------------------------------------------------------------------------\u001b[0m",
      "\u001b[0;31mAttributeError\u001b[0m                            Traceback (most recent call last)",
      "\u001b[0;32m<ipython-input-9-d78fe920e1d2>\u001b[0m in \u001b[0;36m<module>\u001b[0;34m\u001b[0m\n\u001b[1;32m      6\u001b[0m                              compression_type=\"GZIP\")\n\u001b[1;32m      7\u001b[0m \u001b[0;31m# Map features and labels with the parse function.\u001b[0m\u001b[0;34m\u001b[0m\u001b[0;34m\u001b[0m\u001b[0;34m\u001b[0m\u001b[0m\n\u001b[0;32m----> 8\u001b[0;31m \u001b[0mds\u001b[0m \u001b[0;34m=\u001b[0m \u001b[0mds\u001b[0m\u001b[0;34m.\u001b[0m\u001b[0mmap\u001b[0m\u001b[0;34m(\u001b[0m\u001b[0m_parse_function\u001b[0m\u001b[0;34m)\u001b[0m\u001b[0;34m\u001b[0m\u001b[0;34m\u001b[0m\u001b[0m\n\u001b[0m\u001b[1;32m      9\u001b[0m \u001b[0mds\u001b[0m\u001b[0;34m\u001b[0m\u001b[0;34m\u001b[0m\u001b[0m\n",
      "\u001b[0;32m~/anaconda3/lib/python3.7/site-packages/tensorflow_core/python/data/ops/dataset_ops.py\u001b[0m in \u001b[0;36mmap\u001b[0;34m(self, map_func, num_parallel_calls)\u001b[0m\n\u001b[1;32m   1209\u001b[0m     \"\"\"\n\u001b[1;32m   1210\u001b[0m     \u001b[0;32mif\u001b[0m \u001b[0mnum_parallel_calls\u001b[0m \u001b[0;32mis\u001b[0m \u001b[0;32mNone\u001b[0m\u001b[0;34m:\u001b[0m\u001b[0;34m\u001b[0m\u001b[0;34m\u001b[0m\u001b[0m\n\u001b[0;32m-> 1211\u001b[0;31m       \u001b[0;32mreturn\u001b[0m \u001b[0mMapDataset\u001b[0m\u001b[0;34m(\u001b[0m\u001b[0mself\u001b[0m\u001b[0;34m,\u001b[0m \u001b[0mmap_func\u001b[0m\u001b[0;34m,\u001b[0m \u001b[0mpreserve_cardinality\u001b[0m\u001b[0;34m=\u001b[0m\u001b[0;32mTrue\u001b[0m\u001b[0;34m)\u001b[0m\u001b[0;34m\u001b[0m\u001b[0;34m\u001b[0m\u001b[0m\n\u001b[0m\u001b[1;32m   1212\u001b[0m     \u001b[0;32melse\u001b[0m\u001b[0;34m:\u001b[0m\u001b[0;34m\u001b[0m\u001b[0;34m\u001b[0m\u001b[0m\n\u001b[1;32m   1213\u001b[0m       return ParallelMapDataset(\n",
      "\u001b[0;32m~/anaconda3/lib/python3.7/site-packages/tensorflow_core/python/data/ops/dataset_ops.py\u001b[0m in \u001b[0;36m__init__\u001b[0;34m(self, input_dataset, map_func, use_inter_op_parallelism, preserve_cardinality, use_legacy_function)\u001b[0m\n\u001b[1;32m   3414\u001b[0m         \u001b[0mself\u001b[0m\u001b[0;34m.\u001b[0m\u001b[0m_transformation_name\u001b[0m\u001b[0;34m(\u001b[0m\u001b[0;34m)\u001b[0m\u001b[0;34m,\u001b[0m\u001b[0;34m\u001b[0m\u001b[0;34m\u001b[0m\u001b[0m\n\u001b[1;32m   3415\u001b[0m         \u001b[0mdataset\u001b[0m\u001b[0;34m=\u001b[0m\u001b[0minput_dataset\u001b[0m\u001b[0;34m,\u001b[0m\u001b[0;34m\u001b[0m\u001b[0;34m\u001b[0m\u001b[0m\n\u001b[0;32m-> 3416\u001b[0;31m         use_legacy_function=use_legacy_function)\n\u001b[0m\u001b[1;32m   3417\u001b[0m     variant_tensor = gen_dataset_ops.map_dataset(\n\u001b[1;32m   3418\u001b[0m         \u001b[0minput_dataset\u001b[0m\u001b[0;34m.\u001b[0m\u001b[0m_variant_tensor\u001b[0m\u001b[0;34m,\u001b[0m  \u001b[0;31m# pylint: disable=protected-access\u001b[0m\u001b[0;34m\u001b[0m\u001b[0;34m\u001b[0m\u001b[0m\n",
      "\u001b[0;32m~/anaconda3/lib/python3.7/site-packages/tensorflow_core/python/data/ops/dataset_ops.py\u001b[0m in \u001b[0;36m__init__\u001b[0;34m(self, func, transformation_name, dataset, input_classes, input_shapes, input_types, input_structure, add_to_graph, use_legacy_function, defun_kwargs)\u001b[0m\n\u001b[1;32m   2693\u001b[0m       \u001b[0mresource_tracker\u001b[0m \u001b[0;34m=\u001b[0m \u001b[0mtracking\u001b[0m\u001b[0;34m.\u001b[0m\u001b[0mResourceTracker\u001b[0m\u001b[0;34m(\u001b[0m\u001b[0;34m)\u001b[0m\u001b[0;34m\u001b[0m\u001b[0;34m\u001b[0m\u001b[0m\n\u001b[1;32m   2694\u001b[0m       \u001b[0;32mwith\u001b[0m \u001b[0mtracking\u001b[0m\u001b[0;34m.\u001b[0m\u001b[0mresource_tracker_scope\u001b[0m\u001b[0;34m(\u001b[0m\u001b[0mresource_tracker\u001b[0m\u001b[0;34m)\u001b[0m\u001b[0;34m:\u001b[0m\u001b[0;34m\u001b[0m\u001b[0;34m\u001b[0m\u001b[0m\n\u001b[0;32m-> 2695\u001b[0;31m         \u001b[0mself\u001b[0m\u001b[0;34m.\u001b[0m\u001b[0m_function\u001b[0m \u001b[0;34m=\u001b[0m \u001b[0mwrapper_fn\u001b[0m\u001b[0;34m.\u001b[0m\u001b[0m_get_concrete_function_internal\u001b[0m\u001b[0;34m(\u001b[0m\u001b[0;34m)\u001b[0m\u001b[0;34m\u001b[0m\u001b[0;34m\u001b[0m\u001b[0m\n\u001b[0m\u001b[1;32m   2696\u001b[0m         \u001b[0;32mif\u001b[0m \u001b[0madd_to_graph\u001b[0m\u001b[0;34m:\u001b[0m\u001b[0;34m\u001b[0m\u001b[0;34m\u001b[0m\u001b[0m\n\u001b[1;32m   2697\u001b[0m           \u001b[0mself\u001b[0m\u001b[0;34m.\u001b[0m\u001b[0m_function\u001b[0m\u001b[0;34m.\u001b[0m\u001b[0madd_to_graph\u001b[0m\u001b[0;34m(\u001b[0m\u001b[0mops\u001b[0m\u001b[0;34m.\u001b[0m\u001b[0mget_default_graph\u001b[0m\u001b[0;34m(\u001b[0m\u001b[0;34m)\u001b[0m\u001b[0;34m)\u001b[0m\u001b[0;34m\u001b[0m\u001b[0;34m\u001b[0m\u001b[0m\n",
      "\u001b[0;32m~/anaconda3/lib/python3.7/site-packages/tensorflow_core/python/eager/function.py\u001b[0m in \u001b[0;36m_get_concrete_function_internal\u001b[0;34m(self, *args, **kwargs)\u001b[0m\n\u001b[1;32m   1852\u001b[0m     \u001b[0;34m\"\"\"Bypasses error checking when getting a graph function.\"\"\"\u001b[0m\u001b[0;34m\u001b[0m\u001b[0;34m\u001b[0m\u001b[0m\n\u001b[1;32m   1853\u001b[0m     graph_function = self._get_concrete_function_internal_garbage_collected(\n\u001b[0;32m-> 1854\u001b[0;31m         *args, **kwargs)\n\u001b[0m\u001b[1;32m   1855\u001b[0m     \u001b[0;31m# We're returning this concrete function to someone, and they may keep a\u001b[0m\u001b[0;34m\u001b[0m\u001b[0;34m\u001b[0m\u001b[0;34m\u001b[0m\u001b[0m\n\u001b[1;32m   1856\u001b[0m     \u001b[0;31m# reference to the FuncGraph without keeping a reference to the\u001b[0m\u001b[0;34m\u001b[0m\u001b[0;34m\u001b[0m\u001b[0;34m\u001b[0m\u001b[0m\n",
      "\u001b[0;32m~/anaconda3/lib/python3.7/site-packages/tensorflow_core/python/eager/function.py\u001b[0m in \u001b[0;36m_get_concrete_function_internal_garbage_collected\u001b[0;34m(self, *args, **kwargs)\u001b[0m\n\u001b[1;32m   1846\u001b[0m     \u001b[0;32mif\u001b[0m \u001b[0mself\u001b[0m\u001b[0;34m.\u001b[0m\u001b[0minput_signature\u001b[0m\u001b[0;34m:\u001b[0m\u001b[0;34m\u001b[0m\u001b[0;34m\u001b[0m\u001b[0m\n\u001b[1;32m   1847\u001b[0m       \u001b[0margs\u001b[0m\u001b[0;34m,\u001b[0m \u001b[0mkwargs\u001b[0m \u001b[0;34m=\u001b[0m \u001b[0;32mNone\u001b[0m\u001b[0;34m,\u001b[0m \u001b[0;32mNone\u001b[0m\u001b[0;34m\u001b[0m\u001b[0;34m\u001b[0m\u001b[0m\n\u001b[0;32m-> 1848\u001b[0;31m     \u001b[0mgraph_function\u001b[0m\u001b[0;34m,\u001b[0m \u001b[0m_\u001b[0m\u001b[0;34m,\u001b[0m \u001b[0m_\u001b[0m \u001b[0;34m=\u001b[0m \u001b[0mself\u001b[0m\u001b[0;34m.\u001b[0m\u001b[0m_maybe_define_function\u001b[0m\u001b[0;34m(\u001b[0m\u001b[0margs\u001b[0m\u001b[0;34m,\u001b[0m \u001b[0mkwargs\u001b[0m\u001b[0;34m)\u001b[0m\u001b[0;34m\u001b[0m\u001b[0;34m\u001b[0m\u001b[0m\n\u001b[0m\u001b[1;32m   1849\u001b[0m     \u001b[0;32mreturn\u001b[0m \u001b[0mgraph_function\u001b[0m\u001b[0;34m\u001b[0m\u001b[0;34m\u001b[0m\u001b[0m\n\u001b[1;32m   1850\u001b[0m \u001b[0;34m\u001b[0m\u001b[0m\n",
      "\u001b[0;32m~/anaconda3/lib/python3.7/site-packages/tensorflow_core/python/eager/function.py\u001b[0m in \u001b[0;36m_maybe_define_function\u001b[0;34m(self, args, kwargs)\u001b[0m\n\u001b[1;32m   2148\u001b[0m         \u001b[0mgraph_function\u001b[0m \u001b[0;34m=\u001b[0m \u001b[0mself\u001b[0m\u001b[0;34m.\u001b[0m\u001b[0m_function_cache\u001b[0m\u001b[0;34m.\u001b[0m\u001b[0mprimary\u001b[0m\u001b[0;34m.\u001b[0m\u001b[0mget\u001b[0m\u001b[0;34m(\u001b[0m\u001b[0mcache_key\u001b[0m\u001b[0;34m,\u001b[0m \u001b[0;32mNone\u001b[0m\u001b[0;34m)\u001b[0m\u001b[0;34m\u001b[0m\u001b[0;34m\u001b[0m\u001b[0m\n\u001b[1;32m   2149\u001b[0m         \u001b[0;32mif\u001b[0m \u001b[0mgraph_function\u001b[0m \u001b[0;32mis\u001b[0m \u001b[0;32mNone\u001b[0m\u001b[0;34m:\u001b[0m\u001b[0;34m\u001b[0m\u001b[0;34m\u001b[0m\u001b[0m\n\u001b[0;32m-> 2150\u001b[0;31m           \u001b[0mgraph_function\u001b[0m \u001b[0;34m=\u001b[0m \u001b[0mself\u001b[0m\u001b[0;34m.\u001b[0m\u001b[0m_create_graph_function\u001b[0m\u001b[0;34m(\u001b[0m\u001b[0margs\u001b[0m\u001b[0;34m,\u001b[0m \u001b[0mkwargs\u001b[0m\u001b[0;34m)\u001b[0m\u001b[0;34m\u001b[0m\u001b[0;34m\u001b[0m\u001b[0m\n\u001b[0m\u001b[1;32m   2151\u001b[0m           \u001b[0mself\u001b[0m\u001b[0;34m.\u001b[0m\u001b[0m_function_cache\u001b[0m\u001b[0;34m.\u001b[0m\u001b[0mprimary\u001b[0m\u001b[0;34m[\u001b[0m\u001b[0mcache_key\u001b[0m\u001b[0;34m]\u001b[0m \u001b[0;34m=\u001b[0m \u001b[0mgraph_function\u001b[0m\u001b[0;34m\u001b[0m\u001b[0;34m\u001b[0m\u001b[0m\n\u001b[1;32m   2152\u001b[0m         \u001b[0;32mreturn\u001b[0m \u001b[0mgraph_function\u001b[0m\u001b[0;34m,\u001b[0m \u001b[0margs\u001b[0m\u001b[0;34m,\u001b[0m \u001b[0mkwargs\u001b[0m\u001b[0;34m\u001b[0m\u001b[0;34m\u001b[0m\u001b[0m\n",
      "\u001b[0;32m~/anaconda3/lib/python3.7/site-packages/tensorflow_core/python/eager/function.py\u001b[0m in \u001b[0;36m_create_graph_function\u001b[0;34m(self, args, kwargs, override_flat_arg_shapes)\u001b[0m\n\u001b[1;32m   2039\u001b[0m             \u001b[0marg_names\u001b[0m\u001b[0;34m=\u001b[0m\u001b[0marg_names\u001b[0m\u001b[0;34m,\u001b[0m\u001b[0;34m\u001b[0m\u001b[0;34m\u001b[0m\u001b[0m\n\u001b[1;32m   2040\u001b[0m             \u001b[0moverride_flat_arg_shapes\u001b[0m\u001b[0;34m=\u001b[0m\u001b[0moverride_flat_arg_shapes\u001b[0m\u001b[0;34m,\u001b[0m\u001b[0;34m\u001b[0m\u001b[0;34m\u001b[0m\u001b[0m\n\u001b[0;32m-> 2041\u001b[0;31m             capture_by_value=self._capture_by_value),\n\u001b[0m\u001b[1;32m   2042\u001b[0m         \u001b[0mself\u001b[0m\u001b[0;34m.\u001b[0m\u001b[0m_function_attributes\u001b[0m\u001b[0;34m,\u001b[0m\u001b[0;34m\u001b[0m\u001b[0;34m\u001b[0m\u001b[0m\n\u001b[1;32m   2043\u001b[0m         \u001b[0;31m# Tell the ConcreteFunction to clean up its graph once it goes out of\u001b[0m\u001b[0;34m\u001b[0m\u001b[0;34m\u001b[0m\u001b[0;34m\u001b[0m\u001b[0m\n",
      "\u001b[0;32m~/anaconda3/lib/python3.7/site-packages/tensorflow_core/python/framework/func_graph.py\u001b[0m in \u001b[0;36mfunc_graph_from_py_func\u001b[0;34m(name, python_func, args, kwargs, signature, func_graph, autograph, autograph_options, add_control_dependencies, arg_names, op_return_value, collections, capture_by_value, override_flat_arg_shapes)\u001b[0m\n\u001b[1;32m    913\u001b[0m                                           converted_func)\n\u001b[1;32m    914\u001b[0m \u001b[0;34m\u001b[0m\u001b[0m\n\u001b[0;32m--> 915\u001b[0;31m       \u001b[0mfunc_outputs\u001b[0m \u001b[0;34m=\u001b[0m \u001b[0mpython_func\u001b[0m\u001b[0;34m(\u001b[0m\u001b[0;34m*\u001b[0m\u001b[0mfunc_args\u001b[0m\u001b[0;34m,\u001b[0m \u001b[0;34m**\u001b[0m\u001b[0mfunc_kwargs\u001b[0m\u001b[0;34m)\u001b[0m\u001b[0;34m\u001b[0m\u001b[0;34m\u001b[0m\u001b[0m\n\u001b[0m\u001b[1;32m    916\u001b[0m \u001b[0;34m\u001b[0m\u001b[0m\n\u001b[1;32m    917\u001b[0m       \u001b[0;31m# invariant: `func_outputs` contains only Tensors, CompositeTensors,\u001b[0m\u001b[0;34m\u001b[0m\u001b[0;34m\u001b[0m\u001b[0;34m\u001b[0m\u001b[0m\n",
      "\u001b[0;32m~/anaconda3/lib/python3.7/site-packages/tensorflow_core/python/data/ops/dataset_ops.py\u001b[0m in \u001b[0;36mwrapper_fn\u001b[0;34m(*args)\u001b[0m\n\u001b[1;32m   2687\u001b[0m           attributes=defun_kwargs)\n\u001b[1;32m   2688\u001b[0m       \u001b[0;32mdef\u001b[0m \u001b[0mwrapper_fn\u001b[0m\u001b[0;34m(\u001b[0m\u001b[0;34m*\u001b[0m\u001b[0margs\u001b[0m\u001b[0;34m)\u001b[0m\u001b[0;34m:\u001b[0m  \u001b[0;31m# pylint: disable=missing-docstring\u001b[0m\u001b[0;34m\u001b[0m\u001b[0;34m\u001b[0m\u001b[0m\n\u001b[0;32m-> 2689\u001b[0;31m         \u001b[0mret\u001b[0m \u001b[0;34m=\u001b[0m \u001b[0m_wrapper_helper\u001b[0m\u001b[0;34m(\u001b[0m\u001b[0;34m*\u001b[0m\u001b[0margs\u001b[0m\u001b[0;34m)\u001b[0m\u001b[0;34m\u001b[0m\u001b[0;34m\u001b[0m\u001b[0m\n\u001b[0m\u001b[1;32m   2690\u001b[0m         \u001b[0mret\u001b[0m \u001b[0;34m=\u001b[0m \u001b[0mstructure\u001b[0m\u001b[0;34m.\u001b[0m\u001b[0mto_tensor_list\u001b[0m\u001b[0;34m(\u001b[0m\u001b[0mself\u001b[0m\u001b[0;34m.\u001b[0m\u001b[0m_output_structure\u001b[0m\u001b[0;34m,\u001b[0m \u001b[0mret\u001b[0m\u001b[0;34m)\u001b[0m\u001b[0;34m\u001b[0m\u001b[0;34m\u001b[0m\u001b[0m\n\u001b[1;32m   2691\u001b[0m         \u001b[0;32mreturn\u001b[0m \u001b[0;34m[\u001b[0m\u001b[0mops\u001b[0m\u001b[0;34m.\u001b[0m\u001b[0mconvert_to_tensor\u001b[0m\u001b[0;34m(\u001b[0m\u001b[0mt\u001b[0m\u001b[0;34m)\u001b[0m \u001b[0;32mfor\u001b[0m \u001b[0mt\u001b[0m \u001b[0;32min\u001b[0m \u001b[0mret\u001b[0m\u001b[0;34m]\u001b[0m\u001b[0;34m\u001b[0m\u001b[0;34m\u001b[0m\u001b[0m\n",
      "\u001b[0;32m~/anaconda3/lib/python3.7/site-packages/tensorflow_core/python/data/ops/dataset_ops.py\u001b[0m in \u001b[0;36m_wrapper_helper\u001b[0;34m(*args)\u001b[0m\n\u001b[1;32m   2632\u001b[0m         \u001b[0mnested_args\u001b[0m \u001b[0;34m=\u001b[0m \u001b[0;34m(\u001b[0m\u001b[0mnested_args\u001b[0m\u001b[0;34m,\u001b[0m\u001b[0;34m)\u001b[0m\u001b[0;34m\u001b[0m\u001b[0;34m\u001b[0m\u001b[0m\n\u001b[1;32m   2633\u001b[0m \u001b[0;34m\u001b[0m\u001b[0m\n\u001b[0;32m-> 2634\u001b[0;31m       \u001b[0mret\u001b[0m \u001b[0;34m=\u001b[0m \u001b[0mautograph\u001b[0m\u001b[0;34m.\u001b[0m\u001b[0mtf_convert\u001b[0m\u001b[0;34m(\u001b[0m\u001b[0mfunc\u001b[0m\u001b[0;34m,\u001b[0m \u001b[0mag_ctx\u001b[0m\u001b[0;34m)\u001b[0m\u001b[0;34m(\u001b[0m\u001b[0;34m*\u001b[0m\u001b[0mnested_args\u001b[0m\u001b[0;34m)\u001b[0m\u001b[0;34m\u001b[0m\u001b[0;34m\u001b[0m\u001b[0m\n\u001b[0m\u001b[1;32m   2635\u001b[0m       \u001b[0;31m# If `func` returns a list of tensors, `nest.flatten()` and\u001b[0m\u001b[0;34m\u001b[0m\u001b[0;34m\u001b[0m\u001b[0;34m\u001b[0m\u001b[0m\n\u001b[1;32m   2636\u001b[0m       \u001b[0;31m# `ops.convert_to_tensor()` would conspire to attempt to stack\u001b[0m\u001b[0;34m\u001b[0m\u001b[0;34m\u001b[0m\u001b[0;34m\u001b[0m\u001b[0m\n",
      "\u001b[0;32m~/anaconda3/lib/python3.7/site-packages/tensorflow_core/python/autograph/impl/api.py\u001b[0m in \u001b[0;36mwrapper\u001b[0;34m(*args, **kwargs)\u001b[0m\n\u001b[1;32m    235\u001b[0m       \u001b[0;32mexcept\u001b[0m \u001b[0mException\u001b[0m \u001b[0;32mas\u001b[0m \u001b[0me\u001b[0m\u001b[0;34m:\u001b[0m  \u001b[0;31m# pylint:disable=broad-except\u001b[0m\u001b[0;34m\u001b[0m\u001b[0;34m\u001b[0m\u001b[0m\n\u001b[1;32m    236\u001b[0m         \u001b[0;32mif\u001b[0m \u001b[0mhasattr\u001b[0m\u001b[0;34m(\u001b[0m\u001b[0me\u001b[0m\u001b[0;34m,\u001b[0m \u001b[0;34m'ag_error_metadata'\u001b[0m\u001b[0;34m)\u001b[0m\u001b[0;34m:\u001b[0m\u001b[0;34m\u001b[0m\u001b[0;34m\u001b[0m\u001b[0m\n\u001b[0;32m--> 237\u001b[0;31m           \u001b[0;32mraise\u001b[0m \u001b[0me\u001b[0m\u001b[0;34m.\u001b[0m\u001b[0mag_error_metadata\u001b[0m\u001b[0;34m.\u001b[0m\u001b[0mto_exception\u001b[0m\u001b[0;34m(\u001b[0m\u001b[0me\u001b[0m\u001b[0;34m)\u001b[0m\u001b[0;34m\u001b[0m\u001b[0;34m\u001b[0m\u001b[0m\n\u001b[0m\u001b[1;32m    238\u001b[0m         \u001b[0;32melse\u001b[0m\u001b[0;34m:\u001b[0m\u001b[0;34m\u001b[0m\u001b[0;34m\u001b[0m\u001b[0m\n\u001b[1;32m    239\u001b[0m           \u001b[0;32mraise\u001b[0m\u001b[0;34m\u001b[0m\u001b[0;34m\u001b[0m\u001b[0m\n",
      "\u001b[0;31mAttributeError\u001b[0m: in converted code:\n\n    <ipython-input-8-becd7bc26350>:11 _parse_function  *\n        features = {\n\n    AttributeError: module 'tensorflow' has no attribute 'FixedLenFeature'\n"
     ]
    }
   ],
   "source": [
    "# Create the Dataset object.\n",
    "ds = tf.data.TFRecordDataset(os.path.join('Dota_data',\n",
    "                                          'mixed_skill',\n",
    "                                          'dota2_training_data',\n",
    "                                          'radiant_windota2_training_data.tfrecords'),\n",
    "                             compression_type=\"GZIP\")\n",
    "# Map features and labels with the parse function.\n",
    "ds = ds.map(_parse_function)\n",
    "ds"
   ]
  },
  {
   "cell_type": "code",
   "execution_count": 5,
   "metadata": {
    "ExecuteTime": {
     "end_time": "2019-10-09T05:43:19.792568Z",
     "start_time": "2019-10-09T05:43:19.165343Z"
    },
    "scrolled": true
   },
   "outputs": [
    {
     "data": {
      "text/plain": [
       "({'radiant_heroes': array([ 21, 105,  69,  12,  59]),\n",
       "  'dire_heroes': array([ 42,  67,  64, 112,  22])},\n",
       " array([1]))"
      ]
     },
     "execution_count": 5,
     "metadata": {},
     "output_type": "execute_result"
    }
   ],
   "source": [
    "ds = ds.shuffle(10000)\n",
    "n = ds.make_one_shot_iterator().get_next()\n",
    "sess = tf.Session()\n",
    "sess.run(n)"
   ]
  },
  {
   "cell_type": "markdown",
   "metadata": {},
   "source": [
    "## Model Functions"
   ]
  },
  {
   "cell_type": "code",
   "execution_count": 6,
   "metadata": {
    "ExecuteTime": {
     "end_time": "2019-10-09T05:43:19.800460Z",
     "start_time": "2019-10-09T05:43:19.794504Z"
    }
   },
   "outputs": [],
   "source": [
    "# Create an input_fn that parses the tf.Examples from the given files,\n",
    "# and split them into features and targets.\n",
    "def _input_fn(input_filenames, num_epochs=None, \n",
    "              shuffle=True, batch_size=50,compression_type=\"\"):\n",
    "   \n",
    "  # Same code as above; create a dataset and map features and labels.\n",
    "    ds = tf.data.TFRecordDataset(input_filenames,compression_type=compression_type)\n",
    "    ds = ds.map(_parse_function)\n",
    "\n",
    "    if shuffle:\n",
    "        ds = ds.shuffle(10000)\n",
    "\n",
    "    # Our feature data is variable-length, so we pad and batch\n",
    "    # each field of the dataset structure to whatever size is necessary.\n",
    "    ds = ds.padded_batch(batch_size, ds.output_shapes)\n",
    "  \n",
    "    ds = ds.repeat(num_epochs)\n",
    "  \n",
    "    # Return the next batch of data.\n",
    "    features, labels = ds.make_one_shot_iterator().get_next()\n",
    "    return features, labels"
   ]
  },
  {
   "cell_type": "markdown",
   "metadata": {},
   "source": [
    "## Linear model with explicit vocabulary (all heroes)"
   ]
  },
  {
   "cell_type": "code",
   "execution_count": 4,
   "metadata": {
    "ExecuteTime": {
     "end_time": "2019-10-10T17:12:28.068215Z",
     "start_time": "2019-10-10T17:12:28.063836Z"
    },
    "code_folding": []
   },
   "outputs": [],
   "source": [
    "def construct_hero_categorical_columns(keys, vocab):\n",
    "    \"\"\"Construct categorical features for all features\n",
    "        Args: \n",
    "            input_features: names of input feature columns to use\n",
    "        returns:\n",
    "            a set of categorical columns\n",
    "    \"\"\"\n",
    "    return set([tf.feature_column.categorical_column_with_vocabulary_list(key,\n",
    "                                                                     vocabulary_list = vocab,\n",
    "                                                                     num_oov_buckets =0)\n",
    "                                    for key in keys])\n",
    "                                                               "
   ]
  },
  {
   "cell_type": "markdown",
   "metadata": {},
   "source": [
    "## Define and train the linear model"
   ]
  },
  {
   "cell_type": "code",
   "execution_count": 2,
   "metadata": {
    "ExecuteTime": {
     "end_time": "2019-10-10T17:12:21.003232Z",
     "start_time": "2019-10-10T17:12:20.985072Z"
    },
    "code_folding": []
   },
   "outputs": [],
   "source": [
    "def train_linear_model(\n",
    "    learning_rate,\n",
    "    steps,\n",
    "    batch_size,\n",
    "    feature_columns,\n",
    "    training_file,\n",
    "    validation_file,\n",
    "    compression_type):\n",
    "    \"\"\"Trains a linear regression model.\n",
    "  \n",
    "    In addition to training, this function also prints training progress information,\n",
    "    as well as a plot of the training and validation loss over time.\n",
    "      \n",
    "    Args:\n",
    "        learning_rate: A `float`, the learning rate.\n",
    "        steps: A non-zero `int`, the total number of training steps. A training step\n",
    "          consists of a forward and backward pass using a single batch.\n",
    "        batch_size: A `int` specifying the number of examples for each training step.\n",
    "        feature_columns: A `set` specifying the input feature columns to use.\n",
    "        training_examples: A `DataFrame` containing one or more columns from\n",
    "          `dota2_df` to use as input features for training.\n",
    "        training_targets: A `DataFrame` containing exactly one column from\n",
    "          `dota2_df` to use as target for training.\n",
    "      \n",
    "    Returns:\n",
    "        A `LinearClassifier` object trained on the training data.\n",
    "    \"\"\"\n",
    "\n",
    "    periods = 20\n",
    "    steps_per_period = steps / periods\n",
    "\n",
    "    # Create a linear regressor object.\n",
    "    my_optimizer = tf.keras.optimizers.AdamOptimizer(learning_rate=learning_rate)\n",
    "    my_optimizer = tf.clip_by_global_norm(my_optimizer, 5.0)\n",
    "    linear_classifier = tf.estimator.LinearClassifier(\n",
    "      feature_columns=feature_columns,\n",
    "      optimizer=my_optimizer,\n",
    "      config=tf.estimator.RunConfig(keep_checkpoint_max=1)\n",
    "      )\n",
    "       \n",
    "    training_input_fn =lambda: _input_fn([training_file], \n",
    "                                         batch_size=batch_size,\n",
    "                                         compression_type=compression_type)\n",
    "    validation_input_fn =lambda: _input_fn([validation_file], \n",
    "                                           batch_size=batch_size,\n",
    "                                          compression_type=compression_type)\n",
    "\n",
    "    # Train the model, but do so inside a loop so that we can periodically assess\n",
    "    # loss metrics.\n",
    "    print(\"Training model...\")\n",
    "    \n",
    "    \n",
    "    training_loss = []\n",
    "    validation_loss = []\n",
    "    for i in range(periods):\n",
    "        # Train the model, starting from the prior state.\n",
    "        linear_classifier.train(\n",
    "            input_fn=training_input_fn,\n",
    "            steps=steps_per_period)\n",
    "        \n",
    "        # Take a break and compute predictions.\n",
    "        evaluation_metrics = linear_classifier.evaluate(\n",
    "            input_fn=training_input_fn,\n",
    "            steps=steps_per_period)\n",
    "        training_loss.append(evaluation_metrics['loss'])\n",
    "                            \n",
    "        evaluation_metrics = linear_classifier.evaluate(\n",
    "            input_fn=validation_input_fn,\n",
    "            steps=steps_per_period)    \n",
    "        validation_loss.append(evaluation_metrics['loss'])\n",
    "        \n",
    "        print('validation loss', evaluation_metrics['loss'])\n",
    "\n",
    "    #save trained model\n",
    "    serving_input_fn = tf.estimator.export.build_parsing_serving_input_receiver_fn(\n",
    "                          tf.feature_column.make_parse_example_spec(feature_columns))\n",
    "    export_path = linear_classifier.export_saved_model(\n",
    "                            os.path.join('trained_models','LIN','_lr'+str(learning_rate)\n",
    "                        +'_s'+str(steps)+'_bs'+str(batch_size)), serving_input_fn)\n",
    "    \n",
    "    print('model saved at:/trained_models/LIN/'+'_lr'+str(learning_rate)+'_s'+str(steps)\n",
    "          +'_bs'+str(batch_size)+'/'+str(int(time.time())))\n",
    "    \n",
    "    print(\"validation set metrics:\")\n",
    "    for m in evaluation_metrics:\n",
    "        print(m, evaluation_metrics[m])\n",
    "    print(\"---\")\n",
    "    \n",
    "    plt.plot(training_loss,label='Training loss')\n",
    "    plt.plot(validation_loss,label='validation loss')\n",
    "    plt.legend()\n",
    "    plt.show()\n",
    "    \n",
    "    return linear_classifier\n"
   ]
  },
  {
   "cell_type": "code",
   "execution_count": 5,
   "metadata": {
    "ExecuteTime": {
     "end_time": "2019-10-10T17:12:33.342150Z",
     "start_time": "2019-10-10T17:12:33.323904Z"
    }
   },
   "outputs": [
    {
     "ename": "NameError",
     "evalue": "name 'hero_vocab' is not defined",
     "output_type": "error",
     "traceback": [
      "\u001b[0;31m---------------------------------------------------------------------------\u001b[0m",
      "\u001b[0;31mNameError\u001b[0m                                 Traceback (most recent call last)",
      "\u001b[0;32m<ipython-input-5-b6901d1d2391>\u001b[0m in \u001b[0;36m<module>\u001b[0;34m\u001b[0m\n\u001b[1;32m      9\u001b[0m \u001b[0;34m\u001b[0m\u001b[0m\n\u001b[1;32m     10\u001b[0m categorical_column = construct_hero_categorical_columns(['radiant_heroes','dire_heroes'],\n\u001b[0;32m---> 11\u001b[0;31m                                                        hero_vocab)\n\u001b[0m",
      "\u001b[0;31mNameError\u001b[0m: name 'hero_vocab' is not defined"
     ]
    }
   ],
   "source": [
    "training_file = os.path.join('Dota_data',\n",
    "                             'mixed_skill',\n",
    "                             'dota2_training_data',\n",
    "                             'radiant_windota2_training_data.tfrecords')\n",
    "validation_file = os.path.join('Dota_data',\n",
    "                             'mixed_skill',\n",
    "                             'dota2_validation_data',\n",
    "                             'radiant_windota2_validation_data.tfrecords')\n",
    "\n",
    "categorical_column = construct_hero_categorical_columns(['radiant_heroes','dire_heroes'],\n",
    "                                                       hero_vocab)"
   ]
  },
  {
   "cell_type": "code",
   "execution_count": null,
   "metadata": {
    "ExecuteTime": {
     "end_time": "2019-10-09T22:35:16.198179Z",
     "start_time": "2019-10-09T22:18:38.840Z"
    },
    "scrolled": true
   },
   "outputs": [],
   "source": [
    "trained_linear_model = train_linear_model(\n",
    "    learning_rate=0.0005,\n",
    "    steps=5e2,\n",
    "    batch_size=50000,\n",
    "    feature_columns=categorical_column,\n",
    "    training_file=training_file,\n",
    "    validation_file=validation_file,\n",
    "    compression_type=\"GZIP\")"
   ]
  },
  {
   "cell_type": "code",
   "execution_count": null,
   "metadata": {
    "ExecuteTime": {
     "end_time": "2019-10-09T22:35:16.199740Z",
     "start_time": "2019-10-09T22:18:39.151Z"
    },
    "scrolled": true
   },
   "outputs": [],
   "source": [
    "trained_linear_model = train_linear_model(\n",
    "    learning_rate=0.0005,\n",
    "    steps=5e3,\n",
    "    batch_size=500,\n",
    "    feature_columns=categorical_column,\n",
    "    training_file=training_file,\n",
    "    validation_file=validation_file,\n",
    "    compression_type=\"GZIP\")"
   ]
  },
  {
   "cell_type": "code",
   "execution_count": 14,
   "metadata": {
    "ExecuteTime": {
     "end_time": "2019-10-09T22:35:16.195762Z",
     "start_time": "2019-10-09T22:18:36.323182Z"
    },
    "scrolled": false
   },
   "outputs": [
    {
     "name": "stdout",
     "output_type": "stream",
     "text": [
      "Training model...\n",
      "validation loss 3292.8647\n",
      "validation loss 3276.0032\n",
      "validation loss 3263.6008\n",
      "validation loss 3254.011\n",
      "validation loss 3246.0986\n",
      "validation loss 3240.1853\n",
      "validation loss 3235.2515\n",
      "validation loss 3231.118\n",
      "validation loss 3228.544\n",
      "validation loss 3225.809\n",
      "validation loss 3223.9858\n",
      "validation loss 3222.9907\n",
      "validation loss 3221.444\n",
      "validation loss 3220.4453\n",
      "validation loss 3219.9316\n",
      "validation loss 3218.7185\n",
      "validation loss 3218.3728\n",
      "validation loss 3218.7144\n",
      "validation loss 3217.608\n",
      "validation loss 3218.0156\n"
     ]
    },
    {
     "ename": "TypeError",
     "evalue": "int() argument must be a string, a bytes-like object or a number, not 'builtin_function_or_method'",
     "output_type": "error",
     "traceback": [
      "\u001b[0;31m---------------------------------------------------------------------------\u001b[0m",
      "\u001b[0;31mTypeError\u001b[0m                                 Traceback (most recent call last)",
      "\u001b[0;32m<ipython-input-14-6a9499e6469d>\u001b[0m in \u001b[0;36m<module>\u001b[0;34m\u001b[0m\n\u001b[1;32m      6\u001b[0m     \u001b[0mtraining_file\u001b[0m\u001b[0;34m=\u001b[0m\u001b[0mtraining_file\u001b[0m\u001b[0;34m,\u001b[0m\u001b[0;34m\u001b[0m\u001b[0;34m\u001b[0m\u001b[0m\n\u001b[1;32m      7\u001b[0m     \u001b[0mvalidation_file\u001b[0m\u001b[0;34m=\u001b[0m\u001b[0mvalidation_file\u001b[0m\u001b[0;34m,\u001b[0m\u001b[0;34m\u001b[0m\u001b[0;34m\u001b[0m\u001b[0m\n\u001b[0;32m----> 8\u001b[0;31m     compression_type=\"GZIP\")\n\u001b[0m",
      "\u001b[0;32m<ipython-input-8-f9f671baeda5>\u001b[0m in \u001b[0;36mtrain_linear_model\u001b[0;34m(learning_rate, steps, batch_size, feature_columns, training_file, validation_file, compression_type)\u001b[0m\n\u001b[1;32m     80\u001b[0m \u001b[0;34m\u001b[0m\u001b[0m\n\u001b[1;32m     81\u001b[0m     print('model saved at:/trained_models/LIN/'+'_lr'+str(learning_rate)+'_s'+str(steps)\n\u001b[0;32m---> 82\u001b[0;31m           +'_bs'+str(batch_size)+'/'+str(int(time.time)))\n\u001b[0m\u001b[1;32m     83\u001b[0m \u001b[0;34m\u001b[0m\u001b[0m\n\u001b[1;32m     84\u001b[0m     \u001b[0mprint\u001b[0m\u001b[0;34m(\u001b[0m\u001b[0;34m\"validation set metrics:\"\u001b[0m\u001b[0;34m)\u001b[0m\u001b[0;34m\u001b[0m\u001b[0;34m\u001b[0m\u001b[0m\n",
      "\u001b[0;31mTypeError\u001b[0m: int() argument must be a string, a bytes-like object or a number, not 'builtin_function_or_method'"
     ]
    }
   ],
   "source": [
    "trained_linear_model = train_linear_model(\n",
    "    learning_rate=0.0005,\n",
    "    steps=1e3,\n",
    "    batch_size=5000,\n",
    "    feature_columns=categorical_column,\n",
    "    training_file=training_file,\n",
    "    validation_file=validation_file,\n",
    "    compression_type=\"GZIP\")"
   ]
  },
  {
   "cell_type": "code",
   "execution_count": 16,
   "metadata": {
    "ExecuteTime": {
     "end_time": "2019-10-09T23:03:41.084784Z",
     "start_time": "2019-10-09T23:01:18.103024Z"
    }
   },
   "outputs": [
    {
     "name": "stdout",
     "output_type": "stream",
     "text": [
      "Training model...\n",
      "validation loss 3.4621856\n",
      "validation loss 3.4657173\n",
      "validation loss 3.462072\n",
      "validation loss 3.4669216\n",
      "validation loss 3.4687839\n",
      "validation loss 3.4662185\n",
      "validation loss 3.473226\n",
      "validation loss 3.4621956\n",
      "validation loss 3.4705539\n",
      "validation loss 3.4740443\n",
      "validation loss 3.463873\n",
      "validation loss 3.4668689\n",
      "validation loss 3.4597237\n",
      "validation loss 3.4599013\n",
      "validation loss 3.463157\n",
      "validation loss 3.485374\n",
      "validation loss 3.4614635\n",
      "validation loss 3.461827\n",
      "validation loss 3.4465537\n",
      "validation loss 3.4830658\n",
      "model saved at:/trained_models/LIN/_lr0.0005_s100.0_bs5/1570662220\n",
      "validation set metrics:\n",
      "accuracy 0.36\n",
      "accuracy_baseline 0.68\n",
      "auc 0.60294116\n",
      "auc_precision_recall 0.4613636\n",
      "average_loss 0.69661313\n",
      "label/mean 0.32\n",
      "loss 3.4830658\n",
      "precision 0.33333334\n",
      "prediction/mean 0.50580096\n",
      "recall 1.0\n",
      "global_step 100\n",
      "---\n"
     ]
    },
    {
     "data": {
      "image/png": "[encoded data removed]",
      "text/plain": [
       "<Figure size 432x288 with 1 Axes>"
      ]
     },
     "metadata": {
      "needs_background": "light"
     },
     "output_type": "display_data"
    }
   ],
   "source": [
    "trained_linear_model = train_linear_model(\n",
    "    learning_rate=0.0005,\n",
    "    steps=1e2,\n",
    "    batch_size=5,\n",
    "    feature_columns=categorical_column,\n",
    "    training_file=training_file,\n",
    "    validation_file=validation_file,\n",
    "    compression_type=\"GZIP\")"
   ]
  },
  {
   "cell_type": "markdown",
   "metadata": {
    "heading_collapsed": true
   },
   "source": [
    "### Evaluate linear model on test set \n",
    "Don't do this until you're done tuning hyperparams!!"
   ]
  },
  {
   "cell_type": "code",
   "execution_count": 17,
   "metadata": {
    "ExecuteTime": {
     "end_time": "2019-02-03T00:27:52.173293Z",
     "start_time": "2019-02-03T00:27:49.447673Z"
    },
    "hidden": true
   },
   "outputs": [
    {
     "name": "stdout",
     "output_type": "stream",
     "text": [
      "accuracy 0.5852\n",
      "accuracy_baseline 0.5486\n",
      "auc 0.6071559\n",
      "auc_precision_recall 0.6377059\n",
      "average_loss 0.67106634\n",
      "label/mean 0.5486\n",
      "loss 33.553318\n",
      "precision 0.59609306\n",
      "prediction/mean 0.5435795\n",
      "recall 0.75647104\n",
      "global_step 1000000\n"
     ]
    }
   ],
   "source": [
    "test_file = os.path.join('dota2_test_data', 'dota2_test_data.tfrecords')\n",
    "test_input_fn =lambda: _input_fn([test_file])\n",
    "evaluation_metrics = trained_linear_model.evaluate(\n",
    "            input_fn=test_input_fn,\n",
    "            steps=100)\n",
    "for m in evaluation_metrics:\n",
    "    print(m, evaluation_metrics[m])"
   ]
  },
  {
   "cell_type": "markdown",
   "metadata": {},
   "source": [
    "## Define and train a DNN model"
   ]
  },
  {
   "cell_type": "markdown",
   "metadata": {},
   "source": [
    "### Define feature column constructor functions"
   ]
  },
  {
   "cell_type": "code",
   "execution_count": 39,
   "metadata": {
    "ExecuteTime": {
     "end_time": "2019-09-12T01:15:55.876769Z",
     "start_time": "2019-09-12T01:15:55.872509Z"
    }
   },
   "outputs": [],
   "source": [
    "def construct_indicator_columns(feature_columns):\n",
    "    \"\"\"Construct indicator columns for all features\n",
    "            from categorical columns\n",
    "        Args: \n",
    "            feature_columns: Set of 'tf.feature_column.categorical_column'\n",
    "                to convert to indicator columns\n",
    "        returns:\n",
    "            a list of indicator columns\n",
    "    \"\"\"\n",
    "    indicator_columns = []\n",
    "    for column in list(feature_columns):\n",
    "        indicator_columns.append(tf.feature_column.indicator_column(column))\n",
    "        \n",
    "    return indicator_columns\n",
    "        "
   ]
  },
  {
   "cell_type": "code",
   "execution_count": 40,
   "metadata": {
    "ExecuteTime": {
     "end_time": "2019-09-12T01:15:56.187791Z",
     "start_time": "2019-09-12T01:15:56.183541Z"
    }
   },
   "outputs": [],
   "source": [
    "def construct_embedding_columns(feature_columns, dimension):\n",
    "    \"\"\"Construct embedding columns for all features\n",
    "            from categorical columns\n",
    "        Args:\n",
    "            feature_columns: `Set` of 'tf.feature_column.categorical_column'\n",
    "                to convert to embedding columns\n",
    "            dimension: `int` that shows the \n",
    "        returns:\n",
    "            a list of embedding columns\n",
    "    \"\"\"\n",
    "            \n",
    "    embedding_columns = []\n",
    "    for column in list(feature_columns):\n",
    "        embedding_columns.append(tf.feature_column.embedding_column(column,dimension=dimension))\n",
    "        \n",
    "    return embedding_columns"
   ]
  },
  {
   "cell_type": "markdown",
   "metadata": {},
   "source": [
    "### Define model training function"
   ]
  },
  {
   "cell_type": "code",
   "execution_count": null,
   "metadata": {
    "ExecuteTime": {
     "end_time": "2019-10-08T15:07:56.918945Z",
     "start_time": "2019-10-07T21:22:44.123Z"
    }
   },
   "outputs": [],
   "source": [
    "def train_dnn_model(\n",
    "    learning_rate,\n",
    "    weight_decay,\n",
    "    hidden_units,\n",
    "    steps,\n",
    "    batch_size,\n",
    "    feature_columns,\n",
    "    training_file,\n",
    "    validation_file,\n",
    "    compression_type):\n",
    "    \"\"\"Trains a deep neural network regression model.\n",
    "  \n",
    "    In addition to training, this function also prints training progress information,\n",
    "    as well as a plot of the training and validation loss over time.\n",
    "      \n",
    "    Args:\n",
    "        weight_decay: A `float`, the weight decay for the AdamW optimizer\n",
    "        learning_rate: A `float`, the learning rate.\n",
    "        hidden_units: A `list` of `ints` specifying the number of layers and number \n",
    "            of nodes per layer.\n",
    "        steps: A non-zero `int`, the total number of training steps. A training step\n",
    "          consists of a forward and backward pass using a single batch.\n",
    "        feature_columns: A `set` specifying the input feature columns to use.\n",
    "        training_examples: A `DataFrame` containing one or more columns from\n",
    "          `dota2_df` to use as input features for training.\n",
    "        training_targets: A `DataFrame` containing exactly one column from\n",
    "          `dota2_df` to use as target for training.\n",
    "      \n",
    "    Returns:\n",
    "        A `DNNClassifer` object trained on the training data.\n",
    "    \"\"\"\n",
    "\n",
    "    periods = 20\n",
    "    steps_per_period = steps / periods\n",
    "\n",
    "    # Create a dnn regressor object.\n",
    "    my_optimizer = tf.contrib.opt.AdamWOptimizer(weight_decay=weight_decay,\n",
    "                                                 learning_rate=learning_rate)\n",
    "    dnn_classifier = tf.estimator.DNNClassifier(\n",
    "      feature_columns=feature_columns,\n",
    "      hidden_units=hidden_units,\n",
    "      optimizer=my_optimizer\n",
    "      )\n",
    "  \n",
    "    training_input_fn =lambda: _input_fn([training_file],batch_size=batch_size,\n",
    "                                         compression_type=compression_type)\n",
    "    validation_input_fn =lambda: _input_fn([validation_file],batch_size=batch_size,\n",
    "                                    compression_type=compression_type)\n",
    "\n",
    "    # Train the model, but do so inside a loop so that we can periodically assess\n",
    "    # loss metrics.\n",
    "    print(\"Training model...\")\n",
    "    \n",
    "    \n",
    "    training_loss = []\n",
    "    validation_loss = []\n",
    "    training_acc = []\n",
    "    validation_acc = []\n",
    "    for i in range(periods):\n",
    "        # Train the model, starting from the prior state.\n",
    "        dnn_classifier.train(\n",
    "            input_fn=training_input_fn,\n",
    "            steps=steps_per_period)\n",
    "        \n",
    "        # Take a break and compute predictions.\n",
    "        evaluation_metrics = dnn_classifier.evaluate(\n",
    "            input_fn=training_input_fn,\n",
    "            steps=steps_per_period)\n",
    "        training_loss.append(evaluation_metrics['loss'])\n",
    "        training_acc.append(evaluation_metrics['accuracy'])\n",
    "        \n",
    "        evaluation_metrics = dnn_classifier.evaluate(\n",
    "            input_fn=validation_input_fn,\n",
    "            steps=steps_per_period)    \n",
    "        validation_loss.append(evaluation_metrics['loss'])\n",
    "        validation_acc.append(evaluation_metrics['accuracy'])\n",
    "        print('validation loss', evaluation_metrics['loss'])\n",
    "    datetime=now.strftime('%Y%m%d_%H%M')\n",
    "    serving_input_fn = tf.estimator.export.build_parsing_serving_input_receiver_fn(\n",
    "                          tf.feature_column.make_parse_example_spec(feature_columns))\n",
    "    export_path = linear_classifier.export_saved_model(\n",
    "                        os.path.join('trained_models','DNN',+datetime+'_lr'+str(learning_rate)+'_wd'\n",
    "                        +str(weight_decay)+'_s'+str(steps)+'_bs'+str(batch_size)),\n",
    "                        serving_input_fn)\n",
    "    \n",
    "    print('model saved at:/trained_models/DNN/'+datetime\n",
    "          +'_lr'+str(learning_rate)+'_wd'+str(weight_decay)+\n",
    "          '_s'+str(steps)+'_bs'+str(batch_size))\n",
    "    \n",
    "    print(\"validation set metrics:\")\n",
    "    for m in evaluation_metrics:\n",
    "        print(m, evaluation_metrics[m])\n",
    "    print(\"---\")\n",
    "    \n",
    "    plt.plot(training_loss,label='Training loss')\n",
    "    plt.plot(validation_loss,label='validation loss')\n",
    "    plt.legend()\n",
    "    plt.show()\n",
    "    \n",
    "    plt.plot(training_acc,label='Training accuracy')\n",
    "    plt.plot(validation_acc,label='validation accuracy')\n",
    "    plt.legend()\n",
    "    plt.show()\n",
    "    return dnn_classifier\n"
   ]
  },
  {
   "cell_type": "markdown",
   "metadata": {},
   "source": [
    "### Specify path to tfrecord files and construct feature colums"
   ]
  },
  {
   "cell_type": "code",
   "execution_count": 59,
   "metadata": {
    "ExecuteTime": {
     "end_time": "2019-09-12T02:54:55.059547Z",
     "start_time": "2019-09-12T02:54:55.053737Z"
    }
   },
   "outputs": [],
   "source": [
    "training_file = os.path.join('Dota_data',\n",
    "                             'mixed_skill',\n",
    "                             'dota2_training_data',\n",
    "                             'radiant_windota2_training_data.tfrecords')\n",
    "validation_file = os.path.join('Dota_data',\n",
    "                             'mixed_skill',\n",
    "                             'dota2_validation_data',\n",
    "                             'radiant_windota2_validation_data.tfrecords')\n",
    "\n",
    "categorical_feature_columns = construct_hero_categorical_columns(['radiant_heroes','dire_heroes'],\n",
    "                                                       hero_vocab)\n",
    "indicator_feature_columns = construct_indicator_columns(categorical_feature_columns)\n",
    "\n",
    "embed_dim = 4\n",
    "embedding_feature_columns = construct_embedding_columns(categorical_feature_columns,dimension=embed_dim)"
   ]
  },
  {
   "cell_type": "markdown",
   "metadata": {},
   "source": [
    "### Train model"
   ]
  },
  {
   "cell_type": "code",
   "execution_count": 61,
   "metadata": {
    "ExecuteTime": {
     "end_time": "2019-09-12T03:08:45.216324Z",
     "start_time": "2019-09-12T02:55:41.813567Z"
    },
    "scrolled": true
   },
   "outputs": [
    {
     "name": "stdout",
     "output_type": "stream",
     "text": [
      "Training model...\n",
      "validation loss 3327.641\n",
      "validation loss 3325.7258\n",
      "validation loss 3321.6174\n",
      "validation loss 3318.9692\n",
      "validation loss 3315.723\n",
      "validation loss 3309.3757\n",
      "validation loss 3303.0242\n",
      "validation loss 3295.6978\n",
      "validation loss 3287.4314\n",
      "validation loss 3280.6794\n",
      "validation loss 3275.186\n",
      "validation loss 3270.7642\n",
      "validation loss 3263.982\n",
      "validation loss 3261.4634\n",
      "validation loss 3255.719\n",
      "validation loss 3252.8638\n",
      "validation loss 3252.22\n",
      "validation loss 3250.519\n",
      "validation loss 3249.7432\n",
      "validation loss 3245.5493\n",
      "validation set metrics:\n",
      "accuracy 0.58229405\n",
      "accuracy_baseline 0.5481486\n",
      "auc 0.6042861\n",
      "auc_precision_recall 0.6364126\n",
      "average_loss 0.6716412\n",
      "label/mean 0.5481486\n",
      "loss 3245.5493\n",
      "precision 0.5964973\n",
      "prediction/mean 0.5469724\n",
      "recall 0.7355029\n",
      "global_step 300\n",
      "---\n"
     ]
    },
    {
     "data": {
      "image/png": "[encoded data removed]",
      "text/plain": [
       "<Figure size 432x288 with 1 Axes>"
      ]
     },
     "metadata": {
      "needs_background": "light"
     },
     "output_type": "display_data"
    },
    {
     "data": {
      "image/png": "[encoded data removed]",
      "text/plain": [
       "<Figure size 432x288 with 1 Axes>"
      ]
     },
     "metadata": {
      "needs_background": "light"
     },
     "output_type": "display_data"
    }
   ],
   "source": [
    "dnn_rate = .0025\n",
    "dnn_decay = .0004\n",
    "dnn_hidden_units = [10,10]\n",
    "dnn_steps = 3e2\n",
    "dnn_batch_size = 5000\n",
    "trained_dnn_model = train_dnn_model(\n",
    "    learning_rate = dnn_rate,\n",
    "    weight_decay = dnn_decay,\n",
    "    hidden_units = dnn_hidden_units,\n",
    "    steps = dnn_steps,\n",
    "    batch_size = dnn_batch_size,\n",
    "    feature_columns=embedding_feature_columns,\n",
    "    training_file=training_file,\n",
    "    validation_file=validation_file,\n",
    "    compression_type=\"GZIP\")"
   ]
  },
  {
   "cell_type": "code",
   "execution_count": 62,
   "metadata": {
    "ExecuteTime": {
     "end_time": "2019-09-12T03:45:30.478553Z",
     "start_time": "2019-09-12T03:10:11.693970Z"
    },
    "scrolled": true
   },
   "outputs": [
    {
     "name": "stdout",
     "output_type": "stream",
     "text": [
      "Training model...\n",
      "validation loss 3297.456\n",
      "validation loss 3280.8757\n",
      "validation loss 3258.37\n",
      "validation loss 3237.0059\n",
      "validation loss 3225.048\n",
      "validation loss 3221.1755\n",
      "validation loss 3219.4866\n",
      "validation loss 3219.2463\n",
      "validation loss 3218.4368\n",
      "validation loss 3219.0356\n",
      "validation loss 3218.906\n",
      "validation loss 3219.1782\n",
      "validation loss 3218.4846\n",
      "validation loss 3218.8953\n",
      "validation loss 3218.7937\n",
      "validation loss 3218.7478\n",
      "validation loss 3218.7998\n",
      "validation loss 3218.762\n",
      "validation loss 3218.9148\n",
      "validation loss 3219.5457\n",
      "validation set metrics:\n",
      "accuracy 0.5832722\n",
      "accuracy_baseline 0.548092\n",
      "auc 0.6065697\n",
      "auc_precision_recall 0.6391052\n",
      "average_loss 0.6709176\n",
      "label/mean 0.548092\n",
      "loss 3219.5457\n",
      "precision 0.5916767\n",
      "prediction/mean 0.55537164\n",
      "recall 0.77342653\n",
      "global_step 1000\n",
      "---\n"
     ]
    },
    {
     "data": {
      "image/png": "[encoded data removed]",
      "text/plain": [
       "<Figure size 432x288 with 1 Axes>"
      ]
     },
     "metadata": {
      "needs_background": "light"
     },
     "output_type": "display_data"
    },
    {
     "data": {
      "image/png": "[encoded data removed]",
      "text/plain": [
       "<Figure size 432x288 with 1 Axes>"
      ]
     },
     "metadata": {
      "needs_background": "light"
     },
     "output_type": "display_data"
    }
   ],
   "source": [
    "dnn_rate = .0025\n",
    "dnn_decay = .0004\n",
    "dnn_hidden_units = [10,10]\n",
    "dnn_steps = 1e3\n",
    "dnn_batch_size = 5000\n",
    "trained_dnn_model = train_dnn_model(\n",
    "    learning_rate = dnn_rate,\n",
    "    weight_decay = dnn_decay,\n",
    "    hidden_units = dnn_hidden_units,\n",
    "    steps = dnn_steps,\n",
    "    batch_size = dnn_batch_size,\n",
    "    feature_columns=embedding_feature_columns,\n",
    "    training_file=training_file,\n",
    "    validation_file=validation_file,\n",
    "    compression_type=\"GZIP\")"
   ]
  },
  {
   "cell_type": "code",
   "execution_count": 63,
   "metadata": {
    "ExecuteTime": {
     "end_time": "2019-09-12T03:59:10.210015Z",
     "start_time": "2019-09-12T03:45:30.480902Z"
    },
    "scrolled": true
   },
   "outputs": [
    {
     "name": "stdout",
     "output_type": "stream",
     "text": [
      "Training model...\n",
      "validation loss 3325.7344\n",
      "validation loss 3321.0437\n",
      "validation loss 3315.7424\n",
      "validation loss 3311.3936\n",
      "validation loss 3304.9092\n",
      "validation loss 3295.9954\n",
      "validation loss 3289.886\n",
      "validation loss 3281.6875\n",
      "validation loss 3273.0942\n",
      "validation loss 3269.242\n",
      "validation loss 3261.5288\n",
      "validation loss 3259.5437\n",
      "validation loss 3255.154\n",
      "validation loss 3251.03\n",
      "validation loss 3250.6794\n",
      "validation loss 3249.2625\n",
      "validation loss 3248.1497\n",
      "validation loss 3249.3716\n",
      "validation loss 3248.1157\n",
      "validation loss 3248.7283\n",
      "validation set metrics:\n",
      "accuracy 0.58138347\n",
      "accuracy_baseline 0.5464792\n",
      "auc 0.60373175\n",
      "auc_precision_recall 0.6348101\n",
      "average_loss 0.6722991\n",
      "label/mean 0.5464792\n",
      "loss 3248.7283\n",
      "precision 0.5932357\n",
      "prediction/mean 0.5513915\n",
      "recall 0.74436396\n",
      "global_step 300\n",
      "---\n"
     ]
    },
    {
     "data": {
      "image/png": "[encoded data removed]",
      "text/plain": [
       "<Figure size 432x288 with 1 Axes>"
      ]
     },
     "metadata": {
      "needs_background": "light"
     },
     "output_type": "display_data"
    },
    {
     "data": {
      "image/png": "[encoded data removed]",
      "text/plain": [
       "<Figure size 432x288 with 1 Axes>"
      ]
     },
     "metadata": {
      "needs_background": "light"
     },
     "output_type": "display_data"
    }
   ],
   "source": [
    "\n",
    "dnn_rate = .0025\n",
    "dnn_decay = .0002\n",
    "dnn_hidden_units = [10,10]\n",
    "dnn_steps = 3e2\n",
    "dnn_batch_size = 5000\n",
    "trained_dnn_model = train_dnn_model(\n",
    "    learning_rate = dnn_rate,\n",
    "    weight_decay = dnn_decay,\n",
    "    hidden_units = dnn_hidden_units,\n",
    "    steps = dnn_steps,\n",
    "    batch_size = dnn_batch_size,\n",
    "    feature_columns=embedding_feature_columns,\n",
    "    training_file=training_file,\n",
    "    validation_file=validation_file,\n",
    "    compression_type=\"GZIP\")"
   ]
  },
  {
   "cell_type": "code",
   "execution_count": 64,
   "metadata": {
    "ExecuteTime": {
     "end_time": "2019-09-12T04:34:18.076706Z",
     "start_time": "2019-09-12T03:59:10.212824Z"
    },
    "scrolled": true
   },
   "outputs": [
    {
     "name": "stdout",
     "output_type": "stream",
     "text": [
      "Training model...\n",
      "validation loss 3293.7053\n",
      "validation loss 3270.2385\n",
      "validation loss 3245.7195\n",
      "validation loss 3231.3179\n",
      "validation loss 3223.3096\n",
      "validation loss 3220.7546\n",
      "validation loss 3218.8357\n",
      "validation loss 3218.7522\n",
      "validation loss 3218.6287\n",
      "validation loss 3218.061\n",
      "validation loss 3218.2458\n",
      "validation loss 3218.2407\n",
      "validation loss 3218.483\n",
      "validation loss 3217.9312\n",
      "validation loss 3218.946\n",
      "validation loss 3218.51\n",
      "validation loss 3219.2146\n",
      "validation loss 3218.8223\n",
      "validation loss 3218.2876\n",
      "validation loss 3218.6855\n",
      "validation set metrics:\n",
      "accuracy 0.5823136\n",
      "accuracy_baseline 0.54832536\n",
      "auc 0.6067864\n",
      "auc_precision_recall 0.6403034\n",
      "average_loss 0.67073834\n",
      "label/mean 0.54832536\n",
      "loss 3218.6855\n",
      "precision 0.5928207\n",
      "prediction/mean 0.5522002\n",
      "recall 0.7608218\n",
      "global_step 1000\n",
      "---\n"
     ]
    },
    {
     "data": {
      "image/png": "[encoded data removed]",
      "text/plain": [
       "<Figure size 432x288 with 1 Axes>"
      ]
     },
     "metadata": {
      "needs_background": "light"
     },
     "output_type": "display_data"
    },
    {
     "data": {
      "image/png": "[encoded data removed]",
      "text/plain": [
       "<Figure size 432x288 with 1 Axes>"
      ]
     },
     "metadata": {
      "needs_background": "light"
     },
     "output_type": "display_data"
    }
   ],
   "source": [
    "dnn_rate = .0025\n",
    "dnn_decay = .0002\n",
    "dnn_hidden_units = [10,10]\n",
    "dnn_steps = 1e3\n",
    "dnn_batch_size = 5000\n",
    "trained_dnn_model = train_dnn_model(\n",
    "    learning_rate = dnn_rate,\n",
    "    weight_decay = dnn_decay,\n",
    "    hidden_units = dnn_hidden_units,\n",
    "    steps = dnn_steps,\n",
    "    batch_size = dnn_batch_size,\n",
    "    feature_columns=embedding_feature_columns,\n",
    "    training_file=training_file,\n",
    "    validation_file=validation_file,\n",
    "    compression_type=\"GZIP\")"
   ]
  },
  {
   "cell_type": "code",
   "execution_count": 65,
   "metadata": {
    "ExecuteTime": {
     "end_time": "2019-09-12T04:55:01.220876Z",
     "start_time": "2019-09-12T04:34:18.079554Z"
    },
    "scrolled": true
   },
   "outputs": [
    {
     "name": "stdout",
     "output_type": "stream",
     "text": [
      "Training model...\n",
      "validation loss 3251.7266\n",
      "validation loss 3223.915\n",
      "validation loss 3221.9758\n",
      "validation loss 3220.8447\n",
      "validation loss 3222.183\n",
      "validation loss 3223.73\n",
      "validation loss 3221.8647\n",
      "validation loss 3221.554\n",
      "validation loss 3222.32\n",
      "validation loss 3221.3223\n",
      "validation loss 3224.7336\n",
      "validation loss 3225.703\n",
      "validation loss 3225.2725\n",
      "validation loss 3225.4353\n",
      "validation loss 3226.5378\n",
      "validation loss 3226.2385\n",
      "validation loss 3230.9417\n",
      "validation loss 3227.3503\n",
      "validation loss 3226.9941\n",
      "validation loss 3228.2788\n",
      "validation set metrics:\n",
      "accuracy 0.5808882\n",
      "accuracy_baseline 0.54813784\n",
      "auc 0.6002308\n",
      "auc_precision_recall 0.635291\n",
      "average_loss 0.6727375\n",
      "label/mean 0.54813784\n",
      "loss 3228.2788\n",
      "precision 0.59452593\n",
      "prediction/mean 0.54237974\n",
      "recall 0.7402485\n",
      "global_step 500\n",
      "---\n"
     ]
    },
    {
     "data": {
      "image/png": "[encoded data removed]",
      "text/plain": [
       "<Figure size 432x288 with 1 Axes>"
      ]
     },
     "metadata": {
      "needs_background": "light"
     },
     "output_type": "display_data"
    },
    {
     "data": {
      "image/png": "[encoded data removed]",
      "text/plain": [
       "<Figure size 432x288 with 1 Axes>"
      ]
     },
     "metadata": {
      "needs_background": "light"
     },
     "output_type": "display_data"
    }
   ],
   "source": [
    "dnn_rate = .025\n",
    "dnn_decay = .002\n",
    "dnn_hidden_units = [10,10]\n",
    "dnn_steps = 5e2\n",
    "dnn_batch_size = 5000\n",
    "trained_dnn_model = train_dnn_model(\n",
    "    learning_rate = dnn_rate,\n",
    "    weight_decay = dnn_decay,\n",
    "    hidden_units = dnn_hidden_units,\n",
    "    steps = dnn_steps,\n",
    "    batch_size = dnn_batch_size,\n",
    "    feature_columns=embedding_feature_columns,\n",
    "    training_file=training_file,\n",
    "    validation_file=validation_file,\n",
    "    compression_type=\"GZIP\")"
   ]
  },
  {
   "cell_type": "code",
   "execution_count": 67,
   "metadata": {
    "ExecuteTime": {
     "end_time": "2019-09-12T05:11:23.632070Z",
     "start_time": "2019-09-12T05:03:48.416834Z"
    },
    "scrolled": true
   },
   "outputs": [
    {
     "name": "stdout",
     "output_type": "stream",
     "text": [
      "Training model...\n",
      "validation loss 3441.5679\n",
      "validation loss 3437.0718\n",
      "validation loss 3426.1187\n",
      "validation loss 3410.9634\n",
      "validation loss 3401.7234\n",
      "validation loss 3393.8418\n",
      "validation loss 3382.7864\n",
      "validation loss 3379.3618\n",
      "validation loss 3374.23\n",
      "validation loss 3375.7234\n",
      "validation loss 3380.3079\n",
      "validation loss 3381.899\n",
      "validation loss 3383.4849\n",
      "validation loss 3389.8657\n",
      "validation loss 3387.1245\n",
      "validation loss 3391.8472\n",
      "validation loss 3397.6504\n",
      "validation loss 3399.2202\n",
      "validation loss 3406.188\n",
      "validation loss 3400.4622\n",
      "validation set metrics:\n",
      "accuracy 0.57308\n",
      "accuracy_baseline 0.54788\n",
      "auc 0.58627343\n",
      "auc_precision_recall 0.6207758\n",
      "average_loss 0.6800924\n",
      "label/mean 0.54788\n",
      "loss 3400.4622\n",
      "precision 0.58555907\n",
      "prediction/mean 0.55282444\n",
      "recall 0.7554939\n",
      "global_step 100\n",
      "---\n"
     ]
    },
    {
     "data": {
      "image/png": "[encoded data removed]",
      "text/plain": [
       "<Figure size 432x288 with 1 Axes>"
      ]
     },
     "metadata": {
      "needs_background": "light"
     },
     "output_type": "display_data"
    },
    {
     "data": {
      "image/png": "[encoded data removed]",
      "text/plain": [
       "<Figure size 432x288 with 1 Axes>"
      ]
     },
     "metadata": {
      "needs_background": "light"
     },
     "output_type": "display_data"
    }
   ],
   "source": [
    "my_optimizer = tf.contrib.opt.AdamWOptimizer(weight_decay=0.002, learning_rate=0.025)\n",
    "#my_optimizer = tf.contrib.estimator.clip_gradients_by_norm(my_optimizer, 5.0)\n",
    "\n",
    "dnn_rate = .025\n",
    "dnn_decay = .002\n",
    "dnn_hidden_units = [10,10]\n",
    "dnn_steps = 1e2\n",
    "dnn_batch_size = 5000\n",
    "trained_dnn_model = train_dnn_model(\n",
    "    learning_rate = dnn_rate,\n",
    "    weight_decay = dnn_decay,\n",
    "    hidden_units = dnn_hidden_units,\n",
    "    steps = dnn_steps,\n",
    "    batch_size = dnn_batch_size,\n",
    "    feature_columns=embedding_feature_columns,\n",
    "    training_file=training_file,\n",
    "    validation_file=validation_file,\n",
    "    compression_type=\"GZIP\")"
   ]
  },
  {
   "cell_type": "markdown",
   "metadata": {},
   "source": [
    "### Validate model\n",
    "only do this if you're done training!!"
   ]
  },
  {
   "cell_type": "code",
   "execution_count": 10,
   "metadata": {
    "ExecuteTime": {
     "end_time": "2019-04-01T15:48:29.654698Z",
     "start_time": "2019-04-01T15:45:28.708821Z"
    },
    "scrolled": true
   },
   "outputs": [
    {
     "name": "stdout",
     "output_type": "stream",
     "text": [
      "accuracy 0.5890347\n",
      "accuracy_baseline 0.543492\n",
      "auc 0.6158235\n",
      "auc_precision_recall 0.64411813\n",
      "average_loss 0.6686505\n",
      "label/mean 0.543492\n",
      "loss 33.432526\n",
      "precision 0.59568346\n",
      "prediction/mean 0.5534632\n",
      "recall 0.75902987\n",
      "global_step 30000\n"
     ]
    }
   ],
   "source": [
    "validation_file = os.path.join('dota2_validation_data', 'dota2_validation_data.tfrecords')\n",
    "validation_input_fn =lambda: _input_fn([validation_file])\n",
    "evaluation_metrics = trained_dnn_model.evaluate(\n",
    "            input_fn=validation_input_fn,\n",
    "            steps=3e4)\n",
    "for m in evaluation_metrics:\n",
    "    print(m, evaluation_metrics[m])"
   ]
  },
  {
   "cell_type": "markdown",
   "metadata": {
    "heading_collapsed": true
   },
   "source": [
    "### Investigate embeding layer"
   ]
  },
  {
   "cell_type": "code",
   "execution_count": 79,
   "metadata": {
    "ExecuteTime": {
     "end_time": "2018-12-10T08:16:07.422456Z",
     "start_time": "2018-12-10T08:16:07.199606Z"
    },
    "collapsed": true,
    "hidden": true
   },
   "outputs": [],
   "source": [
    "hero_list = interface('IEconDOTA2_570').GetHeroes(itemizedonly = True)['result']['heroes']"
   ]
  },
  {
   "cell_type": "code",
   "execution_count": 85,
   "metadata": {
    "ExecuteTime": {
     "end_time": "2018-12-10T08:19:37.785231Z",
     "start_time": "2018-12-10T08:19:36.875868Z"
    },
    "hidden": true
   },
   "outputs": [
    {
     "data": {
      "image/png": "[encoded data removed]",
      "text/plain": [
       "<matplotlib.figure.Figure at 0x1391cb7b8>"
      ]
     },
     "metadata": {},
     "output_type": "display_data"
    }
   ],
   "source": [
    "vocab = list(range(105))+list(range(106,114))+list(range(119,121))\n",
    "dire_embedding_matrix = trained_dnn_model.get_variable_value(\n",
    "    'dnn/input_from_feature_columns/input_layer/dire_heroes_embedding/embedding_weights')\n",
    "\n",
    "radiant_embedding_matrix = trained_dnn_model.get_variable_value(\n",
    "    'dnn/input_from_feature_columns/input_layer/radiant_heroes_embedding/embedding_weights')\n",
    "\n",
    "for hero_index in range(len(vocab)):\n",
    "    # Create a one-hot encoding for our term. It has 0s everywhere, except for\n",
    "    # a single 1 in the coordinate that corresponds to that term.\n",
    "    dire_vector = np.zeros(len(vocab))\n",
    "    dire_vector[hero_index] = 1\n",
    "    radiant_vector = np.zeros(len(vocab))\n",
    "    radiant_vector[hero_index] = 1\n",
    "    # We'll now project that one-hot vector into the embedding space.\n",
    "    dire_embedding_xy = np.matmul(dire_vector, dire_embedding_matrix)\n",
    "    radiant_embedding_xy = np.matmul(dire_vector,dire_embedding_matrix)\n",
    "    #plt.text(dire_embedding_xy[0],\n",
    "    #       dire_embedding_xy[1],\n",
    "    #       hero_list[hero_index]['name'][14:],fontsize=8)\n",
    "    plt.text(radiant_embedding_xy[0],\n",
    "           radiant_embedding_xy[3],\n",
    "           hero_list[hero_index]['name'][14:],fontsize=8,)\n",
    "\n",
    "# Do a little setup to make sure the plot displays nicely.\n",
    "plt.rcParams[\"figure.figsize\"] = (15, 15)\n",
    "plt.xlim(1.2 * dire_embedding_matrix.min(), 1.2 * dire_embedding_matrix.max())\n",
    "plt.ylim(1.2 * dire_embedding_matrix.min(), 1.2 * dire_embedding_matrix.max())\n",
    "plt.show() "
   ]
  },
  {
   "cell_type": "markdown",
   "metadata": {},
   "source": [
    "### Save a trained model for later exploration, or for on-demand prediction of test cases"
   ]
  },
  {
   "cell_type": "code",
   "execution_count": 103,
   "metadata": {
    "ExecuteTime": {
     "end_time": "2019-07-17T02:05:18.229128Z",
     "start_time": "2019-07-17T02:05:18.215875Z"
    }
   },
   "outputs": [],
   "source": [
    "def serving_input_receiver_fn():\n",
    "    \"\"\"An input receiver that expects a serialized tf.Example.\"\"\"\n",
    "    feature_spec = {\n",
    "        \"radiant_heroes\": tf.FixedLenFeature([], dtype=tf.string), #array of five 8 bit ints for heroes\n",
    "        \"dire_heroes\": tf.FixedLenFeature([], dtype=tf.string) #array of five 8-bit ints for heroes\n",
    "                }\n",
    "    serialized_tf_example = tf.placeholder(dtype=tf.string,\n",
    "                                         shape=[1],\n",
    "                                         name='input_example_tensor')\n",
    "    receiver_tensors = {'examples': serialized_tf_example}\n",
    "    parsed_features = tf.parse_example(serialized_tf_example, feature_spec)\n",
    "    \n",
    "    radiant_heroes = tf.decode_raw(parsed_features['radiant_heroes'], tf.int64)\n",
    "    dire_heroes = tf.decode_raw(parsed_features['dire_heroes'], tf.int64)\n",
    "    \n",
    "    features = {'radiant_heroes':radiant_heroes, 'dire_heroes': dire_heroes}\n",
    "    \n",
    "    return tf.estimator.export.ServingInputReceiver(features, receiver_tensors)"
   ]
  },
  {
   "cell_type": "code",
   "execution_count": 104,
   "metadata": {
    "ExecuteTime": {
     "end_time": "2019-07-17T02:05:23.402811Z",
     "start_time": "2019-07-17T02:05:22.749241Z"
    }
   },
   "outputs": [
    {
     "data": {
      "text/plain": [
       "b'trained_models/dnn_models/1563329122'"
      ]
     },
     "execution_count": 104,
     "metadata": {},
     "output_type": "execute_result"
    }
   ],
   "source": [
    "export_dir = os.path.join('trained_models','dnn_models')\n",
    "trained_dnn_model.export_savedmodel(\n",
    "                                export_dir_base = export_dir,\n",
    "                                serving_input_receiver_fn = serving_input_receiver_fn)"
   ]
  },
  {
   "cell_type": "code",
   "execution_count": 105,
   "metadata": {
    "ExecuteTime": {
     "end_time": "2019-07-17T02:05:53.145942Z",
     "start_time": "2019-07-17T02:05:52.681427Z"
    }
   },
   "outputs": [
    {
     "data": {
      "text/plain": [
       "b'trained_models/linear_models/1563329152'"
      ]
     },
     "execution_count": 105,
     "metadata": {},
     "output_type": "execute_result"
    }
   ],
   "source": [
    "export_dir = os.path.join('trained_models','linear_models')\n",
    "trained_linear_model.export_savedmodel(\n",
    "                                export_dir_base = export_dir,\n",
    "                                serving_input_receiver_fn = serving_input_receiver_fn)"
   ]
  },
  {
   "cell_type": "markdown",
   "metadata": {
    "heading_collapsed": true
   },
   "source": [
    "# Preprocessing, input functions, and linear training for DataFrame data format"
   ]
  },
  {
   "cell_type": "markdown",
   "metadata": {
    "hidden": true
   },
   "source": [
    "## Preprocess functions for input without TFRecords format"
   ]
  },
  {
   "cell_type": "code",
   "execution_count": 46,
   "metadata": {
    "ExecuteTime": {
     "end_time": "2018-12-06T07:06:11.844506Z",
     "start_time": "2018-12-06T07:06:11.781414Z"
    },
    "code_folding": [],
    "hidden": true,
    "scrolled": false
   },
   "outputs": [
    {
     "name": "stdout",
     "output_type": "stream",
     "text": [
      "\n",
      "Training targets summary\n"
     ]
    },
    {
     "data": {
      "text/html": [
       "<div>\n",
       "<style>\n",
       "    .dataframe thead tr:only-child th {\n",
       "        text-align: right;\n",
       "    }\n",
       "\n",
       "    .dataframe thead th {\n",
       "        text-align: left;\n",
       "    }\n",
       "\n",
       "    .dataframe tbody tr th {\n",
       "        vertical-align: top;\n",
       "    }\n",
       "</style>\n",
       "<table border=\"1\" class=\"dataframe\">\n",
       "  <thead>\n",
       "    <tr style=\"text-align: right;\">\n",
       "      <th></th>\n",
       "      <th>radiant_win</th>\n",
       "    </tr>\n",
       "  </thead>\n",
       "  <tbody>\n",
       "    <tr>\n",
       "      <th>count</th>\n",
       "      <td>6157.000000</td>\n",
       "    </tr>\n",
       "    <tr>\n",
       "      <th>mean</th>\n",
       "      <td>0.549943</td>\n",
       "    </tr>\n",
       "    <tr>\n",
       "      <th>std</th>\n",
       "      <td>0.497540</td>\n",
       "    </tr>\n",
       "    <tr>\n",
       "      <th>min</th>\n",
       "      <td>0.000000</td>\n",
       "    </tr>\n",
       "    <tr>\n",
       "      <th>25%</th>\n",
       "      <td>0.000000</td>\n",
       "    </tr>\n",
       "    <tr>\n",
       "      <th>50%</th>\n",
       "      <td>1.000000</td>\n",
       "    </tr>\n",
       "    <tr>\n",
       "      <th>75%</th>\n",
       "      <td>1.000000</td>\n",
       "    </tr>\n",
       "    <tr>\n",
       "      <th>max</th>\n",
       "      <td>1.000000</td>\n",
       "    </tr>\n",
       "  </tbody>\n",
       "</table>\n",
       "</div>"
      ],
      "text/plain": [
       "       radiant_win\n",
       "count  6157.000000\n",
       "mean      0.549943\n",
       "std       0.497540\n",
       "min       0.000000\n",
       "25%       0.000000\n",
       "50%       1.000000\n",
       "75%       1.000000\n",
       "max       1.000000"
      ]
     },
     "metadata": {},
     "output_type": "display_data"
    },
    {
     "name": "stdout",
     "output_type": "stream",
     "text": [
      "\n",
      "validation target summary\n"
     ]
    },
    {
     "data": {
      "text/html": [
       "<div>\n",
       "<style>\n",
       "    .dataframe thead tr:only-child th {\n",
       "        text-align: right;\n",
       "    }\n",
       "\n",
       "    .dataframe thead th {\n",
       "        text-align: left;\n",
       "    }\n",
       "\n",
       "    .dataframe tbody tr th {\n",
       "        vertical-align: top;\n",
       "    }\n",
       "</style>\n",
       "<table border=\"1\" class=\"dataframe\">\n",
       "  <thead>\n",
       "    <tr style=\"text-align: right;\">\n",
       "      <th></th>\n",
       "      <th>radiant_win</th>\n",
       "    </tr>\n",
       "  </thead>\n",
       "  <tbody>\n",
       "    <tr>\n",
       "      <th>count</th>\n",
       "      <td>2640.000000</td>\n",
       "    </tr>\n",
       "    <tr>\n",
       "      <th>mean</th>\n",
       "      <td>0.549242</td>\n",
       "    </tr>\n",
       "    <tr>\n",
       "      <th>std</th>\n",
       "      <td>0.497664</td>\n",
       "    </tr>\n",
       "    <tr>\n",
       "      <th>min</th>\n",
       "      <td>0.000000</td>\n",
       "    </tr>\n",
       "    <tr>\n",
       "      <th>25%</th>\n",
       "      <td>0.000000</td>\n",
       "    </tr>\n",
       "    <tr>\n",
       "      <th>50%</th>\n",
       "      <td>1.000000</td>\n",
       "    </tr>\n",
       "    <tr>\n",
       "      <th>75%</th>\n",
       "      <td>1.000000</td>\n",
       "    </tr>\n",
       "    <tr>\n",
       "      <th>max</th>\n",
       "      <td>1.000000</td>\n",
       "    </tr>\n",
       "  </tbody>\n",
       "</table>\n",
       "</div>"
      ],
      "text/plain": [
       "       radiant_win\n",
       "count  2640.000000\n",
       "mean      0.549242\n",
       "std       0.497664\n",
       "min       0.000000\n",
       "25%       0.000000\n",
       "50%       1.000000\n",
       "75%       1.000000\n",
       "max       1.000000"
      ]
     },
     "metadata": {},
     "output_type": "display_data"
    }
   ],
   "source": [
    "#Split training and validation datasets with a given training fraction. \n",
    "\n",
    "#to begin with we have a sample of 7050 matches to validation the model with.\n",
    "#This may not be enough games to accurately determine win probability but probably good enough for first validations\n",
    "\n",
    "training_fraction = 0.7\n",
    "head_num = int(training_fraction * len(dota2_df))\n",
    "tail_num = len(dota2_df)-head_num\n",
    "\n",
    "training_examples = preprocess_features(dota2_df.head(head_num))\n",
    "training_targets = preprocess_targets(dota2_df.head(head_num))\n",
    "\n",
    "validation_examples = preprocess_features(dota2_df.tail(tail_num))\n",
    "validation_targets = preprocess_targets(dota2_df.tail(tail_num))\n",
    "\n",
    "#print(\"Training features summary\")\n",
    "#training_examples.style\n",
    "print(\"\\nTraining targets summary\")\n",
    "display.display(training_targets.describe())\n",
    "\n",
    "#print(\"\\nvalidation feature summary\")\n",
    "#validation_examples.style\n",
    "print(\"\\nvalidation target summary\")\n",
    "display.display(validation_targets.describe())"
   ]
  },
  {
   "cell_type": "code",
   "execution_count": 3,
   "metadata": {
    "ExecuteTime": {
     "end_time": "2018-12-08T02:32:38.986118Z",
     "start_time": "2018-12-08T02:32:38.969398Z"
    },
    "code_folding": [],
    "collapsed": true,
    "hidden": true
   },
   "outputs": [],
   "source": [
    "def preprocess_features(dota2_df):\n",
    "    \"\"\"Take dota2_df and create a dataframe containing only the features for our model\n",
    "            Args: \n",
    "                dota2_df: Dataframe containing dota2 training and test data\n",
    "            returns: \n",
    "                processed_df: pandas DataFrame containing only feature columns\n",
    "    \"\"\"\n",
    "    \n",
    "    #Use arrays of heroes for each team as features rather than each hero\n",
    "    #individually to help model fit?\n",
    "    #This is an attempt to make the model more similar to the movie review\n",
    "    #text analysis example in the Google ML Crash Course\n",
    "    processed_df = pd.DataFrame()\n",
    "    \n",
    "    processed_df['radiant_heroes'] = list(np.array(dota2_df.loc[:,['radiant_heroes0',\n",
    "                                                'radiant_heroes1','radiant_heroes2',\n",
    "                                                'radiant_heroes3','radiant_heroes4']]))\n",
    "    processed_df['dire_heroes'] = list(np.array(dota2_df.loc[:,['dire_heroes0',\n",
    "                                    'dire_heroes1','dire_heroes2',\n",
    "                                    'dire_heroes3','dire_heroes4']]))\n",
    "    \n",
    "    ##only features (to start with) are the heroes in the game\n",
    "    #processed_df = dota2_df[['radiant_heroes0', 'radiant_heroes1',\n",
    "    #                   'radiant_heroes2', 'radiant_heroes3', 'radiant_heroes4',\n",
    "    #                    'dire_heroes0', 'dire_heroes1', 'dire_heroes2',\n",
    "    #                    'dire_heroes3', 'dire_heroes4']]\n",
    "    \n",
    "    ##create two synthetic features that is the product of all heroes for each team\n",
    "    #processed_df['radiant_hero_product'] = dota2_df['radiant_heroes0']*dota2_df['radiant_heroes1']*dota2_df['radiant_heroes2']dota2_df['radiant_heroes3']*dota2_df['radiant_heroes4']\n",
    "    #processed_df['dire_hero_product'] = dota2_df['dire_heroes0']*dota2_df['dire_heroes1']*dota2_df['dire_heroes2']dota2_df['dire_heroes3']*dota2_df['dire_heroes4']\n",
    "    \n",
    "    return processed_df\n",
    "    \n",
    "def preprocess_targets(dota2_df):\n",
    "    \"\"\"Take dota2_df and create a dataframe containing only the targets for our model\n",
    "            Args: \n",
    "                dota2_df: Dataframe containing dota2 training and test data\n",
    "            returns: \n",
    "                target_df: pandas DataFrame containing only the target column\n",
    "    \"\"\"\n",
    "    target_df = pd.DataFrame()\n",
    "    target_df['radiant_win'] = dota2_df['radiant_win']\n",
    "    \n",
    "    return target_df"
   ]
  },
  {
   "cell_type": "markdown",
   "metadata": {
    "hidden": true
   },
   "source": [
    "## Build Functions for doing linear classifier modelling without TFRecords"
   ]
  },
  {
   "cell_type": "code",
   "execution_count": 77,
   "metadata": {
    "ExecuteTime": {
     "end_time": "2018-12-05T05:52:09.516609Z",
     "start_time": "2018-12-05T05:52:09.505248Z"
    },
    "collapsed": true,
    "hidden": true,
    "scrolled": true
   },
   "outputs": [],
   "source": [
    "def my_input_fn(features, targets, batch_size=1, shuffle=True, num_epochs=None):\n",
    "    \"\"\"Trains a logistic regression model.\n",
    "  \n",
    "    Args:\n",
    "      features: pandas DataFrame of features\n",
    "      targets: pandas DataFrame of targets\n",
    "      batch_size: Size of batches to be passed to the model\n",
    "      shuffle: True or False. Whether to shuffle the data.\n",
    "      num_epochs: Number of epochs for which data should be repeated. None = repeat indefinitely\n",
    "    Returns:\n",
    "      Tuple of (features, labels) for next data batch\n",
    "    \"\"\"\n",
    "    \n",
    "    # Convert pandas data into a dict of np arrays.\n",
    "    features = {key:np.array(value) for key,value in dict(features).items()}                                           \n",
    " \n",
    "    # Construct a dataset, and configure batching/repeating.\n",
    "    ds = tf.data.Dataset.from_tensor_slices((features,targets)) # warning: 2GB limit\n",
    "    ds = ds.batch(batch_size).repeat(num_epochs)\n",
    "    \n",
    "    # Shuffle the data, if specified.\n",
    "    if shuffle:\n",
    "        ds = ds.shuffle(10000)\n",
    "    \n",
    "    # Return the next batch of data.\n",
    "    features, labels = ds.make_one_shot_iterator().get_next()\n",
    "    return features, labels"
   ]
  },
  {
   "cell_type": "markdown",
   "metadata": {
    "hidden": true
   },
   "source": [
    "### DNN model training "
   ]
  },
  {
   "cell_type": "code",
   "execution_count": 86,
   "metadata": {
    "collapsed": true,
    "hidden": true
   },
   "outputs": [],
   "source": [
    "def train_dnn_model(\n",
    "    learning_rate,\n",
    "    regularization,\n",
    "    hidden_units,\n",
    "    steps,\n",
    "    batch_size,\n",
    "    feature_columns,\n",
    "    training_examples,\n",
    "    training_targets):\n",
    "    \"\"\"Trains a deep neural network regression model.\n",
    "  \n",
    "    In addition to training, this function also prints training progress information,\n",
    "    as well as a plot of the training and validation loss over time.\n",
    "      \n",
    "    Args:\n",
    "        learning_rate: A `float`, the learning rate.\n",
    "        l1_regularization: A `float`, the L1 regularization rate. This regularizatin \n",
    "          penalizes non-zero weights in the model to prevent overfitting as well as\n",
    "          save memory.\n",
    "        l2_regularization: A `float`, the L2 regularization rate. This regularization\n",
    "          penalizes large weights in the model to prevent overfitting.\n",
    "        hidden_units: A list of `ints`, the number of nodes in each layer for the DNN\n",
    "          model.\n",
    "        steps: A non-zero `int`, the total number of training steps. A training step\n",
    "          consists of a forward and backward pass using a single batch.\n",
    "        feature_columns: A `set` specifying the input feature columns to use.\n",
    "        training_examples: A `DataFrame` containing one or more columns from\n",
    "          `dota2_df` to use as input features for training.\n",
    "        training_targets: A `DataFrame` containing exactly one column from\n",
    "          `dota2_df` to use as target for training.\n",
    "      \n",
    "    Returns:\n",
    "        A `DNNClassifer` object trained on the training data.\n",
    "    \"\"\"\n",
    "\n",
    "    periods = 10\n",
    "    steps_per_period = steps / periods\n",
    "\n",
    "    # Create a linear regressor object.\n",
    "    my_optimizer = tf.train.AdagradOptimizer(learning_rate=learning_rate)\n",
    "    my_optimizer = tf.contrib.estimator.clip_gradients_by_norm(my_optimizer, 5.0)\n",
    "    dnn_classifier = tf.estimator.DNNClassifier(\n",
    "      feature_columns=feature_columns,\n",
    "      hidden_units=hidden_units,\n",
    "      optimizer=my_optimizer\n",
    "      )\n",
    "  \n",
    "    training_input_fn = lambda: my_input_fn(training_examples, \n",
    "                                          training_targets[\"radiant_win\"], \n",
    "                                          batch_size=batch_size)\n",
    "    predict_training_input_fn = lambda: my_input_fn(training_examples, \n",
    "                                                  training_targets[\"radiant_win\"], \n",
    "                                                  num_epochs=1, \n",
    "                                                  shuffle=False)\n",
    "\n",
    "    # Train the model, but do so inside a loop so that we can periodically assess\n",
    "    # loss metrics.\n",
    "    print(\"Training model...\")\n",
    "    print(\"RMSE (on training data):\")\n",
    "    training_rmse = []\n",
    "    for period in range (0, periods):\n",
    "        # Train the model, starting from the prior state.\n",
    "        dnn_classifier.train(\n",
    "            input_fn=training_input_fn,\n",
    "            steps=steps_per_period\n",
    "            )\n",
    "        # Take a break and compute predictions.\n",
    "        training_predictions = dnn_classifier.predict(input_fn=predict_training_input_fn)\n",
    "    \n",
    "    print(\"Model training finished.\")\n",
    "\n",
    "\n",
    "    return dnn_classifier"
   ]
  },
  {
   "cell_type": "code",
   "execution_count": null,
   "metadata": {
    "collapsed": true,
    "hidden": true
   },
   "outputs": [],
   "source": [
    "trained_linear_model = train_dnn_model(\n",
    "    learning_rate=0.07,\n",
    "    regularization=0.01\n",
    "    steps=1000,\n",
    "    batch_size=100,\n",
    "    feature_columns=construct_hero_categorical_columns(training_examples),\n",
    "    training_examples=training_examples,\n",
    "    training_targets=training_targets)"
   ]
  }
 ],
 "metadata": {
  "kernelspec": {
   "display_name": "Python 3",
   "language": "python",
   "name": "python3"
  },
  "language_info": {
   "codemirror_mode": {
    "name": "ipython",
    "version": 3
   },
   "file_extension": ".py",
   "mimetype": "text/x-python",
   "name": "python",
   "nbconvert_exporter": "python",
   "pygments_lexer": "ipython3",
   "version": "3.7.3"
  },
  "notify_time": "30",
  "toc": {
   "base_numbering": 1,
   "nav_menu": {},
   "number_sections": true,
   "sideBar": true,
   "skip_h1_title": false,
   "title_cell": "Table of Contents",
   "title_sidebar": "Contents",
   "toc_cell": false,
   "toc_position": {},
   "toc_section_display": true,
   "toc_window_display": false
  }
 },
 "nbformat": 4,
 "nbformat_minor": 2
}
