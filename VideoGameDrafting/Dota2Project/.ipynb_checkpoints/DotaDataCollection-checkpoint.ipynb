{
 "cells": [
  {
   "cell_type": "code",
   "execution_count": 2,
   "metadata": {
    "ExecuteTime": {
     "end_time": "2019-11-05T21:52:39.932911Z",
     "start_time": "2019-11-05T21:52:35.670567Z"
    },
    "code_folding": []
   },
   "outputs": [
    {
     "name": "stdout",
     "output_type": "stream",
     "text": [
      "2.0.0\n"
     ]
    }
   ],
   "source": [
    "import seaborn as sns\n",
    "import pandas as pd\n",
    "import pylab as plt\n",
    "import numpy as np\n",
    "from steam import WebAPI\n",
    "import time\n",
    "import os\n",
    "import glob\n",
    "import json\n",
    "import tensorflow as tf\n",
    "print(tf.__version__)\n",
    "import sys\n",
    "from IPython import display\n",
    "import requests\n",
    "#dont keep api key in github!!!\n",
    "api_file = os.path.join('..','..','..','apikeys','steam_api_key.txt')\n",
    "with open(api_file, 'r') as fin:\n",
    "    api = WebAPI(key=fin.readline())"
   ]
  },
  {
   "cell_type": "code",
   "execution_count": 3,
   "metadata": {
    "ExecuteTime": {
     "end_time": "2019-11-05T21:52:40.166432Z",
     "start_time": "2019-11-05T21:52:39.935903Z"
    },
    "code_folding": []
   },
   "outputs": [
    {
     "name": "stdout",
     "output_type": "stream",
     "text": [
      "[1, 2, 3, 4, 5, 6, 7, 8, 9, 11, 10, 12, 13, 14, 15, 16, 17, 18, 19, 20, 21, 22, 23, 25, 31, 26, 27, 28, 29, 30, 32, 33, 34, 35, 36, 37, 38, 39, 40, 41, 42, 43, 44, 45, 46, 47, 48, 49, 50, 51, 52, 53, 54, 55, 56, 57, 58, 59, 60, 61, 62, 63, 64, 65, 66, 67, 69, 68, 70, 71, 72, 73, 74, 75, 76, 77, 78, 79, 80, 81, 82, 83, 84, 85, 86, 87, 88, 89, 90, 91, 92, 93, 94, 95, 96, 97, 98, 99, 100, 101, 102, 103, 104, 106, 107, 109, 110, 111, 105, 112, 113, 108, 114, 120, 119, 121, 129]\n"
     ]
    }
   ],
   "source": [
    "#declare interface urls\n",
    "#dota2_beta should be used for testing in order to not aggressively make API requests\n",
    "dota2_id = '570'\n",
    "dota2_beta_id = '205790'\n",
    "\n",
    "hero_list = api.call('IEconDOTA2_'+dota2_id+'.GetHeroes')\n",
    "hero_vocab=[int(hero_id['id']) for hero_id in hero_list['result']['heroes']]\n",
    "print(hero_vocab)"
   ]
  },
  {
   "cell_type": "markdown",
   "metadata": {
    "heading_collapsed": true
   },
   "source": [
    "# Get 500 last matches to get approximate hero ratios\n",
    "Need to be careful here so that test dataset doesn't have crossover with training data. My strategy to eliminate overlap was to start collecting match data for the training set for matches after the oldest match in the test set. To get around the 500 match retrieval limit I save 500 at a time to a .csv with a filename that has the start and end match_id. This means I can get 500, wait a bit, then get 500 more that are guarenteed to not have overlap. \n",
    "\n",
    "How long do I have to wait to get 500 more?? Unclear and was unable to find documentation. Thanks Valve."
   ]
  },
  {
   "cell_type": "code",
   "execution_count": null,
   "metadata": {
    "ExecuteTime": {
     "end_time": "2019-04-29T05:34:47.140922Z",
     "start_time": "2019-04-29T05:34:34.705462Z"
    },
    "code_folding": [],
    "hidden": true
   },
   "outputs": [],
   "source": [
    "#get matches data from dota2 API and put IDs into a dataframe\n",
    "num_requested = 1000\n",
    "skill = 3\n",
    "match_list = []\n",
    "\n",
    "#put a start match_id if I'm trying to get more matches after getting 500\n",
    "#if trying to load starting from a match_id previously obtained and saved\n",
    "#use arg: start_at_match_id = old_match_list[-1]-1\n",
    "matches = api.call('IDOTA2Match_' + dota2_id +'.GetMatchHistory',\n",
    "                                            hero_id = 121,\n",
    "                                            game_mode = 1,\n",
    "                                            skill = skill,\n",
    "                                            min_players = 10,\n",
    "                                            matches_requested = 100)\n",
    "\n",
    "#@TODO: check if lobby_type is public/ranked matching (0 or 7) before appending\n",
    "[match_list.append(match['match_id']) for match in matches['result']['matches']]\n",
    "\n",
    "current_num = 100\n",
    "\n",
    "while current_num <= num_requested:\n",
    "    \n",
    "    #check that match request returned any matches before trying to get more\n",
    "    if len(match_list)==0:\n",
    "        print('No matches returned\\nWait a bit and retry\\n\\n    GabeN Bless')\n",
    "    \n",
    "    #sleep so we don't overload the servers\n",
    "    time.sleep(1)\n",
    "                \n",
    "    current_num += 100\n",
    "    matches = api.call('IDOTA2Match_' + dota2_id+'.GetMatchHistory',\n",
    "                                            start_at_match_id = match_list[-1]-1,\n",
    "                                            game_mode = 1,\n",
    "                                            skill = skill,\n",
    "                                            min_players = 10,\n",
    "                                            matches_requested = 100)\n",
    "\n",
    "    #@TODO: check if lobby_type is public/ranked matching (0 or 7) before appending\n",
    "    [match_list.append(match['match_id']) for match in matches['result']['matches']]\n",
    "\n",
    "    \n",
    "dota2_test_df = pd.DataFrame()\n",
    "dota2_test_df['match_id'] = match_list"
   ]
  },
  {
   "cell_type": "code",
   "execution_count": null,
   "metadata": {
    "ExecuteTime": {
     "end_time": "2019-04-29T05:39:24.511808Z",
     "start_time": "2019-04-29T05:39:23.138402Z"
    },
    "hidden": true
   },
   "outputs": [],
   "source": [
    "#get match details from match_ids obtained\n",
    "#add radiant_win column\n",
    "#add heroes split between dire and radiant\n",
    "\n",
    "radiant_win_column = []\n",
    "radiant_hero_column = []\n",
    "dire_hero_column = []\n",
    "match_details = []\n",
    "\n",
    "for match_id in dota2_test_df['match_id']:\n",
    "    time.sleep(1)\n",
    "    match_details.append(api.call('IDOTA2Match_' + dota2_id+'.GetMatchDetails',\n",
    "                                  match_id = str(match_id)))\n",
    "    radiant_win_column.append(match_details[-1]['result']['radiant_win'])\n",
    "    \n",
    "    radiant_hero_row = []\n",
    "    dire_hero_row = []\n",
    "    for player in match_details[-1]['result']['players']:\n",
    "        #First bit of 8-bit integer player_slot is 1 if the player was on dire\n",
    "        #so if player was on dire then player_slot > 128\n",
    "        if player['player_slot']/128<1:\n",
    "            radiant_hero_row.append(player['hero_id'])\n",
    "        else:\n",
    "            dire_hero_row.append(player['hero_id'])\n",
    "    \n",
    "    radiant_hero_column.append(radiant_hero_row)\n",
    "    dire_hero_column.append(dire_hero_row)"
   ]
  },
  {
   "cell_type": "code",
   "execution_count": null,
   "metadata": {
    "ExecuteTime": {
     "end_time": "2018-12-28T06:58:14.979764Z",
     "start_time": "2018-12-28T06:58:06.696Z"
    },
    "hidden": true
   },
   "outputs": [],
   "source": [
    "#Add radiant_win column to Dataframe\n",
    "dota2_test_df['radiant_win'] = 1*np.array(radiant_win_column)\n",
    "\n",
    "#Add dire and radiant heroes to DataFrame under their own columns\n",
    "for i in range(len(np.array(radiant_hero_column)[0])):\n",
    "    dota2_test_df['radiant_heroes'+str(i)] = np.array(radiant_hero_column)[:,i]\n",
    "    dota2_test_df['dire_heroes'+str(i)] = np.array(dire_hero_column)[:,i]"
   ]
  },
  {
   "cell_type": "code",
   "execution_count": null,
   "metadata": {
    "ExecuteTime": {
     "end_time": "2018-12-06T02:01:12.153273Z",
     "start_time": "2018-12-06T02:01:12.134217Z"
    },
    "hidden": true
   },
   "outputs": [],
   "source": [
    "#save data to csv file so that we have it on disk\n",
    "dota2_test_df.to_csv(os.path.join('dota2_test_data',\n",
    "                                        str(dota2_test_df['match_id'][0])+\n",
    "                                        '-'+\n",
    "                                        str(dota2_test_df['match_id'][499])+'.csv'))"
   ]
  },
  {
   "cell_type": "markdown",
   "metadata": {
    "heading_collapsed": true
   },
   "source": [
    "# Load test data that is newest for match_id checking"
   ]
  },
  {
   "cell_type": "code",
   "execution_count": null,
   "metadata": {
    "ExecuteTime": {
     "end_time": "2018-12-06T07:01:03.272713Z",
     "start_time": "2018-12-06T07:01:03.256113Z"
    },
    "hidden": true
   },
   "outputs": [],
   "source": [
    "#Run this if the test data is needed to allow for proper test_data collection\n",
    "#load newest file so that last_match_id is accurate? Unclear if this is the best strategy... \n",
    "#maybe should look at loading all then looking at match_id\n",
    "dota2_data_files = glob.glob(os.path.join('dota2_test_data','*.csv'))\n",
    "dota2_data_files.sort(key=os.path.getmtime)\n",
    "\n",
    "dota2_test_df_from_file = pd.read_csv(dota2_data_files[0], usecols=range(1,13))\n",
    "dota2_test_df_from_file.style\n",
    "\n",
    "#purge 0 values from hero_id\n",
    "dota2_test_df_from_file = dota2_test_df_from_file[dota2_test_df_from_file.radiant_heroes0 != 0]\n",
    "\n",
    "#make old_match_list for easy checking of match_id\n",
    "old_match_list = list(dota2_test_df_from_file['match_id'])"
   ]
  },
  {
   "cell_type": "markdown",
   "metadata": {
    "heading_collapsed": true
   },
   "source": [
    "# Get 500 matches of each hero id (and trim duplicates)"
   ]
  },
  {
   "cell_type": "code",
   "execution_count": null,
   "metadata": {
    "ExecuteTime": {
     "end_time": "2019-06-30T22:03:27.589109Z",
     "start_time": "2019-06-30T22:03:27.286917Z"
    },
    "hidden": true
   },
   "outputs": [],
   "source": [
    "hero_list = api.call('IEconDOTA2_'+dota2_id+'.GetHeroes',itemizedonly = True)\n",
    "hero_list=pd.DataFrame(hero_list['result']['heroes'])"
   ]
  },
  {
   "cell_type": "markdown",
   "metadata": {
    "hidden": true
   },
   "source": [
    "## Get match_id of all the matches\n",
    "this uses GetMatchHistory which is a bit limits match getting to 500 per hero (about 2e4) and sometimes stops returning matches"
   ]
  },
  {
   "cell_type": "code",
   "execution_count": null,
   "metadata": {
    "ExecuteTime": {
     "end_time": "2019-05-25T03:02:11.417738Z",
     "start_time": "2019-05-25T02:51:12.573829Z"
    },
    "code_folding": [],
    "hidden": true
   },
   "outputs": [],
   "source": [
    "#get matches data from dota2 API and put IDs into a dataframe\n",
    "num_matches_to_request = 500\n",
    "skill = 3\n",
    "match_list = []\n",
    "most_current_matches = True\n",
    "\n",
    "#Loop through all hero_id values\n",
    "#use vocabulary generated by an api call above to get all hero id's\n",
    "for i in hero_list['id']:\n",
    "    \n",
    "    #Get first match for each hero out of loop so that we can pull more than 100 games per hero\n",
    "    #by utilizing start_at_match_id option\n",
    "    if most_current_matches==True:\n",
    "        matches = api.call('IDOTA2Match_' + dota2_id+'.GetMatchHistory',hero_id = i,\n",
    "                                                                   game_mode = 1,\n",
    "                                                                   skill = skill,\n",
    "                                                                   min_players = 10,\n",
    "                                                                   matches_requested = 100)\n",
    "    else:\n",
    "        files=glob.glob(os.path.join('Dota_data','skill_level='+str(skill),'*.csv'))\n",
    "        files.sort(key=os.path.getmtime)\n",
    "        start_match = pd.read_csv(files[-1], usecols=[1])['match_id'].min()-1\n",
    "        print(start_match)\n",
    "        matches = api.call('IDOTA2Match_' + dota2_id+'.GetMatchHistory',hero_id=i,\n",
    "                                                            start_at_match_id=start_match,\n",
    "                                                            game_mode=1,\n",
    "                                                            skill=skill,\n",
    "                                                            min_players=10,\n",
    "                                                            matches_requested=100)\n",
    "    #Append matches to matchlist\n",
    "    #if lobby_type is public/ranked matching (0 or 7)\n",
    "    for match in matches['result']['matches']:\n",
    "        lobby_type=match['lobby_type']\n",
    "        if lobby_type==0 or lobby_type==7 or lobby_type==5 or lobby_type==2:\n",
    "            match_list.append(match['match_id'])\n",
    "            \n",
    "    current_num = 1\n",
    "\n",
    "    if len(match_list)==0:\n",
    "        print('No matches returned\\nWait a bit and retry\\n\\n    GabeN Bless')\n",
    "        break\n",
    "    \n",
    "    while current_num <= num_matches_to_request:\n",
    "        #sleep so we don't overload the servers\n",
    "        time.sleep(1)\n",
    "\n",
    "        current_num += 100\n",
    "        matches = api.call('IDOTA2Match_' + dota2_id+'.GetMatchHistory',hero_id = i,\n",
    "                                                        start_at_match_id = match_list[-1]-1,\n",
    "                                                        game_mode = 1,\n",
    "                                                        skill = skill,\n",
    "                                                        min_players = 10,\n",
    "                                                        matches_requested = 100)\n",
    "        \n",
    "        #Append matches to matchlist\n",
    "        #if lobby_type is public/ranked matching (0 or 7)\n",
    "        for match in matches['result']['matches']:\n",
    "            lobby_type=match['lobby_type']\n",
    "            if lobby_type==0 or lobby_type==7 or lobby_type==5 or lobby_type==2:\n",
    "                match_list.append(match['match_id'])\n"
   ]
  },
  {
   "cell_type": "markdown",
   "metadata": {
    "hidden": true
   },
   "source": [
    "## Purge duplicates and add to dataframe"
   ]
  },
  {
   "cell_type": "code",
   "execution_count": null,
   "metadata": {
    "ExecuteTime": {
     "end_time": "2019-05-25T03:02:11.473309Z",
     "start_time": "2019-05-25T03:02:11.421848Z"
    },
    "hidden": true
   },
   "outputs": [],
   "source": [
    "#Make dataframe of match_id values using dict.fromkeys(list) to remove duplicates\n",
    "dota2_df = pd.DataFrame()\n",
    "dota2_df['match_id'] = list(dict.fromkeys(match_list))\n",
    "\n",
    "dota2_df.describe()"
   ]
  },
  {
   "cell_type": "markdown",
   "metadata": {
    "hidden": true
   },
   "source": [
    "## Save match id list"
   ]
  },
  {
   "cell_type": "code",
   "execution_count": null,
   "metadata": {
    "ExecuteTime": {
     "end_time": "2019-05-25T03:02:11.522469Z",
     "start_time": "2019-05-25T03:02:11.476753Z"
    },
    "hidden": true
   },
   "outputs": [],
   "source": [
    "dota2_df.to_csv(os.path.join('Dota_data',\n",
    "                                      'skill_level='+str(skill),\n",
    "                                      'saved'+time.strftime('%Y-%m-%d')+'.csv'))"
   ]
  },
  {
   "cell_type": "markdown",
   "metadata": {},
   "source": [
    "# Get match details for matches\n",
    "this is a poor way to do it because it needs many calls to get the data. GetMatchHistoryBySequenceNum is nice but there are no filters so the usable matches are ~1/500."
   ]
  },
  {
   "cell_type": "markdown",
   "metadata": {},
   "source": [
    "## Load files of match_ids"
   ]
  },
  {
   "cell_type": "code",
   "execution_count": 4,
   "metadata": {
    "ExecuteTime": {
     "end_time": "2019-11-05T21:52:40.511264Z",
     "start_time": "2019-11-05T21:52:40.169373Z"
    }
   },
   "outputs": [
    {
     "name": "stdout",
     "output_type": "stream",
     "text": [
      "Dota_data/match_ids/skill_level=3/saved2019-05-24.csv\n",
      "Dota_data/match_ids/skill_level=3/saved2019-05-23.csv\n",
      "Dota_data/match_ids/skill_level=3/saved2019-05-22.csv\n",
      "Dota_data/match_ids/skill_level=3/saved2019-05-21.csv\n",
      "Dota_data/match_ids/skill_level=3/saved2019-05-13.csv\n",
      "Dota_data/match_ids/skill_level=3/saved2019-05-12.csv\n",
      "Dota_data/match_ids/skill_level=3/saved2019-05-08.csv\n",
      "Dota_data/match_ids/skill_level=3/saved2019-05-06.csv\n",
      "Dota_data/match_ids/skill_level=2/saved2019-05-24.csv\n",
      "Dota_data/match_ids/skill_level=2/saved2019-05-23.csv\n",
      "Dota_data/match_ids/skill_level=2/saved2019-05-22.csv\n",
      "Dota_data/match_ids/skill_level=2/saved2019-05-20.csv\n",
      "Dota_data/match_ids/skill_level=2/saved2019-05-13.csv\n",
      "Dota_data/match_ids/skill_level=2/saved2019-05-12.csv\n",
      "Dota_data/match_ids/skill_level=2/saved2019-05-08.csv\n",
      "Dota_data/match_ids/skill_level=2/saved2019-05-06.csv\n",
      "Dota_data/match_ids/skill_level=1/saved2019-05-24.csv\n",
      "Dota_data/match_ids/skill_level=1/saved2019-05-23.csv\n",
      "Dota_data/match_ids/skill_level=1/saved2019-05-22.csv\n",
      "Dota_data/match_ids/skill_level=1/saved2019-05-20.csv\n",
      "Dota_data/match_ids/skill_level=1/saved2019-05-13.csv\n",
      "Dota_data/match_ids/skill_level=1/saved2019-05-12.csv\n",
      "Dota_data/match_ids/skill_level=1/saved2019-05-08.csv\n",
      "Dota_data/match_ids/skill_level=1/saved2019-05-06.csv\n"
     ]
    },
    {
     "data": {
      "text/html": [
       "<div>\n",
       "<style scoped>\n",
       "    .dataframe tbody tr th:only-of-type {\n",
       "        vertical-align: middle;\n",
       "    }\n",
       "\n",
       "    .dataframe tbody tr th {\n",
       "        vertical-align: top;\n",
       "    }\n",
       "\n",
       "    .dataframe thead th {\n",
       "        text-align: right;\n",
       "    }\n",
       "</style>\n",
       "<table border=\"1\" class=\"dataframe\">\n",
       "  <thead>\n",
       "    <tr style=\"text-align: right;\">\n",
       "      <th></th>\n",
       "      <th>match_id</th>\n",
       "      <th>skill_level</th>\n",
       "    </tr>\n",
       "  </thead>\n",
       "  <tbody>\n",
       "    <tr>\n",
       "      <th>count</th>\n",
       "      <td>2.878220e+05</td>\n",
       "      <td>287822.000000</td>\n",
       "    </tr>\n",
       "    <tr>\n",
       "      <th>mean</th>\n",
       "      <td>4.757200e+09</td>\n",
       "      <td>1.972292</td>\n",
       "    </tr>\n",
       "    <tr>\n",
       "      <th>std</th>\n",
       "      <td>1.988449e+07</td>\n",
       "      <td>0.821628</td>\n",
       "    </tr>\n",
       "    <tr>\n",
       "      <th>min</th>\n",
       "      <td>4.725403e+09</td>\n",
       "      <td>1.000000</td>\n",
       "    </tr>\n",
       "    <tr>\n",
       "      <th>25%</th>\n",
       "      <td>4.733830e+09</td>\n",
       "      <td>1.000000</td>\n",
       "    </tr>\n",
       "    <tr>\n",
       "      <th>50%</th>\n",
       "      <td>4.749397e+09</td>\n",
       "      <td>2.000000</td>\n",
       "    </tr>\n",
       "    <tr>\n",
       "      <th>75%</th>\n",
       "      <td>4.775588e+09</td>\n",
       "      <td>3.000000</td>\n",
       "    </tr>\n",
       "    <tr>\n",
       "      <th>max</th>\n",
       "      <td>4.781085e+09</td>\n",
       "      <td>3.000000</td>\n",
       "    </tr>\n",
       "  </tbody>\n",
       "</table>\n",
       "</div>"
      ],
      "text/plain": [
       "           match_id    skill_level\n",
       "count  2.878220e+05  287822.000000\n",
       "mean   4.757200e+09       1.972292\n",
       "std    1.988449e+07       0.821628\n",
       "min    4.725403e+09       1.000000\n",
       "25%    4.733830e+09       1.000000\n",
       "50%    4.749397e+09       2.000000\n",
       "75%    4.775588e+09       3.000000\n",
       "max    4.781085e+09       3.000000"
      ]
     },
     "execution_count": 4,
     "metadata": {},
     "output_type": "execute_result"
    }
   ],
   "source": [
    "dota_df = None\n",
    "\n",
    "files=glob.glob(os.path.join('Dota_data','match_ids','skill_level=*','*.csv'))\n",
    "files.sort(key=os.path.getmtime)\n",
    "#print(files)\n",
    "for filename in files[:]:\n",
    "    print(filename)\n",
    "    if type(dota_df)==None:\n",
    "        dota_df = pd.read_csv(filename, usecols=[1])\n",
    "        dota_df['skill_level'] = np.ones(len(dota_df['match_id']))*int(filename[-21])\n",
    "    else:\n",
    "        dota_df_new = pd.read_csv(filename, usecols=[1])\n",
    "        dota_df_new['skill_level'] = np.ones(len(dota_df_new['match_id']))*int(filename[-21])\n",
    "        dota_df = pd.concat([dota_df, dota_df_new],\n",
    "                                                    ignore_index=True)\n",
    "\n",
    "dota_df.describe()"
   ]
  },
  {
   "cell_type": "markdown",
   "metadata": {},
   "source": [
    "## Get the details"
   ]
  },
  {
   "cell_type": "code",
   "execution_count": 27,
   "metadata": {
    "ExecuteTime": {
     "end_time": "2019-11-05T23:21:47.516702Z",
     "start_time": "2019-11-05T23:21:47.510590Z"
    }
   },
   "outputs": [],
   "source": [
    "#initialize data columns if you're starting a match_detail getting batch\n",
    "#if trying to finish one that broke unexpectedly then don't run!\n",
    "feature_name_list=['match_id','match_seq_num','start_time','duration','game_mode',\n",
    "                   'lobby_type','skill_level','radiant_win','radiant_kills','dire_kills',\n",
    "                   'radiant_gold','dire_gold','radiant_xp','dire_xp',\n",
    "                   'radiant_tower_status','dire_tower_status',\n",
    "                   'radiant_barrack_status','dire_barrack_status',\n",
    "                   'first_blood_time']\n",
    "match_detail_dict={}\n",
    "for feature in feature_name_list:\n",
    "    match_detail_dict[feature]=[]\n",
    "\n",
    "for i in range(5):\n",
    "    match_detail_dict['radiant_hero'+str(i)]=[]\n",
    "    match_detail_dict['dire_hero'+str(i)]=[]\n",
    "\n",
    "error_match_id_list=[]\n",
    "error_element_list=[]"
   ]
  },
  {
   "cell_type": "code",
   "execution_count": null,
   "metadata": {
    "ExecuteTime": {
     "start_time": "2019-11-05T23:23:44.913Z"
    },
    "scrolled": true
   },
   "outputs": [
    {
     "name": "stdout",
     "output_type": "stream",
     "text": [
      "0 4781059783\n",
      "Errors: 0\n",
      "10000 4780774572\n",
      "Errors: 38\n",
      "20000 4775349512\n",
      "Errors: 41\n",
      "30000 4775386089\n",
      "Errors: 41\n",
      "40000 4771791704\n",
      "Errors: 41\n",
      "50000 4749335234\n",
      "Errors: 45\n",
      "60000 4746591115\n",
      "Errors: 80\n",
      "70000 4733762756\n",
      "Errors: 80\n",
      "80000 4728039171\n",
      "Errors: 80\n",
      "90000 4727436604\n",
      "Errors: 81\n",
      "100000 4780906554\n",
      "Errors: 83\n",
      "110000 4778259630\n",
      "Errors: 86\n",
      "120000 4775339094\n",
      "Errors: 86\n",
      "130000 4770316166\n",
      "Errors: 86\n",
      "140000 4749402619\n",
      "Errors: 89\n",
      "150000 4749140625\n",
      "Errors: 115\n",
      "160000 4746455112\n",
      "Errors: 115\n",
      "170000 4733569122\n",
      "Errors: 117\n",
      "180000 4727436136\n",
      "Errors: 139\n",
      "190000 4780997889\n",
      "Errors: 139\n",
      "200000 4778429045\n",
      "Errors: 139\n",
      "210000 4778396773\n",
      "Errors: 143\n"
     ]
    }
   ],
   "source": [
    "#get match details from match_ids obtained\n",
    "#add radiant_win column\n",
    "#add heroes split between dire and radiant\n",
    "\n",
    "for i,match_id in enumerate(dota_df[:]['match_id']):\n",
    "    time.sleep(1)\n",
    "    if i%10000==0:\n",
    "        print(i,match_id)\n",
    "        print('Errors:',len(error_element_list))\n",
    "    try:\n",
    "        match_details = api.call('IDOTA2Match_' + dota2_id+'.GetMatchDetails'\n",
    "                                  ,match_id = str(match_id))['result']\n",
    "    except:\n",
    "        error_match_id_list.append(match_id)\n",
    "        error_element_list.append(i)\n",
    "        time.sleep(10)\n",
    "        continue\n",
    "         \n",
    "    dire_xp = 0; radiant_xp = 0    \n",
    "    dire_gold = 0; radiant_gold = 0\n",
    "    radiant_hero_row = []; dire_hero_row = []\n",
    "    dire_hero_num=0; rad_hero_num=0\n",
    "    #get heroes, xp, and gold for features, target, target\n",
    "    for player in match_details['players']:\n",
    "        #First bit of 8-bit integer player_slot is 1 if the player was on dire\n",
    "        #so if player was on dire then player_slot > 128\n",
    "        if player['player_slot']/128<1:\n",
    "            match_detail_dict['radiant_hero'+str(rad_hero_num)]\\\n",
    "                                                .append(player['hero_id'])\n",
    "            rad_hero_num+=1\n",
    "            radiant_xp+=player['xp_per_min']*match_details['duration']/60\n",
    "            radiant_gold+=player['gold_per_min']*match_details['duration']/60\n",
    "        else:\n",
    "            match_detail_dict['dire_hero'+str(dire_hero_num)]\\\n",
    "                                                .append(player['hero_id'])\n",
    "            dire_hero_num+=1\n",
    "            dire_hero_row.append(player['hero_id'])\n",
    "            dire_xp+=player['xp_per_min']*match_details['duration']/60\n",
    "            dire_gold+=player['gold_per_min']*match_details['duration']/60\n",
    "\n",
    "    match_detail_dict['skill_level'] = int(dota_df['skill_level'][i])\n",
    "    match_detail_dict['radiant_win'].append(match_details['radiant_win']*1)\n",
    "    match_detail_dict['dire_xp'].append(dire_xp)\n",
    "    match_detail_dict['radiant_xp'].append(radiant_xp)\n",
    "    match_detail_dict['radiant_gold'].append(radiant_gold)\n",
    "    match_detail_dict['dire_gold'].append(dire_gold)\n",
    "    match_detail_dict['radiant_kills'].append(match_details['radiant_score'])\n",
    "    match_detail_dict['dire_kills'].append(match_details['dire_score'])\n",
    "    match_detail_dict['radiant_tower_status'].append(match_details['tower_status_radiant'])\n",
    "    match_detail_dict['dire_tower_status'].append(match_details['tower_status_dire'])\n",
    "    match_detail_dict['duration'].append(match_details['duration'])    \n",
    "    match_detail_dict['start_time'].append(match_details['start_time'])\n",
    "    match_detail_dict['first_blood_time'].append(match_details['first_blood_time'])\n",
    "    match_detail_dict['game_mode'].append(match_details['game_mode'])\n",
    "    match_detail_dict['lobby_type'].append(match_details['lobby_type'])\n",
    "    match_detail_dict['match_id'].append(match_id)\n",
    "\n",
    "    if len(match_detail_dict['radiant_win'])!= len(match_detail_dict['match_id']):\n",
    "        print('length mismatch!')\n",
    "        break"
   ]
  },
  {
   "cell_type": "code",
   "execution_count": null,
   "metadata": {
    "ExecuteTime": {
     "end_time": "2019-06-09T20:33:26.103245Z",
     "start_time": "2019-06-09T20:33:26.074776Z"
    }
   },
   "outputs": [],
   "source": [
    "print(len(radiant_hero_column))\n",
    "print(len(dota_df['match_id']))\n",
    "print(len(match_id_list))"
   ]
  },
  {
   "cell_type": "markdown",
   "metadata": {
    "heading_collapsed": true
   },
   "source": [
    "### Run if the match_detail fetching broke and the df length is different from the data column lengths"
   ]
  },
  {
   "cell_type": "code",
   "execution_count": null,
   "metadata": {
    "ExecuteTime": {
     "end_time": "2019-05-17T16:59:24.893963Z",
     "start_time": "2019-05-17T16:59:18.504534Z"
    },
    "code_folding": [
     5
    ],
    "hidden": true
   },
   "outputs": [],
   "source": [
    "match_id_list = []\n",
    "match_details = list(match_details)\n",
    "radiant_win_column = []\n",
    "radiant_xp_column = []\n",
    "dire_xp_column = []\n",
    "radiant_gold_column = []\n",
    "dire_gold_column = []\n",
    "radiant_hero_column = []\n",
    "dire_hero_column = []\n",
    "\n",
    "for i,match in enumerate(match_details):\n",
    "    \n",
    "    match_id_list.append(match['result']['match_id'])\n",
    "    radiant_win_column.append(match['result']['radiant_win'])\n",
    "    \n",
    "    dire_xp = 0; radiant_xp = 0    \n",
    "    dire_gold = 0; radiant_gold = 0\n",
    "    radiant_hero_row = []; dire_hero_row = []\n",
    "    #get heroes, xp, and gold for features, target, target\n",
    "    for player in match_details[i]['result']['players']:\n",
    "        #First bit of 8-bit integer player_slot is 1 if the player was on dire\n",
    "        #so if player was on dire then player_slot > 128\n",
    "        if player['player_slot']/128<1:\n",
    "            radiant_hero_row.append(player['hero_id'])\n",
    "            radiant_xp+=player['xp_per_min']*match_details[i]['result']['duration']/60\n",
    "            for item_index in range(5):\n",
    "                radiant_gold+=item_df.loc[item_df['id']==player['item_'+str(item_index)]]['cost']\n",
    "        else:\n",
    "            dire_hero_row.append(player['hero_id'])\n",
    "            dire_xp+=player['xp_per_min']*match_details[i]['result']['duration']/60\n",
    "            for item_index in range(5):\n",
    "                dire_gold+=item_df.loc[item_df['id']==player['item_'+str(item_index)]]['cost']\n",
    "\n",
    "    dire_xp_column.append(dire_xp)\n",
    "    radiant_xp_column.append(radiant_xp)\n",
    "    radiant_gold_column.append(radiant_gold)\n",
    "    dire_gold_column.append(dire_gold)\n",
    "    radiant_hero_column.append(radiant_hero_row)\n",
    "    dire_hero_column.append(dire_hero_row)\n",
    "dota2_training_df = pd.DataFrame()\n",
    "dota2_training_df['match_id'] = match_id_list"
   ]
  },
  {
   "cell_type": "markdown",
   "metadata": {},
   "source": [
    "## Process and save data"
   ]
  },
  {
   "cell_type": "code",
   "execution_count": null,
   "metadata": {
    "ExecuteTime": {
     "end_time": "2019-06-09T20:40:05.855342Z",
     "start_time": "2019-06-09T20:40:02.238551Z"
    }
   },
   "outputs": [],
   "source": [
    "dota2_training_df = pd.DataFrame()\n",
    "#Add radiant_win column to DataFrame\n",
    "dota2_training_df['radiant_win'] = 1*np.array(radiant_win_column)\n",
    "\n",
    "#add xp and gold columns to DataFrame\n",
    "dota2_training_df['radiant_xp'] = np.array(radiant_xp_column)\n",
    "dota2_training_df['dire_xp'] = np.array(dire_xp_column)\n",
    "dota2_training_df['radiant_gold'] = np.array(radiant_gold_column)\n",
    "dota2_training_df['dire_gold'] = np.array(dire_gold_column)\n",
    "\n",
    "#add kills, healing, towerdamage, duration, and positive/negative votes\n",
    "dota2_training_df['radiant_kills'] = np.array(radiant_kills_column)\n",
    "dota2_training_df['dire_kills'] = np.array(dire_kills_column)\n",
    "dota2_training_df['radiant_healing'] = np.array(radiant_healing_column)\n",
    "dota2_training_df['dire_healing'] = np.array(dire_healing_column)\n",
    "dota2_training_df['radiant_towerdamage'] = np.array(radiant_towerdamage_column)\n",
    "dota2_training_df['dire_towerdamage'] = np.array(dire_towerdamage_column)\n",
    "dota2_training_df['radiant_healing'] = np.array(positive_votes_column)\n",
    "dota2_training_df['radiant_healing'] = np.array(negative_votes_column)\n",
    "dota2_training_df['duration'] = np.array(duration_column.append)\n",
    "dota2_training_df['negative_votes'] = np.array(negative_votes_column)\n",
    "dota2_training_df['positive_votes'] = np.array(positive_votes_column)\n",
    "\n",
    "#add match_id\n",
    "dota2_training_df['match_id'] = match_id_list\n",
    "\n",
    "#Add dire and radiant heroes to DataFrame under their own columns\n",
    "for i in range(len(np.array(radiant_hero_column)[0])):\n",
    "    print(i)\n",
    "    dota2_training_df['radiant_heroes'+str(i)] = np.array(radiant_hero_column)[:,i]\n",
    "    dota2_training_df['dire_heroes'+str(i)] = np.array(dire_hero_column)[:,i]"
   ]
  },
  {
   "cell_type": "code",
   "execution_count": null,
   "metadata": {
    "ExecuteTime": {
     "end_time": "2019-06-09T20:40:08.626501Z",
     "start_time": "2019-06-09T20:40:08.460174Z"
    }
   },
   "outputs": [],
   "source": [
    "#purge 0 values from hero_id\n",
    "dota2_training_df = dota2_training_df[dota2_training_df.radiant_heroes0 != 0]\n"
   ]
  },
  {
   "cell_type": "code",
   "execution_count": null,
   "metadata": {
    "ExecuteTime": {
     "end_time": "2019-06-09T20:49:53.978715Z",
     "start_time": "2019-06-09T20:49:43.419795Z"
    }
   },
   "outputs": [],
   "source": [
    "#save data to csv file so we have it on disk\n",
    "dota2_training_df.to_csv(os.path.join('Dota_data',\n",
    "                                        'mixed_skill',\n",
    "                                        str(dota2_training_df['match_id'].min())+\n",
    "                                        '-'+\n",
    "                                        str(dota2_training_df['match_id'].max())+\n",
    "                                        '.csv'))"
   ]
  },
  {
   "cell_type": "code",
   "execution_count": null,
   "metadata": {
    "ExecuteTime": {
     "end_time": "2019-06-09T20:40:24.893797Z",
     "start_time": "2019-06-09T20:40:24.564765Z"
    }
   },
   "outputs": [],
   "source": [
    "sns.set_style('ticks')\n",
    "champ_sum = np.concatenate((dota2_training_df['radiant_heroes0'],\n",
    "                            dota2_training_df['radiant_heroes1'],\n",
    "                            dota2_training_df['radiant_heroes2'],\n",
    "                            dota2_training_df['radiant_heroes3'],\n",
    "                            dota2_training_df['radiant_heroes4'],\n",
    "                            dota2_training_df['dire_heroes0'],\n",
    "                            dota2_training_df['dire_heroes1'],\n",
    "                            dota2_training_df['dire_heroes2'],\n",
    "                            dota2_training_df['dire_heroes3'],\n",
    "                            dota2_training_df['dire_heroes4']),axis=None)\n",
    "\n",
    "unique, counts = np.unique(champ_sum, return_counts=True)\n",
    "\n",
    "plt.plot(np.log10(counts),'.')\n",
    "plt.xlabel('hero(arb)')\n",
    "plt.ylabel('log10(count)')\n",
    "plt.show()"
   ]
  },
  {
   "cell_type": "markdown",
   "metadata": {
    "heading_collapsed": true
   },
   "source": [
    "# Get many matches using GetMatchHistoryBySequence"
   ]
  },
  {
   "cell_type": "code",
   "execution_count": null,
   "metadata": {
    "ExecuteTime": {
     "end_time": "2019-05-07T04:23:48.579277Z",
     "start_time": "2019-05-07T04:23:48.568817Z"
    },
    "hidden": true
   },
   "outputs": [],
   "source": [
    "files=glob.glob(os.path.join('Dota_data','mixed_skill','*.csv'))\n",
    "files.sort(key=os.path.getmtime)\n",
    "print(files)"
   ]
  },
  {
   "cell_type": "code",
   "execution_count": null,
   "metadata": {
    "ExecuteTime": {
     "end_time": "2019-05-05T17:00:45.390206Z",
     "start_time": "2019-05-05T15:02:12.757923Z"
    },
    "hidden": true
   },
   "outputs": [],
   "source": [
    "#open all recent data files then use the oldest one to set the initial\n",
    "#    match_seq_num to use to get matches by GetMatchHistoryBySequenceNum\n",
    "#TODO: write option to start from a recent match\n",
    "files=glob.glob(os.path.join('Dota_data','mixed_skill,'*.csv'))\n",
    "files.sort(key=os.path.getmtime)\n",
    "start_match = pd.read_csv(files[-1], usecols=[1])['match_id'].iloc[-1]\n",
    "start_match_seq_num = api.call('IDOTA2Match_'+dota2_id+'.GetMatchDetails',\n",
    "                        match_id=start_match)['result']['match_seq_num']\n",
    "\n",
    "num_requested=1e7\n",
    "match_dict = api.call('IDOTA2Match_'+dota2_id+'.GetMatchHistoryBySequenceNum',\n",
    "                      start_at_match_seq_num=start_match_seq_num,\n",
    "                    matches_requested=100)\n",
    "match_list = match_dict['result']['matches']\n",
    "\n",
    "consec_err=0\n",
    "while num_requested>len(match_list):\n",
    "    time.sleep(1)\n",
    "    try:\n",
    "        match_dict=(api.call('IDOTA2Match_'+dota2_id+'.GetMatchHistoryBySequenceNum',\n",
    "                start_at_match_seq_num=match_list[-1]['match_seq_num'],\n",
    "                    matches_requested=100))\n",
    "        match_list.extend(match_dict['result']['matches'])\n",
    "        consec_err=0\n",
    "    except requests.exceptions.HTTPError as err:\n",
    "        print(err)\n",
    "        if consec_err>2:\n",
    "            print('triple error')\n",
    "            break\n",
    "        else:\n",
    "            print(len(match_list))\n",
    "            consec_err+=1\n",
    "            time.sleep(30)"
   ]
  },
  {
   "cell_type": "code",
   "execution_count": null,
   "metadata": {
    "ExecuteTime": {
     "end_time": "2019-05-07T04:20:29.829921Z",
     "start_time": "2019-05-07T04:20:04.924944Z"
    },
    "hidden": true
   },
   "outputs": [],
   "source": [
    "consec_err=0\n",
    "num_requested=2e5\n",
    "match_list=[match_list[-1]]\n",
    "while num_requested>len(match_list):\n",
    "    time.sleep(1)\n",
    "    try:\n",
    "        match_dict=(api.call('IDOTA2Match_'+dota2_id+'.GetMatchHistoryBySequenceNum',\n",
    "                start_at_match_seq_num=match_list[-1]['match_seq_num'],\n",
    "                    matches_requested=100))\n",
    "        match_list.extend(match_dict['result']['matches'])\n",
    "        consec_err=0\n",
    "    except requests.exceptions.HTTPError as err:\n",
    "        print(err)\n",
    "        if consec_err>2:\n",
    "            print('triple error')\n",
    "            break\n",
    "        else:\n",
    "            print(len(match_list))\n",
    "            consec_err+=1\n",
    "            time.sleep(30)\n",
    "match_list=match_list[1:]"
   ]
  },
  {
   "cell_type": "code",
   "execution_count": null,
   "metadata": {
    "ExecuteTime": {
     "end_time": "2019-05-07T04:18:33.981095Z",
     "start_time": "2019-05-07T04:18:33.974800Z"
    },
    "hidden": true
   },
   "outputs": [],
   "source": [
    "print(len(match_list))"
   ]
  },
  {
   "cell_type": "code",
   "execution_count": null,
   "metadata": {
    "ExecuteTime": {
     "end_time": "2019-05-07T04:19:40.857809Z",
     "start_time": "2019-05-07T04:19:30.784673Z"
    },
    "hidden": true
   },
   "outputs": [],
   "source": [
    "radiant_win_column = []; radiant_xp_column = []; dire_xp_column = []; radiant_gold_column = []\n",
    "dire_gold_column = []; radiant_hero_column = []; dire_hero_column = []; match_id_list = []\n",
    "match_seq_num_list = []\n",
    "\n",
    "for match in match_list:\n",
    "    \n",
    "    if (match['game_mode']!=1 and match['game_mode']!=2) or match['human_players']!=10:\n",
    "        continue\n",
    "    \n",
    "    match_id_list.append(match['match_id'])\n",
    "    match_seq_num_list.append(match['match_seq_num'])\n",
    "    radiant_win_column.append(match['radiant_win'])\n",
    "    \n",
    "    dire_xp = 0; radiant_xp = 0    \n",
    "    dire_gold = 0; radiant_gold = 0\n",
    "    radiant_hero_row = []; dire_hero_row = []\n",
    "    #get heroes, xp, and gold for features, target, target\n",
    "    for player in match['players']:\n",
    "        #First bit of 8-bit integer player_slot is 1 if the player was on dire\n",
    "        #so if player was on dire then player_slot > 128\n",
    "        if player['player_slot']/128<1:\n",
    "            radiant_hero_row.append(player['hero_id'])\n",
    "            radiant_xp+=player['xp_per_min']*match['duration']/60\n",
    "            for item_index in range(5):\n",
    "                if player['item_'+str(item_index)]!=0:\n",
    "                    radiant_gold+=int(item_df.loc[item_df['id']==player['item_'+str(item_index)]]['cost'])\n",
    "        else:\n",
    "            dire_hero_row.append(player['hero_id'])\n",
    "            dire_xp+=player['xp_per_min']*match['duration']/60\n",
    "            for item_index in range(5):\n",
    "                if player['item_'+str(item_index)]!=0:\n",
    "                    dire_gold+=int(item_df.loc[item_df['id']==player['item_'+str(item_index)]]['cost'])\n",
    "\n",
    "    dire_xp_column.append(dire_xp)\n",
    "    radiant_xp_column.append(radiant_xp)\n",
    "    radiant_gold_column.append(radiant_gold)\n",
    "    dire_gold_column.append(dire_gold)\n",
    "    radiant_hero_column.append(radiant_hero_row)\n",
    "    dire_hero_column.append(dire_hero_row)"
   ]
  },
  {
   "cell_type": "code",
   "execution_count": null,
   "metadata": {
    "ExecuteTime": {
     "end_time": "2019-05-07T04:19:40.865235Z",
     "start_time": "2019-05-07T04:19:40.860741Z"
    },
    "hidden": true
   },
   "outputs": [],
   "source": [
    "print(len(match_id_list))"
   ]
  },
  {
   "cell_type": "code",
   "execution_count": null,
   "metadata": {
    "ExecuteTime": {
     "end_time": "2019-05-12T21:02:07.969489Z",
     "start_time": "2019-05-12T21:01:57.054382Z"
    },
    "hidden": true
   },
   "outputs": [],
   "source": [
    "dota2_training_df = pd.DataFrame()\n",
    "\n",
    "#Add radiant_win column to DataFrame\n",
    "dota2_training_df['radiant_win'] = 1*np.array(radiant_win_column)\n",
    "\n",
    "#add xp and gold columns to DataFrame\n",
    "dota2_training_df['radiant_xp'] = np.array(radiant_xp_column)\n",
    "dota2_training_df['dire_xp'] = np.array(dire_xp_column)\n",
    "dota2_training_df['radiant_gold'] = np.array(radiant_gold_column)\n",
    "dota2_training_df['dire_gold'] = np.array(dire_gold_column)\n",
    "\n",
    "#add match_id and match_seq_num\n",
    "dota2_training_df['match_id'] = np.array(match_id_list)\n",
    "#dota2_training_df['match_seq_num'] = np.array(match_seq_num_list)\n",
    "\n",
    "\n",
    "#Add dire and radiant heroes to DataFrame under their own columns\n",
    "for i in range(len(np.array(radiant_hero_column)[0])):\n",
    "    print(i)\n",
    "    dota2_training_df['radiant_heroes'+str(i)] = np.array(radiant_hero_column)[:,i]\n",
    "    dota2_training_df['dire_heroes'+str(i)] = np.array(dire_hero_column)[:,i]"
   ]
  },
  {
   "cell_type": "code",
   "execution_count": null,
   "metadata": {
    "ExecuteTime": {
     "end_time": "2019-05-12T21:02:08.061477Z",
     "start_time": "2019-05-12T21:02:07.971980Z"
    },
    "hidden": true
   },
   "outputs": [],
   "source": [
    "#purge 0 values from hero_id\n",
    "dota2_training_df = dota2_training_df[dota2_training_df.radiant_heroes0 != 0]"
   ]
  },
  {
   "cell_type": "code",
   "execution_count": null,
   "metadata": {
    "ExecuteTime": {
     "end_time": "2019-05-12T21:03:08.472556Z",
     "start_time": "2019-05-12T21:02:08.064199Z"
    },
    "hidden": true
   },
   "outputs": [],
   "source": [
    "#save data to csv file so we have it on disk\n",
    "dota2_training_df.to_csv(os.path.join('Dota_data',\n",
    "                                        'mixed_skill',\n",
    "                                        str(dota2_training_df['match_id'].min())+\n",
    "                                        '-'+\n",
    "                                        str(dota2_training_df['match_id'].max())+\n",
    "                                        '.csv'))"
   ]
  }
 ],
 "metadata": {
  "kernelspec": {
   "display_name": "Python 3",
   "language": "python",
   "name": "python3"
  },
  "language_info": {
   "codemirror_mode": {
    "name": "ipython",
    "version": 3
   },
   "file_extension": ".py",
   "mimetype": "text/x-python",
   "name": "python",
   "nbconvert_exporter": "python",
   "pygments_lexer": "ipython3",
   "version": "3.7.3"
  },
  "notify_time": "30",
  "toc": {
   "base_numbering": 1,
   "nav_menu": {},
   "number_sections": true,
   "sideBar": true,
   "skip_h1_title": false,
   "title_cell": "Table of Contents",
   "title_sidebar": "Contents",
   "toc_cell": false,
   "toc_position": {},
   "toc_section_display": true,
   "toc_window_display": false
  }
 },
 "nbformat": 4,
 "nbformat_minor": 2
}
