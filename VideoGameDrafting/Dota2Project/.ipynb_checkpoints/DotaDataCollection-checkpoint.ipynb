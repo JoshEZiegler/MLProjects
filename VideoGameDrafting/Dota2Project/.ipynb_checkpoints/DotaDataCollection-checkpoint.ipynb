{
 "cells": [
  {
   "cell_type": "code",
   "execution_count": 81,
   "metadata": {
    "ExecuteTime": {
     "end_time": "2019-11-12T23:32:12.283514Z",
     "start_time": "2019-11-12T23:32:06.053732Z"
    },
    "code_folding": []
   },
   "outputs": [
    {
     "name": "stdout",
     "output_type": "stream",
     "text": [
      "2.0.0\n"
     ]
    }
   ],
   "source": [
    "import seaborn as sns\n",
    "import pandas as pd\n",
    "import pylab as plt\n",
    "import numpy as np\n",
    "from steam import WebAPI\n",
    "import time\n",
    "from os.path import join, getmtime\n",
    "import glob\n",
    "import json\n",
    "import tensorflow as tf\n",
    "print(tf.__version__)\n",
    "import sys\n",
    "from IPython import display\n",
    "import requests\n",
    "import sqlite3\n",
    "#dont keep api key in github!!!\n",
    "api_file = os.path.join('..','..','..','apikeys','steam_api_key.txt')\n",
    "with open(api_file, 'r') as fin:\n",
    "    api = WebAPI(key=fin.readline())"
   ]
  },
  {
   "cell_type": "code",
   "execution_count": 82,
   "metadata": {
    "ExecuteTime": {
     "end_time": "2019-11-12T23:32:12.503407Z",
     "start_time": "2019-11-12T23:32:12.286117Z"
    },
    "code_folding": []
   },
   "outputs": [
    {
     "name": "stdout",
     "output_type": "stream",
     "text": [
      "[1, 2, 3, 4, 5, 6, 7, 8, 9, 11, 10, 12, 13, 14, 15, 16, 17, 18, 19, 20, 21, 22, 23, 25, 31, 26, 27, 28, 29, 30, 32, 33, 34, 35, 36, 37, 38, 39, 40, 41, 42, 43, 44, 45, 46, 47, 48, 49, 50, 51, 52, 53, 54, 55, 56, 57, 58, 59, 60, 61, 62, 63, 64, 65, 66, 67, 69, 68, 70, 71, 72, 73, 74, 75, 76, 77, 78, 79, 80, 81, 82, 83, 84, 85, 86, 87, 88, 89, 90, 91, 92, 93, 94, 95, 96, 97, 98, 99, 100, 101, 102, 103, 104, 106, 107, 109, 110, 111, 105, 112, 113, 108, 114, 120, 119, 121, 129]\n"
     ]
    }
   ],
   "source": [
    "#declare interface urls\n",
    "#dota2_beta should be used for testing in order to not aggressively make API requests\n",
    "dota2_id = '570'\n",
    "dota2_beta_id = '205790'\n",
    "\n",
    "hero_list = api.call('IEconDOTA2_'+dota2_id+'.GetHeroes')\n",
    "hero_vocab=[int(hero_id['id']) for hero_id in hero_list['result']['heroes']]\n",
    "print(hero_vocab)"
   ]
  },
  {
   "cell_type": "markdown",
   "metadata": {
    "heading_collapsed": true
   },
   "source": [
    "## Get 500 last matches to get approximate hero ratios\n",
    "(likely isn't needed due to the way bulk data is collected)\n",
    "\n",
    "Need to be careful here so that test dataset doesn't have crossover with training data. My strategy to eliminate overlap was to start collecting match data for the training set for matches after the oldest match in the test set. To get around the 500 match retrieval limit I save 500 at a time to a .csv with a filename that has the start and end match_id. This means I can get 500, wait a bit, then get 500 more that are guarenteed to not have overlap. \n",
    "\n",
    "How long do I have to wait to get 500 more?? Unclear and was unable to find documentation. Thanks Valve."
   ]
  },
  {
   "cell_type": "code",
   "execution_count": null,
   "metadata": {
    "ExecuteTime": {
     "end_time": "2019-04-29T05:34:47.140922Z",
     "start_time": "2019-04-29T05:34:34.705462Z"
    },
    "code_folding": [],
    "hidden": true
   },
   "outputs": [],
   "source": [
    "#get matches data from dota2 API and put IDs into a dataframe\n",
    "num_requested = 1000\n",
    "skill = 3\n",
    "match_list = []\n",
    "\n",
    "#put a start match_id if I'm trying to get more matches after getting 500\n",
    "#if trying to load starting from a match_id previously obtained and saved\n",
    "#use arg: start_at_match_id = old_match_list[-1]-1\n",
    "matches = api.call('IDOTA2Match_' + dota2_id +'.GetMatchHistory',\n",
    "                                            hero_id = 121,\n",
    "                                            game_mode = 1,\n",
    "                                            skill = skill,\n",
    "                                            min_players = 10,\n",
    "                                            matches_requested = 100)\n",
    "\n",
    "#@TODO: check if lobby_type is public/ranked matching (0 or 7) before appending\n",
    "[match_list.append(match['match_id']) for match in matches['result']['matches']]\n",
    "\n",
    "current_num = 100\n",
    "\n",
    "while current_num <= num_requested:\n",
    "    \n",
    "    #check that match request returned any matches before trying to get more\n",
    "    if len(match_list)==0:\n",
    "        print('No matches returned\\nWait a bit and retry\\n\\n    GabeN Bless')\n",
    "    \n",
    "    #sleep so we don't overload the servers\n",
    "    time.sleep(1)\n",
    "                \n",
    "    current_num += 100\n",
    "    matches = api.call('IDOTA2Match_' + dota2_id+'.GetMatchHistory',\n",
    "                                            start_at_match_id = match_list[-1]-1,\n",
    "                                            game_mode = 1,\n",
    "                                            skill = skill,\n",
    "                                            min_players = 10,\n",
    "                                            matches_requested = 100)\n",
    "\n",
    "    #@TODO: check if lobby_type is public/ranked matching (0 or 7) before appending\n",
    "    [match_list.append(match['match_id']) for match in matches['result']['matches']]\n",
    "\n",
    "    \n",
    "dota2_test_df = pd.DataFrame()\n",
    "dota2_test_df['match_id'] = match_list"
   ]
  },
  {
   "cell_type": "code",
   "execution_count": null,
   "metadata": {
    "ExecuteTime": {
     "end_time": "2019-04-29T05:39:24.511808Z",
     "start_time": "2019-04-29T05:39:23.138402Z"
    },
    "hidden": true
   },
   "outputs": [],
   "source": [
    "#get match details from match_ids obtained\n",
    "#add radiant_win column\n",
    "#add heroes split between dire and radiant\n",
    "\n",
    "radiant_win_column = []\n",
    "radiant_hero_column = []\n",
    "dire_hero_column = []\n",
    "match_details = []\n",
    "\n",
    "for match_id in dota2_test_df['match_id']:\n",
    "    time.sleep(1)\n",
    "    match_details.append(api.call('IDOTA2Match_' + dota2_id+'.GetMatchDetails',\n",
    "                                  match_id = str(match_id)))\n",
    "    radiant_win_column.append(match_details[-1]['result']['radiant_win'])\n",
    "    \n",
    "    radiant_hero_row = []\n",
    "    dire_hero_row = []\n",
    "    for player in match_details[-1]['result']['players']:\n",
    "        #First bit of 8-bit integer player_slot is 1 if the player was on dire\n",
    "        #so if player was on dire then player_slot > 128\n",
    "        if player['player_slot']/128<1:\n",
    "            radiant_hero_row.append(player['hero_id'])\n",
    "        else:\n",
    "            dire_hero_row.append(player['hero_id'])\n",
    "    \n",
    "    radiant_hero_column.append(radiant_hero_row)\n",
    "    dire_hero_column.append(dire_hero_row)"
   ]
  },
  {
   "cell_type": "code",
   "execution_count": null,
   "metadata": {
    "ExecuteTime": {
     "end_time": "2018-12-28T06:58:14.979764Z",
     "start_time": "2018-12-28T06:58:06.696Z"
    },
    "hidden": true
   },
   "outputs": [],
   "source": [
    "#Add radiant_win column to Dataframe\n",
    "dota2_test_df['radiant_win'] = 1*np.array(radiant_win_column)\n",
    "\n",
    "#Add dire and radiant heroes to DataFrame under their own columns\n",
    "for i in range(len(np.array(radiant_hero_column)[0])):\n",
    "    dota2_test_df['radiant_heroes'+str(i)] = np.array(radiant_hero_column)[:,i]\n",
    "    dota2_test_df['dire_heroes'+str(i)] = np.array(dire_hero_column)[:,i]"
   ]
  },
  {
   "cell_type": "code",
   "execution_count": null,
   "metadata": {
    "ExecuteTime": {
     "end_time": "2018-12-06T02:01:12.153273Z",
     "start_time": "2018-12-06T02:01:12.134217Z"
    },
    "hidden": true
   },
   "outputs": [],
   "source": [
    "#save data to csv file so that we have it on disk\n",
    "dota2_test_df.to_csv(os.path.join('dota2_test_data',\n",
    "                                        str(dota2_test_df['match_id'][0])+\n",
    "                                        '-'+\n",
    "                                        str(dota2_test_df['match_id'][499])+'.csv'))"
   ]
  },
  {
   "cell_type": "markdown",
   "metadata": {
    "heading_collapsed": true
   },
   "source": [
    "## Load test data that is newest for match_id checking\n",
    "(to prevent duplicates) This isn't generally necessary because matches happen so fast."
   ]
  },
  {
   "cell_type": "code",
   "execution_count": null,
   "metadata": {
    "ExecuteTime": {
     "end_time": "2018-12-06T07:01:03.272713Z",
     "start_time": "2018-12-06T07:01:03.256113Z"
    },
    "hidden": true
   },
   "outputs": [],
   "source": [
    "#Run this if the test data is needed to allow for proper test_data collection\n",
    "#load newest file so that last_match_id is accurate? Unclear if this is the best strategy... \n",
    "#maybe should look at loading all then looking at match_id\n",
    "dota2_data_files = glob.glob(os.path.join('dota2_test_data','*.csv'))\n",
    "dota2_data_files.sort(key=os.path.getmtime)\n",
    "\n",
    "dota2_test_df_from_file = pd.read_csv(dota2_data_files[0], usecols=range(1,13))\n",
    "dota2_test_df_from_file.style\n",
    "\n",
    "#purge 0 values from hero_id\n",
    "dota2_test_df_from_file = dota2_test_df_from_file[dota2_test_df_from_file.radiant_heroes0 != 0]\n",
    "\n",
    "#make old_match_list for easy checking of match_id\n",
    "old_match_list = list(dota2_test_df_from_file['match_id'])"
   ]
  },
  {
   "cell_type": "markdown",
   "metadata": {},
   "source": [
    "# Get 500 matches of each hero id (and trim duplicates)"
   ]
  },
  {
   "cell_type": "code",
   "execution_count": null,
   "metadata": {
    "ExecuteTime": {
     "end_time": "2019-06-30T22:03:27.589109Z",
     "start_time": "2019-06-30T22:03:27.286917Z"
    }
   },
   "outputs": [],
   "source": [
    "hero_list = api.call('IEconDOTA2_'+dota2_id+'.GetHeroes',itemizedonly = True)\n",
    "hero_list=pd.DataFrame(hero_list['result']['heroes'])"
   ]
  },
  {
   "cell_type": "markdown",
   "metadata": {},
   "source": [
    "## Get match_id of all the matches\n",
    "this uses GetMatchHistory which is a bit limits match getting to 500 per hero (about 2e4) and sometimes stops returning matches"
   ]
  },
  {
   "cell_type": "code",
   "execution_count": null,
   "metadata": {
    "ExecuteTime": {
     "end_time": "2019-05-25T03:02:11.417738Z",
     "start_time": "2019-05-25T02:51:12.573829Z"
    },
    "code_folding": []
   },
   "outputs": [],
   "source": [
    "#get matches data from dota2 API and put IDs into a dataframe\n",
    "num_matches_to_request = 500\n",
    "skill = 3\n",
    "match_list = []\n",
    "most_current_matches = True\n",
    "\n",
    "#Loop through all hero_id values\n",
    "#use vocabulary generated by an api call above to get all hero id's\n",
    "for i in hero_list['id']:\n",
    "    \n",
    "    #Get first match for each hero out of loop so that we can pull more than 100 games per hero\n",
    "    #by utilizing start_at_match_id option\n",
    "    if most_current_matches==True:\n",
    "        matches = api.call('IDOTA2Match_' + dota2_id+'.GetMatchHistory',hero_id = i,\n",
    "                                                                   game_mode = 1,\n",
    "                                                                   skill = skill,\n",
    "                                                                   min_players = 10,\n",
    "                                                                   matches_requested = 100)\n",
    "    else:\n",
    "        files=glob.glob(os.path.join('Dota_data','skill_level='+str(skill),'*.csv'))\n",
    "        files.sort(key=os.path.getmtime)\n",
    "        start_match = pd.read_csv(files[-1], usecols=[1])['match_id'].min()-1\n",
    "        print(start_match)\n",
    "        matches = api.call('IDOTA2Match_' + dota2_id+'.GetMatchHistory',hero_id=i,\n",
    "                                                            start_at_match_id=start_match,\n",
    "                                                            game_mode=1,\n",
    "                                                            skill=skill,\n",
    "                                                            min_players=10,\n",
    "                                                            matches_requested=100)\n",
    "    #Append matches to matchlist\n",
    "    #if lobby_type is public/ranked matching (0 or 7)\n",
    "    for match in matches['result']['matches']:\n",
    "        lobby_type=match['lobby_type']\n",
    "        if lobby_type==0 or lobby_type==7 or lobby_type==5 or lobby_type==2:\n",
    "            match_list.append(match['match_id'])\n",
    "            \n",
    "    current_num = 1\n",
    "\n",
    "    if len(match_list)==0:\n",
    "        print('No matches returned\\nWait a bit and retry\\n\\n    GabeN Bless')\n",
    "        break\n",
    "    \n",
    "    while current_num <= num_matches_to_request:\n",
    "        #sleep so we don't overload the servers\n",
    "        time.sleep(1)\n",
    "\n",
    "        current_num += 100\n",
    "        matches = api.call('IDOTA2Match_' + dota2_id+'.GetMatchHistory',hero_id = i,\n",
    "                                                        start_at_match_id = match_list[-1]-1,\n",
    "                                                        game_mode = 1,\n",
    "                                                        skill = skill,\n",
    "                                                        min_players = 10,\n",
    "                                                        matches_requested = 100)\n",
    "        \n",
    "        #Append matches to matchlist\n",
    "        #if lobby_type is public/ranked matching (0 or 7)\n",
    "        for match in matches['result']['matches']:\n",
    "            lobby_type=match['lobby_type']\n",
    "            if lobby_type==0 or lobby_type==7 or lobby_type==5 or lobby_type==2:\n",
    "                match_list.append(match['match_id'])\n"
   ]
  },
  {
   "cell_type": "markdown",
   "metadata": {},
   "source": [
    "## Purge duplicates and add to dataframe"
   ]
  },
  {
   "cell_type": "code",
   "execution_count": null,
   "metadata": {
    "ExecuteTime": {
     "end_time": "2019-05-25T03:02:11.473309Z",
     "start_time": "2019-05-25T03:02:11.421848Z"
    }
   },
   "outputs": [],
   "source": [
    "#Make dataframe of match_id values using dict.fromkeys(list) to remove duplicates\n",
    "dota2_df = pd.DataFrame()\n",
    "dota2_df['match_id'] = list(dict.fromkeys(match_list))\n",
    "\n",
    "dota2_df.describe()"
   ]
  },
  {
   "cell_type": "markdown",
   "metadata": {},
   "source": [
    "## Save match id list"
   ]
  },
  {
   "cell_type": "code",
   "execution_count": null,
   "metadata": {
    "ExecuteTime": {
     "end_time": "2019-05-25T03:02:11.522469Z",
     "start_time": "2019-05-25T03:02:11.476753Z"
    }
   },
   "outputs": [],
   "source": [
    "dota2_df.to_csv(os.path.join('Dota_data',\n",
    "                                      'skill_level='+str(skill),\n",
    "                                      'saved'+time.strftime('%Y-%m-%d')+'.csv'))"
   ]
  },
  {
   "cell_type": "markdown",
   "metadata": {},
   "source": [
    "# Get match details for matches\n",
    "this is a poor way to do it because it needs many calls to get the data. GetMatchHistoryBySequenceNum is nice but there are no filters so the usable matches are ~1/500."
   ]
  },
  {
   "cell_type": "markdown",
   "metadata": {},
   "source": [
    "## Load files of match_ids"
   ]
  },
  {
   "cell_type": "code",
   "execution_count": 83,
   "metadata": {
    "ExecuteTime": {
     "end_time": "2019-11-12T23:32:15.517200Z",
     "start_time": "2019-11-12T23:32:14.981693Z"
    }
   },
   "outputs": [
    {
     "name": "stdout",
     "output_type": "stream",
     "text": [
      "Dota_data/match_ids/skill_level=3/saved2019-05-24.csv\n",
      "Dota_data/match_ids/skill_level=3/saved2019-05-23.csv\n",
      "Dota_data/match_ids/skill_level=3/saved2019-05-22.csv\n",
      "Dota_data/match_ids/skill_level=3/saved2019-05-21.csv\n",
      "Dota_data/match_ids/skill_level=3/saved2019-05-13.csv\n",
      "Dota_data/match_ids/skill_level=3/saved2019-05-12.csv\n",
      "Dota_data/match_ids/skill_level=3/saved2019-05-08.csv\n",
      "Dota_data/match_ids/skill_level=3/saved2019-05-06.csv\n",
      "Dota_data/match_ids/skill_level=2/saved2019-05-24.csv\n",
      "Dota_data/match_ids/skill_level=2/saved2019-05-23.csv\n",
      "Dota_data/match_ids/skill_level=2/saved2019-05-22.csv\n",
      "Dota_data/match_ids/skill_level=2/saved2019-05-20.csv\n",
      "Dota_data/match_ids/skill_level=2/saved2019-05-13.csv\n",
      "Dota_data/match_ids/skill_level=2/saved2019-05-12.csv\n",
      "Dota_data/match_ids/skill_level=2/saved2019-05-08.csv\n",
      "Dota_data/match_ids/skill_level=2/saved2019-05-06.csv\n",
      "Dota_data/match_ids/skill_level=1/saved2019-05-24.csv\n",
      "Dota_data/match_ids/skill_level=1/saved2019-05-23.csv\n",
      "Dota_data/match_ids/skill_level=1/saved2019-05-22.csv\n",
      "Dota_data/match_ids/skill_level=1/saved2019-05-20.csv\n",
      "Dota_data/match_ids/skill_level=1/saved2019-05-13.csv\n",
      "Dota_data/match_ids/skill_level=1/saved2019-05-12.csv\n",
      "Dota_data/match_ids/skill_level=1/saved2019-05-08.csv\n",
      "Dota_data/match_ids/skill_level=1/saved2019-05-06.csv\n"
     ]
    },
    {
     "data": {
      "text/html": [
       "<div>\n",
       "<style scoped>\n",
       "    .dataframe tbody tr th:only-of-type {\n",
       "        vertical-align: middle;\n",
       "    }\n",
       "\n",
       "    .dataframe tbody tr th {\n",
       "        vertical-align: top;\n",
       "    }\n",
       "\n",
       "    .dataframe thead th {\n",
       "        text-align: right;\n",
       "    }\n",
       "</style>\n",
       "<table border=\"1\" class=\"dataframe\">\n",
       "  <thead>\n",
       "    <tr style=\"text-align: right;\">\n",
       "      <th></th>\n",
       "      <th>match_id</th>\n",
       "      <th>skill_level</th>\n",
       "    </tr>\n",
       "  </thead>\n",
       "  <tbody>\n",
       "    <tr>\n",
       "      <th>count</th>\n",
       "      <td>2.878220e+05</td>\n",
       "      <td>287822.000000</td>\n",
       "    </tr>\n",
       "    <tr>\n",
       "      <th>mean</th>\n",
       "      <td>4.757200e+09</td>\n",
       "      <td>1.972292</td>\n",
       "    </tr>\n",
       "    <tr>\n",
       "      <th>std</th>\n",
       "      <td>1.988449e+07</td>\n",
       "      <td>0.821628</td>\n",
       "    </tr>\n",
       "    <tr>\n",
       "      <th>min</th>\n",
       "      <td>4.725403e+09</td>\n",
       "      <td>1.000000</td>\n",
       "    </tr>\n",
       "    <tr>\n",
       "      <th>25%</th>\n",
       "      <td>4.733830e+09</td>\n",
       "      <td>1.000000</td>\n",
       "    </tr>\n",
       "    <tr>\n",
       "      <th>50%</th>\n",
       "      <td>4.749397e+09</td>\n",
       "      <td>2.000000</td>\n",
       "    </tr>\n",
       "    <tr>\n",
       "      <th>75%</th>\n",
       "      <td>4.775588e+09</td>\n",
       "      <td>3.000000</td>\n",
       "    </tr>\n",
       "    <tr>\n",
       "      <th>max</th>\n",
       "      <td>4.781085e+09</td>\n",
       "      <td>3.000000</td>\n",
       "    </tr>\n",
       "  </tbody>\n",
       "</table>\n",
       "</div>"
      ],
      "text/plain": [
       "           match_id    skill_level\n",
       "count  2.878220e+05  287822.000000\n",
       "mean   4.757200e+09       1.972292\n",
       "std    1.988449e+07       0.821628\n",
       "min    4.725403e+09       1.000000\n",
       "25%    4.733830e+09       1.000000\n",
       "50%    4.749397e+09       2.000000\n",
       "75%    4.775588e+09       3.000000\n",
       "max    4.781085e+09       3.000000"
      ]
     },
     "execution_count": 83,
     "metadata": {},
     "output_type": "execute_result"
    }
   ],
   "source": [
    "dota_df = None\n",
    "\n",
    "files=glob.glob(join('Dota_data','match_ids','skill_level=*','*.csv'))\n",
    "files.sort(key=getmtime)\n",
    "#print(files)\n",
    "for filename in files[:]:\n",
    "    print(filename)\n",
    "    if type(dota_df)==None:\n",
    "        dota_df = pd.read_csv(filename, usecols=[1])\n",
    "        dota_df['skill_level'] = np.ones(len(dota_df['match_id']))*int(filename[-21])\n",
    "    else:\n",
    "        dota_df_new = pd.read_csv(filename, usecols=[1])\n",
    "        dota_df_new['skill_level'] = np.ones(len(dota_df_new['match_id']))*int(filename[-21])\n",
    "        dota_df = pd.concat([dota_df, dota_df_new],\n",
    "                                                    ignore_index=True)\n",
    "\n",
    "dota_df.describe()"
   ]
  },
  {
   "cell_type": "markdown",
   "metadata": {
    "heading_collapsed": true
   },
   "source": [
    "## Get the details \n",
    "store in memory for later export"
   ]
  },
  {
   "cell_type": "code",
   "execution_count": 27,
   "metadata": {
    "ExecuteTime": {
     "end_time": "2019-11-05T23:21:47.516702Z",
     "start_time": "2019-11-05T23:21:47.510590Z"
    },
    "hidden": true
   },
   "outputs": [],
   "source": [
    "#initialize data columns if you're starting a match_detail getting batch\n",
    "#if trying to finish one that broke unexpectedly then don't run!\n",
    "feature_name_list=['match_id','match_seq_num','start_time','duration','game_mode',\n",
    "                   'lobby_type','skill_level','radiant_win','radiant_kills','dire_kills',\n",
    "                   'radiant_gold','dire_gold','radiant_xp','dire_xp',\n",
    "                   'radiant_tower_status','dire_tower_status',\n",
    "                   'radiant_barrack_status','dire_barrack_status',\n",
    "                   'first_blood_time']\n",
    "match_detail_dict={}\n",
    "for feature in feature_name_list:\n",
    "    match_detail_dict[feature]=[]\n",
    "\n",
    "for i in range(5):\n",
    "    match_detail_dict['radiant_hero'+str(i)]=[]\n",
    "    match_detail_dict['dire_hero'+str(i)]=[]\n",
    "\n",
    "error_match_id_list=[]\n",
    "error_element_list=[]"
   ]
  },
  {
   "cell_type": "code",
   "execution_count": null,
   "metadata": {
    "ExecuteTime": {
     "start_time": "2019-11-05T23:23:44.913Z"
    },
    "code_folding": [
     4
    ],
    "hidden": true,
    "scrolled": true
   },
   "outputs": [
    {
     "name": "stdout",
     "output_type": "stream",
     "text": [
      "0 4781059783\n",
      "Errors: 0\n",
      "10000 4780774572\n",
      "Errors: 38\n",
      "20000 4775349512\n",
      "Errors: 41\n",
      "30000 4775386089\n",
      "Errors: 41\n",
      "40000 4771791704\n",
      "Errors: 41\n",
      "50000 4749335234\n",
      "Errors: 45\n",
      "60000 4746591115\n",
      "Errors: 80\n",
      "70000 4733762756\n",
      "Errors: 80\n",
      "80000 4728039171\n",
      "Errors: 80\n",
      "90000 4727436604\n",
      "Errors: 81\n",
      "100000 4780906554\n",
      "Errors: 83\n",
      "110000 4778259630\n",
      "Errors: 86\n",
      "120000 4775339094\n",
      "Errors: 86\n",
      "130000 4770316166\n",
      "Errors: 86\n",
      "140000 4749402619\n",
      "Errors: 89\n",
      "150000 4749140625\n",
      "Errors: 115\n",
      "160000 4746455112\n",
      "Errors: 115\n",
      "170000 4733569122\n",
      "Errors: 117\n",
      "180000 4727436136\n",
      "Errors: 139\n",
      "190000 4780997889\n",
      "Errors: 139\n",
      "200000 4778429045\n",
      "Errors: 139\n",
      "210000 4778396773\n",
      "Errors: 143\n"
     ]
    }
   ],
   "source": [
    "#get match details from match_ids obtained\n",
    "#store most response fields in dict of lists\n",
    "#  to put into a dataframe later\n",
    "for i,match_id in enumerate(dota_df[:]['match_id']):\n",
    "    time.sleep(1)\n",
    "    if i%10000==0:\n",
    "        print(i,match_id)\n",
    "        print('Errors:',len(error_element_list))\n",
    "    try:\n",
    "        match_details = api.call('IDOTA2Match_' + dota2_id+'.GetMatchDetails'\n",
    "                                  ,match_id = str(match_id))['result']\n",
    "    except:\n",
    "        error_match_id_list.append(match_id)\n",
    "        error_element_list.append(i)\n",
    "        time.sleep(10)\n",
    "        continue\n",
    "         \n",
    "    dire_xp = 0; radiant_xp = 0    \n",
    "    dire_gold = 0; radiant_gold = 0\n",
    "    radiant_hero_row = []; dire_hero_row = []\n",
    "    dire_hero_num=0; rad_hero_num=0\n",
    "    #get heroes, xp, and gold for features, target, target\n",
    "    for player in match_details['players']:\n",
    "        #First bit of 8-bit integer player_slot is 1 if the player was on dire\n",
    "        #so if player was on dire then player_slot > 128\n",
    "        if player['player_slot']/128<1:\n",
    "            match_detail_dict['radiant_hero'+str(rad_hero_num)]\\\n",
    "                                                .append(player['hero_id'])\n",
    "            rad_hero_num+=1\n",
    "            radiant_xp+=player['xp_per_min']*match_details['duration']/60\n",
    "            radiant_gold+=player['gold_per_min']*match_details['duration']/60\n",
    "        else:\n",
    "            match_detail_dict['dire_hero'+str(dire_hero_num)]\\\n",
    "                                                .append(player['hero_id'])\n",
    "            dire_hero_num+=1\n",
    "            dire_hero_row.append(player['hero_id'])\n",
    "            dire_xp+=player['xp_per_min']*match_details['duration']/60\n",
    "            dire_gold+=player['gold_per_min']*match_details['duration']/60\n",
    "\n",
    "    match_detail_dict['skill_level'].append(int(dota_df['skill_level'][i]))\n",
    "    match_detail_dict['radiant_win'].append(match_details['radiant_win']*1)\n",
    "    match_detail_dict['dire_xp'].append(dire_xp)\n",
    "    match_detail_dict['radiant_xp'].append(radiant_xp)\n",
    "    match_detail_dict['radiant_gold'].append(radiant_gold)\n",
    "    match_detail_dict['dire_gold'].append(dire_gold)\n",
    "    match_detail_dict['radiant_kills'].append(match_details['radiant_score'])\n",
    "    match_detail_dict['dire_kills'].append(match_details['dire_score'])\n",
    "    match_detail_dict['radiant_tower_status'].append(match_details['tower_status_radiant'])\n",
    "    match_detail_dict['dire_tower_status'].append(match_details['tower_status_dire'])\n",
    "    match_detail_dict['duration'].append(match_details['duration'])    \n",
    "    match_detail_dict['start_time'].append(match_details['start_time'])\n",
    "    match_detail_dict['first_blood_time'].append(match_details['first_blood_time'])\n",
    "    match_detail_dict['game_mode'].append(match_details['game_mode'])\n",
    "    match_detail_dict['lobby_type'].append(match_details['lobby_type'])\n",
    "    match_detail_dict['match_id'].append(match_id)\n",
    "\n",
    "    if len(match_detail_dict['radiant_win'])!= len(match_detail_dict['match_id']):\n",
    "        print('length mismatch!')\n",
    "        break"
   ]
  },
  {
   "cell_type": "code",
   "execution_count": 34,
   "metadata": {
    "ExecuteTime": {
     "end_time": "2019-11-11T06:17:36.359652Z",
     "start_time": "2019-11-11T06:17:36.354192Z"
    },
    "hidden": true
   },
   "outputs": [
    {
     "name": "stdout",
     "output_type": "stream",
     "text": [
      "287747\n",
      "287822\n",
      "287891\n"
     ]
    }
   ],
   "source": [
    "print(len(match_detail_dict['match_id']))\n",
    "print(len(dota_df['match_id']))\n",
    "print(len(error_match_id_list)+len(match_detail_dict['match_id']))"
   ]
  },
  {
   "cell_type": "markdown",
   "metadata": {
    "heading_collapsed": true,
    "hidden": true
   },
   "source": [
    "### Run if the match_detail fetching broke and the df length is different from the data column lengths"
   ]
  },
  {
   "cell_type": "code",
   "execution_count": null,
   "metadata": {
    "ExecuteTime": {
     "end_time": "2019-05-17T16:59:24.893963Z",
     "start_time": "2019-05-17T16:59:18.504534Z"
    },
    "code_folding": [
     5
    ],
    "hidden": true
   },
   "outputs": [],
   "source": [
    "match_id_list = []\n",
    "match_details = list(match_details)\n",
    "radiant_win_column = []\n",
    "radiant_xp_column = []\n",
    "dire_xp_column = []\n",
    "radiant_gold_column = []\n",
    "dire_gold_column = []\n",
    "radiant_hero_column = []\n",
    "dire_hero_column = []\n",
    "\n",
    "for i,match in enumerate(match_details):\n",
    "    \n",
    "    match_id_list.append(match['result']['match_id'])\n",
    "    radiant_win_column.append(match['result']['radiant_win'])\n",
    "    \n",
    "    dire_xp = 0; radiant_xp = 0    \n",
    "    dire_gold = 0; radiant_gold = 0\n",
    "    radiant_hero_row = []; dire_hero_row = []\n",
    "    #get heroes, xp, and gold for features, target, target\n",
    "    for player in match_details[i]['result']['players']:\n",
    "        #First bit of 8-bit integer player_slot is 1 if the player was on dire\n",
    "        #so if player was on dire then player_slot > 128\n",
    "        if player['player_slot']/128<1:\n",
    "            radiant_hero_row.append(player['hero_id'])\n",
    "            radiant_xp+=player['xp_per_min']*match_details[i]['result']['duration']/60\n",
    "            for item_index in range(5):\n",
    "                radiant_gold+=item_df.loc[item_df['id']==player['item_'+str(item_index)]]['cost']\n",
    "        else:\n",
    "            dire_hero_row.append(player['hero_id'])\n",
    "            dire_xp+=player['xp_per_min']*match_details[i]['result']['duration']/60\n",
    "            for item_index in range(5):\n",
    "                dire_gold+=item_df.loc[item_df['id']==player['item_'+str(item_index)]]['cost']\n",
    "\n",
    "    dire_xp_column.append(dire_xp)\n",
    "    radiant_xp_column.append(radiant_xp)\n",
    "    radiant_gold_column.append(radiant_gold)\n",
    "    dire_gold_column.append(dire_gold)\n",
    "    radiant_hero_column.append(radiant_hero_row)\n",
    "    dire_hero_column.append(dire_hero_row)\n",
    "dota2_training_df = pd.DataFrame()\n",
    "dota2_training_df['match_id'] = match_id_list"
   ]
  },
  {
   "cell_type": "markdown",
   "metadata": {},
   "source": [
    "## Get the details and store results in a SQL database as its retrieved\n",
    "ideally the match_ids would be stored in a sql database, but here we are"
   ]
  },
  {
   "cell_type": "code",
   "execution_count": 84,
   "metadata": {
    "ExecuteTime": {
     "end_time": "2019-11-12T23:32:21.515873Z",
     "start_time": "2019-11-12T23:32:21.490840Z"
    }
   },
   "outputs": [],
   "source": [
    "error_match_id_list=[]\n",
    "error_element_list=[]"
   ]
  },
  {
   "cell_type": "code",
   "execution_count": 85,
   "metadata": {
    "ExecuteTime": {
     "end_time": "2019-11-12T23:32:22.097783Z",
     "start_time": "2019-11-12T23:32:22.089729Z"
    }
   },
   "outputs": [],
   "source": [
    "conn = sqlite3.connect(join('Dota_data','mixed_skill',\n",
    "                            'dota_data.db'))\n",
    "c = conn.cursor()"
   ]
  },
  {
   "cell_type": "code",
   "execution_count": 90,
   "metadata": {
    "ExecuteTime": {
     "end_time": "2019-11-12T23:40:04.363091Z",
     "start_time": "2019-11-12T23:40:04.351812Z"
    }
   },
   "outputs": [
    {
     "data": {
      "text/plain": [
       "<sqlite3.Cursor at 0x1a770078f0>"
      ]
     },
     "execution_count": 90,
     "metadata": {},
     "output_type": "execute_result"
    }
   ],
   "source": [
    "table_name = 'details_'+str(dota_df['match_id'].min())+\\\n",
    "                'to'+str(dota_df['match_id'].max())\n",
    "\n",
    "c.execute(\"CREATE TABLE {tn}( \\\n",
    "             match_id INTEGER, match_seq_num INTEGER, \\\n",
    "             start_time INTEGER, duration INTEGER, \\\n",
    "             game_mode INTEGER, lobby_type INTEGER, \\\n",
    "             skill_level INTEGER, radiant_win INTEGER, \\\n",
    "             radiant_kills INTEGER, dire_kills INTEGER, \\\n",
    "             radiant_gold INTEGER, dire_gold INTEGER, \\\n",
    "             radiant_xp INTEGER, dire_xp INTEGER, \\\n",
    "             radiant_tower_status INTEGER, dire_tower_status INTEGER, \\\n",
    "             radiant_barrack_status INTEGER, dire_barrack_status INTEGER, \\\n",
    "             first_blood_time INTEGER, rad_leaver_status CHAR(5), \\\n",
    "             dire_leaver_status CHAR(5), radiant_hero0 INTEGER, \\\n",
    "             radiant_hero1 INTEGER, radiant_hero2 INTEGER, \\\n",
    "             radiant_hero3 INTEGER, radiant_hero4 INTEGER, \\\n",
    "             dire_hero0 INTEGER, dire_hero1 INTEGER, \\\n",
    "             dire_hero2 INTEGER, dire_hero3 INTEGER, \\\n",
    "             dire_hero_4 INTEGER \\\n",
    "             )\".format(tn=table_name))"
   ]
  },
  {
   "cell_type": "code",
   "execution_count": 101,
   "metadata": {
    "ExecuteTime": {
     "end_time": "2019-11-12T23:49:38.452236Z",
     "start_time": "2019-11-12T23:49:38.441031Z"
    },
    "scrolled": true
   },
   "outputs": [
    {
     "data": {
      "text/plain": [
       "[(4781059783,\n",
       "  4027780197,\n",
       "  1558751120,\n",
       "  940,\n",
       "  23,\n",
       "  0,\n",
       "  3,\n",
       "  0,\n",
       "  7,\n",
       "  24,\n",
       "  49146.33333333333,\n",
       "  83362.33333333333,\n",
       "  82406.66666666667,\n",
       "  110622.33333333334,\n",
       "  0,\n",
       "  1974,\n",
       "  0,\n",
       "  63,\n",
       "  129,\n",
       "  '10',\n",
       "  '0',\n",
       "  67,\n",
       "  53,\n",
       "  10,\n",
       "  84,\n",
       "  1,\n",
       "  114,\n",
       "  12,\n",
       "  51,\n",
       "  83,\n",
       "  43)]"
      ]
     },
     "execution_count": 101,
     "metadata": {},
     "output_type": "execute_result"
    }
   ],
   "source": [
    "c.execute('SELECT * FROM {tn}'.format(tn=table_name)).fetchall()"
   ]
  },
  {
   "cell_type": "code",
   "execution_count": 100,
   "metadata": {
    "ExecuteTime": {
     "end_time": "2019-11-12T23:47:41.251496Z",
     "start_time": "2019-11-12T23:47:40.033434Z"
    }
   },
   "outputs": [
    {
     "name": "stdout",
     "output_type": "stream",
     "text": [
      "0 4781059783\n",
      "Errors: 0\n"
     ]
    }
   ],
   "source": [
    "#get match details from match_ids obtained\n",
    "#insert data directly into SQL table as it is retrieved.\n",
    "#saves on memory?\n",
    "#does not save per player stats other than leaver status\n",
    "#does not save engine, picks_bans, positive_votes, negative_votes, human_players,\n",
    "#  leagueid, cluster, season\n",
    "for match_id,skill in zip(dota_df[:]['match_id'],dota_df[:]['skill_level']):\n",
    "    time.sleep(1)\n",
    "    if i%10000==0:\n",
    "        print(i,match_id)\n",
    "        print('Errors:',len(error_element_list))\n",
    "    try:\n",
    "        deets = api.call('IDOTA2Match_' + dota2_id+'.GetMatchDetails'\n",
    "                                  ,match_id = str(match_id))['result']\n",
    "    except:\n",
    "        error_match_id_list.append(match_id)\n",
    "        time.sleep(10)\n",
    "        continue\n",
    "\n",
    "    dire_xp = 0; rad_xp = 0    \n",
    "    dire_gold = 0; rad_gold = 0\n",
    "    dire_heroes=[]; rad_heroes=[]\n",
    "    dire_hero_num=0;rad_hero_num=0\n",
    "    dire_leaver_status=0; rad_leaver_status=0\n",
    "    player_count=0\n",
    "    #get heroes, xp, and gold for features, target, target\n",
    "    for player in deets['players']:\n",
    "        #First bit of 8-bit integer player_slot is 1 if the player was on dire\n",
    "        #so if player was on dire then player_slot > 128\n",
    "        if player['player_slot']/128<1:\n",
    "            rad_heroes.append(player['hero_id'])\n",
    "            rad_xp+=player['xp_per_min']*deets['duration']/60\n",
    "            rad_gold+=player['gold_per_min']*deets['duration']/60\n",
    "            \n",
    "            #see wiki for leaver status value meaning \n",
    "            #(0 is not leaver, with various leaver levels up to 6)\n",
    "            #this concatenates val into single five-digit number to save columns\n",
    "            #keep rad and dire leaver status separate for better feature\n",
    "            rad_leaver_status+=player['leaver_status']*10**rad_hero_num\n",
    "            rad_hero_num+=1\n",
    "        else:\n",
    "            dire_heroes.append(player['hero_id'])\n",
    "            dire_xp+=player['xp_per_min']*deets['duration']/60\n",
    "            dire_gold+=player['gold_per_min']*deets['duration']/60\n",
    "            dire_leaver_status+=player['leaver_status']*10**rad_hero_num\n",
    "            dire_hero_num+=1\n",
    "\n",
    "    #ordering has to match column order from CREATE statement above or else things break\n",
    "    #sanitize insertions with ? (31 of them)\n",
    "    #spaces between groups of five ?'s for counting purposes\n",
    "    c.execute(\"INSERT INTO {tn} \\\n",
    "             VALUES (?,?,?,?,?, ?,?,?,?,?, ?,?,?,?,?, ?,?,?,?,?, \\\n",
    "                  ?,?,?,?,?, ?,?,?,?,?, ?)\".format(tn=table_name),\n",
    "             [match_id,deets['match_seq_num'],deets['start_time'],deets['duration'],\n",
    "             deets['game_mode'],deets['lobby_type'],int(skill),deets['radiant_win'],\n",
    "             deets['radiant_score'],deets['dire_score'],rad_gold,dire_gold,\n",
    "             rad_xp, dire_xp, deets['tower_status_radiant'],\n",
    "             deets['tower_status_dire'],deets['barracks_status_radiant'],\n",
    "             deets['barracks_status_dire'],deets['first_blood_time'],\n",
    "             rad_leaver_status,dire_leaver_status,\n",
    "             rad_heroes[0],rad_heroes[1],rad_heroes[2],\n",
    "             rad_heroes[3],rad_heroes[4],dire_heroes[0],\n",
    "             dire_heroes[1],dire_heroes[2],dire_heroes[3],\n",
    "             dire_heroes[4]])\n",
    "    con.commit()\n",
    "    break"
   ]
  },
  {
   "cell_type": "markdown",
   "metadata": {},
   "source": [
    "## Process and save data"
   ]
  },
  {
   "cell_type": "code",
   "execution_count": null,
   "metadata": {
    "ExecuteTime": {
     "end_time": "2019-11-12T01:11:50.887930Z",
     "start_time": "2019-11-12T01:07:23.185816Z"
    }
   },
   "outputs": [],
   "source": [
    "match_detail_dict['skill_level']=[]\n",
    "i=0\n",
    "for match_id in match_detail_dict['match_id']:\n",
    "    match_detail_dict['skill_level'].append(dota_df.loc[\n",
    "                                            dota_df['match_id']==match_id,\n",
    "                                            'skill_level'])\n",
    "match_detail_dict['skill_level']=list(np.array(\n",
    "                                    match_detail_dict['skill_level'],\n",
    "                                    dtype='int64'))\n",
    "print(len(match_detail_dict['skill_level']))\n",
    "print(len(match_detail_dict['match_id']))   "
   ]
  },
  {
   "cell_type": "code",
   "execution_count": null,
   "metadata": {
    "ExecuteTime": {
     "end_time": "2019-11-12T01:11:50.892064Z",
     "start_time": "2019-11-12T01:07:45.029Z"
    }
   },
   "outputs": [],
   "source": [
    "print(match_detail['skill_level'][:10])"
   ]
  },
  {
   "cell_type": "code",
   "execution_count": 60,
   "metadata": {
    "ExecuteTime": {
     "end_time": "2019-11-11T21:20:00.597209Z",
     "start_time": "2019-11-11T21:20:00.580931Z"
    },
    "code_folding": [
     0
    ],
    "scrolled": true
   },
   "outputs": [
    {
     "name": "stdout",
     "output_type": "stream",
     "text": [
      "match_id 287747\n",
      "start_time 287747\n",
      "duration 287747\n",
      "game_mode 287747\n",
      "lobby_type 287747\n",
      "radiant_win 287747\n",
      "radiant_kills 287747\n",
      "dire_kills 287747\n",
      "radiant_gold 287747\n",
      "dire_gold 287747\n",
      "radiant_xp 287747\n",
      "dire_xp 287747\n",
      "radiant_tower_status 287747\n",
      "dire_tower_status 287747\n",
      "first_blood_time 287747\n",
      "radiant_hero0 287747\n",
      "dire_hero0 287747\n",
      "radiant_hero1 287747\n",
      "dire_hero1 287747\n",
      "radiant_hero2 287747\n",
      "dire_hero2 287747\n",
      "radiant_hero3 287747\n",
      "dire_hero3 287747\n",
      "radiant_hero4 287747\n",
      "dire_hero4 287747\n",
      "skill_level 287747\n"
     ]
    }
   ],
   "source": [
    "for key,value in match_detail_dict.copy().items():\n",
    "    print(key,len(value))\n",
    "    if len(value)==0:\n",
    "        popped[key]=match_detail_dict.pop(key)"
   ]
  },
  {
   "cell_type": "code",
   "execution_count": 63,
   "metadata": {
    "ExecuteTime": {
     "end_time": "2019-11-11T21:21:09.550452Z",
     "start_time": "2019-11-11T21:20:59.835006Z"
    }
   },
   "outputs": [],
   "source": [
    "dota2_train_df = pd.DataFrame.from_dict(match_detail_dict)"
   ]
  },
  {
   "cell_type": "code",
   "execution_count": 64,
   "metadata": {
    "ExecuteTime": {
     "end_time": "2019-11-11T21:21:23.077753Z",
     "start_time": "2019-11-11T21:21:22.566397Z"
    }
   },
   "outputs": [
    {
     "data": {
      "text/html": [
       "<div>\n",
       "<style scoped>\n",
       "    .dataframe tbody tr th:only-of-type {\n",
       "        vertical-align: middle;\n",
       "    }\n",
       "\n",
       "    .dataframe tbody tr th {\n",
       "        vertical-align: top;\n",
       "    }\n",
       "\n",
       "    .dataframe thead th {\n",
       "        text-align: right;\n",
       "    }\n",
       "</style>\n",
       "<table border=\"1\" class=\"dataframe\">\n",
       "  <thead>\n",
       "    <tr style=\"text-align: right;\">\n",
       "      <th></th>\n",
       "      <th>match_id</th>\n",
       "      <th>start_time</th>\n",
       "      <th>duration</th>\n",
       "      <th>game_mode</th>\n",
       "      <th>lobby_type</th>\n",
       "      <th>radiant_win</th>\n",
       "      <th>radiant_kills</th>\n",
       "      <th>dire_kills</th>\n",
       "      <th>radiant_gold</th>\n",
       "      <th>dire_gold</th>\n",
       "      <th>...</th>\n",
       "      <th>radiant_hero0</th>\n",
       "      <th>dire_hero0</th>\n",
       "      <th>radiant_hero1</th>\n",
       "      <th>dire_hero1</th>\n",
       "      <th>radiant_hero2</th>\n",
       "      <th>dire_hero2</th>\n",
       "      <th>radiant_hero3</th>\n",
       "      <th>dire_hero3</th>\n",
       "      <th>radiant_hero4</th>\n",
       "      <th>dire_hero4</th>\n",
       "    </tr>\n",
       "  </thead>\n",
       "  <tbody>\n",
       "    <tr>\n",
       "      <th>count</th>\n",
       "      <td>2.877470e+05</td>\n",
       "      <td>2.877470e+05</td>\n",
       "      <td>287747.000000</td>\n",
       "      <td>287747.000000</td>\n",
       "      <td>287747.000000</td>\n",
       "      <td>287747.000000</td>\n",
       "      <td>287747.000000</td>\n",
       "      <td>287747.000000</td>\n",
       "      <td>287747.000000</td>\n",
       "      <td>287747.000000</td>\n",
       "      <td>...</td>\n",
       "      <td>287747.000000</td>\n",
       "      <td>287747.000000</td>\n",
       "      <td>287747.000000</td>\n",
       "      <td>287747.000000</td>\n",
       "      <td>287747.000000</td>\n",
       "      <td>287747.000000</td>\n",
       "      <td>287747.000000</td>\n",
       "      <td>287747.000000</td>\n",
       "      <td>287747.000000</td>\n",
       "      <td>287747.000000</td>\n",
       "    </tr>\n",
       "    <tr>\n",
       "      <th>mean</th>\n",
       "      <td>4.757205e+09</td>\n",
       "      <td>1.558035e+09</td>\n",
       "      <td>1883.274376</td>\n",
       "      <td>20.427487</td>\n",
       "      <td>3.564892</td>\n",
       "      <td>0.547387</td>\n",
       "      <td>31.412185</td>\n",
       "      <td>30.583144</td>\n",
       "      <td>82673.295678</td>\n",
       "      <td>81639.462531</td>\n",
       "      <td>...</td>\n",
       "      <td>52.836492</td>\n",
       "      <td>52.891891</td>\n",
       "      <td>52.989744</td>\n",
       "      <td>53.108303</td>\n",
       "      <td>52.965915</td>\n",
       "      <td>53.092828</td>\n",
       "      <td>52.908607</td>\n",
       "      <td>53.007576</td>\n",
       "      <td>52.778799</td>\n",
       "      <td>52.953768</td>\n",
       "    </tr>\n",
       "    <tr>\n",
       "      <th>std</th>\n",
       "      <td>1.988639e+07</td>\n",
       "      <td>5.790148e+05</td>\n",
       "      <td>688.588706</td>\n",
       "      <td>5.608296</td>\n",
       "      <td>3.499404</td>\n",
       "      <td>0.497750</td>\n",
       "      <td>13.370800</td>\n",
       "      <td>14.402033</td>\n",
       "      <td>32662.411628</td>\n",
       "      <td>34952.459051</td>\n",
       "      <td>...</td>\n",
       "      <td>35.703343</td>\n",
       "      <td>35.686194</td>\n",
       "      <td>35.790254</td>\n",
       "      <td>35.749790</td>\n",
       "      <td>35.745712</td>\n",
       "      <td>35.752778</td>\n",
       "      <td>35.753868</td>\n",
       "      <td>35.744160</td>\n",
       "      <td>35.769053</td>\n",
       "      <td>35.691874</td>\n",
       "    </tr>\n",
       "    <tr>\n",
       "      <th>min</th>\n",
       "      <td>4.725403e+09</td>\n",
       "      <td>1.557130e+09</td>\n",
       "      <td>0.000000</td>\n",
       "      <td>2.000000</td>\n",
       "      <td>0.000000</td>\n",
       "      <td>0.000000</td>\n",
       "      <td>0.000000</td>\n",
       "      <td>0.000000</td>\n",
       "      <td>0.000000</td>\n",
       "      <td>0.000000</td>\n",
       "      <td>...</td>\n",
       "      <td>1.000000</td>\n",
       "      <td>1.000000</td>\n",
       "      <td>1.000000</td>\n",
       "      <td>1.000000</td>\n",
       "      <td>1.000000</td>\n",
       "      <td>1.000000</td>\n",
       "      <td>1.000000</td>\n",
       "      <td>1.000000</td>\n",
       "      <td>1.000000</td>\n",
       "      <td>1.000000</td>\n",
       "    </tr>\n",
       "    <tr>\n",
       "      <th>25%</th>\n",
       "      <td>4.733830e+09</td>\n",
       "      <td>1.557367e+09</td>\n",
       "      <td>1374.000000</td>\n",
       "      <td>22.000000</td>\n",
       "      <td>0.000000</td>\n",
       "      <td>0.000000</td>\n",
       "      <td>22.000000</td>\n",
       "      <td>20.000000</td>\n",
       "      <td>60838.725000</td>\n",
       "      <td>56816.375000</td>\n",
       "      <td>...</td>\n",
       "      <td>21.000000</td>\n",
       "      <td>21.000000</td>\n",
       "      <td>21.000000</td>\n",
       "      <td>21.000000</td>\n",
       "      <td>21.000000</td>\n",
       "      <td>21.000000</td>\n",
       "      <td>21.000000</td>\n",
       "      <td>21.000000</td>\n",
       "      <td>21.000000</td>\n",
       "      <td>21.000000</td>\n",
       "    </tr>\n",
       "    <tr>\n",
       "      <th>50%</th>\n",
       "      <td>4.749397e+09</td>\n",
       "      <td>1.557800e+09</td>\n",
       "      <td>1874.000000</td>\n",
       "      <td>22.000000</td>\n",
       "      <td>7.000000</td>\n",
       "      <td>1.000000</td>\n",
       "      <td>31.000000</td>\n",
       "      <td>31.000000</td>\n",
       "      <td>80357.333333</td>\n",
       "      <td>79823.666667</td>\n",
       "      <td>...</td>\n",
       "      <td>48.000000</td>\n",
       "      <td>47.000000</td>\n",
       "      <td>48.000000</td>\n",
       "      <td>48.000000</td>\n",
       "      <td>48.000000</td>\n",
       "      <td>48.000000</td>\n",
       "      <td>48.000000</td>\n",
       "      <td>48.000000</td>\n",
       "      <td>47.000000</td>\n",
       "      <td>48.000000</td>\n",
       "    </tr>\n",
       "    <tr>\n",
       "      <th>75%</th>\n",
       "      <td>4.775588e+09</td>\n",
       "      <td>1.558573e+09</td>\n",
       "      <td>2343.000000</td>\n",
       "      <td>23.000000</td>\n",
       "      <td>7.000000</td>\n",
       "      <td>1.000000</td>\n",
       "      <td>41.000000</td>\n",
       "      <td>41.000000</td>\n",
       "      <td>101837.516667</td>\n",
       "      <td>103318.908333</td>\n",
       "      <td>...</td>\n",
       "      <td>83.000000</td>\n",
       "      <td>83.000000</td>\n",
       "      <td>84.000000</td>\n",
       "      <td>84.000000</td>\n",
       "      <td>84.000000</td>\n",
       "      <td>84.000000</td>\n",
       "      <td>84.000000</td>\n",
       "      <td>84.000000</td>\n",
       "      <td>84.000000</td>\n",
       "      <td>84.000000</td>\n",
       "    </tr>\n",
       "    <tr>\n",
       "      <th>max</th>\n",
       "      <td>4.781085e+09</td>\n",
       "      <td>1.558752e+09</td>\n",
       "      <td>7123.000000</td>\n",
       "      <td>23.000000</td>\n",
       "      <td>7.000000</td>\n",
       "      <td>1.000000</td>\n",
       "      <td>115.000000</td>\n",
       "      <td>167.000000</td>\n",
       "      <td>444829.066667</td>\n",
       "      <td>415574.400000</td>\n",
       "      <td>...</td>\n",
       "      <td>129.000000</td>\n",
       "      <td>129.000000</td>\n",
       "      <td>129.000000</td>\n",
       "      <td>129.000000</td>\n",
       "      <td>129.000000</td>\n",
       "      <td>129.000000</td>\n",
       "      <td>129.000000</td>\n",
       "      <td>129.000000</td>\n",
       "      <td>129.000000</td>\n",
       "      <td>129.000000</td>\n",
       "    </tr>\n",
       "  </tbody>\n",
       "</table>\n",
       "<p>8 rows × 25 columns</p>\n",
       "</div>"
      ],
      "text/plain": [
       "           match_id    start_time       duration      game_mode  \\\n",
       "count  2.877470e+05  2.877470e+05  287747.000000  287747.000000   \n",
       "mean   4.757205e+09  1.558035e+09    1883.274376      20.427487   \n",
       "std    1.988639e+07  5.790148e+05     688.588706       5.608296   \n",
       "min    4.725403e+09  1.557130e+09       0.000000       2.000000   \n",
       "25%    4.733830e+09  1.557367e+09    1374.000000      22.000000   \n",
       "50%    4.749397e+09  1.557800e+09    1874.000000      22.000000   \n",
       "75%    4.775588e+09  1.558573e+09    2343.000000      23.000000   \n",
       "max    4.781085e+09  1.558752e+09    7123.000000      23.000000   \n",
       "\n",
       "          lobby_type    radiant_win  radiant_kills     dire_kills  \\\n",
       "count  287747.000000  287747.000000  287747.000000  287747.000000   \n",
       "mean        3.564892       0.547387      31.412185      30.583144   \n",
       "std         3.499404       0.497750      13.370800      14.402033   \n",
       "min         0.000000       0.000000       0.000000       0.000000   \n",
       "25%         0.000000       0.000000      22.000000      20.000000   \n",
       "50%         7.000000       1.000000      31.000000      31.000000   \n",
       "75%         7.000000       1.000000      41.000000      41.000000   \n",
       "max         7.000000       1.000000     115.000000     167.000000   \n",
       "\n",
       "        radiant_gold      dire_gold  ...  radiant_hero0     dire_hero0  \\\n",
       "count  287747.000000  287747.000000  ...  287747.000000  287747.000000   \n",
       "mean    82673.295678   81639.462531  ...      52.836492      52.891891   \n",
       "std     32662.411628   34952.459051  ...      35.703343      35.686194   \n",
       "min         0.000000       0.000000  ...       1.000000       1.000000   \n",
       "25%     60838.725000   56816.375000  ...      21.000000      21.000000   \n",
       "50%     80357.333333   79823.666667  ...      48.000000      47.000000   \n",
       "75%    101837.516667  103318.908333  ...      83.000000      83.000000   \n",
       "max    444829.066667  415574.400000  ...     129.000000     129.000000   \n",
       "\n",
       "       radiant_hero1     dire_hero1  radiant_hero2     dire_hero2  \\\n",
       "count  287747.000000  287747.000000  287747.000000  287747.000000   \n",
       "mean       52.989744      53.108303      52.965915      53.092828   \n",
       "std        35.790254      35.749790      35.745712      35.752778   \n",
       "min         1.000000       1.000000       1.000000       1.000000   \n",
       "25%        21.000000      21.000000      21.000000      21.000000   \n",
       "50%        48.000000      48.000000      48.000000      48.000000   \n",
       "75%        84.000000      84.000000      84.000000      84.000000   \n",
       "max       129.000000     129.000000     129.000000     129.000000   \n",
       "\n",
       "       radiant_hero3     dire_hero3  radiant_hero4     dire_hero4  \n",
       "count  287747.000000  287747.000000  287747.000000  287747.000000  \n",
       "mean       52.908607      53.007576      52.778799      52.953768  \n",
       "std        35.753868      35.744160      35.769053      35.691874  \n",
       "min         1.000000       1.000000       1.000000       1.000000  \n",
       "25%        21.000000      21.000000      21.000000      21.000000  \n",
       "50%        48.000000      48.000000      47.000000      48.000000  \n",
       "75%        84.000000      84.000000      84.000000      84.000000  \n",
       "max       129.000000     129.000000     129.000000     129.000000  \n",
       "\n",
       "[8 rows x 25 columns]"
      ]
     },
     "execution_count": 64,
     "metadata": {},
     "output_type": "execute_result"
    }
   ],
   "source": [
    "dota2_train_df.describe()"
   ]
  },
  {
   "cell_type": "code",
   "execution_count": 68,
   "metadata": {
    "ExecuteTime": {
     "end_time": "2019-11-11T21:25:54.647869Z",
     "start_time": "2019-11-11T21:23:39.808599Z"
    }
   },
   "outputs": [],
   "source": [
    "#save data to csv file so we have it on disk\n",
    "dota2_train_df.to_csv(os.path.join('Dota_data',\n",
    "                                        'mixed_skill','20191111API_'+\n",
    "                                        str(dota2_train_df['match_id'].min())+\n",
    "                                        '-'+\n",
    "                                        str(dota2_train_df['match_id'].max())+\n",
    "                                        '.csv'))"
   ]
  },
  {
   "cell_type": "code",
   "execution_count": 71,
   "metadata": {
    "ExecuteTime": {
     "end_time": "2019-11-11T21:28:51.928843Z",
     "start_time": "2019-11-11T21:28:51.367707Z"
    }
   },
   "outputs": [
    {
     "data": {
      "image/png": "[encoded data removed]",
      "text/plain": [
       "<Figure size 432x288 with 1 Axes>"
      ]
     },
     "metadata": {},
     "output_type": "display_data"
    }
   ],
   "source": [
    "sns.set_style('ticks')\n",
    "champ_sum = np.concatenate((dota2_train_df['radiant_hero0'],\n",
    "                            dota2_train_df['radiant_hero1'],\n",
    "                            dota2_train_df['radiant_hero2'],\n",
    "                            dota2_train_df['radiant_hero3'],\n",
    "                            dota2_train_df['radiant_hero4'],\n",
    "                            dota2_train_df['dire_hero0'],\n",
    "                            dota2_train_df['dire_hero1'],\n",
    "                            dota2_train_df['dire_hero2'],\n",
    "                            dota2_train_df['dire_hero3'],\n",
    "                            dota2_train_df['dire_hero4']),axis=None)\n",
    "\n",
    "unique, counts = np.unique(champ_sum, return_counts=True)\n",
    "\n",
    "plt.plot(np.log10(counts),'.')\n",
    "plt.xlabel('hero(arb)')\n",
    "plt.ylabel('log10(count)')\n",
    "plt.show()"
   ]
  },
  {
   "cell_type": "markdown",
   "metadata": {
    "heading_collapsed": true
   },
   "source": [
    "# Get many matches using GetMatchHistoryBySequence"
   ]
  },
  {
   "cell_type": "code",
   "execution_count": null,
   "metadata": {
    "ExecuteTime": {
     "end_time": "2019-05-07T04:23:48.579277Z",
     "start_time": "2019-05-07T04:23:48.568817Z"
    },
    "hidden": true
   },
   "outputs": [],
   "source": [
    "files=glob.glob(os.path.join('Dota_data','mixed_skill','*.csv'))\n",
    "files.sort(key=os.path.getmtime)\n",
    "print(files)"
   ]
  },
  {
   "cell_type": "code",
   "execution_count": null,
   "metadata": {
    "ExecuteTime": {
     "end_time": "2019-05-05T17:00:45.390206Z",
     "start_time": "2019-05-05T15:02:12.757923Z"
    },
    "hidden": true
   },
   "outputs": [],
   "source": [
    "#open all recent data files then use the oldest one to set the initial\n",
    "#    match_seq_num to use to get matches by GetMatchHistoryBySequenceNum\n",
    "#TODO: write option to start from a recent match\n",
    "files=glob.glob(os.path.join('Dota_data','mixed_skill,'*.csv'))\n",
    "files.sort(key=os.path.getmtime)\n",
    "start_match = pd.read_csv(files[-1], usecols=[1])['match_id'].iloc[-1]\n",
    "start_match_seq_num = api.call('IDOTA2Match_'+dota2_id+'.GetMatchDetails',\n",
    "                        match_id=start_match)['result']['match_seq_num']\n",
    "\n",
    "num_requested=1e7\n",
    "match_dict = api.call('IDOTA2Match_'+dota2_id+'.GetMatchHistoryBySequenceNum',\n",
    "                      start_at_match_seq_num=start_match_seq_num,\n",
    "                    matches_requested=100)\n",
    "match_list = match_dict['result']['matches']\n",
    "\n",
    "consec_err=0\n",
    "while num_requested>len(match_list):\n",
    "    time.sleep(1)\n",
    "    try:\n",
    "        match_dict=(api.call('IDOTA2Match_'+dota2_id+'.GetMatchHistoryBySequenceNum',\n",
    "                start_at_match_seq_num=match_list[-1]['match_seq_num'],\n",
    "                    matches_requested=100))\n",
    "        match_list.extend(match_dict['result']['matches'])\n",
    "        consec_err=0\n",
    "    except requests.exceptions.HTTPError as err:\n",
    "        print(err)\n",
    "        if consec_err>2:\n",
    "            print('triple error')\n",
    "            break\n",
    "        else:\n",
    "            print(len(match_list))\n",
    "            consec_err+=1\n",
    "            time.sleep(30)"
   ]
  },
  {
   "cell_type": "code",
   "execution_count": null,
   "metadata": {
    "ExecuteTime": {
     "end_time": "2019-05-07T04:20:29.829921Z",
     "start_time": "2019-05-07T04:20:04.924944Z"
    },
    "hidden": true
   },
   "outputs": [],
   "source": [
    "consec_err=0\n",
    "num_requested=2e5\n",
    "match_list=[match_list[-1]]\n",
    "while num_requested>len(match_list):\n",
    "    time.sleep(1)\n",
    "    try:\n",
    "        match_dict=(api.call('IDOTA2Match_'+dota2_id+'.GetMatchHistoryBySequenceNum',\n",
    "                start_at_match_seq_num=match_list[-1]['match_seq_num'],\n",
    "                    matches_requested=100))\n",
    "        match_list.extend(match_dict['result']['matches'])\n",
    "        consec_err=0\n",
    "    except requests.exceptions.HTTPError as err:\n",
    "        print(err)\n",
    "        if consec_err>2:\n",
    "            print('triple error')\n",
    "            break\n",
    "        else:\n",
    "            print(len(match_list))\n",
    "            consec_err+=1\n",
    "            time.sleep(30)\n",
    "match_list=match_list[1:]"
   ]
  },
  {
   "cell_type": "code",
   "execution_count": null,
   "metadata": {
    "ExecuteTime": {
     "end_time": "2019-05-07T04:18:33.981095Z",
     "start_time": "2019-05-07T04:18:33.974800Z"
    },
    "hidden": true
   },
   "outputs": [],
   "source": [
    "print(len(match_list))"
   ]
  },
  {
   "cell_type": "code",
   "execution_count": null,
   "metadata": {
    "ExecuteTime": {
     "end_time": "2019-05-07T04:19:40.857809Z",
     "start_time": "2019-05-07T04:19:30.784673Z"
    },
    "hidden": true
   },
   "outputs": [],
   "source": [
    "radiant_win_column = []; radiant_xp_column = []; dire_xp_column = []; radiant_gold_column = []\n",
    "dire_gold_column = []; radiant_hero_column = []; dire_hero_column = []; match_id_list = []\n",
    "match_seq_num_list = []\n",
    "\n",
    "for match in match_list:\n",
    "    \n",
    "    if (match['game_mode']!=1 and match['game_mode']!=2) or match['human_players']!=10:\n",
    "        continue\n",
    "    \n",
    "    match_id_list.append(match['match_id'])\n",
    "    match_seq_num_list.append(match['match_seq_num'])\n",
    "    radiant_win_column.append(match['radiant_win'])\n",
    "    \n",
    "    dire_xp = 0; radiant_xp = 0    \n",
    "    dire_gold = 0; radiant_gold = 0\n",
    "    radiant_hero_row = []; dire_hero_row = []\n",
    "    #get heroes, xp, and gold for features, target, target\n",
    "    for player in match['players']:\n",
    "        #First bit of 8-bit integer player_slot is 1 if the player was on dire\n",
    "        #so if player was on dire then player_slot > 128\n",
    "        if player['player_slot']/128<1:\n",
    "            radiant_hero_row.append(player['hero_id'])\n",
    "            radiant_xp+=player['xp_per_min']*match['duration']/60\n",
    "            for item_index in range(5):\n",
    "                if player['item_'+str(item_index)]!=0:\n",
    "                    radiant_gold+=int(item_df.loc[item_df['id']==player['item_'+str(item_index)]]['cost'])\n",
    "        else:\n",
    "            dire_hero_row.append(player['hero_id'])\n",
    "            dire_xp+=player['xp_per_min']*match['duration']/60\n",
    "            for item_index in range(5):\n",
    "                if player['item_'+str(item_index)]!=0:\n",
    "                    dire_gold+=int(item_df.loc[item_df['id']==player['item_'+str(item_index)]]['cost'])\n",
    "\n",
    "    dire_xp_column.append(dire_xp)\n",
    "    radiant_xp_column.append(radiant_xp)\n",
    "    radiant_gold_column.append(radiant_gold)\n",
    "    dire_gold_column.append(dire_gold)\n",
    "    radiant_hero_column.append(radiant_hero_row)\n",
    "    dire_hero_column.append(dire_hero_row)"
   ]
  },
  {
   "cell_type": "code",
   "execution_count": null,
   "metadata": {
    "ExecuteTime": {
     "end_time": "2019-05-07T04:19:40.865235Z",
     "start_time": "2019-05-07T04:19:40.860741Z"
    },
    "hidden": true
   },
   "outputs": [],
   "source": [
    "print(len(match_id_list))"
   ]
  },
  {
   "cell_type": "code",
   "execution_count": null,
   "metadata": {
    "ExecuteTime": {
     "end_time": "2019-05-12T21:02:07.969489Z",
     "start_time": "2019-05-12T21:01:57.054382Z"
    },
    "hidden": true
   },
   "outputs": [],
   "source": [
    "dota2_training_df = pd.DataFrame()\n",
    "\n",
    "#Add radiant_win column to DataFrame\n",
    "dota2_training_df['radiant_win'] = 1*np.array(radiant_win_column)\n",
    "\n",
    "#add xp and gold columns to DataFrame\n",
    "dota2_training_df['radiant_xp'] = np.array(radiant_xp_column)\n",
    "dota2_training_df['dire_xp'] = np.array(dire_xp_column)\n",
    "dota2_training_df['radiant_gold'] = np.array(radiant_gold_column)\n",
    "dota2_training_df['dire_gold'] = np.array(dire_gold_column)\n",
    "\n",
    "#add match_id and match_seq_num\n",
    "dota2_training_df['match_id'] = np.array(match_id_list)\n",
    "#dota2_training_df['match_seq_num'] = np.array(match_seq_num_list)\n",
    "\n",
    "\n",
    "#Add dire and radiant heroes to DataFrame under their own columns\n",
    "for i in range(len(np.array(radiant_hero_column)[0])):\n",
    "    print(i)\n",
    "    dota2_training_df['radiant_heroes'+str(i)] = np.array(radiant_hero_column)[:,i]\n",
    "    dota2_training_df['dire_heroes'+str(i)] = np.array(dire_hero_column)[:,i]"
   ]
  },
  {
   "cell_type": "code",
   "execution_count": null,
   "metadata": {
    "ExecuteTime": {
     "end_time": "2019-05-12T21:02:08.061477Z",
     "start_time": "2019-05-12T21:02:07.971980Z"
    },
    "hidden": true
   },
   "outputs": [],
   "source": [
    "#purge 0 values from hero_id\n",
    "dota2_training_df = dota2_training_df[dota2_training_df.radiant_heroes0 != 0]"
   ]
  },
  {
   "cell_type": "code",
   "execution_count": null,
   "metadata": {
    "ExecuteTime": {
     "end_time": "2019-05-12T21:03:08.472556Z",
     "start_time": "2019-05-12T21:02:08.064199Z"
    },
    "hidden": true
   },
   "outputs": [],
   "source": [
    "#save data to csv file so we have it on disk\n",
    "dota2_training_df.to_csv(os.path.join('Dota_data',\n",
    "                                        'mixed_skill',\n",
    "                                        str(dota2_training_df['match_id'].min())+\n",
    "                                        '-'+\n",
    "                                        str(dota2_training_df['match_id'].max())+\n",
    "                                        '.csv'))"
   ]
  }
 ],
 "metadata": {
  "kernelspec": {
   "display_name": "Python 3",
   "language": "python",
   "name": "python3"
  },
  "language_info": {
   "codemirror_mode": {
    "name": "ipython",
    "version": 3
   },
   "file_extension": ".py",
   "mimetype": "text/x-python",
   "name": "python",
   "nbconvert_exporter": "python",
   "pygments_lexer": "ipython3",
   "version": "3.7.3"
  },
  "notify_time": "30",
  "toc": {
   "base_numbering": 1,
   "nav_menu": {},
   "number_sections": true,
   "sideBar": true,
   "skip_h1_title": false,
   "title_cell": "Table of Contents",
   "title_sidebar": "Contents",
   "toc_cell": false,
   "toc_position": {},
   "toc_section_display": true,
   "toc_window_display": false
  }
 },
 "nbformat": 4,
 "nbformat_minor": 2
}
