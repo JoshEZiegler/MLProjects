{
 "cells": [
  {
   "cell_type": "code",
   "execution_count": null,
   "metadata": {},
   "outputs": [],
   "source": [
    "import seaborn as sns\n",
    "import pandas as pd\n",
    "import pylab as plt\n",
    "import numpy as np\n",
    "from steam import WebAPI\n",
    "from datetime import datetime\n",
    "import os\n",
    "import glob\n",
    "import json\n",
    "import tensorflow as tf\n",
    "import sys\n",
    "from IPython import display\n",
    "import requests\n",
    "import tensorflow.keras.backend as K\n",
    "from sklearn import decomposition\n",
    "\n",
    "#import logging\n",
    "#logging.getLogger(\"tensorflow\").setLevel(logging.ERROR)\n",
    "\n",
    "#from tensorflow.python.framework.ops import disable_eager_execution\n",
    "#disable_eager_execution()\n",
    "\n",
    "#dont keep api key in github!!!\n",
    "api_file = os.path.join('..','..','..','apikeys','steam_api_key.txt')\n",
    "with open(api_file, 'r') as fin:\n",
    "    api = WebAPI(key=fin.readline())\n",
    "\n",
    "print(tf.__version__)"
   ]
  },
  {
   "cell_type": "code",
   "execution_count": null,
   "metadata": {},
   "outputs": [],
   "source": [
    "sns.set_style('ticks')"
   ]
  },
  {
   "cell_type": "code",
   "execution_count": null,
   "metadata": {},
   "outputs": [],
   "source": [
    "#declare interface urls\n",
    "#dota2_beta should be used for testing in order to not aggressively make API requests\n",
    "dota2_id = '570'\n",
    "dota2_beta_id = '205790'\n",
    "\n",
    "hero_list = api.call('IEconDOTA2_'+dota2_id+'.GetHeroes')\n",
    "hero_vocab=[int(hero_id['id']) for hero_id in hero_list['result']['heroes']] \n",
    "print(len(hero_vocab))"
   ]
  },
  {
   "cell_type": "markdown",
   "metadata": {},
   "source": [
    "# Load embedding from tmp_log_dir or log_dir"
   ]
  },
  {
   "cell_type": "code",
   "execution_count": null,
   "metadata": {
    "code_folding": []
   },
   "outputs": [],
   "source": [
    "#if you know the log_dir of a specific embedding\n",
    "logdir = os.path.join('..','..','..',\n",
    "                      'tmp_log_dir',\n",
    "                      '20191029-164616',\n",
    "                      'embedding.npy')\n",
    "#logdir = os.path.join('log_dir',\n",
    "#                        '20191029-164616',\n",
    "#                        'embedding.npy')\n",
    "embedding = log_dir"
   ]
  },
  {
   "cell_type": "code",
   "execution_count": null,
   "metadata": {},
   "outputs": [],
   "source": [
    "#if you don't know the log_dir of embedding or\n",
    "#  you want to get multiple embeddings\n",
    "paths=glob.glob(os.path.join('..','..','..',\n",
    "                             'tmp_log_dir'))\n",
    "#files=glob.glob(os.path.join('log_dir'))\n",
    "paths.sort(key=os.path.getmtime)\n",
    "\n",
    "#load most recent embedding\n",
    "embedding = np.load(os.path.join(files[0],\n",
    "                                 'embedding.npy'))\n",
    "\n",
    "#load all embeddings in logdir\n",
    "embedding_list = []\n",
    "for path in paths:\n",
    "    embedding_list.append(\n",
    "                    np.load(\n",
    "                    os.path.join(\n",
    "                    path,'embedding.npy')))\n",
    "\n",
    "\n"
   ]
  },
  {
   "cell_type": "code",
   "execution_count": null,
   "metadata": {},
   "outputs": [],
   "source": [
    "pca = decomposition.PCA(n_components=2)\n",
    "pca_embedding = pca.fit_transform(embedding)"
   ]
  },
  {
   "cell_type": "code",
   "execution_count": null,
   "metadata": {},
   "outputs": [],
   "source": [
    "for vec,hero in zip(pca_embedding,hero_list['result']['heroes']):\n",
    "    plt.text(vec[0],vec[1],hero['name'][14:])\n",
    "    \n",
    "plot_range = max(embedding[:,0])\n",
    "plt.xlim(-plot_range*1.15,plot_range*1.3)\n",
    "plt.ylim(-plot_range*1.15,plot_range*1.3)\n",
    "plt.xticks([])\n",
    "plt.yticks([])\n",
    "plt.show()"
   ]
  },
  {
   "cell_type": "code",
   "execution_count": null,
   "metadata": {},
   "outputs": [],
   "source": [
    "fig, ax = plt.subplots(2,2,figsize=(30,30))\n",
    "\n",
    "plot_range = 1.3*max(embedding[:,0])\n",
    "\n",
    "for vec,hero in zip(embedding,hero_list['result']['heroes']):\n",
    "    if hero['name'][14:]=='techies':\n",
    "        font_dict = {'color': 'red',\n",
    "                     'size': 8}\n",
    "    else:\n",
    "        font_dict = {'color': 'black',\n",
    "                     'size': 8}\n",
    "\n",
    "    ax[0,0].text(vec[1],vec[0],hero['name'][14:],fontdict=font_dict)\n",
    "    ax[0,1].text(vec[2],vec[0],hero['name'][14:],fontdict=font_dict)\n",
    "    ax[1,1].text(vec[1],vec[2],hero['name'][14:],fontdict=font_dict)\n",
    "    ax[1,0].axis('off')\n",
    "# Do a little setup to make sure the plot displays nicely.\n",
    "for i in [0,1]:\n",
    "    for j in [0,1]:\n",
    "        ax[i,j].set_xlim([-plot_range,plot_range])\n",
    "        ax[i,j].set_ylim([-plot_range,plot_range])\n",
    "        ax[i,j].set_xticks([])\n",
    "        ax[i,j].set_yticks([])\n",
    "        \n",
    "plt.subplots_adjust(wspace=0, hspace=0)\n",
    "plt.show() "
   ]
  }
 ],
 "metadata": {
  "kernelspec": {
   "display_name": "Python 3",
   "language": "python",
   "name": "python3"
  },
  "language_info": {
   "codemirror_mode": {
    "name": "ipython",
    "version": 3
   },
   "file_extension": ".py",
   "mimetype": "text/x-python",
   "name": "python",
   "nbconvert_exporter": "python",
   "pygments_lexer": "ipython3",
   "version": "3.7.3"
  },
  "toc": {
   "base_numbering": 1,
   "nav_menu": {},
   "number_sections": true,
   "sideBar": true,
   "skip_h1_title": false,
   "title_cell": "Table of Contents",
   "title_sidebar": "Contents",
   "toc_cell": false,
   "toc_position": {},
   "toc_section_display": true,
   "toc_window_display": false
  }
 },
 "nbformat": 4,
 "nbformat_minor": 2
}
