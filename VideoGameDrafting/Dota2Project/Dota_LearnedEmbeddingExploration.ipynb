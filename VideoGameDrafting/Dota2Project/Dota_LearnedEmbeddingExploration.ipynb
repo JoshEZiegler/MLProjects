{
 "cells": [
  {
   "cell_type": "code",
   "execution_count": 2,
   "metadata": {
    "ExecuteTime": {
     "end_time": "2019-10-31T20:36:23.298091Z",
     "start_time": "2019-10-31T20:36:17.796848Z"
    }
   },
   "outputs": [
    {
     "name": "stdout",
     "output_type": "stream",
     "text": [
      "2.0.0\n"
     ]
    }
   ],
   "source": [
    "import seaborn as sns\n",
    "import pandas as pd\n",
    "import pylab as plt\n",
    "import numpy as np\n",
    "from steam import WebAPI\n",
    "import os\n",
    "import glob\n",
    "import tensorflow as tf\n",
    "import requests\n",
    "from sklearn import decomposition\n",
    "\n",
    "#import logging\n",
    "#logging.getLogger(\"tensorflow\").setLevel(logging.ERROR)\n",
    "\n",
    "#from tensorflow.python.framework.ops import disable_eager_execution\n",
    "#disable_eager_execution()\n",
    "\n",
    "#dont keep api key in github!!!\n",
    "api_file = os.path.join('..','..','..','apikeys','steam_api_key.txt')\n",
    "with open(api_file, 'r') as fin:\n",
    "    api = WebAPI(key=fin.readline())\n",
    "\n",
    "print(tf.__version__)"
   ]
  },
  {
   "cell_type": "code",
   "execution_count": null,
   "metadata": {},
   "outputs": [],
   "source": [
    "sns.set_style('ticks')"
   ]
  },
  {
   "cell_type": "code",
   "execution_count": null,
   "metadata": {},
   "outputs": [],
   "source": [
    "#declare interface urls\n",
    "#dota2_beta should be used for testing in order to not aggressively make API requests\n",
    "dota2_id = '570'\n",
    "dota2_beta_id = '205790'\n",
    "\n",
    "hero_list = api.call('IEconDOTA2_'+dota2_id+'.GetHeroes')\n",
    "hero_vocab=[int(hero_id['id']) for hero_id in hero_list['result']['heroes']] \n",
    "print(len(hero_vocab))"
   ]
  },
  {
   "cell_type": "markdown",
   "metadata": {},
   "source": [
    "# Load embedding from tmp_log_dir or log_dir"
   ]
  },
  {
   "cell_type": "code",
   "execution_count": null,
   "metadata": {
    "code_folding": []
   },
   "outputs": [],
   "source": [
    "#if you know the log_dir of a specific embedding\n",
    "logdir = os.path.join('..','..','..',\n",
    "                      'tmp_log_dir',\n",
    "                      '20191029-164616',\n",
    "                      'embedding.npy')\n",
    "#logdir = os.path.join('log_dir',\n",
    "#                        '20191029-164616',\n",
    "#                        'embedding.npy')\n",
    "embedding = log_dir"
   ]
  },
  {
   "cell_type": "code",
   "execution_count": 8,
   "metadata": {
    "ExecuteTime": {
     "end_time": "2019-10-31T20:38:01.312353Z",
     "start_time": "2019-10-31T20:38:01.297745Z"
    },
    "scrolled": true
   },
   "outputs": [
    {
     "name": "stdout",
     "output_type": "stream",
     "text": [
      "20191029-164616\n",
      "{'20191029-164616': array([[-3.56099606e-02,  5.82716614e-03,  2.97715701e-02],\n",
      "       [ 4.56626080e-02,  3.22495140e-02, -5.87306917e-04],\n",
      "       [ 4.36755680e-02, -1.44680142e-02,  1.33134611e-02],\n",
      "       [-1.25045665e-02, -2.21487768e-02, -7.06342608e-03],\n",
      "       [-1.48785114e-03, -4.37726155e-02,  8.93944502e-03],\n",
      "       [-2.04344746e-02,  3.24770696e-02,  1.57090761e-02],\n",
      "       [ 1.79680102e-02, -3.87679338e-02,  4.10391353e-02],\n",
      "       [-2.99699064e-02,  3.14247124e-02,  8.12405348e-03],\n",
      "       [-3.85280475e-02,  4.64451574e-02,  1.21403225e-02],\n",
      "       [ 4.84262444e-02, -3.51472721e-02,  1.44391768e-02],\n",
      "       [ 2.49458589e-02,  1.56010725e-02,  3.13552953e-02],\n",
      "       [-2.48796865e-03, -3.71026173e-02, -7.12900236e-03],\n",
      "       [-4.90677133e-02, -2.85258181e-02, -2.45053172e-02],\n",
      "       [ 1.04617588e-02, -2.06429716e-02, -1.53941885e-02],\n",
      "       [ 3.11994441e-02, -4.87801544e-02, -3.81054766e-02],\n",
      "       [ 3.01805884e-03,  3.84063236e-02, -1.86521523e-02],\n",
      "       [ 1.17581375e-02,  4.02083248e-03,  1.40038617e-02],\n",
      "       [ 2.72562988e-02,  3.43181528e-02, -1.84097886e-02],\n",
      "       [-1.04221478e-02,  4.07072566e-02, -4.81484197e-02],\n",
      "       [-1.74467191e-02,  2.24850215e-02,  1.11392513e-02],\n",
      "       [-4.58055735e-03, -4.84688543e-02,  4.02622335e-02],\n",
      "       [ 3.83214615e-02,  2.80601420e-02,  4.36641686e-02],\n",
      "       [-3.21587808e-02,  3.21828462e-02, -3.13238390e-02],\n",
      "       [ 2.10483558e-02,  1.06609240e-02,  3.30440514e-02],\n",
      "       [-1.51186213e-02, -1.27104744e-02,  8.26372951e-03],\n",
      "       [ 1.45717971e-02,  3.01738866e-02,  3.51981558e-02],\n",
      "       [ 2.88647898e-02, -4.43773754e-02,  3.10854428e-02],\n",
      "       [-2.13139411e-02,  3.39044221e-02, -4.20855880e-02],\n",
      "       [ 3.92379612e-03,  2.31096633e-02,  1.01594999e-03],\n",
      "       [ 3.94612662e-02, -1.11094825e-02, -1.77100301e-02],\n",
      "       [ 7.32446834e-03,  3.42607833e-02,  1.30185150e-02],\n",
      "       [-2.76549701e-02, -2.42519621e-02, -3.56994383e-02],\n",
      "       [-4.11646143e-02, -4.94224802e-02,  2.82721855e-02],\n",
      "       [-4.62400913e-02,  4.79995646e-02,  1.48231052e-02],\n",
      "       [ 3.80794071e-02, -2.35623959e-02,  1.65140145e-02],\n",
      "       [ 4.82578389e-02, -3.45692262e-02,  3.44924964e-02],\n",
      "       [-8.30404460e-05, -7.10048527e-03,  5.04411757e-04],\n",
      "       [ 4.63212244e-02, -4.75860126e-02, -2.83870101e-02],\n",
      "       [-4.56697010e-02,  2.60670297e-02,  3.83823849e-02],\n",
      "       [ 3.50434296e-02,  2.03586556e-02,  1.47904269e-02],\n",
      "       [ 2.50188261e-03,  1.65911429e-02, -3.97134945e-03],\n",
      "       [ 4.03746478e-02,  1.33715533e-02,  4.37363423e-02],\n",
      "       [-4.50685993e-02, -3.15453298e-02, -4.01733890e-02],\n",
      "       [ 9.52212885e-03, -1.20803341e-02, -3.75405438e-02],\n",
      "       [ 3.73624675e-02,  3.02656405e-02, -4.74747270e-03],\n",
      "       [-3.90264019e-02, -1.89780947e-02,  2.10900567e-02],\n",
      "       [-2.71170028e-02, -1.42260566e-02,  4.39940207e-02],\n",
      "       [ 4.44585085e-03,  3.72368209e-02, -2.01742183e-02],\n",
      "       [-1.29212625e-02, -4.46387902e-02, -3.02518364e-02],\n",
      "       [-3.48138809e-03, -3.12422160e-02,  4.80836630e-03],\n",
      "       [ 1.15245469e-02,  9.10633802e-03,  4.25813682e-02],\n",
      "       [-3.85433547e-02, -2.28527915e-02, -9.58997011e-03],\n",
      "       [-1.24179013e-02, -1.25706904e-02, -3.28918695e-02],\n",
      "       [ 2.69374959e-02,  1.03911757e-02,  2.94093154e-02],\n",
      "       [-9.11939889e-04, -4.22369689e-04,  9.57082957e-04],\n",
      "       [ 3.57025862e-03,  9.91649553e-03, -3.01507600e-02],\n",
      "       [ 1.93766467e-02, -3.39030027e-02,  2.18297131e-02],\n",
      "       [ 2.84123160e-02, -1.87943820e-02, -4.81410734e-02],\n",
      "       [-3.48307714e-02,  1.47461779e-02, -2.65302658e-02],\n",
      "       [ 4.57038917e-02,  4.17731702e-04,  3.08590643e-02],\n",
      "       [-3.18107978e-02,  4.04949114e-03,  2.57842056e-02],\n",
      "       [ 1.87106468e-02, -2.55517121e-02,  1.39440186e-02],\n",
      "       [-3.58296558e-03,  2.87433155e-02, -5.12417406e-03],\n",
      "       [ 2.78233364e-03,  4.30653207e-02, -1.06690302e-02],\n",
      "       [-7.62800127e-03, -3.30761448e-02,  5.48020750e-03],\n",
      "       [-3.49567309e-02, -5.74021414e-03,  4.46930267e-02],\n",
      "       [-4.74354997e-02,  1.85718872e-02, -6.15662336e-03],\n",
      "       [ 1.68438442e-02, -1.83853284e-02, -1.82044730e-02],\n",
      "       [-4.54472192e-02,  3.02555412e-03, -3.94086465e-02],\n",
      "       [-3.69269848e-02, -3.15997005e-02,  4.84561920e-03],\n",
      "       [ 3.36310007e-02,  2.45538689e-02,  1.02948323e-02],\n",
      "       [-2.29110960e-02, -2.16379520e-02,  1.95385478e-02],\n",
      "       [ 4.51311506e-02,  1.69108249e-02,  3.56404074e-02],\n",
      "       [-2.26682555e-02, -1.04011782e-02,  3.92818488e-02],\n",
      "       [ 4.94325794e-02, -5.74674457e-03, -4.40814160e-02],\n",
      "       [-4.64599133e-02,  3.05117480e-02,  4.64181416e-02],\n",
      "       [ 9.37319919e-03,  3.36152650e-02,  1.87428482e-02],\n",
      "       [ 1.56417824e-02, -4.95065823e-02, -4.36411388e-02],\n",
      "       [ 2.24257149e-02, -8.72112438e-03, -3.17267925e-02],\n",
      "       [-4.81992848e-02, -2.20208298e-02, -3.08144931e-02],\n",
      "       [ 4.19444926e-02,  1.25588216e-02,  3.81016023e-02],\n",
      "       [-4.74659689e-02, -2.75883563e-02,  1.67905129e-02],\n",
      "       [-1.12486854e-02, -2.89833080e-02,  2.54297256e-03],\n",
      "       [ 8.23271275e-03, -1.85338147e-02, -2.68687736e-02],\n",
      "       [ 2.10155584e-02,  2.63166428e-03,  2.13188194e-02],\n",
      "       [-1.45444162e-02,  4.98113297e-02, -4.32023779e-02],\n",
      "       [-4.27365303e-02,  2.06678174e-02,  2.17841528e-02],\n",
      "       [ 1.84534304e-02,  1.32610649e-03, -2.73719188e-02],\n",
      "       [ 4.63739969e-02, -1.07351057e-02,  4.98282574e-02],\n",
      "       [ 1.45080425e-02, -1.31516829e-02, -4.32985798e-02],\n",
      "       [ 2.78161280e-02,  2.36289538e-02, -7.37694651e-03],\n",
      "       [-3.60760838e-03, -2.15527304e-02,  1.44938268e-02],\n",
      "       [ 4.97458912e-02,  4.11949269e-02,  2.44017951e-02],\n",
      "       [-4.62489836e-02,  6.25473261e-03,  8.42615217e-03],\n",
      "       [-3.60082835e-04, -2.75525581e-02,  8.98337364e-03],\n",
      "       [ 1.12751611e-02, -3.98963466e-02,  1.58947594e-02],\n",
      "       [ 9.69438627e-03, -4.27745357e-02,  1.61762163e-03],\n",
      "       [ 8.20355490e-03, -1.33576766e-02, -3.11955102e-02],\n",
      "       [-7.55085796e-03,  9.14604589e-03, -4.54299450e-02],\n",
      "       [-1.68381445e-02, -1.31213441e-02, -3.46261151e-02],\n",
      "       [ 3.81179191e-02,  2.26436369e-02, -4.62055318e-02],\n",
      "       [ 3.93640287e-02,  3.21771018e-02, -2.94896364e-02],\n",
      "       [-6.28205389e-03,  3.06339152e-02, -2.68329736e-02],\n",
      "       [ 2.26287954e-02,  3.86433117e-02, -4.07412425e-02],\n",
      "       [-3.79301086e-02,  3.11714895e-02, -3.26258764e-02],\n",
      "       [-3.99974808e-02, -1.93121787e-02, -3.15120444e-02],\n",
      "       [ 3.23437192e-02,  3.90997268e-02, -4.88240495e-02],\n",
      "       [-2.71455292e-02,  2.97389068e-02,  3.91995646e-02],\n",
      "       [-4.69967723e-02,  2.55955197e-02,  6.16344064e-03],\n",
      "       [-2.39545591e-02,  3.17072310e-02, -1.20566487e-02],\n",
      "       [ 3.92115451e-02,  3.59518416e-02, -2.30786335e-02],\n",
      "       [ 1.83795206e-02, -2.39246488e-02, -1.62751600e-03],\n",
      "       [ 3.17138769e-02, -4.37045358e-02, -9.72603634e-03],\n",
      "       [ 2.15966627e-03, -3.08465958e-03,  1.91893838e-02],\n",
      "       [ 3.30051072e-02, -1.27113350e-02, -2.80033704e-02],\n",
      "       [ 4.42955233e-02, -1.38767734e-02, -2.97764894e-02],\n",
      "       [ 3.52792256e-02, -3.04361470e-02, -3.53221893e-02]], dtype=float32)}\n"
     ]
    }
   ],
   "source": [
    "#if you don't know the log_dir of embedding or\n",
    "#  you want to get multiple embeddings\n",
    "paths=glob.glob(os.path.join('..','..','..',\n",
    "                             'tmp_log_dir','*'))\n",
    "#files=glob.glob(os.path.join('log_dir'))\n",
    "paths.sort(key=os.path.getmtime)\n",
    "\n",
    "##load most recent embedding\n",
    "#embedding = np.load(os.path.join(paths[0],\n",
    "#                                 'embedding.npy'))\n",
    "\n",
    "#load all embeddings in logdir\n",
    "embedding_dict = {}\n",
    "for path in paths:\n",
    "    #15 characters are in the datetime stamp\n",
    "    #  of the log folders\n",
    "    embedding_dict[path[-15:]]=np.load(\n",
    "                            os.path.join(\n",
    "                            path,'embedding.npy'))"
   ]
  },
  {
   "cell_type": "code",
   "execution_count": null,
   "metadata": {},
   "outputs": [],
   "source": [
    "for key,value in embedding_dict:\n",
    "    "
   ]
  },
  {
   "cell_type": "code",
   "execution_count": null,
   "metadata": {},
   "outputs": [],
   "source": [
    "pca = decomposition.PCA(n_components=2)\n",
    "pca_embedding = pca.fit_transform(embedding)"
   ]
  },
  {
   "cell_type": "code",
   "execution_count": null,
   "metadata": {},
   "outputs": [],
   "source": [
    "for vec,hero in zip(pca_embedding,hero_list['result']['heroes']):\n",
    "    plt.text(vec[0],vec[1],hero['name'][14:])\n",
    "    \n",
    "plot_range = max(embedding[:,0])\n",
    "plt.xlim(-plot_range*1.15,plot_range*1.3)\n",
    "plt.ylim(-plot_range*1.15,plot_range*1.3)\n",
    "plt.xticks([])\n",
    "plt.yticks([])\n",
    "plt.show()"
   ]
  },
  {
   "cell_type": "code",
   "execution_count": null,
   "metadata": {},
   "outputs": [],
   "source": [
    "fig, ax = plt.subplots(2,2,figsize=(30,30))\n",
    "\n",
    "plot_range = 1.3*max(embedding[:,0])\n",
    "\n",
    "for vec,hero in zip(embedding,hero_list['result']['heroes']):\n",
    "    if hero['name'][14:]=='techies':\n",
    "        font_dict = {'color': 'red',\n",
    "                     'size': 8}\n",
    "    else:\n",
    "        font_dict = {'color': 'black',\n",
    "                     'size': 8}\n",
    "\n",
    "    ax[0,0].text(vec[1],vec[0],hero['name'][14:],fontdict=font_dict)\n",
    "    ax[0,1].text(vec[2],vec[0],hero['name'][14:],fontdict=font_dict)\n",
    "    ax[1,1].text(vec[1],vec[2],hero['name'][14:],fontdict=font_dict)\n",
    "    ax[1,0].axis('off')\n",
    "# Do a little setup to make sure the plot displays nicely.\n",
    "for i in [0,1]:\n",
    "    for j in [0,1]:\n",
    "        ax[i,j].set_xlim([-plot_range,plot_range])\n",
    "        ax[i,j].set_ylim([-plot_range,plot_range])\n",
    "        ax[i,j].set_xticks([])\n",
    "        ax[i,j].set_yticks([])\n",
    "        \n",
    "plt.subplots_adjust(wspace=0, hspace=0)\n",
    "plt.show() "
   ]
  }
 ],
 "metadata": {
  "kernelspec": {
   "display_name": "Python 3",
   "language": "python",
   "name": "python3"
  },
  "language_info": {
   "codemirror_mode": {
    "name": "ipython",
    "version": 3
   },
   "file_extension": ".py",
   "mimetype": "text/x-python",
   "name": "python",
   "nbconvert_exporter": "python",
   "pygments_lexer": "ipython3",
   "version": "3.7.3"
  },
  "toc": {
   "base_numbering": 1,
   "nav_menu": {},
   "number_sections": true,
   "sideBar": true,
   "skip_h1_title": false,
   "title_cell": "Table of Contents",
   "title_sidebar": "Contents",
   "toc_cell": false,
   "toc_position": {},
   "toc_section_display": true,
   "toc_window_display": false
  }
 },
 "nbformat": 4,
 "nbformat_minor": 2
}
