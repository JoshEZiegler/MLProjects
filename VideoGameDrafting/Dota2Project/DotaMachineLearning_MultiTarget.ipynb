{
 "cells": [
  {
   "cell_type": "code",
   "execution_count": 1,
   "metadata": {
    "ExecuteTime": {
     "end_time": "2019-07-20T18:04:25.023729Z",
     "start_time": "2019-07-20T18:04:20.340820Z"
    },
    "scrolled": false
   },
   "outputs": [],
   "source": [
    "import seaborn as sns\n",
    "import pandas as pd\n",
    "import pylab as plt\n",
    "import numpy as np\n",
    "from steam import WebAPI\n",
    "import time\n",
    "import os\n",
    "import glob\n",
    "import json\n",
    "import tensorflow as tf\n",
    "import sys\n",
    "from IPython import display\n",
    "import requests\n",
    "#dont keep api key in github!!!\n",
    "api_file = os.path.join('..','..','..','apikeys','steam_api_key.txt')\n",
    "with open(api_file, 'r') as fin:\n",
    "    api = WebAPI(key=fin.readline())\n",
    "    \n",
    "tf.logging.set_verbosity(tf.logging.ERROR)"
   ]
  },
  {
   "cell_type": "code",
   "execution_count": 2,
   "metadata": {
    "ExecuteTime": {
     "end_time": "2019-07-20T18:04:25.221287Z",
     "start_time": "2019-07-20T18:04:25.026676Z"
    }
   },
   "outputs": [],
   "source": [
    "#declare interface urls\n",
    "#dota2_beta should be used for testing in order to not aggressively make API requests\n",
    "dota2_id = '570'\n",
    "dota2_beta_id = '205790'\n",
    "\n",
    "hero_list = api.call('IEconDOTA2_'+dota2_id+'.GetHeroes',itemizedonly = True)\n",
    "hero_vocab=[int(hero_id['id']) for hero_id in hero_list['result']['heroes']] "
   ]
  },
  {
   "cell_type": "markdown",
   "metadata": {},
   "source": [
    "## Input pipeline for tfrecord data"
   ]
  },
  {
   "cell_type": "code",
   "execution_count": 3,
   "metadata": {
    "ExecuteTime": {
     "end_time": "2019-07-20T18:04:25.233537Z",
     "start_time": "2019-07-20T18:04:25.224113Z"
    }
   },
   "outputs": [],
   "source": [
    "def _parse_function(record):\n",
    "    \"\"\"Extracts features and labels.\n",
    "  \n",
    "    Args:\n",
    "        record: File path to a TFRecord file    \n",
    "      Returns:\n",
    "    A `tuple` `(labels, features)`:\n",
    "      features: A dict of tensors representing the features\n",
    "      labels: A dict of tensors with the corresponding labels.\n",
    "    \"\"\"\n",
    "    features = {\n",
    "        \"radiant_heroes\": tf.FixedLenFeature([], dtype=tf.string), #array of five 8 bit ints for heroes\n",
    "        \"dire_heroes\": tf.FixedLenFeature([], dtype=tf.string), #array of five 8-bit ints for heroes\n",
    "        \"radiant_win\" :tf.FixedLenFeature([], dtype=tf.int64),\n",
    "        \"gold_diff\": tf.FixedLenFeature([], dtype=tf.float32)\n",
    "                }\n",
    "  \n",
    "    parsed_features = tf.parse_single_example(record, features)\n",
    "  \n",
    "    radiant_heroes = tf.decode_raw(parsed_features['radiant_heroes'], tf.int64)\n",
    "    dire_heroes = tf.decode_raw(parsed_features['dire_heroes'], tf.int64)\n",
    "    radiant_win = parsed_features['radiant_win']\n",
    "    gold_diff = parsed_features['gold_diff']\n",
    "\n",
    "    return  {'radiant_heroes':radiant_heroes, 'dire_heroes':dire_heroes},\\\n",
    "            {'radiant_win':radiant_win, 'gold_diff':gold_diff}"
   ]
  },
  {
   "cell_type": "code",
   "execution_count": 4,
   "metadata": {
    "ExecuteTime": {
     "end_time": "2019-07-20T18:04:25.242837Z",
     "start_time": "2019-07-20T18:04:25.236276Z"
    }
   },
   "outputs": [],
   "source": [
    "# Create an input_fn that parses the tf.Examples from the given files,\n",
    "# and split them into features and targets.\n",
    "def _input_fn(input_filenames, num_epochs=None, shuffle=True,\n",
    "              batch_size=50,compression_type=\"\"):\n",
    "   \n",
    "    #create a dataset and map features and labels.\n",
    "    ds = tf.data.TFRecordDataset(input_filenames, compression_type=compression_type)\n",
    "    ds = ds.map(_parse_function)\n",
    "\n",
    "    if shuffle:\n",
    "        ds = ds.shuffle(10000)\n",
    "\n",
    "    # Our feature data is variable-length, so we pad and batch\n",
    "    # each field of the dataset structure to whatever size is necessary.\n",
    "    ds = ds.batch(batch_size)\n",
    "    ds = ds.repeat(num_epochs)\n",
    "    \n",
    "    # Return the next batch of data.\n",
    "    features, labels = ds.make_one_shot_iterator().get_next()\n",
    "    return features, labels"
   ]
  },
  {
   "cell_type": "code",
   "execution_count": 5,
   "metadata": {
    "ExecuteTime": {
     "end_time": "2019-07-20T18:04:25.321986Z",
     "start_time": "2019-07-20T18:04:25.245327Z"
    }
   },
   "outputs": [
    {
     "data": {
      "text/plain": [
       "<DatasetV1Adapter shapes: ({radiant_heroes: (?,), dire_heroes: (?,)}, {radiant_win: (), gold_diff: ()}), types: ({radiant_heroes: tf.int64, dire_heroes: tf.int64}, {radiant_win: tf.int64, gold_diff: tf.float32})>"
      ]
     },
     "execution_count": 5,
     "metadata": {},
     "output_type": "execute_result"
    }
   ],
   "source": [
    "# Create the Dataset object.\n",
    "ds = tf.data.TFRecordDataset(os.path.join('Dota_data','mixed_skill',\n",
    "                                          'dota2_training_data',\n",
    "                                          'dual_gold_win_dota2_training_data.tfrecords'),\n",
    "                            compression_type=\"GZIP\")\n",
    "# Map features and labels with the parse function.\n",
    "ds = ds.map(_parse_function)\n",
    "ds = ds.shuffle(10000)\n",
    "ds"
   ]
  },
  {
   "cell_type": "code",
   "execution_count": 43,
   "metadata": {
    "ExecuteTime": {
     "end_time": "2019-07-20T23:44:37.509690Z",
     "start_time": "2019-07-20T23:44:36.327381Z"
    },
    "scrolled": false
   },
   "outputs": [
    {
     "data": {
      "text/plain": [
       "({'radiant_heroes': array([ 74,  10,  21, 129,  14]),\n",
       "  'dire_heroes': array([70,  4, 50, 17,  9])},\n",
       " {'radiant_win': 0, 'gold_diff': -1.2938595})"
      ]
     },
     "execution_count": 43,
     "metadata": {},
     "output_type": "execute_result"
    }
   ],
   "source": [
    "ds = ds.shuffle(10000)\n",
    "n = ds.make_one_shot_iterator().get_next()\n",
    "sess = tf.Session()\n",
    "sess.run(n)"
   ]
  },
  {
   "cell_type": "markdown",
   "metadata": {},
   "source": [
    "# Define and train dual head linear (or dnn) model"
   ]
  },
  {
   "cell_type": "markdown",
   "metadata": {},
   "source": [
    "### Define feature column constructor functions"
   ]
  },
  {
   "cell_type": "code",
   "execution_count": 7,
   "metadata": {
    "ExecuteTime": {
     "end_time": "2019-07-20T18:04:26.566307Z",
     "start_time": "2019-07-20T18:04:26.560062Z"
    },
    "code_folding": [
     0,
     2
    ]
   },
   "outputs": [],
   "source": [
    "def construct_hero_categorical_columns(keys,vocab):\n",
    "    \"\"\"Construct categorical features for all features\n",
    "        Args: \n",
    "            input_features: names of input feature columns to use\n",
    "        returns:\n",
    "            a set of categorical columns\n",
    "    \"\"\"\n",
    "    return set([tf.feature_column.categorical_column_with_vocabulary_list(key,\n",
    "                                                                     vocabulary_list = vocab,\n",
    "                                                                     num_oov_buckets =0)\n",
    "                                    for key in keys])                                                               "
   ]
  },
  {
   "cell_type": "code",
   "execution_count": 8,
   "metadata": {
    "ExecuteTime": {
     "end_time": "2019-07-20T18:04:26.574606Z",
     "start_time": "2019-07-20T18:04:26.569853Z"
    },
    "code_folding": [
     0
    ]
   },
   "outputs": [],
   "source": [
    "def construct_indicator_columns(feature_columns):\n",
    "    \"\"\"Construct indicator columns for all features\n",
    "            from categorical columns\n",
    "        Args: \n",
    "            feature_columns: Set of 'tf.feature_column.categorical_column'\n",
    "                to convert to indicator columns\n",
    "        returns:\n",
    "            a list of indicator columns\n",
    "    \"\"\"\n",
    "    indicator_columns = []\n",
    "    for column in list(feature_columns):\n",
    "        indicator_columns.append(tf.feature_column.indicator_column(column))\n",
    "        \n",
    "    return indicator_columns      "
   ]
  },
  {
   "cell_type": "code",
   "execution_count": 9,
   "metadata": {
    "ExecuteTime": {
     "end_time": "2019-07-20T18:04:26.581948Z",
     "start_time": "2019-07-20T18:04:26.576850Z"
    },
    "code_folding": [
     0
    ]
   },
   "outputs": [],
   "source": [
    "def construct_embedding_columns(feature_columns, dimension):\n",
    "    \"\"\"Construct embedding columns for all features\n",
    "            from categorical columns\n",
    "        Args:\n",
    "            feature_columns: `Set` of 'tf.feature_column.categorical_column'\n",
    "                to convert to embedding columns\n",
    "            dimension: `int` that shows the \n",
    "        returns:\n",
    "            a list of embedding columns\n",
    "    \"\"\"\n",
    "            \n",
    "    embedding_columns = []\n",
    "    for column in list(feature_columns):\n",
    "        embedding_columns.append(tf.feature_column.embedding_column(column,dimension=dimension))\n",
    "        \n",
    "    return embedding_columns"
   ]
  },
  {
   "cell_type": "markdown",
   "metadata": {},
   "source": [
    "## Define model function"
   ]
  },
  {
   "cell_type": "markdown",
   "metadata": {},
   "source": [
    "### Define model function for soft parameter sharing"
   ]
  },
  {
   "cell_type": "code",
   "execution_count": 10,
   "metadata": {
    "ExecuteTime": {
     "end_time": "2019-07-20T18:04:28.294371Z",
     "start_time": "2019-07-20T18:04:28.271485Z"
    },
    "code_folding": [
     0
    ]
   },
   "outputs": [],
   "source": [
    "# In `dual_head_model`, specify logits as a dict keyed by head name:\n",
    "def dual_head_model(features, labels, mode, params):\n",
    "    \"\"\"Estimator for a dual binary classifier and regressor. \n",
    "    The loss is a linear combination of the softmax cross entropy\n",
    "    of the classifier and the huber loss of the regressor.\n",
    "    \n",
    "    Args:\n",
    "        features: `dict` batch_features from an input_fn.\n",
    "        labels: `dict` of batch_labels for win from an input_fn.\n",
    "        mode: `str` specifying tf.Estimator mode (e.g. Train, Eval, Predict).\n",
    "        params: `dict` of params with elements: feature_columns, hidden_units_gold,\n",
    "                    hidden_units_win, win_loss_weight.\n",
    "            feature_columns: A `set` specifying the input feature columns to use.\n",
    "            optimizer: A `tf.train.Optimizer` to use\n",
    "            hidden_units_gold: A `list` of `int`s for layer sizes for gold dnn. \n",
    "                    An empty list makes a linear model.\n",
    "            hidden_units_win: A `list` of `int` for the win dnn.\n",
    "            win_loss_weight: `float` Weight from [0,1] for the win_loss \n",
    "                    relative to the gold_loss (weighted as 1-win_loss_weight).\n",
    "\n",
    "    returns: \n",
    "        A tf.estimator object\n",
    "    \"\"\"\n",
    "\n",
    "    #initialize net_gold and net_win as the input_layer\n",
    "    net_gold = tf.feature_column.input_layer(features, params['feature_columns'])\n",
    "    net_win = tf.feature_column.input_layer(features, params['feature_columns'])\n",
    "\n",
    "    # Build the hidden layers, sized according to the 'hidden_units' param.\n",
    "    # if hidden units is empty then no dense layers (and it is just linear regression)\n",
    "    layer_list_gold =[]\n",
    "    layer_list_win=[]\n",
    "    for units in params['hidden_units']:\n",
    "        layer_list.append(tf.layers.Dense(units=units, activation=tf.nn.relu))\n",
    "        net_gold = layer_list_gold[-1](net_gold)\n",
    "        layer_list_win.append(tf.layers.Dense(units=units, activation=tf.nn.relu))\n",
    "        net_win = layer_list_win[-1](net_win)  \n",
    "     # Compute logits gold (1 because it is just the predicted diff).\n",
    "    logits_gold = tf.layers.dense(net_gold, 1, activation=None,\n",
    "                                  trainable=True, name='output_gold')\n",
    "    # Compute logits win (win or lose).\n",
    "    logits_win = tf.layers.dense(net_win, 2, activation=None, \n",
    "                                 trainable=True, name='output_win')\n",
    "\n",
    "    #collect logits into a single dict\n",
    "    logits = {'gold_head':logits_gold, 'win_head':logits_win}\n",
    "    \n",
    "    # Compute predictions.\n",
    "    predicted_win = tf.argmax(logits['win_head'], 1)\n",
    "    if mode == tf.estimator.ModeKeys.PREDICT:\n",
    "        predictions = {\n",
    "            'classes': predicted_things[:, tf.newaxis],\n",
    "            'probabilities': tf.nn.softmax(logits['win_head']),\n",
    "            'logits_win': logits['win_head'],\n",
    "            'gold': logits['gold_head']\n",
    "            }\n",
    "        return tf.estimator.EstimatorSpec(mode, predictions=predictions)\n",
    "    \n",
    "    # Compute loss.\n",
    "    labels['radiant_win'] = tf.one_hot(labels['radiant_win'],2)\n",
    "    win_loss = tf.losses.softmax_cross_entropy(onehot_labels=labels['radiant_win'],\n",
    "                                               logits=logits['win_head'])\n",
    "    gold_loss = tf.losses.huber_loss(labels=labels['gold_diff'],\n",
    "                                     predictions=tf.reshape(logits['gold_head'],[-1]))\n",
    "    \n",
    "    #Scale loss_win to weight it more heavily or equal to loss_gold\n",
    "    #loss_gold starts at 1 because of the z_score normalization we did\n",
    "    loss_weight=params['win_loss_weight']\n",
    "    loss = tf.losses.compute_weighted_loss([win_loss,gold_loss],\n",
    "                                                 weights=[loss_weight,1-loss_weight])\n",
    "    \n",
    "    # Compute evaluation metrics.\n",
    "    accuracy = tf.metrics.accuracy(tf.gather(labels['radiant_win'],1,axis=1),\n",
    "                                   predicted_win,\n",
    "                                   name='acc_op')\n",
    "    auc = tf.metrics.auc(tf.gather(labels['radiant_win'],1,axis=1),\n",
    "                        predicted_win)\n",
    "    baseline_accuracy = tf.metrics.mean(values=labels['radiant_win'])\n",
    "    metrics = {'accuracy': accuracy,\n",
    "               'auc': auc,\n",
    "               'baseline_accuracy': baseline_accuracy}\n",
    "\n",
    "    tf.summary.scalar('accuracy', accuracy[1])\n",
    "    tf.summary.scalar('auc', auc[1])\n",
    "    tf.summary.scalar('loss_win', win_loss)\n",
    "    tf.summary.scalar('loss_gold', gold_loss)\n",
    "    tf.summary.scalar('loss', loss)\n",
    "\n",
    "    if mode == tf.estimator.ModeKeys.EVAL:\n",
    "        return tf.estimator.EstimatorSpec(\n",
    "            mode, loss=loss, eval_metric_ops=metrics)\n",
    "\n",
    "    # Create training op.\n",
    "    assert mode == tf.estimator.ModeKeys.TRAIN\n",
    "\n",
    "    optimizer = params['optimizer']\n",
    "    train_op = optimizer.minimize(loss, global_step=tf.train.get_global_step())\n",
    "    return tf.estimator.EstimatorSpec(mode, loss=loss, train_op=train_op)"
   ]
  },
  {
   "cell_type": "markdown",
   "metadata": {},
   "source": [
    "### Define model function for hard parameter sharing"
   ]
  },
  {
   "cell_type": "code",
   "execution_count": 50,
   "metadata": {
    "ExecuteTime": {
     "end_time": "2019-07-20T23:58:38.908823Z",
     "start_time": "2019-07-20T23:58:38.885829Z"
    },
    "code_folding": []
   },
   "outputs": [],
   "source": [
    "# In `dual_head_model`, specify logits as a dict keyed by head name:\n",
    "def dual_head_model_hardsharing(features, labels, mode, params):\n",
    "    \"\"\"Estimator for a dual binary classifier and regressor. \n",
    "    The loss is a linear combination of the softmax cross entropy\n",
    "    of the classifier and the huber loss of the regressor.\n",
    "    \n",
    "    Args:\n",
    "        features: `dict` batch_features from an input_fn.\n",
    "        labels: `dict` of batch_labels for win from an input_fn.\n",
    "        mode: `str` specifying tf.Estimator mode (e.g. Train, Eval, Predict).\n",
    "        params: `dict` of params with elements: feature_columns, hidden_units_gold,\n",
    "                    hidden_units_win, win_loss_weight.\n",
    "            feature_columns: A `set` specifying the input feature columns to use.\n",
    "            optimizer: A `tf.train.Optimizer` to use\n",
    "            hidden_units: A `list` of `int`s for layer sizes for dnn. \n",
    "                    An empty list makes a linear model.\n",
    "            win_loss_weight: `float` Weight from [0,1] for the win_loss \n",
    "                    relative to the gold_loss (weighted as 1-win_loss_weight).\n",
    "    returns: \n",
    "        A tf.estimator object\n",
    "    \"\"\"\n",
    "\n",
    "    #initialize net_gold and net_win as the input_layer\n",
    "    net = tf.feature_column.input_layer(features, params['feature_columns'])\n",
    "\n",
    "    # Build the hidden layers, sized according to the 'hidden_units' param.\n",
    "    # if hidden units is empty then no dense layers (and it is just linear regression)\n",
    "    layer_list =[]\n",
    "    for units in params['hidden_units']:\n",
    "        layer_list.append(tf.layers.Dense(units=units, activation=tf.nn.relu))\n",
    "        net = layer_list[-1](net)\n",
    "     # Compute logits gold (1 because it is just the predicted diff).\n",
    "    logits_gold = tf.layers.dense(net, 1, activation=None,\n",
    "                                  trainable=True, name='output_gold')\n",
    "    # Compute logits win (win or lose).\n",
    "    logits_win = tf.layers.dense(net, 2, activation=None, \n",
    "                                 trainable=True, name='output_win')\n",
    "\n",
    "    #collect logits into a single dict\n",
    "    logits = {'gold_head':logits_gold, 'win_head':logits_win}\n",
    "    \n",
    "    # Compute predictions.\n",
    "    predicted_win = tf.argmax(logits['win_head'], 1)\n",
    "    if mode == tf.estimator.ModeKeys.PREDICT:\n",
    "        predictions = {\n",
    "            'classes': predicted_things[:, tf.newaxis],\n",
    "            'probabilities': tf.nn.softmax(logits['win_head']),\n",
    "            'logits_win': logits['win_head'],\n",
    "            'gold': logits['gold_head']\n",
    "            }\n",
    "        return tf.estimator.EstimatorSpec(mode, predictions=predictions)\n",
    "    \n",
    "    # Compute loss.\n",
    "    labels['radiant_win'] = tf.one_hot(labels['radiant_win'],2)\n",
    "    win_loss = tf.losses.softmax_cross_entropy(onehot_labels=labels['radiant_win'],\n",
    "                                               logits=logits['win_head'])\n",
    "    gold_loss = tf.losses.huber_loss(labels=labels['gold_diff'],\n",
    "                                     predictions=tf.reshape(logits['gold_head'],[-1]))\n",
    "    \n",
    "    #Scale loss_win to weight it more heavily or equal to loss_gold\n",
    "    #loss_gold starts at 1 because of the z_score normalization we did\n",
    "    loss_weight=params['win_loss_weight']\n",
    "    loss = tf.losses.compute_weighted_loss([win_loss,gold_loss],\n",
    "                                                 weights=[loss_weight,1-loss_weight])\n",
    "    \n",
    "    # Compute evaluation metrics.\n",
    "    accuracy = tf.metrics.accuracy(tf.gather(labels['radiant_win'],1,axis=1),\n",
    "                                   predicted_win,\n",
    "                                   name='acc_op')\n",
    "    auc = tf.metrics.auc(tf.gather(labels['radiant_win'],1,axis=1),\n",
    "                        predicted_win)\n",
    "    baseline_accuracy = tf.metrics.mean(values=labels['radiant_win'])\n",
    "    metrics = {'accuracy': accuracy,\n",
    "               'auc': auc,\n",
    "               'baseline_accuracy': baseline_accuracy}\n",
    "\n",
    "    tf.summary.scalar('accuracy', accuracy[1])\n",
    "    tf.summary.scalar('auc', auc[1])\n",
    "    tf.summary.scalar('loss_win', win_loss)\n",
    "    tf.summary.scalar('loss_gold', gold_loss)\n",
    "    tf.summary.scalar('loss', loss)\n",
    "\n",
    "    if mode == tf.estimator.ModeKeys.EVAL:\n",
    "        return tf.estimator.EstimatorSpec(\n",
    "            mode, loss=loss, eval_metric_ops=metrics)\n",
    "\n",
    "    # Create training op.\n",
    "    assert mode == tf.estimator.ModeKeys.TRAIN\n",
    "\n",
    "    optimizer = params['optimizer']\n",
    "    train_op = optimizer.minimize(loss, global_step=tf.train.get_global_step())\n",
    "    return tf.estimator.EstimatorSpec(mode, loss=loss, train_op=train_op)"
   ]
  },
  {
   "cell_type": "markdown",
   "metadata": {
    "ExecuteTime": {
     "end_time": "2019-06-18T05:44:30.730628Z",
     "start_time": "2019-06-18T05:44:30.727800Z"
    }
   },
   "source": [
    "### train function"
   ]
  },
  {
   "cell_type": "code",
   "execution_count": 35,
   "metadata": {
    "ExecuteTime": {
     "end_time": "2019-07-20T23:27:31.589559Z",
     "start_time": "2019-07-20T23:27:31.577167Z"
    },
    "code_folding": []
   },
   "outputs": [],
   "source": [
    "def train_dual_classifier_regressor(\n",
    "    steps,\n",
    "    batch_size,\n",
    "    params,\n",
    "    training_file,\n",
    "    validation_file,\n",
    "    compression_type=\"\"):\n",
    "    \"\"\"Trains a linear regression model.\n",
    "  \n",
    "    In addition to training, this function also prints training progress information,\n",
    "    as well as a plot of the training and validation loss over time.\n",
    "      \n",
    "    Args:\n",
    "        target: Target to use for the model (determines whether float and classifier\n",
    "          vs regressor)\n",
    "        learning_rate: A `float`, the learning rate.\n",
    "        steps: A non-zero `int`, the total number of training steps. A training step\n",
    "          consists of a forward and backward pass using a single batch.\n",
    "        batch_size: A non-zero `int` specifying the size of each training batch\n",
    "        params: A dict containing kwargs\n",
    "            optimizer: A `tf.train.Optimizer` to use\n",
    "            hidden_units: A `list` of `int`s for layer sizes for dnn. \n",
    "                    An empty list makes a linear model.\n",
    "        training_file: A `string` path to the tfrecord training file\n",
    "        validation_file: A `string` path to the tfrecord validation file\n",
    "        compression_type: A `string` specifying the type of compression of the\n",
    "                    TFRecords\n",
    "\n",
    "        \n",
    "      \n",
    "    Returns:\n",
    "        A `LinearEstimator` object trained on the training data.\n",
    "    \"\"\"\n",
    "\n",
    "    periods = 20\n",
    "    steps_per_period = steps / periods\n",
    "    \n",
    "    # Create a linear regressor object.\n",
    "    dual_model = tf.estimator.Estimator(\n",
    "        model_fn=dual_head_model_hardsharing,\n",
    "        params= params\n",
    "        )\n",
    "      \n",
    "  \n",
    "    training_input_fn =lambda: _input_fn([training_file], \n",
    "                                         compression_type=compression_type)\n",
    "    validation_input_fn =lambda: _input_fn([validation_file],\n",
    "                                          compression_type=compression_type)\n",
    "\n",
    "    # Train the model, but do so inside a loop so that we can periodically assess\n",
    "    # loss metrics.\n",
    "    print(\"Training model...\")\n",
    "    \n",
    "    \n",
    "    training_acc = []\n",
    "    validation_acc = []\n",
    "    for i in range(periods):\n",
    "        # Train the model, starting from the prior state.\n",
    "        dual_model.train(\n",
    "            input_fn=training_input_fn,\n",
    "            steps=steps_per_period)\n",
    "        \n",
    "        # Take a break and compute predictions.\n",
    "        evaluation_metrics = dual_model.evaluate(\n",
    "            input_fn=training_input_fn,\n",
    "            steps=steps_per_period)\n",
    "        training_acc.append(evaluation_metrics['loss'])\n",
    "                            \n",
    "        evaluation_metrics = dual_model.evaluate(\n",
    "            input_fn=validation_input_fn,\n",
    "            steps=steps_per_period)    \n",
    "        validation_acc.append(evaluation_metrics['loss'])\n",
    "        \n",
    "        print('validation loss', evaluation_metrics['loss'])\n",
    "\n",
    "    print(\"Validation set metrics:\")\n",
    "    for m in evaluation_metrics:\n",
    "        print(m, evaluation_metrics[m])\n",
    "    print(\"---\")\n",
    "    \n",
    "    plt.plot(training_acc,label='Training loss')\n",
    "    plt.plot(validation_acc,label='Validation loss')\n",
    "    plt.legend()\n",
    "    plt.show()\n",
    "    \n",
    "    return dual_model\n"
   ]
  },
  {
   "cell_type": "markdown",
   "metadata": {},
   "source": [
    "### Train a dual head linear classifier and regressor"
   ]
  },
  {
   "cell_type": "code",
   "execution_count": 52,
   "metadata": {
    "ExecuteTime": {
     "end_time": "2019-07-21T01:42:26.916743Z",
     "start_time": "2019-07-21T01:42:26.911727Z"
    }
   },
   "outputs": [],
   "source": [
    "training_file = os.path.join('Dota_data','mixed_skill',\n",
    "                             'dota2_training_data',\n",
    "                             'dual_gold_win_dota2_training_data.tfrecords')\n",
    "validation_file = os.path.join('Dota_data','mixed_skill',\n",
    "                               'dota2_validation_data', \n",
    "                               'dual_gold_win_dota2_validation_data.tfrecords')\n",
    "\n",
    "categorical_feature_columns = construct_hero_categorical_columns(['radiant_heroes',\n",
    "                                                                  'dire_heroes'],\n",
    "                                                                hero_vocab)\n",
    "indicator_feature_columns = construct_indicator_columns(categorical_feature_columns)\n",
    "embedding_feature_columns = construct_embedding_columns(categorical_feature_columns,\n",
    "                                                        dimension=4)"
   ]
  },
  {
   "cell_type": "markdown",
   "metadata": {
    "heading_collapsed": true
   },
   "source": [
    "#### Test of radiant_win modelling with linear model"
   ]
  },
  {
   "cell_type": "code",
   "execution_count": 33,
   "metadata": {
    "ExecuteTime": {
     "end_time": "2019-07-17T03:36:26.282637Z",
     "start_time": "2019-07-17T03:32:23.839731Z"
    },
    "hidden": true,
    "scrolled": true
   },
   "outputs": [
    {
     "name": "stdout",
     "output_type": "stream",
     "text": [
      "Training model...\n",
      "validation loss 0.7119085\n",
      "validation loss 0.7065336\n",
      "validation loss 0.71067864\n",
      "validation loss 0.70314217\n",
      "validation loss 0.70342636\n",
      "validation loss 0.69852316\n",
      "validation loss 0.6976629\n",
      "validation loss 0.6946579\n",
      "validation loss 0.69535327\n",
      "validation loss 0.6866873\n",
      "validation loss 0.68987703\n",
      "validation loss 0.6905968\n",
      "validation loss 0.6878172\n",
      "validation loss 0.68971395\n",
      "validation loss 0.68833846\n",
      "validation loss 0.69127244\n",
      "validation loss 0.68224776\n",
      "validation loss 0.6867959\n",
      "validation loss 0.6873641\n",
      "validation loss 0.68732834\n",
      "Validation set metrics:\n",
      "accuracy 0.5508\n",
      "auc 0.5301366\n",
      "baseline_accuracy 0.5\n",
      "loss 0.68732834\n",
      "global_step 1000\n",
      "---\n"
     ]
    },
    {
     "data": {
      "image/png": "[encoded data removed]",
      "text/plain": [
       "<Figure size 432x288 with 1 Axes>"
      ]
     },
     "metadata": {
      "needs_background": "light"
     },
     "output_type": "display_data"
    }
   ],
   "source": [
    "optimizer = tf.train.AdamOptimizer(learning_rate=0.0005)\n",
    "\n",
    "trained_dualhead_linear_model = train_dual_classifier_regressor(\n",
    "    steps=1e3,\n",
    "    batch_size=5000,\n",
    "    params={'hidden_units':[],\n",
    "            'optimizer':optimizer,\n",
    "            'feature_columns':indicator_feature_columns,\n",
    "            'win_loss_weight':1\n",
    "           },\n",
    "    training_file=training_file,\n",
    "    validation_file=validation_file,\n",
    "    compression_type=\"GZIP\")"
   ]
  },
  {
   "cell_type": "code",
   "execution_count": 35,
   "metadata": {
    "ExecuteTime": {
     "end_time": "2019-07-17T03:53:58.005511Z",
     "start_time": "2019-07-17T03:43:12.230365Z"
    },
    "hidden": true,
    "scrolled": true
   },
   "outputs": [
    {
     "name": "stdout",
     "output_type": "stream",
     "text": [
      "Training model...\n",
      "validation loss 0.6814898\n",
      "validation loss 0.67604315\n",
      "validation loss 0.67410207\n",
      "validation loss 0.6750834\n",
      "validation loss 0.6726319\n",
      "validation loss 0.6735657\n",
      "validation loss 0.673314\n",
      "validation loss 0.67405254\n",
      "validation loss 0.6733094\n",
      "validation loss 0.6721369\n",
      "validation loss 0.67429686\n",
      "validation loss 0.6729048\n",
      "validation loss 0.67266643\n",
      "validation loss 0.6723436\n",
      "validation loss 0.67400086\n",
      "validation loss 0.67141074\n",
      "validation loss 0.67427176\n",
      "validation loss 0.6732321\n",
      "validation loss 0.67280966\n",
      "validation loss 0.6715519\n",
      "Validation set metrics:\n",
      "accuracy 0.58348\n",
      "auc 0.5673834\n",
      "baseline_accuracy 0.5\n",
      "loss 0.6715519\n",
      "global_step 10000\n",
      "---\n"
     ]
    },
    {
     "data": {
      "image/png": "[encoded data removed]",
      "text/plain": [
       "<Figure size 432x288 with 1 Axes>"
      ]
     },
     "metadata": {
      "needs_background": "light"
     },
     "output_type": "display_data"
    }
   ],
   "source": [
    "optimizer = tf.train.AdamOptimizer(learning_rate=0.001)\n",
    "\n",
    "trained_dualhead_linear_model = train_dual_classifier_regressor(\n",
    "    steps=1e4,\n",
    "    batch_size=5000,\n",
    "    params={'hidden_units':[],\n",
    "            'optimizer':optimizer,\n",
    "            'feature_columns':indicator_feature_columns,\n",
    "            'win_loss_weight':1\n",
    "           },\n",
    "    training_file=training_file,\n",
    "    validation_file=validation_file,\n",
    "    compression_type=\"GZIP\")"
   ]
  },
  {
   "cell_type": "code",
   "execution_count": 40,
   "metadata": {
    "ExecuteTime": {
     "end_time": "2019-07-17T04:43:06.487994Z",
     "start_time": "2019-07-17T04:32:16.714053Z"
    },
    "hidden": true,
    "scrolled": true
   },
   "outputs": [
    {
     "name": "stdout",
     "output_type": "stream",
     "text": [
      "Training model...\n",
      "validation loss 0.6864844\n",
      "validation loss 0.6759142\n",
      "validation loss 0.6740468\n",
      "validation loss 0.67387605\n",
      "validation loss 0.67411786\n",
      "validation loss 0.6734216\n",
      "validation loss 0.67287415\n",
      "validation loss 0.67288095\n",
      "validation loss 0.6720452\n",
      "validation loss 0.67304134\n",
      "validation loss 0.6726419\n",
      "validation loss 0.67286736\n",
      "validation loss 0.67241156\n",
      "validation loss 0.67294973\n",
      "validation loss 0.67308754\n",
      "validation loss 0.67351717\n",
      "validation loss 0.6737289\n",
      "validation loss 0.67303735\n",
      "validation loss 0.6735255\n",
      "validation loss 0.6729112\n",
      "Validation set metrics:\n",
      "accuracy 0.5824\n",
      "auc 0.56584007\n",
      "baseline_accuracy 0.5\n",
      "loss 0.6729112\n",
      "global_step 10000\n",
      "---\n"
     ]
    },
    {
     "data": {
      "image/png": "[encoded data removed]",
      "text/plain": [
       "<Figure size 432x288 with 1 Axes>"
      ]
     },
     "metadata": {
      "needs_background": "light"
     },
     "output_type": "display_data"
    }
   ],
   "source": [
    "optimizer = tf.train.AdamOptimizer(learning_rate=0.0007)\n",
    "\n",
    "trained_dualhead_linear_model = train_dual_classifier_regressor(\n",
    "    steps=1e4,\n",
    "    batch_size=10000,\n",
    "    params={'hidden_units':[],\n",
    "            'optimizer':optimizer,\n",
    "            'feature_columns':indicator_feature_columns,\n",
    "            'win_loss_weight':1\n",
    "           },\n",
    "    training_file=training_file,\n",
    "    validation_file=validation_file,\n",
    "    compression_type=\"GZIP\")"
   ]
  },
  {
   "cell_type": "markdown",
   "metadata": {
    "heading_collapsed": true
   },
   "source": [
    "#### Train single head gold_diff linear model to test"
   ]
  },
  {
   "cell_type": "code",
   "execution_count": 44,
   "metadata": {
    "ExecuteTime": {
     "end_time": "2019-07-18T03:50:30.691126Z",
     "start_time": "2019-07-18T03:39:44.481107Z"
    },
    "hidden": true,
    "scrolled": true
   },
   "outputs": [
    {
     "name": "stdout",
     "output_type": "stream",
     "text": [
      "Training model...\n",
      "validation loss 0.43765062\n",
      "validation loss 0.42608696\n",
      "validation loss 0.4201804\n",
      "validation loss 0.41532204\n",
      "validation loss 0.41405165\n",
      "validation loss 0.41504833\n",
      "validation loss 0.41682318\n",
      "validation loss 0.4146256\n",
      "validation loss 0.4135348\n",
      "validation loss 0.4144442\n",
      "validation loss 0.41574943\n",
      "validation loss 0.41521287\n",
      "validation loss 0.41727644\n",
      "validation loss 0.4155105\n",
      "validation loss 0.4140295\n",
      "validation loss 0.4131161\n",
      "validation loss 0.41509637\n",
      "validation loss 0.41312122\n",
      "validation loss 0.41201827\n",
      "validation loss 0.41563052\n",
      "Validation set metrics:\n",
      "accuracy 0.49644\n",
      "auc 0.50782937\n",
      "baseline_accuracy 0.5\n",
      "loss 0.41563052\n",
      "global_step 10000\n",
      "---\n"
     ]
    },
    {
     "data": {
      "image/png": "[encoded data removed]",
      "text/plain": [
       "<Figure size 432x288 with 1 Axes>"
      ]
     },
     "metadata": {
      "needs_background": "light"
     },
     "output_type": "display_data"
    }
   ],
   "source": [
    "optimizer = tf.train.AdamOptimizer(learning_rate=0.0005)\n",
    "\n",
    "trained_dualhead_linear_model = train_dual_classifier_regressor(\n",
    "    steps=1e4,\n",
    "    batch_size=5000,\n",
    "    params={'hidden_units':[],\n",
    "            'optimizer':optimizer,\n",
    "            'feature_columns':indicator_feature_columns,\n",
    "            'win_loss_weight':0\n",
    "           },\n",
    "    training_file=training_file,\n",
    "    validation_file=validation_file,\n",
    "    compression_type=\"GZIP\")"
   ]
  },
  {
   "cell_type": "markdown",
   "metadata": {
    "ExecuteTime": {
     "end_time": "2019-06-18T05:39:44.561100Z",
     "start_time": "2019-06-18T05:39:44.558271Z"
    }
   },
   "source": [
    "#### Train multi-head dnn"
   ]
  },
  {
   "cell_type": "code",
   "execution_count": 59,
   "metadata": {
    "ExecuteTime": {
     "end_time": "2019-07-21T05:09:50.239443Z",
     "start_time": "2019-07-21T04:44:52.687297Z"
    },
    "scrolled": true
   },
   "outputs": [
    {
     "name": "stdout",
     "output_type": "stream",
     "text": [
      "Training model...\n",
      "validation loss 0.30557752\n",
      "validation loss 0.3051583\n",
      "validation loss 0.3042283\n",
      "validation loss 0.3026511\n",
      "validation loss 0.30123368\n",
      "validation loss 0.3003765\n",
      "validation loss 0.29970348\n",
      "validation loss 0.29910886\n",
      "validation loss 0.29875213\n",
      "validation loss 0.29834586\n",
      "validation loss 0.29816505\n",
      "validation loss 0.29804724\n",
      "validation loss 0.29804444\n",
      "validation loss 0.297902\n",
      "validation loss 0.29795066\n",
      "validation loss 0.29777938\n",
      "validation loss 0.29782078\n",
      "validation loss 0.29768744\n",
      "validation loss 0.29781395\n",
      "validation loss 0.29780316\n",
      "Validation set metrics:\n",
      "accuracy 0.5834627\n",
      "auc 0.5684276\n",
      "baseline_accuracy 0.5\n",
      "loss 0.29780316\n",
      "global_step 50000\n",
      "---\n"
     ]
    },
    {
     "data": {
      "image/png": "[encoded data removed]",
      "text/plain": [
       "<Figure size 432x288 with 1 Axes>"
      ]
     },
     "metadata": {
      "needs_background": "light"
     },
     "output_type": "display_data"
    }
   ],
   "source": [
    "optimizer = tf.contrib.opt.AdamWOptimizer(learning_rate=20e-5,\n",
    "                                          weight_decay =2e-5)\n",
    "\n",
    "trained_dualhead_linear_model = train_dual_classifier_regressor(\n",
    "    steps=5e4,\n",
    "    batch_size=10000,\n",
    "    params={'hidden_units':[8,8],\n",
    "            'optimizer':optimizer,\n",
    "            'feature_columns':embedding_feature_columns,\n",
    "            'win_loss_weight':0.7\n",
    "           },\n",
    "    training_file=training_file,\n",
    "    validation_file=validation_file,\n",
    "    compression_type=\"GZIP\")"
   ]
  },
  {
   "cell_type": "markdown",
   "metadata": {
    "heading_collapsed": true
   },
   "source": [
    "### Test model\n",
    "only do this if you're done training!!"
   ]
  },
  {
   "cell_type": "code",
   "execution_count": 295,
   "metadata": {
    "ExecuteTime": {
     "end_time": "2019-06-18T05:46:10.395508Z",
     "start_time": "2019-06-18T05:45:59.704131Z"
    },
    "hidden": true,
    "scrolled": true
   },
   "outputs": [
    {
     "ename": "KeyboardInterrupt",
     "evalue": "",
     "output_type": "error",
     "traceback": [
      "\u001b[0;31m---------------------------------------------------------------------------\u001b[0m",
      "\u001b[0;31mKeyboardInterrupt\u001b[0m                         Traceback (most recent call last)",
      "\u001b[0;32m<ipython-input-295-cf068d0d2386>\u001b[0m in \u001b[0;36m<module>\u001b[0;34m\u001b[0m\n\u001b[1;32m      5\u001b[0m evaluation_metrics = trained_dualhead_linear_model.evaluate(\n\u001b[1;32m      6\u001b[0m             \u001b[0minput_fn\u001b[0m\u001b[0;34m=\u001b[0m\u001b[0mvalidation_input_fn\u001b[0m\u001b[0;34m,\u001b[0m\u001b[0;34m\u001b[0m\u001b[0;34m\u001b[0m\u001b[0m\n\u001b[0;32m----> 7\u001b[0;31m             steps=3e3)\n\u001b[0m\u001b[1;32m      8\u001b[0m \u001b[0;32mfor\u001b[0m \u001b[0mm\u001b[0m \u001b[0;32min\u001b[0m \u001b[0mevaluation_metrics\u001b[0m\u001b[0;34m:\u001b[0m\u001b[0;34m\u001b[0m\u001b[0;34m\u001b[0m\u001b[0m\n\u001b[1;32m      9\u001b[0m     \u001b[0mprint\u001b[0m\u001b[0;34m(\u001b[0m\u001b[0mm\u001b[0m\u001b[0;34m,\u001b[0m \u001b[0mevaluation_metrics\u001b[0m\u001b[0;34m[\u001b[0m\u001b[0mm\u001b[0m\u001b[0;34m]\u001b[0m\u001b[0;34m)\u001b[0m\u001b[0;34m\u001b[0m\u001b[0;34m\u001b[0m\u001b[0m\n",
      "\u001b[0;32m~/anaconda3/lib/python3.7/site-packages/tensorflow_estimator/python/estimator/estimator.py\u001b[0m in \u001b[0;36mevaluate\u001b[0;34m(self, input_fn, steps, hooks, checkpoint_path, name)\u001b[0m\n\u001b[1;32m    467\u001b[0m           \u001b[0mhooks\u001b[0m\u001b[0;34m=\u001b[0m\u001b[0mhooks\u001b[0m\u001b[0;34m,\u001b[0m\u001b[0;34m\u001b[0m\u001b[0;34m\u001b[0m\u001b[0m\n\u001b[1;32m    468\u001b[0m           \u001b[0mcheckpoint_path\u001b[0m\u001b[0;34m=\u001b[0m\u001b[0mcheckpoint_path\u001b[0m\u001b[0;34m,\u001b[0m\u001b[0;34m\u001b[0m\u001b[0;34m\u001b[0m\u001b[0m\n\u001b[0;32m--> 469\u001b[0;31m           name=name)\n\u001b[0m\u001b[1;32m    470\u001b[0m \u001b[0;34m\u001b[0m\u001b[0m\n\u001b[1;32m    471\u001b[0m   def _actual_eval(self,\n",
      "\u001b[0;32m~/anaconda3/lib/python3.7/site-packages/tensorflow_estimator/python/estimator/estimator.py\u001b[0m in \u001b[0;36m_actual_eval\u001b[0;34m(self, input_fn, strategy, steps, hooks, checkpoint_path, name)\u001b[0m\n\u001b[1;32m    509\u001b[0m             \u001b[0;32mreturn\u001b[0m \u001b[0m_evaluate\u001b[0m\u001b[0;34m(\u001b[0m\u001b[0;34m)\u001b[0m\u001b[0;34m\u001b[0m\u001b[0;34m\u001b[0m\u001b[0m\n\u001b[1;32m    510\u001b[0m         \u001b[0;32melse\u001b[0m\u001b[0;34m:\u001b[0m\u001b[0;34m\u001b[0m\u001b[0;34m\u001b[0m\u001b[0m\n\u001b[0;32m--> 511\u001b[0;31m           \u001b[0;32mreturn\u001b[0m \u001b[0m_evaluate\u001b[0m\u001b[0;34m(\u001b[0m\u001b[0;34m)\u001b[0m\u001b[0;34m\u001b[0m\u001b[0;34m\u001b[0m\u001b[0m\n\u001b[0m\u001b[1;32m    512\u001b[0m \u001b[0;34m\u001b[0m\u001b[0m\n\u001b[1;32m    513\u001b[0m   \u001b[0;32mdef\u001b[0m \u001b[0m_convert_eval_steps_to_hooks\u001b[0m\u001b[0;34m(\u001b[0m\u001b[0mself\u001b[0m\u001b[0;34m,\u001b[0m \u001b[0msteps\u001b[0m\u001b[0;34m)\u001b[0m\u001b[0;34m:\u001b[0m\u001b[0;34m\u001b[0m\u001b[0;34m\u001b[0m\u001b[0m\n",
      "\u001b[0;32m~/anaconda3/lib/python3.7/site-packages/tensorflow_estimator/python/estimator/estimator.py\u001b[0m in \u001b[0;36m_evaluate\u001b[0;34m()\u001b[0m\n\u001b[1;32m    498\u001b[0m             \u001b[0meval_dict\u001b[0m\u001b[0;34m=\u001b[0m\u001b[0meval_dict\u001b[0m\u001b[0;34m,\u001b[0m\u001b[0;34m\u001b[0m\u001b[0;34m\u001b[0m\u001b[0m\n\u001b[1;32m    499\u001b[0m             \u001b[0mall_hooks\u001b[0m\u001b[0;34m=\u001b[0m\u001b[0mall_hooks\u001b[0m\u001b[0;34m,\u001b[0m\u001b[0;34m\u001b[0m\u001b[0;34m\u001b[0m\u001b[0m\n\u001b[0;32m--> 500\u001b[0;31m             output_dir=self.eval_dir(name))\n\u001b[0m\u001b[1;32m    501\u001b[0m \u001b[0;34m\u001b[0m\u001b[0m\n\u001b[1;32m    502\u001b[0m       \u001b[0;32mwith\u001b[0m \u001b[0mops\u001b[0m\u001b[0;34m.\u001b[0m\u001b[0mGraph\u001b[0m\u001b[0;34m(\u001b[0m\u001b[0;34m)\u001b[0m\u001b[0;34m.\u001b[0m\u001b[0mas_default\u001b[0m\u001b[0;34m(\u001b[0m\u001b[0;34m)\u001b[0m\u001b[0;34m:\u001b[0m\u001b[0;34m\u001b[0m\u001b[0;34m\u001b[0m\u001b[0m\n",
      "\u001b[0;32m~/anaconda3/lib/python3.7/site-packages/tensorflow_estimator/python/estimator/estimator.py\u001b[0m in \u001b[0;36m_evaluate_run\u001b[0;34m(self, checkpoint_path, scaffold, update_op, eval_dict, all_hooks, output_dir)\u001b[0m\n\u001b[1;32m   1535\u001b[0m         \u001b[0mfinal_ops\u001b[0m\u001b[0;34m=\u001b[0m\u001b[0meval_dict\u001b[0m\u001b[0;34m,\u001b[0m\u001b[0;34m\u001b[0m\u001b[0;34m\u001b[0m\u001b[0m\n\u001b[1;32m   1536\u001b[0m         \u001b[0mhooks\u001b[0m\u001b[0;34m=\u001b[0m\u001b[0mall_hooks\u001b[0m\u001b[0;34m,\u001b[0m\u001b[0;34m\u001b[0m\u001b[0;34m\u001b[0m\u001b[0m\n\u001b[0;32m-> 1537\u001b[0;31m         config=self._session_config)\n\u001b[0m\u001b[1;32m   1538\u001b[0m \u001b[0;34m\u001b[0m\u001b[0m\n\u001b[1;32m   1539\u001b[0m     \u001b[0mcurrent_global_step\u001b[0m \u001b[0;34m=\u001b[0m \u001b[0meval_results\u001b[0m\u001b[0;34m[\u001b[0m\u001b[0mops\u001b[0m\u001b[0;34m.\u001b[0m\u001b[0mGraphKeys\u001b[0m\u001b[0;34m.\u001b[0m\u001b[0mGLOBAL_STEP\u001b[0m\u001b[0;34m]\u001b[0m\u001b[0;34m\u001b[0m\u001b[0;34m\u001b[0m\u001b[0m\n",
      "\u001b[0;32m~/anaconda3/lib/python3.7/site-packages/tensorflow/python/training/evaluation.py\u001b[0m in \u001b[0;36m_evaluate_once\u001b[0;34m(checkpoint_path, master, scaffold, eval_ops, feed_dict, final_ops, final_ops_feed_dict, hooks, config)\u001b[0m\n\u001b[1;32m    272\u001b[0m     \u001b[0;32mif\u001b[0m \u001b[0meval_ops\u001b[0m \u001b[0;32mis\u001b[0m \u001b[0;32mnot\u001b[0m \u001b[0;32mNone\u001b[0m\u001b[0;34m:\u001b[0m\u001b[0;34m\u001b[0m\u001b[0;34m\u001b[0m\u001b[0m\n\u001b[1;32m    273\u001b[0m       \u001b[0;32mwhile\u001b[0m \u001b[0;32mnot\u001b[0m \u001b[0msession\u001b[0m\u001b[0;34m.\u001b[0m\u001b[0mshould_stop\u001b[0m\u001b[0;34m(\u001b[0m\u001b[0;34m)\u001b[0m\u001b[0;34m:\u001b[0m\u001b[0;34m\u001b[0m\u001b[0;34m\u001b[0m\u001b[0m\n\u001b[0;32m--> 274\u001b[0;31m         \u001b[0msession\u001b[0m\u001b[0;34m.\u001b[0m\u001b[0mrun\u001b[0m\u001b[0;34m(\u001b[0m\u001b[0meval_ops\u001b[0m\u001b[0;34m,\u001b[0m \u001b[0mfeed_dict\u001b[0m\u001b[0;34m)\u001b[0m\u001b[0;34m\u001b[0m\u001b[0;34m\u001b[0m\u001b[0m\n\u001b[0m\u001b[1;32m    275\u001b[0m \u001b[0;34m\u001b[0m\u001b[0m\n\u001b[1;32m    276\u001b[0m   logging.info('Finished evaluation at ' + time.strftime('%Y-%m-%d-%H:%M:%S',\n",
      "\u001b[0;32m~/anaconda3/lib/python3.7/site-packages/tensorflow/python/training/monitored_session.py\u001b[0m in \u001b[0;36mrun\u001b[0;34m(self, fetches, feed_dict, options, run_metadata)\u001b[0m\n\u001b[1;32m    674\u001b[0m                           \u001b[0mfeed_dict\u001b[0m\u001b[0;34m=\u001b[0m\u001b[0mfeed_dict\u001b[0m\u001b[0;34m,\u001b[0m\u001b[0;34m\u001b[0m\u001b[0;34m\u001b[0m\u001b[0m\n\u001b[1;32m    675\u001b[0m                           \u001b[0moptions\u001b[0m\u001b[0;34m=\u001b[0m\u001b[0moptions\u001b[0m\u001b[0;34m,\u001b[0m\u001b[0;34m\u001b[0m\u001b[0;34m\u001b[0m\u001b[0m\n\u001b[0;32m--> 676\u001b[0;31m                           run_metadata=run_metadata)\n\u001b[0m\u001b[1;32m    677\u001b[0m \u001b[0;34m\u001b[0m\u001b[0m\n\u001b[1;32m    678\u001b[0m   \u001b[0;32mdef\u001b[0m \u001b[0mrun_step_fn\u001b[0m\u001b[0;34m(\u001b[0m\u001b[0mself\u001b[0m\u001b[0;34m,\u001b[0m \u001b[0mstep_fn\u001b[0m\u001b[0;34m)\u001b[0m\u001b[0;34m:\u001b[0m\u001b[0;34m\u001b[0m\u001b[0;34m\u001b[0m\u001b[0m\n",
      "\u001b[0;32m~/anaconda3/lib/python3.7/site-packages/tensorflow/python/training/monitored_session.py\u001b[0m in \u001b[0;36mrun\u001b[0;34m(self, fetches, feed_dict, options, run_metadata)\u001b[0m\n\u001b[1;32m   1169\u001b[0m                               \u001b[0mfeed_dict\u001b[0m\u001b[0;34m=\u001b[0m\u001b[0mfeed_dict\u001b[0m\u001b[0;34m,\u001b[0m\u001b[0;34m\u001b[0m\u001b[0;34m\u001b[0m\u001b[0m\n\u001b[1;32m   1170\u001b[0m                               \u001b[0moptions\u001b[0m\u001b[0;34m=\u001b[0m\u001b[0moptions\u001b[0m\u001b[0;34m,\u001b[0m\u001b[0;34m\u001b[0m\u001b[0;34m\u001b[0m\u001b[0m\n\u001b[0;32m-> 1171\u001b[0;31m                               run_metadata=run_metadata)\n\u001b[0m\u001b[1;32m   1172\u001b[0m       \u001b[0;32mexcept\u001b[0m \u001b[0m_PREEMPTION_ERRORS\u001b[0m \u001b[0;32mas\u001b[0m \u001b[0me\u001b[0m\u001b[0;34m:\u001b[0m\u001b[0;34m\u001b[0m\u001b[0;34m\u001b[0m\u001b[0m\n\u001b[1;32m   1173\u001b[0m         logging.info('An error was raised. This may be due to a preemption in '\n",
      "\u001b[0;32m~/anaconda3/lib/python3.7/site-packages/tensorflow/python/training/monitored_session.py\u001b[0m in \u001b[0;36mrun\u001b[0;34m(self, *args, **kwargs)\u001b[0m\n\u001b[1;32m   1253\u001b[0m   \u001b[0;32mdef\u001b[0m \u001b[0mrun\u001b[0m\u001b[0;34m(\u001b[0m\u001b[0mself\u001b[0m\u001b[0;34m,\u001b[0m \u001b[0;34m*\u001b[0m\u001b[0margs\u001b[0m\u001b[0;34m,\u001b[0m \u001b[0;34m**\u001b[0m\u001b[0mkwargs\u001b[0m\u001b[0;34m)\u001b[0m\u001b[0;34m:\u001b[0m\u001b[0;34m\u001b[0m\u001b[0;34m\u001b[0m\u001b[0m\n\u001b[1;32m   1254\u001b[0m     \u001b[0;32mtry\u001b[0m\u001b[0;34m:\u001b[0m\u001b[0;34m\u001b[0m\u001b[0;34m\u001b[0m\u001b[0m\n\u001b[0;32m-> 1255\u001b[0;31m       \u001b[0;32mreturn\u001b[0m \u001b[0mself\u001b[0m\u001b[0;34m.\u001b[0m\u001b[0m_sess\u001b[0m\u001b[0;34m.\u001b[0m\u001b[0mrun\u001b[0m\u001b[0;34m(\u001b[0m\u001b[0;34m*\u001b[0m\u001b[0margs\u001b[0m\u001b[0;34m,\u001b[0m \u001b[0;34m**\u001b[0m\u001b[0mkwargs\u001b[0m\u001b[0;34m)\u001b[0m\u001b[0;34m\u001b[0m\u001b[0;34m\u001b[0m\u001b[0m\n\u001b[0m\u001b[1;32m   1256\u001b[0m     \u001b[0;32mexcept\u001b[0m \u001b[0m_PREEMPTION_ERRORS\u001b[0m\u001b[0;34m:\u001b[0m\u001b[0;34m\u001b[0m\u001b[0;34m\u001b[0m\u001b[0m\n\u001b[1;32m   1257\u001b[0m       \u001b[0;32mraise\u001b[0m\u001b[0;34m\u001b[0m\u001b[0;34m\u001b[0m\u001b[0m\n",
      "\u001b[0;32m~/anaconda3/lib/python3.7/site-packages/tensorflow/python/training/monitored_session.py\u001b[0m in \u001b[0;36mrun\u001b[0;34m(self, fetches, feed_dict, options, run_metadata)\u001b[0m\n\u001b[1;32m   1325\u001b[0m                                   \u001b[0mfeed_dict\u001b[0m\u001b[0;34m=\u001b[0m\u001b[0mfeed_dict\u001b[0m\u001b[0;34m,\u001b[0m\u001b[0;34m\u001b[0m\u001b[0;34m\u001b[0m\u001b[0m\n\u001b[1;32m   1326\u001b[0m                                   \u001b[0moptions\u001b[0m\u001b[0;34m=\u001b[0m\u001b[0moptions\u001b[0m\u001b[0;34m,\u001b[0m\u001b[0;34m\u001b[0m\u001b[0;34m\u001b[0m\u001b[0m\n\u001b[0;32m-> 1327\u001b[0;31m                                   run_metadata=run_metadata)\n\u001b[0m\u001b[1;32m   1328\u001b[0m \u001b[0;34m\u001b[0m\u001b[0m\n\u001b[1;32m   1329\u001b[0m     \u001b[0;32mfor\u001b[0m \u001b[0mhook\u001b[0m \u001b[0;32min\u001b[0m \u001b[0mself\u001b[0m\u001b[0;34m.\u001b[0m\u001b[0m_hooks\u001b[0m\u001b[0;34m:\u001b[0m\u001b[0;34m\u001b[0m\u001b[0;34m\u001b[0m\u001b[0m\n",
      "\u001b[0;32m~/anaconda3/lib/python3.7/site-packages/tensorflow/python/training/monitored_session.py\u001b[0m in \u001b[0;36mrun\u001b[0;34m(self, *args, **kwargs)\u001b[0m\n\u001b[1;32m   1089\u001b[0m \u001b[0;34m\u001b[0m\u001b[0m\n\u001b[1;32m   1090\u001b[0m   \u001b[0;32mdef\u001b[0m \u001b[0mrun\u001b[0m\u001b[0;34m(\u001b[0m\u001b[0mself\u001b[0m\u001b[0;34m,\u001b[0m \u001b[0;34m*\u001b[0m\u001b[0margs\u001b[0m\u001b[0;34m,\u001b[0m \u001b[0;34m**\u001b[0m\u001b[0mkwargs\u001b[0m\u001b[0;34m)\u001b[0m\u001b[0;34m:\u001b[0m\u001b[0;34m\u001b[0m\u001b[0;34m\u001b[0m\u001b[0m\n\u001b[0;32m-> 1091\u001b[0;31m     \u001b[0;32mreturn\u001b[0m \u001b[0mself\u001b[0m\u001b[0;34m.\u001b[0m\u001b[0m_sess\u001b[0m\u001b[0;34m.\u001b[0m\u001b[0mrun\u001b[0m\u001b[0;34m(\u001b[0m\u001b[0;34m*\u001b[0m\u001b[0margs\u001b[0m\u001b[0;34m,\u001b[0m \u001b[0;34m**\u001b[0m\u001b[0mkwargs\u001b[0m\u001b[0;34m)\u001b[0m\u001b[0;34m\u001b[0m\u001b[0;34m\u001b[0m\u001b[0m\n\u001b[0m\u001b[1;32m   1092\u001b[0m \u001b[0;34m\u001b[0m\u001b[0m\n\u001b[1;32m   1093\u001b[0m   \u001b[0;32mdef\u001b[0m \u001b[0mrun_step_fn\u001b[0m\u001b[0;34m(\u001b[0m\u001b[0mself\u001b[0m\u001b[0;34m,\u001b[0m \u001b[0mstep_fn\u001b[0m\u001b[0;34m,\u001b[0m \u001b[0mraw_session\u001b[0m\u001b[0;34m,\u001b[0m \u001b[0mrun_with_hooks\u001b[0m\u001b[0;34m)\u001b[0m\u001b[0;34m:\u001b[0m\u001b[0;34m\u001b[0m\u001b[0;34m\u001b[0m\u001b[0m\n",
      "\u001b[0;32m~/anaconda3/lib/python3.7/site-packages/tensorflow/python/client/session.py\u001b[0m in \u001b[0;36mrun\u001b[0;34m(self, fetches, feed_dict, options, run_metadata)\u001b[0m\n\u001b[1;32m    927\u001b[0m     \u001b[0;32mtry\u001b[0m\u001b[0;34m:\u001b[0m\u001b[0;34m\u001b[0m\u001b[0;34m\u001b[0m\u001b[0m\n\u001b[1;32m    928\u001b[0m       result = self._run(None, fetches, feed_dict, options_ptr,\n\u001b[0;32m--> 929\u001b[0;31m                          run_metadata_ptr)\n\u001b[0m\u001b[1;32m    930\u001b[0m       \u001b[0;32mif\u001b[0m \u001b[0mrun_metadata\u001b[0m\u001b[0;34m:\u001b[0m\u001b[0;34m\u001b[0m\u001b[0;34m\u001b[0m\u001b[0m\n\u001b[1;32m    931\u001b[0m         \u001b[0mproto_data\u001b[0m \u001b[0;34m=\u001b[0m \u001b[0mtf_session\u001b[0m\u001b[0;34m.\u001b[0m\u001b[0mTF_GetBuffer\u001b[0m\u001b[0;34m(\u001b[0m\u001b[0mrun_metadata_ptr\u001b[0m\u001b[0;34m)\u001b[0m\u001b[0;34m\u001b[0m\u001b[0;34m\u001b[0m\u001b[0m\n",
      "\u001b[0;32m~/anaconda3/lib/python3.7/site-packages/tensorflow/python/client/session.py\u001b[0m in \u001b[0;36m_run\u001b[0;34m(self, handle, fetches, feed_dict, options, run_metadata)\u001b[0m\n\u001b[1;32m   1150\u001b[0m     \u001b[0;32mif\u001b[0m \u001b[0mfinal_fetches\u001b[0m \u001b[0;32mor\u001b[0m \u001b[0mfinal_targets\u001b[0m \u001b[0;32mor\u001b[0m \u001b[0;34m(\u001b[0m\u001b[0mhandle\u001b[0m \u001b[0;32mand\u001b[0m \u001b[0mfeed_dict_tensor\u001b[0m\u001b[0;34m)\u001b[0m\u001b[0;34m:\u001b[0m\u001b[0;34m\u001b[0m\u001b[0;34m\u001b[0m\u001b[0m\n\u001b[1;32m   1151\u001b[0m       results = self._do_run(handle, final_targets, final_fetches,\n\u001b[0;32m-> 1152\u001b[0;31m                              feed_dict_tensor, options, run_metadata)\n\u001b[0m\u001b[1;32m   1153\u001b[0m     \u001b[0;32melse\u001b[0m\u001b[0;34m:\u001b[0m\u001b[0;34m\u001b[0m\u001b[0;34m\u001b[0m\u001b[0m\n\u001b[1;32m   1154\u001b[0m       \u001b[0mresults\u001b[0m \u001b[0;34m=\u001b[0m \u001b[0;34m[\u001b[0m\u001b[0;34m]\u001b[0m\u001b[0;34m\u001b[0m\u001b[0;34m\u001b[0m\u001b[0m\n",
      "\u001b[0;32m~/anaconda3/lib/python3.7/site-packages/tensorflow/python/client/session.py\u001b[0m in \u001b[0;36m_do_run\u001b[0;34m(self, handle, target_list, fetch_list, feed_dict, options, run_metadata)\u001b[0m\n\u001b[1;32m   1326\u001b[0m     \u001b[0;32mif\u001b[0m \u001b[0mhandle\u001b[0m \u001b[0;32mis\u001b[0m \u001b[0;32mNone\u001b[0m\u001b[0;34m:\u001b[0m\u001b[0;34m\u001b[0m\u001b[0;34m\u001b[0m\u001b[0m\n\u001b[1;32m   1327\u001b[0m       return self._do_call(_run_fn, feeds, fetches, targets, options,\n\u001b[0;32m-> 1328\u001b[0;31m                            run_metadata)\n\u001b[0m\u001b[1;32m   1329\u001b[0m     \u001b[0;32melse\u001b[0m\u001b[0;34m:\u001b[0m\u001b[0;34m\u001b[0m\u001b[0;34m\u001b[0m\u001b[0m\n\u001b[1;32m   1330\u001b[0m       \u001b[0;32mreturn\u001b[0m \u001b[0mself\u001b[0m\u001b[0;34m.\u001b[0m\u001b[0m_do_call\u001b[0m\u001b[0;34m(\u001b[0m\u001b[0m_prun_fn\u001b[0m\u001b[0;34m,\u001b[0m \u001b[0mhandle\u001b[0m\u001b[0;34m,\u001b[0m \u001b[0mfeeds\u001b[0m\u001b[0;34m,\u001b[0m \u001b[0mfetches\u001b[0m\u001b[0;34m)\u001b[0m\u001b[0;34m\u001b[0m\u001b[0;34m\u001b[0m\u001b[0m\n",
      "\u001b[0;32m~/anaconda3/lib/python3.7/site-packages/tensorflow/python/client/session.py\u001b[0m in \u001b[0;36m_do_call\u001b[0;34m(self, fn, *args)\u001b[0m\n\u001b[1;32m   1332\u001b[0m   \u001b[0;32mdef\u001b[0m \u001b[0m_do_call\u001b[0m\u001b[0;34m(\u001b[0m\u001b[0mself\u001b[0m\u001b[0;34m,\u001b[0m \u001b[0mfn\u001b[0m\u001b[0;34m,\u001b[0m \u001b[0;34m*\u001b[0m\u001b[0margs\u001b[0m\u001b[0;34m)\u001b[0m\u001b[0;34m:\u001b[0m\u001b[0;34m\u001b[0m\u001b[0;34m\u001b[0m\u001b[0m\n\u001b[1;32m   1333\u001b[0m     \u001b[0;32mtry\u001b[0m\u001b[0;34m:\u001b[0m\u001b[0;34m\u001b[0m\u001b[0;34m\u001b[0m\u001b[0m\n\u001b[0;32m-> 1334\u001b[0;31m       \u001b[0;32mreturn\u001b[0m \u001b[0mfn\u001b[0m\u001b[0;34m(\u001b[0m\u001b[0;34m*\u001b[0m\u001b[0margs\u001b[0m\u001b[0;34m)\u001b[0m\u001b[0;34m\u001b[0m\u001b[0;34m\u001b[0m\u001b[0m\n\u001b[0m\u001b[1;32m   1335\u001b[0m     \u001b[0;32mexcept\u001b[0m \u001b[0merrors\u001b[0m\u001b[0;34m.\u001b[0m\u001b[0mOpError\u001b[0m \u001b[0;32mas\u001b[0m \u001b[0me\u001b[0m\u001b[0;34m:\u001b[0m\u001b[0;34m\u001b[0m\u001b[0;34m\u001b[0m\u001b[0m\n\u001b[1;32m   1336\u001b[0m       \u001b[0mmessage\u001b[0m \u001b[0;34m=\u001b[0m \u001b[0mcompat\u001b[0m\u001b[0;34m.\u001b[0m\u001b[0mas_text\u001b[0m\u001b[0;34m(\u001b[0m\u001b[0me\u001b[0m\u001b[0;34m.\u001b[0m\u001b[0mmessage\u001b[0m\u001b[0;34m)\u001b[0m\u001b[0;34m\u001b[0m\u001b[0;34m\u001b[0m\u001b[0m\n",
      "\u001b[0;32m~/anaconda3/lib/python3.7/site-packages/tensorflow/python/client/session.py\u001b[0m in \u001b[0;36m_run_fn\u001b[0;34m(feed_dict, fetch_list, target_list, options, run_metadata)\u001b[0m\n\u001b[1;32m   1317\u001b[0m       \u001b[0mself\u001b[0m\u001b[0;34m.\u001b[0m\u001b[0m_extend_graph\u001b[0m\u001b[0;34m(\u001b[0m\u001b[0;34m)\u001b[0m\u001b[0;34m\u001b[0m\u001b[0;34m\u001b[0m\u001b[0m\n\u001b[1;32m   1318\u001b[0m       return self._call_tf_sessionrun(\n\u001b[0;32m-> 1319\u001b[0;31m           options, feed_dict, fetch_list, target_list, run_metadata)\n\u001b[0m\u001b[1;32m   1320\u001b[0m \u001b[0;34m\u001b[0m\u001b[0m\n\u001b[1;32m   1321\u001b[0m     \u001b[0;32mdef\u001b[0m \u001b[0m_prun_fn\u001b[0m\u001b[0;34m(\u001b[0m\u001b[0mhandle\u001b[0m\u001b[0;34m,\u001b[0m \u001b[0mfeed_dict\u001b[0m\u001b[0;34m,\u001b[0m \u001b[0mfetch_list\u001b[0m\u001b[0;34m)\u001b[0m\u001b[0;34m:\u001b[0m\u001b[0;34m\u001b[0m\u001b[0;34m\u001b[0m\u001b[0m\n",
      "\u001b[0;32m~/anaconda3/lib/python3.7/site-packages/tensorflow/python/client/session.py\u001b[0m in \u001b[0;36m_call_tf_sessionrun\u001b[0;34m(self, options, feed_dict, fetch_list, target_list, run_metadata)\u001b[0m\n\u001b[1;32m   1405\u001b[0m     return tf_session.TF_SessionRun_wrapper(\n\u001b[1;32m   1406\u001b[0m         \u001b[0mself\u001b[0m\u001b[0;34m.\u001b[0m\u001b[0m_session\u001b[0m\u001b[0;34m,\u001b[0m \u001b[0moptions\u001b[0m\u001b[0;34m,\u001b[0m \u001b[0mfeed_dict\u001b[0m\u001b[0;34m,\u001b[0m \u001b[0mfetch_list\u001b[0m\u001b[0;34m,\u001b[0m \u001b[0mtarget_list\u001b[0m\u001b[0;34m,\u001b[0m\u001b[0;34m\u001b[0m\u001b[0;34m\u001b[0m\u001b[0m\n\u001b[0;32m-> 1407\u001b[0;31m         run_metadata)\n\u001b[0m\u001b[1;32m   1408\u001b[0m \u001b[0;34m\u001b[0m\u001b[0m\n\u001b[1;32m   1409\u001b[0m   \u001b[0;32mdef\u001b[0m \u001b[0m_call_tf_sessionprun\u001b[0m\u001b[0;34m(\u001b[0m\u001b[0mself\u001b[0m\u001b[0;34m,\u001b[0m \u001b[0mhandle\u001b[0m\u001b[0;34m,\u001b[0m \u001b[0mfeed_dict\u001b[0m\u001b[0;34m,\u001b[0m \u001b[0mfetch_list\u001b[0m\u001b[0;34m)\u001b[0m\u001b[0;34m:\u001b[0m\u001b[0;34m\u001b[0m\u001b[0;34m\u001b[0m\u001b[0m\n",
      "\u001b[0;31mKeyboardInterrupt\u001b[0m: "
     ]
    }
   ],
   "source": [
    "test_file = os.path.join('dota2_data','mixed_skill',\n",
    "                               'dota2_test_data', \n",
    "                               'dual_gold_win_dota2_test_data.tfrecords')\n",
    "test_input_fn =lambda: _input_fn([test_file])\n",
    "evaluation_metrics = trained_dualhead_linear_model.evaluate(\n",
    "            input_fn=test_input_fn,\n",
    "            steps=3e3)\n",
    "for m in evaluation_metrics:\n",
    "    print(m, evaluation_metrics[m])"
   ]
  },
  {
   "cell_type": "markdown",
   "metadata": {},
   "source": [
    "### Investigate embeding layer"
   ]
  },
  {
   "cell_type": "code",
   "execution_count": 79,
   "metadata": {
    "ExecuteTime": {
     "end_time": "2018-12-10T08:16:07.422456Z",
     "start_time": "2018-12-10T08:16:07.199606Z"
    },
    "collapsed": true
   },
   "outputs": [],
   "source": [
    "champ_list = interface('IEconDOTA2_570').GetHeroes(itemizedonly = True)['result']['heroes']"
   ]
  },
  {
   "cell_type": "code",
   "execution_count": 85,
   "metadata": {
    "ExecuteTime": {
     "end_time": "2018-12-10T08:19:37.785231Z",
     "start_time": "2018-12-10T08:19:36.875868Z"
    }
   },
   "outputs": [
    {
     "data": {
      "image/png": "[encoded data removed]",
      "text/plain": [
       "<matplotlib.figure.Figure at 0x1391cb7b8>"
      ]
     },
     "metadata": {},
     "output_type": "display_data"
    }
   ],
   "source": [
    "vocab = list(range(105))+list(range(106,114))+list(range(119,121))\n",
    "red_embedding_matrix = trained_dnn_model.get_variable_value(\n",
    "    'dnn/input_from_feature_columns/input_layer/dire_heroes_embedding/embedding_weights')\n",
    "\n",
    "radiant_embedding_matrix = trained_dnn_model.get_variable_value(\n",
    "    'dnn/input_from_feature_columns/input_layer/radiant_heroes_embedding/embedding_weights')\n",
    "\n",
    "for champ_index in range(len(vocab)):\n",
    "    # Create a one-hot encoding for our term. It has 0s everywhere, except for\n",
    "    # a single 1 in the coordinate that corresponds to that term.\n",
    "    red_vector = np.zeros(len(vocab))\n",
    "    red_vector[champ_index] = 1\n",
    "    radiant_vector = np.zeros(len(vocab))\n",
    "    radiant_vector[champ_index] = 1\n",
    "    # We'll now project that one-hot vector into the embedding space.\n",
    "    red_embedding_xy = np.matmul(dire_vector, dire_embedding_matrix)\n",
    "    radiant_embedding_xy = np.matmul(dire_vector,dire_embedding_matrix)\n",
    "    #plt.text(dire_embedding_xy[0],\n",
    "    #       dire_embedding_xy[1],\n",
    "    #       hero_list[hero_index]['name'][14:],fontsize=8)\n",
    "    plt.text(radiant_embedding_xy[0],\n",
    "           radiant_embedding_xy[3],\n",
    "           champ_list[champ_index]['name'][14:],fontsize=8,)\n",
    "\n",
    "# Do a little setup to make sure the plot displays nicely.\n",
    "plt.rcParams[\"figure.figsize\"] = (15, 15)\n",
    "plt.xlim(1.2 * red_embedding_matrix.min(), 1.2 * red_embedding_matrix.max())\n",
    "plt.ylim(1.2 * red_embedding_matrix.min(), 1.2 * red_embedding_matrix.max())\n",
    "plt.show() "
   ]
  },
  {
   "cell_type": "markdown",
   "metadata": {},
   "source": [
    "### Save a trained model later exploration, or for on-demand prediction of test cases"
   ]
  },
  {
   "cell_type": "code",
   "execution_count": 20,
   "metadata": {
    "ExecuteTime": {
     "end_time": "2019-04-09T05:52:03.285167Z",
     "start_time": "2019-04-09T05:52:03.274646Z"
    },
    "collapsed": true
   },
   "outputs": [],
   "source": [
    "def serving_input_receiver_fn():\n",
    "    \"\"\"An input receiver that expects a serialized tf.Example.\"\"\"\n",
    "    feature_spec = {\n",
    "        \"radiant_champs\": tf.FixedLenFeature([], dtype=tf.string), #array of five 8 bit ints for heroes\n",
    "        \"dire_heroes\": tf.FixedLenFeature([], dtype=tf.string) #array of five 8-bit ints for heroes\n",
    "                }\n",
    "    serialized_tf_example = tf.placeholder(dtype=tf.string,\n",
    "                                         shape=[1],\n",
    "                                         name='input_example_tensor')\n",
    "    receiver_tensors = {'examples': serialized_tf_example}\n",
    "    parsed_features = tf.parse_example(serialized_tf_example, feature_spec)\n",
    "    \n",
    "    radiant_heroes = tf.decode_raw(parsed_features['radiant_champs'], tf.int64)\n",
    "    dire_heroes = tf.decode_raw(parsed_features['dire_heroes'], tf.int64)\n",
    "    \n",
    "    features = {'radiant_champs':radiant_heroes, 'dire_heroes': dire_heroes}\n",
    "    return tf.estimator.export.ServingInputReceiver(features, receiver_tensors)"
   ]
  },
  {
   "cell_type": "code",
   "execution_count": 21,
   "metadata": {
    "ExecuteTime": {
     "end_time": "2019-04-09T05:52:04.748787Z",
     "start_time": "2019-04-09T05:52:04.307611Z"
    }
   },
   "outputs": [
    {
     "data": {
      "text/plain": [
       "b'trained_models/dnn_models/1554789124'"
      ]
     },
     "execution_count": 21,
     "metadata": {},
     "output_type": "execute_result"
    }
   ],
   "source": [
    "export_dir = os.path.join('trained_models','dnn_models')\n",
    "trained_dnn_model.export_savedmodel(\n",
    "                                export_dir_base = export_dir,\n",
    "                                serving_input_receiver_fn = serving_input_receiver_fn)"
   ]
  }
 ],
 "metadata": {
  "kernelspec": {
   "display_name": "Python 3",
   "language": "python",
   "name": "python3"
  },
  "language_info": {
   "codemirror_mode": {
    "name": "ipython",
    "version": 3
   },
   "file_extension": ".py",
   "mimetype": "text/x-python",
   "name": "python",
   "nbconvert_exporter": "python",
   "pygments_lexer": "ipython3",
   "version": "3.7.3"
  },
  "notify_time": "30",
  "toc": {
   "base_numbering": 1,
   "nav_menu": {},
   "number_sections": true,
   "sideBar": true,
   "skip_h1_title": false,
   "title_cell": "Table of Contents",
   "title_sidebar": "Contents",
   "toc_cell": false,
   "toc_position": {},
   "toc_section_display": true,
   "toc_window_display": false
  }
 },
 "nbformat": 4,
 "nbformat_minor": 2
}
