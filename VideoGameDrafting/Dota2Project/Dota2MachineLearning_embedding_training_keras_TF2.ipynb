{
 "cells": [
  {
   "cell_type": "code",
   "execution_count": 3,
   "metadata": {
    "ExecuteTime": {
     "end_time": "2020-02-28T18:37:26.834036Z",
     "start_time": "2020-02-28T18:37:21.839391Z"
    },
    "scrolled": true
   },
   "outputs": [
    {
     "name": "stdout",
     "output_type": "stream",
     "text": [
      "2.0.0\n"
     ]
    }
   ],
   "source": [
    "import seaborn as sns\n",
    "import pandas as pd\n",
    "import pylab as plt\n",
    "import numpy as np\n",
    "from steam import WebAPI\n",
    "from datetime import datetime\n",
    "import os\n",
    "import glob\n",
    "import json\n",
    "import tensorflow as tf\n",
    "import sys\n",
    "from IPython import display\n",
    "import requests\n",
    "import tensorflow.keras.backend as K\n",
    "from sklearn import decomposition\n",
    "\n",
    "#import logging\n",
    "#logging.getLogger(\"tensorflow\").setLevel(logging.ERROR)\n",
    "\n",
    "#from tensorflow.python.framework.ops import disable_eager_execution\n",
    "#disable_eager_execution()\n",
    "\n",
    "#dont keep api key in github!!!\n",
    "api_file = os.path.join('..','..','..','apikeys','steam_api_key.txt')\n",
    "with open(api_file, 'r') as fin:\n",
    "    api = WebAPI(key=fin.readline())\n",
    "\n",
    "print(tf.__version__)"
   ]
  },
  {
   "cell_type": "code",
   "execution_count": 4,
   "metadata": {
    "ExecuteTime": {
     "end_time": "2020-02-28T18:37:26.840473Z",
     "start_time": "2020-02-28T18:37:26.837010Z"
    }
   },
   "outputs": [],
   "source": [
    "sns.set_style('ticks')"
   ]
  },
  {
   "cell_type": "code",
   "execution_count": 5,
   "metadata": {
    "ExecuteTime": {
     "end_time": "2020-02-28T18:37:27.066625Z",
     "start_time": "2020-02-28T18:37:26.843350Z"
    }
   },
   "outputs": [
    {
     "name": "stdout",
     "output_type": "stream",
     "text": [
      "119\n"
     ]
    }
   ],
   "source": [
    "#declare interface urls\n",
    "#dota2_beta should be used for testing in order to not aggressively make API requests\n",
    "dota2_id = '570'\n",
    "dota2_beta_id = '205790'\n",
    "\n",
    "#get hero_list to construct a vocabulary for prediction\n",
    "hero_list = api.call('IEconDOTA2_'+dota2_id+'.GetHeroes')\n",
    "hero_vocab=[int(hero_id['id']) for hero_id in hero_list['result']['heroes']] \n",
    "print(len(hero_vocab))"
   ]
  },
  {
   "cell_type": "markdown",
   "metadata": {},
   "source": [
    "# Modeling using a TFRecord dataformat"
   ]
  },
  {
   "cell_type": "markdown",
   "metadata": {},
   "source": [
    "## Build TFRecord input pipeline\n",
    "Need separate parse functions for every unique number of targets because we don't want to waste time reading the extra targets if they aren't needed."
   ]
  },
  {
   "cell_type": "code",
   "execution_count": 4,
   "metadata": {
    "ExecuteTime": {
     "end_time": "2020-02-28T07:02:15.768028Z",
     "start_time": "2020-02-28T07:02:15.761117Z"
    },
    "code_folding": [
     1
    ]
   },
   "outputs": [],
   "source": [
    "#function to parse TFRecord for win target and dict features\n",
    "def _parse_function(example_proto):\n",
    "    \"\"\"Extracts features and labels.\n",
    "  \n",
    "    Args:\n",
    "        example_proto: tf.Example protocol (unsure what this is)    \n",
    "      Returns:\n",
    "    A `tuple` `(features, labels)`:\n",
    "      features: A dict of tensors representing the features\n",
    "      labels: A tensor with the corresponding labels.\n",
    "    \"\"\"\n",
    "    features = {\n",
    "        \"radiant_heroes\": tf.io.FixedLenFeature(5, tf.int64), #array of five 8 bit ints for heroes\n",
    "        \"dire_heroes\": tf.io.FixedLenFeature(5, tf.int64), #array of five 8-bit ints for heroes\n",
    "        \"label\": tf.io.FixedLenFeature(1, tf.int64)\n",
    "                }\n",
    "    parsed_features = tf.io.parse_single_example(example_proto, features)\n",
    "    \n",
    "    radiant_heroes = parsed_features['radiant_heroes']\n",
    "    dire_heroes = parsed_features['dire_heroes']\n",
    "    \n",
    "    labels = parsed_features['label']\n",
    "    \n",
    "    #return radiant_heroes,dire_heroes, labels\n",
    "    return {'radiant_heroes':radiant_heroes,'dire_heroes': dire_heroes}, labels"
   ]
  },
  {
   "cell_type": "code",
   "execution_count": 6,
   "metadata": {
    "ExecuteTime": {
     "end_time": "2020-02-28T18:37:27.077999Z",
     "start_time": "2020-02-28T18:37:27.069595Z"
    },
    "code_folding": []
   },
   "outputs": [],
   "source": [
    "#function to parse TFRecord for win target and no dict features\n",
    "def _parse_function_same_side(example_proto):\n",
    "    \"\"\"Extracts features and labels.\n",
    "  \n",
    "    Args:\n",
    "        example_proto: tf.Example protocol (unsure what this is)    \n",
    "      Returns:\n",
    "    A `tuple` `(features, labels)`:\n",
    "      features: A 2D tensor representing the features\n",
    "      labels: A tensor with the corresponding labels.\n",
    "    \"\"\"\n",
    "    features = {\n",
    "        \"same_side_heroes\": tf.io.FixedLenFeature(4, tf.int64), #array of five 64 bit ints for heroes\n",
    "        \"opp_side_heroes\": tf.io.FixedLenFeature(5, tf.int64), #array of five 64-bit ints for heroes\n",
    "        \"label\": tf.io.FixedLenFeature(1, tf.int64)\n",
    "                }\n",
    "    \n",
    "    parsed_features = tf.io.parse_single_example(example_proto, features)\n",
    "    \n",
    "    same_side_heroes = parsed_features['same_side_heroes']\n",
    "    opp_side_heroes = parsed_features['opp_side_heroes']\n",
    "    \n",
    "    labels = tf.one_hot(parsed_features['label'],depth=len(hero_vocab))\n",
    "    return same_side_heroes, labels"
   ]
  },
  {
   "cell_type": "markdown",
   "metadata": {},
   "source": [
    "#### Check the parse function worked"
   ]
  },
  {
   "cell_type": "code",
   "execution_count": 7,
   "metadata": {
    "ExecuteTime": {
     "end_time": "2020-02-28T18:37:28.965736Z",
     "start_time": "2020-02-28T18:37:28.591988Z"
    },
    "scrolled": true
   },
   "outputs": [],
   "source": [
    "# Create the Dataset object.\n",
    "ds = tf.data.TFRecordDataset(os.path.join('Dota_data',\n",
    "                                          'mixed_skill',\n",
    "                                          'dota2_training_data',\n",
    "                                          'embedding_dota2_training_data.tfrecords'),\n",
    "                             compression_type=\"GZIP\")\n",
    "# Map features and labels with the parse function.\n",
    "ds = ds.map(_parse_function_same_side)"
   ]
  },
  {
   "cell_type": "code",
   "execution_count": 8,
   "metadata": {
    "ExecuteTime": {
     "end_time": "2020-02-28T18:37:28.983988Z",
     "start_time": "2020-02-28T18:37:28.968041Z"
    }
   },
   "outputs": [
    {
     "name": "stdout",
     "output_type": "stream",
     "text": [
      "(<tf.Tensor: id=37, shape=(4,), dtype=int64, numpy=array([60, 17,  4,  7])>, <tf.Tensor: id=38, shape=(1, 119), dtype=float32, numpy=\n",
      "array([[0., 0., 0., 0., 0., 0., 0., 0., 0., 0., 0., 0., 0., 0., 0., 0.,\n",
      "        0., 0., 0., 0., 0., 0., 0., 0., 0., 0., 0., 0., 0., 0., 0., 0.,\n",
      "        0., 0., 0., 0., 0., 0., 0., 0., 0., 0., 0., 0., 0., 0., 0., 0.,\n",
      "        0., 0., 0., 0., 0., 0., 0., 0., 0., 0., 0., 0., 0., 0., 0., 0.,\n",
      "        0., 0., 0., 0., 0., 0., 0., 0., 0., 0., 0., 1., 0., 0., 0., 0.,\n",
      "        0., 0., 0., 0., 0., 0., 0., 0., 0., 0., 0., 0., 0., 0., 0., 0.,\n",
      "        0., 0., 0., 0., 0., 0., 0., 0., 0., 0., 0., 0., 0., 0., 0., 0.,\n",
      "        0., 0., 0., 0., 0., 0., 0.]], dtype=float32)>)\n"
     ]
    }
   ],
   "source": [
    "ds = ds.shuffle(10)\n",
    "print(tf.data.experimental.get_single_element(ds.take(1)))"
   ]
  },
  {
   "cell_type": "markdown",
   "metadata": {},
   "source": [
    "## Input Functions"
   ]
  },
  {
   "cell_type": "code",
   "execution_count": 9,
   "metadata": {
    "ExecuteTime": {
     "end_time": "2020-02-28T18:37:31.912095Z",
     "start_time": "2020-02-28T18:37:31.903233Z"
    },
    "code_folding": []
   },
   "outputs": [],
   "source": [
    "# Create an input_fn that parses the tf.Examples from the given files,\n",
    "# and split them into features and targets.\n",
    "# This input_fn call the parse_fn that return an array(not dict) of targets\n",
    "# Call parse function to return only same_side heroes (not the opposing side)\n",
    "def _input_fn_same_side(input_filenames, num_epochs=None, \n",
    "              shuffle=True, batch_size=50,compression_type=\"\"):\n",
    "   \n",
    "   # Same code as above; create a dataset and map features and labels.\n",
    "    ds = tf.data.TFRecordDataset(input_filenames,compression_type=compression_type)\n",
    "    ds = ds.map(_parse_function_same_side)\n",
    "    \n",
    "    #only shuffle if shuffle flag\n",
    "    if shuffle:\n",
    "        ds = ds.shuffle(10000)\n",
    "    \n",
    "    #take only dataset of length batch_size\n",
    "    ds = ds.batch(batch_size)\n",
    "    \n",
    "    #make sure you can repeatedly take datasets from the TFRecord\n",
    "    ds = ds.repeat()\n",
    "    \n",
    "    # Return the dataset.\n",
    "    return ds"
   ]
  },
  {
   "cell_type": "code",
   "execution_count": null,
   "metadata": {
    "ExecuteTime": {
     "end_time": "2020-02-28T07:02:16.622822Z",
     "start_time": "2020-02-28T07:02:10.736Z"
    },
    "code_folding": [
     3
    ]
   },
   "outputs": [],
   "source": [
    "# Create an input_fn that parses the tf.Examples from the given files,\n",
    "#     and split them into features and targets. \n",
    "# Calls parse function that returns a dict of labels for feature column input\n",
    "def _input_fn(input_filenames, num_epochs=None, \n",
    "              shuffle=True, batch_size=50,compression_type=\"\"):\n",
    "   \n",
    "  # Same code as above; create a dataset and map features and labels.\n",
    "    ds = tf.data.TFRecordDataset(input_filenames,compression_type=compression_type)\n",
    "    ds = ds.map(_parse_function)\n",
    "\n",
    "    if shuffle:\n",
    "        ds = ds.shuffle(10000)\n",
    "    ds = ds.batch(batch_size)\n",
    "    ds = ds.repeat()\n",
    "    # Return the dataset.\n",
    "    return ds"
   ]
  },
  {
   "cell_type": "markdown",
   "metadata": {},
   "source": [
    "## Define and train the embedding "
   ]
  },
  {
   "cell_type": "code",
   "execution_count": 10,
   "metadata": {
    "ExecuteTime": {
     "end_time": "2020-02-28T18:37:34.844474Z",
     "start_time": "2020-02-28T18:37:34.824659Z"
    },
    "code_folding": []
   },
   "outputs": [],
   "source": [
    "#define the embedding model for same side heroes\n",
    "def train_embedding_same_side_only(optimizer, \n",
    "                                          vocab_len, \n",
    "                                          embedding_dims,\n",
    "                                          batch_size,\n",
    "                                          epochs,\n",
    "                                          training_path,\n",
    "                                          validation_path,\n",
    "                                          compression_type='',\n",
    "                                          temp_log_flag=True):\n",
    "    '''Function to define simple keras bag of words model\n",
    "    \n",
    "    Args: \n",
    "        optimizer: A `tf.keras.optimizer` object to use for the model\n",
    "        vocab_len: An `int` specifying the number of category of the categorical input\n",
    "        embedding_dims: An `int` specifying the number of dimensions in the embedding layer\n",
    "    Returns:\n",
    "        history: A `tf.keras.history` object that has loss and other metrics\n",
    "    '''\n",
    "    \n",
    "    #specify input layer\n",
    "    same_side_heroes = tf.keras.Input(shape=(4,),name='same_side_heroes')\n",
    "\n",
    "    #Put input through an embedding layer.\n",
    "    x = tf.keras.layers.Embedding(input_dim=vocab_len,\n",
    "                                  output_dim=embedding_dims)(same_side_heroes)\n",
    "\n",
    "    # Adds a pooling layer with to get average team vector:\n",
    "    x = tf.keras.layers.AveragePooling1D(pool_size=3)(x)\n",
    "    \n",
    "    #Adds output layer with sigmoid activation for binary prediction\n",
    "    win_predict = tf.keras.layers.Dense(vocab_len,activation='softmax')(x)\n",
    "    \n",
    "    model = tf.keras.Model(inputs=same_side_heroes,\n",
    "                           outputs=win_predict,name=\"linear_classifier\")\n",
    "\n",
    "    model.compile(optimizer = optimizer,\n",
    "                  loss = 'categorical_crossentropy',\n",
    "                  metrics = ['accuracy'])\n",
    "    \n",
    "    #get embedding weights for returning and saving\n",
    "    embedding_weights = model.layers[1].get_weights()[0]\n",
    "    \n",
    "    #get datasets from tfrecords and according to input_fn\n",
    "    train_ds = _input_fn_same_side(training_path,\n",
    "                                       batch_size=batch_size,\n",
    "                                       compression_type=compression_type)\n",
    "\n",
    "    validation_ds= _input_fn_same_side(validation_path,\n",
    "                                   batch_size=batch_size,\n",
    "                                   compression_type=compression_type)\n",
    "\n",
    "    #allow logging in temp directory or directory to be included in git\n",
    "    #  useful if tuning hyperparams or testing\n",
    "    if temp_log_flag==True:\n",
    "        logdir = os.path.join('..','..','..','tmp_log_dir',\n",
    "                          datetime.now().strftime(\"%Y%m%d-%H%M%S\"))\n",
    "    else:\n",
    "        logdir = os.path.join('log_dir',\n",
    "                          datetime.now().strftime(\"%Y%m%d-%H%M%S\"))\n",
    "        \n",
    "    tensorboard_callback = tf.keras.callbacks.TensorBoard(log_dir=logdir)\n",
    "    steps_per_epoch=10\n",
    "\n",
    "    history = model.fit(train_ds, \n",
    "                        epochs = epochs,\n",
    "                        steps_per_epoch=steps_per_epoch,\n",
    "                        validation_steps=steps_per_epoch,\n",
    "                        verbose=0,\n",
    "                        validation_data=validation_ds,\n",
    "                        callbacks=[tensorboard_callback]\n",
    "                       )\n",
    "    \n",
    "    #save trained model. This can be used to retrain, predict, \n",
    "    #  or reloaded as a keras model to do more model things.\n",
    "    #Use TF `SavedModel` format so that it can be used in serving\n",
    "    model.save(os.path.join(logdir,'saved_model'),\n",
    "                      save_format='tf')\n",
    "    \n",
    "    #save params for this training to a json in the logdir\n",
    "    hyper = optimizer._hyper\n",
    "    hyper_dict={}\n",
    "    for key,value in hyper.items():\n",
    "        hyper_dict[key]=value.numpy().item()\n",
    "    training_params = dict({'model_type':'embedding_same_side',\n",
    "                            'steps':steps_per_epoch*epochs,\n",
    "                            'embedding_dims':embedding_dims,\n",
    "                            'optimizer':optimizer._name,\n",
    "                            'hyper_parameters':hyper_dict})\n",
    "    with open(os.path.join(logdir,'training_params.json'),'w') as fp:\n",
    "        json.dump(training_params,fp)\n",
    "    \n",
    "    #save embedding in numpy format for later use\n",
    "    #  no hero_vocab, but that should be ok\n",
    "    np.save(os.path.join(logdir,'embedding.npy'),embedding_weights)\n",
    "    \n",
    "    #plot accuracy\n",
    "    fig,ax = plt.subplots(1,1,figsize=(1.6*3,3))\n",
    "    plt.plot(history.history['accuracy'])\n",
    "    plt.xlabel('epochs (10 steps per)')\n",
    "    plt.ylabel('accuracy')\n",
    "    plt.show()\n",
    "    \n",
    "    return history, model"
   ]
  },
  {
   "cell_type": "code",
   "execution_count": null,
   "metadata": {
    "ExecuteTime": {
     "end_time": "2020-02-28T07:02:16.626188Z",
     "start_time": "2020-02-28T07:02:10.743Z"
    },
    "code_folding": [
     1
    ]
   },
   "outputs": [],
   "source": [
    "#define the embedding for both side training\n",
    "def train_embedding_both_sides(optimizer, \n",
    "                                          vocab_len, \n",
    "                                          embedding_dims,\n",
    "                                          batch_size,\n",
    "                                          epochs,\n",
    "                                          training_path,\n",
    "                                          validation_path,\n",
    "                                          compression_type='',\n",
    "                                          temp_log_flag=True):\n",
    "    '''Function to define simple keras bag of words model\n",
    "    \n",
    "    Args: \n",
    "        optimizer: A `tf.keras.optimizer` object to use for the model\n",
    "        vocab_len: An `int` specifying the number of category of the categorical input\n",
    "        embedding_dims: An `int` specifying the number of dimensions in the embedding layer\n",
    "    Returns:\n",
    "        history: A `tf.keras.history` object that has loss and other metrics\n",
    "    '''\n",
    "    \n",
    "    #specify input layer for same side heroes\n",
    "    same_side_heroes = tf.keras.Input(shape=(4,),name='same_side_heroes')\n",
    "\n",
    "    #Put same_side input through an embedding layer.\n",
    "    same_embed = tf.keras.layers.Embedding(input_dim=vocab_len,\n",
    "                                  output_dim=embedding_dims)(same_side_heroes)\n",
    "    \n",
    "    #specify input layer for opp side heroes\n",
    "    opp_side_heroes = tf.keras.Input(shape=(5,),name='same_side_heroes')\n",
    "    \n",
    "    #put opp_side input through different embedding\n",
    "    opp_embed = tf.keras.layers.Embedding(input_dim=vocab_len,\n",
    "                                          output_dim=embedding_dims)(opp_side_heroes)\n",
    "    \n",
    "    x = \n",
    "    #put same_side input through an embedding_layer.\n",
    "    #Adds output layer with sigmoid activation for binary prediction\n",
    "    win_predict = tf.keras.layers.Dense(vocab_len,activation='softmax')(x)\n",
    "    \n",
    "    model = tf.keras.Model(inputs=all_heroes,\n",
    "                           outputs=win_predict,name=\"linear_classifier\")\n",
    "    \n",
    "    model.compile(optimizer = optimizer,\n",
    "                  loss = 'categorical_crossentropy',\n",
    "                  metrics = ['accuracy'])\n",
    "    \n",
    "    #get embedding weights for returning and saving\n",
    "    embedding_weights = model.layers[1].get_weights()[0]\n",
    "    \n",
    "    #get datasets from tfrecords and according to input_fn\n",
    "    train_ds = _input_fn_single_example(training_path,\n",
    "                                       batch_size=batch_size,\n",
    "                                       compression_type=compression_type)\n",
    "\n",
    "    validation_ds= _input_fn_single_example(validation_path,\n",
    "                                   batch_size=batch_size,\n",
    "                                   compression_type=compression_type)\n",
    "\n",
    "    #allow logging in temp directory or directory to be included in git\n",
    "    #  useful if tuning hyperparams or testing\n",
    "    if temp_log_flag==True:\n",
    "        logdir = os.path.join('..','..','..','tmp_log_dir',\n",
    "                          datetime.now().strftime(\"%Y%m%d-%H%M%S\"))\n",
    "    else:\n",
    "        logdir = os.path.join('log_dir',\n",
    "                          datetime.now().strftime(\"%Y%m%d-%H%M%S\"))\n",
    "        \n",
    "    tensorboard_callback = tf.keras.callbacks.TensorBoard(log_dir=logdir)\n",
    "    steps_per_epoch=10\n",
    "    history = model.fit(train_ds, \n",
    "                        epochs = epochs,\n",
    "                        steps_per_epoch=steps_per_epoch,\n",
    "                        validation_steps=steps_per_epoch,\n",
    "                        verbose=0,\n",
    "                        validation_data=validation_ds,\n",
    "                        callbacks=[tensorboard_callback]\n",
    "                       )\n",
    "    \n",
    "    #save trained model. This can be used to retrain, predict, \n",
    "    #  or reloaded as a keras model to do more model things.\n",
    "    #Use TF `SavedModel` format so that it can be used in serving\n",
    "    model.save(os.path.join(logdir,'saved_model'),\n",
    "                      save_format='tf')\n",
    "    \n",
    "    #save params for this training to a json in the logdir\n",
    "    hyper = optimizer._hyper\n",
    "    hyper_dict={}\n",
    "    for key,value in hyper.items():\n",
    "        hyper_dict[key]=value.numpy().item()\n",
    "    training_params = dict({'model_type':'embedding',\n",
    "                            'steps':steps_per_epoch*epochs,\n",
    "                            'embedding_dims':embedding_dims,\n",
    "                            'optimizer':optimizer._name,\n",
    "                            'hyper_parameters':hyper_dict})\n",
    "    with open(os.path.join(logdir,'training_params.json'),'w') as fp:\n",
    "        json.dump(training_params,fp)\n",
    "    \n",
    "    #save embedding in numpy format for later use\n",
    "    #  no hero_vocab, but that should be ok\n",
    "    np.save(os.path.join(logdir,'embedding.npy'),embedding_weights)\n",
    "    \n",
    "    #plot accuracy\n",
    "    fig,ax = plt.subplots(1,1,figsize=(1.6*3,3))\n",
    "    plt.plot(history.history['accuracy'])\n",
    "    plt.xlabel('epochs (10 steps per)')\n",
    "    plt.ylabel('accuracy')\n",
    "    plt.show()\n",
    "    \n",
    "    return history, model"
   ]
  },
  {
   "cell_type": "markdown",
   "metadata": {},
   "source": [
    "### train embedding"
   ]
  },
  {
   "cell_type": "code",
   "execution_count": 12,
   "metadata": {
    "ExecuteTime": {
     "end_time": "2020-02-28T18:37:52.114518Z",
     "start_time": "2020-02-28T18:37:52.110416Z"
    }
   },
   "outputs": [],
   "source": [
    "training_file_embedding = os.path.join('Dota_data',\n",
    "                             'mixed_skill',\n",
    "                             'dota2_training_data',\n",
    "                             'embedding_dota2_training_data.tfrecords')\n",
    "validation_file_embedding = os.path.join('Dota_data',\n",
    "                             'mixed_skill',\n",
    "                             'dota2_validation_data',\n",
    "                             'embedding_dota2_validation_data.tfrecords')"
   ]
  },
  {
   "cell_type": "code",
   "execution_count": 43,
   "metadata": {
    "ExecuteTime": {
     "end_time": "2020-02-28T19:43:04.126949Z",
     "start_time": "2020-02-28T19:36:19.147840Z"
    }
   },
   "outputs": [
    {
     "name": "stdout",
     "output_type": "stream",
     "text": [
      "INFO:tensorflow:Assets written to: ../../../tmp_log_dir/20200228-113619/saved_model/assets\n"
     ]
    },
    {
     "data": {
      "image/png": "[encoded data removed]",
      "text/plain": [
       "<Figure size 345.6x216 with 1 Axes>"
      ]
     },
     "metadata": {},
     "output_type": "display_data"
    }
   ],
   "source": [
    "optimizer = tf.keras.optimizers.Adam(learning_rate=0.002)\n",
    "history, model = train_embedding_same_side_only(\n",
    "            optimizer,\n",
    "            vocab_len=len(hero_vocab),\n",
    "            embedding_dims=10,\n",
    "            batch_size=500, \n",
    "            epochs=300, \n",
    "            training_path=training_file_embedding, \n",
    "            validation_path=validation_file_embedding,\n",
    "            compression_type='GZIP')"
   ]
  },
  {
   "cell_type": "markdown",
   "metadata": {
    "heading_collapsed": true
   },
   "source": [
    "#### Test set eval\n",
    "only evaluate after finished tuning hyperparams!\n",
    "TODO: use argmax and onehot encoding to convert probs to preds"
   ]
  },
  {
   "cell_type": "code",
   "execution_count": null,
   "metadata": {
    "ExecuteTime": {
     "end_time": "2020-02-28T18:18:15.427190Z",
     "start_time": "2020-02-28T18:18:15.316989Z"
    },
    "code_folding": [],
    "hidden": true,
    "scrolled": true
   },
   "outputs": [],
   "source": [
    "#TODO: use argmax and onehot encoding to convert\n",
    "#    probability to  prediction\n",
    "#specify test file and load dataset\n",
    "\n",
    "test_file_novocab = os.path.join('Dota_data',\n",
    "                             'mixed_skill',\n",
    "                             'dota2_test_data',\n",
    "                             'embedding_dota2_test_data.tfrecords')\n",
    "\n",
    "#make sure batch is big to reduce noise\n",
    "batch=10000\n",
    "test_ds = _input_fn_same_side(test_file_novocab,\n",
    "                                    batch_size=batch,\n",
    "                                    compression_type='GZIP')\n",
    "#unpack into array of x and y (data and labels)\n",
    "x, y_true = tf.data.experimental.get_single_element(test_ds.take(1))\n",
    "y_true = y_true.numpy()[:,0] #reshape to be 1D array\n",
    "\n",
    "#make predictions\n",
    "y_probs = model.predict(x)[:,0]\n",
    "\n",
    "#convert probabilities to predicted values\n",
    "#TODO\n",
    "\n",
    "#print('Accuracy: %0.3f ' % (1-np.average(np.logical_xor(y_true,y_pred))))"
   ]
  },
  {
   "cell_type": "markdown",
   "metadata": {},
   "source": [
    "# Demo of use case: suggesting a 10th character given 9"
   ]
  },
  {
   "cell_type": "code",
   "execution_count": 14,
   "metadata": {
    "ExecuteTime": {
     "end_time": "2020-02-28T18:46:28.066466Z",
     "start_time": "2020-02-28T18:46:28.041070Z"
    }
   },
   "outputs": [],
   "source": [
    "#import win preds and teams from win pred model\n",
    "tenth_pick_preds_df = pd.read_csv(os.path.join('..','..','..','tmp','team_preds','preds.csv'))\n",
    "tenth_pick_preds = list(tenth_pick_preds_df['preds'])\n",
    "teams_df = pd.read_csv(os.path.join('..','..','..','tmp','team_preds','teams.csv'))\n",
    "teams = [list(teams_df['1']),list(teams_df['0'])]"
   ]
  },
  {
   "cell_type": "code",
   "execution_count": 46,
   "metadata": {
    "ExecuteTime": {
     "end_time": "2020-02-28T19:52:46.019695Z",
     "start_time": "2020-02-28T19:52:45.748116Z"
    }
   },
   "outputs": [
    {
     "data": {
      "image/png": "[encoded data removed]",
      "text/plain": [
       "<Figure size 432x288 with 1 Axes>"
      ]
     },
     "metadata": {},
     "output_type": "display_data"
    }
   ],
   "source": [
    "hero_preds = model.predict([teams[0][:4]])\n",
    "hero_pred_df = pd.DataFrame({'hero_preds':np.ravel(hero_preds)})\n",
    "sns.distplot(hero_preds,bins=20)\n",
    "plt.xlabel('probability')\n",
    "plt.ylabel('counts')\n",
    "plt.title('Dist of hero_pred probabilities')\n",
    "plt.show()"
   ]
  },
  {
   "cell_type": "code",
   "execution_count": 47,
   "metadata": {
    "ExecuteTime": {
     "end_time": "2020-02-28T19:53:53.716700Z",
     "start_time": "2020-02-28T19:53:53.561712Z"
    }
   },
   "outputs": [
    {
     "data": {
      "image/png": "[encoded data removed]",
      "text/plain": [
       "<Figure size 432x288 with 1 Axes>"
      ]
     },
     "metadata": {},
     "output_type": "display_data"
    }
   ],
   "source": [
    "sns.set_context('talk')\n",
    "#predicted win times hero_preds gives a hero to pick that\n",
    "#   optimizes win probability while also making sure the \n",
    "#   hero choice reflects drafts that are found in real matches\n",
    "plt.plot(np.ravel(hero_preds*(tenth_pick_preds-np.average(tenth_pick_preds)))[:-4],'.')\n",
    "plt.plot(np.ravel(hero_preds*(tenth_pick_preds-np.average(tenth_pick_preds)))[teams[0][4]],'*',markersize=15)\n",
    "\n",
    "plt.xlabel('hero by index')\n",
    "plt.ylabel('product of win and hero pred')\n",
    "plt.show()"
   ]
  },
  {
   "cell_type": "code",
   "execution_count": null,
   "metadata": {},
   "outputs": [],
   "source": []
  }
 ],
 "metadata": {
  "kernelspec": {
   "display_name": "Python 3",
   "language": "python",
   "name": "python3"
  },
  "language_info": {
   "codemirror_mode": {
    "name": "ipython",
    "version": 3
   },
   "file_extension": ".py",
   "mimetype": "text/x-python",
   "name": "python",
   "nbconvert_exporter": "python",
   "pygments_lexer": "ipython3",
   "version": "3.7.3"
  },
  "notify_time": "30",
  "toc": {
   "base_numbering": 1,
   "nav_menu": {},
   "number_sections": true,
   "sideBar": true,
   "skip_h1_title": false,
   "title_cell": "Table of Contents",
   "title_sidebar": "Contents",
   "toc_cell": false,
   "toc_position": {},
   "toc_section_display": true,
   "toc_window_display": false
  }
 },
 "nbformat": 4,
 "nbformat_minor": 2
}
