{
 "cells": [
  {
   "cell_type": "code",
   "execution_count": 40,
   "metadata": {},
   "outputs": [],
   "source": [
    "from sqlalchemy import create_engine\n",
    "import pandas as pd\n",
    "import glob\n",
    "import os"
   ]
  },
  {
   "cell_type": "code",
   "execution_count": 41,
   "metadata": {},
   "outputs": [],
   "source": [
    "engine = create_engine('sqlite:///Dota_data/mixed_skill/dota_data.db')"
   ]
  },
  {
   "cell_type": "code",
   "execution_count": 35,
   "metadata": {},
   "outputs": [
    {
     "name": "stdout",
     "output_type": "stream",
     "text": [
      "['Unnamed: 0', 'radiant_win', 'radiant_xp', 'dire_xp', 'radiant_gold', 'dire_gold', 'radiant_kills', 'dire_kills', 'radiant_healing', 'dire_healing', 'radiant_towerdamage', 'dire_towerdamage', 'duration', 'negative_votes', 'positive_votes', 'match_id', 'radiant_heroes0', 'dire_heroes0', 'radiant_heroes1', 'dire_heroes1', 'radiant_heroes2', 'dire_heroes2', 'radiant_heroes3', 'dire_heroes3', 'radiant_heroes4', 'dire_heroes4']\n",
      "['radiant_win', 'radiant_xp', 'dire_xp', 'radiant_gold', 'dire_gold', 'radiant_kills', 'dire_kills', 'radiant_towerdamage', 'dire_towerdamage', 'match_id', 'radiant_heroes0', 'dire_heroes0', 'radiant_heroes1', 'dire_heroes1', 'radiant_heroes2', 'dire_heroes2', 'radiant_heroes3', 'dire_heroes3', 'radiant_heroes4', 'dire_heroes4']\n"
     ]
    }
   ],
   "source": [
    "path = glob.glob(os.path.join('Dota_data','mixed_skill','*.csv'))\n",
    "dataDF = pd.read_csv(path[0])\n",
    "print(list(dataDF))\n",
    "del dataDF['Unnamed: 0'], dataDF['duration'], dataDF['negative_votes'], dataDF['positive_votes'], \\\n",
    "        dataDF['radiant_healing'], dataDF['dire_healing']\n",
    "print(list(dataDF))"
   ]
  },
  {
   "cell_type": "code",
   "execution_count": 52,
   "metadata": {},
   "outputs": [],
   "source": [
    "dataDF.to_sql('dota_data', con=engine)"
   ]
  },
  {
   "cell_type": "code",
   "execution_count": 64,
   "metadata": {},
   "outputs": [
    {
     "data": {
      "text/plain": [
       "[(112, 36.37000737294384, 87, 22.6922050186866, 157332)]"
      ]
     },
     "execution_count": 64,
     "metadata": {},
     "output_type": "execute_result"
    }
   ],
   "source": [
    "engine.execute(\"SELECT MAX(radiant_kills), AVG(radiant_kills), MAX(dire_kills), AVG(dire_kills), COUNT(*) FROM dota_data WHERE radiant_win = 1\").fetchall()"
   ]
  },
  {
   "cell_type": "code",
   "execution_count": 65,
   "metadata": {},
   "outputs": [
    {
     "data": {
      "text/plain": [
       "[(89, 23.776859567663973, 164, 38.50159127948095, 130084)]"
      ]
     },
     "execution_count": 65,
     "metadata": {},
     "output_type": "execute_result"
    }
   ],
   "source": [
    "engine.execute(\"SELECT MAX(radiant_kills), AVG(radiant_kills), MAX(dire_kills), AVG(dire_kills), COUNT(*) FROM dota_data WHERE radiant_win = 0\").fetchall()"
   ]
  }
 ],
 "metadata": {
  "kernelspec": {
   "display_name": "Python 3",
   "language": "python",
   "name": "python3"
  },
  "language_info": {
   "codemirror_mode": {
    "name": "ipython",
    "version": 3
   },
   "file_extension": ".py",
   "mimetype": "text/x-python",
   "name": "python",
   "nbconvert_exporter": "python",
   "pygments_lexer": "ipython3",
   "version": "3.7.3"
  },
  "toc": {
   "base_numbering": 1,
   "nav_menu": {},
   "number_sections": true,
   "sideBar": true,
   "skip_h1_title": false,
   "title_cell": "Table of Contents",
   "title_sidebar": "Contents",
   "toc_cell": false,
   "toc_position": {},
   "toc_section_display": true,
   "toc_window_display": false
  }
 },
 "nbformat": 4,
 "nbformat_minor": 2
}
