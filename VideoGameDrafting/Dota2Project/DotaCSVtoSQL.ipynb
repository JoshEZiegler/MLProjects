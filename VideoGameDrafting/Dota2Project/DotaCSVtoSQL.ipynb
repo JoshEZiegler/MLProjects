{
 "cells": [
  {
   "cell_type": "code",
   "execution_count": 34,
   "metadata": {
    "ExecuteTime": {
     "end_time": "2019-11-11T23:07:57.751651Z",
     "start_time": "2019-11-11T23:07:57.723292Z"
    }
   },
   "outputs": [],
   "source": [
    "import sqlite3\n",
    "import pandas as pd\n",
    "from glob import glob\n",
    "from os.path import join"
   ]
  },
  {
   "cell_type": "code",
   "execution_count": 31,
   "metadata": {
    "ExecuteTime": {
     "end_time": "2019-11-11T22:37:14.588586Z",
     "start_time": "2019-11-11T22:37:14.584545Z"
    }
   },
   "outputs": [],
   "source": [
    "conn = sqlite3.connect(join('Dota_data','mixed_skill','dota_data.db'))"
   ]
  },
  {
   "cell_type": "code",
   "execution_count": 135,
   "metadata": {
    "ExecuteTime": {
     "end_time": "2019-11-12T23:40:01.414585Z",
     "start_time": "2019-11-12T23:40:01.265571Z"
    }
   },
   "outputs": [],
   "source": [
    "conn.close()"
   ]
  },
  {
   "cell_type": "code",
   "execution_count": 35,
   "metadata": {
    "ExecuteTime": {
     "end_time": "2019-11-11T23:08:04.460966Z",
     "start_time": "2019-11-11T23:08:02.658544Z"
    }
   },
   "outputs": [
    {
     "name": "stdout",
     "output_type": "stream",
     "text": [
      "Dota_data/mixed_skill/20191111API_4725403110-4781085451.csv\n",
      "['Unnamed: 0', 'match_id', 'start_time', 'duration', 'game_mode', 'lobby_type', 'radiant_win', 'radiant_kills', 'dire_kills', 'radiant_gold', 'dire_gold', 'radiant_xp', 'dire_xp', 'radiant_tower_status', 'dire_tower_status', 'first_blood_time', 'radiant_hero0', 'dire_hero0', 'radiant_hero1', 'dire_hero1', 'radiant_hero2', 'dire_hero2', 'radiant_hero3', 'dire_hero3', 'radiant_hero4', 'dire_hero4', 'skill_level']\n",
      "['match_id', 'start_time', 'duration', 'game_mode', 'lobby_type', 'radiant_win', 'radiant_kills', 'dire_kills', 'radiant_gold', 'dire_gold', 'radiant_xp', 'dire_xp', 'first_blood_time', 'radiant_hero0', 'dire_hero0', 'radiant_hero1', 'dire_hero1', 'radiant_hero2', 'dire_hero2', 'radiant_hero3', 'dire_hero3', 'radiant_hero4', 'dire_hero4', 'skill_level']\n"
     ]
    }
   ],
   "source": [
    "path = glob(join('Dota_data','mixed_skill','*.csv'))\n",
    "print(path[1])\n",
    "dataDF = pd.read_csv(path[1])\n",
    "print(list(dataDF))\n",
    "del dataDF['Unnamed: 0'], dataDF['dire_tower_status'], dataDF['radiant_tower_status']\n",
    "print(list(dataDF))"
   ]
  },
  {
   "cell_type": "code",
   "execution_count": 27,
   "metadata": {
    "ExecuteTime": {
     "end_time": "2019-11-11T22:13:27.607117Z",
     "start_time": "2019-11-11T22:13:22.904740Z"
    }
   },
   "outputs": [],
   "source": [
    "dataDF.to_sql('dota_data', con=conn, if_exists='replace')"
   ]
  },
  {
   "cell_type": "code",
   "execution_count": 43,
   "metadata": {
    "ExecuteTime": {
     "end_time": "2019-11-11T23:16:37.344150Z",
     "start_time": "2019-11-11T23:16:37.335468Z"
    }
   },
   "outputs": [],
   "source": [
    "conn.enable_load_extension(True)\n",
    "conn.load_extension('libsqlitefunctions')"
   ]
  },
  {
   "cell_type": "code",
   "execution_count": 128,
   "metadata": {
    "ExecuteTime": {
     "end_time": "2019-11-12T21:30:58.532834Z",
     "start_time": "2019-11-12T21:30:58.527446Z"
    }
   },
   "outputs": [
    {
     "data": {
      "text/plain": [
       "<sqlite3.Cursor at 0x116d56260>"
      ]
     },
     "execution_count": 128,
     "metadata": {},
     "output_type": "execute_result"
    }
   ],
   "source": [
    "c.execute('DROP TABLE dota_stats')\n",
    "c.execute('CREATE TABLE dota_stats(condition,col_name,avg,stdev,max,min)')"
   ]
  },
  {
   "cell_type": "code",
   "execution_count": 129,
   "metadata": {
    "ExecuteTime": {
     "end_time": "2019-11-12T21:30:59.750402Z",
     "start_time": "2019-11-12T21:30:58.703763Z"
    }
   },
   "outputs": [
    {
     "data": {
      "text/plain": [
       "[]"
      ]
     },
     "execution_count": 129,
     "metadata": {},
     "output_type": "execute_result"
    }
   ],
   "source": [
    "c = conn.cursor()\n",
    "\n",
    "#get stats of various params in games where radiant won\n",
    "#  and put them into dota_stats database\n",
    "#Use list(df) to get column names, but if not in SQLite \n",
    "#  it would be easy to do this from schema?\n",
    "for column in list(dataDF)[:-11]:\n",
    "    #if column=='match_id' or column=='game_mode' or column=='lobby_type':\n",
    "    #    continue\n",
    "    c.execute(\"INSERT INTO dota_stats(condition,col_name,avg,stdev,max,min)\\\n",
    "                SELECT 'radiant_win', ? , \\\n",
    "                AVG({cn}), STDEV({cn}), \\\n",
    "                MAX({cn}), MIN({cn}) \\\n",
    "                FROM dota_data WHERE radiant_win=1\".format(cn=column),\n",
    "                [column])\n",
    "c.fetchall()"
   ]
  },
  {
   "cell_type": "code",
   "execution_count": 130,
   "metadata": {
    "ExecuteTime": {
     "end_time": "2019-11-12T21:30:59.802522Z",
     "start_time": "2019-11-12T21:30:59.797737Z"
    }
   },
   "outputs": [],
   "source": [
    "dota_stats_all = c.execute('SELECT * FROM dota_stats').fetchall()"
   ]
  },
  {
   "cell_type": "code",
   "execution_count": 131,
   "metadata": {
    "ExecuteTime": {
     "end_time": "2019-11-12T21:31:00.035856Z",
     "start_time": "2019-11-12T21:31:00.031193Z"
    }
   },
   "outputs": [
    {
     "data": {
      "text/plain": [
       "13"
      ]
     },
     "execution_count": 131,
     "metadata": {},
     "output_type": "execute_result"
    }
   ],
   "source": [
    "len(dota_stats_all)"
   ]
  },
  {
   "cell_type": "code",
   "execution_count": 132,
   "metadata": {
    "ExecuteTime": {
     "end_time": "2019-11-12T21:31:00.229500Z",
     "start_time": "2019-11-12T21:31:00.223840Z"
    }
   },
   "outputs": [
    {
     "name": "stdout",
     "output_type": "stream",
     "text": [
      "('radiant_win', 'match_id', 4757139026.7257805, 19890617.820782714, 4781085451, 4725403110)\n",
      "('radiant_win', 'start_time', 1558033148.6386366, 579093.2340484913, 1558752238, 1557129842)\n",
      "('radiant_win', 'duration', 1838.5001047559188, 687.1643518040914, 7123, 0)\n",
      "('radiant_win', 'game_mode', 20.41162727209239, 5.627929082668111, 23, 2)\n",
      "('radiant_win', 'lobby_type', 3.5590410706689775, 3.4995130952277393, 7, 0)\n",
      "('radiant_win', 'radiant_win', 1.0, 0.0, 1, 1)\n",
      "('radiant_win', 'radiant_kills', 37.047717908183024, 11.63068060090767, 115, 0)\n",
      "('radiant_win', 'dire_kills', 23.48315334361846, 12.47266827978516, 99, 0)\n",
      "('radiant_win', 'radiant_gold', 90035.30421901876, 30963.60278861686, 444829.06666666665, 0.0)\n",
      "('radiant_win', 'dire_gold', 69107.51261113054, 33367.627254950035, 415574.3999999999, 0.0)\n",
      "('radiant_win', 'radiant_xp', 114937.9343375082, 48830.00261155748, 542318.2666666667, 0.0)\n",
      "('radiant_win', 'dire_xp', 94888.73379457762, 51958.225575698125, 507291.73333333345, 0.0)\n",
      "('radiant_win', 'first_blood_time', 94.20492162352627, 77.90251964563078, 827, 0)\n"
     ]
    }
   ],
   "source": [
    "for row in dota_stats_all:\n",
    "    print(row)"
   ]
  },
  {
   "cell_type": "code",
   "execution_count": 134,
   "metadata": {
    "ExecuteTime": {
     "end_time": "2019-11-12T22:05:31.162611Z",
     "start_time": "2019-11-12T22:05:31.155016Z"
    }
   },
   "outputs": [
    {
     "data": {
      "text/plain": [
       "[('CREATE TABLE \"dota_data\" (\\n\"index\" INTEGER,\\n  \"match_id\" INTEGER,\\n  \"start_time\" INTEGER,\\n  \"duration\" INTEGER,\\n  \"game_mode\" INTEGER,\\n  \"lobby_type\" INTEGER,\\n  \"radiant_win\" INTEGER,\\n  \"radiant_kills\" INTEGER,\\n  \"dire_kills\" INTEGER,\\n  \"radiant_gold\" REAL,\\n  \"dire_gold\" REAL,\\n  \"radiant_xp\" REAL,\\n  \"dire_xp\" REAL,\\n  \"first_blood_time\" INTEGER,\\n  \"radiant_hero0\" INTEGER,\\n  \"dire_hero0\" INTEGER,\\n  \"radiant_hero1\" INTEGER,\\n  \"dire_hero1\" INTEGER,\\n  \"radiant_hero2\" INTEGER,\\n  \"dire_hero2\" INTEGER,\\n  \"radiant_hero3\" INTEGER,\\n  \"dire_hero3\" INTEGER,\\n  \"radiant_hero4\" INTEGER,\\n  \"dire_hero4\" INTEGER,\\n  \"skill_level\" TEXT\\n)',)]"
      ]
     },
     "execution_count": 134,
     "metadata": {},
     "output_type": "execute_result"
    }
   ],
   "source": [
    "c.execute(\"SELECT sql FROM sqlite_master \\\n",
    "            WHERE tbl_name = 'dota_data' AND type = 'table'\")\n",
    "c.fetchall()"
   ]
  },
  {
   "cell_type": "code",
   "execution_count": 45,
   "metadata": {
    "ExecuteTime": {
     "end_time": "2019-11-11T23:18:30.195829Z",
     "start_time": "2019-11-11T23:18:30.105615Z"
    }
   },
   "outputs": [
    {
     "data": {
      "text/plain": [
       "[(91,\n",
       "  24.59660774889049,\n",
       "  12.105078932631068,\n",
       "  167,\n",
       "  39.16982754649181,\n",
       "  11.63748604494706,\n",
       "  130238)]"
      ]
     },
     "execution_count": 45,
     "metadata": {},
     "output_type": "execute_result"
    }
   ],
   "source": [
    "c.execute(\"SELECT MAX(radiant_kills),AVG(radiant_kills),\\\n",
    "            STDEV(radiant_kills),MAX(dire_kills), \\\n",
    "            AVG(dire_kills), STDEV(dire_kills), \\\n",
    "            COUNT(*) FROM dota_data WHERE radiant_win = 0\").fetchall()"
   ]
  }
 ],
 "metadata": {
  "kernelspec": {
   "display_name": "Python 3",
   "language": "python",
   "name": "python3"
  },
  "language_info": {
   "codemirror_mode": {
    "name": "ipython",
    "version": 3
   },
   "file_extension": ".py",
   "mimetype": "text/x-python",
   "name": "python",
   "nbconvert_exporter": "python",
   "pygments_lexer": "ipython3",
   "version": "3.7.3"
  },
  "toc": {
   "base_numbering": 1,
   "nav_menu": {},
   "number_sections": true,
   "sideBar": true,
   "skip_h1_title": false,
   "title_cell": "Table of Contents",
   "title_sidebar": "Contents",
   "toc_cell": false,
   "toc_position": {},
   "toc_section_display": true,
   "toc_window_display": false
  }
 },
 "nbformat": 4,
 "nbformat_minor": 2
}
