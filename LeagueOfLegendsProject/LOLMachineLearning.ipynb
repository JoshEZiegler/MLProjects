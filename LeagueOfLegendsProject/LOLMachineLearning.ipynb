{
 "cells": [
  {
   "cell_type": "code",
   "execution_count": 1,
   "metadata": {
    "ExecuteTime": {
     "end_time": "2019-01-22T03:22:26.321141Z",
     "start_time": "2019-01-22T03:22:22.780670Z"
    },
    "scrolled": true
   },
   "outputs": [
    {
     "name": "stderr",
     "output_type": "stream",
     "text": [
      "/Users/bailey/anaconda/lib/python3.6/site-packages/h5py/__init__.py:34: FutureWarning: Conversion of the second argument of issubdtype from `float` to `np.floating` is deprecated. In future, it will be treated as `np.float64 == np.dtype(float).type`.\n",
      "  from ._conv import register_converters as _register_converters\n"
     ]
    }
   ],
   "source": [
    "import seaborn as sns\n",
    "import pandas as pd\n",
    "import pylab as plt\n",
    "import numpy as np\n",
    "import os\n",
    "import tensorflow as tf\n",
    "from IPython import display\n",
    "from sklearn import metrics\n",
    "import glob\n",
    "import sys\n",
    "from riotwatcher import RiotWatcher\n",
    "import requests\n",
    "\n",
    "api_file = os.path.join('..','..','apikeys','LOL_api_key.txt')\n",
    "with open(api_file, 'r') as fin:\n",
    "    watcher = RiotWatcher(fin.readline())\n",
    "\n",
    "tf.logging.set_verbosity(tf.logging.ERROR)"
   ]
  },
  {
   "cell_type": "markdown",
   "metadata": {},
   "source": [
    "# Modeling using a TFRecord dataformat"
   ]
  },
  {
   "cell_type": "markdown",
   "metadata": {},
   "source": [
    "## Build TFRecord input pipeline"
   ]
  },
  {
   "cell_type": "code",
   "execution_count": 3,
   "metadata": {
    "ExecuteTime": {
     "end_time": "2018-12-10T02:11:18.763104Z",
     "start_time": "2018-12-10T02:11:18.752745Z"
    },
    "code_folding": [
     0
    ],
    "collapsed": true
   },
   "outputs": [],
   "source": [
    "def _parse_function(record):\n",
    "    \"\"\"Extracts features and labels.\n",
    "  \n",
    "    Args:\n",
    "        record: File path to a TFRecord file    \n",
    "      Returns:\n",
    "    A `tuple` `(labels, features)`:\n",
    "      features: A dict of tensors representing the features\n",
    "      labels: A tensor with the corresponding labels.\n",
    "    \"\"\"\n",
    "    features = {\n",
    "        \"blue_champs\": tf.FixedLenFeature([], dtype=tf.string), #array of five 8 bit ints for heroes\n",
    "        \"red_champs\": tf.FixedLenFeature([], dtype=tf.string), #array of five 8-bit ints for heroes\n",
    "        \"targets\": tf.FixedLenFeature(shape=[1], dtype=tf.int64)\n",
    "                }\n",
    "  \n",
    "    parsed_features = tf.parse_single_example(record, features)\n",
    "  \n",
    "    blue_champs = tf.decode_raw(parsed_features['blue_champs'], tf.int64)\n",
    "    red_champs = tf.decode_raw(parsed_features['red_champs'], tf.int64)\n",
    "    blue_win = parsed_features['targets']\n",
    "\n",
    "    return  {'blue_champs':blue_champs, 'red_champs':red_champs}, blue_win"
   ]
  },
  {
   "cell_type": "markdown",
   "metadata": {
    "heading_collapsed": true
   },
   "source": [
    "#### Check the parse function worked"
   ]
  },
  {
   "cell_type": "code",
   "execution_count": 4,
   "metadata": {
    "ExecuteTime": {
     "end_time": "2018-12-10T02:11:18.817936Z",
     "start_time": "2018-12-10T02:11:18.765502Z"
    },
    "hidden": true
   },
   "outputs": [
    {
     "data": {
      "text/plain": [
       "<MapDataset shapes: ({radiant_heroes: (?,), dire_heroes: (?,)}, (1,)), types: ({radiant_heroes: tf.int64, dire_heroes: tf.int64}, tf.int64)>"
      ]
     },
     "execution_count": 4,
     "metadata": {},
     "output_type": "execute_result"
    }
   ],
   "source": [
    "# Create the Dataset object.\n",
    "ds = tf.data.TFRecordDataset(os.path.join('dota2_training_data','dota2_training_data.tfrecords'))\n",
    "# Map features and labels with the parse function.\n",
    "ds = ds.map(_parse_function)\n",
    "\n",
    "ds"
   ]
  },
  {
   "cell_type": "code",
   "execution_count": 5,
   "metadata": {
    "ExecuteTime": {
     "end_time": "2018-12-10T02:11:18.857109Z",
     "start_time": "2018-12-10T02:11:18.820046Z"
    },
    "hidden": true,
    "scrolled": true
   },
   "outputs": [
    {
     "data": {
      "text/plain": [
       "({'dire_heroes': array([ 96,  95,  50,  26, 121]),\n",
       "  'radiant_heroes': array([14, 87, 28, 59, 54])},\n",
       " array([1]))"
      ]
     },
     "execution_count": 5,
     "metadata": {},
     "output_type": "execute_result"
    }
   ],
   "source": [
    "n = ds.make_one_shot_iterator().get_next()\n",
    "sess = tf.Session()\n",
    "sess.run(n)"
   ]
  },
  {
   "cell_type": "markdown",
   "metadata": {},
   "source": [
    "## Model Functions"
   ]
  },
  {
   "cell_type": "code",
   "execution_count": 6,
   "metadata": {
    "ExecuteTime": {
     "end_time": "2018-12-10T02:11:18.868541Z",
     "start_time": "2018-12-10T02:11:18.859096Z"
    },
    "collapsed": true
   },
   "outputs": [],
   "source": [
    "# Create an input_fn that parses the tf.Examples from the given files,\n",
    "# and split them into features and targets.\n",
    "def _input_fn(input_filenames, num_epochs=None, shuffle=True, batch_size=50):\n",
    "   \n",
    "  # Same code as above; create a dataset and map features and labels.\n",
    "    ds = tf.data.TFRecordDataset(input_filenames)\n",
    "    ds = ds.map(_parse_function)\n",
    "\n",
    "    if shuffle:\n",
    "        ds = ds.shuffle(10000)\n",
    "\n",
    "    # Our feature data is variable-length, so we pad and batch\n",
    "    # each field of the dataset structure to whatever size is necessary.\n",
    "    ds = ds.padded_batch(batch_size, ds.output_shapes)\n",
    "  \n",
    "    ds = ds.repeat(num_epochs)\n",
    "  \n",
    "    # Return the next batch of data.\n",
    "    features, labels = ds.make_one_shot_iterator().get_next()\n",
    "    return features, labels"
   ]
  },
  {
   "cell_type": "markdown",
   "metadata": {},
   "source": [
    "## Linear model with explicit vocabulary (all heroes)"
   ]
  },
  {
   "cell_type": "code",
   "execution_count": 24,
   "metadata": {
    "ExecuteTime": {
     "end_time": "2018-12-10T02:57:39.542022Z",
     "start_time": "2018-12-10T02:57:39.534839Z"
    },
    "code_folding": [],
    "collapsed": true
   },
   "outputs": [],
   "source": [
    "def construct_hero_categorical_columns(keys):\n",
    "    \"\"\"Construct categorical features for all features\n",
    "        Args: \n",
    "            input_features: names of input feature columns to use\n",
    "        returns:\n",
    "            a set of categorical columns\n",
    "    \"\"\"\n",
    "    vocab = list(range(105))+list(range(106,114))+list(range(119,121))\n",
    "    return set([tf.feature_column.categorical_column_with_vocabulary_list(key,\n",
    "                                                                     vocabulary_list = vocab,\n",
    "                                                                     num_oov_buckets =0)\n",
    "                                    for key in keys])\n",
    "                                                               "
   ]
  },
  {
   "cell_type": "markdown",
   "metadata": {},
   "source": [
    "## Define and train the linear model"
   ]
  },
  {
   "cell_type": "code",
   "execution_count": 8,
   "metadata": {
    "ExecuteTime": {
     "end_time": "2018-12-10T02:11:18.927326Z",
     "start_time": "2018-12-10T02:11:18.879636Z"
    },
    "code_folding": [
     0
    ],
    "collapsed": true
   },
   "outputs": [],
   "source": [
    "def train_linear_model(\n",
    "    learning_rate,\n",
    "    steps,\n",
    "    batch_size,\n",
    "    feature_columns,\n",
    "    training_file,\n",
    "    test_file):\n",
    "    \"\"\"Trains a linear regression model.\n",
    "  \n",
    "    In addition to training, this function also prints training progress information,\n",
    "    as well as a plot of the training and validation loss over time.\n",
    "      \n",
    "    Args:\n",
    "        learning_rate: A `float`, the learning rate.\n",
    "        steps: A non-zero `int`, the total number of training steps. A training step\n",
    "          consists of a forward and backward pass using a single batch.\n",
    "        feature_columns: A `set` specifying the input feature columns to use.\n",
    "        training_examples: A `DataFrame` containing one or more columns from\n",
    "          `dota2_df` to use as input features for training.\n",
    "        training_targets: A `DataFrame` containing exactly one column from\n",
    "          `dota2_df` to use as target for training.\n",
    "      \n",
    "    Returns:\n",
    "        A `LinearClassifier` object trained on the training data.\n",
    "    \"\"\"\n",
    "\n",
    "    periods = 20\n",
    "    steps_per_period = steps / periods\n",
    "\n",
    "    # Create a linear regressor object.\n",
    "    my_optimizer = tf.train.AdagradOptimizer(learning_rate=learning_rate)\n",
    "    my_optimizer = tf.contrib.estimator.clip_gradients_by_norm(my_optimizer, 5.0)\n",
    "    linear_classifier = tf.estimator.LinearClassifier(\n",
    "      feature_columns=feature_columns,\n",
    "      optimizer=my_optimizer,\n",
    "      config=tf.estimator.RunConfig(keep_checkpoint_max=1)\n",
    "      )\n",
    "  \n",
    "    training_input_fn =lambda: _input_fn([training_file])\n",
    "    test_input_fn =lambda: _input_fn([test_file])\n",
    "\n",
    "    # Train the model, but do so inside a loop so that we can periodically assess\n",
    "    # loss metrics.\n",
    "    print(\"Training model...\")\n",
    "    \n",
    "    \n",
    "    training_acc = []\n",
    "    test_acc = []\n",
    "    for i in range(periods):\n",
    "        # Train the model, starting from the prior state.\n",
    "        linear_classifier.train(\n",
    "            input_fn=training_input_fn,\n",
    "            steps=steps_per_period)\n",
    "        \n",
    "        # Take a break and compute predictions.\n",
    "        evaluation_metrics = linear_classifier.evaluate(\n",
    "            input_fn=training_input_fn,\n",
    "            steps=steps_per_period)\n",
    "        training_acc.append(1-evaluation_metrics['accuracy'])\n",
    "                            \n",
    "        evaluation_metrics = linear_classifier.evaluate(\n",
    "            input_fn=test_input_fn,\n",
    "            steps=steps_per_period)    \n",
    "        test_acc.append(1-evaluation_metrics['accuracy'])\n",
    "        \n",
    "        print('test inaccuracy', 1-evaluation_metrics['accuracy'])\n",
    "\n",
    "    print(\"Test set metrics:\")\n",
    "    for m in evaluation_metrics:\n",
    "        print(m, evaluation_metrics[m])\n",
    "    print(\"---\")\n",
    "    \n",
    "    plt.plot(training_acc,label='Training inaccuracy')\n",
    "    plt.plot(test_acc,label='Test inaccuracy')\n",
    "    plt.plot(1-evaluation_metrics['accuracy_baseline']*np.ones(periods))\n",
    "    plt.legend()\n",
    "    plt.show()\n",
    "    \n",
    "    return linear_classifier\n"
   ]
  },
  {
   "cell_type": "code",
   "execution_count": 9,
   "metadata": {
    "ExecuteTime": {
     "end_time": "2018-12-10T02:15:59.780505Z",
     "start_time": "2018-12-10T02:11:18.929207Z"
    },
    "scrolled": false
   },
   "outputs": [
    {
     "name": "stdout",
     "output_type": "stream",
     "text": [
      "Training model...\n",
      "test inaccuracy 0.417261004447937\n",
      "test inaccuracy 0.41385525465011597\n",
      "test inaccuracy 0.4117717742919922\n",
      "test inaccuracy 0.4117317199707031\n",
      "test inaccuracy 0.4105697274208069\n",
      "test inaccuracy 0.41012901067733765\n",
      "test inaccuracy 0.411491334438324\n",
      "test inaccuracy 0.40992867946624756\n",
      "test inaccuracy 0.4095280170440674\n",
      "test inaccuracy 0.410930335521698\n",
      "test inaccuracy 0.4117317199707031\n",
      "test inaccuracy 0.4120522737503052\n",
      "test inaccuracy 0.41201215982437134\n",
      "test inaccuracy 0.41257309913635254\n",
      "test inaccuracy 0.41237276792526245\n",
      "test inaccuracy 0.41349464654922485\n",
      "test inaccuracy 0.41225260496139526\n",
      "test inaccuracy 0.41413575410842896\n",
      "test inaccuracy 0.414015531539917\n",
      "test inaccuracy 0.4138953685760498\n",
      "Test set metrics:\n",
      "accuracy 0.58610463\n",
      "accuracy_baseline 0.5561343\n",
      "auc 0.60473657\n",
      "auc_precision_recall 0.64421403\n",
      "average_loss 0.66975176\n",
      "label/mean 0.5561343\n",
      "loss 33.431328\n",
      "precision 0.6007378\n",
      "prediction/mean 0.55641973\n",
      "recall 0.76260805\n",
      "global_step 10000\n",
      "---\n"
     ]
    },
    {
     "data": {
      "image/png": "[encoded data removed]",
      "text/plain": [
       "<matplotlib.figure.Figure at 0x13a44d320>"
      ]
     },
     "metadata": {},
     "output_type": "display_data"
    }
   ],
   "source": [
    "training_file = os.path.join('dota2_training_data','dota2_training_data.tfrecords')\n",
    "test_file = os.path.join('dota2_test_data', 'dota2_test_data.tfrecords')\n",
    "\n",
    "trained_linear_model = train_linear_model(\n",
    "    learning_rate=0.03,\n",
    "    steps=10000,\n",
    "    batch_size=1000,\n",
    "    feature_columns=construct_hero_categorical_columns(['radiant_heroes','dire_heroes']),\n",
    "    training_file=training_file,\n",
    "    test_file=test_file)"
   ]
  },
  {
   "cell_type": "markdown",
   "metadata": {},
   "source": [
    "## Define and train a DNN model"
   ]
  },
  {
   "cell_type": "markdown",
   "metadata": {},
   "source": [
    "### Define feature column constructor functions"
   ]
  },
  {
   "cell_type": "code",
   "execution_count": 10,
   "metadata": {
    "ExecuteTime": {
     "end_time": "2018-12-10T02:15:59.788603Z",
     "start_time": "2018-12-10T02:15:59.782754Z"
    },
    "collapsed": true
   },
   "outputs": [],
   "source": [
    "def construct_indicator_columns(feature_columns):\n",
    "    \"\"\"Construct indicator columns for all features\n",
    "            from categorical columns\n",
    "        Args: \n",
    "            feature_columns: Set of 'tf.feature_column.categorical_column'\n",
    "                to convert to indicator columns\n",
    "        returns:\n",
    "            a list of indicator columns\n",
    "    \"\"\"\n",
    "    indicator_columns = []\n",
    "    for column in list(feature_columns):\n",
    "        indicator_columns.append(tf.feature_column.indicator_column(column))\n",
    "        \n",
    "    return indicator_columns\n",
    "        "
   ]
  },
  {
   "cell_type": "code",
   "execution_count": 11,
   "metadata": {
    "ExecuteTime": {
     "end_time": "2018-12-10T02:15:59.796722Z",
     "start_time": "2018-12-10T02:15:59.791122Z"
    },
    "collapsed": true
   },
   "outputs": [],
   "source": [
    "def construct_embedding_columns(feature_columns, dimension):\n",
    "    \"\"\"Construct embedding columns for all features\n",
    "            from categorical columns\n",
    "        Args:\n",
    "            feature_columns: `Set` of 'tf.feature_column.categorical_column'\n",
    "                to convert to embedding columns\n",
    "            dimension: `int` that shows the \n",
    "        returns:\n",
    "            a list of embedding columns\n",
    "    \"\"\"\n",
    "            \n",
    "    embedding_columns = []\n",
    "    for column in list(feature_columns):\n",
    "        embedding_columns.append(tf.feature_column.embedding_column(column,dimension=dimension))\n",
    "        \n",
    "    return embedding_columns"
   ]
  },
  {
   "cell_type": "markdown",
   "metadata": {},
   "source": [
    "### Define model training function"
   ]
  },
  {
   "cell_type": "code",
   "execution_count": 76,
   "metadata": {
    "ExecuteTime": {
     "end_time": "2018-12-10T07:57:24.909455Z",
     "start_time": "2018-12-10T07:57:24.866801Z"
    },
    "collapsed": true
   },
   "outputs": [],
   "source": [
    "def train_dnn_model(\n",
    "    my_optimizer,\n",
    "    hidden_units,\n",
    "    steps,\n",
    "    batch_size,\n",
    "    feature_columns,\n",
    "    training_file,\n",
    "    test_file):\n",
    "    \"\"\"Trains a deep neural network regression model.\n",
    "  \n",
    "    In addition to training, this function also prints training progress information,\n",
    "    as well as a plot of the training and validation loss over time.\n",
    "      \n",
    "    Args:\n",
    "        learning_rate: A `float`, the learning rate.\n",
    "        hidden_units: A `list` of `ints` specifying the number of layers and number \n",
    "            of nodes per layer.\n",
    "        steps: A non-zero `int`, the total number of training steps. A training step\n",
    "          consists of a forward and backward pass using a single batch.\n",
    "        feature_columns: A `set` specifying the input feature columns to use.\n",
    "        training_examples: A `DataFrame` containing one or more columns from\n",
    "          `dota2_df` to use as input features for training.\n",
    "        training_targets: A `DataFrame` containing exactly one column from\n",
    "          `dota2_df` to use as target for training.\n",
    "      \n",
    "    Returns:\n",
    "        A `DNNClassifer` object trained on the training data.\n",
    "    \"\"\"\n",
    "\n",
    "    periods = 20\n",
    "    steps_per_period = steps / periods\n",
    "\n",
    "    # Create a dnn regressor object.\n",
    "    dnn_classifier = tf.estimator.DNNClassifier(\n",
    "      feature_columns=feature_columns,\n",
    "      hidden_units=hidden_units,\n",
    "      optimizer=my_optimizer\n",
    "        )\n",
    "  \n",
    "    training_input_fn =lambda: _input_fn([training_file],batch_size=batch_size)\n",
    "    test_input_fn =lambda: _input_fn([test_file],batch_size=batch_size)\n",
    "\n",
    "    # Train the model, but do so inside a loop so that we can periodically assess\n",
    "    # loss metrics.\n",
    "    print(\"Training model...\")\n",
    "    \n",
    "    \n",
    "    training_acc = []\n",
    "    test_acc = []\n",
    "    for i in range(periods):\n",
    "        # Train the model, starting from the prior state.\n",
    "        dnn_classifier.train(\n",
    "            input_fn=training_input_fn,\n",
    "            steps=steps_per_period)\n",
    "        \n",
    "        # Take a break and compute predictions.\n",
    "        evaluation_metrics = dnn_classifier.evaluate(\n",
    "            input_fn=training_input_fn,\n",
    "            steps=steps_per_period)\n",
    "        training_acc.append(1-evaluation_metrics['accuracy'])\n",
    "        print('training inaccuracy %f' %(1-evaluation_metrics['accuracy'])) \n",
    "        \n",
    "        evaluation_metrics = dnn_classifier.evaluate(\n",
    "            input_fn=test_input_fn,\n",
    "            steps=steps_per_period)    \n",
    "        test_acc.append(1-evaluation_metrics['accuracy'])\n",
    "        \n",
    "        print('test inaccuracy %f' %(1-evaluation_metrics['accuracy']))\n",
    "\n",
    "    print(\"Test set metrics:\")\n",
    "    for m in evaluation_metrics:\n",
    "        print(m, evaluation_metrics[m])\n",
    "    print(\"---\")\n",
    "    \n",
    "    plt.plot(training_acc,label='Training inaccuracy')\n",
    "    plt.plot(test_acc,label='Test inaccuracy')\n",
    "    plt.plot(1-evaluation_metrics['accuracy_baseline']*np.ones(periods))\n",
    "    plt.legend()\n",
    "    plt.show()\n",
    "    \n",
    "    return dnn_classifier\n"
   ]
  },
  {
   "cell_type": "markdown",
   "metadata": {},
   "source": [
    "### Specify path to tfrecord files and construct feature colums"
   ]
  },
  {
   "cell_type": "code",
   "execution_count": 61,
   "metadata": {
    "ExecuteTime": {
     "end_time": "2018-12-10T06:30:49.011727Z",
     "start_time": "2018-12-10T06:30:49.005375Z"
    },
    "collapsed": true
   },
   "outputs": [],
   "source": [
    "training_file = os.path.join('dota2_training_data','dota2_training_data.tfrecords')\n",
    "test_file = os.path.join('dota2_test_data', 'dota2_test_data.tfrecords')\n",
    "\n",
    "categorical_feature_columns = construct_hero_categorical_columns(['radiant_heroes','dire_heroes'])\n",
    "indicator_feature_columns = construct_indicator_columns(categorical_feature_columns)\n",
    "embedding_feature_columns = construct_embedding_columns(categorical_feature_columns,dimension=4)"
   ]
  },
  {
   "cell_type": "markdown",
   "metadata": {},
   "source": [
    "### Train model"
   ]
  },
  {
   "cell_type": "code",
   "execution_count": 78,
   "metadata": {
    "ExecuteTime": {
     "end_time": "2018-12-10T08:13:49.212245Z",
     "start_time": "2018-12-10T08:09:53.424723Z"
    }
   },
   "outputs": [
    {
     "name": "stdout",
     "output_type": "stream",
     "text": [
      "Training model...\n",
      "training inaccuracy 0.448000\n",
      "test inaccuracy 0.443542\n",
      "training inaccuracy 0.413900\n",
      "test inaccuracy 0.418276\n",
      "training inaccuracy 0.411700\n",
      "test inaccuracy 0.419083\n",
      "training inaccuracy 0.406300\n",
      "test inaccuracy 0.417318\n",
      "training inaccuracy 0.401050\n",
      "test inaccuracy 0.422714\n",
      "training inaccuracy 0.401750\n",
      "test inaccuracy 0.415603\n",
      "training inaccuracy 0.402100\n",
      "test inaccuracy 0.421655\n",
      "training inaccuracy 0.402600\n",
      "test inaccuracy 0.416259\n",
      "training inaccuracy 0.404400\n",
      "test inaccuracy 0.416057\n",
      "training inaccuracy 0.399000\n",
      "test inaccuracy 0.418276\n",
      "training inaccuracy 0.401850\n",
      "test inaccuracy 0.416007\n",
      "training inaccuracy 0.409250\n",
      "test inaccuracy 0.418781\n",
      "training inaccuracy 0.401800\n",
      "test inaccuracy 0.417570\n",
      "training inaccuracy 0.399950\n",
      "test inaccuracy 0.422008\n",
      "training inaccuracy 0.399850\n",
      "test inaccuracy 0.417621\n",
      "training inaccuracy 0.400850\n",
      "test inaccuracy 0.413990\n",
      "training inaccuracy 0.397200\n",
      "test inaccuracy 0.417217\n",
      "training inaccuracy 0.397050\n",
      "test inaccuracy 0.416713\n",
      "training inaccuracy 0.404750\n",
      "test inaccuracy 0.416763\n",
      "training inaccuracy 0.395150\n",
      "test inaccuracy 0.416209\n",
      "Test set metrics:\n",
      "accuracy 0.58379143\n",
      "accuracy_baseline 0.55428916\n",
      "auc 0.5989115\n",
      "auc_precision_recall 0.6412113\n",
      "average_loss 0.67256546\n",
      "label/mean 0.55428916\n",
      "loss 133.363\n",
      "precision 0.59975225\n",
      "prediction/mean 0.5450833\n",
      "recall 0.74888545\n",
      "global_step 2000\n",
      "---\n"
     ]
    },
    {
     "data": {
      "image/png": "[encoded data removed]",
      "text/plain": [
       "<matplotlib.figure.Figure at 0x1596bb898>"
      ]
     },
     "metadata": {},
     "output_type": "display_data"
    }
   ],
   "source": [
    "my_optimizer = tf.contrib.opt.AdamWOptimizer(weight_decay=0.0024, learning_rate=0.015)\n",
    "#my_optimizer = tf.contrib.estimator.clip_gradients_by_norm(my_optimizer, 5.0)\n",
    "\n",
    "trained_dnn_model = train_dnn_model(\n",
    "    my_optimizer = my_optimizer,\n",
    "    hidden_units = [4,4],\n",
    "    steps=2000,\n",
    "    batch_size=200,\n",
    "    feature_columns=embedding_feature_columns,\n",
    "    training_file=training_file,\n",
    "    test_file=test_file)"
   ]
  },
  {
   "cell_type": "markdown",
   "metadata": {
    "heading_collapsed": true
   },
   "source": [
    "### Validate model\n",
    "only do this if you're done training!!"
   ]
  },
  {
   "cell_type": "code",
   "execution_count": 43,
   "metadata": {
    "ExecuteTime": {
     "end_time": "2018-12-10T03:27:43.823064Z",
     "start_time": "2018-12-10T03:27:41.432068Z"
    },
    "hidden": true,
    "scrolled": true
   },
   "outputs": [
    {
     "name": "stdout",
     "output_type": "stream",
     "text": [
      "accuracy 0.59\n",
      "accuracy_baseline 0.5532\n",
      "auc 0.59637433\n",
      "auc_precision_recall 0.63425905\n",
      "average_loss 0.6738959\n",
      "label/mean 0.5532\n",
      "loss 33.694794\n",
      "precision 0.60888076\n",
      "prediction/mean 0.548346\n",
      "recall 0.72378886\n",
      "global_step 1000\n"
     ]
    }
   ],
   "source": [
    "validation_file = os.path.join('dota2_validation_data', 'dota2_validation_data.tfrecords')\n",
    "validation_input_fn =lambda: _input_fn([validation_file])\n",
    "evaluation_metrics = trained_dnn_model.evaluate(\n",
    "            input_fn=validation_input_fn,\n",
    "            steps=100)\n",
    "for m in evaluation_metrics:\n",
    "    print(m, evaluation_metrics[m])"
   ]
  },
  {
   "cell_type": "markdown",
   "metadata": {},
   "source": [
    "### Investigate embeding layer"
   ]
  },
  {
   "cell_type": "code",
   "execution_count": 79,
   "metadata": {
    "ExecuteTime": {
     "end_time": "2018-12-10T08:16:07.422456Z",
     "start_time": "2018-12-10T08:16:07.199606Z"
    },
    "collapsed": true
   },
   "outputs": [],
   "source": [
    "hero_list = interface('IEconDOTA2_570').GetHeroes(itemizedonly = True)['result']['heroes']"
   ]
  },
  {
   "cell_type": "code",
   "execution_count": 85,
   "metadata": {
    "ExecuteTime": {
     "end_time": "2018-12-10T08:19:37.785231Z",
     "start_time": "2018-12-10T08:19:36.875868Z"
    }
   },
   "outputs": [
    {
     "data": {
      "image/png": "[encoded data removed]",
      "text/plain": [
       "<matplotlib.figure.Figure at 0x1391cb7b8>"
      ]
     },
     "metadata": {},
     "output_type": "display_data"
    }
   ],
   "source": [
    "vocab = list(range(105))+list(range(106,114))+list(range(119,121))\n",
    "dire_embedding_matrix = trained_dnn_model.get_variable_value(\n",
    "    'dnn/input_from_feature_columns/input_layer/dire_heroes_embedding/embedding_weights')\n",
    "\n",
    "radiant_embedding_matrix = trained_dnn_model.get_variable_value(\n",
    "    'dnn/input_from_feature_columns/input_layer/radiant_heroes_embedding/embedding_weights')\n",
    "\n",
    "for hero_index in range(len(vocab)):\n",
    "    # Create a one-hot encoding for our term. It has 0s everywhere, except for\n",
    "    # a single 1 in the coordinate that corresponds to that term.\n",
    "    dire_vector = np.zeros(len(vocab))\n",
    "    dire_vector[hero_index] = 1\n",
    "    radiant_vector = np.zeros(len(vocab))\n",
    "    radiant_vector[hero_index] = 1\n",
    "    # We'll now project that one-hot vector into the embedding space.\n",
    "    dire_embedding_xy = np.matmul(dire_vector, dire_embedding_matrix)\n",
    "    radiant_embedding_xy = np.matmul(dire_vector,dire_embedding_matrix)\n",
    "    #plt.text(dire_embedding_xy[0],\n",
    "    #       dire_embedding_xy[1],\n",
    "    #       hero_list[hero_index]['name'][14:],fontsize=8)\n",
    "    plt.text(radiant_embedding_xy[0],\n",
    "           radiant_embedding_xy[3],\n",
    "           hero_list[hero_index]['name'][14:],fontsize=8,)\n",
    "\n",
    "# Do a little setup to make sure the plot displays nicely.\n",
    "plt.rcParams[\"figure.figsize\"] = (15, 15)\n",
    "plt.xlim(1.2 * dire_embedding_matrix.min(), 1.2 * dire_embedding_matrix.max())\n",
    "plt.ylim(1.2 * dire_embedding_matrix.min(), 1.2 * dire_embedding_matrix.max())\n",
    "plt.show() "
   ]
  },
  {
   "cell_type": "markdown",
   "metadata": {
    "heading_collapsed": true
   },
   "source": [
    "# Preprocessing, input functions, and linear training for DataFrame data format"
   ]
  },
  {
   "cell_type": "markdown",
   "metadata": {
    "hidden": true
   },
   "source": [
    "## Preprocess functions for input without TFRecords format"
   ]
  },
  {
   "cell_type": "code",
   "execution_count": 46,
   "metadata": {
    "ExecuteTime": {
     "end_time": "2018-12-06T07:06:11.844506Z",
     "start_time": "2018-12-06T07:06:11.781414Z"
    },
    "code_folding": [],
    "hidden": true,
    "scrolled": false
   },
   "outputs": [
    {
     "name": "stdout",
     "output_type": "stream",
     "text": [
      "\n",
      "Training targets summary\n"
     ]
    },
    {
     "data": {
      "text/html": [
       "<div>\n",
       "<style>\n",
       "    .dataframe thead tr:only-child th {\n",
       "        text-align: right;\n",
       "    }\n",
       "\n",
       "    .dataframe thead th {\n",
       "        text-align: left;\n",
       "    }\n",
       "\n",
       "    .dataframe tbody tr th {\n",
       "        vertical-align: top;\n",
       "    }\n",
       "</style>\n",
       "<table border=\"1\" class=\"dataframe\">\n",
       "  <thead>\n",
       "    <tr style=\"text-align: right;\">\n",
       "      <th></th>\n",
       "      <th>radiant_win</th>\n",
       "    </tr>\n",
       "  </thead>\n",
       "  <tbody>\n",
       "    <tr>\n",
       "      <th>count</th>\n",
       "      <td>6157.000000</td>\n",
       "    </tr>\n",
       "    <tr>\n",
       "      <th>mean</th>\n",
       "      <td>0.549943</td>\n",
       "    </tr>\n",
       "    <tr>\n",
       "      <th>std</th>\n",
       "      <td>0.497540</td>\n",
       "    </tr>\n",
       "    <tr>\n",
       "      <th>min</th>\n",
       "      <td>0.000000</td>\n",
       "    </tr>\n",
       "    <tr>\n",
       "      <th>25%</th>\n",
       "      <td>0.000000</td>\n",
       "    </tr>\n",
       "    <tr>\n",
       "      <th>50%</th>\n",
       "      <td>1.000000</td>\n",
       "    </tr>\n",
       "    <tr>\n",
       "      <th>75%</th>\n",
       "      <td>1.000000</td>\n",
       "    </tr>\n",
       "    <tr>\n",
       "      <th>max</th>\n",
       "      <td>1.000000</td>\n",
       "    </tr>\n",
       "  </tbody>\n",
       "</table>\n",
       "</div>"
      ],
      "text/plain": [
       "       radiant_win\n",
       "count  6157.000000\n",
       "mean      0.549943\n",
       "std       0.497540\n",
       "min       0.000000\n",
       "25%       0.000000\n",
       "50%       1.000000\n",
       "75%       1.000000\n",
       "max       1.000000"
      ]
     },
     "metadata": {},
     "output_type": "display_data"
    },
    {
     "name": "stdout",
     "output_type": "stream",
     "text": [
      "\n",
      "validation target summary\n"
     ]
    },
    {
     "data": {
      "text/html": [
       "<div>\n",
       "<style>\n",
       "    .dataframe thead tr:only-child th {\n",
       "        text-align: right;\n",
       "    }\n",
       "\n",
       "    .dataframe thead th {\n",
       "        text-align: left;\n",
       "    }\n",
       "\n",
       "    .dataframe tbody tr th {\n",
       "        vertical-align: top;\n",
       "    }\n",
       "</style>\n",
       "<table border=\"1\" class=\"dataframe\">\n",
       "  <thead>\n",
       "    <tr style=\"text-align: right;\">\n",
       "      <th></th>\n",
       "      <th>radiant_win</th>\n",
       "    </tr>\n",
       "  </thead>\n",
       "  <tbody>\n",
       "    <tr>\n",
       "      <th>count</th>\n",
       "      <td>2640.000000</td>\n",
       "    </tr>\n",
       "    <tr>\n",
       "      <th>mean</th>\n",
       "      <td>0.549242</td>\n",
       "    </tr>\n",
       "    <tr>\n",
       "      <th>std</th>\n",
       "      <td>0.497664</td>\n",
       "    </tr>\n",
       "    <tr>\n",
       "      <th>min</th>\n",
       "      <td>0.000000</td>\n",
       "    </tr>\n",
       "    <tr>\n",
       "      <th>25%</th>\n",
       "      <td>0.000000</td>\n",
       "    </tr>\n",
       "    <tr>\n",
       "      <th>50%</th>\n",
       "      <td>1.000000</td>\n",
       "    </tr>\n",
       "    <tr>\n",
       "      <th>75%</th>\n",
       "      <td>1.000000</td>\n",
       "    </tr>\n",
       "    <tr>\n",
       "      <th>max</th>\n",
       "      <td>1.000000</td>\n",
       "    </tr>\n",
       "  </tbody>\n",
       "</table>\n",
       "</div>"
      ],
      "text/plain": [
       "       radiant_win\n",
       "count  2640.000000\n",
       "mean      0.549242\n",
       "std       0.497664\n",
       "min       0.000000\n",
       "25%       0.000000\n",
       "50%       1.000000\n",
       "75%       1.000000\n",
       "max       1.000000"
      ]
     },
     "metadata": {},
     "output_type": "display_data"
    }
   ],
   "source": [
    "#Split training and validation datasets with a given training fraction. \n",
    "\n",
    "#to begin with we have a sample of 7050 matches to validation the model with.\n",
    "#This may not be enough games to accurately determine win probability but probably good enough for first validations\n",
    "\n",
    "training_fraction = 0.7\n",
    "head_num = int(training_fraction * len(dota2_df))\n",
    "tail_num = len(dota2_df)-head_num\n",
    "\n",
    "training_examples = preprocess_features(dota2_df.head(head_num))\n",
    "training_targets = preprocess_targets(dota2_df.head(head_num))\n",
    "\n",
    "validation_examples = preprocess_features(dota2_df.tail(tail_num))\n",
    "validation_targets = preprocess_targets(dota2_df.tail(tail_num))\n",
    "\n",
    "#print(\"Training features summary\")\n",
    "#training_examples.style\n",
    "print(\"\\nTraining targets summary\")\n",
    "display.display(training_targets.describe())\n",
    "\n",
    "#print(\"\\nvalidation feature summary\")\n",
    "#validation_examples.style\n",
    "print(\"\\nvalidation target summary\")\n",
    "display.display(validation_targets.describe())"
   ]
  },
  {
   "cell_type": "code",
   "execution_count": 3,
   "metadata": {
    "ExecuteTime": {
     "end_time": "2018-12-08T02:32:38.986118Z",
     "start_time": "2018-12-08T02:32:38.969398Z"
    },
    "code_folding": [],
    "collapsed": true,
    "hidden": true
   },
   "outputs": [],
   "source": [
    "def preprocess_features(dota2_df):\n",
    "    \"\"\"Take dota2_df and create a dataframe containing only the features for our model\n",
    "            Args: \n",
    "                dota2_df: Dataframe containing dota2 training and test data\n",
    "            returns: \n",
    "                processed_df: pandas DataFrame containing only feature columns\n",
    "    \"\"\"\n",
    "    \n",
    "    #Use arrays of heroes for each team as features rather than each hero\n",
    "    #individually to help model fit?\n",
    "    #This is an attempt to make the model more similar to the movie review\n",
    "    #text analysis example in the Google ML Crash Course\n",
    "    processed_df = pd.DataFrame()\n",
    "    \n",
    "    processed_df['radiant_heroes'] = list(np.array(dota2_df.loc[:,['radiant_heroes0',\n",
    "                                                'radiant_heroes1','radiant_heroes2',\n",
    "                                                'radiant_heroes3','radiant_heroes4']]))\n",
    "    processed_df['dire_heroes'] = list(np.array(dota2_df.loc[:,['dire_heroes0',\n",
    "                                    'dire_heroes1','dire_heroes2',\n",
    "                                    'dire_heroes3','dire_heroes4']]))\n",
    "    \n",
    "    ##only features (to start with) are the heroes in the game\n",
    "    #processed_df = dota2_df[['radiant_heroes0', 'radiant_heroes1',\n",
    "    #                   'radiant_heroes2', 'radiant_heroes3', 'radiant_heroes4',\n",
    "    #                    'dire_heroes0', 'dire_heroes1', 'dire_heroes2',\n",
    "    #                    'dire_heroes3', 'dire_heroes4']]\n",
    "    \n",
    "    ##create two synthetic features that is the product of all heroes for each team\n",
    "    #processed_df['radiant_hero_product'] = dota2_df['radiant_heroes0']*dota2_df['radiant_heroes1']*dota2_df['radiant_heroes2']dota2_df['radiant_heroes3']*dota2_df['radiant_heroes4']\n",
    "    #processed_df['dire_hero_product'] = dota2_df['dire_heroes0']*dota2_df['dire_heroes1']*dota2_df['dire_heroes2']dota2_df['dire_heroes3']*dota2_df['dire_heroes4']\n",
    "    \n",
    "    return processed_df\n",
    "    \n",
    "def preprocess_targets(dota2_df):\n",
    "    \"\"\"Take dota2_df and create a dataframe containing only the targets for our model\n",
    "            Args: \n",
    "                dota2_df: Dataframe containing dota2 training and test data\n",
    "            returns: \n",
    "                target_df: pandas DataFrame containing only the target column\n",
    "    \"\"\"\n",
    "    target_df = pd.DataFrame()\n",
    "    target_df['radiant_win'] = dota2_df['radiant_win']\n",
    "    \n",
    "    return target_df"
   ]
  },
  {
   "cell_type": "markdown",
   "metadata": {
    "hidden": true
   },
   "source": [
    "## Build Functions for doing linear classifier modelling without TFRecords"
   ]
  },
  {
   "cell_type": "code",
   "execution_count": 77,
   "metadata": {
    "ExecuteTime": {
     "end_time": "2018-12-05T05:52:09.516609Z",
     "start_time": "2018-12-05T05:52:09.505248Z"
    },
    "collapsed": true,
    "hidden": true,
    "scrolled": true
   },
   "outputs": [],
   "source": [
    "def my_input_fn(features, targets, batch_size=1, shuffle=True, num_epochs=None):\n",
    "    \"\"\"Trains a logistic regression model.\n",
    "  \n",
    "    Args:\n",
    "      features: pandas DataFrame of features\n",
    "      targets: pandas DataFrame of targets\n",
    "      batch_size: Size of batches to be passed to the model\n",
    "      shuffle: True or False. Whether to shuffle the data.\n",
    "      num_epochs: Number of epochs for which data should be repeated. None = repeat indefinitely\n",
    "    Returns:\n",
    "      Tuple of (features, labels) for next data batch\n",
    "    \"\"\"\n",
    "    \n",
    "    # Convert pandas data into a dict of np arrays.\n",
    "    features = {key:np.array(value) for key,value in dict(features).items()}                                           \n",
    " \n",
    "    # Construct a dataset, and configure batching/repeating.\n",
    "    ds = tf.data.Dataset.from_tensor_slices((features,targets)) # warning: 2GB limit\n",
    "    ds = ds.batch(batch_size).repeat(num_epochs)\n",
    "    \n",
    "    # Shuffle the data, if specified.\n",
    "    if shuffle:\n",
    "        ds = ds.shuffle(10000)\n",
    "    \n",
    "    # Return the next batch of data.\n",
    "    features, labels = ds.make_one_shot_iterator().get_next()\n",
    "    return features, labels"
   ]
  },
  {
   "cell_type": "markdown",
   "metadata": {
    "hidden": true
   },
   "source": [
    "### DNN model training "
   ]
  },
  {
   "cell_type": "code",
   "execution_count": 86,
   "metadata": {
    "collapsed": true,
    "hidden": true
   },
   "outputs": [],
   "source": [
    "def train_dnn_model(\n",
    "    learning_rate,\n",
    "    regularization,\n",
    "    hidden_units,\n",
    "    steps,\n",
    "    batch_size,\n",
    "    feature_columns,\n",
    "    training_examples,\n",
    "    training_targets):\n",
    "    \"\"\"Trains a deep neural network regression model.\n",
    "  \n",
    "    In addition to training, this function also prints training progress information,\n",
    "    as well as a plot of the training and validation loss over time.\n",
    "      \n",
    "    Args:\n",
    "        learning_rate: A `float`, the learning rate.\n",
    "        l1_regularization: A `float`, the L1 regularization rate. This regularizatin \n",
    "          penalizes non-zero weights in the model to prevent overfitting as well as\n",
    "          save memory.\n",
    "        l2_regularization: A `float`, the L2 regularization rate. This regularization\n",
    "          penalizes large weights in the model to prevent overfitting.\n",
    "        hidden_units: A list of `ints`, the number of nodes in each layer for the DNN\n",
    "          model.\n",
    "        steps: A non-zero `int`, the total number of training steps. A training step\n",
    "          consists of a forward and backward pass using a single batch.\n",
    "        feature_columns: A `set` specifying the input feature columns to use.\n",
    "        training_examples: A `DataFrame` containing one or more columns from\n",
    "          `dota2_df` to use as input features for training.\n",
    "        training_targets: A `DataFrame` containing exactly one column from\n",
    "          `dota2_df` to use as target for training.\n",
    "      \n",
    "    Returns:\n",
    "        A `DNNClassifer` object trained on the training data.\n",
    "    \"\"\"\n",
    "\n",
    "    periods = 10\n",
    "    steps_per_period = steps / periods\n",
    "\n",
    "    # Create a linear regressor object.\n",
    "    my_optimizer = tf.train.AdagradOptimizer(learning_rate=learning_rate)\n",
    "    my_optimizer = tf.contrib.estimator.clip_gradients_by_norm(my_optimizer, 5.0)\n",
    "    dnn_classifier = tf.estimator.DNNClassifier(\n",
    "      feature_columns=feature_columns,\n",
    "      hidden_units=hidden_units,\n",
    "      optimizer=my_optimizer\n",
    "      )\n",
    "  \n",
    "    training_input_fn = lambda: my_input_fn(training_examples, \n",
    "                                          training_targets[\"radiant_win\"], \n",
    "                                          batch_size=batch_size)\n",
    "    predict_training_input_fn = lambda: my_input_fn(training_examples, \n",
    "                                                  training_targets[\"radiant_win\"], \n",
    "                                                  num_epochs=1, \n",
    "                                                  shuffle=False)\n",
    "\n",
    "    # Train the model, but do so inside a loop so that we can periodically assess\n",
    "    # loss metrics.\n",
    "    print(\"Training model...\")\n",
    "    print(\"RMSE (on training data):\")\n",
    "    training_rmse = []\n",
    "    for period in range (0, periods):\n",
    "        # Train the model, starting from the prior state.\n",
    "        dnn_classifier.train(\n",
    "            input_fn=training_input_fn,\n",
    "            steps=steps_per_period\n",
    "            )\n",
    "        # Take a break and compute predictions.\n",
    "        training_predictions = dnn_classifier.predict(input_fn=predict_training_input_fn)\n",
    "    \n",
    "    print(\"Model training finished.\")\n",
    "\n",
    "\n",
    "    return dnn_classifier"
   ]
  },
  {
   "cell_type": "code",
   "execution_count": null,
   "metadata": {
    "collapsed": true,
    "hidden": true
   },
   "outputs": [],
   "source": [
    "trained_linear_model = train_dnn_model(\n",
    "    learning_rate=0.07,\n",
    "    regularization=0.01\n",
    "    steps=1000,\n",
    "    batch_size=100,\n",
    "    feature_columns=construct_hero_categorical_columns(training_examples),\n",
    "    training_examples=training_examples,\n",
    "    training_targets=training_targets)"
   ]
  }
 ],
 "metadata": {
  "kernelspec": {
   "display_name": "Python 3",
   "language": "python",
   "name": "python3"
  },
  "language_info": {
   "codemirror_mode": {
    "name": "ipython",
    "version": 3
   },
   "file_extension": ".py",
   "mimetype": "text/x-python",
   "name": "python",
   "nbconvert_exporter": "python",
   "pygments_lexer": "ipython3",
   "version": "3.6.1"
  },
  "notify_time": "30"
 },
 "nbformat": 4,
 "nbformat_minor": 2
}
