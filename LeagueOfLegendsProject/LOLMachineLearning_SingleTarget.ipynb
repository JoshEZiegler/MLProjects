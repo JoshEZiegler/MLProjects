{
 "cells": [
  {
   "cell_type": "code",
   "execution_count": 3,
   "metadata": {
    "ExecuteTime": {
     "end_time": "2019-07-02T18:35:21.380295Z",
     "start_time": "2019-07-02T18:35:18.523442Z"
    },
    "scrolled": false
   },
   "outputs": [],
   "source": [
    "import seaborn as sns\n",
    "import pandas as pd\n",
    "import pylab as plt\n",
    "import numpy as np\n",
    "import os\n",
    "import tensorflow as tf\n",
    "from IPython import display\n",
    "from sklearn import metrics\n",
    "import glob\n",
    "import sys\n",
    "from riotwatcher import RiotWatcher\n",
    "import requests\n",
    "import json\n",
    "\n",
    "api_file = os.path.join('..','..','apikeys','LOL_api_key.txt')\n",
    "with open(api_file, 'r') as fin:\n",
    "    watcher = RiotWatcher(fin.readline())\n",
    "\n",
    "tf.logging.set_verbosity(tf.logging.ERROR)"
   ]
  },
  {
   "cell_type": "markdown",
   "metadata": {},
   "source": [
    "### Get all champs in game from static data file (.json)"
   ]
  },
  {
   "cell_type": "code",
   "execution_count": 4,
   "metadata": {
    "ExecuteTime": {
     "end_time": "2019-07-02T18:35:21.394002Z",
     "start_time": "2019-07-02T18:35:21.383427Z"
    },
    "code_folding": []
   },
   "outputs": [],
   "source": [
    "champfile=os.path.join('lol_data','version6.24.1_champion.json')\n",
    "with open(champfile,'r') as fin:\n",
    "    champdata=json.load(fin)"
   ]
  },
  {
   "cell_type": "code",
   "execution_count": 5,
   "metadata": {
    "ExecuteTime": {
     "end_time": "2019-07-02T18:35:21.401601Z",
     "start_time": "2019-07-02T18:35:21.396770Z"
    },
    "code_folding": []
   },
   "outputs": [],
   "source": [
    "champ_vocab=[]\n",
    "for name,data in champdata['data'].items():\n",
    "    champ_vocab.append(data['key'])\n",
    "champ_vocab = [int(i) for i in champ_vocab]"
   ]
  },
  {
   "cell_type": "markdown",
   "metadata": {},
   "source": [
    "# Modeling using a TFRecord dataformat"
   ]
  },
  {
   "cell_type": "markdown",
   "metadata": {},
   "source": [
    "## Build TFRecord input pipeline"
   ]
  },
  {
   "cell_type": "code",
   "execution_count": 6,
   "metadata": {
    "ExecuteTime": {
     "end_time": "2019-07-02T18:35:22.242201Z",
     "start_time": "2019-07-02T18:35:22.234838Z"
    },
    "code_folding": []
   },
   "outputs": [],
   "source": [
    "def _parse_function_win(record):\n",
    "    \"\"\"Extracts features and labels.\n",
    "  \n",
    "    Args:\n",
    "        record: File path to a TFRecord file    \n",
    "      Returns:\n",
    "    A `tuple` `(labels, features)`:\n",
    "      features: A dict of tensors representing the features\n",
    "      labels: A tensor with the corresponding labels.\n",
    "    \"\"\"\n",
    "    features = {\n",
    "        \"blue_champs\": tf.FixedLenFeature([], dtype=tf.string), #array of five 8 bit ints for heroes\n",
    "        \"red_champs\": tf.FixedLenFeature([], dtype=tf.string), #array of five 8-bit ints for heroes\n",
    "        \"targets\": tf.FixedLenFeature(shape=[1], dtype=tf.int64)\n",
    "                }\n",
    "  \n",
    "    parsed_features = tf.parse_single_example(record, features)\n",
    "  \n",
    "    blue_champs = tf.decode_raw(parsed_features['blue_champs'], tf.int64)\n",
    "    red_champs = tf.decode_raw(parsed_features['red_champs'], tf.int64)\n",
    "    target = parsed_features['targets']\n",
    "\n",
    "    return  {'blue_champs':blue_champs, 'red_champs':red_champs}, target"
   ]
  },
  {
   "cell_type": "code",
   "execution_count": 7,
   "metadata": {
    "ExecuteTime": {
     "end_time": "2019-07-02T18:35:22.953169Z",
     "start_time": "2019-07-02T18:35:22.946244Z"
    }
   },
   "outputs": [],
   "source": [
    "def _parse_function_float(record):\n",
    "    \"\"\"Extracts features and labels.\n",
    "  \n",
    "    Args:\n",
    "        record: File path to a TFRecord file    \n",
    "      Returns:\n",
    "    A `tuple` `(labels, features)`:\n",
    "      features: A dict of tensors representing the features\n",
    "      labels: A tensor with the corresponding labels.\n",
    "    \"\"\"\n",
    "    features = {\n",
    "        \"blue_champs\": tf.FixedLenFeature([], dtype=tf.string), #array of five 8 bit ints for heroes\n",
    "        \"red_champs\": tf.FixedLenFeature([], dtype=tf.string), #array of five 8-bit ints for heroes\n",
    "        \"targets\": tf.FixedLenFeature(shape=[1], dtype=tf.float32)\n",
    "                }\n",
    "  \n",
    "    parsed_features = tf.parse_single_example(record, features)\n",
    "  \n",
    "    blue_champs = tf.decode_raw(parsed_features['blue_champs'], tf.int64)\n",
    "    red_champs = tf.decode_raw(parsed_features['red_champs'], tf.int64)\n",
    "    target = parsed_features['targets']\n",
    "\n",
    "    return  {'blue_champs':blue_champs, 'red_champs':red_champs}, target"
   ]
  },
  {
   "cell_type": "markdown",
   "metadata": {},
   "source": [
    "#### Check the parse function worked"
   ]
  },
  {
   "cell_type": "code",
   "execution_count": 8,
   "metadata": {
    "ExecuteTime": {
     "end_time": "2019-07-02T18:35:25.626999Z",
     "start_time": "2019-07-02T18:35:25.564185Z"
    }
   },
   "outputs": [
    {
     "data": {
      "text/plain": [
       "<DatasetV1Adapter shapes: ({blue_champs: (?,), red_champs: (?,)}, (1,)), types: ({blue_champs: tf.int64, red_champs: tf.int64}, tf.int64)>"
      ]
     },
     "execution_count": 8,
     "metadata": {},
     "output_type": "execute_result"
    }
   ],
   "source": [
    "# Create the Dataset object.\n",
    "ds = tf.data.TFRecordDataset(os.path.join('LOL_data','mix_tier',\n",
    "                                          'lol_training_data',\n",
    "                                          'blue_win_lol_training_data.tfrecords'))\n",
    "# Map features and labels with the parse function.\n",
    "ds = ds.map(_parse_function_win)\n",
    "\n",
    "ds"
   ]
  },
  {
   "cell_type": "code",
   "execution_count": 9,
   "metadata": {
    "ExecuteTime": {
     "end_time": "2019-07-02T18:35:29.007321Z",
     "start_time": "2019-07-02T18:35:28.927449Z"
    },
    "scrolled": true
   },
   "outputs": [
    {
     "data": {
      "text/plain": [
       "({'blue_champs': array([157, 222, 120, 163,  12]),\n",
       "  'red_champs': array([ 59,  13,   7,  29, 117])},\n",
       " array([0]))"
      ]
     },
     "execution_count": 9,
     "metadata": {},
     "output_type": "execute_result"
    }
   ],
   "source": [
    "n = ds.make_one_shot_iterator().get_next()\n",
    "sess = tf.Session()\n",
    "sess.run(n)"
   ]
  },
  {
   "cell_type": "markdown",
   "metadata": {},
   "source": [
    "## Model Functions"
   ]
  },
  {
   "cell_type": "code",
   "execution_count": 6,
   "metadata": {
    "ExecuteTime": {
     "end_time": "2019-05-23T01:54:38.483503Z",
     "start_time": "2019-05-23T01:54:38.476651Z"
    }
   },
   "outputs": [],
   "source": [
    "# Create an input_fn that parses the tf.Examples from the given files,\n",
    "# and split them into features and targets.\n",
    "def _input_fn_win(input_filenames, num_epochs=None, shuffle=True, batch_size=50):\n",
    "   \n",
    "  # Same code as above; create a dataset and map features and labels.\n",
    "    ds = tf.data.TFRecordDataset(input_filenames)\n",
    "    ds = ds.map(_parse_function_win)\n",
    "\n",
    "    if shuffle:\n",
    "        ds = ds.shuffle(10000)\n",
    "\n",
    "    # Our feature data is variable-length, so we pad and batch\n",
    "    # each field of the dataset structure to whatever size is necessary.\n",
    "    ds = ds.padded_batch(batch_size, ds.output_shapes)\n",
    "  \n",
    "    ds = ds.repeat(num_epochs)\n",
    "  \n",
    "    # Return the next batch of data.\n",
    "    features, labels = ds.make_one_shot_iterator().get_next()\n",
    "    return features, labels"
   ]
  },
  {
   "cell_type": "code",
   "execution_count": 7,
   "metadata": {
    "ExecuteTime": {
     "end_time": "2019-05-23T01:54:38.771586Z",
     "start_time": "2019-05-23T01:54:38.765338Z"
    }
   },
   "outputs": [],
   "source": [
    "# Create an input_fn that parses the tf.Examples from the given files,\n",
    "# and split them into features and targets.\n",
    "def _input_fn_gold(input_filenames, num_epochs=None, shuffle=True, batch_size=50):\n",
    "   \n",
    "  # Same code as above; create a dataset and map features and labels.\n",
    "    ds = tf.data.TFRecordDataset(input_filenames)\n",
    "    ds = ds.map(_parse_function_float)\n",
    "\n",
    "    if shuffle:\n",
    "        ds = ds.shuffle(10000)\n",
    "\n",
    "    # Our feature data is variable-length, so we pad and batch\n",
    "    # each field of the dataset structure to whatever size is necessary.\n",
    "    ds = ds.padded_batch(batch_size, ds.output_shapes)\n",
    "  \n",
    "    ds = ds.repeat(num_epochs)\n",
    "  \n",
    "    # Return the next batch of data.\n",
    "    features, labels = ds.make_one_shot_iterator().get_next()\n",
    "    return features, labels"
   ]
  },
  {
   "cell_type": "markdown",
   "metadata": {},
   "source": [
    "## Linear model with vocabulary (all champions)"
   ]
  },
  {
   "cell_type": "code",
   "execution_count": 8,
   "metadata": {
    "ExecuteTime": {
     "end_time": "2019-05-23T01:54:40.688721Z",
     "start_time": "2019-05-23T01:54:40.684095Z"
    },
    "code_folding": []
   },
   "outputs": [],
   "source": [
    "def construct_hero_categorical_columns(keys,vocab):\n",
    "    \"\"\"Construct categorical features for all features\n",
    "        Args: \n",
    "            input_features: names of input feature columns to use\n",
    "        returns:\n",
    "            a set of categorical columns\n",
    "    \"\"\"\n",
    "    return set([tf.feature_column.categorical_column_with_vocabulary_list(key,\n",
    "                                                                     vocabulary_list = vocab,\n",
    "                                                                     num_oov_buckets =0)\n",
    "                                    for key in keys])\n",
    "                                                               "
   ]
  },
  {
   "cell_type": "markdown",
   "metadata": {},
   "source": [
    "## Define and train the linear model"
   ]
  },
  {
   "cell_type": "code",
   "execution_count": 41,
   "metadata": {
    "ExecuteTime": {
     "end_time": "2019-05-27T02:22:55.878999Z",
     "start_time": "2019-05-27T02:22:55.850576Z"
    },
    "code_folding": [
     0
    ]
   },
   "outputs": [],
   "source": [
    "def train_linear_model(\n",
    "    target,\n",
    "    learning_rate,\n",
    "    steps,\n",
    "    batch_size,\n",
    "    feature_columns,\n",
    "    training_file,\n",
    "    test_file):\n",
    "    \"\"\"Trains a linear regression model.\n",
    "  \n",
    "    In addition to training, this function also prints training progress information,\n",
    "    as well as a plot of the training and validation loss over time.\n",
    "      \n",
    "    Args:\n",
    "        target: Target to use for the model (determines whether float and classifier\n",
    "          vs regressor)\n",
    "        learning_rate: A `float`, the learning rate.\n",
    "        steps: A non-zero `int`, the total number of training steps. A training step\n",
    "          consists of a forward and backward pass using a single batch.\n",
    "        feature_columns: A `set` specifying the input feature columns to use.\n",
    "        training_examples: A `DataFrame` containing one or more columns from\n",
    "          `dota2_df` to use as input features for training.\n",
    "        training_targets: A `DataFrame` containing exactly one column from\n",
    "          `dota2_df` to use as target for training.\n",
    "      \n",
    "    Returns:\n",
    "        A `LinearEstimator` object trained on the training data.\n",
    "    \"\"\"\n",
    "\n",
    "    periods = 20\n",
    "    steps_per_period = steps / periods\n",
    "    if target=='blue_win':\n",
    "        head=tf.contrib.estimator.binary_classification_head()\n",
    "    else:\n",
    "        head=tf.contrib.estimator.regression_head()\n",
    "\n",
    "    \n",
    "    # Create a linear regressor object.\n",
    "    my_optimizer = tf.train.AdagradOptimizer(learning_rate=learning_rate)\n",
    "    linear_estimator = tf.estimator.LinearEstimator(\n",
    "      head=head,\n",
    "      feature_columns=feature_columns,\n",
    "      optimizer=my_optimizer,\n",
    "      config=tf.estimator.RunConfig(keep_checkpoint_max=1)\n",
    "      )\n",
    "    if target=='blue_win':\n",
    "        training_input_fn =lambda: _input_fn_win([training_file])\n",
    "        test_input_fn =lambda: _input_fn_win([test_file])\n",
    "    else:\n",
    "        training_input_fn =lambda: _input_fn_gold([training_file])\n",
    "        test_input_fn =lambda: _input_fn_gold([test_file])\n",
    "\n",
    "    # Train the model, but do so inside a loop so that we can periodically assess\n",
    "    # loss metrics.\n",
    "    print(\"Training model...\")\n",
    "    \n",
    "    \n",
    "    training_acc = []\n",
    "    test_acc = []\n",
    "    for i in range(periods):\n",
    "        # Train the model, starting from the prior state.\n",
    "        linear_estimator.train(\n",
    "            input_fn=training_input_fn,\n",
    "            steps=steps_per_period)\n",
    "        \n",
    "        # Take a break and compute predictions.\n",
    "        evaluation_metrics = linear_estimator.evaluate(\n",
    "            input_fn=training_input_fn,\n",
    "            steps=steps_per_period)\n",
    "        training_acc.append(evaluation_metrics['loss'])\n",
    "                            \n",
    "        evaluation_metrics = linear_estimator.evaluate(\n",
    "            input_fn=test_input_fn,\n",
    "            steps=steps_per_period)    \n",
    "        test_acc.append(evaluation_metrics['loss'])\n",
    "        \n",
    "        print('test loss', evaluation_metrics['loss'])\n",
    "\n",
    "    print(\"Test set metrics:\")\n",
    "    for m in evaluation_metrics:\n",
    "        print(m, evaluation_metrics[m])\n",
    "    print(\"---\")\n",
    "    \n",
    "    plt.plot(training_acc,label='Training loss')\n",
    "    plt.plot(test_acc,label='Test loss')\n",
    "    plt.legend()\n",
    "    plt.show()\n",
    "    \n",
    "    return linear_estimator\n"
   ]
  },
  {
   "cell_type": "markdown",
   "metadata": {},
   "source": [
    "### Train a binary classification model for blue_win"
   ]
  },
  {
   "cell_type": "code",
   "execution_count": 64,
   "metadata": {
    "ExecuteTime": {
     "end_time": "2019-05-31T04:14:38.825271Z",
     "start_time": "2019-05-31T03:48:14.409228Z"
    },
    "scrolled": true
   },
   "outputs": [
    {
     "name": "stdout",
     "output_type": "stream",
     "text": [
      "Training model...\n",
      "test loss 0.69206125\n",
      "test loss 0.6916218\n",
      "test loss 0.69135606\n",
      "test loss 0.691121\n",
      "test loss 0.6909457\n",
      "test loss 0.69085747\n",
      "test loss 0.6906866\n",
      "test loss 0.69061834\n",
      "test loss 0.6905373\n",
      "test loss 0.6904901\n",
      "test loss 0.69043005\n",
      "test loss 0.6903615\n",
      "test loss 0.6903282\n",
      "test loss 0.69031125\n",
      "test loss 0.690244\n",
      "test loss 0.69023037\n",
      "test loss 0.6901719\n",
      "test loss 0.6901614\n",
      "test loss 0.69012135\n",
      "test loss 0.69011706\n",
      "Test set metrics:\n",
      "accuracy 0.53044343\n",
      "accuracy_baseline 0.5049286\n",
      "auc 0.5452918\n",
      "auc_precision_recall 0.5311785\n",
      "average_loss 0.69011754\n",
      "label/mean 0.49507144\n",
      "loss 0.69011706\n",
      "precision 0.5305559\n",
      "prediction/mean 0.49344492\n",
      "recall 0.44743603\n",
      "global_step 50000\n",
      "---\n"
     ]
    },
    {
     "data": {
      "image/png": "[encoded data removed]",
      "text/plain": [
       "<Figure size 432x288 with 1 Axes>"
      ]
     },
     "metadata": {
      "needs_background": "light"
     },
     "output_type": "display_data"
    }
   ],
   "source": [
    "training_file = os.path.join('lol_data','mix_tier','lol_training_data','blue_win_lol_training_data.tfrecords')\n",
    "test_file = os.path.join('lol_data','mix_tier','lol_test_data','blue_win_lol_test_data.tfrecords')\n",
    "\n",
    "trained_win_linear_model = train_linear_model(\n",
    "    target='blue_win',\n",
    "    learning_rate=0.003,\n",
    "    steps=5e4,\n",
    "    batch_size=2000,\n",
    "    feature_columns=construct_hero_categorical_columns(['blue_champs','red_champs'],\n",
    "                                                       champ_vocab),\n",
    "    training_file=training_file,\n",
    "    test_file=test_file)"
   ]
  },
  {
   "cell_type": "markdown",
   "metadata": {},
   "source": [
    "### Train a linear regression model for gold_diff"
   ]
  },
  {
   "cell_type": "code",
   "execution_count": 103,
   "metadata": {
    "ExecuteTime": {
     "end_time": "2019-06-09T05:36:49.074730Z",
     "start_time": "2019-06-09T02:13:08.088569Z"
    },
    "scrolled": true
   },
   "outputs": [
    {
     "name": "stdout",
     "output_type": "stream",
     "text": [
      "Training model...\n",
      "test loss 0.9842289\n",
      "test loss 0.9836467\n",
      "test loss 0.9834102\n",
      "test loss 0.98333055\n",
      "test loss 0.9831264\n",
      "test loss 0.98310876\n",
      "test loss 0.98323774\n",
      "test loss 0.98304826\n",
      "test loss 0.98312145\n",
      "test loss 0.98305404\n",
      "test loss 0.98301\n",
      "test loss 0.9831802\n",
      "test loss 0.98302025\n",
      "test loss 0.98302937\n",
      "test loss 0.98306865\n",
      "test loss 0.9828882\n",
      "test loss 0.98304987\n",
      "test loss 0.9830139\n",
      "test loss 0.98297536\n",
      "test loss 0.98316056\n",
      "Test set metrics:\n",
      "average_loss 0.98316014\n",
      "label/mean 0.00010354905\n",
      "loss 0.98316056\n",
      "prediction/mean -0.00010493766\n",
      "global_step 500000\n",
      "---\n"
     ]
    },
    {
     "data": {
      "image/png": "[encoded data removed]",
      "text/plain": [
       "<Figure size 432x288 with 1 Axes>"
      ]
     },
     "metadata": {
      "needs_background": "light"
     },
     "output_type": "display_data"
    }
   ],
   "source": [
    "training_file = os.path.join('lol_data','mix_tier','lol_training_data',\n",
    "                             'gold_diff_lol_training_data.tfrecords')\n",
    "test_file = os.path.join('lol_data','mix_tier','lol_test_data',\n",
    "                         'gold_diff_lol_test_data.tfrecords')\n",
    "\n",
    "trained_gold_linear_model = train_linear_model(\n",
    "    target='gold_diff',\n",
    "    learning_rate=0.004,\n",
    "    steps=50e4,\n",
    "    batch_size=2000,\n",
    "    feature_columns=construct_hero_categorical_columns(['blue_champs','red_champs'],champ_vocab),\n",
    "    training_file=training_file,\n",
    "    test_file=test_file)"
   ]
  },
  {
   "cell_type": "markdown",
   "metadata": {},
   "source": [
    "### Validate model\n",
    "only do this if you're done training!!"
   ]
  },
  {
   "cell_type": "code",
   "execution_count": 74,
   "metadata": {
    "ExecuteTime": {
     "end_time": "2019-06-03T03:03:39.613624Z",
     "start_time": "2019-06-03T03:03:36.580701Z"
    }
   },
   "outputs": [
    {
     "name": "stdout",
     "output_type": "stream",
     "text": [
      "average_loss 0.9709904\n",
      "label/mean 0.0017768231\n",
      "loss 0.97099054\n",
      "prediction/mean -0.0011792702\n",
      "global_step 500000\n"
     ]
    }
   ],
   "source": [
    "validation_file = os.path.join('lol_data','mix_tier',\n",
    "                               'lol_validation_data',\n",
    "                               'gold_diff_lol_validation_data.tfrecords')\n",
    "validation_input_fn =lambda: _input_fn_gold([validation_file])\n",
    "evaluation_metrics = trained_gold_linear_model.evaluate(\n",
    "            input_fn=validation_input_fn,\n",
    "            steps=100)\n",
    "for m in evaluation_metrics:\n",
    "    print(m, evaluation_metrics[m])"
   ]
  },
  {
   "cell_type": "markdown",
   "metadata": {},
   "source": [
    "## Define and train a DNN model"
   ]
  },
  {
   "cell_type": "markdown",
   "metadata": {},
   "source": [
    "### Define feature column constructor functions"
   ]
  },
  {
   "cell_type": "code",
   "execution_count": 75,
   "metadata": {
    "ExecuteTime": {
     "end_time": "2019-06-03T03:03:54.833163Z",
     "start_time": "2019-06-03T03:03:54.828127Z"
    },
    "code_folding": []
   },
   "outputs": [],
   "source": [
    "def construct_indicator_columns(feature_columns):\n",
    "    \"\"\"Construct indicator columns for all features\n",
    "            from categorical columns\n",
    "        Args: \n",
    "            feature_columns: Set of 'tf.feature_column.categorical_column'\n",
    "                to convert to indicator columns\n",
    "        returns:\n",
    "            a list of indicator columns\n",
    "    \"\"\"\n",
    "    indicator_columns = []\n",
    "    for column in list(feature_columns):\n",
    "        indicator_columns.append(tf.feature_column.indicator_column(column))\n",
    "        \n",
    "    return indicator_columns\n",
    "        "
   ]
  },
  {
   "cell_type": "code",
   "execution_count": 76,
   "metadata": {
    "ExecuteTime": {
     "end_time": "2019-06-03T03:03:55.521628Z",
     "start_time": "2019-06-03T03:03:55.516210Z"
    },
    "code_folding": [
     0
    ]
   },
   "outputs": [],
   "source": [
    "def construct_embedding_columns(feature_columns, dimension):\n",
    "    \"\"\"Construct embedding columns for all features\n",
    "            from categorical columns\n",
    "        Args:\n",
    "            feature_columns: `Set` of 'tf.feature_column.categorical_column'\n",
    "                to convert to embedding columns\n",
    "            dimension: `int` that shows the \n",
    "        returns:\n",
    "            a list of embedding columns\n",
    "    \"\"\"\n",
    "            \n",
    "    embedding_columns = []\n",
    "    for column in list(feature_columns):\n",
    "        embedding_columns.append(tf.feature_column.embedding_column(column,dimension=dimension))\n",
    "        \n",
    "    return embedding_columns"
   ]
  },
  {
   "cell_type": "markdown",
   "metadata": {},
   "source": [
    "### Define model training function"
   ]
  },
  {
   "cell_type": "code",
   "execution_count": 77,
   "metadata": {
    "ExecuteTime": {
     "end_time": "2019-06-03T03:03:58.046018Z",
     "start_time": "2019-06-03T03:03:58.032013Z"
    },
    "code_folding": []
   },
   "outputs": [],
   "source": [
    "def train_dnn_model(\n",
    "    target,\n",
    "    my_optimizer,\n",
    "    hidden_units,\n",
    "    steps,\n",
    "    batch_size,\n",
    "    feature_columns,\n",
    "    training_file,\n",
    "    test_file):\n",
    "    \"\"\"Trains a deep neural network regression model.\n",
    "  \n",
    "    In addition to training, this function also prints training progress information,\n",
    "    as well as a plot of the training and validation loss over time.\n",
    "      \n",
    "    Args:\n",
    "        target: A `str` specifying the target.\n",
    "        my_optimizer: A `tf.Optimizer` to use to train our model\n",
    "        hidden_units: A `list` of `ints` specifying the number of layers and number \n",
    "            of nodes per layer.\n",
    "        steps: A non-zero `int`, the total number of training steps. A training step\n",
    "          consists of a forward and backward pass using a single batch.\n",
    "        batch_size: `int` specifying the batch size.\n",
    "        feature_columns: A `set` specifying the input feature columns to use.\n",
    "        training_file: A 'string' specifying the training data file location\n",
    "        test_file: A `string` specifying the test data file location\n",
    "      \n",
    "    Returns:\n",
    "        A `DNNClassifer` object trained on the training data.\n",
    "    \"\"\"\n",
    "\n",
    "    periods = 20\n",
    "    steps_per_period = steps / periods\n",
    "    \n",
    "    if target=='blue_win':\n",
    "        head=tf.contrib.estimator.binary_classification_head()\n",
    "    else:\n",
    "        head=tf.contrib.estimator.regression_head()\n",
    "\n",
    "    # Create a dnn regressor object.\n",
    "    dnn_estimator = tf.estimator.DNNEstimator(\n",
    "      head=head,\n",
    "      feature_columns=feature_columns,\n",
    "      hidden_units=hidden_units,\n",
    "      optimizer=my_optimizer\n",
    "      )\n",
    "  \n",
    "    if target=='blue_win':\n",
    "        training_input_fn =lambda: _input_fn_win([training_file])\n",
    "        test_input_fn =lambda: _input_fn_win([test_file])\n",
    "    else:\n",
    "        training_input_fn =lambda: _input_fn_gold([training_file])\n",
    "        test_input_fn =lambda: _input_fn_gold([test_file])\n",
    "\n",
    "    # Train the model, but do so inside a loop so that we can periodically assess\n",
    "    # loss metrics.\n",
    "    print(\"Training model...\")\n",
    "    \n",
    "    \n",
    "    training_acc = []\n",
    "    test_acc = []\n",
    "    for i in range(periods):\n",
    "        # Train the model, starting from the prior state.\n",
    "        dnn_estimator.train(\n",
    "            input_fn=training_input_fn,\n",
    "            steps=steps_per_period)\n",
    "        \n",
    "        # Take a break and compute predictions.\n",
    "        evaluation_metrics = dnn_estimator.evaluate(\n",
    "            input_fn=training_input_fn,\n",
    "            steps=steps_per_period)\n",
    "        training_acc.append(evaluation_metrics['loss'])\n",
    "        #print('training accuracy %f' %(evaluation_metrics['accuracy'])) \n",
    "        \n",
    "        evaluation_metrics = dnn_estimator.evaluate(\n",
    "            input_fn=test_input_fn,\n",
    "            steps=steps_per_period)    \n",
    "        test_acc.append(evaluation_metrics['loss'])\n",
    "        \n",
    "        print('test accuracy %f' %(evaluation_metrics['loss']))\n",
    "\n",
    "    print(\"Test set metrics:\")\n",
    "    for m in evaluation_metrics:\n",
    "        print(m, evaluation_metrics[m])\n",
    "    print(\"---\")\n",
    "    \n",
    "    plt.plot(training_acc,label='Training loss')\n",
    "    plt.plot(test_acc,label='Test loss')\n",
    "    plt.legend()\n",
    "    plt.show()\n",
    "    \n",
    "    return dnn_estimator\n"
   ]
  },
  {
   "cell_type": "markdown",
   "metadata": {},
   "source": [
    "### Specify path to tfrecord files and construct feature colums"
   ]
  },
  {
   "cell_type": "code",
   "execution_count": 63,
   "metadata": {
    "ExecuteTime": {
     "end_time": "2019-05-31T03:48:04.535195Z",
     "start_time": "2019-05-31T03:48:04.513028Z"
    }
   },
   "outputs": [],
   "source": [
    "training_file_win = os.path.join('lol_data','mix_tier','lol_training_data',\n",
    "                             'blue_win_lol_training_data.tfrecords')\n",
    "test_file_win = os.path.join('lol_data','mix_tier','lol_test_data',\n",
    "                         'blue_win_lol_test_data.tfrecords')\n",
    "\n",
    "training_file_gold = os.path.join('lol_data','mix_tier','lol_training_data',\n",
    "                             'gold_diff_lol_training_data.tfrecords')\n",
    "test_file_gold = os.path.join('lol_data','mix_tier','lol_test_data',\n",
    "                         'gold_diff_lol_test_data.tfrecords')\n",
    "\n",
    "categorical_feature_columns = construct_hero_categorical_columns(['blue_champs','red_champs'],champ_vocab)\n",
    "indicator_feature_columns = construct_indicator_columns(categorical_feature_columns)\n",
    "embedding_feature_columns = construct_embedding_columns(categorical_feature_columns,dimension=4)"
   ]
  },
  {
   "cell_type": "markdown",
   "metadata": {},
   "source": [
    "### Train model for blue_win"
   ]
  },
  {
   "cell_type": "code",
   "execution_count": 98,
   "metadata": {
    "ExecuteTime": {
     "end_time": "2019-06-08T04:55:28.715977Z",
     "start_time": "2019-06-08T04:19:42.568610Z"
    },
    "scrolled": true
   },
   "outputs": [
    {
     "name": "stdout",
     "output_type": "stream",
     "text": [
      "Training model...\n",
      "test accuracy 0.692736\n",
      "test accuracy 0.690703\n",
      "test accuracy 0.690700\n",
      "test accuracy 0.690560\n",
      "test accuracy 0.690635\n",
      "test accuracy 0.690531\n",
      "test accuracy 0.690387\n",
      "test accuracy 0.690536\n",
      "test accuracy 0.690765\n",
      "test accuracy 0.690347\n",
      "test accuracy 0.690621\n",
      "test accuracy 0.690694\n",
      "test accuracy 0.690713\n",
      "test accuracy 0.691131\n",
      "test accuracy 0.690605\n",
      "test accuracy 0.690638\n",
      "test accuracy 0.690800\n",
      "test accuracy 0.690560\n",
      "test accuracy 0.690909\n",
      "test accuracy 0.690578\n",
      "Test set metrics:\n",
      "accuracy 0.53137624\n",
      "accuracy_baseline 0.5054605\n",
      "auc 0.5431834\n",
      "auc_precision_recall 0.53000677\n",
      "average_loss 0.69057864\n",
      "label/mean 0.4945395\n",
      "loss 0.69057775\n",
      "precision 0.5295936\n",
      "prediction/mean 0.49553642\n",
      "recall 0.46889746\n",
      "global_step 60000\n",
      "---\n"
     ]
    },
    {
     "data": {
      "image/png": "[encoded data removed]",
      "text/plain": [
       "<Figure size 432x288 with 1 Axes>"
      ]
     },
     "metadata": {
      "needs_background": "light"
     },
     "output_type": "display_data"
    }
   ],
   "source": [
    "my_optimizer = tf.contrib.opt.AdamWOptimizer(weight_decay=0.0005, learning_rate=0.0009)\n",
    "#my_optimizer = tf.contrib.estimator.clip_gradients_by_norm(my_optimizer, 5.0)\n",
    "\n",
    "trained_dnn_model = train_dnn_model(\n",
    "    target = 'blue_win',\n",
    "    my_optimizer = my_optimizer,\n",
    "    hidden_units = [16,16],\n",
    "    steps=6e4,\n",
    "    batch_size=3000,\n",
    "    feature_columns=embedding_feature_columns,\n",
    "    training_file=training_file_win,\n",
    "    test_file=test_file_win)"
   ]
  },
  {
   "cell_type": "markdown",
   "metadata": {},
   "source": [
    "### Train model for gold_diff"
   ]
  },
  {
   "cell_type": "code",
   "execution_count": 85,
   "metadata": {
    "ExecuteTime": {
     "end_time": "2019-06-05T03:27:51.526099Z",
     "start_time": "2019-06-05T01:12:08.516765Z"
    },
    "scrolled": true
   },
   "outputs": [
    {
     "name": "stdout",
     "output_type": "stream",
     "text": [
      "Training model...\n",
      "test accuracy 0.993505\n",
      "test accuracy 0.986219\n",
      "test accuracy 0.984541\n",
      "test accuracy 0.983805\n",
      "test accuracy 0.983313\n",
      "test accuracy 0.984296\n",
      "test accuracy 0.983490\n",
      "test accuracy 0.984584\n",
      "test accuracy 0.983483\n",
      "test accuracy 0.983216\n",
      "test accuracy 0.983471\n",
      "test accuracy 0.983219\n",
      "test accuracy 0.983500\n",
      "test accuracy 0.983657\n",
      "test accuracy 0.983689\n",
      "test accuracy 0.983752\n",
      "test accuracy 0.983711\n",
      "test accuracy 0.983538\n",
      "test accuracy 0.984153\n",
      "test accuracy 0.983420\n",
      "Test set metrics:\n",
      "average_loss 0.9834413\n",
      "label/mean -8.640563e-05\n",
      "loss 0.98342013\n",
      "prediction/mean 0.009866235\n",
      "global_step 300000\n",
      "---\n"
     ]
    },
    {
     "data": {
      "image/png": "[encoded data removed]",
      "text/plain": [
       "<Figure size 432x288 with 1 Axes>"
      ]
     },
     "metadata": {
      "needs_background": "light"
     },
     "output_type": "display_data"
    }
   ],
   "source": [
    "my_optimizer = tf.contrib.opt.AdamWOptimizer(weight_decay=20e-6, learning_rate=2e-4)\n",
    "#my_optimizer = tf.contrib.estimator.clip_gradients_by_norm(my_optimizer, 5.0)\n",
    "\n",
    "trained_dnn_model = train_dnn_model(\n",
    "    target = 'gold_diff',\n",
    "    my_optimizer = my_optimizer,\n",
    "    hidden_units = [24,24],\n",
    "    steps=3e5,\n",
    "    batch_size=3000,\n",
    "    feature_columns=embedding_feature_columns,\n",
    "    training_file=training_file_gold,\n",
    "    test_file=test_file_gold)"
   ]
  },
  {
   "cell_type": "markdown",
   "metadata": {},
   "source": [
    "### Validate model\n",
    "only do this if you're done training!!"
   ]
  },
  {
   "cell_type": "code",
   "execution_count": 24,
   "metadata": {
    "ExecuteTime": {
     "end_time": "2019-04-11T04:16:41.086467Z",
     "start_time": "2019-04-11T04:16:23.199871Z"
    },
    "scrolled": true
   },
   "outputs": [
    {
     "name": "stdout",
     "output_type": "stream",
     "text": [
      "accuracy 0.5495492\n",
      "accuracy_baseline 0.50042677\n",
      "auc 0.5685406\n",
      "auc_precision_recall 0.5591297\n",
      "average_loss 0.6860394\n",
      "label/mean 0.50042677\n",
      "loss 34.295567\n",
      "precision 0.5458012\n",
      "prediction/mean 0.507441\n",
      "recall 0.5950433\n",
      "global_step 3000\n"
     ]
    }
   ],
   "source": [
    "validation_file = os.path.join('LOL_data','masters_tier','lol_validation_data', 'lol_validation_data.tfrecords')\n",
    "validation_input_fn =lambda: _input_fn([validation_file])\n",
    "evaluation_metrics = trained_dnn_model.evaluate(\n",
    "            input_fn=validation_input_fn,\n",
    "            steps=3e3)\n",
    "for m in evaluation_metrics:\n",
    "    print(m, evaluation_metrics[m])"
   ]
  },
  {
   "cell_type": "markdown",
   "metadata": {},
   "source": [
    "### Investigate embeding layer"
   ]
  },
  {
   "cell_type": "code",
   "execution_count": 99,
   "metadata": {
    "ExecuteTime": {
     "end_time": "2019-06-09T02:11:27.009878Z",
     "start_time": "2019-06-09T02:11:26.888817Z"
    }
   },
   "outputs": [
    {
     "ename": "NameError",
     "evalue": "name 'interface' is not defined",
     "output_type": "error",
     "traceback": [
      "\u001b[0;31m---------------------------------------------------------------------------\u001b[0m",
      "\u001b[0;31mNameError\u001b[0m                                 Traceback (most recent call last)",
      "\u001b[0;32m<ipython-input-99-4ef453f3029e>\u001b[0m in \u001b[0;36m<module>\u001b[0;34m\u001b[0m\n\u001b[0;32m----> 1\u001b[0;31m \u001b[0mchamp_list\u001b[0m \u001b[0;34m=\u001b[0m \u001b[0minterface\u001b[0m\u001b[0;34m(\u001b[0m\u001b[0;34m'IEconDOTA2_570'\u001b[0m\u001b[0;34m)\u001b[0m\u001b[0;34m.\u001b[0m\u001b[0mGetHeroes\u001b[0m\u001b[0;34m(\u001b[0m\u001b[0mitemizedonly\u001b[0m \u001b[0;34m=\u001b[0m \u001b[0;32mTrue\u001b[0m\u001b[0;34m)\u001b[0m\u001b[0;34m[\u001b[0m\u001b[0;34m'result'\u001b[0m\u001b[0;34m]\u001b[0m\u001b[0;34m[\u001b[0m\u001b[0;34m'heroes'\u001b[0m\u001b[0;34m]\u001b[0m\u001b[0;34m\u001b[0m\u001b[0;34m\u001b[0m\u001b[0m\n\u001b[0m",
      "\u001b[0;31mNameError\u001b[0m: name 'interface' is not defined"
     ]
    }
   ],
   "source": [
    "champ_list = interface('IEconDOTA2_570').GetHeroes(itemizedonly = True)['result']['heroes']"
   ]
  },
  {
   "cell_type": "code",
   "execution_count": 100,
   "metadata": {
    "ExecuteTime": {
     "end_time": "2019-06-09T02:11:27.281922Z",
     "start_time": "2019-06-09T02:11:27.205382Z"
    }
   },
   "outputs": [
    {
     "ename": "NotFoundError",
     "evalue": "Key dnn/input_from_feature_columns/input_layer/blue_heroes_embedding/embedding_weights not found in checkpoint",
     "output_type": "error",
     "traceback": [
      "\u001b[0;31m---------------------------------------------------------------------------\u001b[0m",
      "\u001b[0;31mNotFoundError\u001b[0m                             Traceback (most recent call last)",
      "\u001b[0;32m<ipython-input-100-935371ffc25e>\u001b[0m in \u001b[0;36m<module>\u001b[0;34m\u001b[0m\n\u001b[1;32m      4\u001b[0m \u001b[0;34m\u001b[0m\u001b[0m\n\u001b[1;32m      5\u001b[0m blue_embedding_matrix = trained_dnn_model.get_variable_value(\n\u001b[0;32m----> 6\u001b[0;31m     'dnn/input_from_feature_columns/input_layer/blue_heroes_embedding/embedding_weights')\n\u001b[0m\u001b[1;32m      7\u001b[0m \u001b[0;34m\u001b[0m\u001b[0m\n\u001b[1;32m      8\u001b[0m \u001b[0;32mfor\u001b[0m \u001b[0mchamp_index\u001b[0m \u001b[0;32min\u001b[0m \u001b[0mrange\u001b[0m\u001b[0;34m(\u001b[0m\u001b[0mlen\u001b[0m\u001b[0;34m(\u001b[0m\u001b[0mvocab\u001b[0m\u001b[0;34m)\u001b[0m\u001b[0;34m)\u001b[0m\u001b[0;34m:\u001b[0m\u001b[0;34m\u001b[0m\u001b[0;34m\u001b[0m\u001b[0m\n",
      "\u001b[0;32m~/anaconda3/lib/python3.7/site-packages/tensorflow_estimator/python/estimator/estimator.py\u001b[0m in \u001b[0;36mget_variable_value\u001b[0;34m(self, name)\u001b[0m\n\u001b[1;32m    256\u001b[0m     \u001b[0m_check_checkpoint_available\u001b[0m\u001b[0;34m(\u001b[0m\u001b[0mself\u001b[0m\u001b[0;34m.\u001b[0m\u001b[0mmodel_dir\u001b[0m\u001b[0;34m)\u001b[0m\u001b[0;34m\u001b[0m\u001b[0;34m\u001b[0m\u001b[0m\n\u001b[1;32m    257\u001b[0m     \u001b[0;32mwith\u001b[0m \u001b[0mcontext\u001b[0m\u001b[0;34m.\u001b[0m\u001b[0mgraph_mode\u001b[0m\u001b[0;34m(\u001b[0m\u001b[0;34m)\u001b[0m\u001b[0;34m:\u001b[0m\u001b[0;34m\u001b[0m\u001b[0;34m\u001b[0m\u001b[0m\n\u001b[0;32m--> 258\u001b[0;31m       \u001b[0;32mreturn\u001b[0m \u001b[0mtraining\u001b[0m\u001b[0;34m.\u001b[0m\u001b[0mload_variable\u001b[0m\u001b[0;34m(\u001b[0m\u001b[0mself\u001b[0m\u001b[0;34m.\u001b[0m\u001b[0mmodel_dir\u001b[0m\u001b[0;34m,\u001b[0m \u001b[0mname\u001b[0m\u001b[0;34m)\u001b[0m\u001b[0;34m\u001b[0m\u001b[0;34m\u001b[0m\u001b[0m\n\u001b[0m\u001b[1;32m    259\u001b[0m \u001b[0;34m\u001b[0m\u001b[0m\n\u001b[1;32m    260\u001b[0m   \u001b[0;32mdef\u001b[0m \u001b[0mget_variable_names\u001b[0m\u001b[0;34m(\u001b[0m\u001b[0mself\u001b[0m\u001b[0;34m)\u001b[0m\u001b[0;34m:\u001b[0m\u001b[0;34m\u001b[0m\u001b[0;34m\u001b[0m\u001b[0m\n",
      "\u001b[0;32m~/anaconda3/lib/python3.7/site-packages/tensorflow/python/training/checkpoint_utils.py\u001b[0m in \u001b[0;36mload_variable\u001b[0;34m(ckpt_dir_or_file, name)\u001b[0m\n\u001b[1;32m     80\u001b[0m     \u001b[0mname\u001b[0m \u001b[0;34m=\u001b[0m \u001b[0mname\u001b[0m\u001b[0;34m[\u001b[0m\u001b[0;34m:\u001b[0m\u001b[0;34m-\u001b[0m\u001b[0;36m2\u001b[0m\u001b[0;34m]\u001b[0m\u001b[0;34m\u001b[0m\u001b[0;34m\u001b[0m\u001b[0m\n\u001b[1;32m     81\u001b[0m   \u001b[0mreader\u001b[0m \u001b[0;34m=\u001b[0m \u001b[0mload_checkpoint\u001b[0m\u001b[0;34m(\u001b[0m\u001b[0mckpt_dir_or_file\u001b[0m\u001b[0;34m)\u001b[0m\u001b[0;34m\u001b[0m\u001b[0;34m\u001b[0m\u001b[0m\n\u001b[0;32m---> 82\u001b[0;31m   \u001b[0;32mreturn\u001b[0m \u001b[0mreader\u001b[0m\u001b[0;34m.\u001b[0m\u001b[0mget_tensor\u001b[0m\u001b[0;34m(\u001b[0m\u001b[0mname\u001b[0m\u001b[0;34m)\u001b[0m\u001b[0;34m\u001b[0m\u001b[0;34m\u001b[0m\u001b[0m\n\u001b[0m\u001b[1;32m     83\u001b[0m \u001b[0;34m\u001b[0m\u001b[0m\n\u001b[1;32m     84\u001b[0m \u001b[0;34m\u001b[0m\u001b[0m\n",
      "\u001b[0;32m~/anaconda3/lib/python3.7/site-packages/tensorflow/python/pywrap_tensorflow_internal.py\u001b[0m in \u001b[0;36mget_tensor\u001b[0;34m(self, tensor_str)\u001b[0m\n\u001b[1;32m    368\u001b[0m         \u001b[0;32mfrom\u001b[0m \u001b[0mtensorflow\u001b[0m\u001b[0;34m.\u001b[0m\u001b[0mpython\u001b[0m\u001b[0;34m.\u001b[0m\u001b[0mutil\u001b[0m \u001b[0;32mimport\u001b[0m \u001b[0mcompat\u001b[0m\u001b[0;34m\u001b[0m\u001b[0;34m\u001b[0m\u001b[0m\n\u001b[1;32m    369\u001b[0m         return CheckpointReader_GetTensor(self, compat.as_bytes(tensor_str),\n\u001b[0;32m--> 370\u001b[0;31m                                           status)\n\u001b[0m\u001b[1;32m    371\u001b[0m \u001b[0;34m\u001b[0m\u001b[0m\n\u001b[1;32m    372\u001b[0m     \u001b[0m__swig_destroy__\u001b[0m \u001b[0;34m=\u001b[0m \u001b[0m_pywrap_tensorflow_internal\u001b[0m\u001b[0;34m.\u001b[0m\u001b[0mdelete_CheckpointReader\u001b[0m\u001b[0;34m\u001b[0m\u001b[0;34m\u001b[0m\u001b[0m\n",
      "\u001b[0;32m~/anaconda3/lib/python3.7/site-packages/tensorflow/python/framework/errors_impl.py\u001b[0m in \u001b[0;36m__exit__\u001b[0;34m(self, type_arg, value_arg, traceback_arg)\u001b[0m\n\u001b[1;32m    526\u001b[0m             \u001b[0;32mNone\u001b[0m\u001b[0;34m,\u001b[0m \u001b[0;32mNone\u001b[0m\u001b[0;34m,\u001b[0m\u001b[0;34m\u001b[0m\u001b[0;34m\u001b[0m\u001b[0m\n\u001b[1;32m    527\u001b[0m             \u001b[0mcompat\u001b[0m\u001b[0;34m.\u001b[0m\u001b[0mas_text\u001b[0m\u001b[0;34m(\u001b[0m\u001b[0mc_api\u001b[0m\u001b[0;34m.\u001b[0m\u001b[0mTF_Message\u001b[0m\u001b[0;34m(\u001b[0m\u001b[0mself\u001b[0m\u001b[0;34m.\u001b[0m\u001b[0mstatus\u001b[0m\u001b[0;34m.\u001b[0m\u001b[0mstatus\u001b[0m\u001b[0;34m)\u001b[0m\u001b[0;34m)\u001b[0m\u001b[0;34m,\u001b[0m\u001b[0;34m\u001b[0m\u001b[0;34m\u001b[0m\u001b[0m\n\u001b[0;32m--> 528\u001b[0;31m             c_api.TF_GetCode(self.status.status))\n\u001b[0m\u001b[1;32m    529\u001b[0m     \u001b[0;31m# Delete the underlying status object from memory otherwise it stays alive\u001b[0m\u001b[0;34m\u001b[0m\u001b[0;34m\u001b[0m\u001b[0;34m\u001b[0m\u001b[0m\n\u001b[1;32m    530\u001b[0m     \u001b[0;31m# as there is a reference to status from this from the traceback due to\u001b[0m\u001b[0;34m\u001b[0m\u001b[0;34m\u001b[0m\u001b[0;34m\u001b[0m\u001b[0m\n",
      "\u001b[0;31mNotFoundError\u001b[0m: Key dnn/input_from_feature_columns/input_layer/blue_heroes_embedding/embedding_weights not found in checkpoint"
     ]
    }
   ],
   "source": [
    "vocab = list(range(105))+list(range(106,114))+list(range(119,121))\n",
    "red_embedding_matrix = trained_dnn_model.get_variable_value(\n",
    "    'dnn/input_from_feature_columns/input_layer/red_champs_embedding/embedding_weights')\n",
    "\n",
    "blue_embedding_matrix = trained_dnn_model.get_variable_value(\n",
    "    'dnn/input_from_feature_columns/input_layer/blue_heroes_embedding/embedding_weights')\n",
    "\n",
    "for champ_index in range(len(vocab)):\n",
    "    # Create a one-hot encoding for our term. It has 0s everywhere, except for\n",
    "    # a single 1 in the coordinate that corresponds to that term.\n",
    "    red_vector = np.zeros(len(vocab))\n",
    "    red_vector[champ_index] = 1\n",
    "    blue_vector = np.zeros(len(vocab))\n",
    "    blue_vector[champ_index] = 1\n",
    "    # We'll now project that one-hot vector into the embedding space.\n",
    "    red_embedding_xy = np.matmul(dire_vector, dire_embedding_matrix)\n",
    "    blue_embedding_xy = np.matmul(dire_vector,dire_embedding_matrix)\n",
    "    #plt.text(dire_embedding_xy[0],\n",
    "    #       dire_embedding_xy[1],\n",
    "    #       hero_list[hero_index]['name'][14:],fontsize=8)\n",
    "    plt.text(blue_embedding_xy[0],\n",
    "           blue_embedding_xy[3],\n",
    "           champ_list[champ_index]['name'][14:],fontsize=8,)\n",
    "\n",
    "# Do a little setup to make sure the plot displays nicely.\n",
    "plt.rcParams[\"figure.figsize\"] = (15, 15)\n",
    "plt.xlim(1.2 * red_embedding_matrix.min(), 1.2 * red_embedding_matrix.max())\n",
    "plt.ylim(1.2 * red_embedding_matrix.min(), 1.2 * red_embedding_matrix.max())\n",
    "plt.show() "
   ]
  },
  {
   "cell_type": "markdown",
   "metadata": {},
   "source": [
    "### Save a trained model later exploration, or for on-demand prediction of test cases"
   ]
  },
  {
   "cell_type": "code",
   "execution_count": 104,
   "metadata": {
    "ExecuteTime": {
     "end_time": "2019-06-09T20:55:30.027907Z",
     "start_time": "2019-06-09T20:55:30.006757Z"
    }
   },
   "outputs": [],
   "source": [
    "def serving_input_receiver_fn():\n",
    "    \"\"\"An input receiver that expects a serialized tf.Example.\"\"\"\n",
    "    feature_spec = {\n",
    "        \"blue_champs\": tf.FixedLenFeature([], dtype=tf.string), #array of five 8 bit ints for heroes\n",
    "        \"red_champs\": tf.FixedLenFeature([], dtype=tf.string) #array of five 8-bit ints for heroes\n",
    "                }\n",
    "    serialized_tf_example = tf.placeholder(dtype=tf.string,\n",
    "                                         shape=[1],\n",
    "                                         name='input_example_tensor')\n",
    "    receiver_tensors = {'examples': serialized_tf_example}\n",
    "    parsed_features = tf.parse_example(serialized_tf_example, feature_spec)\n",
    "    \n",
    "    radiant_heroes = tf.decode_raw(parsed_features['blue_champs'], tf.int64)\n",
    "    dire_heroes = tf.decode_raw(parsed_features['red_champs'], tf.int64)\n",
    "    \n",
    "    features = {'blue_champs':radiant_heroes, 'red_champs': dire_heroes}\n",
    "    return tf.estimator.export.ServingInputReceiver(features, receiver_tensors)"
   ]
  },
  {
   "cell_type": "code",
   "execution_count": 105,
   "metadata": {
    "ExecuteTime": {
     "end_time": "2019-06-09T20:55:33.478857Z",
     "start_time": "2019-06-09T20:55:32.864151Z"
    }
   },
   "outputs": [
    {
     "data": {
      "text/plain": [
       "b'trained_models/linear_models/1560113732'"
      ]
     },
     "execution_count": 105,
     "metadata": {},
     "output_type": "execute_result"
    }
   ],
   "source": [
    "export_dir = os.path.join('trained_models','linear_models')\n",
    "trained_gold_linear_model.export_savedmodel(\n",
    "                                export_dir_base = export_dir,\n",
    "                                serving_input_receiver_fn = serving_input_receiver_fn)"
   ]
  },
  {
   "cell_type": "code",
   "execution_count": null,
   "metadata": {},
   "outputs": [],
   "source": []
  }
 ],
 "metadata": {
  "kernelspec": {
   "display_name": "Python 3",
   "language": "python",
   "name": "python3"
  },
  "language_info": {
   "codemirror_mode": {
    "name": "ipython",
    "version": 3
   },
   "file_extension": ".py",
   "mimetype": "text/x-python",
   "name": "python",
   "nbconvert_exporter": "python",
   "pygments_lexer": "ipython3",
   "version": "3.7.3"
  },
  "notify_time": "30",
  "toc": {
   "base_numbering": 1,
   "nav_menu": {},
   "number_sections": true,
   "sideBar": true,
   "skip_h1_title": false,
   "title_cell": "Table of Contents",
   "title_sidebar": "Contents",
   "toc_cell": false,
   "toc_position": {},
   "toc_section_display": true,
   "toc_window_display": false
  }
 },
 "nbformat": 4,
 "nbformat_minor": 2
}
