{
 "cells": [
  {
   "cell_type": "code",
   "execution_count": 1,
   "metadata": {
    "ExecuteTime": {
     "end_time": "2019-04-29T05:43:16.965522Z",
     "start_time": "2019-04-29T05:43:13.981320Z"
    },
    "scrolled": false
   },
   "outputs": [],
   "source": [
    "import seaborn as sns\n",
    "import pandas as pd\n",
    "import pylab as plt\n",
    "import numpy as np\n",
    "import os\n",
    "import tensorflow as tf\n",
    "from IPython import display\n",
    "from sklearn import metrics\n",
    "import glob\n",
    "import sys\n",
    "from riotwatcher import RiotWatcher\n",
    "import requests\n",
    "import json\n",
    "\n",
    "api_file = os.path.join('..','..','apikeys','LOL_api_key.txt')\n",
    "with open(api_file, 'r') as fin:\n",
    "    watcher = RiotWatcher(fin.readline())\n",
    "\n",
    "tf.logging.set_verbosity(tf.logging.ERROR)"
   ]
  },
  {
   "cell_type": "markdown",
   "metadata": {},
   "source": [
    "### Get all champs in game from static data file (.json)"
   ]
  },
  {
   "cell_type": "code",
   "execution_count": 2,
   "metadata": {
    "ExecuteTime": {
     "end_time": "2019-04-29T05:43:19.052322Z",
     "start_time": "2019-04-29T05:43:19.042474Z"
    },
    "code_folding": []
   },
   "outputs": [],
   "source": [
    "champfile=os.path.join('lol_data','version6.24.1_champion.json')\n",
    "with open(champfile,'r') as fin:\n",
    "    champdata=json.load(fin)"
   ]
  },
  {
   "cell_type": "code",
   "execution_count": 3,
   "metadata": {
    "ExecuteTime": {
     "end_time": "2019-04-29T05:43:19.368952Z",
     "start_time": "2019-04-29T05:43:19.364403Z"
    },
    "code_folding": []
   },
   "outputs": [],
   "source": [
    "champ_vocab=[]\n",
    "for name,data in champdata['data'].items():\n",
    "    champ_vocab.append(data['key'])\n",
    "champ_vocab = [int(i) for i in champ_vocab]"
   ]
  },
  {
   "cell_type": "markdown",
   "metadata": {},
   "source": [
    "# Modeling using a TFRecord dataformat"
   ]
  },
  {
   "cell_type": "markdown",
   "metadata": {},
   "source": [
    "## Build TFRecord input pipeline"
   ]
  },
  {
   "cell_type": "code",
   "execution_count": 16,
   "metadata": {
    "ExecuteTime": {
     "end_time": "2019-04-29T05:52:12.890502Z",
     "start_time": "2019-04-29T05:52:12.882146Z"
    },
    "code_folding": []
   },
   "outputs": [],
   "source": [
    "def _parse_function_win(record):\n",
    "    \"\"\"Extracts features and labels.\n",
    "  \n",
    "    Args:\n",
    "        record: File path to a TFRecord file    \n",
    "      Returns:\n",
    "    A `tuple` `(labels, features)`:\n",
    "      features: A dict of tensors representing the features\n",
    "      labels: A tensor with the corresponding labels.\n",
    "    \"\"\"\n",
    "    features = {\n",
    "        \"blue_champs\": tf.FixedLenFeature([], dtype=tf.string), #array of five 8 bit ints for heroes\n",
    "        \"red_champs\": tf.FixedLenFeature([], dtype=tf.string), #array of five 8-bit ints for heroes\n",
    "        \"targets\": tf.FixedLenFeature(shape=[1], dtype=tf.int64)\n",
    "                }\n",
    "  \n",
    "    parsed_features = tf.parse_single_example(record, features)\n",
    "  \n",
    "    blue_champs = tf.decode_raw(parsed_features['blue_champs'], tf.int64)\n",
    "    red_champs = tf.decode_raw(parsed_features['red_champs'], tf.int64)\n",
    "    target = parsed_features['targets']\n",
    "\n",
    "    return  {'blue_champs':blue_champs, 'red_champs':red_champs}, target"
   ]
  },
  {
   "cell_type": "code",
   "execution_count": 32,
   "metadata": {
    "ExecuteTime": {
     "end_time": "2019-04-30T02:56:18.631505Z",
     "start_time": "2019-04-30T02:56:18.624829Z"
    }
   },
   "outputs": [],
   "source": [
    "def _parse_function_float(record):\n",
    "    \"\"\"Extracts features and labels.\n",
    "  \n",
    "    Args:\n",
    "        record: File path to a TFRecord file    \n",
    "      Returns:\n",
    "    A `tuple` `(labels, features)`:\n",
    "      features: A dict of tensors representing the features\n",
    "      labels: A tensor with the corresponding labels.\n",
    "    \"\"\"\n",
    "    features = {\n",
    "        \"blue_champs\": tf.FixedLenFeature([], dtype=tf.string), #array of five 8 bit ints for heroes\n",
    "        \"red_champs\": tf.FixedLenFeature([], dtype=tf.string), #array of five 8-bit ints for heroes\n",
    "        \"targets\": tf.FixedLenFeature(shape=[1], dtype=tf.float32)\n",
    "                }\n",
    "  \n",
    "    parsed_features = tf.parse_single_example(record, features)\n",
    "  \n",
    "    blue_champs = tf.decode_raw(parsed_features['blue_champs'], tf.int64)\n",
    "    red_champs = tf.decode_raw(parsed_features['red_champs'], tf.int64)\n",
    "    target = parsed_features['targets']\n",
    "\n",
    "    return  {'blue_champs':blue_champs, 'red_champs':red_champs}, target"
   ]
  },
  {
   "cell_type": "markdown",
   "metadata": {},
   "source": [
    "#### Check the parse function worked"
   ]
  },
  {
   "cell_type": "code",
   "execution_count": 14,
   "metadata": {
    "ExecuteTime": {
     "end_time": "2019-04-29T05:51:53.482520Z",
     "start_time": "2019-04-29T05:51:53.463530Z"
    }
   },
   "outputs": [
    {
     "data": {
      "text/plain": [
       "<DatasetV1Adapter shapes: ({blue_champs: (?,), red_champs: (?,)}, (1,)), types: ({blue_champs: tf.int64, red_champs: tf.int64}, tf.int64)>"
      ]
     },
     "execution_count": 14,
     "metadata": {},
     "output_type": "execute_result"
    }
   ],
   "source": [
    "# Create the Dataset object.\n",
    "ds = tf.data.TFRecordDataset(os.path.join('LOL_data','mix_tier',\n",
    "                                          'lol_training_data',\n",
    "                                          'blue_win_lol_training_data.tfrecords'))\n",
    "# Map features and labels with the parse function.\n",
    "ds = ds.map(_parse_function)\n",
    "\n",
    "ds"
   ]
  },
  {
   "cell_type": "code",
   "execution_count": 15,
   "metadata": {
    "ExecuteTime": {
     "end_time": "2019-04-29T05:51:54.716599Z",
     "start_time": "2019-04-29T05:51:54.631987Z"
    },
    "scrolled": true
   },
   "outputs": [
    {
     "data": {
      "text/plain": [
       "({'blue_champs': array([ 15, 267, 266, 517,  43]),\n",
       "  'red_champs': array([ 51, 268, 421,  78,  25])},\n",
       " array([1]))"
      ]
     },
     "execution_count": 15,
     "metadata": {},
     "output_type": "execute_result"
    }
   ],
   "source": [
    "n = ds.make_one_shot_iterator().get_next()\n",
    "sess = tf.Session()\n",
    "sess.run(n)"
   ]
  },
  {
   "cell_type": "markdown",
   "metadata": {},
   "source": [
    "## Model Functions"
   ]
  },
  {
   "cell_type": "code",
   "execution_count": 21,
   "metadata": {
    "ExecuteTime": {
     "end_time": "2019-04-29T05:56:33.540345Z",
     "start_time": "2019-04-29T05:56:33.533430Z"
    }
   },
   "outputs": [],
   "source": [
    "# Create an input_fn that parses the tf.Examples from the given files,\n",
    "# and split them into features and targets.\n",
    "def _input_fn(input_filenames, num_epochs=None, shuffle=True, batch_size=50,target=\"blue_win\"):\n",
    "   \n",
    "  # Same code as above; create a dataset and map features and labels.\n",
    "    ds = tf.data.TFRecordDataset(input_filenames)\n",
    "    if target=='blue_win':\n",
    "        ds = ds.map(_parse_function_win)\n",
    "    else:\n",
    "        ds = ds.map(_parse_function_float)\n",
    "\n",
    "    if shuffle:\n",
    "        ds = ds.shuffle(10000)\n",
    "\n",
    "    # Our feature data is variable-length, so we pad and batch\n",
    "    # each field of the dataset structure to whatever size is necessary.\n",
    "    ds = ds.padded_batch(batch_size, ds.output_shapes)\n",
    "  \n",
    "    ds = ds.repeat(num_epochs)\n",
    "  \n",
    "    # Return the next batch of data.\n",
    "    features, labels = ds.make_one_shot_iterator().get_next()\n",
    "    return features, labels"
   ]
  },
  {
   "cell_type": "markdown",
   "metadata": {
    "heading_collapsed": true
   },
   "source": [
    "## Linear model with vocabulary (all champions)"
   ]
  },
  {
   "cell_type": "code",
   "execution_count": 24,
   "metadata": {
    "ExecuteTime": {
     "end_time": "2019-04-29T06:06:12.568492Z",
     "start_time": "2019-04-29T06:06:12.563971Z"
    },
    "code_folding": [],
    "hidden": true
   },
   "outputs": [],
   "source": [
    "def construct_hero_categorical_columns(keys,vocab):\n",
    "    \"\"\"Construct categorical features for all features\n",
    "        Args: \n",
    "            input_features: names of input feature columns to use\n",
    "        returns:\n",
    "            a set of categorical columns\n",
    "    \"\"\"\n",
    "    return set([tf.feature_column.categorical_column_with_vocabulary_list(key,\n",
    "                                                                     vocabulary_list = vocab,\n",
    "                                                                     num_oov_buckets =0)\n",
    "                                    for key in keys])\n",
    "                                                               "
   ]
  },
  {
   "cell_type": "markdown",
   "metadata": {},
   "source": [
    "## Define and train the linear model"
   ]
  },
  {
   "cell_type": "code",
   "execution_count": 34,
   "metadata": {
    "ExecuteTime": {
     "end_time": "2019-04-30T04:37:33.449089Z",
     "start_time": "2019-04-30T04:37:33.433881Z"
    },
    "code_folding": []
   },
   "outputs": [],
   "source": [
    "def train_linear_model(\n",
    "    target,\n",
    "    learning_rate,\n",
    "    steps,\n",
    "    batch_size,\n",
    "    feature_columns,\n",
    "    training_file,\n",
    "    test_file):\n",
    "    \"\"\"Trains a linear regression model.\n",
    "  \n",
    "    In addition to training, this function also prints training progress information,\n",
    "    as well as a plot of the training and validation loss over time.\n",
    "      \n",
    "    Args:\n",
    "        target: Target to use for the model (determines whether float and classifier\n",
    "          vs regressor)\n",
    "        learning_rate: A `float`, the learning rate.\n",
    "        steps: A non-zero `int`, the total number of training steps. A training step\n",
    "          consists of a forward and backward pass using a single batch.\n",
    "        feature_columns: A `set` specifying the input feature columns to use.\n",
    "        training_examples: A `DataFrame` containing one or more columns from\n",
    "          `dota2_df` to use as input features for training.\n",
    "        training_targets: A `DataFrame` containing exactly one column from\n",
    "          `dota2_df` to use as target for training.\n",
    "      \n",
    "    Returns:\n",
    "        A `LinearEstimator` object trained on the training data.\n",
    "    \"\"\"\n",
    "\n",
    "    periods = 20\n",
    "    steps_per_period = steps / periods\n",
    "    if target=='blue_win':\n",
    "        head=tf.contrib.estimator.binary_classification_head()\n",
    "    else:\n",
    "        head=tf.contrib.estimator.regression_head()\n",
    "\n",
    "    \n",
    "    # Create a linear regressor object.\n",
    "    my_optimizer = tf.train.AdagradOptimizer(learning_rate=learning_rate)\n",
    "    my_optimizer = tf.contrib.estimator.clip_gradients_by_norm(my_optimizer, 5.0)\n",
    "    linear_estimator = tf.estimator.LinearEstimator(\n",
    "      head=head,\n",
    "      feature_columns=feature_columns,\n",
    "      optimizer=my_optimizer,\n",
    "      config=tf.estimator.RunConfig(keep_checkpoint_max=1)\n",
    "      )\n",
    "  \n",
    "    training_input_fn =lambda: _input_fn([training_file],target=target)\n",
    "    test_input_fn =lambda: _input_fn([test_file],target=target)\n",
    "\n",
    "    # Train the model, but do so inside a loop so that we can periodically assess\n",
    "    # loss metrics.\n",
    "    print(\"Training model...\")\n",
    "    \n",
    "    \n",
    "    training_acc = []\n",
    "    test_acc = []\n",
    "    for i in range(periods):\n",
    "        # Train the model, starting from the prior state.\n",
    "        linear_estimator.train(\n",
    "            input_fn=training_input_fn,\n",
    "            steps=steps_per_period)\n",
    "        \n",
    "        # Take a break and compute predictions.\n",
    "        evaluation_metrics = linear_estimator.evaluate(\n",
    "            input_fn=training_input_fn,\n",
    "            steps=steps_per_period)\n",
    "        training_acc.append(evaluation_metrics['loss'])\n",
    "                            \n",
    "        evaluation_metrics = linear_estimator.evaluate(\n",
    "            input_fn=test_input_fn,\n",
    "            steps=steps_per_period)    \n",
    "        test_acc.append(evaluation_metrics['loss'])\n",
    "        \n",
    "        print('test loss', evaluation_metrics['loss'])\n",
    "\n",
    "    print(\"Test set metrics:\")\n",
    "    for m in evaluation_metrics:\n",
    "        print(m, evaluation_metrics[m])\n",
    "    print(\"---\")\n",
    "    \n",
    "    plt.plot(training_acc,label='Training loss')\n",
    "    plt.plot(test_acc,label='Test loss')\n",
    "    plt.legend()\n",
    "    plt.show()\n",
    "    \n",
    "    return linear_estimator\n"
   ]
  },
  {
   "cell_type": "markdown",
   "metadata": {},
   "source": [
    "### Train a binary classification model for blue_win"
   ]
  },
  {
   "cell_type": "code",
   "execution_count": 30,
   "metadata": {
    "ExecuteTime": {
     "end_time": "2019-04-29T06:35:34.653711Z",
     "start_time": "2019-04-29T06:08:42.152734Z"
    },
    "scrolled": true
   },
   "outputs": [
    {
     "name": "stdout",
     "output_type": "stream",
     "text": [
      "Training model...\n",
      "test inaccuracy 0.4712594151496887\n",
      "test inaccuracy 0.46622657775878906\n",
      "test inaccuracy 0.4620339274406433\n",
      "test inaccuracy 0.46124982833862305\n",
      "test inaccuracy 0.4617859125137329\n",
      "test inaccuracy 0.4602656364440918\n",
      "test inaccuracy 0.4595615267753601\n",
      "test inaccuracy 0.4600095748901367\n",
      "test inaccuracy 0.4593775272369385\n",
      "test inaccuracy 0.45828133821487427\n",
      "test inaccuracy 0.4579932689666748\n",
      "test inaccuracy 0.457825243473053\n",
      "test inaccuracy 0.4568411111831665\n",
      "test inaccuracy 0.4563930034637451\n",
      "test inaccuracy 0.4563770294189453\n",
      "test inaccuracy 0.45677709579467773\n",
      "test inaccuracy 0.4566250443458557\n",
      "test inaccuracy 0.4564650058746338\n",
      "test inaccuracy 0.4564010500907898\n",
      "test inaccuracy 0.4571131467819214\n",
      "Test set metrics:\n",
      "accuracy 0.54288685\n",
      "accuracy_baseline 0.5200432\n",
      "auc 0.5558486\n",
      "auc_precision_recall 0.52773905\n",
      "average_loss 0.68803895\n",
      "label/mean 0.4799568\n",
      "loss 0.6880384\n",
      "precision 0.5349629\n",
      "prediction/mean 0.48506805\n",
      "recall 0.36412436\n",
      "global_step 50000\n",
      "---\n"
     ]
    },
    {
     "data": {
      "image/png": "[encoded data removed]",
      "text/plain": [
       "<Figure size 432x288 with 1 Axes>"
      ]
     },
     "metadata": {
      "needs_background": "light"
     },
     "output_type": "display_data"
    }
   ],
   "source": [
    "training_file = os.path.join('lol_data','mix_tier','lol_training_data','blue_win_lol_training_data.tfrecords')\n",
    "test_file = os.path.join('lol_data','mix_tier','lol_test_data','blue_win_lol_test_data.tfrecords')\n",
    "\n",
    "trained_win_linear_model = train_linear_model(\n",
    "    target='blue_win',\n",
    "    learning_rate=0.003,\n",
    "    steps=5e4,\n",
    "    batch_size=2000,\n",
    "    feature_columns=construct_hero_categorical_columns(['blue_champs','red_champs'],\n",
    "                                                       champ_vocab),\n",
    "    training_file=training_file,\n",
    "    test_file=test_file)"
   ]
  },
  {
   "cell_type": "markdown",
   "metadata": {},
   "source": [
    "### Train a linear regression model for gold_diff"
   ]
  },
  {
   "cell_type": "code",
   "execution_count": 45,
   "metadata": {
    "ExecuteTime": {
     "end_time": "2019-05-01T05:53:11.417319Z",
     "start_time": "2019-05-01T05:48:22.230494Z"
    }
   },
   "outputs": [
    {
     "name": "stdout",
     "output_type": "stream",
     "text": [
      "Training model...\n",
      "test loss 0.9887446\n",
      "test loss 0.98587656\n",
      "test loss 0.9785894\n",
      "test loss 0.9817295\n",
      "test loss 0.98314995\n",
      "test loss 0.99787784\n",
      "test loss 0.9856019\n",
      "test loss 0.98417854\n",
      "test loss 0.98697287\n",
      "test loss 0.98854595\n",
      "test loss 0.9859332\n",
      "test loss 0.98783123\n",
      "test loss 0.9836778\n",
      "test loss 0.99013275\n",
      "test loss 0.97660494\n",
      "test loss 0.989518\n",
      "test loss 0.99399817\n",
      "test loss 0.9867963\n",
      "test loss 0.9910079\n",
      "test loss 0.9838523\n",
      "Test set metrics:\n",
      "average_loss 0.9838521\n",
      "label/mean -0.008977905\n",
      "loss 0.9838523\n",
      "prediction/mean -0.012593971\n",
      "global_step 5000\n",
      "---\n"
     ]
    },
    {
     "data": {
      "image/png": "[encoded data removed]",
      "text/plain": [
       "<Figure size 432x288 with 1 Axes>"
      ]
     },
     "metadata": {
      "needs_background": "light"
     },
     "output_type": "display_data"
    }
   ],
   "source": [
    "training_file = os.path.join('lol_data','mix_tier','lol_training_data',\n",
    "                             'gold_diff_lol_training_data.tfrecords')\n",
    "test_file = os.path.join('lol_data','mix_tier','lol_test_data',\n",
    "                         'gold_diff_lol_test_data.tfrecords')\n",
    "\n",
    "trained_gold_linear_model = train_linear_model(\n",
    "    target='gold_diff',\n",
    "    learning_rate=0.03,\n",
    "    steps=5e3,\n",
    "    batch_size=1000,\n",
    "    feature_columns=construct_hero_categorical_columns(['blue_champs','red_champs'],champ_vocab),\n",
    "    training_file=training_file,\n",
    "    test_file=test_file)"
   ]
  },
  {
   "cell_type": "markdown",
   "metadata": {},
   "source": [
    "### Validate model\n",
    "only do this if you're done training!!"
   ]
  },
  {
   "cell_type": "code",
   "execution_count": 19,
   "metadata": {
    "ExecuteTime": {
     "end_time": "2019-02-05T01:15:47.778757Z",
     "start_time": "2019-02-05T01:15:44.984827Z"
    }
   },
   "outputs": [
    {
     "name": "stdout",
     "output_type": "stream",
     "text": [
      "accuracy 0.543\n",
      "accuracy_baseline 0.5102\n",
      "auc 0.56560886\n",
      "auc_precision_recall 0.5488617\n",
      "average_loss 0.68615097\n",
      "label/mean 0.4898\n",
      "loss 34.30755\n",
      "precision 0.5322327\n",
      "prediction/mean 0.50139517\n",
      "recall 0.55287874\n",
      "global_step 500000\n"
     ]
    }
   ],
   "source": [
    "validation_file = os.path.join('lol_data','masters_tier','lol_training_data','lol_training_data.tfrecords')\n",
    "validation_input_fn =lambda: _input_fn([validation_file])\n",
    "evaluation_metrics = trained_linear_model.evaluate(\n",
    "            input_fn=validation_input_fn,\n",
    "            steps=100)\n",
    "for m in evaluation_metrics:\n",
    "    print(m, evaluation_metrics[m])"
   ]
  },
  {
   "cell_type": "markdown",
   "metadata": {
    "heading_collapsed": true
   },
   "source": [
    "## Define and train a DNN model"
   ]
  },
  {
   "cell_type": "markdown",
   "metadata": {
    "hidden": true
   },
   "source": [
    "### Define feature column constructor functions"
   ]
  },
  {
   "cell_type": "code",
   "execution_count": 5,
   "metadata": {
    "ExecuteTime": {
     "end_time": "2019-04-09T03:08:26.779862Z",
     "start_time": "2019-04-09T03:08:26.773459Z"
    },
    "collapsed": true,
    "hidden": true
   },
   "outputs": [],
   "source": [
    "def construct_indicator_columns(feature_columns):\n",
    "    \"\"\"Construct indicator columns for all features\n",
    "            from categorical columns\n",
    "        Args: \n",
    "            feature_columns: Set of 'tf.feature_column.categorical_column'\n",
    "                to convert to indicator columns\n",
    "        returns:\n",
    "            a list of indicator columns\n",
    "    \"\"\"\n",
    "    indicator_columns = []\n",
    "    for column in list(feature_columns):\n",
    "        indicator_columns.append(tf.feature_column.indicator_column(column))\n",
    "        \n",
    "    return indicator_columns\n",
    "        "
   ]
  },
  {
   "cell_type": "code",
   "execution_count": 6,
   "metadata": {
    "ExecuteTime": {
     "end_time": "2019-04-09T03:08:27.033373Z",
     "start_time": "2019-04-09T03:08:27.027338Z"
    },
    "collapsed": true,
    "hidden": true
   },
   "outputs": [],
   "source": [
    "def construct_embedding_columns(feature_columns, dimension):\n",
    "    \"\"\"Construct embedding columns for all features\n",
    "            from categorical columns\n",
    "        Args:\n",
    "            feature_columns: `Set` of 'tf.feature_column.categorical_column'\n",
    "                to convert to embedding columns\n",
    "            dimension: `int` that shows the \n",
    "        returns:\n",
    "            a list of embedding columns\n",
    "    \"\"\"\n",
    "            \n",
    "    embedding_columns = []\n",
    "    for column in list(feature_columns):\n",
    "        embedding_columns.append(tf.feature_column.embedding_column(column,dimension=dimension))\n",
    "        \n",
    "    return embedding_columns"
   ]
  },
  {
   "cell_type": "markdown",
   "metadata": {
    "hidden": true
   },
   "source": [
    "### Define model training function"
   ]
  },
  {
   "cell_type": "code",
   "execution_count": 13,
   "metadata": {
    "ExecuteTime": {
     "end_time": "2019-04-09T03:28:23.895158Z",
     "start_time": "2019-04-09T03:28:23.850520Z"
    },
    "collapsed": true,
    "hidden": true
   },
   "outputs": [],
   "source": [
    "def train_dnn_model(\n",
    "    target,\n",
    "    my_optimizer,\n",
    "    hidden_units,\n",
    "    steps,\n",
    "    batch_size,\n",
    "    feature_columns,\n",
    "    training_file,\n",
    "    test_file):\n",
    "    \"\"\"Trains a deep neural network regression model.\n",
    "  \n",
    "    In addition to training, this function also prints training progress information,\n",
    "    as well as a plot of the training and validation loss over time.\n",
    "      \n",
    "    Args:\n",
    "        learning_rate: A `float`, the learning rate.\n",
    "        hidden_units: A `list` of `ints` specifying the number of layers and number \n",
    "            of nodes per layer.\n",
    "        steps: A non-zero `int`, the total number of training steps. A training step\n",
    "          consists of a forward and backward pass using a single batch.\n",
    "        feature_columns: A `set` specifying the input feature columns to use.\n",
    "        training_examples: A `DataFrame` containing one or more columns from\n",
    "          `dota2_df` to use as input features for training.\n",
    "        training_targets: A `DataFrame` containing exactly one column from\n",
    "          `dota2_df` to use as target for training.\n",
    "      \n",
    "    Returns:\n",
    "        A `DNNClassifer` object trained on the training data.\n",
    "    \"\"\"\n",
    "\n",
    "    periods = 20\n",
    "    steps_per_period = steps / periods\n",
    "\n",
    "    # Create a dnn regressor object.\n",
    "    dnn_classifier = tf.estimator.DNNClassifier(\n",
    "      feature_columns=feature_columns,\n",
    "      hidden_units=hidden_units,\n",
    "      optimizer=my_optimizer\n",
    "        )\n",
    "  \n",
    "    training_input_fn =lambda: _input_fn([training_file],batch_size=batch_size)\n",
    "    test_input_fn =lambda: _input_fn([test_file],batch_size=batch_size)\n",
    "\n",
    "    # Train the model, but do so inside a loop so that we can periodically assess\n",
    "    # loss metrics.\n",
    "    print(\"Training model...\")\n",
    "    \n",
    "    \n",
    "    training_acc = []\n",
    "    test_acc = []\n",
    "    for i in range(periods):\n",
    "        # Train the model, starting from the prior state.\n",
    "        dnn_classifier.train(\n",
    "            input_fn=training_input_fn,\n",
    "            steps=steps_per_period)\n",
    "        \n",
    "        # Take a break and compute predictions.\n",
    "        evaluation_metrics = dnn_classifier.evaluate(\n",
    "            input_fn=training_input_fn,\n",
    "            steps=steps_per_period)\n",
    "        training_acc.append(evaluation_metrics['accuracy'])\n",
    "        #print('training accuracy %f' %(evaluation_metrics['accuracy'])) \n",
    "        \n",
    "        evaluation_metrics = dnn_classifier.evaluate(\n",
    "            input_fn=test_input_fn,\n",
    "            steps=steps_per_period)    \n",
    "        test_acc.append(evaluation_metrics['accuracy'])\n",
    "        \n",
    "        print('test accuracy %f' %(evaluation_metrics['accuracy']))\n",
    "\n",
    "    print(\"Test set metrics:\")\n",
    "    for m in evaluation_metrics:\n",
    "        print(m, evaluation_metrics[m])\n",
    "    print(\"---\")\n",
    "    \n",
    "    plt.plot(training_acc,label='Training accuracy')\n",
    "    plt.plot(test_acc,label='Test accuracy')\n",
    "    plt.plot(evaluation_metrics['accuracy_baseline']*np.ones(periods))\n",
    "    plt.legend()\n",
    "    plt.show()\n",
    "    \n",
    "    return dnn_classifier\n"
   ]
  },
  {
   "cell_type": "markdown",
   "metadata": {
    "heading_collapsed": true,
    "hidden": true
   },
   "source": [
    "### Specify path to tfrecord files and construct feature colums"
   ]
  },
  {
   "cell_type": "code",
   "execution_count": 9,
   "metadata": {
    "ExecuteTime": {
     "end_time": "2019-04-09T03:08:44.060145Z",
     "start_time": "2019-04-09T03:08:44.053511Z"
    },
    "collapsed": true,
    "hidden": true
   },
   "outputs": [],
   "source": [
    "training_file = os.path.join('LOL_data','masters_tier','lol_training_data','lol_training_data.tfrecords')\n",
    "test_file = os.path.join('LOL_data','masters_tier','lol_test_data', 'lol_test_data.tfrecords')\n",
    "\n",
    "categorical_feature_columns = construct_hero_categorical_columns(['blue_champs','red_champs'],champ_vocab)\n",
    "indicator_feature_columns = construct_indicator_columns(categorical_feature_columns)\n",
    "embedding_feature_columns = construct_embedding_columns(categorical_feature_columns,dimension=4)"
   ]
  },
  {
   "cell_type": "markdown",
   "metadata": {
    "heading_collapsed": true,
    "hidden": true
   },
   "source": [
    "### Train model"
   ]
  },
  {
   "cell_type": "code",
   "execution_count": 17,
   "metadata": {
    "ExecuteTime": {
     "end_time": "2019-04-09T05:32:46.876685Z",
     "start_time": "2019-04-09T05:03:11.181526Z"
    },
    "hidden": true,
    "scrolled": true
   },
   "outputs": [
    {
     "name": "stdout",
     "output_type": "stream",
     "text": [
      "Training model...\n",
      "test accuracy 0.527685\n",
      "test accuracy 0.542148\n",
      "test accuracy 0.545606\n",
      "test accuracy 0.545845\n",
      "test accuracy 0.545186\n",
      "test accuracy 0.545650\n",
      "test accuracy 0.544918\n",
      "test accuracy 0.546568\n",
      "test accuracy 0.546046\n",
      "test accuracy 0.545856\n",
      "test accuracy 0.547410\n",
      "test accuracy 0.548476\n",
      "test accuracy 0.548538\n",
      "test accuracy 0.549352\n",
      "test accuracy 0.548358\n",
      "test accuracy 0.548406\n",
      "test accuracy 0.548832\n",
      "test accuracy 0.548619\n",
      "test accuracy 0.548961\n",
      "test accuracy 0.549588\n",
      "Test set metrics:\n",
      "accuracy 0.54958797\n",
      "accuracy_baseline 0.50366473\n",
      "auc 0.568422\n",
      "auc_precision_recall 0.5605323\n",
      "average_loss 0.68605167\n",
      "label/mean 0.50366473\n",
      "loss 1978.1339\n",
      "precision 0.5490022\n",
      "prediction/mean 0.5075455\n",
      "recall 0.5922823\n",
      "global_step 3000\n",
      "---\n"
     ]
    },
    {
     "data": {
      "image/png": "[encoded data removed]",
      "text/plain": [
       "<matplotlib.figure.Figure at 0x1532a0f28>"
      ]
     },
     "metadata": {},
     "output_type": "display_data"
    }
   ],
   "source": [
    "my_optimizer = tf.contrib.opt.AdamWOptimizer(weight_decay=0.0008, learning_rate=0.0025)\n",
    "#my_optimizer = tf.contrib.estimator.clip_gradients_by_norm(my_optimizer, 5.0)\n",
    "\n",
    "trained_dnn_model = train_dnn_model(\n",
    "    my_optimizer = my_optimizer,\n",
    "    hidden_units = [10,10],\n",
    "    steps=3e3,\n",
    "    batch_size=3000,\n",
    "    feature_columns=embedding_feature_columns,\n",
    "    training_file=training_file,\n",
    "    test_file=test_file)"
   ]
  },
  {
   "cell_type": "markdown",
   "metadata": {
    "heading_collapsed": true,
    "hidden": true
   },
   "source": [
    "### Validate model\n",
    "only do this if you're done training!!"
   ]
  },
  {
   "cell_type": "code",
   "execution_count": 24,
   "metadata": {
    "ExecuteTime": {
     "end_time": "2019-04-11T04:16:41.086467Z",
     "start_time": "2019-04-11T04:16:23.199871Z"
    },
    "hidden": true,
    "scrolled": true
   },
   "outputs": [
    {
     "name": "stdout",
     "output_type": "stream",
     "text": [
      "accuracy 0.5495492\n",
      "accuracy_baseline 0.50042677\n",
      "auc 0.5685406\n",
      "auc_precision_recall 0.5591297\n",
      "average_loss 0.6860394\n",
      "label/mean 0.50042677\n",
      "loss 34.295567\n",
      "precision 0.5458012\n",
      "prediction/mean 0.507441\n",
      "recall 0.5950433\n",
      "global_step 3000\n"
     ]
    }
   ],
   "source": [
    "validation_file = os.path.join('LOL_data','masters_tier','lol_validation_data', 'lol_validation_data.tfrecords')\n",
    "validation_input_fn =lambda: _input_fn([validation_file])\n",
    "evaluation_metrics = trained_dnn_model.evaluate(\n",
    "            input_fn=validation_input_fn,\n",
    "            steps=3e3)\n",
    "for m in evaluation_metrics:\n",
    "    print(m, evaluation_metrics[m])"
   ]
  },
  {
   "cell_type": "markdown",
   "metadata": {
    "heading_collapsed": true,
    "hidden": true
   },
   "source": [
    "### Investigate embeding layer"
   ]
  },
  {
   "cell_type": "code",
   "execution_count": 79,
   "metadata": {
    "ExecuteTime": {
     "end_time": "2018-12-10T08:16:07.422456Z",
     "start_time": "2018-12-10T08:16:07.199606Z"
    },
    "collapsed": true,
    "hidden": true
   },
   "outputs": [],
   "source": [
    "champ_list = interface('IEconDOTA2_570').GetHeroes(itemizedonly = True)['result']['heroes']"
   ]
  },
  {
   "cell_type": "code",
   "execution_count": 85,
   "metadata": {
    "ExecuteTime": {
     "end_time": "2018-12-10T08:19:37.785231Z",
     "start_time": "2018-12-10T08:19:36.875868Z"
    },
    "hidden": true
   },
   "outputs": [
    {
     "data": {
      "image/png": "[encoded data removed]",
      "text/plain": [
       "<matplotlib.figure.Figure at 0x1391cb7b8>"
      ]
     },
     "metadata": {},
     "output_type": "display_data"
    }
   ],
   "source": [
    "vocab = list(range(105))+list(range(106,114))+list(range(119,121))\n",
    "red_embedding_matrix = trained_dnn_model.get_variable_value(\n",
    "    'dnn/input_from_feature_columns/input_layer/red_champs_embedding/embedding_weights')\n",
    "\n",
    "blue_embedding_matrix = trained_dnn_model.get_variable_value(\n",
    "    'dnn/input_from_feature_columns/input_layer/blue_heroes_embedding/embedding_weights')\n",
    "\n",
    "for champ_index in range(len(vocab)):\n",
    "    # Create a one-hot encoding for our term. It has 0s everywhere, except for\n",
    "    # a single 1 in the coordinate that corresponds to that term.\n",
    "    red_vector = np.zeros(len(vocab))\n",
    "    red_vector[champ_index] = 1\n",
    "    blue_vector = np.zeros(len(vocab))\n",
    "    blue_vector[champ_index] = 1\n",
    "    # We'll now project that one-hot vector into the embedding space.\n",
    "    red_embedding_xy = np.matmul(dire_vector, dire_embedding_matrix)\n",
    "    blue_embedding_xy = np.matmul(dire_vector,dire_embedding_matrix)\n",
    "    #plt.text(dire_embedding_xy[0],\n",
    "    #       dire_embedding_xy[1],\n",
    "    #       hero_list[hero_index]['name'][14:],fontsize=8)\n",
    "    plt.text(blue_embedding_xy[0],\n",
    "           blue_embedding_xy[3],\n",
    "           champ_list[champ_index]['name'][14:],fontsize=8,)\n",
    "\n",
    "# Do a little setup to make sure the plot displays nicely.\n",
    "plt.rcParams[\"figure.figsize\"] = (15, 15)\n",
    "plt.xlim(1.2 * red_embedding_matrix.min(), 1.2 * red_embedding_matrix.max())\n",
    "plt.ylim(1.2 * red_embedding_matrix.min(), 1.2 * red_embedding_matrix.max())\n",
    "plt.show() "
   ]
  },
  {
   "cell_type": "markdown",
   "metadata": {
    "heading_collapsed": true,
    "hidden": true
   },
   "source": [
    "### Save a trained model later exploration, or for on-demand prediction of test cases"
   ]
  },
  {
   "cell_type": "code",
   "execution_count": 20,
   "metadata": {
    "ExecuteTime": {
     "end_time": "2019-04-09T05:52:03.285167Z",
     "start_time": "2019-04-09T05:52:03.274646Z"
    },
    "collapsed": true,
    "hidden": true
   },
   "outputs": [],
   "source": [
    "def serving_input_receiver_fn():\n",
    "    \"\"\"An input receiver that expects a serialized tf.Example.\"\"\"\n",
    "    feature_spec = {\n",
    "        \"blue_champs\": tf.FixedLenFeature([], dtype=tf.string), #array of five 8 bit ints for heroes\n",
    "        \"red_champs\": tf.FixedLenFeature([], dtype=tf.string) #array of five 8-bit ints for heroes\n",
    "                }\n",
    "    serialized_tf_example = tf.placeholder(dtype=tf.string,\n",
    "                                         shape=[1],\n",
    "                                         name='input_example_tensor')\n",
    "    receiver_tensors = {'examples': serialized_tf_example}\n",
    "    parsed_features = tf.parse_example(serialized_tf_example, feature_spec)\n",
    "    \n",
    "    radiant_heroes = tf.decode_raw(parsed_features['blue_champs'], tf.int64)\n",
    "    dire_heroes = tf.decode_raw(parsed_features['red_champs'], tf.int64)\n",
    "    \n",
    "    features = {'blue_champs':radiant_heroes, 'red_champs': dire_heroes}\n",
    "    return tf.estimator.export.ServingInputReceiver(features, receiver_tensors)"
   ]
  },
  {
   "cell_type": "markdown",
   "metadata": {},
   "source": [
    "## Define and train dual head linear model"
   ]
  },
  {
   "cell_type": "markdown",
   "metadata": {},
   "source": [
    "# Preprocessing, input functions, and linear training for DataFrame data format"
   ]
  },
  {
   "cell_type": "markdown",
   "metadata": {},
   "source": [
    "### Train a dual head linear classifier and regressor"
   ]
  },
  {
   "cell_type": "markdown",
   "metadata": {},
   "source": [
    "### Define model function"
   ]
  },
  {
   "cell_type": "code",
   "execution_count": null,
   "metadata": {},
   "outputs": [],
   "source": [
    "def train_dualhead_linear_model(\n",
    "    learning_rate,\n",
    "    steps,\n",
    "    batch_size,\n",
    "    feature_columns,\n",
    "    training_file,\n",
    "    test_file):\n",
    "    \"\"\"Trains a dual head linear model for a binary classifier and regressor\n",
    "  \n",
    "    In addition to training, this function also prints training progress information,\n",
    "    as well as a plot of the training and validation loss over time.\n",
    "      \n",
    "    Args:\n",
    "        learning_rate: A `float`, the learning rate.\n",
    "        steps: A non-zero `int`, the total number of training steps. A training step\n",
    "          consists of a forward and backward pass using a single batch.\n",
    "        feature_columns: A `set` specifying the input feature columns to use.\n",
    "        training_examples: A `DataFrame` containing one or more columns from\n",
    "          `dota2_df` to use as input features for training.\n",
    "        training_targets: A `DataFrame` containing exactly one column from\n",
    "          `dota2_df` to use as target for training.\n",
    "      \n",
    "    Returns:\n",
    "        A `LinearEstimator` object trained on the training data.\n",
    "    \"\"\"\n",
    "\n",
    "    periods = 20\n",
    "    steps_per_period = steps / periods\n",
    "\n",
    "    # Create a linear regressor object.\n",
    "    my_optimizer = tf.train.AdagradOptimizer(learning_rate=learning_rate)\n",
    "    my_optimizer = tf.contrib.estimator.clip_gradients_by_norm(my_optimizer, 5.0)\n",
    "    win_head = tf.contrib.estimator.binary_classification_head(name=win_head)\n",
    "    gold_head = tf.contrib.estimator.regressor_head(name=gold_head)\n",
    "    head = multi_head([win_head,gold_head])\n",
    "    linear_estimator = tf.estimator.LinearEstimator(\n",
    "      head=head,\n",
    "      feature_columns=feature_columns,\n",
    "      optimizer=my_optimizer,\n",
    "      config=tf.estimator.RunConfig(keep_checkpoint_max=1)\n",
    "      )\n",
    "  \n",
    "    training_input_fn =lambda: _input_fn([training_file])\n",
    "    test_input_fn =lambda: _input_fn([test_file])\n",
    "\n",
    "    # Train the model, but do so inside a loop so that we can periodically assess\n",
    "    # loss metrics.\n",
    "    print(\"Training model...\")\n",
    "    \n",
    "    \n",
    "    training_acc = []\n",
    "    test_acc = []\n",
    "    for i in range(periods):\n",
    "        # Train the model, starting from the prior state.\n",
    "        linear_estimator.train(\n",
    "            input_fn=training_input_fn,\n",
    "            steps=steps_per_period)\n",
    "        \n",
    "        # Take a break and compute predictions.\n",
    "        evaluation_metrics = linear_estimator.evaluate(\n",
    "            input_fn=training_input_fn,\n",
    "            steps=steps_per_period)\n",
    "        training_acc.append(1-evaluation_metrics['accuracy'])\n",
    "                            \n",
    "        evaluation_metrics = linear_estimator.evaluate(\n",
    "            input_fn=test_input_fn,\n",
    "            steps=steps_per_period)    \n",
    "        test_acc.append(1-evaluation_metrics['accuracy'])\n",
    "        \n",
    "        print('test inaccuracy', 1-evaluation_metrics['accuracy'])\n",
    "\n",
    "    print(\"Test set metrics:\")\n",
    "    for m in evaluation_metrics:\n",
    "        print(m, evaluation_metrics[m])\n",
    "    print(\"---\")\n",
    "    \n",
    "    plt.plot(training_acc,label='Training inaccuracy')\n",
    "    plt.plot(test_acc,label='Test inaccuracy')\n",
    "    plt.plot(evaluation_metrics['accuracy_baseline']*np.ones(periods),label='Baseline Inaccuracy')\n",
    "    plt.legend()\n",
    "    plt.show()\n",
    "    \n",
    "    return linear_estimator\n"
   ]
  },
  {
   "cell_type": "code",
   "execution_count": null,
   "metadata": {},
   "outputs": [],
   "source": [
    "training_file = os.path.join('lol_data','masters_tier','lol_training_data','lol_training_data.tfrecords')\n",
    "test_file = os.path.join('lol_data','masters_tier','lol_test_data','lol_test_data.tfrecords')\n",
    "\n",
    "trained_gold_linear_model = train_dualhead_linear_model(\n",
    "    learning_rate=0.003,\n",
    "    steps=5e5,\n",
    "    batch_size=2000,\n",
    "    feature_columns=construct_hero_categorical_columns(['blue_champs','red_champs'],champ_vocab),\n",
    "    training_file=training_file,\n",
    "    test_file=test_file)"
   ]
  },
  {
   "cell_type": "code",
   "execution_count": 21,
   "metadata": {
    "ExecuteTime": {
     "end_time": "2019-04-09T05:52:04.748787Z",
     "start_time": "2019-04-09T05:52:04.307611Z"
    }
   },
   "outputs": [
    {
     "data": {
      "text/plain": [
       "b'trained_models/dnn_models/1554789124'"
      ]
     },
     "execution_count": 21,
     "metadata": {},
     "output_type": "execute_result"
    }
   ],
   "source": [
    "export_dir = os.path.join('trained_models','dnn_models')\n",
    "trained_dnn_model.export_savedmodel(\n",
    "                                export_dir_base = export_dir,\n",
    "                                serving_input_receiver_fn = serving_input_receiver_fn)"
   ]
  }
 ],
 "metadata": {
  "kernelspec": {
   "display_name": "Python 3",
   "language": "python",
   "name": "python3"
  },
  "language_info": {
   "codemirror_mode": {
    "name": "ipython",
    "version": 3
   },
   "file_extension": ".py",
   "mimetype": "text/x-python",
   "name": "python",
   "nbconvert_exporter": "python",
   "pygments_lexer": "ipython3",
   "version": "3.7.3"
  },
  "notify_time": "30",
  "toc": {
   "base_numbering": 1,
   "nav_menu": {},
   "number_sections": true,
   "sideBar": true,
   "skip_h1_title": false,
   "title_cell": "Table of Contents",
   "title_sidebar": "Contents",
   "toc_cell": false,
   "toc_position": {},
   "toc_section_display": true,
   "toc_window_display": false
  }
 },
 "nbformat": 4,
 "nbformat_minor": 2
}
