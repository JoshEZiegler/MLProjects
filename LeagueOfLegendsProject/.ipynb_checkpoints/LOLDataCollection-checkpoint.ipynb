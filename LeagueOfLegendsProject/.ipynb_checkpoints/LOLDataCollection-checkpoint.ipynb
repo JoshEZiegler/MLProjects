{
 "cells": [
  {
   "cell_type": "code",
   "execution_count": 1,
   "metadata": {
    "ExecuteTime": {
     "end_time": "2018-12-15T02:09:30.775408Z",
     "start_time": "2018-12-15T02:09:26.598191Z"
    }
   },
   "outputs": [
    {
     "name": "stderr",
     "output_type": "stream",
     "text": [
      "/Users/bailey/anaconda/lib/python3.6/site-packages/h5py/__init__.py:34: FutureWarning: Conversion of the second argument of issubdtype from `float` to `np.floating` is deprecated. In future, it will be treated as `np.float64 == np.dtype(float).type`.\n",
      "  from ._conv import register_converters as _register_converters\n"
     ]
    }
   ],
   "source": [
    "import seaborn as sns\n",
    "import pandas as pd\n",
    "import pylab as plt\n",
    "import numpy as np\n",
    "import time\n",
    "import os\n",
    "import glob\n",
    "import json\n",
    "import tensorflow as tf\n",
    "import sys\n",
    "from IPython import display\n",
    "from riotwatcher import RiotWatcher\n",
    "\n",
    "api_file = os.path.join('..','..','apikeys','LOL_api_key.txt')\n",
    "with open(api_file, 'r') as fin:\n",
    "    watcher = RiotWatcher(fin.readline())"
   ]
  },
  {
   "cell_type": "markdown",
   "metadata": {},
   "source": [
    "# Get match data\n",
    "because there is no api call to just get a bunch matches I have to do some weird stuff. My strategy is: get challenger player list from the region -> getsummoner by playerid to get accountid -> get recent matches from each player -> check duplicates -> get match details"
   ]
  },
  {
   "cell_type": "code",
   "execution_count": 6,
   "metadata": {
    "ExecuteTime": {
     "end_time": "2018-12-15T06:32:17.395454Z",
     "start_time": "2018-12-15T06:07:54.749004Z"
    },
    "scrolled": false
   },
   "outputs": [
    {
     "name": "stdout",
     "output_type": "stream",
     "text": [
      "LA1\n",
      "LA2\n"
     ]
    }
   ],
   "source": [
    "#regions = ['RU', 'KR', 'BR1', 'OC1', 'JP1', 'NA1', 'EUN1', 'EUW1', 'TR1', 'LA1', 'LA2']\n",
    "regions = ['LA1', 'LA2']\n",
    "\n",
    "#gameid_list = {}\n",
    "#league_items = {}\n",
    "\n",
    "#get last challenger games for each player in each region (purge duplicates)\n",
    "#first loop through regions\n",
    "for region in regions:\n",
    "    \n",
    "    #get all 'items' in the challenger league for solo queue (not sure about 'flex' queues?)\n",
    "    #changed to master tier becuase that is the highest until mid january\n",
    "    league_items[region] = watcher.league.masters_by_queue(region, 'RANKED_SOLO_5x5')['entries']\n",
    "    \n",
    "    #initialize gameid_list items\n",
    "    gameid_list[region] = []\n",
    "\n",
    "#loop through all items in each region's league to get matchid's\n",
    "for region in regions:\n",
    "    print(region)\n",
    "\n",
    "    #get 100 matches from each player  \n",
    "    for entry in league_items[region]:\n",
    "\n",
    "        #convert player_id(aka summoner_id) to account_id\n",
    "        account_id = watcher.summoner.by_id(region, entry['playerOrTeamId'])['accountId']\n",
    "\n",
    "        #don't keep all matches in memory or on disk - we will get full match details later\n",
    "        #queue = 420 is the code for 5x5_solo_queue\n",
    "        match_list = watcher.match.matchlist_by_account(region,\n",
    "                                     account_id,\n",
    "                                     queue=420,\n",
    "                                     begin_index = 1,\n",
    "                                     end_index=100)['matches']\n",
    "            \n",
    "        #keep gameid_list in memory for later use and for easy purging of duplicates\n",
    "        for match in match_list:\n",
    "            gameid_list[region].append(match['gameId']) \n",
    "\n",
    "        #purge duplicates from gameid_list\n",
    "        gameid_list[region] = list(set(gameid_list[region]))\n",
    "\n",
    "       "
   ]
  },
  {
   "cell_type": "code",
   "execution_count": 8,
   "metadata": {
    "ExecuteTime": {
     "end_time": "2018-12-15T06:38:57.495432Z",
     "start_time": "2018-12-15T06:38:57.107551Z"
    }
   },
   "outputs": [],
   "source": [
    "with open(os.path.join('LOL_Masters_Data','2018-14-12.json'), 'w') as fp:\n",
    "    json.dump(gameid_list, fp)"
   ]
  }
 ],
 "metadata": {
  "kernelspec": {
   "display_name": "Python 3",
   "language": "python",
   "name": "python3"
  }
 },
 "nbformat": 4,
 "nbformat_minor": 2
}
