{
 "cells": [
  {
   "cell_type": "code",
   "execution_count": 323,
   "metadata": {
    "collapsed": true
   },
   "outputs": [],
   "source": [
    "import seaborn as sns\n",
    "import pandas as pd\n",
    "import pylab as plt\n",
    "import numpy as np\n",
    "from steam.api import interface\n",
    "import time\n",
    "steam.api.key.set('9D3E7E9815B466DACB9B11D45C4E7E50')"
   ]
  },
  {
   "cell_type": "code",
   "execution_count": 324,
   "metadata": {
    "collapsed": true
   },
   "outputs": [],
   "source": [
    "#declare interface urls\n",
    "#dota2_beta should be used for testing in order to not aggressively make API requests\n",
    "dota2_id = '570'\n",
    "dota2_beta_id = '205790'"
   ]
  },
  {
   "cell_type": "markdown",
   "metadata": {},
   "source": [
    "# Get 500 last matches to get approximate hero ratios"
   ]
  },
  {
   "cell_type": "code",
   "execution_count": 279,
   "metadata": {
    "collapsed": true
   },
   "outputs": [],
   "source": [
    "#get matches data from dota2 API and put IDs into a dataframe\n",
    "num_matches_to_request = 500\n",
    "\n",
    "match_list = []\n",
    "matches = interface('IDOTA2Match_' + dota2_id).GetMatchHistory(game_mode = 1, skill_level = 3, min_players = 10, matches_requested = 100)\n",
    "\n",
    "#@TODO: check if lobby_type is public/ranked matching (0 or 7) before appending\n",
    "[match_list.append(match['match_id']) for match in matches['result']['matches']]\n",
    "\n",
    "current_num = 100\n",
    "\n",
    "while current_num <= num_matches_to_request:\n",
    "    #sleep so we don't overload the servers\n",
    "    time.sleep(1)\n",
    "\n",
    "    current_num += 100\n",
    "    matches = interface('IDOTA2Match_' + dota2_id).GetMatchHistory(start_at_match_id = match_list[-1]-1, game_mode = 1,\n",
    "                                                              skill_level = 3, min_players = 10, matches_requested = 100)\n",
    "\n",
    "    #@TODO: check if lobby_type is public/ranked matching (0 or 7) before appending\n",
    "    [match_list.append(match['match_id']) for match in matches['result']['matches']]\n",
    "\n",
    "    \n",
    "dota2_validation_df = pd.DataFrame()\n",
    "dota2_validation_df['match_id'] = match_list"
   ]
  },
  {
   "cell_type": "code",
   "execution_count": 281,
   "metadata": {
    "collapsed": true
   },
   "outputs": [],
   "source": [
    "#get match details from match_ids obtained\n",
    "#add radiant_win column\n",
    "#add heroes split between dire and radiant\n",
    "\n",
    "radiant_win_column = []\n",
    "radiant_hero_column = []\n",
    "dire_hero_column = []\n",
    "for match_id in dota2_validation_df['match_id']:\n",
    "    time.sleep(1)\n",
    "    match_details = interface('IDOTA2Match_' + dota2_id).GetMatchDetails(match_id = str(match_id))\n",
    "    \n",
    "    radiant_win_column.append(match_details['result']['radiant_win'])\n",
    "    \n",
    "    radiant_hero_row = []\n",
    "    dire_hero_row = []\n",
    "    for player in match_details['result']['players']:\n",
    "        #First bit of 8-bit integer player_slot is 1 if the player was on dire\n",
    "        #so if player was on dire then player_slot > 128\n",
    "        if player['player_slot']/128<1:\n",
    "            radiant_hero_row.append(player['hero_id'])\n",
    "        else:\n",
    "            dire_hero_row.append(player['hero_id'])\n",
    "    \n",
    "    radiant_hero_column.append(radiant_hero_row)\n",
    "    dire_hero_column.append(dire_hero_row)"
   ]
  },
  {
   "cell_type": "code",
   "execution_count": 291,
   "metadata": {},
   "outputs": [
    {
     "name": "stdout",
     "output_type": "stream",
     "text": [
      "0\n",
      "1\n",
      "2\n",
      "3\n",
      "4\n"
     ]
    }
   ],
   "source": [
    "#Add radiant_win column to Dataframe\n",
    "dota2_validation_df['radiant_win'] = 1*np.array(radiant_win_column)\n",
    "\n",
    "#Add dire and radiant heroes to DataFrame under their own columns\n",
    "for i in range(len(np.array(radiant_hero_column[1]))):\n",
    "    dota2_validation_df['radiant_heroes'+str(i)] = np.array(radiant_hero_column)[:,1]\n",
    "    dota2_df['dire_heroes'+str(i)] = np.array(dire_hero_column)[:,1]"
   ]
  },
  {
   "cell_type": "code",
   "execution_count": 293,
   "metadata": {
    "collapsed": true
   },
   "outputs": [],
   "source": [
    "dota2_validation_df.to_csv('dota2_validation_data.csv')"
   ]
  },
  {
   "cell_type": "markdown",
   "metadata": {},
   "source": [
    "# Get 200 matches of each hero id (and trim duplicates)"
   ]
  },
  {
   "cell_type": "code",
   "execution_count": 299,
   "metadata": {
    "collapsed": true
   },
   "outputs": [],
   "source": [
    "hero_list = interface('IEconDOTA2_'+dota2_id).GetHeroes(itemizedonly = True)"
   ]
  },
  {
   "cell_type": "code",
   "execution_count": 306,
   "metadata": {
    "collapsed": true
   },
   "outputs": [],
   "source": [
    "#get matches data from dota2 API and put IDs into a dataframe\n",
    "num_matches_to_request = 200\n",
    "\n",
    "#Loop through all hero_id values\n",
    "#There are 116 heroes, but ids 105, 116-118 are not occupied\n",
    "for i in range(hero_list['result']['count']):\n",
    "    \n",
    "    #better option is to build a vocabulary\n",
    "    if i == 105:\n",
    "        j = 121\n",
    "    elif i == 115:\n",
    "        j = 120\n",
    "    elif i == 116:\n",
    "        j = 119\n",
    "    else:\n",
    "        j = i\n",
    "\n",
    "    #Get first match for each hero out of loop so that we can pull more than 100 games per hero\n",
    "    #by utilizing start_at_match_id option\n",
    "    matches = interface('IDOTA2Match_' + dota2_id).GetMatchHistory(hero_id = j, game_mode = 1, skill_level = 3,\n",
    "                                                              min_players = 10, matches_requested = 1)\n",
    "    \n",
    "    #@TODO: check if lobby_type is public/ranked matching (0 or 7) before appending\n",
    "    [match_list.append(match['match_id']) for match in matches['result']['matches']]\n",
    "    current_num = 1\n",
    "    \n",
    "    while current_num <= num_matches_to_request:\n",
    "        #sleep so we don't overload the servers\n",
    "        time.sleep(1)\n",
    "\n",
    "        current_num += 100\n",
    "        matches = interface('IDOTA2Match_' + dota2_id).GetMatchHistory(hero_id = j,\n",
    "                                                    start_at_match_id = match_list[-1]-1,game_mode = 1,\n",
    "                                                    skill_level = 3, min_players = 10, matches_requested = 100)\n",
    "        \n",
    "        #@TODO: check if lobby_type is public/ranked matching (0 or 7) before appending\n",
    "        [match_list.append(match['match_id']) for match in matches['result']['matches']]"
   ]
  },
  {
   "cell_type": "code",
   "execution_count": 320,
   "metadata": {
    "collapsed": true
   },
   "outputs": [],
   "source": [
    "#Make dataframe of match_id values using dict.fromkeys(list) to remove duplicates\n",
    "dota2_training_df = pd.DataFrame()\n",
    "dota2_training_df['match_id'] = list(dict.fromkeys(match_list))"
   ]
  },
  {
   "cell_type": "code",
   "execution_count": 333,
   "metadata": {},
   "outputs": [],
   "source": [
    "#get match details from match_ids obtained\n",
    "#add radiant_win column\n",
    "#add heroes split between dire and radiant\n",
    "\n",
    "#radiant_win_column = []\n",
    "#radiant_hero_column = []\n",
    "#dire_hero_column = []\n",
    "\n",
    "for i,match_id in enumerate(dota2_training_df['match_id'][266:]):\n",
    "    time.sleep(1)\n",
    "    match_details = interface('IDOTA2Match_' + dota2_id).GetMatchDetails(match_id = str(match_id))\n",
    "    \n",
    "    try:\n",
    "        radiant_win_column.append(match_details['result']['radiant_win'])\n",
    "    except:\n",
    "        print('server error at match_id:' + str(match_id))\n",
    "        print('element:' + str(i))\n",
    "        break\n",
    "    \n",
    "    radiant_hero_row = []\n",
    "    dire_hero_row = []\n",
    "    for player in match_details['result']['players']:\n",
    "        #First bit of 8-bit integer player_slot is 1 if the player was on dire\n",
    "        #so if player was on dire then player_slot > 128\n",
    "        if player['player_slot']/128<1:\n",
    "            radiant_hero_row.append(player['hero_id'])\n",
    "        else:\n",
    "            dire_hero_row.append(player['hero_id'])\n",
    "    \n",
    "    radiant_hero_column.append(radiant_hero_row)\n",
    "    dire_hero_column.append(dire_hero_row)"
   ]
  },
  {
   "cell_type": "code",
   "execution_count": 367,
   "metadata": {},
   "outputs": [
    {
     "name": "stdout",
     "output_type": "stream",
     "text": [
      "0\n",
      "1\n",
      "2\n",
      "3\n",
      "4\n"
     ]
    }
   ],
   "source": [
    "#Add radiant_win column to Dataframe\n",
    "dota2_training_df['radiant_win'] = 1*np.array(radiant_win_column)\n",
    "\n",
    "#Add dire and radiant heroes to DataFrame under their own columns\n",
    "for i in range(len(np.array(radiant_hero_column)[1])):\n",
    "    print(i)\n",
    "    dota2_training_df['radiant_heroes'+str(i)] = np.array(radiant_hero_column)[:,i]\n",
    "    dota2_training_df['dire_heroes'+str(i)] = np.array(dire_hero_column)[:,i]"
   ]
  },
  {
   "cell_type": "code",
   "execution_count": 368,
   "metadata": {},
   "outputs": [],
   "source": [
    "dota2_training_df.to_csv('dota2_training_data.csv')"
   ]
  },
  {
   "cell_type": "code",
   "execution_count": 364,
   "metadata": {},
   "outputs": [
    {
     "data": {
      "text/plain": [
       "7051"
      ]
     },
     "execution_count": 364,
     "metadata": {},
     "output_type": "execute_result"
    }
   ],
   "source": []
  },
  {
   "cell_type": "code",
   "execution_count": null,
   "metadata": {
    "collapsed": true
   },
   "outputs": [],
   "source": []
  }
 ],
 "metadata": {
  "kernelspec": {
   "display_name": "Python 3",
   "language": "python",
   "name": "python3"
  },
  "language_info": {
   "codemirror_mode": {
    "name": "ipython",
    "version": 3
   },
   "file_extension": ".py",
   "mimetype": "text/x-python",
   "name": "python",
   "nbconvert_exporter": "python",
   "pygments_lexer": "ipython3",
   "version": "3.6.1"
  }
 },
 "nbformat": 4,
 "nbformat_minor": 2
}
