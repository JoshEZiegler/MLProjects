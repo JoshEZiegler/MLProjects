{
 "cells": [
  {
   "cell_type": "code",
   "execution_count": null,
   "metadata": {},
   "outputs": [],
   "source": [
    "from crossref.restful import Works, Etiquette\n",
    "works = Works()\n",
    "my_etiquette = Etiquette('TextMiningForQuantumEmitters','josh.e.ziegler@gmail.com')\n",
    "import bibtexparser\n",
    "import pandas as pd\n",
    "import sys"
   ]
  },
  {
   "cell_type": "code",
   "execution_count": null,
   "metadata": {},
   "outputs": [],
   "source": [
    "with open('hBNQEPapers20190719.bib') as bibtex_file:\n",
    "    bib_database = bibtexparser.load(bibtex_file)\n",
    "\n",
    "bib_df = pd.DataFrame(bib_database.entries)\n",
    "bib_df"
   ]
  },
  {
   "cell_type": "code",
   "execution_count": null,
   "metadata": {},
   "outputs": [],
   "source": [
    "#get list of arxivids with all NaNs removed\n",
    "arxivid_list = [arxivid for arxivid in bib_df['arxivid'] if str(arxivid)!='nan']\n",
    "print('dirty',len(bib_df['arxivid']),'cleaned',len(arxivid_list))"
   ]
  },
  {
   "cell_type": "code",
   "execution_count": null,
   "metadata": {},
   "outputs": [],
   "source": [
    "#get list of dois with all NaNs removed\n",
    "doi_list = [doi for doi in bib_df['doi'] if str(doi)!='nan']\n",
    "print('dirty',len(bib_df['doi']),'cleaned',len(doi_list))"
   ]
  },
  {
   "cell_type": "code",
   "execution_count": null,
   "metadata": {},
   "outputs": [],
   "source": [
    "print(record)"
   ]
  },
  {
   "cell_type": "code",
   "execution_count": null,
   "metadata": {},
   "outputs": [],
   "source": [
    "#get records for all dois\n",
    "record_list=[]\n",
    "abstract_list=[]\n",
    "doi_abs_list=[]\n",
    "for doi in doi_list:\n",
    "    record = works.doi(doi)\n",
    "    record_list.append(record)\n",
    "    #if there is an abstract in the record, store it in a list of abstracts\n",
    "    if 'abstract' in record:\n",
    "        doi_abs_list.append(record['DOI'])\n",
    "        abstract_list.append(record['abstract'])"
   ]
  },
  {
   "cell_type": "code",
   "execution_count": null,
   "metadata": {},
   "outputs": [],
   "source": [
    "ref_dois=[]\n",
    "doi_noref_list=[]\n",
    "#if there are references in the record, get them (to later get abstracts or other info)\n",
    "for record in record_list:\n",
    "    if 'reference' in record:\n",
    "        for reference in record['reference']:\n",
    "            if 'DOI' in reference:\n",
    "                ref_dois.append(reference['DOI'])\n",
    "    else:\n",
    "        doi_noref_list.append(record['DOI'])\n",
    "ref_dois = list(set(ref_dois))\n",
    "print(\"ref_doi length:\",len(ref_dois))\n",
    "print('dois without refs', len(doi_noref_list))"
   ]
  },
  {
   "cell_type": "code",
   "execution_count": null,
   "metadata": {},
   "outputs": [],
   "source": [
    "#get records for all refs of the original papers we were interested in\n",
    "abstract_ref_list=[]\n",
    "record_ref_list=[]\n",
    "for doi in ref_dois:\n",
    "    record = works.doi(doi)\n",
    "    record_ref_list.append(record)\n",
    "    if 'abstract' in record:\n",
    "        doi_abs_list.append(record['DOI'])\n",
    "        abstract_ref_list.append(record['abstract'])"
   ]
  },
  {
   "cell_type": "code",
   "execution_count": null,
   "metadata": {},
   "outputs": [],
   "source": []
  }
 ],
 "metadata": {
  "kernelspec": {
   "display_name": "Python 3",
   "language": "python",
   "name": "python3"
  },
  "language_info": {
   "codemirror_mode": {
    "name": "ipython",
    "version": 3
   },
   "file_extension": ".py",
   "mimetype": "text/x-python",
   "name": "python",
   "nbconvert_exporter": "python",
   "pygments_lexer": "ipython3",
   "version": "3.7.3"
  },
  "toc": {
   "base_numbering": 1,
   "nav_menu": {},
   "number_sections": true,
   "sideBar": true,
   "skip_h1_title": false,
   "title_cell": "Table of Contents",
   "title_sidebar": "Contents",
   "toc_cell": false,
   "toc_position": {},
   "toc_section_display": true,
   "toc_window_display": false
  }
 },
 "nbformat": 4,
 "nbformat_minor": 2
}
